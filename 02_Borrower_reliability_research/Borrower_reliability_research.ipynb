{
 "cells": [
  {
   "cell_type": "markdown",
   "id": "d48f318f",
   "metadata": {
    "id": "d48f318f"
   },
   "source": [
    "# Исследование надежности заемщиков."
   ]
  },
  {
   "cell_type": "markdown",
   "id": "3977ca48",
   "metadata": {},
   "source": [
    "Заказчик — кредитный отдел банка. Заказчик просит разобраться, влияет ли семейное положение и количество детей клиента на факт погашения кредита в срок. Входные данные от банка — статистика о платёжеспособности клиентов.\n",
    "\n",
    "Результаты исследования будут учтены при построении модели кредитного скоринга — специальной системы, которая оценивает способность потенциального заёмщика вернуть кредит банку.\n",
    "\n",
    "\n",
    "Данные, которые содержатся в датасете:\n",
    "```\n",
    "children — количество детей в семье\n",
    "days_employed — общий трудовой стаж в днях\n",
    "dob_years — возраст клиента в годах\n",
    "education — уровень образования клиента\n",
    "education_id — идентификатор уровня образования\n",
    "family_status — семейное положение\n",
    "family_status_id — идентификатор семейного положения\n",
    "gender — пол клиента\n",
    "income_type — тип занятости\n",
    "debt — имел ли задолженность по возврату кредитов\n",
    "total_income — ежемесячный доход\n",
    "purpose — цель получения кредита\n",
    "```\n",
    "\n",
    "Видно, что здесь есть также другие параметры / характеристики клиента - можно посмотреть, как они влияют на платежеспособность.\n",
    "\n",
    "\n",
    "### Содержание \n",
    "<a id=\"back\"></a>\n",
    "\n",
    "- #### [Шаг 1. Обзор данных](#step_1)\n",
    "- #### [Шаг 2. Предобработка данных](#step_2)\n",
    "- #### [Шаг 3. Ответы на вопросы.](#step_3_1)\n",
    "- #### [Общий вывод](#step_4)\n",
    "- ##### [Шаг 2.1 Заполнение пропусков](#step_2_1)\n",
    "- ##### [Шаг 2.2 Проверка данных на аномалии и исправления](#step_2_2)\n",
    "- ##### [Шаг 2.3. Изменение типов данных](#step_2_3)\n",
    "- ##### [Шаг 2.4. Удаление дубликатов](#step_2_4)\n",
    "- ##### [Шаг 2.5. Формирование дополнительных датафреймов словарей, декомпозиция исходного датафрейма](#step_2_5)\n",
    "- ##### [Шаг 2.6. Категоризация дохода](#step_2_6)\n",
    "- ##### [Шаг 2.7. Категоризация целей кредита](#step_2_7)\n",
    "- #### [Ответы на исследовательские вопросы](#step_3_1)\n",
    "- #### [Выводы](#step_4)"
   ]
  },
  {
   "cell_type": "markdown",
   "id": "6d063832",
   "metadata": {
    "id": "6d063832"
   },
   "source": [
    "## Шаг 1. Обзор данных\n",
    "\n",
    " <a id=\"step_1\"></a>\n",
    "\n",
    "[К оглавлению.](#back)"
   ]
  },
  {
   "cell_type": "markdown",
   "id": "Meoa51vwacst",
   "metadata": {
    "id": "Meoa51vwacst"
   },
   "source": [
    "Датасет для колаба сохранён здесь:\n",
    "https://drive.google.com/file/d/16jAh_tQKKdxa7SjQ29lNVaQ8rJI66[...]/view?usp=sharing\n",
    "\n",
    "id для скачивания: 16jAh_tQKKdxa7SjQ29lNVaQ8rJI66[...]\n",
    "\n",
    "++++++++++++++++++++++++++++++++++++++++++++++++++++++++++++\n",
    "\n",
    "Импортируем датасет:"
   ]
  },
  {
   "cell_type": "code",
   "execution_count": 65,
   "id": "1e28eb75",
   "metadata": {
    "colab": {
     "base_uri": "https://localhost:8080/"
    },
    "id": "1e28eb75",
    "outputId": "0b11921c-d794-44b2-89c1-69df8909cb85"
   },
   "outputs": [],
   "source": [
    "import pandas as pd\n",
    "import seaborn as sns\n",
    "import numpy as np\n",
    "\n",
    "from pandas.testing import assert_frame_equal\n",
    "\n",
    "\n",
    "# ! gdown 16jAh_tQKKdxa7SjQ29lNVaQ8rJI66[...]"
   ]
  },
  {
   "cell_type": "markdown",
   "id": "-T0FdoyaRsXO",
   "metadata": {
    "id": "-T0FdoyaRsXO"
   },
   "source": [
    "Посмотрим общую информацию о датасете:"
   ]
  },
  {
   "cell_type": "code",
   "execution_count": 66,
   "id": "foY7MSrua64D",
   "metadata": {
    "colab": {
     "base_uri": "https://localhost:8080/"
    },
    "id": "foY7MSrua64D",
    "outputId": "a55c76d2-16b4-40d8-c441-51924aef657d"
   },
   "outputs": [
    {
     "name": "stdout",
     "output_type": "stream",
     "text": [
      "<class 'pandas.core.frame.DataFrame'>\n",
      "RangeIndex: 21525 entries, 0 to 21524\n",
      "Data columns (total 12 columns):\n",
      " #   Column            Non-Null Count  Dtype  \n",
      "---  ------            --------------  -----  \n",
      " 0   children          21525 non-null  int64  \n",
      " 1   days_employed     19351 non-null  float64\n",
      " 2   dob_years         21525 non-null  int64  \n",
      " 3   education         21525 non-null  object \n",
      " 4   education_id      21525 non-null  int64  \n",
      " 5   family_status     21525 non-null  object \n",
      " 6   family_status_id  21525 non-null  int64  \n",
      " 7   gender            21525 non-null  object \n",
      " 8   income_type       21525 non-null  object \n",
      " 9   debt              21525 non-null  int64  \n",
      " 10  total_income      19351 non-null  float64\n",
      " 11  purpose           21525 non-null  object \n",
      "dtypes: float64(2), int64(5), object(5)\n",
      "memory usage: 2.0+ MB\n",
      "None\n"
     ]
    }
   ],
   "source": [
    "# df = pd.read_csv('/content/data.csv')\n",
    "\n",
    "df = pd.read_csv('/datasets/data.csv')\n",
    "\n",
    "print(df.info())"
   ]
  },
  {
   "cell_type": "markdown",
   "id": "BpAZheiqRp2i",
   "metadata": {
    "id": "BpAZheiqRp2i"
   },
   "source": [
    "Из того, что здесь есть видно, что:\n",
    "* пропущены значения в переменной `days_employed`, а также `total_income`. Обратим внимание, что количество заполненных (и незаполненных ячеек одинаковое для обеих ячеек). Возможно, это как-то связано. Нужно будет проверить.\n",
    "\n",
    "Посмотрим более подробно, какие значения есть в таблице."
   ]
  },
  {
   "cell_type": "code",
   "execution_count": 67,
   "id": "FDWkyVWlTh16",
   "metadata": {
    "colab": {
     "base_uri": "https://localhost:8080/",
     "height": 679
    },
    "id": "FDWkyVWlTh16",
    "outputId": "b5eeafcb-96cd-4141-e687-22feb982341e"
   },
   "outputs": [
    {
     "data": {
      "text/html": [
       "<div>\n",
       "<style scoped>\n",
       "    .dataframe tbody tr th:only-of-type {\n",
       "        vertical-align: middle;\n",
       "    }\n",
       "\n",
       "    .dataframe tbody tr th {\n",
       "        vertical-align: top;\n",
       "    }\n",
       "\n",
       "    .dataframe thead th {\n",
       "        text-align: right;\n",
       "    }\n",
       "</style>\n",
       "<table border=\"1\" class=\"dataframe\">\n",
       "  <thead>\n",
       "    <tr style=\"text-align: right;\">\n",
       "      <th></th>\n",
       "      <th>children</th>\n",
       "      <th>days_employed</th>\n",
       "      <th>dob_years</th>\n",
       "      <th>education</th>\n",
       "      <th>education_id</th>\n",
       "      <th>family_status</th>\n",
       "      <th>family_status_id</th>\n",
       "      <th>gender</th>\n",
       "      <th>income_type</th>\n",
       "      <th>debt</th>\n",
       "      <th>total_income</th>\n",
       "      <th>purpose</th>\n",
       "    </tr>\n",
       "  </thead>\n",
       "  <tbody>\n",
       "    <tr>\n",
       "      <th>0</th>\n",
       "      <td>1</td>\n",
       "      <td>-8437.673028</td>\n",
       "      <td>42</td>\n",
       "      <td>высшее</td>\n",
       "      <td>0</td>\n",
       "      <td>женат / замужем</td>\n",
       "      <td>0</td>\n",
       "      <td>F</td>\n",
       "      <td>сотрудник</td>\n",
       "      <td>0</td>\n",
       "      <td>253875.639453</td>\n",
       "      <td>покупка жилья</td>\n",
       "    </tr>\n",
       "    <tr>\n",
       "      <th>1</th>\n",
       "      <td>1</td>\n",
       "      <td>-4024.803754</td>\n",
       "      <td>36</td>\n",
       "      <td>среднее</td>\n",
       "      <td>1</td>\n",
       "      <td>женат / замужем</td>\n",
       "      <td>0</td>\n",
       "      <td>F</td>\n",
       "      <td>сотрудник</td>\n",
       "      <td>0</td>\n",
       "      <td>112080.014102</td>\n",
       "      <td>приобретение автомобиля</td>\n",
       "    </tr>\n",
       "    <tr>\n",
       "      <th>2</th>\n",
       "      <td>0</td>\n",
       "      <td>-5623.422610</td>\n",
       "      <td>33</td>\n",
       "      <td>Среднее</td>\n",
       "      <td>1</td>\n",
       "      <td>женат / замужем</td>\n",
       "      <td>0</td>\n",
       "      <td>M</td>\n",
       "      <td>сотрудник</td>\n",
       "      <td>0</td>\n",
       "      <td>145885.952297</td>\n",
       "      <td>покупка жилья</td>\n",
       "    </tr>\n",
       "    <tr>\n",
       "      <th>3</th>\n",
       "      <td>3</td>\n",
       "      <td>-4124.747207</td>\n",
       "      <td>32</td>\n",
       "      <td>среднее</td>\n",
       "      <td>1</td>\n",
       "      <td>женат / замужем</td>\n",
       "      <td>0</td>\n",
       "      <td>M</td>\n",
       "      <td>сотрудник</td>\n",
       "      <td>0</td>\n",
       "      <td>267628.550329</td>\n",
       "      <td>дополнительное образование</td>\n",
       "    </tr>\n",
       "    <tr>\n",
       "      <th>4</th>\n",
       "      <td>0</td>\n",
       "      <td>340266.072047</td>\n",
       "      <td>53</td>\n",
       "      <td>среднее</td>\n",
       "      <td>1</td>\n",
       "      <td>гражданский брак</td>\n",
       "      <td>1</td>\n",
       "      <td>F</td>\n",
       "      <td>пенсионер</td>\n",
       "      <td>0</td>\n",
       "      <td>158616.077870</td>\n",
       "      <td>сыграть свадьбу</td>\n",
       "    </tr>\n",
       "    <tr>\n",
       "      <th>...</th>\n",
       "      <td>...</td>\n",
       "      <td>...</td>\n",
       "      <td>...</td>\n",
       "      <td>...</td>\n",
       "      <td>...</td>\n",
       "      <td>...</td>\n",
       "      <td>...</td>\n",
       "      <td>...</td>\n",
       "      <td>...</td>\n",
       "      <td>...</td>\n",
       "      <td>...</td>\n",
       "      <td>...</td>\n",
       "    </tr>\n",
       "    <tr>\n",
       "      <th>21520</th>\n",
       "      <td>1</td>\n",
       "      <td>-4529.316663</td>\n",
       "      <td>43</td>\n",
       "      <td>среднее</td>\n",
       "      <td>1</td>\n",
       "      <td>гражданский брак</td>\n",
       "      <td>1</td>\n",
       "      <td>F</td>\n",
       "      <td>компаньон</td>\n",
       "      <td>0</td>\n",
       "      <td>224791.862382</td>\n",
       "      <td>операции с жильем</td>\n",
       "    </tr>\n",
       "    <tr>\n",
       "      <th>21521</th>\n",
       "      <td>0</td>\n",
       "      <td>343937.404131</td>\n",
       "      <td>67</td>\n",
       "      <td>среднее</td>\n",
       "      <td>1</td>\n",
       "      <td>женат / замужем</td>\n",
       "      <td>0</td>\n",
       "      <td>F</td>\n",
       "      <td>пенсионер</td>\n",
       "      <td>0</td>\n",
       "      <td>155999.806512</td>\n",
       "      <td>сделка с автомобилем</td>\n",
       "    </tr>\n",
       "    <tr>\n",
       "      <th>21522</th>\n",
       "      <td>1</td>\n",
       "      <td>-2113.346888</td>\n",
       "      <td>38</td>\n",
       "      <td>среднее</td>\n",
       "      <td>1</td>\n",
       "      <td>гражданский брак</td>\n",
       "      <td>1</td>\n",
       "      <td>M</td>\n",
       "      <td>сотрудник</td>\n",
       "      <td>1</td>\n",
       "      <td>89672.561153</td>\n",
       "      <td>недвижимость</td>\n",
       "    </tr>\n",
       "    <tr>\n",
       "      <th>21523</th>\n",
       "      <td>3</td>\n",
       "      <td>-3112.481705</td>\n",
       "      <td>38</td>\n",
       "      <td>среднее</td>\n",
       "      <td>1</td>\n",
       "      <td>женат / замужем</td>\n",
       "      <td>0</td>\n",
       "      <td>M</td>\n",
       "      <td>сотрудник</td>\n",
       "      <td>1</td>\n",
       "      <td>244093.050500</td>\n",
       "      <td>на покупку своего автомобиля</td>\n",
       "    </tr>\n",
       "    <tr>\n",
       "      <th>21524</th>\n",
       "      <td>2</td>\n",
       "      <td>-1984.507589</td>\n",
       "      <td>40</td>\n",
       "      <td>среднее</td>\n",
       "      <td>1</td>\n",
       "      <td>женат / замужем</td>\n",
       "      <td>0</td>\n",
       "      <td>F</td>\n",
       "      <td>сотрудник</td>\n",
       "      <td>0</td>\n",
       "      <td>82047.418899</td>\n",
       "      <td>на покупку автомобиля</td>\n",
       "    </tr>\n",
       "  </tbody>\n",
       "</table>\n",
       "<p>21525 rows × 12 columns</p>\n",
       "</div>"
      ],
      "text/plain": [
       "       children  days_employed  dob_years education  education_id  \\\n",
       "0             1   -8437.673028         42    высшее             0   \n",
       "1             1   -4024.803754         36   среднее             1   \n",
       "2             0   -5623.422610         33   Среднее             1   \n",
       "3             3   -4124.747207         32   среднее             1   \n",
       "4             0  340266.072047         53   среднее             1   \n",
       "...         ...            ...        ...       ...           ...   \n",
       "21520         1   -4529.316663         43   среднее             1   \n",
       "21521         0  343937.404131         67   среднее             1   \n",
       "21522         1   -2113.346888         38   среднее             1   \n",
       "21523         3   -3112.481705         38   среднее             1   \n",
       "21524         2   -1984.507589         40   среднее             1   \n",
       "\n",
       "          family_status  family_status_id gender income_type  debt  \\\n",
       "0       женат / замужем                 0      F   сотрудник     0   \n",
       "1       женат / замужем                 0      F   сотрудник     0   \n",
       "2       женат / замужем                 0      M   сотрудник     0   \n",
       "3       женат / замужем                 0      M   сотрудник     0   \n",
       "4      гражданский брак                 1      F   пенсионер     0   \n",
       "...                 ...               ...    ...         ...   ...   \n",
       "21520  гражданский брак                 1      F   компаньон     0   \n",
       "21521   женат / замужем                 0      F   пенсионер     0   \n",
       "21522  гражданский брак                 1      M   сотрудник     1   \n",
       "21523   женат / замужем                 0      M   сотрудник     1   \n",
       "21524   женат / замужем                 0      F   сотрудник     0   \n",
       "\n",
       "        total_income                       purpose  \n",
       "0      253875.639453                 покупка жилья  \n",
       "1      112080.014102       приобретение автомобиля  \n",
       "2      145885.952297                 покупка жилья  \n",
       "3      267628.550329    дополнительное образование  \n",
       "4      158616.077870               сыграть свадьбу  \n",
       "...              ...                           ...  \n",
       "21520  224791.862382             операции с жильем  \n",
       "21521  155999.806512          сделка с автомобилем  \n",
       "21522   89672.561153                  недвижимость  \n",
       "21523  244093.050500  на покупку своего автомобиля  \n",
       "21524   82047.418899         на покупку автомобиля  \n",
       "\n",
       "[21525 rows x 12 columns]"
      ]
     },
     "metadata": {},
     "output_type": "display_data"
    }
   ],
   "source": [
    "display(df)"
   ]
  },
  {
   "cell_type": "markdown",
   "id": "dSFqiCitW58d",
   "metadata": {
    "id": "dSFqiCitW58d"
   },
   "source": [
    "Также из этого обзора видно, что некоторые значения `days_employed` являются отрицательными, что говорит о обишках, которые нужно будет потом исправить."
   ]
  },
  {
   "cell_type": "markdown",
   "id": "0nn8lyutcaJF",
   "metadata": {
    "id": "0nn8lyutcaJF"
   },
   "source": [
    "#### 1.1 Наличие пропусков в таблице\n",
    "\n",
    "Посмотрим, есть ли где-то пропуски в датафрейме:\n",
    "\n",
    "Посчитаем для столбца `days_employed`:"
   ]
  },
  {
   "cell_type": "code",
   "execution_count": 68,
   "id": "0B-3I8oHcwNr",
   "metadata": {
    "colab": {
     "base_uri": "https://localhost:8080/",
     "height": 243
    },
    "id": "0B-3I8oHcwNr",
    "outputId": "007ac6cd-7b50-4d1b-cb5a-786d4862d933"
   },
   "outputs": [
    {
     "data": {
      "text/plain": [
       "children            2174\n",
       "days_employed          0\n",
       "dob_years           2174\n",
       "education           2174\n",
       "education_id        2174\n",
       "family_status       2174\n",
       "family_status_id    2174\n",
       "gender              2174\n",
       "income_type         2174\n",
       "debt                2174\n",
       "total_income           0\n",
       "purpose             2174\n",
       "dtype: int64"
      ]
     },
     "metadata": {},
     "output_type": "display_data"
    }
   ],
   "source": [
    "display(df[df['days_employed'].isna()].count())"
   ]
  },
  {
   "cell_type": "markdown",
   "id": "RHvHYeXD14fj",
   "metadata": {
    "id": "RHvHYeXD14fj"
   },
   "source": [
    "Аналогично посчитаем для столбца `total_income`:"
   ]
  },
  {
   "cell_type": "code",
   "execution_count": 69,
   "id": "Ux4ZxXv_11vv",
   "metadata": {
    "colab": {
     "base_uri": "https://localhost:8080/",
     "height": 243
    },
    "id": "Ux4ZxXv_11vv",
    "outputId": "241d9d9f-2b8f-470b-95d4-8ebf87197a85"
   },
   "outputs": [
    {
     "data": {
      "text/plain": [
       "children            2174\n",
       "days_employed          0\n",
       "dob_years           2174\n",
       "education           2174\n",
       "education_id        2174\n",
       "family_status       2174\n",
       "family_status_id    2174\n",
       "gender              2174\n",
       "income_type         2174\n",
       "debt                2174\n",
       "total_income           0\n",
       "purpose             2174\n",
       "dtype: int64"
      ]
     },
     "metadata": {},
     "output_type": "display_data"
    }
   ],
   "source": [
    "display(df[df['total_income'].isna()].count())"
   ]
  },
  {
   "cell_type": "markdown",
   "id": "jDO8a8w8ejxg",
   "metadata": {
    "id": "jDO8a8w8ejxg"
   },
   "source": [
    "Похоже, что данные в `total_income` отсутствуют там же, где и в столбце `days_emploed`."
   ]
  },
  {
   "cell_type": "markdown",
   "id": "yR6uCLUVz0U8",
   "metadata": {
    "id": "yR6uCLUVz0U8"
   },
   "source": [
    "Проверим для начала, действительно ли эти списки совпадают?"
   ]
  },
  {
   "cell_type": "markdown",
   "id": "OCrV7Erehb55",
   "metadata": {
    "id": "OCrV7Erehb55"
   },
   "source": [
    "Создадим датафрейм `df_nan_total_income`, содержащий только пропуски в `total_income`"
   ]
  },
  {
   "cell_type": "code",
   "execution_count": 70,
   "id": "zIDIQXva0QVY",
   "metadata": {
    "id": "zIDIQXva0QVY"
   },
   "outputs": [],
   "source": [
    "df_nan_total_income = df[df['total_income'].isna()]"
   ]
  },
  {
   "cell_type": "markdown",
   "id": "wT4h57cf0Xpl",
   "metadata": {
    "id": "wT4h57cf0Xpl"
   },
   "source": [
    "Создадим датафрейм `df_nan_days_employed` , содержащий только пропуски в `days_employed`"
   ]
  },
  {
   "cell_type": "code",
   "execution_count": 71,
   "id": "EqKnVwRJ0hkS",
   "metadata": {
    "id": "EqKnVwRJ0hkS"
   },
   "outputs": [],
   "source": [
    "df_nan_days_employed = df[df['days_employed'].isna()]"
   ]
  },
  {
   "cell_type": "markdown",
   "id": "mNJ8807t0q6j",
   "metadata": {
    "id": "mNJ8807t0q6j"
   },
   "source": [
    "И сравним их: "
   ]
  },
  {
   "cell_type": "code",
   "execution_count": 72,
   "id": "Khvu88qD0vHP",
   "metadata": {
    "colab": {
     "base_uri": "https://localhost:8080/"
    },
    "id": "Khvu88qD0vHP",
    "outputId": "cb6e098c-62d3-4792-86db-30faaaf341a0"
   },
   "outputs": [
    {
     "name": "stdout",
     "output_type": "stream",
     "text": [
      "списки идентичны\n"
     ]
    }
   ],
   "source": [
    "try:\n",
    "  assert_frame_equal(df_nan_total_income, df_nan_days_employed)\n",
    "  print('списки идентичны')\n",
    "except:\n",
    "  print('списки НЕидентичны')\n",
    "\n",
    "#print(df_nan_total_income != df_nan_days_employed)"
   ]
  },
  {
   "cell_type": "markdown",
   "id": "PGoHUQHY3CQ9",
   "metadata": {
    "id": "PGoHUQHY3CQ9"
   },
   "source": [
    "Значит, это пропуски встречаются в одних и тех же строчках.\n",
    "\n",
    "Значит, можно в будущем использвать любой из этих списков для анализа"
   ]
  },
  {
   "cell_type": "markdown",
   "id": "htVeV4c3XMDy",
   "metadata": {
    "id": "htVeV4c3XMDy"
   },
   "source": [
    "#### 1.2 Какая доля у пропущенных значений, и можно ли их просто выкинуть?"
   ]
  },
  {
   "cell_type": "markdown",
   "id": "E34d4QNo5OyU",
   "metadata": {
    "id": "E34d4QNo5OyU"
   },
   "source": [
    "Посчитаем, какова доля пропусков делённое к общему количеству строчек. "
   ]
  },
  {
   "cell_type": "code",
   "execution_count": 73,
   "id": "bFS8EomP5Nl2",
   "metadata": {
    "colab": {
     "base_uri": "https://localhost:8080/"
    },
    "id": "bFS8EomP5Nl2",
    "outputId": "4be63082-1e5b-4485-8ad9-db10cb54ff2f"
   },
   "outputs": [
    {
     "name": "stdout",
     "output_type": "stream",
     "text": [
      "10.1%\n"
     ]
    }
   ],
   "source": [
    "print('{:.01%}'.format(df_nan_total_income['children'].count() / df.shape[0]))"
   ]
  },
  {
   "cell_type": "code",
   "execution_count": 74,
   "id": "6736c540",
   "metadata": {},
   "outputs": [
    {
     "data": {
      "text/html": [
       "<style  type=\"text/css\" >\n",
       "#T_ae60f_row0_col0,#T_ae60f_row2_col0,#T_ae60f_row3_col0,#T_ae60f_row4_col0,#T_ae60f_row5_col0,#T_ae60f_row6_col0,#T_ae60f_row7_col0,#T_ae60f_row8_col0,#T_ae60f_row9_col0,#T_ae60f_row11_col0{\n",
       "            background-color:  #3b4cc0;\n",
       "            color:  #f1f1f1;\n",
       "        }#T_ae60f_row1_col0,#T_ae60f_row10_col0{\n",
       "            background-color:  #b40426;\n",
       "            color:  #f1f1f1;\n",
       "        }</style><table id=\"T_ae60f_\" ><thead>    <tr>        <th class=\"blank level0\" ></th>        <th class=\"col_heading level0 col0\" >NaNs, %</th>    </tr></thead><tbody>\n",
       "                <tr>\n",
       "                        <th id=\"T_ae60f_level0_row0\" class=\"row_heading level0 row0\" >children</th>\n",
       "                        <td id=\"T_ae60f_row0_col0\" class=\"data row0 col0\" >0.00</td>\n",
       "            </tr>\n",
       "            <tr>\n",
       "                        <th id=\"T_ae60f_level0_row1\" class=\"row_heading level0 row1\" >days_employed</th>\n",
       "                        <td id=\"T_ae60f_row1_col0\" class=\"data row1 col0\" >10.10</td>\n",
       "            </tr>\n",
       "            <tr>\n",
       "                        <th id=\"T_ae60f_level0_row2\" class=\"row_heading level0 row2\" >dob_years</th>\n",
       "                        <td id=\"T_ae60f_row2_col0\" class=\"data row2 col0\" >0.00</td>\n",
       "            </tr>\n",
       "            <tr>\n",
       "                        <th id=\"T_ae60f_level0_row3\" class=\"row_heading level0 row3\" >education</th>\n",
       "                        <td id=\"T_ae60f_row3_col0\" class=\"data row3 col0\" >0.00</td>\n",
       "            </tr>\n",
       "            <tr>\n",
       "                        <th id=\"T_ae60f_level0_row4\" class=\"row_heading level0 row4\" >education_id</th>\n",
       "                        <td id=\"T_ae60f_row4_col0\" class=\"data row4 col0\" >0.00</td>\n",
       "            </tr>\n",
       "            <tr>\n",
       "                        <th id=\"T_ae60f_level0_row5\" class=\"row_heading level0 row5\" >family_status</th>\n",
       "                        <td id=\"T_ae60f_row5_col0\" class=\"data row5 col0\" >0.00</td>\n",
       "            </tr>\n",
       "            <tr>\n",
       "                        <th id=\"T_ae60f_level0_row6\" class=\"row_heading level0 row6\" >family_status_id</th>\n",
       "                        <td id=\"T_ae60f_row6_col0\" class=\"data row6 col0\" >0.00</td>\n",
       "            </tr>\n",
       "            <tr>\n",
       "                        <th id=\"T_ae60f_level0_row7\" class=\"row_heading level0 row7\" >gender</th>\n",
       "                        <td id=\"T_ae60f_row7_col0\" class=\"data row7 col0\" >0.00</td>\n",
       "            </tr>\n",
       "            <tr>\n",
       "                        <th id=\"T_ae60f_level0_row8\" class=\"row_heading level0 row8\" >income_type</th>\n",
       "                        <td id=\"T_ae60f_row8_col0\" class=\"data row8 col0\" >0.00</td>\n",
       "            </tr>\n",
       "            <tr>\n",
       "                        <th id=\"T_ae60f_level0_row9\" class=\"row_heading level0 row9\" >debt</th>\n",
       "                        <td id=\"T_ae60f_row9_col0\" class=\"data row9 col0\" >0.00</td>\n",
       "            </tr>\n",
       "            <tr>\n",
       "                        <th id=\"T_ae60f_level0_row10\" class=\"row_heading level0 row10\" >total_income</th>\n",
       "                        <td id=\"T_ae60f_row10_col0\" class=\"data row10 col0\" >10.10</td>\n",
       "            </tr>\n",
       "            <tr>\n",
       "                        <th id=\"T_ae60f_level0_row11\" class=\"row_heading level0 row11\" >purpose</th>\n",
       "                        <td id=\"T_ae60f_row11_col0\" class=\"data row11 col0\" >0.00</td>\n",
       "            </tr>\n",
       "    </tbody></table>"
      ],
      "text/plain": [
       "<pandas.io.formats.style.Styler at 0x7fc44f9f5f40>"
      ]
     },
     "metadata": {},
     "output_type": "display_data"
    }
   ],
   "source": [
    "display(pd.DataFrame(round((\n",
    "    df.isna().mean()*100),2), columns=['NaNs, %']).style.format(\n",
    "    '{:.2f}').background_gradient('coolwarm'))"
   ]
  },
  {
   "cell_type": "markdown",
   "id": "eaA1rd6L5lDG",
   "metadata": {
    "id": "eaA1rd6L5lDG"
   },
   "source": [
    "~10% - это много, пренебечь и сбросить эти строчк нельзя - они могут существенно влиять на результат.\n",
    "\n",
    "Поэтому нужно далее посмотреть, в чём причина пропусков?"
   ]
  },
  {
   "cell_type": "markdown",
   "id": "eiIwHvblEzwa",
   "metadata": {
    "id": "eiIwHvblEzwa"
   },
   "source": [
    "#### 1.3 Причины пропусков?"
   ]
  },
  {
   "cell_type": "markdown",
   "id": "2zh8z87rhqFQ",
   "metadata": {
    "id": "2zh8z87rhqFQ"
   },
   "source": [
    "С учётом того, что пропуски встречаются в обоих колонках сразу, то это может быть программная ошибка - какая-то функция одновременно записывает (точнее, НЕ записывает) и `days_employed`, и `total_income`.\n",
    "\n",
    "Если учесть, что согласно описанию:\n",
    "* `days_employed` — общий трудовой стаж в днях\n",
    "* `total_income` — ежемесячный доход\n",
    "\n",
    "То понятно, что если у человека нет трудового стажа, то и рассчитать его ежемесячный доход (который может быть равен доходу за большой преиод времени, например, год, разделённому на стаж) - невозможно, т.к. это получается деление на ноль. \n",
    "\n",
    "Это _гипотеза_, чтобы её проверить, необходимо будет сопоставить несколько показателей:\n",
    "* сколько человек имеют не заполненные поля со стажем `days_employed` и с ежемесячным доходом и `total_income` + возрастом `dob_years`?\n",
    "* сколько человек имеют не заполненные поля со стажем `days_employed` и с ежемесячным доходом и `total_income` + возрастом `income_type`?\n",
    "* сколько человек имеют не заполненные поля со стажем `days_employed` и с ежемесячным доходом и `total_income` + уровнем образования `education`?\n",
    "\n",
    "От этого будет зависеть, каким образом мы будем заполнять эти пропуски. Если трудового стажа вообще нет и поэтому доходов тоже нет, потому что человек не работал, тогда нужно будет оба поля заполнить нулями. Если будут другие причины - тогда нужно будет думать, как ещё можно заполнить эти пропуски?\n",
    "\n",
    "Проверим это и посмолтрим на список пропусками:"
   ]
  },
  {
   "cell_type": "code",
   "execution_count": 75,
   "id": "xU3RjjNFv7hW",
   "metadata": {
    "colab": {
     "base_uri": "https://localhost:8080/",
     "height": 713
    },
    "id": "xU3RjjNFv7hW",
    "outputId": "f398de97-be22-452f-ed6b-c356c12a33e8"
   },
   "outputs": [
    {
     "data": {
      "text/html": [
       "<div>\n",
       "<style scoped>\n",
       "    .dataframe tbody tr th:only-of-type {\n",
       "        vertical-align: middle;\n",
       "    }\n",
       "\n",
       "    .dataframe tbody tr th {\n",
       "        vertical-align: top;\n",
       "    }\n",
       "\n",
       "    .dataframe thead th {\n",
       "        text-align: right;\n",
       "    }\n",
       "</style>\n",
       "<table border=\"1\" class=\"dataframe\">\n",
       "  <thead>\n",
       "    <tr style=\"text-align: right;\">\n",
       "      <th></th>\n",
       "      <th>children</th>\n",
       "      <th>days_employed</th>\n",
       "      <th>dob_years</th>\n",
       "      <th>education</th>\n",
       "      <th>education_id</th>\n",
       "      <th>family_status</th>\n",
       "      <th>family_status_id</th>\n",
       "      <th>gender</th>\n",
       "      <th>income_type</th>\n",
       "      <th>debt</th>\n",
       "      <th>total_income</th>\n",
       "      <th>purpose</th>\n",
       "    </tr>\n",
       "  </thead>\n",
       "  <tbody>\n",
       "    <tr>\n",
       "      <th>12</th>\n",
       "      <td>0</td>\n",
       "      <td>NaN</td>\n",
       "      <td>65</td>\n",
       "      <td>среднее</td>\n",
       "      <td>1</td>\n",
       "      <td>гражданский брак</td>\n",
       "      <td>1</td>\n",
       "      <td>M</td>\n",
       "      <td>пенсионер</td>\n",
       "      <td>0</td>\n",
       "      <td>NaN</td>\n",
       "      <td>сыграть свадьбу</td>\n",
       "    </tr>\n",
       "    <tr>\n",
       "      <th>26</th>\n",
       "      <td>0</td>\n",
       "      <td>NaN</td>\n",
       "      <td>41</td>\n",
       "      <td>среднее</td>\n",
       "      <td>1</td>\n",
       "      <td>женат / замужем</td>\n",
       "      <td>0</td>\n",
       "      <td>M</td>\n",
       "      <td>госслужащий</td>\n",
       "      <td>0</td>\n",
       "      <td>NaN</td>\n",
       "      <td>образование</td>\n",
       "    </tr>\n",
       "    <tr>\n",
       "      <th>29</th>\n",
       "      <td>0</td>\n",
       "      <td>NaN</td>\n",
       "      <td>63</td>\n",
       "      <td>среднее</td>\n",
       "      <td>1</td>\n",
       "      <td>Не женат / не замужем</td>\n",
       "      <td>4</td>\n",
       "      <td>F</td>\n",
       "      <td>пенсионер</td>\n",
       "      <td>0</td>\n",
       "      <td>NaN</td>\n",
       "      <td>строительство жилой недвижимости</td>\n",
       "    </tr>\n",
       "    <tr>\n",
       "      <th>41</th>\n",
       "      <td>0</td>\n",
       "      <td>NaN</td>\n",
       "      <td>50</td>\n",
       "      <td>среднее</td>\n",
       "      <td>1</td>\n",
       "      <td>женат / замужем</td>\n",
       "      <td>0</td>\n",
       "      <td>F</td>\n",
       "      <td>госслужащий</td>\n",
       "      <td>0</td>\n",
       "      <td>NaN</td>\n",
       "      <td>сделка с подержанным автомобилем</td>\n",
       "    </tr>\n",
       "    <tr>\n",
       "      <th>55</th>\n",
       "      <td>0</td>\n",
       "      <td>NaN</td>\n",
       "      <td>54</td>\n",
       "      <td>среднее</td>\n",
       "      <td>1</td>\n",
       "      <td>гражданский брак</td>\n",
       "      <td>1</td>\n",
       "      <td>F</td>\n",
       "      <td>пенсионер</td>\n",
       "      <td>1</td>\n",
       "      <td>NaN</td>\n",
       "      <td>сыграть свадьбу</td>\n",
       "    </tr>\n",
       "    <tr>\n",
       "      <th>...</th>\n",
       "      <td>...</td>\n",
       "      <td>...</td>\n",
       "      <td>...</td>\n",
       "      <td>...</td>\n",
       "      <td>...</td>\n",
       "      <td>...</td>\n",
       "      <td>...</td>\n",
       "      <td>...</td>\n",
       "      <td>...</td>\n",
       "      <td>...</td>\n",
       "      <td>...</td>\n",
       "      <td>...</td>\n",
       "    </tr>\n",
       "    <tr>\n",
       "      <th>21489</th>\n",
       "      <td>2</td>\n",
       "      <td>NaN</td>\n",
       "      <td>47</td>\n",
       "      <td>Среднее</td>\n",
       "      <td>1</td>\n",
       "      <td>женат / замужем</td>\n",
       "      <td>0</td>\n",
       "      <td>M</td>\n",
       "      <td>компаньон</td>\n",
       "      <td>0</td>\n",
       "      <td>NaN</td>\n",
       "      <td>сделка с автомобилем</td>\n",
       "    </tr>\n",
       "    <tr>\n",
       "      <th>21495</th>\n",
       "      <td>1</td>\n",
       "      <td>NaN</td>\n",
       "      <td>50</td>\n",
       "      <td>среднее</td>\n",
       "      <td>1</td>\n",
       "      <td>гражданский брак</td>\n",
       "      <td>1</td>\n",
       "      <td>F</td>\n",
       "      <td>сотрудник</td>\n",
       "      <td>0</td>\n",
       "      <td>NaN</td>\n",
       "      <td>свадьба</td>\n",
       "    </tr>\n",
       "    <tr>\n",
       "      <th>21497</th>\n",
       "      <td>0</td>\n",
       "      <td>NaN</td>\n",
       "      <td>48</td>\n",
       "      <td>ВЫСШЕЕ</td>\n",
       "      <td>0</td>\n",
       "      <td>женат / замужем</td>\n",
       "      <td>0</td>\n",
       "      <td>F</td>\n",
       "      <td>компаньон</td>\n",
       "      <td>0</td>\n",
       "      <td>NaN</td>\n",
       "      <td>строительство недвижимости</td>\n",
       "    </tr>\n",
       "    <tr>\n",
       "      <th>21502</th>\n",
       "      <td>1</td>\n",
       "      <td>NaN</td>\n",
       "      <td>42</td>\n",
       "      <td>среднее</td>\n",
       "      <td>1</td>\n",
       "      <td>женат / замужем</td>\n",
       "      <td>0</td>\n",
       "      <td>F</td>\n",
       "      <td>сотрудник</td>\n",
       "      <td>0</td>\n",
       "      <td>NaN</td>\n",
       "      <td>строительство жилой недвижимости</td>\n",
       "    </tr>\n",
       "    <tr>\n",
       "      <th>21510</th>\n",
       "      <td>2</td>\n",
       "      <td>NaN</td>\n",
       "      <td>28</td>\n",
       "      <td>среднее</td>\n",
       "      <td>1</td>\n",
       "      <td>женат / замужем</td>\n",
       "      <td>0</td>\n",
       "      <td>F</td>\n",
       "      <td>сотрудник</td>\n",
       "      <td>0</td>\n",
       "      <td>NaN</td>\n",
       "      <td>приобретение автомобиля</td>\n",
       "    </tr>\n",
       "  </tbody>\n",
       "</table>\n",
       "<p>2174 rows × 12 columns</p>\n",
       "</div>"
      ],
      "text/plain": [
       "       children  days_employed  dob_years education  education_id  \\\n",
       "12            0            NaN         65   среднее             1   \n",
       "26            0            NaN         41   среднее             1   \n",
       "29            0            NaN         63   среднее             1   \n",
       "41            0            NaN         50   среднее             1   \n",
       "55            0            NaN         54   среднее             1   \n",
       "...         ...            ...        ...       ...           ...   \n",
       "21489         2            NaN         47   Среднее             1   \n",
       "21495         1            NaN         50   среднее             1   \n",
       "21497         0            NaN         48    ВЫСШЕЕ             0   \n",
       "21502         1            NaN         42   среднее             1   \n",
       "21510         2            NaN         28   среднее             1   \n",
       "\n",
       "               family_status  family_status_id gender  income_type  debt  \\\n",
       "12          гражданский брак                 1      M    пенсионер     0   \n",
       "26           женат / замужем                 0      M  госслужащий     0   \n",
       "29     Не женат / не замужем                 4      F    пенсионер     0   \n",
       "41           женат / замужем                 0      F  госслужащий     0   \n",
       "55          гражданский брак                 1      F    пенсионер     1   \n",
       "...                      ...               ...    ...          ...   ...   \n",
       "21489        женат / замужем                 0      M    компаньон     0   \n",
       "21495       гражданский брак                 1      F    сотрудник     0   \n",
       "21497        женат / замужем                 0      F    компаньон     0   \n",
       "21502        женат / замужем                 0      F    сотрудник     0   \n",
       "21510        женат / замужем                 0      F    сотрудник     0   \n",
       "\n",
       "       total_income                           purpose  \n",
       "12              NaN                   сыграть свадьбу  \n",
       "26              NaN                       образование  \n",
       "29              NaN  строительство жилой недвижимости  \n",
       "41              NaN  сделка с подержанным автомобилем  \n",
       "55              NaN                   сыграть свадьбу  \n",
       "...             ...                               ...  \n",
       "21489           NaN              сделка с автомобилем  \n",
       "21495           NaN                           свадьба  \n",
       "21497           NaN        строительство недвижимости  \n",
       "21502           NaN  строительство жилой недвижимости  \n",
       "21510           NaN           приобретение автомобиля  \n",
       "\n",
       "[2174 rows x 12 columns]"
      ]
     },
     "execution_count": 75,
     "metadata": {},
     "output_type": "execute_result"
    }
   ],
   "source": [
    "df_nan_total_income"
   ]
  },
  {
   "cell_type": "markdown",
   "id": "2IL-vt_VxdfB",
   "metadata": {
    "id": "2IL-vt_VxdfB"
   },
   "source": [
    "\n",
    "Таким образом наша гипотеза не подтвердилась - все, у кого есть пропуски в обеих таблицах, имеют: \n",
    "* недетский возраст (`dob_years` > 20) и \n",
    "* тип занятости `income_type`, который свидетельствует о том, что человек всё же работал, \n",
    "* а также законченное образование `education`, в т.ч. высшее\n",
    "\n",
    "поэтому NaN - это ошибка, которую нужно заполнить НЕ нулями.\n"
   ]
  },
  {
   "cell_type": "markdown",
   "id": "zbRRjg3oXjB2",
   "metadata": {
    "id": "zbRRjg3oXjB2"
   },
   "source": [
    "\n",
    "#### 1.4 Почему пропуски заполнять лучше медианным значением?\n",
    "\n",
    "медианное значение является предпочтительным, потому что:\n",
    "* в оно вносит минимальные искажения в выборку для дальнейшего анализа по сравнению с какм-то одним значенеим, особенно если оно сильно больше или меньше крайних значений диапазона (нарпимер, нулём).\n",
    "* также медиана вносит меньше искажений, чем значение среднего арифсетического, т.к. оно также сильно подвержено влиянию экстермально больших или маленьких значений. \n"
   ]
  },
  {
   "cell_type": "markdown",
   "id": "918b5d79",
   "metadata": {
    "id": "918b5d79"
   },
   "source": [
    "## Шаг 2. Предобработка данных.\n",
    " <a id=\"step_2\"></a>\n",
    " \n",
    "### Шаг 2.1 Заполнение пропусков\n",
    "\n",
    "<a id=\"step_2_1\"></a>\n",
    "\n",
    "[К оглавлению.](#back)"
   ]
  },
  {
   "cell_type": "markdown",
   "id": "CfpczRv5IJeU",
   "metadata": {
    "id": "CfpczRv5IJeU"
   },
   "source": [
    "Заполнять пропуски будем медианными значениями, но перед этим нужно проверить и исправить аномальные значения, иначе медиана будет рассчитана неверно.\n",
    "\n",
    "#### Заполнение пропусков для для столбца `days_employed`.\n",
    "\n",
    "<a id=\"days_employed_fillna\"></a>"
   ]
  },
  {
   "cell_type": "code",
   "execution_count": 76,
   "id": "cd85f9f6",
   "metadata": {},
   "outputs": [
    {
     "data": {
      "text/plain": [
       "count     19351.000000\n",
       "mean      63046.497661\n",
       "std      140827.311974\n",
       "min      -18388.949901\n",
       "1%       -10697.267671\n",
       "5%        -6622.968349\n",
       "10%       -4779.926832\n",
       "25%       -2747.423625\n",
       "50%       -1203.369529\n",
       "75%        -291.095954\n",
       "80%        -150.955390\n",
       "81%        -118.328792\n",
       "82%         -81.571681\n",
       "83%      332226.770898\n",
       "84%      336107.977277\n",
       "85%      340088.707327\n",
       "90%      360310.974923\n",
       "95%      380718.999304\n",
       "99%      397588.993236\n",
       "max      401755.400475\n",
       "Name: days_employed, dtype: float64"
      ]
     },
     "execution_count": 76,
     "metadata": {},
     "output_type": "execute_result"
    }
   ],
   "source": [
    "df['days_employed'].describe([.01, 0.05, 0.1, 0.25, 0.5, 0.75, 0.8, 0.81, 0.82, 0.83, 0.84, 0.85, 0.9, 0.95, 0.99])"
   ]
  },
  {
   "cell_type": "code",
   "execution_count": 77,
   "id": "997354a4",
   "metadata": {},
   "outputs": [
    {
     "data": {
      "text/plain": [
       "<AxesSubplot:xlabel='dob_years', ylabel='days_employed'>"
      ]
     },
     "execution_count": 77,
     "metadata": {},
     "output_type": "execute_result"
    },
    {
     "data": {
      "image/png": "[encoded data removed]",
      "text/plain": [
       "<Figure size 432x288 with 1 Axes>"
      ]
     },
     "metadata": {
      "needs_background": "light"
     },
     "output_type": "display_data"
    }
   ],
   "source": [
    "sns.scatterplot(data=df, x=\"dob_years\", y=\"days_employed\") \n",
    "# благодарю коллегу Павла Бундова, который подсказал https://yandex-students.slack.com/archives/C03BH2VL4JG/p1652101325818049?thread_ts=1651474839.835869&cid=C03BH2VL4JG этот способ проверки данных"
   ]
  },
  {
   "cell_type": "markdown",
   "id": "0b92957a",
   "metadata": {},
   "source": [
    "Отсюда видно, что в группе есть 2 аномалии (помимо пропусков):\n",
    "* часть значений - отрицательные. Но они хотя бы выглядят правдоподобно - трудовой стаж здесь складывается в десятки лет. Если так, то здесь будет достаточно изменить знак на противоположный\n",
    "* одна часть значений - в десятки раз больше, чем другая. Возможно, здесь посчитали вместо дней в часах. Если так, то попробуем значения для этой части выборки разделить на 24, чтобы часы перевести в дни. \n",
    "\n",
    "Для начала изменить отрицательные значения на положительные. "
   ]
  },
  {
   "cell_type": "code",
   "execution_count": 78,
   "id": "4d55d38d",
   "metadata": {},
   "outputs": [],
   "source": [
    "df['days_employed'] = df['days_employed'].abs()"
   ]
  },
  {
   "cell_type": "markdown",
   "id": "b90f6266",
   "metadata": {},
   "source": [
    "И посмотрим, изменились ли значения:"
   ]
  },
  {
   "cell_type": "code",
   "execution_count": 79,
   "id": "f9415151",
   "metadata": {},
   "outputs": [
    {
     "data": {
      "text/plain": [
       "<AxesSubplot:xlabel='dob_years', ylabel='days_employed'>"
      ]
     },
     "execution_count": 79,
     "metadata": {},
     "output_type": "execute_result"
    },
    {
     "data": {
      "image/png": "[encoded data removed]",
      "text/plain": [
       "<Figure size 432x288 with 1 Axes>"
      ]
     },
     "metadata": {
      "needs_background": "light"
     },
     "output_type": "display_data"
    }
   ],
   "source": [
    "sns.scatterplot(data=df, x=\"dob_years\", y=\"days_employed\") "
   ]
  },
  {
   "cell_type": "markdown",
   "id": "85cbae3f",
   "metadata": {},
   "source": [
    "Значения изменились. \n",
    "\n",
    "Теперь разделим \"большие\" значения (визуально - больше 300 000) на 24.\n",
    "Напишем функцию, которую потом можно было бы применить к столбцу:"
   ]
  },
  {
   "cell_type": "code",
   "execution_count": 80,
   "id": "c621d623",
   "metadata": {},
   "outputs": [],
   "source": [
    "def correct_days_employed(days):\n",
    "    \"\"\"\n",
    "    Возвращает изменённое значение по правилам:\n",
    "    Тип 1 - входное значение нужно разделить на 275,\n",
    "    Тип 2 - заменить на медиану,\n",
    "    Тип 3 - изменить знак.\n",
    "    \"\"\"\n",
    "    \n",
    "    if days > 300_000:\n",
    "        return days / 275\n",
    "    return (days)"
   ]
  },
  {
   "cell_type": "code",
   "execution_count": 81,
   "id": "7fc36db7",
   "metadata": {},
   "outputs": [],
   "source": [
    "df['days_employed_corrected'] = df['days_employed'].apply(correct_days_employed)"
   ]
  },
  {
   "cell_type": "code",
   "execution_count": 82,
   "id": "cdeef9d2",
   "metadata": {
    "scrolled": true
   },
   "outputs": [
    {
     "data": {
      "text/plain": [
       "<AxesSubplot:xlabel='dob_years', ylabel='days_employed_corrected'>"
      ]
     },
     "execution_count": 82,
     "metadata": {},
     "output_type": "execute_result"
    },
    {
     "data": {
      "image/png": "[encoded data removed]",
      "text/plain": [
       "<Figure size 432x288 with 1 Axes>"
      ]
     },
     "metadata": {
      "needs_background": "light"
     },
     "output_type": "display_data"
    }
   ],
   "source": [
    "sns.scatterplot(data=df, x=\"dob_years\", y=\"days_employed_corrected\") "
   ]
  },
  {
   "cell_type": "markdown",
   "id": "259cc389",
   "metadata": {},
   "source": [
    "Так больше похоже на правду. Теперь можно заполнить пропуски."
   ]
  },
  {
   "cell_type": "markdown",
   "id": "d7d18a17",
   "metadata": {},
   "source": [
    "Ещё раз проверим, что пропуски у нас по прежнему на месте:"
   ]
  },
  {
   "cell_type": "code",
   "execution_count": 83,
   "id": "a67168ad",
   "metadata": {},
   "outputs": [
    {
     "data": {
      "text/html": [
       "<style  type=\"text/css\" >\n",
       "#T_89770_row0_col0,#T_89770_row2_col0,#T_89770_row3_col0,#T_89770_row4_col0,#T_89770_row5_col0,#T_89770_row6_col0,#T_89770_row7_col0,#T_89770_row8_col0,#T_89770_row9_col0,#T_89770_row11_col0{\n",
       "            background-color:  #3b4cc0;\n",
       "            color:  #f1f1f1;\n",
       "        }#T_89770_row1_col0,#T_89770_row10_col0,#T_89770_row12_col0{\n",
       "            background-color:  #b40426;\n",
       "            color:  #f1f1f1;\n",
       "        }</style><table id=\"T_89770_\" ><thead>    <tr>        <th class=\"blank level0\" ></th>        <th class=\"col_heading level0 col0\" >NaNs, %</th>    </tr></thead><tbody>\n",
       "                <tr>\n",
       "                        <th id=\"T_89770_level0_row0\" class=\"row_heading level0 row0\" >children</th>\n",
       "                        <td id=\"T_89770_row0_col0\" class=\"data row0 col0\" >0.00</td>\n",
       "            </tr>\n",
       "            <tr>\n",
       "                        <th id=\"T_89770_level0_row1\" class=\"row_heading level0 row1\" >days_employed</th>\n",
       "                        <td id=\"T_89770_row1_col0\" class=\"data row1 col0\" >10.10</td>\n",
       "            </tr>\n",
       "            <tr>\n",
       "                        <th id=\"T_89770_level0_row2\" class=\"row_heading level0 row2\" >dob_years</th>\n",
       "                        <td id=\"T_89770_row2_col0\" class=\"data row2 col0\" >0.00</td>\n",
       "            </tr>\n",
       "            <tr>\n",
       "                        <th id=\"T_89770_level0_row3\" class=\"row_heading level0 row3\" >education</th>\n",
       "                        <td id=\"T_89770_row3_col0\" class=\"data row3 col0\" >0.00</td>\n",
       "            </tr>\n",
       "            <tr>\n",
       "                        <th id=\"T_89770_level0_row4\" class=\"row_heading level0 row4\" >education_id</th>\n",
       "                        <td id=\"T_89770_row4_col0\" class=\"data row4 col0\" >0.00</td>\n",
       "            </tr>\n",
       "            <tr>\n",
       "                        <th id=\"T_89770_level0_row5\" class=\"row_heading level0 row5\" >family_status</th>\n",
       "                        <td id=\"T_89770_row5_col0\" class=\"data row5 col0\" >0.00</td>\n",
       "            </tr>\n",
       "            <tr>\n",
       "                        <th id=\"T_89770_level0_row6\" class=\"row_heading level0 row6\" >family_status_id</th>\n",
       "                        <td id=\"T_89770_row6_col0\" class=\"data row6 col0\" >0.00</td>\n",
       "            </tr>\n",
       "            <tr>\n",
       "                        <th id=\"T_89770_level0_row7\" class=\"row_heading level0 row7\" >gender</th>\n",
       "                        <td id=\"T_89770_row7_col0\" class=\"data row7 col0\" >0.00</td>\n",
       "            </tr>\n",
       "            <tr>\n",
       "                        <th id=\"T_89770_level0_row8\" class=\"row_heading level0 row8\" >income_type</th>\n",
       "                        <td id=\"T_89770_row8_col0\" class=\"data row8 col0\" >0.00</td>\n",
       "            </tr>\n",
       "            <tr>\n",
       "                        <th id=\"T_89770_level0_row9\" class=\"row_heading level0 row9\" >debt</th>\n",
       "                        <td id=\"T_89770_row9_col0\" class=\"data row9 col0\" >0.00</td>\n",
       "            </tr>\n",
       "            <tr>\n",
       "                        <th id=\"T_89770_level0_row10\" class=\"row_heading level0 row10\" >total_income</th>\n",
       "                        <td id=\"T_89770_row10_col0\" class=\"data row10 col0\" >10.10</td>\n",
       "            </tr>\n",
       "            <tr>\n",
       "                        <th id=\"T_89770_level0_row11\" class=\"row_heading level0 row11\" >purpose</th>\n",
       "                        <td id=\"T_89770_row11_col0\" class=\"data row11 col0\" >0.00</td>\n",
       "            </tr>\n",
       "            <tr>\n",
       "                        <th id=\"T_89770_level0_row12\" class=\"row_heading level0 row12\" >days_employed_corrected</th>\n",
       "                        <td id=\"T_89770_row12_col0\" class=\"data row12 col0\" >10.10</td>\n",
       "            </tr>\n",
       "    </tbody></table>"
      ],
      "text/plain": [
       "<pandas.io.formats.style.Styler at 0x7fc44f90f940>"
      ]
     },
     "metadata": {},
     "output_type": "display_data"
    }
   ],
   "source": [
    "display(pd.DataFrame(round((\n",
    "    df.isna().mean()*100),2), columns=['NaNs, %']).style.format(\n",
    "    '{:.2f}').background_gradient('coolwarm'))"
   ]
  },
  {
   "cell_type": "markdown",
   "id": "752d7c54",
   "metadata": {},
   "source": [
    "**Теперь вопрос - как можно заполнить пропуски?**\n",
    "\n",
    "Очевидный ответ - заполнить их медианным значением. Но это будет некорректно, т.к. медианное значение применится _ко всем_ людям, а это не вполне корректно, т.к. возрастные люди будут иметь тот же стаж, что и молодые, которые только начали работать.\n",
    "\n",
    "Поэтому правильнее заполнять пропуски с учётом возраста. Как это можно сделать?\n",
    "\n",
    "**Вариант 1. По формуле.**\n",
    "\n",
    "По графику видно, что зависимость стажа от возраста - линейная. А по крайним точкам можно грубо прикинуть, что:\n",
    "- работать начинают самое раннее в 13...15 лет,\n",
    "- кредиты начинаю давать в 18 лет, поэтому эти люди не отражены в статистике,\n",
    "- максимальный стаж в 18 лет - ок. 1000 дней,\n",
    "- максимальный стаж для 50 лет - ок 12500 дней.\n",
    "\n",
    "Тогда зависимость максимального стажа от возраста будет:\n",
    "\n",
    "`СТАЖ = a * возраст + b`\n",
    "\n",
    "Максимальный стаж для 18 лет -  1 000 часов\n",
    "Максимальный стаж для 50 лет - 12 500 часов\n",
    "\n",
    "Решив систему уравнений, получим, что \n",
    "`МАКС_СТАЖ = 360 * возраст - 5480`\n",
    "\n",
    "При этом нужно понимать, что медианное значение будет меньше максимального. Но насколько - это гадание. Поэтому вариант не очень хороший. \n",
    "\n",
    "**Вариант 2. Медианой по возрастной группе.**\n",
    "\n",
    "Для этого напишем функцию, которая разобъёт всех по возрастным подкатегориям."
   ]
  },
  {
   "cell_type": "code",
   "execution_count": 84,
   "id": "c52fe84a",
   "metadata": {},
   "outputs": [],
   "source": [
    "def age_cat(age):\n",
    "    \"\"\"\n",
    "    Возвращает возрастную группу по значению возраста age, используя правила:\n",
    "    - '19-25',\n",
    "    - '25-30',\n",
    "    - '30-40',\n",
    "    - '40-50',\n",
    "    - '50-60',\n",
    "    - '60-70',\n",
    "    - '70-80'\n",
    "    \"\"\"\n",
    "    \n",
    "    if 19 <= age < 25:\n",
    "        return '19-25'\n",
    "    if 25 <= age < 30:\n",
    "        return '25-30'\n",
    "    if 30 <= age < 40:\n",
    "        return '30-40'\n",
    "    if 40 <= age < 50:\n",
    "        return '40-50'\n",
    "    if 50 <= age < 60:\n",
    "        return '50-60'\n",
    "    if 60 <= age < 70:\n",
    "        return '60-70'\n",
    "    if 70 <= age < 80:\n",
    "        return '70-80'\n",
    "    return 'возрастная группа кривая!'\n",
    "    "
   ]
  },
  {
   "cell_type": "code",
   "execution_count": 85,
   "id": "426452ce",
   "metadata": {},
   "outputs": [
    {
     "data": {
      "text/plain": [
       "30-40                        5674\n",
       "40-50                        5371\n",
       "50-60                        4679\n",
       "60-70                        2346\n",
       "25-30                        2306\n",
       "19-25                         877\n",
       "70-80                         171\n",
       "возрастная группа кривая!     101\n",
       "Name: age_category, dtype: int64"
      ]
     },
     "execution_count": 85,
     "metadata": {},
     "output_type": "execute_result"
    }
   ],
   "source": [
    "df['age_category'] = df['dob_years'].apply(age_cat)\n",
    "df['age_category'].value_counts()"
   ]
  },
  {
   "cell_type": "markdown",
   "id": "20b833f4",
   "metadata": {},
   "source": [
    "Видим, что одна возрастная группа кривая. Обработаем её позже. "
   ]
  },
  {
   "cell_type": "markdown",
   "id": "f22bc578",
   "metadata": {},
   "source": [
    "Теперь посчитаем медианное значение для каждой группы:"
   ]
  },
  {
   "cell_type": "code",
   "execution_count": 86,
   "id": "aa84dfe9",
   "metadata": {},
   "outputs": [
    {
     "data": {
      "text/plain": [
       "age_category\n",
       "19-25                         744.542130\n",
       "25-30                        1133.394429\n",
       "30-40                        1579.887451\n",
       "40-50                        1943.965054\n",
       "50-60                        1399.423605\n",
       "60-70                        1343.673680\n",
       "70-80                        1344.496098\n",
       "возрастная группа кривая!    1371.207222\n",
       "Name: days_employed_corrected, dtype: float64"
      ]
     },
     "metadata": {},
     "output_type": "display_data"
    }
   ],
   "source": [
    "display(df.groupby('age_category')['days_employed_corrected'].median())"
   ]
  },
  {
   "cell_type": "markdown",
   "id": "77f505bd",
   "metadata": {},
   "source": [
    "<a id=\"101\"></a>\n",
    "\n",
    "101 человек имеет аномалии в возрасте. Исправим это."
   ]
  },
  {
   "cell_type": "code",
   "execution_count": 87,
   "id": "45311138",
   "metadata": {},
   "outputs": [
    {
     "data": {
      "text/plain": [
       "35    617\n",
       "40    609\n",
       "41    607\n",
       "34    603\n",
       "38    598\n",
       "42    597\n",
       "33    581\n",
       "39    573\n",
       "31    560\n",
       "36    555\n",
       "44    547\n",
       "29    545\n",
       "30    540\n",
       "48    538\n",
       "37    537\n",
       "50    514\n",
       "43    513\n",
       "32    510\n",
       "49    508\n",
       "28    503\n",
       "45    497\n",
       "27    493\n",
       "56    487\n",
       "52    484\n",
       "47    480\n",
       "54    479\n",
       "46    475\n",
       "58    461\n",
       "57    460\n",
       "53    459\n",
       "51    448\n",
       "59    444\n",
       "55    443\n",
       "26    408\n",
       "60    377\n",
       "25    357\n",
       "61    355\n",
       "62    352\n",
       "63    269\n",
       "64    265\n",
       "24    264\n",
       "23    254\n",
       "65    194\n",
       "66    183\n",
       "22    183\n",
       "67    167\n",
       "21    111\n",
       "0     101\n",
       "68     99\n",
       "69     85\n",
       "70     65\n",
       "71     58\n",
       "20     51\n",
       "72     33\n",
       "19     14\n",
       "73      8\n",
       "74      6\n",
       "75      1\n",
       "Name: dob_years, dtype: int64"
      ]
     },
     "execution_count": 87,
     "metadata": {},
     "output_type": "execute_result"
    }
   ],
   "source": [
    "df['dob_years'].value_counts()"
   ]
  },
  {
   "cell_type": "markdown",
   "id": "5cfa19cc",
   "metadata": {},
   "source": [
    "Посмотрим, как распределены пропуски по семейному статусу:"
   ]
  },
  {
   "cell_type": "code",
   "execution_count": 88,
   "id": "c9d89c87",
   "metadata": {},
   "outputs": [
    {
     "data": {
      "text/plain": [
       "женат / замужем          49\n",
       "гражданский брак         21\n",
       "Не женат / не замужем    16\n",
       "в разводе                10\n",
       "вдовец / вдова            5\n",
       "Name: family_status, dtype: int64"
      ]
     },
     "execution_count": 88,
     "metadata": {},
     "output_type": "execute_result"
    }
   ],
   "source": [
    "df.loc[df['dob_years'] == 0][:]['family_status'].value_counts()"
   ]
  },
  {
   "cell_type": "markdown",
   "id": "738269d3",
   "metadata": {},
   "source": [
    "Аналогично посмотрим, как распеределеным пропуски по источнику дохода:"
   ]
  },
  {
   "cell_type": "code",
   "execution_count": 89,
   "id": "1ab2cc2f",
   "metadata": {},
   "outputs": [
    {
     "data": {
      "text/plain": [
       "сотрудник      55\n",
       "компаньон      20\n",
       "пенсионер      20\n",
       "госслужащий     6\n",
       "Name: income_type, dtype: int64"
      ]
     },
     "execution_count": 89,
     "metadata": {},
     "output_type": "execute_result"
    }
   ],
   "source": [
    "df.loc[df['dob_years'] == 0][:]['income_type'].value_counts()"
   ]
  },
  {
   "cell_type": "markdown",
   "id": "b5bcbe0d",
   "metadata": {},
   "source": [
    "Вычислим медиану по возрасту в разных группах по семейному положению и источнику дохода:"
   ]
  },
  {
   "cell_type": "code",
   "execution_count": 90,
   "id": "fb29b46d",
   "metadata": {},
   "outputs": [
    {
     "data": {
      "text/plain": [
       "family_status\n",
       "Не женат / не замужем    36\n",
       "в разводе                46\n",
       "вдовец / вдова           58\n",
       "гражданский брак         41\n",
       "женат / замужем          43\n",
       "Name: dob_years, dtype: int64"
      ]
     },
     "execution_count": 90,
     "metadata": {},
     "output_type": "execute_result"
    }
   ],
   "source": [
    "df.groupby('family_status')['dob_years'].median()"
   ]
  },
  {
   "cell_type": "code",
   "execution_count": 91,
   "id": "7c8caa8a",
   "metadata": {},
   "outputs": [
    {
     "data": {
      "text/plain": [
       "income_type\n",
       "безработный        38.0\n",
       "в декрете          39.0\n",
       "госслужащий        40.0\n",
       "компаньон          39.0\n",
       "пенсионер          60.0\n",
       "предприниматель    42.5\n",
       "сотрудник          39.0\n",
       "студент            22.0\n",
       "Name: dob_years, dtype: float64"
      ]
     },
     "execution_count": 91,
     "metadata": {},
     "output_type": "execute_result"
    }
   ],
   "source": [
    "df.groupby('income_type')['dob_years'].median()"
   ]
  },
  {
   "cell_type": "markdown",
   "id": "2bbe1247",
   "metadata": {},
   "source": [
    "Более точную разбивку позволит сделать медиана по типу дохода.\n",
    "\n",
    "Напишем функцию, которая заменит пропуски на медианные значения в своей группе по типу дохода:"
   ]
  },
  {
   "cell_type": "code",
   "execution_count": 92,
   "id": "6a24267b",
   "metadata": {},
   "outputs": [],
   "source": [
    "def dob_years_fill(row):\n",
    "    if int(row['dob_years']) == 0:\n",
    "        if row['income_type'] == 'сотрудник':\n",
    "            return 39\n",
    "        elif row['income_type'] == 'пенсионер':\n",
    "            return 60\n",
    "        elif row['income_type'] == 'компаньон':\n",
    "            return 39\n",
    "        elif row['income_type'] == 'госслужащий':\n",
    "            return 40\n",
    "    return row['dob_years']"
   ]
  },
  {
   "cell_type": "markdown",
   "id": "d7a10180",
   "metadata": {},
   "source": [
    "Применим функцию к датафрейму:"
   ]
  },
  {
   "cell_type": "code",
   "execution_count": 93,
   "id": "1f7729ec",
   "metadata": {},
   "outputs": [],
   "source": [
    "df['dob_years'] = df.apply(dob_years_fill, axis=1)"
   ]
  },
  {
   "cell_type": "markdown",
   "id": "76527bc8",
   "metadata": {},
   "source": [
    "Проверим, ушли ли некорректные значения значения."
   ]
  },
  {
   "cell_type": "code",
   "execution_count": 94,
   "id": "af11bdcf",
   "metadata": {},
   "outputs": [
    {
     "data": {
      "text/plain": [
       "39    648\n",
       "35    617\n",
       "40    615\n",
       "41    607\n",
       "34    603\n",
       "38    598\n",
       "42    597\n",
       "33    581\n",
       "31    560\n",
       "36    555\n",
       "44    547\n",
       "29    545\n",
       "30    540\n",
       "48    538\n",
       "37    537\n",
       "50    514\n",
       "43    513\n",
       "32    510\n",
       "49    508\n",
       "28    503\n",
       "45    497\n",
       "27    493\n",
       "56    487\n",
       "52    484\n",
       "47    480\n",
       "54    479\n",
       "46    475\n",
       "58    461\n",
       "57    460\n",
       "53    459\n",
       "51    448\n",
       "59    444\n",
       "55    443\n",
       "26    408\n",
       "60    397\n",
       "25    357\n",
       "61    355\n",
       "62    352\n",
       "63    269\n",
       "64    265\n",
       "24    264\n",
       "23    254\n",
       "65    194\n",
       "22    183\n",
       "66    183\n",
       "67    167\n",
       "21    111\n",
       "68     99\n",
       "69     85\n",
       "70     65\n",
       "71     58\n",
       "20     51\n",
       "72     33\n",
       "19     14\n",
       "73      8\n",
       "74      6\n",
       "75      1\n",
       "Name: dob_years, dtype: int64"
      ]
     },
     "execution_count": 94,
     "metadata": {},
     "output_type": "execute_result"
    }
   ],
   "source": [
    "df['dob_years'] = df['dob_years'].replace(0, 35) \n",
    "df['dob_years'].value_counts()"
   ]
  },
  {
   "cell_type": "markdown",
   "id": "8e1f32f3",
   "metadata": {},
   "source": [
    "Некорректные данные ушли.\n",
    "\n",
    "Заодно посмотрим, как выглядит распределение возраст х стаж:"
   ]
  },
  {
   "cell_type": "code",
   "execution_count": 95,
   "id": "679b70c4",
   "metadata": {},
   "outputs": [
    {
     "data": {
      "text/plain": [
       "<AxesSubplot:xlabel='dob_years', ylabel='days_employed_corrected'>"
      ]
     },
     "execution_count": 95,
     "metadata": {},
     "output_type": "execute_result"
    },
    {
     "data": {
      "image/png": "[encoded data removed]",
      "text/plain": [
       "<Figure size 432x288 with 1 Axes>"
      ]
     },
     "metadata": {
      "needs_background": "light"
     },
     "output_type": "display_data"
    }
   ],
   "source": [
    "sns.scatterplot(data=df, x=\"dob_years\", y=\"days_employed_corrected\") "
   ]
  },
  {
   "cell_type": "markdown",
   "id": "387296b5",
   "metadata": {},
   "source": [
    "Выглядит правдоподобно.\n",
    "\n",
    "Ещё раз формируем категории по возрасту:"
   ]
  },
  {
   "cell_type": "code",
   "execution_count": 96,
   "id": "0945ba36",
   "metadata": {},
   "outputs": [
    {
     "data": {
      "text/plain": [
       "age_category  age_category\n",
       "19-25         19-25            877\n",
       "25-30         25-30           2306\n",
       "30-40         30-40           5749\n",
       "40-50         40-50           5377\n",
       "50-60         50-60           4679\n",
       "60-70         60-70           2366\n",
       "70-80         70-80            171\n",
       "Name: age_category, dtype: int64"
      ]
     },
     "execution_count": 96,
     "metadata": {},
     "output_type": "execute_result"
    }
   ],
   "source": [
    "df['age_category'] = df['dob_years'].apply(age_cat)\n",
    "df.groupby('age_category')['age_category'].value_counts()"
   ]
  },
  {
   "cell_type": "markdown",
   "id": "dec8fb30",
   "metadata": {},
   "source": [
    "Пересчитаем меданные значения для каждой группы:"
   ]
  },
  {
   "cell_type": "code",
   "execution_count": 97,
   "id": "bd337a60",
   "metadata": {},
   "outputs": [
    {
     "data": {
      "text/plain": [
       "age_category\n",
       "19-25     744.542130\n",
       "25-30    1133.394429\n",
       "30-40    1576.404199\n",
       "40-50    1945.346143\n",
       "50-60    1399.423605\n",
       "60-70    1343.161647\n",
       "70-80    1344.496098\n",
       "Name: days_employed_corrected, dtype: float64"
      ]
     },
     "metadata": {},
     "output_type": "display_data"
    }
   ],
   "source": [
    "display(df.groupby('age_category')['days_employed_corrected'].median())"
   ]
  },
  {
   "cell_type": "markdown",
   "id": "3813fda7",
   "metadata": {},
   "source": [
    "Отметим, что медианное значение стажа достаточно маленькое для возрастных людей, при том, что у многих из них есть только начальное образование. \n",
    "Крестьяне?"
   ]
  },
  {
   "cell_type": "markdown",
   "id": "8345b193",
   "metadata": {},
   "source": [
    "Т.к. тут не понятно, как заменить NaN на медианные значения стандартными средствами pandas (`fillna()` не подходит), то напишем функцию, которая это делает."
   ]
  },
  {
   "cell_type": "code",
   "execution_count": 98,
   "id": "bf1b061f",
   "metadata": {},
   "outputs": [],
   "source": [
    "def days_employed_fillna(row):\n",
    "    if np.isnan(row['days_employed_corrected']):\n",
    "        if row['age_category'] == '19-25':\n",
    "            return 744\n",
    "        elif row['age_category'] == '25-30':\n",
    "            return 1133\n",
    "        elif row['age_category'] == '30-40':\n",
    "            return 1576\n",
    "        elif row['age_category'] == '40-50':\n",
    "            return 1945\n",
    "        elif row['age_category'] == '50-60':\n",
    "            return 1399\n",
    "        elif row['age_category'] == '60-70':\n",
    "            return 1343\n",
    "        elif row['age_category'] == '70-80':\n",
    "            return 1344\n",
    "    else:\n",
    "        return row['days_employed_corrected']"
   ]
  },
  {
   "cell_type": "markdown",
   "id": "16cd19db",
   "metadata": {},
   "source": [
    "Применим эту функцию к датафрейму и получим обновлённый стобец `days_employed_corrected`:"
   ]
  },
  {
   "cell_type": "code",
   "execution_count": 99,
   "id": "e2b7c0b1",
   "metadata": {},
   "outputs": [],
   "source": [
    "df['days_employed_corrected'] = df.apply(days_employed_fillna, axis=1)"
   ]
  },
  {
   "cell_type": "code",
   "execution_count": 100,
   "id": "8fc46bc1",
   "metadata": {},
   "outputs": [
    {
     "data": {
      "text/html": [
       "<style  type=\"text/css\" >\n",
       "#T_f7676_row0_col0,#T_f7676_row2_col0,#T_f7676_row3_col0,#T_f7676_row4_col0,#T_f7676_row5_col0,#T_f7676_row6_col0,#T_f7676_row7_col0,#T_f7676_row8_col0,#T_f7676_row9_col0,#T_f7676_row11_col0,#T_f7676_row12_col0,#T_f7676_row13_col0{\n",
       "            background-color:  #3b4cc0;\n",
       "            color:  #f1f1f1;\n",
       "        }#T_f7676_row1_col0,#T_f7676_row10_col0{\n",
       "            background-color:  #b40426;\n",
       "            color:  #f1f1f1;\n",
       "        }</style><table id=\"T_f7676_\" ><thead>    <tr>        <th class=\"blank level0\" ></th>        <th class=\"col_heading level0 col0\" >NaNs, %</th>    </tr></thead><tbody>\n",
       "                <tr>\n",
       "                        <th id=\"T_f7676_level0_row0\" class=\"row_heading level0 row0\" >children</th>\n",
       "                        <td id=\"T_f7676_row0_col0\" class=\"data row0 col0\" >0.00</td>\n",
       "            </tr>\n",
       "            <tr>\n",
       "                        <th id=\"T_f7676_level0_row1\" class=\"row_heading level0 row1\" >days_employed</th>\n",
       "                        <td id=\"T_f7676_row1_col0\" class=\"data row1 col0\" >10.10</td>\n",
       "            </tr>\n",
       "            <tr>\n",
       "                        <th id=\"T_f7676_level0_row2\" class=\"row_heading level0 row2\" >dob_years</th>\n",
       "                        <td id=\"T_f7676_row2_col0\" class=\"data row2 col0\" >0.00</td>\n",
       "            </tr>\n",
       "            <tr>\n",
       "                        <th id=\"T_f7676_level0_row3\" class=\"row_heading level0 row3\" >education</th>\n",
       "                        <td id=\"T_f7676_row3_col0\" class=\"data row3 col0\" >0.00</td>\n",
       "            </tr>\n",
       "            <tr>\n",
       "                        <th id=\"T_f7676_level0_row4\" class=\"row_heading level0 row4\" >education_id</th>\n",
       "                        <td id=\"T_f7676_row4_col0\" class=\"data row4 col0\" >0.00</td>\n",
       "            </tr>\n",
       "            <tr>\n",
       "                        <th id=\"T_f7676_level0_row5\" class=\"row_heading level0 row5\" >family_status</th>\n",
       "                        <td id=\"T_f7676_row5_col0\" class=\"data row5 col0\" >0.00</td>\n",
       "            </tr>\n",
       "            <tr>\n",
       "                        <th id=\"T_f7676_level0_row6\" class=\"row_heading level0 row6\" >family_status_id</th>\n",
       "                        <td id=\"T_f7676_row6_col0\" class=\"data row6 col0\" >0.00</td>\n",
       "            </tr>\n",
       "            <tr>\n",
       "                        <th id=\"T_f7676_level0_row7\" class=\"row_heading level0 row7\" >gender</th>\n",
       "                        <td id=\"T_f7676_row7_col0\" class=\"data row7 col0\" >0.00</td>\n",
       "            </tr>\n",
       "            <tr>\n",
       "                        <th id=\"T_f7676_level0_row8\" class=\"row_heading level0 row8\" >income_type</th>\n",
       "                        <td id=\"T_f7676_row8_col0\" class=\"data row8 col0\" >0.00</td>\n",
       "            </tr>\n",
       "            <tr>\n",
       "                        <th id=\"T_f7676_level0_row9\" class=\"row_heading level0 row9\" >debt</th>\n",
       "                        <td id=\"T_f7676_row9_col0\" class=\"data row9 col0\" >0.00</td>\n",
       "            </tr>\n",
       "            <tr>\n",
       "                        <th id=\"T_f7676_level0_row10\" class=\"row_heading level0 row10\" >total_income</th>\n",
       "                        <td id=\"T_f7676_row10_col0\" class=\"data row10 col0\" >10.10</td>\n",
       "            </tr>\n",
       "            <tr>\n",
       "                        <th id=\"T_f7676_level0_row11\" class=\"row_heading level0 row11\" >purpose</th>\n",
       "                        <td id=\"T_f7676_row11_col0\" class=\"data row11 col0\" >0.00</td>\n",
       "            </tr>\n",
       "            <tr>\n",
       "                        <th id=\"T_f7676_level0_row12\" class=\"row_heading level0 row12\" >days_employed_corrected</th>\n",
       "                        <td id=\"T_f7676_row12_col0\" class=\"data row12 col0\" >0.00</td>\n",
       "            </tr>\n",
       "            <tr>\n",
       "                        <th id=\"T_f7676_level0_row13\" class=\"row_heading level0 row13\" >age_category</th>\n",
       "                        <td id=\"T_f7676_row13_col0\" class=\"data row13 col0\" >0.00</td>\n",
       "            </tr>\n",
       "    </tbody></table>"
      ],
      "text/plain": [
       "<pandas.io.formats.style.Styler at 0x7fc447498f10>"
      ]
     },
     "metadata": {},
     "output_type": "display_data"
    }
   ],
   "source": [
    "display(pd.DataFrame(round((\n",
    "    df.isna().mean()*100),2), columns=['NaNs, %']).style.format(\n",
    "    '{:.2f}').background_gradient('coolwarm'))"
   ]
  },
  {
   "cell_type": "markdown",
   "id": "7dcda348",
   "metadata": {},
   "source": [
    "Ок, пропусков в `days_employed_corrected` не осталось.\n",
    "\n",
    "Столбец `days_employed` удалим."
   ]
  },
  {
   "cell_type": "code",
   "execution_count": 101,
   "id": "e5c4a4d1",
   "metadata": {},
   "outputs": [],
   "source": [
    "df = df.drop('days_employed', 1)"
   ]
  },
  {
   "cell_type": "code",
   "execution_count": 102,
   "id": "771f9089",
   "metadata": {},
   "outputs": [
    {
     "name": "stdout",
     "output_type": "stream",
     "text": [
      "<class 'pandas.core.frame.DataFrame'>\n",
      "RangeIndex: 21525 entries, 0 to 21524\n",
      "Data columns (total 13 columns):\n",
      " #   Column                   Non-Null Count  Dtype  \n",
      "---  ------                   --------------  -----  \n",
      " 0   children                 21525 non-null  int64  \n",
      " 1   dob_years                21525 non-null  int64  \n",
      " 2   education                21525 non-null  object \n",
      " 3   education_id             21525 non-null  int64  \n",
      " 4   family_status            21525 non-null  object \n",
      " 5   family_status_id         21525 non-null  int64  \n",
      " 6   gender                   21525 non-null  object \n",
      " 7   income_type              21525 non-null  object \n",
      " 8   debt                     21525 non-null  int64  \n",
      " 9   total_income             19351 non-null  float64\n",
      " 10  purpose                  21525 non-null  object \n",
      " 11  days_employed_corrected  21525 non-null  float64\n",
      " 12  age_category             21525 non-null  object \n",
      "dtypes: float64(2), int64(5), object(6)\n",
      "memory usage: 2.1+ MB\n"
     ]
    }
   ],
   "source": [
    "df.info()"
   ]
  },
  {
   "cell_type": "markdown",
   "id": "SQ7ljTSUIiaD",
   "metadata": {
    "id": "SQ7ljTSUIiaD"
   },
   "source": [
    "#### Заполняем пропуски  столбца`total_income`"
   ]
  },
  {
   "cell_type": "markdown",
   "id": "0rEvoWb0JQ0C",
   "metadata": {
    "id": "0rEvoWb0JQ0C"
   },
   "source": [
    "Заполним пропуски медианными значениями в зависимости от `income_type`. \n",
    "Для этого посчитаем медианы `total_income` в зависимости от `income_type`."
   ]
  },
  {
   "cell_type": "code",
   "execution_count": 103,
   "id": "2274797f",
   "metadata": {},
   "outputs": [
    {
     "data": {
      "text/plain": [
       "сотрудник          11119\n",
       "компаньон           5085\n",
       "пенсионер           3856\n",
       "госслужащий         1459\n",
       "предприниматель        2\n",
       "безработный            2\n",
       "в декрете              1\n",
       "студент                1\n",
       "Name: income_type, dtype: int64"
      ]
     },
     "execution_count": 103,
     "metadata": {},
     "output_type": "execute_result"
    }
   ],
   "source": [
    "df['income_type'].value_counts()"
   ]
  },
  {
   "cell_type": "code",
   "execution_count": 104,
   "id": "e2109927",
   "metadata": {},
   "outputs": [
    {
     "data": {
      "text/plain": [
       "income_type\n",
       "безработный        131339.751676\n",
       "в декрете           53829.130729\n",
       "госслужащий        150447.935283\n",
       "компаньон          172357.950966\n",
       "пенсионер          118514.486412\n",
       "предприниматель    499163.144947\n",
       "сотрудник          142594.396847\n",
       "студент             98201.625314\n",
       "Name: total_income, dtype: float64"
      ]
     },
     "execution_count": 104,
     "metadata": {},
     "output_type": "execute_result"
    }
   ],
   "source": [
    "df.groupby('income_type')['total_income'].median()"
   ]
  },
  {
   "cell_type": "markdown",
   "id": "ee84f0d8",
   "metadata": {},
   "source": [
    "Напишем функцию, которая будет заполнять NaN в `total_income` в зависимости от `income_type`."
   ]
  },
  {
   "cell_type": "code",
   "execution_count": 105,
   "id": "e14bbe73",
   "metadata": {},
   "outputs": [],
   "source": [
    "def total_incom_fillna(row):\n",
    "    if np.isnan(row['total_income']):\n",
    "        if row['income_type'] == 'госслужащий':\n",
    "            return 150447.935283\n",
    "        elif row['income_type'] == 'пенсионер':\n",
    "            return 118514.486412\n",
    "        elif row['income_type'] == 'компаньон':\n",
    "            return 172357.950966\n",
    "        elif row['income_type'] == 'сотрудник':\n",
    "            return 142594.396847\n",
    "        elif row['income_type'] == 'предприниматель':\n",
    "            return 499163.144947\n",
    "        elif row['income_type'] == 'безработный':\n",
    "            return 131339.751676\n",
    "    else:\n",
    "        return row['total_income']"
   ]
  },
  {
   "cell_type": "markdown",
   "id": "f0193ef2",
   "metadata": {},
   "source": [
    "Применим её:"
   ]
  },
  {
   "cell_type": "code",
   "execution_count": 106,
   "id": "8de76541",
   "metadata": {},
   "outputs": [],
   "source": [
    "df['total_income'] = df.apply(total_incom_fillna, axis=1)"
   ]
  },
  {
   "cell_type": "code",
   "execution_count": 107,
   "id": "Jgz1ZtBUJfSO",
   "metadata": {
    "id": "Jgz1ZtBUJfSO"
   },
   "outputs": [
    {
     "data": {
      "text/html": [
       "<style  type=\"text/css\" >\n",
       "#T_5751c_row0_col0,#T_5751c_row1_col0,#T_5751c_row2_col0,#T_5751c_row3_col0,#T_5751c_row4_col0,#T_5751c_row5_col0,#T_5751c_row6_col0,#T_5751c_row7_col0,#T_5751c_row8_col0,#T_5751c_row9_col0,#T_5751c_row10_col0,#T_5751c_row11_col0,#T_5751c_row12_col0{\n",
       "            background-color:  #3b4cc0;\n",
       "            color:  #f1f1f1;\n",
       "        }</style><table id=\"T_5751c_\" ><thead>    <tr>        <th class=\"blank level0\" ></th>        <th class=\"col_heading level0 col0\" >NaNs, %</th>    </tr></thead><tbody>\n",
       "                <tr>\n",
       "                        <th id=\"T_5751c_level0_row0\" class=\"row_heading level0 row0\" >children</th>\n",
       "                        <td id=\"T_5751c_row0_col0\" class=\"data row0 col0\" >0.00</td>\n",
       "            </tr>\n",
       "            <tr>\n",
       "                        <th id=\"T_5751c_level0_row1\" class=\"row_heading level0 row1\" >dob_years</th>\n",
       "                        <td id=\"T_5751c_row1_col0\" class=\"data row1 col0\" >0.00</td>\n",
       "            </tr>\n",
       "            <tr>\n",
       "                        <th id=\"T_5751c_level0_row2\" class=\"row_heading level0 row2\" >education</th>\n",
       "                        <td id=\"T_5751c_row2_col0\" class=\"data row2 col0\" >0.00</td>\n",
       "            </tr>\n",
       "            <tr>\n",
       "                        <th id=\"T_5751c_level0_row3\" class=\"row_heading level0 row3\" >education_id</th>\n",
       "                        <td id=\"T_5751c_row3_col0\" class=\"data row3 col0\" >0.00</td>\n",
       "            </tr>\n",
       "            <tr>\n",
       "                        <th id=\"T_5751c_level0_row4\" class=\"row_heading level0 row4\" >family_status</th>\n",
       "                        <td id=\"T_5751c_row4_col0\" class=\"data row4 col0\" >0.00</td>\n",
       "            </tr>\n",
       "            <tr>\n",
       "                        <th id=\"T_5751c_level0_row5\" class=\"row_heading level0 row5\" >family_status_id</th>\n",
       "                        <td id=\"T_5751c_row5_col0\" class=\"data row5 col0\" >0.00</td>\n",
       "            </tr>\n",
       "            <tr>\n",
       "                        <th id=\"T_5751c_level0_row6\" class=\"row_heading level0 row6\" >gender</th>\n",
       "                        <td id=\"T_5751c_row6_col0\" class=\"data row6 col0\" >0.00</td>\n",
       "            </tr>\n",
       "            <tr>\n",
       "                        <th id=\"T_5751c_level0_row7\" class=\"row_heading level0 row7\" >income_type</th>\n",
       "                        <td id=\"T_5751c_row7_col0\" class=\"data row7 col0\" >0.00</td>\n",
       "            </tr>\n",
       "            <tr>\n",
       "                        <th id=\"T_5751c_level0_row8\" class=\"row_heading level0 row8\" >debt</th>\n",
       "                        <td id=\"T_5751c_row8_col0\" class=\"data row8 col0\" >0.00</td>\n",
       "            </tr>\n",
       "            <tr>\n",
       "                        <th id=\"T_5751c_level0_row9\" class=\"row_heading level0 row9\" >total_income</th>\n",
       "                        <td id=\"T_5751c_row9_col0\" class=\"data row9 col0\" >0.00</td>\n",
       "            </tr>\n",
       "            <tr>\n",
       "                        <th id=\"T_5751c_level0_row10\" class=\"row_heading level0 row10\" >purpose</th>\n",
       "                        <td id=\"T_5751c_row10_col0\" class=\"data row10 col0\" >0.00</td>\n",
       "            </tr>\n",
       "            <tr>\n",
       "                        <th id=\"T_5751c_level0_row11\" class=\"row_heading level0 row11\" >days_employed_corrected</th>\n",
       "                        <td id=\"T_5751c_row11_col0\" class=\"data row11 col0\" >0.00</td>\n",
       "            </tr>\n",
       "            <tr>\n",
       "                        <th id=\"T_5751c_level0_row12\" class=\"row_heading level0 row12\" >age_category</th>\n",
       "                        <td id=\"T_5751c_row12_col0\" class=\"data row12 col0\" >0.00</td>\n",
       "            </tr>\n",
       "    </tbody></table>"
      ],
      "text/plain": [
       "<pandas.io.formats.style.Styler at 0x7fc4475c2a00>"
      ]
     },
     "metadata": {},
     "output_type": "display_data"
    }
   ],
   "source": [
    "display(pd.DataFrame(round((\n",
    "    df.isna().mean()*100),2), columns=['NaNs, %']).style.format(\n",
    "    '{:.2f}').background_gradient('coolwarm'))"
   ]
  },
  {
   "cell_type": "markdown",
   "id": "e3df88f3",
   "metadata": {},
   "source": [
    "Ок, пропусков в `total_income` не осталось. Идём дальше"
   ]
  },
  {
   "cell_type": "markdown",
   "id": "848d8017",
   "metadata": {
    "id": "848d8017"
   },
   "source": [
    "### Шаг 2.2 Проверка данных на аномалии и исправления.\n",
    "\n",
    " <a id=\"step_2_2\"></a>\n",
    "\n",
    "[К оглавлению.](#back)"
   ]
  },
  {
   "cell_type": "markdown",
   "id": "XuwYJDB-7Dei",
   "metadata": {
    "id": "XuwYJDB-7Dei"
   },
   "source": [
    "Чтобы определть, как именно нужно заполнять прпуски, посмотрим, как именно заполнены столбцы в датафреймах \n",
    "* полном \n",
    "* и том, который содержит только пропущенные значения.\n",
    "\n",
    "Для начала проверим, какие данные вообще встречаются во всех колонках:\n",
    "\n",
    "для начала - количество детей:"
   ]
  },
  {
   "cell_type": "markdown",
   "id": "11bab8e5",
   "metadata": {},
   "source": [
    "#### Обрабатываем столбец `children`."
   ]
  },
  {
   "cell_type": "code",
   "execution_count": 108,
   "id": "xeIvVIwg8BG8",
   "metadata": {
    "colab": {
     "base_uri": "https://localhost:8080/"
    },
    "id": "xeIvVIwg8BG8",
    "outputId": "203b6bb8-8ede-4d9c-b3ab-aa923a4077c9"
   },
   "outputs": [
    {
     "name": "stdout",
     "output_type": "stream",
     "text": [
      "[ 1  0  3  2 -1  4 20  5]\n"
     ]
    }
   ],
   "source": [
    "print(df['children'].unique())"
   ]
  },
  {
   "cell_type": "markdown",
   "id": "08CxSiky8iXu",
   "metadata": {
    "id": "08CxSiky8iXu"
   },
   "source": [
    "Ага, -1 и 20 - явные аномалии. Посмотрим, сколько таких строчек?"
   ]
  },
  {
   "cell_type": "code",
   "execution_count": 109,
   "id": "RHSxRyQsbGh4",
   "metadata": {
    "colab": {
     "base_uri": "https://localhost:8080/"
    },
    "id": "RHSxRyQsbGh4",
    "outputId": "c37e06af-32b4-42de-a75a-c8e71c8b091b"
   },
   "outputs": [
    {
     "name": "stdout",
     "output_type": "stream",
     "text": [
      "children\n",
      "-1        47\n",
      " 0     14149\n",
      " 1      4818\n",
      " 2      2055\n",
      " 3       330\n",
      " 4        41\n",
      " 5         9\n",
      " 20       76\n",
      "Name: children, dtype: int64\n",
      "123\n"
     ]
    }
   ],
   "source": [
    "print(df.groupby('children')['children'].count())\n",
    "\n",
    "anomal_ = df[(df['children'] == -1) | (df['children'] == 20)]['children'].count()\n",
    "\n",
    "print(anomal_)"
   ]
  },
  {
   "cell_type": "markdown",
   "id": "p3BLy5gEbw9o",
   "metadata": {
    "id": "p3BLy5gEbw9o"
   },
   "source": [
    "Посчитаем, какая доля в выборке подобных строк. Для этого разделим получившееся количество на количество элементов в датасете."
   ]
  },
  {
   "cell_type": "code",
   "execution_count": 110,
   "id": "YN9K8WhbceKp",
   "metadata": {
    "colab": {
     "base_uri": "https://localhost:8080/"
    },
    "id": "YN9K8WhbceKp",
    "outputId": "5130e317-bbdf-493d-e4f6-770e850c1d77"
   },
   "outputs": [
    {
     "name": "stdout",
     "output_type": "stream",
     "text": [
      "0.6%\n"
     ]
    }
   ],
   "source": [
    "print('{:.01%}'.format(anomal_ / len(df['children'])))"
   ]
  },
  {
   "cell_type": "markdown",
   "id": "zWnx-Q_Fdg1r",
   "metadata": {
    "id": "zWnx-Q_Fdg1r"
   },
   "source": [
    "То есть количество таких значений - статистически невелико - менее 1 процента. Можно сбросить эти строчки, а можно также как и другие количественные значения заполить их медианными. Сделаем это.\n",
    "\n",
    "Для этого посчитаем медиану во всей таблице, за исключением этих строк:"
   ]
  },
  {
   "cell_type": "code",
   "execution_count": 111,
   "id": "dn0tNr7reJi0",
   "metadata": {
    "colab": {
     "base_uri": "https://localhost:8080/"
    },
    "id": "dn0tNr7reJi0",
    "outputId": "774c6f6d-da5c-46e6-d459-25f74ad4ad08"
   },
   "outputs": [
    {
     "name": "stdout",
     "output_type": "stream",
     "text": [
      "0.0\n"
     ]
    }
   ],
   "source": [
    "children_medeian = df['children'].median()\n",
    "print(children_medeian)"
   ]
  },
  {
   "cell_type": "markdown",
   "id": "aJX1e4nTgn_-",
   "metadata": {
    "id": "aJX1e4nTgn_-"
   },
   "source": [
    "То есть в данном случае получается, что можно аномальные значения -1 и 20 заполнить нулями. B проверим, как будет выглядеть распределение."
   ]
  },
  {
   "cell_type": "code",
   "execution_count": 112,
   "id": "TmD4FeBngzTP",
   "metadata": {
    "colab": {
     "base_uri": "https://localhost:8080/"
    },
    "id": "TmD4FeBngzTP",
    "outputId": "cbb2a142-b177-4949-e05e-84f0a8b19b59"
   },
   "outputs": [
    {
     "name": "stdout",
     "output_type": "stream",
     "text": [
      "children\n",
      "0    14272\n",
      "1     4818\n",
      "2     2055\n",
      "3      330\n",
      "4       41\n",
      "5        9\n",
      "Name: children, dtype: int64\n"
     ]
    }
   ],
   "source": [
    "df['children'] = df['children'].replace(20, 0)\n",
    "df['children'] = df['children'].replace(-1,0)\n",
    "print(df.groupby('children')['children'].count())"
   ]
  },
  {
   "cell_type": "markdown",
   "id": "ha6_R40dbAlA",
   "metadata": {
    "id": "ha6_R40dbAlA"
   },
   "source": [
    "#### Обрабатываем столбец `days_employed`. \n",
    "\n",
    "Фактически мы уже убрали из него аномалии, когда [заполнял пропуски в этом столбце](#days_employed_fillna)."
   ]
  },
  {
   "cell_type": "code",
   "execution_count": 113,
   "id": "QF5cQOKKczWw",
   "metadata": {
    "colab": {
     "base_uri": "https://localhost:8080/"
    },
    "id": "QF5cQOKKczWw",
    "outputId": "4adc05d7-4e8f-416b-f0c8-b214a5a2e0ab"
   },
   "outputs": [
    {
     "data": {
      "text/plain": [
       "1576.000000    572\n",
       "1945.000000    537\n",
       "1399.000000    501\n",
       "1343.000000    254\n",
       "1133.000000    201\n",
       "              ... \n",
       "2585.402858      1\n",
       "1320.841444      1\n",
       "1394.302246      1\n",
       "168.308837       1\n",
       "1636.419775      1\n",
       "Name: days_employed_corrected, Length: 19358, dtype: int64"
      ]
     },
     "execution_count": 113,
     "metadata": {},
     "output_type": "execute_result"
    }
   ],
   "source": [
    "#df.groupby('days_employed_corrected')['days_employed_corrected'].count()\n",
    "df['days_employed_corrected'].value_counts()"
   ]
  },
  {
   "cell_type": "markdown",
   "id": "bbrHReAAjKKx",
   "metadata": {
    "id": "bbrHReAAjKKx"
   },
   "source": [
    "Проверяем теперь здесь, какое распределение:"
   ]
  },
  {
   "cell_type": "code",
   "execution_count": 114,
   "id": "rYyOWk9qjOCl",
   "metadata": {
    "colab": {
     "base_uri": "https://localhost:8080/"
    },
    "id": "rYyOWk9qjOCl",
    "outputId": "7c9eaec9-135e-4823-b184-829b25c235b2"
   },
   "outputs": [
    {
     "data": {
      "text/plain": [
       "count    21525.000000\n",
       "mean      2104.667454\n",
       "std       2027.493334\n",
       "min         24.141633\n",
       "1%         116.193809\n",
       "5%         241.796442\n",
       "10%        421.660327\n",
       "25%       1011.267704\n",
       "50%       1399.000000\n",
       "75%       2518.168900\n",
       "80%       2988.750615\n",
       "81%       3102.503816\n",
       "82%       3209.913270\n",
       "83%       3317.714603\n",
       "84%       3442.548019\n",
       "85%       3595.837645\n",
       "90%       4523.916336\n",
       "95%       6245.244696\n",
       "99%      10461.423465\n",
       "max      18388.949901\n",
       "Name: days_employed_corrected, dtype: float64"
      ]
     },
     "execution_count": 114,
     "metadata": {},
     "output_type": "execute_result"
    }
   ],
   "source": [
    "df['days_employed_corrected'].describe([.01, 0.05, 0.1, 0.25, 0.5, 0.75, 0.8, 0.81, 0.82, 0.83, 0.84, 0.85, 0.9, 0.95, 0.99])"
   ]
  },
  {
   "cell_type": "markdown",
   "id": "snHKWKizRakA",
   "metadata": {
    "id": "snHKWKizRakA"
   },
   "source": [
    "Итого. Данные получились правдоподобные, хотя, т.к. они были получены с серьёзными допущениями, они скорее всего будут бесполезными.\n",
    "\n",
    "Кончено, можно их сверить со столбцом возраста, например, и придумать формулу более хитрую, но всё равно это будет существенное допущение. Поэтому без того, чтобы поставщик данных этот столбец данных уточнил - тратить на него больше времени бессмысленно."
   ]
  },
  {
   "cell_type": "markdown",
   "id": "cd608031",
   "metadata": {},
   "source": [
    "#### Обрабатываем столбец `debt`. \n"
   ]
  },
  {
   "cell_type": "markdown",
   "id": "znw2iJ1gkISq",
   "metadata": {
    "id": "znw2iJ1gkISq"
   },
   "source": [
    "Проверим следующий столбец `debt` - имел ли задолженность по возврату кредитов? "
   ]
  },
  {
   "cell_type": "code",
   "execution_count": 115,
   "id": "O_ELk3-U-o7N",
   "metadata": {
    "colab": {
     "base_uri": "https://localhost:8080/"
    },
    "id": "O_ELk3-U-o7N",
    "outputId": "729a7c69-87ef-48ae-a98d-b96f56088d27"
   },
   "outputs": [
    {
     "name": "stdout",
     "output_type": "stream",
     "text": [
      "[0 1]\n"
     ]
    }
   ],
   "source": [
    "print(df['debt'].unique())"
   ]
  },
  {
   "cell_type": "markdown",
   "id": "BRJ3-Itu-4O6",
   "metadata": {
    "id": "BRJ3-Itu-4O6"
   },
   "source": [
    "Тут вроде бы всё ок. \n",
    "Хотя было бы интересно посмотреть, какое распределение - сколько людей имело просрочки?"
   ]
  },
  {
   "cell_type": "code",
   "execution_count": 116,
   "id": "GfggnmIgitT8",
   "metadata": {
    "colab": {
     "base_uri": "https://localhost:8080/"
    },
    "id": "GfggnmIgitT8",
    "outputId": "143c9fa0-7442-4574-a4e6-09463e54d38a"
   },
   "outputs": [
    {
     "data": {
      "text/plain": [
       "debt\n",
       "0    19784\n",
       "1     1741\n",
       "Name: debt, dtype: int64"
      ]
     },
     "execution_count": 116,
     "metadata": {},
     "output_type": "execute_result"
    }
   ],
   "source": [
    "df.groupby('debt')['debt'].count()"
   ]
  },
  {
   "cell_type": "markdown",
   "id": "8ae16f7d",
   "metadata": {},
   "source": [
    "Аномалий не видно. "
   ]
  },
  {
   "cell_type": "markdown",
   "id": "94y4bpYFisYK",
   "metadata": {
    "id": "94y4bpYFisYK"
   },
   "source": [
    "#### Обрабатываем столбец `dob_years`. \n",
    "\n",
    "После обработки [здесь](#101) некорректные данные ушли:"
   ]
  },
  {
   "cell_type": "code",
   "execution_count": 117,
   "id": "iIUgwNNvjDsU",
   "metadata": {
    "colab": {
     "base_uri": "https://localhost:8080/"
    },
    "id": "iIUgwNNvjDsU",
    "outputId": "de586908-65da-41d0-9238-51a1a342d4a5"
   },
   "outputs": [
    {
     "data": {
      "text/plain": [
       "39    648\n",
       "35    617\n",
       "40    615\n",
       "41    607\n",
       "34    603\n",
       "38    598\n",
       "42    597\n",
       "33    581\n",
       "31    560\n",
       "36    555\n",
       "44    547\n",
       "29    545\n",
       "30    540\n",
       "48    538\n",
       "37    537\n",
       "50    514\n",
       "43    513\n",
       "32    510\n",
       "49    508\n",
       "28    503\n",
       "45    497\n",
       "27    493\n",
       "56    487\n",
       "52    484\n",
       "47    480\n",
       "54    479\n",
       "46    475\n",
       "58    461\n",
       "57    460\n",
       "53    459\n",
       "51    448\n",
       "59    444\n",
       "55    443\n",
       "26    408\n",
       "60    397\n",
       "25    357\n",
       "61    355\n",
       "62    352\n",
       "63    269\n",
       "64    265\n",
       "24    264\n",
       "23    254\n",
       "65    194\n",
       "22    183\n",
       "66    183\n",
       "67    167\n",
       "21    111\n",
       "68     99\n",
       "69     85\n",
       "70     65\n",
       "71     58\n",
       "20     51\n",
       "72     33\n",
       "19     14\n",
       "73      8\n",
       "74      6\n",
       "75      1\n",
       "Name: dob_years, dtype: int64"
      ]
     },
     "execution_count": 117,
     "metadata": {},
     "output_type": "execute_result"
    }
   ],
   "source": [
    "df['dob_years'].value_counts()"
   ]
  },
  {
   "cell_type": "markdown",
   "id": "rcUykCQojfr4",
   "metadata": {
    "id": "rcUykCQojfr4"
   },
   "source": [
    "#### Обрабатываем столбец `education`. "
   ]
  },
  {
   "cell_type": "code",
   "execution_count": 118,
   "id": "_sVwuzpbAiIy",
   "metadata": {
    "colab": {
     "base_uri": "https://localhost:8080/"
    },
    "id": "_sVwuzpbAiIy",
    "outputId": "05d42291-1c4a-4d25-d7b6-ed753e846636"
   },
   "outputs": [
    {
     "data": {
      "text/plain": [
       "среднее                13750\n",
       "высшее                  4718\n",
       "СРЕДНЕЕ                  772\n",
       "Среднее                  711\n",
       "неоконченное высшее      668\n",
       "ВЫСШЕЕ                   274\n",
       "Высшее                   268\n",
       "начальное                250\n",
       "Неоконченное высшее       47\n",
       "НЕОКОНЧЕННОЕ ВЫСШЕЕ       29\n",
       "НАЧАЛЬНОЕ                 17\n",
       "Начальное                 15\n",
       "ученая степень             4\n",
       "УЧЕНАЯ СТЕПЕНЬ             1\n",
       "Ученая степень             1\n",
       "Name: education, dtype: int64"
      ]
     },
     "execution_count": 118,
     "metadata": {},
     "output_type": "execute_result"
    }
   ],
   "source": [
    "df['education'].value_counts()"
   ]
  },
  {
   "cell_type": "markdown",
   "id": "4h0NTF5SBviz",
   "metadata": {
    "id": "4h0NTF5SBviz"
   },
   "source": [
    "Тут есть дубли, их нужно будет убрать на шаге 2.4.\n",
    "\n",
    "Берём следующий столбик."
   ]
  },
  {
   "cell_type": "code",
   "execution_count": 119,
   "id": "ugNKJc7JBzUU",
   "metadata": {
    "colab": {
     "base_uri": "https://localhost:8080/"
    },
    "id": "ugNKJc7JBzUU",
    "outputId": "003ee88b-4fcd-4bbf-ef2a-c19c0cc5c0b8"
   },
   "outputs": [
    {
     "data": {
      "text/plain": [
       "1    15233\n",
       "0     5260\n",
       "2      744\n",
       "3      282\n",
       "4        6\n",
       "Name: education_id, dtype: int64"
      ]
     },
     "execution_count": 119,
     "metadata": {},
     "output_type": "execute_result"
    }
   ],
   "source": [
    "df['education_id'].value_counts()"
   ]
  },
  {
   "cell_type": "markdown",
   "id": "Zt6jIV6ICHB-",
   "metadata": {
    "id": "Zt6jIV6ICHB-"
   },
   "source": [
    "Не до конца понятно, что это может значить ID, но циферки выглядят правдоподобно.\n",
    "\n",
    "Возможно, 0 - это начальное образование, 1 - среднее и т.д. Чтобы это установить, нужно будет проверить соответствие id и групп образования, но сделать это нужно будет после удаления дубликатов.\n",
    "\n",
    "Исследуем следующий столбец:"
   ]
  },
  {
   "cell_type": "markdown",
   "id": "f68f98af",
   "metadata": {},
   "source": [
    "#### Обрабатываем столбец `family_status`."
   ]
  },
  {
   "cell_type": "code",
   "execution_count": 120,
   "id": "l9jjTL8pCSF0",
   "metadata": {
    "colab": {
     "base_uri": "https://localhost:8080/"
    },
    "id": "l9jjTL8pCSF0",
    "outputId": "3fed3a6b-5b89-4ffe-b3f1-f3e7cb0c5748"
   },
   "outputs": [
    {
     "data": {
      "text/plain": [
       "женат / замужем          12380\n",
       "гражданский брак          4177\n",
       "Не женат / не замужем     2813\n",
       "в разводе                 1195\n",
       "вдовец / вдова             960\n",
       "Name: family_status, dtype: int64"
      ]
     },
     "execution_count": 120,
     "metadata": {},
     "output_type": "execute_result"
    }
   ],
   "source": [
    "df['family_status'].value_counts()"
   ]
  },
  {
   "cell_type": "markdown",
   "id": "LEla6JutCacq",
   "metadata": {
    "id": "LEla6JutCacq"
   },
   "source": [
    "Тут вроде бы всё нормально, дублей нет, аномалий - тоже нет."
   ]
  },
  {
   "cell_type": "markdown",
   "id": "1449e2f8",
   "metadata": {},
   "source": [
    "#### Обрабатываем столбец `gender`."
   ]
  },
  {
   "cell_type": "code",
   "execution_count": 121,
   "id": "qvRGn5xjCejO",
   "metadata": {
    "colab": {
     "base_uri": "https://localhost:8080/"
    },
    "id": "qvRGn5xjCejO",
    "outputId": "369771ff-b869-4b52-94ae-5a4938866bcc"
   },
   "outputs": [
    {
     "data": {
      "text/plain": [
       "F      14236\n",
       "M       7288\n",
       "XNA        1\n",
       "Name: gender, dtype: int64"
      ]
     },
     "execution_count": 121,
     "metadata": {},
     "output_type": "execute_result"
    }
   ],
   "source": [
    "df['gender'].value_counts()"
   ]
  },
  {
   "cell_type": "markdown",
   "id": "U29g7JMxCkcq",
   "metadata": {
    "id": "U29g7JMxCkcq"
   },
   "source": [
    "XNA - не до конца понятно, нужно будет проверить, что это. Ради интереса - выведем эту строку:"
   ]
  },
  {
   "cell_type": "code",
   "execution_count": 122,
   "id": "e2MyQ4ROmMXm",
   "metadata": {
    "colab": {
     "base_uri": "https://localhost:8080/",
     "height": 162
    },
    "id": "e2MyQ4ROmMXm",
    "outputId": "5b195a25-cce5-4f31-f14e-ed5a4eae11e4"
   },
   "outputs": [
    {
     "data": {
      "text/html": [
       "<div>\n",
       "<style scoped>\n",
       "    .dataframe tbody tr th:only-of-type {\n",
       "        vertical-align: middle;\n",
       "    }\n",
       "\n",
       "    .dataframe tbody tr th {\n",
       "        vertical-align: top;\n",
       "    }\n",
       "\n",
       "    .dataframe thead th {\n",
       "        text-align: right;\n",
       "    }\n",
       "</style>\n",
       "<table border=\"1\" class=\"dataframe\">\n",
       "  <thead>\n",
       "    <tr style=\"text-align: right;\">\n",
       "      <th></th>\n",
       "      <th>children</th>\n",
       "      <th>dob_years</th>\n",
       "      <th>education</th>\n",
       "      <th>education_id</th>\n",
       "      <th>family_status</th>\n",
       "      <th>family_status_id</th>\n",
       "      <th>gender</th>\n",
       "      <th>income_type</th>\n",
       "      <th>debt</th>\n",
       "      <th>total_income</th>\n",
       "      <th>purpose</th>\n",
       "      <th>days_employed_corrected</th>\n",
       "      <th>age_category</th>\n",
       "    </tr>\n",
       "  </thead>\n",
       "  <tbody>\n",
       "    <tr>\n",
       "      <th>10701</th>\n",
       "      <td>0</td>\n",
       "      <td>24</td>\n",
       "      <td>неоконченное высшее</td>\n",
       "      <td>2</td>\n",
       "      <td>гражданский брак</td>\n",
       "      <td>1</td>\n",
       "      <td>XNA</td>\n",
       "      <td>компаньон</td>\n",
       "      <td>0</td>\n",
       "      <td>203905.157261</td>\n",
       "      <td>покупка недвижимости</td>\n",
       "      <td>2358.600502</td>\n",
       "      <td>19-25</td>\n",
       "    </tr>\n",
       "  </tbody>\n",
       "</table>\n",
       "</div>"
      ],
      "text/plain": [
       "       children  dob_years            education  education_id  \\\n",
       "10701         0         24  неоконченное высшее             2   \n",
       "\n",
       "          family_status  family_status_id gender income_type  debt  \\\n",
       "10701  гражданский брак                 1    XNA   компаньон     0   \n",
       "\n",
       "        total_income               purpose  days_employed_corrected  \\\n",
       "10701  203905.157261  покупка недвижимости              2358.600502   \n",
       "\n",
       "      age_category  \n",
       "10701        19-25  "
      ]
     },
     "execution_count": 122,
     "metadata": {},
     "output_type": "execute_result"
    }
   ],
   "source": [
    "df.loc[df['gender'] == 'XNA']"
   ]
  },
  {
   "cell_type": "markdown",
   "id": "Bke3oEOWmLJf",
   "metadata": {
    "id": "Bke3oEOWmLJf"
   },
   "source": [
    "Не понятно, насколько тут являются уникальными значения столбца \"компаньон\". Если он малочисленен, то можно будет убить возможность увидеть какую-то важную закономерность. Проверим, сколько компаньонов в выборке:\n"
   ]
  },
  {
   "cell_type": "code",
   "execution_count": 123,
   "id": "0q67bcRoCqPX",
   "metadata": {
    "colab": {
     "base_uri": "https://localhost:8080/"
    },
    "id": "0q67bcRoCqPX",
    "outputId": "80a78b30-bc20-4210-f586-c282ce8f19b9"
   },
   "outputs": [
    {
     "data": {
      "text/plain": [
       "сотрудник          11119\n",
       "компаньон           5085\n",
       "пенсионер           3856\n",
       "госслужащий         1459\n",
       "предприниматель        2\n",
       "безработный            2\n",
       "в декрете              1\n",
       "студент                1\n",
       "Name: income_type, dtype: int64"
      ]
     },
     "execution_count": 123,
     "metadata": {},
     "output_type": "execute_result"
    }
   ],
   "source": [
    "df['income_type'].value_counts()"
   ]
  },
  {
   "cell_type": "markdown",
   "id": "Qxax5iz0nf9I",
   "metadata": {
    "id": "Qxax5iz0nf9I"
   },
   "source": [
    "Компаньонов много, а значит усреднение (точнее, приведение к медиане) одного - выборку не повредит. Сделаем это."
   ]
  },
  {
   "cell_type": "code",
   "execution_count": 124,
   "id": "ffoLqRFUnpM8",
   "metadata": {
    "colab": {
     "base_uri": "https://localhost:8080/"
    },
    "id": "ffoLqRFUnpM8",
    "outputId": "d0769ce5-54eb-4770-bc2f-c8637b5ef1d8"
   },
   "outputs": [
    {
     "data": {
      "text/plain": [
       "gender\n",
       "F    14237\n",
       "M     7288\n",
       "Name: gender, dtype: int64"
      ]
     },
     "execution_count": 124,
     "metadata": {},
     "output_type": "execute_result"
    }
   ],
   "source": [
    "df['gender'] = df['gender'].replace('XNA', 'F')\n",
    "\n",
    "df.groupby('gender')['gender'].count()"
   ]
  },
  {
   "cell_type": "markdown",
   "id": "3Q1eoEn5C7g5",
   "metadata": {
    "id": "3Q1eoEn5C7g5"
   },
   "source": [
    "Ок, ни в гендере, ни в income_type, дублей нет, аномальных значений - тоже нет. "
   ]
  },
  {
   "cell_type": "markdown",
   "id": "f0c57c8d",
   "metadata": {},
   "source": [
    "#### Обрабатываем столбец `purpose`."
   ]
  },
  {
   "cell_type": "code",
   "execution_count": 125,
   "id": "i_txQlfaC_FA",
   "metadata": {
    "colab": {
     "base_uri": "https://localhost:8080/"
    },
    "id": "i_txQlfaC_FA",
    "outputId": "f0c98c39-b7ad-4f11-b91b-1be5c3c74564"
   },
   "outputs": [
    {
     "name": "stdout",
     "output_type": "stream",
     "text": [
      "['покупка жилья' 'приобретение автомобиля' 'дополнительное образование'\n",
      " 'сыграть свадьбу' 'операции с жильем' 'образование'\n",
      " 'на проведение свадьбы' 'покупка жилья для семьи' 'покупка недвижимости'\n",
      " 'покупка коммерческой недвижимости' 'покупка жилой недвижимости'\n",
      " 'строительство собственной недвижимости' 'недвижимость'\n",
      " 'строительство недвижимости' 'на покупку подержанного автомобиля'\n",
      " 'на покупку своего автомобиля' 'операции с коммерческой недвижимостью'\n",
      " 'строительство жилой недвижимости' 'жилье'\n",
      " 'операции со своей недвижимостью' 'автомобили' 'заняться образованием'\n",
      " 'сделка с подержанным автомобилем' 'получение образования' 'автомобиль'\n",
      " 'свадьба' 'получение дополнительного образования' 'покупка своего жилья'\n",
      " 'операции с недвижимостью' 'получение высшего образования'\n",
      " 'свой автомобиль' 'сделка с автомобилем' 'профильное образование'\n",
      " 'высшее образование' 'покупка жилья для сдачи' 'на покупку автомобиля'\n",
      " 'ремонт жилью' 'заняться высшим образованием']\n"
     ]
    },
    {
     "data": {
      "text/plain": [
       "purpose\n",
       "автомобили                                478\n",
       "автомобиль                                495\n",
       "высшее образование                        453\n",
       "дополнительное образование                462\n",
       "жилье                                     647\n",
       "заняться высшим образованием              496\n",
       "заняться образованием                     412\n",
       "на покупку автомобиля                     472\n",
       "на покупку подержанного автомобиля        479\n",
       "на покупку своего автомобиля              505\n",
       "на проведение свадьбы                     777\n",
       "недвижимость                              634\n",
       "образование                               447\n",
       "операции с жильем                         653\n",
       "операции с коммерческой недвижимостью     651\n",
       "операции с недвижимостью                  676\n",
       "операции со своей недвижимостью           630\n",
       "покупка жилой недвижимости                607\n",
       "покупка жилья                             647\n",
       "покупка жилья для сдачи                   653\n",
       "покупка жилья для семьи                   641\n",
       "покупка коммерческой недвижимости         664\n",
       "покупка недвижимости                      624\n",
       "покупка своего жилья                      620\n",
       "получение высшего образования             426\n",
       "получение дополнительного образования     447\n",
       "получение образования                     443\n",
       "приобретение автомобиля                   462\n",
       "профильное образование                    436\n",
       "ремонт жилью                              612\n",
       "свадьба                                   797\n",
       "свой автомобиль                           480\n",
       "сделка с автомобилем                      455\n",
       "сделка с подержанным автомобилем          489\n",
       "строительство жилой недвижимости          626\n",
       "строительство недвижимости                620\n",
       "строительство собственной недвижимости    635\n",
       "сыграть свадьбу                           774\n",
       "Name: purpose, dtype: int64"
      ]
     },
     "execution_count": 125,
     "metadata": {},
     "output_type": "execute_result"
    }
   ],
   "source": [
    "print(df['purpose'].unique())\n",
    "\n",
    "df.groupby('purpose')['purpose'].count()"
   ]
  },
  {
   "cell_type": "markdown",
   "id": "_-Una7DKDXDe",
   "metadata": {
    "id": "_-Una7DKDXDe"
   },
   "source": [
    "Тут много разных значений, которые обозначают примерно одно и то же - эти неявные дубли нужно будет убрать на шаге 2.4.  Но аномальных значений нет, поэтому разбираем следующий столбик."
   ]
  },
  {
   "cell_type": "code",
   "execution_count": 126,
   "id": "8r96me4XDhZA",
   "metadata": {
    "colab": {
     "base_uri": "https://localhost:8080/"
    },
    "id": "8r96me4XDhZA",
    "outputId": "2f5852bc-964c-44a9-de6a-a5c1a53f377c"
   },
   "outputs": [
    {
     "name": "stdout",
     "output_type": "stream",
     "text": [
      "[253875.6394526  112080.01410244 145885.95229686 ...  89672.56115303\n",
      " 244093.05050043  82047.41889948]\n",
      "19356\n",
      "2265604.028722744\n",
      "20667.26379327158\n"
     ]
    }
   ],
   "source": [
    "print(df['total_income'].unique())\n",
    "print(df['total_income'].nunique())\n",
    "print(max(df['total_income'].unique()))\n",
    "print(min(df['total_income'].unique()))"
   ]
  },
  {
   "cell_type": "markdown",
   "id": "biDIO9dsDyo7",
   "metadata": {
    "id": "biDIO9dsDyo7"
   },
   "source": [
    "Тут много разных значений - от 20 тыр / мес, до 2 млн / мес. Но выглядят они правдоподобно. Ок."
   ]
  },
  {
   "cell_type": "markdown",
   "id": "119d7af2",
   "metadata": {
    "id": "119d7af2"
   },
   "source": [
    "### Шаг 2.3. Изменение типов данных.\n",
    "\n",
    " <a id=\"step_2_3\"></a>\n",
    "\n",
    "[К оглавлению.](#back)"
   ]
  },
  {
   "cell_type": "markdown",
   "id": "68b45ccd",
   "metadata": {
    "id": "68b45ccd"
   },
   "source": [
    "Ещё раз посмотрим, данные каких типов есть в датасете:"
   ]
  },
  {
   "cell_type": "code",
   "execution_count": 127,
   "id": "t-B3s9GVsMq9",
   "metadata": {
    "colab": {
     "base_uri": "https://localhost:8080/"
    },
    "id": "t-B3s9GVsMq9",
    "outputId": "9e8e488a-40b3-4756-de98-da54ce8782dd"
   },
   "outputs": [
    {
     "name": "stdout",
     "output_type": "stream",
     "text": [
      "<class 'pandas.core.frame.DataFrame'>\n",
      "RangeIndex: 21525 entries, 0 to 21524\n",
      "Data columns (total 13 columns):\n",
      " #   Column                   Non-Null Count  Dtype  \n",
      "---  ------                   --------------  -----  \n",
      " 0   children                 21525 non-null  int64  \n",
      " 1   dob_years                21525 non-null  int64  \n",
      " 2   education                21525 non-null  object \n",
      " 3   education_id             21525 non-null  int64  \n",
      " 4   family_status            21525 non-null  object \n",
      " 5   family_status_id         21525 non-null  int64  \n",
      " 6   gender                   21525 non-null  object \n",
      " 7   income_type              21525 non-null  object \n",
      " 8   debt                     21525 non-null  int64  \n",
      " 9   total_income             21525 non-null  float64\n",
      " 10  purpose                  21525 non-null  object \n",
      " 11  days_employed_corrected  21525 non-null  float64\n",
      " 12  age_category             21525 non-null  object \n",
      "dtypes: float64(2), int64(5), object(6)\n",
      "memory usage: 2.1+ MB\n"
     ]
    }
   ],
   "source": [
    "df.info()"
   ]
  },
  {
   "cell_type": "markdown",
   "id": "nqO79LGQsWi1",
   "metadata": {
    "id": "nqO79LGQsWi1"
   },
   "source": [
    "Явно избыточными с точки зрения хранения данных выглядя столбцы `days_employed` и `total_income`. Для них должно быть достаточно типа int. Но т.к. в задании было указано изменить только total_income, то будем работать с ним: "
   ]
  },
  {
   "cell_type": "code",
   "execution_count": 128,
   "id": "x3xkB8N9s5rl",
   "metadata": {
    "colab": {
     "base_uri": "https://localhost:8080/"
    },
    "id": "x3xkB8N9s5rl",
    "outputId": "6c8ca07e-4811-4253-8d52-972e04912a85"
   },
   "outputs": [
    {
     "name": "stdout",
     "output_type": "stream",
     "text": [
      "<class 'pandas.core.frame.DataFrame'>\n",
      "RangeIndex: 21525 entries, 0 to 21524\n",
      "Data columns (total 13 columns):\n",
      " #   Column                   Non-Null Count  Dtype  \n",
      "---  ------                   --------------  -----  \n",
      " 0   children                 21525 non-null  int64  \n",
      " 1   dob_years                21525 non-null  int64  \n",
      " 2   education                21525 non-null  object \n",
      " 3   education_id             21525 non-null  int64  \n",
      " 4   family_status            21525 non-null  object \n",
      " 5   family_status_id         21525 non-null  int64  \n",
      " 6   gender                   21525 non-null  object \n",
      " 7   income_type              21525 non-null  object \n",
      " 8   debt                     21525 non-null  int64  \n",
      " 9   total_income             21525 non-null  int64  \n",
      " 10  purpose                  21525 non-null  object \n",
      " 11  days_employed_corrected  21525 non-null  float64\n",
      " 12  age_category             21525 non-null  object \n",
      "dtypes: float64(1), int64(6), object(6)\n",
      "memory usage: 2.1+ MB\n"
     ]
    }
   ],
   "source": [
    "df = df.astype({'total_income': 'int'})\n",
    "\n",
    "df.info()"
   ]
  },
  {
   "cell_type": "markdown",
   "id": "4UCG-L_-ulj3",
   "metadata": {
    "id": "4UCG-L_-ulj3"
   },
   "source": [
    "Проверим, что в изменённом столбце не \"поехали цифры\"."
   ]
  },
  {
   "cell_type": "code",
   "execution_count": 129,
   "id": "EowhczfTu0fu",
   "metadata": {
    "colab": {
     "base_uri": "https://localhost:8080/"
    },
    "id": "EowhczfTu0fu",
    "outputId": "c76693c3-bceb-4eda-ebac-9d24dea770e0"
   },
   "outputs": [
    {
     "data": {
      "text/html": [
       "<div>\n",
       "<style scoped>\n",
       "    .dataframe tbody tr th:only-of-type {\n",
       "        vertical-align: middle;\n",
       "    }\n",
       "\n",
       "    .dataframe tbody tr th {\n",
       "        vertical-align: top;\n",
       "    }\n",
       "\n",
       "    .dataframe thead th {\n",
       "        text-align: right;\n",
       "    }\n",
       "</style>\n",
       "<table border=\"1\" class=\"dataframe\">\n",
       "  <thead>\n",
       "    <tr style=\"text-align: right;\">\n",
       "      <th></th>\n",
       "      <th>children</th>\n",
       "      <th>dob_years</th>\n",
       "      <th>education</th>\n",
       "      <th>education_id</th>\n",
       "      <th>family_status</th>\n",
       "      <th>family_status_id</th>\n",
       "      <th>gender</th>\n",
       "      <th>income_type</th>\n",
       "      <th>debt</th>\n",
       "      <th>total_income</th>\n",
       "      <th>purpose</th>\n",
       "      <th>days_employed_corrected</th>\n",
       "      <th>age_category</th>\n",
       "    </tr>\n",
       "  </thead>\n",
       "  <tbody>\n",
       "    <tr>\n",
       "      <th>0</th>\n",
       "      <td>1</td>\n",
       "      <td>42</td>\n",
       "      <td>высшее</td>\n",
       "      <td>0</td>\n",
       "      <td>женат / замужем</td>\n",
       "      <td>0</td>\n",
       "      <td>F</td>\n",
       "      <td>сотрудник</td>\n",
       "      <td>0</td>\n",
       "      <td>253875</td>\n",
       "      <td>покупка жилья</td>\n",
       "      <td>8437.673028</td>\n",
       "      <td>40-50</td>\n",
       "    </tr>\n",
       "    <tr>\n",
       "      <th>1</th>\n",
       "      <td>1</td>\n",
       "      <td>36</td>\n",
       "      <td>среднее</td>\n",
       "      <td>1</td>\n",
       "      <td>женат / замужем</td>\n",
       "      <td>0</td>\n",
       "      <td>F</td>\n",
       "      <td>сотрудник</td>\n",
       "      <td>0</td>\n",
       "      <td>112080</td>\n",
       "      <td>приобретение автомобиля</td>\n",
       "      <td>4024.803754</td>\n",
       "      <td>30-40</td>\n",
       "    </tr>\n",
       "    <tr>\n",
       "      <th>2</th>\n",
       "      <td>0</td>\n",
       "      <td>33</td>\n",
       "      <td>Среднее</td>\n",
       "      <td>1</td>\n",
       "      <td>женат / замужем</td>\n",
       "      <td>0</td>\n",
       "      <td>M</td>\n",
       "      <td>сотрудник</td>\n",
       "      <td>0</td>\n",
       "      <td>145885</td>\n",
       "      <td>покупка жилья</td>\n",
       "      <td>5623.422610</td>\n",
       "      <td>30-40</td>\n",
       "    </tr>\n",
       "    <tr>\n",
       "      <th>3</th>\n",
       "      <td>3</td>\n",
       "      <td>32</td>\n",
       "      <td>среднее</td>\n",
       "      <td>1</td>\n",
       "      <td>женат / замужем</td>\n",
       "      <td>0</td>\n",
       "      <td>M</td>\n",
       "      <td>сотрудник</td>\n",
       "      <td>0</td>\n",
       "      <td>267628</td>\n",
       "      <td>дополнительное образование</td>\n",
       "      <td>4124.747207</td>\n",
       "      <td>30-40</td>\n",
       "    </tr>\n",
       "    <tr>\n",
       "      <th>4</th>\n",
       "      <td>0</td>\n",
       "      <td>53</td>\n",
       "      <td>среднее</td>\n",
       "      <td>1</td>\n",
       "      <td>гражданский брак</td>\n",
       "      <td>1</td>\n",
       "      <td>F</td>\n",
       "      <td>пенсионер</td>\n",
       "      <td>0</td>\n",
       "      <td>158616</td>\n",
       "      <td>сыграть свадьбу</td>\n",
       "      <td>1237.331171</td>\n",
       "      <td>50-60</td>\n",
       "    </tr>\n",
       "    <tr>\n",
       "      <th>...</th>\n",
       "      <td>...</td>\n",
       "      <td>...</td>\n",
       "      <td>...</td>\n",
       "      <td>...</td>\n",
       "      <td>...</td>\n",
       "      <td>...</td>\n",
       "      <td>...</td>\n",
       "      <td>...</td>\n",
       "      <td>...</td>\n",
       "      <td>...</td>\n",
       "      <td>...</td>\n",
       "      <td>...</td>\n",
       "      <td>...</td>\n",
       "    </tr>\n",
       "    <tr>\n",
       "      <th>21520</th>\n",
       "      <td>1</td>\n",
       "      <td>43</td>\n",
       "      <td>среднее</td>\n",
       "      <td>1</td>\n",
       "      <td>гражданский брак</td>\n",
       "      <td>1</td>\n",
       "      <td>F</td>\n",
       "      <td>компаньон</td>\n",
       "      <td>0</td>\n",
       "      <td>224791</td>\n",
       "      <td>операции с жильем</td>\n",
       "      <td>4529.316663</td>\n",
       "      <td>40-50</td>\n",
       "    </tr>\n",
       "    <tr>\n",
       "      <th>21521</th>\n",
       "      <td>0</td>\n",
       "      <td>67</td>\n",
       "      <td>среднее</td>\n",
       "      <td>1</td>\n",
       "      <td>женат / замужем</td>\n",
       "      <td>0</td>\n",
       "      <td>F</td>\n",
       "      <td>пенсионер</td>\n",
       "      <td>0</td>\n",
       "      <td>155999</td>\n",
       "      <td>сделка с автомобилем</td>\n",
       "      <td>1250.681470</td>\n",
       "      <td>60-70</td>\n",
       "    </tr>\n",
       "    <tr>\n",
       "      <th>21522</th>\n",
       "      <td>1</td>\n",
       "      <td>38</td>\n",
       "      <td>среднее</td>\n",
       "      <td>1</td>\n",
       "      <td>гражданский брак</td>\n",
       "      <td>1</td>\n",
       "      <td>M</td>\n",
       "      <td>сотрудник</td>\n",
       "      <td>1</td>\n",
       "      <td>89672</td>\n",
       "      <td>недвижимость</td>\n",
       "      <td>2113.346888</td>\n",
       "      <td>30-40</td>\n",
       "    </tr>\n",
       "    <tr>\n",
       "      <th>21523</th>\n",
       "      <td>3</td>\n",
       "      <td>38</td>\n",
       "      <td>среднее</td>\n",
       "      <td>1</td>\n",
       "      <td>женат / замужем</td>\n",
       "      <td>0</td>\n",
       "      <td>M</td>\n",
       "      <td>сотрудник</td>\n",
       "      <td>1</td>\n",
       "      <td>244093</td>\n",
       "      <td>на покупку своего автомобиля</td>\n",
       "      <td>3112.481705</td>\n",
       "      <td>30-40</td>\n",
       "    </tr>\n",
       "    <tr>\n",
       "      <th>21524</th>\n",
       "      <td>2</td>\n",
       "      <td>40</td>\n",
       "      <td>среднее</td>\n",
       "      <td>1</td>\n",
       "      <td>женат / замужем</td>\n",
       "      <td>0</td>\n",
       "      <td>F</td>\n",
       "      <td>сотрудник</td>\n",
       "      <td>0</td>\n",
       "      <td>82047</td>\n",
       "      <td>на покупку автомобиля</td>\n",
       "      <td>1984.507589</td>\n",
       "      <td>40-50</td>\n",
       "    </tr>\n",
       "  </tbody>\n",
       "</table>\n",
       "<p>21525 rows × 13 columns</p>\n",
       "</div>"
      ],
      "text/plain": [
       "       children  dob_years education  education_id     family_status  \\\n",
       "0             1         42    высшее             0   женат / замужем   \n",
       "1             1         36   среднее             1   женат / замужем   \n",
       "2             0         33   Среднее             1   женат / замужем   \n",
       "3             3         32   среднее             1   женат / замужем   \n",
       "4             0         53   среднее             1  гражданский брак   \n",
       "...         ...        ...       ...           ...               ...   \n",
       "21520         1         43   среднее             1  гражданский брак   \n",
       "21521         0         67   среднее             1   женат / замужем   \n",
       "21522         1         38   среднее             1  гражданский брак   \n",
       "21523         3         38   среднее             1   женат / замужем   \n",
       "21524         2         40   среднее             1   женат / замужем   \n",
       "\n",
       "       family_status_id gender income_type  debt  total_income  \\\n",
       "0                     0      F   сотрудник     0        253875   \n",
       "1                     0      F   сотрудник     0        112080   \n",
       "2                     0      M   сотрудник     0        145885   \n",
       "3                     0      M   сотрудник     0        267628   \n",
       "4                     1      F   пенсионер     0        158616   \n",
       "...                 ...    ...         ...   ...           ...   \n",
       "21520                 1      F   компаньон     0        224791   \n",
       "21521                 0      F   пенсионер     0        155999   \n",
       "21522                 1      M   сотрудник     1         89672   \n",
       "21523                 0      M   сотрудник     1        244093   \n",
       "21524                 0      F   сотрудник     0         82047   \n",
       "\n",
       "                            purpose  days_employed_corrected age_category  \n",
       "0                     покупка жилья              8437.673028        40-50  \n",
       "1           приобретение автомобиля              4024.803754        30-40  \n",
       "2                     покупка жилья              5623.422610        30-40  \n",
       "3        дополнительное образование              4124.747207        30-40  \n",
       "4                   сыграть свадьбу              1237.331171        50-60  \n",
       "...                             ...                      ...          ...  \n",
       "21520             операции с жильем              4529.316663        40-50  \n",
       "21521          сделка с автомобилем              1250.681470        60-70  \n",
       "21522                  недвижимость              2113.346888        30-40  \n",
       "21523  на покупку своего автомобиля              3112.481705        30-40  \n",
       "21524         на покупку автомобиля              1984.507589        40-50  \n",
       "\n",
       "[21525 rows x 13 columns]"
      ]
     },
     "execution_count": 129,
     "metadata": {},
     "output_type": "execute_result"
    }
   ],
   "source": [
    "df"
   ]
  },
  {
   "cell_type": "markdown",
   "id": "Jp3_nv4ju4Ka",
   "metadata": {
    "id": "Jp3_nv4ju4Ka"
   },
   "source": [
    "Проверил - значения в последней строке №21524 совпадают до целого числа."
   ]
  },
  {
   "cell_type": "markdown",
   "id": "ec69e4ea",
   "metadata": {
    "id": "ec69e4ea"
   },
   "source": [
    "### Шаг 2.4. Удаление дубликатов.\n",
    "\n",
    " <a id=\"step_2_4\"></a>\n",
    "\n",
    "[К оглавлению.](#back)"
   ]
  },
  {
   "cell_type": "markdown",
   "id": "99405707",
   "metadata": {
    "id": "99405707"
   },
   "source": [
    "Проверим для начала явные дубликаты:\n"
   ]
  },
  {
   "cell_type": "code",
   "execution_count": 130,
   "id": "H0AZ1B4Kvc6x",
   "metadata": {
    "colab": {
     "base_uri": "https://localhost:8080/"
    },
    "id": "H0AZ1B4Kvc6x",
    "outputId": "63a31fc5-06b0-447a-d8a9-1e958edcb480"
   },
   "outputs": [
    {
     "data": {
      "text/plain": [
       "54"
      ]
     },
     "execution_count": 130,
     "metadata": {},
     "output_type": "execute_result"
    }
   ],
   "source": [
    "df.duplicated().sum()"
   ]
  },
  {
   "cell_type": "markdown",
   "id": "bDY1tfk1v0x2",
   "metadata": {
    "id": "bDY1tfk1v0x2"
   },
   "source": [
    "Удалим эти дубликаты:"
   ]
  },
  {
   "cell_type": "code",
   "execution_count": 131,
   "id": "rgkrWmWyv5LL",
   "metadata": {
    "colab": {
     "base_uri": "https://localhost:8080/"
    },
    "id": "rgkrWmWyv5LL",
    "outputId": "86d2a49b-7444-46fc-b270-47d82b2a0b99"
   },
   "outputs": [
    {
     "data": {
      "text/plain": [
       "0"
      ]
     },
     "execution_count": 131,
     "metadata": {},
     "output_type": "execute_result"
    }
   ],
   "source": [
    "df = df.drop_duplicates().reset_index(drop = True)\n",
    "\n",
    "df.duplicated().sum()"
   ]
  },
  {
   "cell_type": "markdown",
   "id": "SloIonEtwIci",
   "metadata": {
    "id": "SloIonEtwIci"
   },
   "source": [
    "Отлично, явных дубликатов не осталось. Но есть ещё неявныек, которые мы выявили на шаге 2.2 для столбцов:\n",
    "* `education` \n",
    "* `purpose`\n",
    "\n",
    "Начнём с первого - с `education` \n",
    "\n",
    "Для этого напомним, как выглядят категории:\n",
    "\n"
   ]
  },
  {
   "cell_type": "code",
   "execution_count": 132,
   "id": "yH1b8AVzwvOu",
   "metadata": {
    "colab": {
     "base_uri": "https://localhost:8080/"
    },
    "id": "yH1b8AVzwvOu",
    "outputId": "264ea536-c4d5-4ef5-91d5-7fcd296c0de6"
   },
   "outputs": [
    {
     "name": "stdout",
     "output_type": "stream",
     "text": [
      "['высшее' 'среднее' 'Среднее' 'СРЕДНЕЕ' 'ВЫСШЕЕ' 'неоконченное высшее'\n",
      " 'начальное' 'Высшее' 'НЕОКОНЧЕННОЕ ВЫСШЕЕ' 'Неоконченное высшее'\n",
      " 'НАЧАЛЬНОЕ' 'Начальное' 'Ученая степень' 'УЧЕНАЯ СТЕПЕНЬ'\n",
      " 'ученая степень']\n"
     ]
    },
    {
     "data": {
      "text/plain": [
       "education\n",
       "ВЫСШЕЕ                   273\n",
       "Высшее                   268\n",
       "НАЧАЛЬНОЕ                 17\n",
       "НЕОКОНЧЕННОЕ ВЫСШЕЕ       29\n",
       "Начальное                 15\n",
       "Неоконченное высшее       47\n",
       "СРЕДНЕЕ                  772\n",
       "Среднее                  711\n",
       "УЧЕНАЯ СТЕПЕНЬ             1\n",
       "Ученая степень             1\n",
       "высшее                  4710\n",
       "начальное                250\n",
       "неоконченное высшее      668\n",
       "среднее                13705\n",
       "ученая степень             4\n",
       "Name: education, dtype: int64"
      ]
     },
     "execution_count": 132,
     "metadata": {},
     "output_type": "execute_result"
    }
   ],
   "source": [
    "print(df['education'].unique())\n",
    "\n",
    "df.groupby('education')['education'].count()"
   ]
  },
  {
   "cell_type": "markdown",
   "id": "3sEWvOWfw4-f",
   "metadata": {
    "id": "3sEWvOWfw4-f"
   },
   "source": [
    "Отсюда видно, что значительное количество позиций отличаются только регистром.\n",
    "\n",
    "Чтобы убрать лишее - приведём их к одному регистру:"
   ]
  },
  {
   "cell_type": "code",
   "execution_count": 133,
   "id": "eBLEpR5ixDNJ",
   "metadata": {
    "id": "eBLEpR5ixDNJ"
   },
   "outputs": [],
   "source": [
    "df['education'] = df['education'].str.lower()"
   ]
  },
  {
   "cell_type": "markdown",
   "id": "5bZmv-9Bxq41",
   "metadata": {
    "id": "5bZmv-9Bxq41"
   },
   "source": [
    "И проверим, что количество категорий у нас уменьшилось:"
   ]
  },
  {
   "cell_type": "code",
   "execution_count": 134,
   "id": "s_kOjoDXxrfE",
   "metadata": {
    "colab": {
     "base_uri": "https://localhost:8080/"
    },
    "id": "s_kOjoDXxrfE",
    "outputId": "f49de73f-49fb-40ea-83ec-1b0202b6d857"
   },
   "outputs": [
    {
     "data": {
      "text/plain": [
       "education\n",
       "высшее                  5251\n",
       "начальное                282\n",
       "неоконченное высшее      744\n",
       "среднее                15188\n",
       "ученая степень             6\n",
       "Name: education, dtype: int64"
      ]
     },
     "execution_count": 134,
     "metadata": {},
     "output_type": "execute_result"
    }
   ],
   "source": [
    "df.groupby('education')['education'].count()"
   ]
  },
  {
   "cell_type": "markdown",
   "id": "QN51YyD-yCrr",
   "metadata": {
    "id": "QN51YyD-yCrr"
   },
   "source": [
    "Теперь ещё раз проверим - не появилось ли дубликатов явных?"
   ]
  },
  {
   "cell_type": "code",
   "execution_count": 135,
   "id": "eeYHy_JJyLpl",
   "metadata": {
    "colab": {
     "base_uri": "https://localhost:8080/"
    },
    "id": "eeYHy_JJyLpl",
    "outputId": "2581e8f9-6ce8-4687-9233-fe6ae8d6e691"
   },
   "outputs": [
    {
     "data": {
      "text/plain": [
       "17"
      ]
     },
     "execution_count": 135,
     "metadata": {},
     "output_type": "execute_result"
    }
   ],
   "source": [
    "df.duplicated().sum()"
   ]
  },
  {
   "cell_type": "markdown",
   "id": "47McPD21yRCB",
   "metadata": {
    "id": "47McPD21yRCB"
   },
   "source": [
    "Ага, их появилось ещё 17 штук. Удалим их."
   ]
  },
  {
   "cell_type": "code",
   "execution_count": 136,
   "id": "NG70lT1_yZyj",
   "metadata": {
    "colab": {
     "base_uri": "https://localhost:8080/"
    },
    "id": "NG70lT1_yZyj",
    "outputId": "c92ea909-da17-41a1-c176-b37aca74fcb2"
   },
   "outputs": [
    {
     "data": {
      "text/plain": [
       "0"
      ]
     },
     "execution_count": 136,
     "metadata": {},
     "output_type": "execute_result"
    }
   ],
   "source": [
    "df = df.drop_duplicates().reset_index(drop = True)\n",
    "\n",
    "df.duplicated().sum()"
   ]
  },
  {
   "cell_type": "markdown",
   "id": "1J8_XqkSyqa1",
   "metadata": {
    "id": "1J8_XqkSyqa1"
   },
   "source": [
    "#### Пояснение - как я искал дубликаты?\n",
    "\n",
    "Это видно выше из логики, но повторю ключевые значения здесь:\n",
    "1) удаление явных дубликатов - это делается командой drop_duplicates\n",
    "2) после этого нужно искать неявные дубликаты, которые могут появляться из-за:\n",
    "* разного регистра записей в некоторых столбиках. Здесь метод - привести к одному регистру и после этого ещё раз удалить явные дубликаты.\n",
    "* вероятно, из-за корявого округления в числовых столбцах. Здесь метод - изменить тип данных стобца с float на int и после этого ещё раз удалить явные дубликаты."
   ]
  },
  {
   "cell_type": "markdown",
   "id": "li5YhYgPz_Dy",
   "metadata": {
    "id": "li5YhYgPz_Dy"
   },
   "source": [
    "#### Возможные причины появления дубликатов:\n",
    "\n",
    "* объединение нескольких таблиц, значения которые были случайно задублированы в процессе их обработки,\n",
    "* человеческий фактор - данные занести руками в разном регистре.\n",
    "* при считывании данных неверно определился тип числовых переменных, из-за этого по разному происходило округление, и как следствие дубликат получился неявным."
   ]
  },
  {
   "cell_type": "markdown",
   "id": "b389c8fc",
   "metadata": {
    "id": "b389c8fc"
   },
   "source": [
    "### Шаг 2.5. Формирование дополнительных датафреймов словарей, декомпозиция исходного датафрейма.\n",
    "\n",
    " <a id=\"step_2_5\"></a>\n",
    "\n",
    "[К оглавлению.](#back)"
   ]
  },
  {
   "cell_type": "markdown",
   "id": "e4dab96f",
   "metadata": {
    "id": "e4dab96f"
   },
   "source": [
    "Ё!!!!Ё Дописать здесь, что и зачем я делаю.\n",
    "\n",
    "Можно создать датафрейм вручную, но можно это и автоматизировать через создание новых датафреймов:"
   ]
  },
  {
   "cell_type": "code",
   "execution_count": 137,
   "id": "MoM6YenT1KAM",
   "metadata": {
    "colab": {
     "base_uri": "https://localhost:8080/"
    },
    "id": "MoM6YenT1KAM",
    "outputId": "4a46ecde-e754-4b73-916a-fe37b780e437"
   },
   "outputs": [
    {
     "data": {
      "text/html": [
       "<div>\n",
       "<style scoped>\n",
       "    .dataframe tbody tr th:only-of-type {\n",
       "        vertical-align: middle;\n",
       "    }\n",
       "\n",
       "    .dataframe tbody tr th {\n",
       "        vertical-align: top;\n",
       "    }\n",
       "\n",
       "    .dataframe thead th {\n",
       "        text-align: right;\n",
       "    }\n",
       "</style>\n",
       "<table border=\"1\" class=\"dataframe\">\n",
       "  <thead>\n",
       "    <tr style=\"text-align: right;\">\n",
       "      <th></th>\n",
       "      <th>education_id</th>\n",
       "      <th>education</th>\n",
       "    </tr>\n",
       "  </thead>\n",
       "  <tbody>\n",
       "    <tr>\n",
       "      <th>0</th>\n",
       "      <td>0</td>\n",
       "      <td>высшее</td>\n",
       "    </tr>\n",
       "    <tr>\n",
       "      <th>1</th>\n",
       "      <td>1</td>\n",
       "      <td>среднее</td>\n",
       "    </tr>\n",
       "    <tr>\n",
       "      <th>2</th>\n",
       "      <td>2</td>\n",
       "      <td>неоконченное высшее</td>\n",
       "    </tr>\n",
       "    <tr>\n",
       "      <th>3</th>\n",
       "      <td>3</td>\n",
       "      <td>начальное</td>\n",
       "    </tr>\n",
       "    <tr>\n",
       "      <th>4</th>\n",
       "      <td>4</td>\n",
       "      <td>ученая степень</td>\n",
       "    </tr>\n",
       "  </tbody>\n",
       "</table>\n",
       "</div>"
      ],
      "text/plain": [
       "   education_id            education\n",
       "0             0               высшее\n",
       "1             1              среднее\n",
       "2             2  неоконченное высшее\n",
       "3             3            начальное\n",
       "4             4       ученая степень"
      ]
     },
     "execution_count": 137,
     "metadata": {},
     "output_type": "execute_result"
    }
   ],
   "source": [
    "df_edu = df.loc[:, ['education_id', 'education']]\n",
    "# print(df_edu.duplicated().sum())\n",
    "df_edu = df_edu.drop_duplicates().reset_index(drop = True)\n",
    "# bprint(df_edu.duplicated().sum())\n",
    "df_edu"
   ]
  },
  {
   "cell_type": "markdown",
   "id": "WDMnKGwu4MCQ",
   "metadata": {
    "id": "WDMnKGwu4MCQ"
   },
   "source": [
    "Аналогичную операцию проделаем и для `family_id`:"
   ]
  },
  {
   "cell_type": "code",
   "execution_count": 138,
   "id": "4IHZ9g3vN9uY",
   "metadata": {
    "colab": {
     "base_uri": "https://localhost:8080/"
    },
    "id": "4IHZ9g3vN9uY",
    "outputId": "98a76bd4-3556-41fb-f49e-c10d99b1be5c",
    "scrolled": true
   },
   "outputs": [
    {
     "data": {
      "text/html": [
       "<div>\n",
       "<style scoped>\n",
       "    .dataframe tbody tr th:only-of-type {\n",
       "        vertical-align: middle;\n",
       "    }\n",
       "\n",
       "    .dataframe tbody tr th {\n",
       "        vertical-align: top;\n",
       "    }\n",
       "\n",
       "    .dataframe thead th {\n",
       "        text-align: right;\n",
       "    }\n",
       "</style>\n",
       "<table border=\"1\" class=\"dataframe\">\n",
       "  <thead>\n",
       "    <tr style=\"text-align: right;\">\n",
       "      <th></th>\n",
       "      <th>family_status_id</th>\n",
       "      <th>family_status</th>\n",
       "    </tr>\n",
       "  </thead>\n",
       "  <tbody>\n",
       "    <tr>\n",
       "      <th>0</th>\n",
       "      <td>0</td>\n",
       "      <td>женат / замужем</td>\n",
       "    </tr>\n",
       "    <tr>\n",
       "      <th>1</th>\n",
       "      <td>1</td>\n",
       "      <td>гражданский брак</td>\n",
       "    </tr>\n",
       "    <tr>\n",
       "      <th>2</th>\n",
       "      <td>2</td>\n",
       "      <td>вдовец / вдова</td>\n",
       "    </tr>\n",
       "    <tr>\n",
       "      <th>3</th>\n",
       "      <td>3</td>\n",
       "      <td>в разводе</td>\n",
       "    </tr>\n",
       "    <tr>\n",
       "      <th>4</th>\n",
       "      <td>4</td>\n",
       "      <td>Не женат / не замужем</td>\n",
       "    </tr>\n",
       "  </tbody>\n",
       "</table>\n",
       "</div>"
      ],
      "text/plain": [
       "   family_status_id          family_status\n",
       "0                 0        женат / замужем\n",
       "1                 1       гражданский брак\n",
       "2                 2         вдовец / вдова\n",
       "3                 3              в разводе\n",
       "4                 4  Не женат / не замужем"
      ]
     },
     "execution_count": 138,
     "metadata": {},
     "output_type": "execute_result"
    }
   ],
   "source": [
    "df_fam = df.loc[:, ['family_status_id', 'family_status']]\n",
    "# print(df_fam.duplicated().sum())\n",
    "df_fam = df_fam.drop_duplicates().reset_index(drop = True)\n",
    "# print(df_fam.duplicated().sum())\n",
    "df_fam"
   ]
  },
  {
   "cell_type": "markdown",
   "id": "8798bf9c",
   "metadata": {},
   "source": [
    "Удаляем столбцы `education` и `family_status`:"
   ]
  },
  {
   "cell_type": "code",
   "execution_count": 139,
   "id": "08c0020f",
   "metadata": {},
   "outputs": [
    {
     "name": "stdout",
     "output_type": "stream",
     "text": [
      "<class 'pandas.core.frame.DataFrame'>\n",
      "RangeIndex: 21454 entries, 0 to 21453\n",
      "Data columns (total 11 columns):\n",
      " #   Column                   Non-Null Count  Dtype  \n",
      "---  ------                   --------------  -----  \n",
      " 0   children                 21454 non-null  int64  \n",
      " 1   dob_years                21454 non-null  int64  \n",
      " 2   education_id             21454 non-null  int64  \n",
      " 3   family_status_id         21454 non-null  int64  \n",
      " 4   gender                   21454 non-null  object \n",
      " 5   income_type              21454 non-null  object \n",
      " 6   debt                     21454 non-null  int64  \n",
      " 7   total_income             21454 non-null  int64  \n",
      " 8   purpose                  21454 non-null  object \n",
      " 9   days_employed_corrected  21454 non-null  float64\n",
      " 10  age_category             21454 non-null  object \n",
      "dtypes: float64(1), int64(6), object(4)\n",
      "memory usage: 1.8+ MB\n"
     ]
    }
   ],
   "source": [
    "#df.info()\n",
    "df = df.drop(['education', 'family_status'], axis = 1)\n",
    "df.info()"
   ]
  },
  {
   "cell_type": "markdown",
   "id": "f91911e7",
   "metadata": {
    "id": "f91911e7"
   },
   "source": [
    "### Шаг 2.6. Категоризация дохода.\n",
    "\n",
    " <a id=\"step_2_6\"></a>\n",
    "\n",
    "[К оглавлению.](#back)"
   ]
  },
  {
   "cell_type": "markdown",
   "id": "7b9ca292",
   "metadata": {
    "id": "7b9ca292"
   },
   "source": [
    "Есть гипотеза, что доход влияет на возвращаемость кредита. Но напрямую сделать это сложно, т.к. доход - это численное значение, и он варьируется в диапазоне от 20 тыр до 2 млн р, а уникальных значений в 20 тыс выборке - более 19 тыс значений.\n",
    "\n",
    "Знаичт нужно перейти от численной к категориальным переменным.\n",
    "\n",
    "Категоризовать будем по следующим грейдам:\n",
    "```\n",
    "0–30000 — 'E';\n",
    "30001–50000 — 'D';\n",
    "50001–200000 — 'C';\n",
    "200001–1000000 — 'B';\n",
    "1000001 и выше — 'A'.\n",
    "```\n",
    "\n",
    "Делать это будем через функцию, которую потом можно будет удобно использовать в pandas."
   ]
  },
  {
   "cell_type": "code",
   "execution_count": 76,
   "id": "nZB1VYKvQxlO",
   "metadata": {
    "id": "nZB1VYKvQxlO"
   },
   "outputs": [],
   "source": [
    "def income_cat(income):\n",
    "    \"\"\"\n",
    "    Возвращает категорию группу по значению возраста age, используя правила:\n",
    "    0–30000 — 'E';\n",
    "    30001–50000 — 'D';\n",
    "    50001–200000 — 'C';\n",
    "    200001–1000000 — 'B';\n",
    "    1000001 и выше — 'A'.\n",
    "    \"\"\"\n",
    "    \n",
    "    if 0 <= income <= 30000:\n",
    "        return 'E'\n",
    "    if 30000 < income <= 50000:\n",
    "        return 'D'\n",
    "    if 50000 < income <= 200000:\n",
    "        return 'C'\n",
    "    if 200000 < income <= 1000000:\n",
    "        return 'B'\n",
    "    if 1000000 < income:\n",
    "        return 'A'\n",
    "\n",
    "#print(income_cat(200001)) # здесь убедились, что функция работает"
   ]
  },
  {
   "cell_type": "markdown",
   "id": "5vUGnrMKSWuo",
   "metadata": {
    "id": "5vUGnrMKSWuo"
   },
   "source": [
    "Добавим столбец, в котором запишем категорию дохода, получаемую функцией `income_cat`."
   ]
  },
  {
   "cell_type": "code",
   "execution_count": 77,
   "id": "zivRk8GM5ljB",
   "metadata": {
    "id": "zivRk8GM5ljB"
   },
   "outputs": [],
   "source": [
    "df['income_category'] = df['total_income'].apply(income_cat)"
   ]
  },
  {
   "cell_type": "markdown",
   "id": "53e7b7c2",
   "metadata": {
    "id": "53e7b7c2"
   },
   "source": [
    "### Шаг 2.7. Категоризация целей кредита.\n",
    "\n",
    " <a id=\"step_2_7\"></a>\n",
    "\n",
    "[К оглавлению.](#back)"
   ]
  },
  {
   "cell_type": "markdown",
   "id": "9de405f8",
   "metadata": {
    "id": "9de405f8"
   },
   "source": [
    "Аналогично создадим категорию для целей кредита - `purpose_category`.\n",
    "\n",
    "Для этого сначала посмотрим, какие значения вообще встречаются в столбце `purpose`."
   ]
  },
  {
   "cell_type": "code",
   "execution_count": 78,
   "id": "UcI_7xL_7DUH",
   "metadata": {
    "colab": {
     "base_uri": "https://localhost:8080/"
    },
    "id": "UcI_7xL_7DUH",
    "outputId": "ce653797-6587-4548-c6fe-be7a5a441afb"
   },
   "outputs": [
    {
     "name": "stdout",
     "output_type": "stream",
     "text": [
      "['покупка жилья' 'приобретение автомобиля' 'дополнительное образование'\n",
      " 'сыграть свадьбу' 'операции с жильем' 'образование'\n",
      " 'на проведение свадьбы' 'покупка жилья для семьи' 'покупка недвижимости'\n",
      " 'покупка коммерческой недвижимости' 'покупка жилой недвижимости'\n",
      " 'строительство собственной недвижимости' 'недвижимость'\n",
      " 'строительство недвижимости' 'на покупку подержанного автомобиля'\n",
      " 'на покупку своего автомобиля' 'операции с коммерческой недвижимостью'\n",
      " 'строительство жилой недвижимости' 'жилье'\n",
      " 'операции со своей недвижимостью' 'автомобили' 'заняться образованием'\n",
      " 'сделка с подержанным автомобилем' 'получение образования' 'автомобиль'\n",
      " 'свадьба' 'получение дополнительного образования' 'покупка своего жилья'\n",
      " 'операции с недвижимостью' 'получение высшего образования'\n",
      " 'свой автомобиль' 'сделка с автомобилем' 'профильное образование'\n",
      " 'высшее образование' 'покупка жилья для сдачи' 'на покупку автомобиля'\n",
      " 'ремонт жилью' 'заняться высшим образованием']\n"
     ]
    }
   ],
   "source": [
    "print(df['purpose'].unique())"
   ]
  },
  {
   "cell_type": "markdown",
   "id": "ixJcUnfZ860h",
   "metadata": {
    "id": "ixJcUnfZ860h"
   },
   "source": [
    "Напишем функцию, которая бы разбирала эти категории по новым, более понятным и удобным для анализа категориям:\n",
    "```\n",
    "'операции с автомобилем',\n",
    "'операции с недвижимостью',\n",
    "'проведение свадьбы',\n",
    "'получение образования'.\n",
    "```"
   ]
  },
  {
   "cell_type": "code",
   "execution_count": 80,
   "id": "22e5b897",
   "metadata": {},
   "outputs": [],
   "source": [
    "def purpose_cat(purpose):\n",
    "  '''\n",
    "  в каждом из листов собрал занчения в столбце `purpose`:\n",
    "  auto_     ⇒ 'операции с автомобилем',\n",
    "  property_ ⇒ 'операции с недвижимостью',\n",
    "  marriage_ ⇒ 'проведение свадьбы',\n",
    "  education_ ⇒'получение образования'\n",
    "  '''\n",
    "  \n",
    "# собственно, сама функция:\n",
    "  if 'автомобил' in purpose:\n",
    "    return 'операции с автомобилем'\n",
    "  if ('жиль' in purpose) or ('недвижимост' in purpose):\n",
    "    return 'операции с недвижимостью'\n",
    "  if 'свадьб' in purpose:\n",
    "    return 'проведение свадьбы'\n",
    "  if 'образовани' in purpose:\n",
    "    return 'получение образования'\n",
    "  return 'Ошибка категоризации!'\n"
   ]
  },
  {
   "cell_type": "markdown",
   "id": "Pdg8ddtqkThf",
   "metadata": {
    "id": "Pdg8ddtqkThf"
   },
   "source": [
    "Проверим, как сработала функция:"
   ]
  },
  {
   "cell_type": "code",
   "execution_count": 81,
   "id": "cdlSDSiWkcQ2",
   "metadata": {
    "colab": {
     "base_uri": "https://localhost:8080/"
    },
    "id": "cdlSDSiWkcQ2",
    "outputId": "276c5627-58fa-44cd-f09a-7c799ca89b2c"
   },
   "outputs": [
    {
     "data": {
      "text/html": [
       "<div>\n",
       "<style scoped>\n",
       "    .dataframe tbody tr th:only-of-type {\n",
       "        vertical-align: middle;\n",
       "    }\n",
       "\n",
       "    .dataframe tbody tr th {\n",
       "        vertical-align: top;\n",
       "    }\n",
       "\n",
       "    .dataframe thead th {\n",
       "        text-align: right;\n",
       "    }\n",
       "</style>\n",
       "<table border=\"1\" class=\"dataframe\">\n",
       "  <thead>\n",
       "    <tr style=\"text-align: right;\">\n",
       "      <th></th>\n",
       "      <th>children</th>\n",
       "      <th>dob_years</th>\n",
       "      <th>education_id</th>\n",
       "      <th>family_status_id</th>\n",
       "      <th>gender</th>\n",
       "      <th>income_type</th>\n",
       "      <th>debt</th>\n",
       "      <th>total_income</th>\n",
       "      <th>purpose</th>\n",
       "      <th>days_employed_corrected</th>\n",
       "      <th>age_category</th>\n",
       "      <th>income_category</th>\n",
       "      <th>purpose_category</th>\n",
       "    </tr>\n",
       "  </thead>\n",
       "  <tbody>\n",
       "    <tr>\n",
       "      <th>0</th>\n",
       "      <td>1</td>\n",
       "      <td>42</td>\n",
       "      <td>0</td>\n",
       "      <td>0</td>\n",
       "      <td>F</td>\n",
       "      <td>сотрудник</td>\n",
       "      <td>0</td>\n",
       "      <td>253875</td>\n",
       "      <td>покупка жилья</td>\n",
       "      <td>8437.673028</td>\n",
       "      <td>40-50</td>\n",
       "      <td>B</td>\n",
       "      <td>операции с недвижимостью</td>\n",
       "    </tr>\n",
       "    <tr>\n",
       "      <th>1</th>\n",
       "      <td>1</td>\n",
       "      <td>36</td>\n",
       "      <td>1</td>\n",
       "      <td>0</td>\n",
       "      <td>F</td>\n",
       "      <td>сотрудник</td>\n",
       "      <td>0</td>\n",
       "      <td>112080</td>\n",
       "      <td>приобретение автомобиля</td>\n",
       "      <td>4024.803754</td>\n",
       "      <td>30-40</td>\n",
       "      <td>C</td>\n",
       "      <td>операции с автомобилем</td>\n",
       "    </tr>\n",
       "    <tr>\n",
       "      <th>2</th>\n",
       "      <td>0</td>\n",
       "      <td>33</td>\n",
       "      <td>1</td>\n",
       "      <td>0</td>\n",
       "      <td>M</td>\n",
       "      <td>сотрудник</td>\n",
       "      <td>0</td>\n",
       "      <td>145885</td>\n",
       "      <td>покупка жилья</td>\n",
       "      <td>5623.422610</td>\n",
       "      <td>30-40</td>\n",
       "      <td>C</td>\n",
       "      <td>операции с недвижимостью</td>\n",
       "    </tr>\n",
       "    <tr>\n",
       "      <th>3</th>\n",
       "      <td>3</td>\n",
       "      <td>32</td>\n",
       "      <td>1</td>\n",
       "      <td>0</td>\n",
       "      <td>M</td>\n",
       "      <td>сотрудник</td>\n",
       "      <td>0</td>\n",
       "      <td>267628</td>\n",
       "      <td>дополнительное образование</td>\n",
       "      <td>4124.747207</td>\n",
       "      <td>30-40</td>\n",
       "      <td>B</td>\n",
       "      <td>получение образования</td>\n",
       "    </tr>\n",
       "    <tr>\n",
       "      <th>4</th>\n",
       "      <td>0</td>\n",
       "      <td>53</td>\n",
       "      <td>1</td>\n",
       "      <td>1</td>\n",
       "      <td>F</td>\n",
       "      <td>пенсионер</td>\n",
       "      <td>0</td>\n",
       "      <td>158616</td>\n",
       "      <td>сыграть свадьбу</td>\n",
       "      <td>1237.331171</td>\n",
       "      <td>50-60</td>\n",
       "      <td>C</td>\n",
       "      <td>проведение свадьбы</td>\n",
       "    </tr>\n",
       "    <tr>\n",
       "      <th>...</th>\n",
       "      <td>...</td>\n",
       "      <td>...</td>\n",
       "      <td>...</td>\n",
       "      <td>...</td>\n",
       "      <td>...</td>\n",
       "      <td>...</td>\n",
       "      <td>...</td>\n",
       "      <td>...</td>\n",
       "      <td>...</td>\n",
       "      <td>...</td>\n",
       "      <td>...</td>\n",
       "      <td>...</td>\n",
       "      <td>...</td>\n",
       "    </tr>\n",
       "    <tr>\n",
       "      <th>21449</th>\n",
       "      <td>1</td>\n",
       "      <td>43</td>\n",
       "      <td>1</td>\n",
       "      <td>1</td>\n",
       "      <td>F</td>\n",
       "      <td>компаньон</td>\n",
       "      <td>0</td>\n",
       "      <td>224791</td>\n",
       "      <td>операции с жильем</td>\n",
       "      <td>4529.316663</td>\n",
       "      <td>40-50</td>\n",
       "      <td>B</td>\n",
       "      <td>операции с недвижимостью</td>\n",
       "    </tr>\n",
       "    <tr>\n",
       "      <th>21450</th>\n",
       "      <td>0</td>\n",
       "      <td>67</td>\n",
       "      <td>1</td>\n",
       "      <td>0</td>\n",
       "      <td>F</td>\n",
       "      <td>пенсионер</td>\n",
       "      <td>0</td>\n",
       "      <td>155999</td>\n",
       "      <td>сделка с автомобилем</td>\n",
       "      <td>1250.681470</td>\n",
       "      <td>60-70</td>\n",
       "      <td>C</td>\n",
       "      <td>операции с автомобилем</td>\n",
       "    </tr>\n",
       "    <tr>\n",
       "      <th>21451</th>\n",
       "      <td>1</td>\n",
       "      <td>38</td>\n",
       "      <td>1</td>\n",
       "      <td>1</td>\n",
       "      <td>M</td>\n",
       "      <td>сотрудник</td>\n",
       "      <td>1</td>\n",
       "      <td>89672</td>\n",
       "      <td>недвижимость</td>\n",
       "      <td>2113.346888</td>\n",
       "      <td>30-40</td>\n",
       "      <td>C</td>\n",
       "      <td>операции с недвижимостью</td>\n",
       "    </tr>\n",
       "    <tr>\n",
       "      <th>21452</th>\n",
       "      <td>3</td>\n",
       "      <td>38</td>\n",
       "      <td>1</td>\n",
       "      <td>0</td>\n",
       "      <td>M</td>\n",
       "      <td>сотрудник</td>\n",
       "      <td>1</td>\n",
       "      <td>244093</td>\n",
       "      <td>на покупку своего автомобиля</td>\n",
       "      <td>3112.481705</td>\n",
       "      <td>30-40</td>\n",
       "      <td>B</td>\n",
       "      <td>операции с автомобилем</td>\n",
       "    </tr>\n",
       "    <tr>\n",
       "      <th>21453</th>\n",
       "      <td>2</td>\n",
       "      <td>40</td>\n",
       "      <td>1</td>\n",
       "      <td>0</td>\n",
       "      <td>F</td>\n",
       "      <td>сотрудник</td>\n",
       "      <td>0</td>\n",
       "      <td>82047</td>\n",
       "      <td>на покупку автомобиля</td>\n",
       "      <td>1984.507589</td>\n",
       "      <td>40-50</td>\n",
       "      <td>C</td>\n",
       "      <td>операции с автомобилем</td>\n",
       "    </tr>\n",
       "  </tbody>\n",
       "</table>\n",
       "<p>21454 rows × 13 columns</p>\n",
       "</div>"
      ],
      "text/plain": [
       "       children  dob_years  education_id  family_status_id gender income_type  \\\n",
       "0             1         42             0                 0      F   сотрудник   \n",
       "1             1         36             1                 0      F   сотрудник   \n",
       "2             0         33             1                 0      M   сотрудник   \n",
       "3             3         32             1                 0      M   сотрудник   \n",
       "4             0         53             1                 1      F   пенсионер   \n",
       "...         ...        ...           ...               ...    ...         ...   \n",
       "21449         1         43             1                 1      F   компаньон   \n",
       "21450         0         67             1                 0      F   пенсионер   \n",
       "21451         1         38             1                 1      M   сотрудник   \n",
       "21452         3         38             1                 0      M   сотрудник   \n",
       "21453         2         40             1                 0      F   сотрудник   \n",
       "\n",
       "       debt  total_income                       purpose  \\\n",
       "0         0        253875                 покупка жилья   \n",
       "1         0        112080       приобретение автомобиля   \n",
       "2         0        145885                 покупка жилья   \n",
       "3         0        267628    дополнительное образование   \n",
       "4         0        158616               сыграть свадьбу   \n",
       "...     ...           ...                           ...   \n",
       "21449     0        224791             операции с жильем   \n",
       "21450     0        155999          сделка с автомобилем   \n",
       "21451     1         89672                  недвижимость   \n",
       "21452     1        244093  на покупку своего автомобиля   \n",
       "21453     0         82047         на покупку автомобиля   \n",
       "\n",
       "       days_employed_corrected age_category income_category  \\\n",
       "0                  8437.673028        40-50               B   \n",
       "1                  4024.803754        30-40               C   \n",
       "2                  5623.422610        30-40               C   \n",
       "3                  4124.747207        30-40               B   \n",
       "4                  1237.331171        50-60               C   \n",
       "...                        ...          ...             ...   \n",
       "21449              4529.316663        40-50               B   \n",
       "21450              1250.681470        60-70               C   \n",
       "21451              2113.346888        30-40               C   \n",
       "21452              3112.481705        30-40               B   \n",
       "21453              1984.507589        40-50               C   \n",
       "\n",
       "               purpose_category  \n",
       "0      операции с недвижимостью  \n",
       "1        операции с автомобилем  \n",
       "2      операции с недвижимостью  \n",
       "3         получение образования  \n",
       "4            проведение свадьбы  \n",
       "...                         ...  \n",
       "21449  операции с недвижимостью  \n",
       "21450    операции с автомобилем  \n",
       "21451  операции с недвижимостью  \n",
       "21452    операции с автомобилем  \n",
       "21453    операции с автомобилем  \n",
       "\n",
       "[21454 rows x 13 columns]"
      ]
     },
     "execution_count": 81,
     "metadata": {},
     "output_type": "execute_result"
    }
   ],
   "source": [
    "df['purpose_category'] = df['purpose'].apply(purpose_cat)\n",
    "\n",
    "df"
   ]
  },
  {
   "cell_type": "markdown",
   "id": "X3wNGcyPliDE",
   "metadata": {
    "id": "X3wNGcyPliDE"
   },
   "source": [
    "Теперь посмотрим, сколько элементов (человек) в каждой категории."
   ]
  },
  {
   "cell_type": "code",
   "execution_count": 82,
   "id": "5DZpvITHlwVq",
   "metadata": {
    "colab": {
     "base_uri": "https://localhost:8080/"
    },
    "id": "5DZpvITHlwVq",
    "outputId": "85226eac-f41e-4221-c063-d29f4adaa5a3"
   },
   "outputs": [
    {
     "data": {
      "text/plain": [
       "purpose_category\n",
       "операции с недвижимостью    10811\n",
       "операции с автомобилем       4306\n",
       "получение образования        4013\n",
       "проведение свадьбы           2324\n",
       "Name: purpose_category, dtype: int64"
      ]
     },
     "execution_count": 82,
     "metadata": {},
     "output_type": "execute_result"
    }
   ],
   "source": [
    "df.groupby('purpose_category')['purpose_category'].count().sort_values(ascending=False)"
   ]
  },
  {
   "cell_type": "markdown",
   "id": "25fb8caa",
   "metadata": {
    "id": "25fb8caa"
   },
   "source": [
    "## Шаг 3. Ответы на вопросы.\n",
    "\n",
    " <a id=\"step_3_1\"></a>\n",
    "\n",
    "[К оглавлению.](#back)\n",
    "\n",
    "Чтобы сделать полезные выводы, нужно понять, какие столбца могуть быть полезны для нас?\n",
    "\n",
    "Из тех, которые есть в датасете - это показатель `debt`, то есть были ли у него просрочки по кредиту?\n",
    "\n",
    "Именно по этому показателю можно попытаться вывести закономерность (корреляцию), какие параметры потенциального заёмщика связаны в риском невозврата кредита в срок. \n",
    "\n",
    "Поэтому проверим, как на этот показатель влияют параметры:\n",
    "в первую очередь:\n",
    "* количество детей `children`\n",
    "* семейное положение `family_status`\n",
    "* категорией дохода `income_category`\n",
    "* целью кредита `purpose_category`\n",
    "\n",
    "Также опционально можно проверить аналогичные закономерности для оставшихся параметров:\n",
    "* `days_employed`\t\n",
    "* `dob_years`\t\n",
    "* `education\teducation_id`\t\t\n",
    "* `gender`\t\n",
    "* `income_type`\t\n",
    "* `debt`\t\n",
    "* `total_income\t`\n",
    "* `purpose`\n",
    "\n",
    "Найдём закономерности для первых четырёх параметров.\n",
    "\n"
   ]
  },
  {
   "cell_type": "markdown",
   "id": "Q_OAB0Oj-VfW",
   "metadata": {
    "id": "Q_OAB0Oj-VfW"
   },
   "source": [
    "Для этого определим, какое количество людей, имеющих просрочки, есть в каждой группе. Для этого посчитаем отношение тех, кто имеет просрочки в группе к общему количеству людей в группе."
   ]
  },
  {
   "cell_type": "markdown",
   "id": "f3a99273",
   "metadata": {
    "id": "f3a99273"
   },
   "source": [
    "### Вопрос 1 - Есть ли зависимость между количеством детей и возвратом кредита в срок?\n"
   ]
  },
  {
   "cell_type": "code",
   "execution_count": 83,
   "id": "ca16b9d1",
   "metadata": {
    "colab": {
     "base_uri": "https://localhost:8080/"
    },
    "id": "ca16b9d1",
    "outputId": "e5e73d40-a2b9-4b0c-b52b-43d4ddd685a1"
   },
   "outputs": [
    {
     "data": {
      "text/plain": [
       "children\n",
       "0    0.075419\n",
       "1    0.092346\n",
       "2    0.094542\n",
       "3    0.081818\n",
       "4    0.097561\n",
       "5    0.000000\n",
       "Name: debt, dtype: float64"
      ]
     },
     "execution_count": 83,
     "metadata": {},
     "output_type": "execute_result"
    }
   ],
   "source": [
    "# df.groupby('debt')['debt', 'children'].count()\n",
    "\n",
    "df.groupby('children')['debt'].sum() / df.groupby('children')['debt'].count()"
   ]
  },
  {
   "cell_type": "markdown",
   "id": "1UQOKxerm7r3",
   "metadata": {
    "id": "1UQOKxerm7r3"
   },
   "source": [
    "Посмотрим на репрезентативность выборки:"
   ]
  },
  {
   "cell_type": "code",
   "execution_count": 84,
   "id": "PwXGMvvzm_hP",
   "metadata": {
    "colab": {
     "base_uri": "https://localhost:8080/"
    },
    "id": "PwXGMvvzm_hP",
    "outputId": "1b8ba119-916f-4e27-cd98-b5fa546c2663"
   },
   "outputs": [
    {
     "data": {
      "text/plain": [
       "children\n",
       "0    14214\n",
       "1     4808\n",
       "2     2052\n",
       "3      330\n",
       "4       41\n",
       "5        9\n",
       "Name: children, dtype: int64"
      ]
     },
     "execution_count": 84,
     "metadata": {},
     "output_type": "execute_result"
    }
   ],
   "source": [
    "df.groupby('children')['children'].count()"
   ]
  },
  {
   "cell_type": "code",
   "execution_count": 85,
   "id": "38081c17",
   "metadata": {},
   "outputs": [],
   "source": [
    "def mk_pivot(param_to_check):\n",
    "    print(df.pivot_table(index=param_to_check,\n",
    "                         values = 'debt', \n",
    "                         aggfunc=['count', 'sum', 'mean']\n",
    "                        )\n",
    "         )"
   ]
  },
  {
   "cell_type": "code",
   "execution_count": 86,
   "id": "3962e7e7",
   "metadata": {},
   "outputs": [
    {
     "name": "stdout",
     "output_type": "stream",
     "text": [
      "          count   sum      mean\n",
      "           debt  debt      debt\n",
      "children                       \n",
      "0         14214  1072  0.075419\n",
      "1          4808   444  0.092346\n",
      "2          2052   194  0.094542\n",
      "3           330    27  0.081818\n",
      "4            41     4  0.097561\n",
      "5             9     0  0.000000\n"
     ]
    }
   ],
   "source": [
    "mk_pivot('children')"
   ]
  },
  {
   "cell_type": "markdown",
   "id": "ce654188",
   "metadata": {
    "id": "ce654188"
   },
   "source": [
    "##### Вывод 1:"
   ]
  },
  {
   "cell_type": "markdown",
   "id": "3c714b20",
   "metadata": {
    "id": "3c714b20"
   },
   "source": [
    "Таким образом видно, что \n",
    "* статистически можноделать выводы только для тех, кто имеет от 0 до 3 детей включительно.\n",
    "* риск просрочки чуть выше у тех, у кого 1 или 2 ребёнка (от 9,2 до 9,7%), \n",
    "* Пониженный риск у тех, у кого 3 ребёнка (8,2%),\n",
    "* наилучшие показатели для тех, у кого детей нет совсем - 7.5%."
   ]
  },
  {
   "cell_type": "markdown",
   "id": "tYQRQxz2qqz1",
   "metadata": {
    "id": "tYQRQxz2qqz1"
   },
   "source": [
    "### Вопрос 2 - Есть ли зависимость между семейным положением и возвратом кредита в срок?\n",
    "\n"
   ]
  },
  {
   "cell_type": "code",
   "execution_count": 87,
   "id": "4b9b7490",
   "metadata": {},
   "outputs": [
    {
     "name": "stdout",
     "output_type": "stream",
     "text": [
      "                  count  sum      mean\n",
      "                   debt debt      debt\n",
      "family_status_id                      \n",
      "0                 12339  931  0.075452\n",
      "1                  4151  388  0.093471\n",
      "2                   959   63  0.065693\n",
      "3                  1195   85  0.071130\n",
      "4                  2810  274  0.097509\n"
     ]
    }
   ],
   "source": [
    "mk_pivot('family_status_id')"
   ]
  },
  {
   "cell_type": "markdown",
   "id": "2939d0d3",
   "metadata": {},
   "source": [
    "Напомним, какие статусы скрываются за ID:"
   ]
  },
  {
   "cell_type": "code",
   "execution_count": 88,
   "id": "9f999448",
   "metadata": {},
   "outputs": [
    {
     "data": {
      "text/html": [
       "<div>\n",
       "<style scoped>\n",
       "    .dataframe tbody tr th:only-of-type {\n",
       "        vertical-align: middle;\n",
       "    }\n",
       "\n",
       "    .dataframe tbody tr th {\n",
       "        vertical-align: top;\n",
       "    }\n",
       "\n",
       "    .dataframe thead th {\n",
       "        text-align: right;\n",
       "    }\n",
       "</style>\n",
       "<table border=\"1\" class=\"dataframe\">\n",
       "  <thead>\n",
       "    <tr style=\"text-align: right;\">\n",
       "      <th></th>\n",
       "      <th>family_status_id</th>\n",
       "      <th>family_status</th>\n",
       "    </tr>\n",
       "  </thead>\n",
       "  <tbody>\n",
       "    <tr>\n",
       "      <th>0</th>\n",
       "      <td>0</td>\n",
       "      <td>женат / замужем</td>\n",
       "    </tr>\n",
       "    <tr>\n",
       "      <th>1</th>\n",
       "      <td>1</td>\n",
       "      <td>гражданский брак</td>\n",
       "    </tr>\n",
       "    <tr>\n",
       "      <th>2</th>\n",
       "      <td>2</td>\n",
       "      <td>вдовец / вдова</td>\n",
       "    </tr>\n",
       "    <tr>\n",
       "      <th>3</th>\n",
       "      <td>3</td>\n",
       "      <td>в разводе</td>\n",
       "    </tr>\n",
       "    <tr>\n",
       "      <th>4</th>\n",
       "      <td>4</td>\n",
       "      <td>Не женат / не замужем</td>\n",
       "    </tr>\n",
       "  </tbody>\n",
       "</table>\n",
       "</div>"
      ],
      "text/plain": [
       "   family_status_id          family_status\n",
       "0                 0        женат / замужем\n",
       "1                 1       гражданский брак\n",
       "2                 2         вдовец / вдова\n",
       "3                 3              в разводе\n",
       "4                 4  Не женат / не замужем"
      ]
     },
     "execution_count": 88,
     "metadata": {},
     "output_type": "execute_result"
    }
   ],
   "source": [
    "df_fam"
   ]
  },
  {
   "cell_type": "markdown",
   "id": "7yM5MOIXqqz-",
   "metadata": {
    "id": "7yM5MOIXqqz-"
   },
   "source": [
    "##### Вывод 2:"
   ]
  },
  {
   "cell_type": "markdown",
   "id": "khDX05_rqqz-",
   "metadata": {
    "id": "khDX05_rqqz-"
   },
   "source": [
    "Самые отвесттвенные плательщики - вдовые (6.5%) и разведённые (7.1%).\n",
    "Самые безотвественные - неженатые / незамужние (9,7%) и те, кто живёт в гражданском браке (9.3%)."
   ]
  },
  {
   "cell_type": "markdown",
   "id": "n6clGCXJqrzS",
   "metadata": {
    "id": "n6clGCXJqrzS"
   },
   "source": [
    "### Вопрос 3 - Есть ли зависимость между уровнем дохода и возвратом кредита в срок?"
   ]
  },
  {
   "cell_type": "code",
   "execution_count": 89,
   "id": "578e3999",
   "metadata": {},
   "outputs": [
    {
     "name": "stdout",
     "output_type": "stream",
     "text": [
      "                 count   sum      mean\n",
      "                  debt  debt      debt\n",
      "income_category                       \n",
      "A                   25     2  0.080000\n",
      "B                 5042   356  0.070607\n",
      "C                16015  1360  0.084920\n",
      "D                  350    21  0.060000\n",
      "E                   22     2  0.090909\n"
     ]
    }
   ],
   "source": [
    "mk_pivot('income_category')"
   ]
  },
  {
   "cell_type": "markdown",
   "id": "U-owwfSlqrzT",
   "metadata": {
    "id": "U-owwfSlqrzT"
   },
   "source": [
    "##### Вывод 3:"
   ]
  },
  {
   "cell_type": "markdown",
   "id": "beCNXTN9qrzT",
   "metadata": {
    "id": "beCNXTN9qrzT"
   },
   "source": [
    "Статистически можно учитывать только группы B, С и D.\n",
    "Самые ответсвенные - люди с высоким доходом (6%) и низким (7%)."
   ]
  },
  {
   "cell_type": "markdown",
   "id": "jPmLJ8OKqsWR",
   "metadata": {
    "id": "jPmLJ8OKqsWR"
   },
   "source": [
    "### Вопрос 4 - Как разные цели кредита влияют на его возврат в срок?"
   ]
  },
  {
   "cell_type": "code",
   "execution_count": 90,
   "id": "dRYhrdrqqsWR",
   "metadata": {
    "colab": {
     "base_uri": "https://localhost:8080/"
    },
    "id": "dRYhrdrqqsWR",
    "outputId": "2d78f1c2-e1e9-4cc4-e9a7-ea75ba7c861c"
   },
   "outputs": [
    {
     "name": "stdout",
     "output_type": "stream",
     "text": [
      "                          count  sum      mean\n",
      "                           debt debt      debt\n",
      "purpose_category                              \n",
      "операции с автомобилем     4306  403  0.093590\n",
      "операции с недвижимостью  10811  782  0.072334\n",
      "получение образования      4013  370  0.092200\n",
      "проведение свадьбы         2324  186  0.080034\n"
     ]
    }
   ],
   "source": [
    "mk_pivot('purpose_category')"
   ]
  },
  {
   "cell_type": "markdown",
   "id": "1ww27_FGqsWR",
   "metadata": {
    "id": "1ww27_FGqsWR"
   },
   "source": [
    "##### Вывод 4:"
   ]
  },
  {
   "cell_type": "markdown",
   "id": "OWEK3LdEpCbB",
   "metadata": {
    "id": "OWEK3LdEpCbB"
   },
   "source": [
    "самые безопасные плательщики - те, кто тратит на недвижимость (7.2%) и свадьбы (8.0%),\n",
    "покупка машины и образование - имеют высокий риск невозврата (9.4, 9.2%). "
   ]
  },
  {
   "cell_type": "markdown",
   "id": "-W8aWvmQqsWS",
   "metadata": {
    "id": "-W8aWvmQqsWS"
   },
   "source": [
    "### Ответы на дополнительные вопросы о зависимости возврата кредита в срок от параметра ..."
   ]
  },
  {
   "cell_type": "markdown",
   "id": "FLvBMJoti74F",
   "metadata": {
    "id": "FLvBMJoti74F"
   },
   "source": [
    "#### Какая доля неплательщико по всей выборке?"
   ]
  },
  {
   "cell_type": "markdown",
   "id": "5qgq8GAKUjFT",
   "metadata": {
    "id": "5qgq8GAKUjFT"
   },
   "source": [
    "* `debt`\n"
   ]
  },
  {
   "cell_type": "code",
   "execution_count": 91,
   "id": "hlersR_db_DG",
   "metadata": {
    "colab": {
     "base_uri": "https://localhost:8080/"
    },
    "id": "hlersR_db_DG",
    "outputId": "632b9959-833c-4d94-9b7b-75735cd8ddd8"
   },
   "outputs": [
    {
     "data": {
      "text/plain": [
       "debt\n",
       "0    19713\n",
       "1     1741\n",
       "Name: debt, dtype: int64"
      ]
     },
     "execution_count": 91,
     "metadata": {},
     "output_type": "execute_result"
    }
   ],
   "source": [
    "df.groupby('debt')['debt'].count()"
   ]
  },
  {
   "cell_type": "markdown",
   "id": "GvtEr4vPeFOo",
   "metadata": {
    "id": "GvtEr4vPeFOo"
   },
   "source": [
    "То есть общая доля просрочек по всей выборке = "
   ]
  },
  {
   "cell_type": "code",
   "execution_count": 92,
   "id": "subk2V2FeMHO",
   "metadata": {
    "colab": {
     "base_uri": "https://localhost:8080/"
    },
    "id": "subk2V2FeMHO",
    "outputId": "cbb93fba-69a9-4c2f-b1da-83db106d4488"
   },
   "outputs": [
    {
     "name": "stdout",
     "output_type": "stream",
     "text": [
      "8.83%\n"
     ]
    }
   ],
   "source": [
    "print(\"{0:.2%}\".format(1741 / 19712))"
   ]
  },
  {
   "cell_type": "markdown",
   "id": "hvADa6xSjWDC",
   "metadata": {
    "id": "hvADa6xSjWDC"
   },
   "source": [
    "Значит, нужно будет смотреть, какие категории имеют повышенный риск невозврата относительно этой цифры."
   ]
  },
  {
   "cell_type": "markdown",
   "id": "DfZxeRZmjoQO",
   "metadata": {
    "id": "DfZxeRZmjoQO"
   },
   "source": [
    "Проверим аналогичные закономерности для других параметров."
   ]
  },
  {
   "cell_type": "markdown",
   "id": "0rZejR3dff9o",
   "metadata": {
    "id": "0rZejR3dff9o"
   },
   "source": [
    "### Вопрос 5 - ... и общий трудовой стаж?\n",
    "\n",
    "* `days_employed`\n",
    "Эта колонка сильно восстановленная, поэтому не может являться надёжным показателем. Тем не менее, just for fun и для тренировки посмотрим, какие здесь есть закономерности. \n",
    "\n",
    "Для начала нужно разбить этот диапазон на части в зависимости от трудового стажа:"
   ]
  },
  {
   "cell_type": "code",
   "execution_count": 93,
   "id": "bb46d978",
   "metadata": {},
   "outputs": [
    {
     "data": {
      "text/plain": [
       "(1284.467, 1399.0]      2699\n",
       "(24.141, 512.359]       2682\n",
       "(512.359, 1008.951]     2682\n",
       "(2523.811, 4022.59]     2682\n",
       "(4022.59, 18388.95]     2682\n",
       "(1008.951, 1284.467]    2681\n",
       "(1749.13, 2523.811]     2681\n",
       "(1399.0, 1749.13]       2665\n",
       "Name: days_employed_shares, dtype: int64"
      ]
     },
     "execution_count": 93,
     "metadata": {},
     "output_type": "execute_result"
    }
   ],
   "source": [
    "df['days_employed_shares'] = pd.qcut(df['days_employed_corrected'], q=8)\n",
    "df['days_employed_shares'].value_counts()"
   ]
  },
  {
   "cell_type": "code",
   "execution_count": 94,
   "id": "9ad71736",
   "metadata": {},
   "outputs": [
    {
     "name": "stdout",
     "output_type": "stream",
     "text": [
      "                     count  sum      mean\n",
      "                      debt debt      debt\n",
      "days_employed_shares                     \n",
      "(24.141, 512.359]     2682  304  0.113348\n",
      "(512.359, 1008.951]   2682  287  0.107010\n",
      "(1008.951, 1284.467]  2681  208  0.077583\n",
      "(1284.467, 1399.0]    2699  168  0.062245\n",
      "(1399.0, 1749.13]     2665  213  0.079925\n",
      "(1749.13, 2523.811]   2681  228  0.085043\n",
      "(2523.811, 4022.59]   2682  195  0.072707\n",
      "(4022.59, 18388.95]   2682  138  0.051454\n"
     ]
    }
   ],
   "source": [
    "mk_pivot('days_employed_shares')"
   ]
  },
  {
   "cell_type": "markdown",
   "id": "XS2iZDsrgzLl",
   "metadata": {
    "id": "XS2iZDsrgzLl"
   },
   "source": [
    "##### Вывод 5:\n",
    "\n",
    "Если достроили данные верно, то получается, что:\n",
    "- самые расковые - с минимальным стажем - от 24 до 1008 дней.\n",
    "- самые безопасные - с самым большим стажем - от 4000 дней стажа.\n",
    "- остальные - зависимость нелинейная, см. результаты выше."
   ]
  },
  {
   "cell_type": "markdown",
   "id": "VGbVZ3YwUdI9",
   "metadata": {
    "id": "VGbVZ3YwUdI9"
   },
   "source": [
    "### Вопрос 6 - ... и возраст?\n",
    "\n",
    "* `dob_years`"
   ]
  },
  {
   "cell_type": "markdown",
   "id": "kLJx0SKifdra",
   "metadata": {
    "id": "kLJx0SKifdra"
   },
   "source": [
    "Тут явно нужно категоризовать, т.к. по каждому году явно делать выводы неправильно. "
   ]
  },
  {
   "cell_type": "code",
   "execution_count": 95,
   "id": "arJ3Q35vYRBf",
   "metadata": {
    "colab": {
     "base_uri": "https://localhost:8080/"
    },
    "id": "arJ3Q35vYRBf",
    "outputId": "1517516b-84a7-44c2-b7e4-f9958fd5b7d5"
   },
   "outputs": [
    {
     "data": {
      "text/plain": [
       "age_category\n",
       "19-25    0.100571\n",
       "25-30    0.113232\n",
       "30-40    0.097438\n",
       "40-50    0.075373\n",
       "50-60    0.065493\n",
       "60-70    0.050191\n",
       "70-80    0.035503\n",
       "Name: debt, dtype: float64"
      ]
     },
     "execution_count": 95,
     "metadata": {},
     "output_type": "execute_result"
    }
   ],
   "source": [
    "df.groupby('age_category')['debt'].sum() / df.groupby('age_category')['debt'].count()"
   ]
  },
  {
   "cell_type": "markdown",
   "id": "a8895181",
   "metadata": {},
   "source": [
    "Пересчитаем это другим способом:"
   ]
  },
  {
   "cell_type": "code",
   "execution_count": 96,
   "id": "45701d42",
   "metadata": {},
   "outputs": [
    {
     "name": "stdout",
     "output_type": "stream",
     "text": [
      "               count  sum      mean\n",
      "                debt debt      debt\n",
      "age_shares                         \n",
      "(18.999, 26.0]  1640  178  0.108537\n",
      "(26.0, 29.0]    1540  171  0.111039\n",
      "(29.0, 32.0]    1605  182  0.113396\n",
      "(32.0, 34.0]    1182  120  0.101523\n",
      "(34.0, 37.0]    1706  142  0.083236\n",
      "(37.0, 39.0]    1244  115  0.092444\n",
      "(39.0, 41.0]    1218   97  0.079639\n",
      "(41.0, 44.0]    1653  127  0.076830\n",
      "(44.0, 47.0]    1445  115  0.079585\n",
      "(47.0, 50.0]    1557  112  0.071933\n",
      "(50.0, 53.0]    1389   87  0.062635\n",
      "(53.0, 56.0]    1402   87  0.062054\n",
      "(56.0, 59.0]    1353   84  0.062084\n",
      "(59.0, 62.0]    1096   51  0.046533\n",
      "(62.0, 75.0]    1424   73  0.051264\n"
     ]
    }
   ],
   "source": [
    "df['age_shares'] = pd.qcut(df['dob_years'], q=15)\n",
    "mk_pivot('age_shares')"
   ]
  },
  {
   "cell_type": "markdown",
   "id": "_fx_jj0ZYjTY",
   "metadata": {
    "id": "_fx_jj0ZYjTY"
   },
   "source": [
    "##### Вывод 6:\n",
    "Вот тут интересные данные - разница в вероятности невозврата отличается в разы!\n",
    "Молодые имеют просрочки по возврату долгов в 2 раза чаще, чем пенсионеры. Это статистически значимый вывод, который стоит зафиксировать"
   ]
  },
  {
   "cell_type": "markdown",
   "id": "2vP6o0bnUezG",
   "metadata": {
    "id": "2vP6o0bnUezG"
   },
   "source": [
    "### Вопрос 7 - ... и уровнем образования?\n",
    "\n",
    "* `education` и `education_id`"
   ]
  },
  {
   "cell_type": "code",
   "execution_count": 97,
   "id": "d8d05b67",
   "metadata": {},
   "outputs": [
    {
     "name": "stdout",
     "output_type": "stream",
     "text": [
      "              count   sum      mean\n",
      "               debt  debt      debt\n",
      "education_id                       \n",
      "0              5250   278  0.052952\n",
      "1             15172  1364  0.089902\n",
      "2               744    68  0.091398\n",
      "3               282    31  0.109929\n",
      "4                 6     0  0.000000\n"
     ]
    }
   ],
   "source": [
    "mk_pivot('education_id')"
   ]
  },
  {
   "cell_type": "markdown",
   "id": "4f7eb4cf",
   "metadata": {},
   "source": [
    "Напомним, какие здесь есть категории:"
   ]
  },
  {
   "cell_type": "code",
   "execution_count": 98,
   "id": "c2f4df00",
   "metadata": {},
   "outputs": [
    {
     "data": {
      "text/html": [
       "<div>\n",
       "<style scoped>\n",
       "    .dataframe tbody tr th:only-of-type {\n",
       "        vertical-align: middle;\n",
       "    }\n",
       "\n",
       "    .dataframe tbody tr th {\n",
       "        vertical-align: top;\n",
       "    }\n",
       "\n",
       "    .dataframe thead th {\n",
       "        text-align: right;\n",
       "    }\n",
       "</style>\n",
       "<table border=\"1\" class=\"dataframe\">\n",
       "  <thead>\n",
       "    <tr style=\"text-align: right;\">\n",
       "      <th></th>\n",
       "      <th>education_id</th>\n",
       "      <th>education</th>\n",
       "    </tr>\n",
       "  </thead>\n",
       "  <tbody>\n",
       "    <tr>\n",
       "      <th>0</th>\n",
       "      <td>0</td>\n",
       "      <td>высшее</td>\n",
       "    </tr>\n",
       "    <tr>\n",
       "      <th>1</th>\n",
       "      <td>1</td>\n",
       "      <td>среднее</td>\n",
       "    </tr>\n",
       "    <tr>\n",
       "      <th>2</th>\n",
       "      <td>2</td>\n",
       "      <td>неоконченное высшее</td>\n",
       "    </tr>\n",
       "    <tr>\n",
       "      <th>3</th>\n",
       "      <td>3</td>\n",
       "      <td>начальное</td>\n",
       "    </tr>\n",
       "    <tr>\n",
       "      <th>4</th>\n",
       "      <td>4</td>\n",
       "      <td>ученая степень</td>\n",
       "    </tr>\n",
       "  </tbody>\n",
       "</table>\n",
       "</div>"
      ],
      "text/plain": [
       "   education_id            education\n",
       "0             0               высшее\n",
       "1             1              среднее\n",
       "2             2  неоконченное высшее\n",
       "3             3            начальное\n",
       "4             4       ученая степень"
      ]
     },
     "execution_count": 98,
     "metadata": {},
     "output_type": "execute_result"
    }
   ],
   "source": [
    "df_edu"
   ]
  },
  {
   "cell_type": "markdown",
   "id": "PNmqE9lqhHJ_",
   "metadata": {
    "id": "PNmqE9lqhHJ_"
   },
   "source": [
    "##### Вывод 7.\n",
    "В плане возраста выборка сильно смещена в сторону людей только со средним образованием. Реперезентативные группы - со средним и высшим образованием. \n",
    "Однозначно лучше давать деньги людям с высшим обрзованием, т.к. у них вероятность просрочки платежа в 1,8 раза ниже по сравнению с теми, у кого неоконченное высшее или среднее образование. "
   ]
  },
  {
   "cell_type": "markdown",
   "id": "FqSXusSQUhGk",
   "metadata": {
    "id": "FqSXusSQUhGk"
   },
   "source": [
    "### Вопрос 8 - ... и пол?\n",
    "\n",
    "* `gender`\n"
   ]
  },
  {
   "cell_type": "code",
   "execution_count": 99,
   "id": "IGFwMwxcbgTo",
   "metadata": {
    "colab": {
     "base_uri": "https://localhost:8080/"
    },
    "id": "IGFwMwxcbgTo",
    "outputId": "39dd8f60-bdb6-4615-cd0d-28ebe4efe6c2"
   },
   "outputs": [
    {
     "name": "stdout",
     "output_type": "stream",
     "text": [
      "        count  sum      mean\n",
      "         debt debt      debt\n",
      "gender                      \n",
      "F       14175  994  0.070123\n",
      "M        7279  747  0.102624\n"
     ]
    }
   ],
   "source": [
    "mk_pivot('gender')"
   ]
  },
  {
   "cell_type": "markdown",
   "id": "aIneL9kEiLtQ",
   "metadata": {
    "id": "aIneL9kEiLtQ"
   },
   "source": [
    "##### Вывод 8.\n",
    "\n",
    "Женщины не возвращают долги почти в 1.5 раза реже, чем мужчины."
   ]
  },
  {
   "cell_type": "markdown",
   "id": "zUIwbJgoUiH0",
   "metadata": {
    "id": "zUIwbJgoUiH0"
   },
   "source": [
    "### Вопрос 9 - ... и источник дохода?\n",
    "\n",
    "* `income_type`\n"
   ]
  },
  {
   "cell_type": "code",
   "execution_count": 100,
   "id": "GVtS9lvxb2vm",
   "metadata": {
    "colab": {
     "base_uri": "https://localhost:8080/"
    },
    "id": "GVtS9lvxb2vm",
    "outputId": "bd56129e-35fc-4970-f5d1-b7bba8518e6a"
   },
   "outputs": [
    {
     "name": "stdout",
     "output_type": "stream",
     "text": [
      "                 count   sum      mean\n",
      "                  debt  debt      debt\n",
      "income_type                           \n",
      "безработный          2     1  0.500000\n",
      "в декрете            1     1  1.000000\n",
      "госслужащий       1457    86  0.059025\n",
      "компаньон         5078   376  0.074045\n",
      "пенсионер         3829   216  0.056412\n",
      "предприниматель      2     0  0.000000\n",
      "сотрудник        11084  1061  0.095724\n",
      "студент              1     0  0.000000\n"
     ]
    }
   ],
   "source": [
    "mk_pivot('income_type')"
   ]
  },
  {
   "cell_type": "markdown",
   "id": "UcFAlyScicBe",
   "metadata": {
    "id": "UcFAlyScicBe"
   },
   "source": [
    "##### Вывод 9.\n",
    "\n",
    "самые надёжные плательщики - пенсионеры и госслужащие, у них порядка 5% просрочек.\n",
    "Наёмные работники имеют вероятность просрочки в 9,5%\n",
    "Бизнесмены (компаньоны) имеют риск просрочки ниже среднего - 7,4%."
   ]
  },
  {
   "cell_type": "markdown",
   "id": "e97084cb",
   "metadata": {
    "id": "e97084cb"
   },
   "source": [
    "## Общий вывод:\n",
    "\n",
    " <a id=\"step_4\"></a>\n",
    "\n",
    "[К оглавлению.](#back)"
   ]
  },
  {
   "cell_type": "markdown",
   "id": "2a143713",
   "metadata": {
    "id": "2a143713"
   },
   "source": [
    "Проведённый анализ позволяет посмтроить скоринговую модель для оценки вероятности просрочки платежа со стороны заёмщика.\n",
    "\n",
    "Общая доля просрочек во всей выборке - **8.83%** Считать факторы, которые повышают риск будем относительно этой цифры. Большая часть характеристик укладывается  в диапазон от 8 до 9%. \n",
    "\n",
    "Ниже некоторые характерные группы, где видно, что риск сильно увеличивается или уменьшается.\n",
    "\n",
    "**более 11%:**\n",
    "* возраст от 26 до 32 лет\n",
    "* (ненадёжный параметр) - малый трудовой стаж - до 512 дней\n",
    "\n",
    "**более 10%:**\n",
    "* возраст от 19 до 25 лет\n",
    "* только начальное образование\n",
    "* мужчина\n",
    "* (ненадёжный параметр) - малый трудовой стаж - от 513 до 1008 дней\n",
    "\n",
    "**более 9%:**\n",
    "* неженатые или живущие гражданским браком\n",
    "* с 1 или 2 детьми\n",
    "* просят деньги на авто или образование\n",
    "* возраст от 30 до 40\n",
    "* неоконченное высшее образование\n",
    "* наёмный работки (сотрудник)\n",
    "\n",
    "Факторы, снижающие риски просрочки:\n",
    "**ниже 8%**\n",
    "* женщины\n",
    "* опреции с недвижимостью \n",
    "* доход от 20 до 50 тыс р\n",
    "* в разводе или женатые\n",
    "* без детей\n",
    "\n",
    "**ниже 7%**\n",
    "* вдовые\n",
    "\n",
    "**ниже 6%**\n",
    "* госслужащие\n",
    "* с высшим образованием\n",
    "* возраст 60-70\n",
    "* с доходом от 200 тыс р\n",
    "* (ненадёжный параметр) - трудовой стаж от 4000 дней\n",
    "\n",
    "Один из, вероятно наиболее информативных столбцов - \"общий трудовой стаж\" имеет существенные недостатки в данных, поэтому по нему оценка проведена на была."
   ]
  }
 ],
 "metadata": {
  "ExecuteTimeLog": [
   {
    "duration": 413,
    "start_time": "2022-05-09T07:06:01.206Z"
   },
   {
    "duration": 79,
    "start_time": "2022-05-09T07:06:01.621Z"
   },
   {
    "duration": 27,
    "start_time": "2022-05-09T07:06:01.702Z"
   },
   {
    "duration": 10,
    "start_time": "2022-05-09T07:06:01.732Z"
   },
   {
    "duration": 21,
    "start_time": "2022-05-09T07:06:01.743Z"
   },
   {
    "duration": 26,
    "start_time": "2022-05-09T07:06:01.766Z"
   },
   {
    "duration": 10,
    "start_time": "2022-05-09T07:06:01.794Z"
   },
   {
    "duration": 57,
    "start_time": "2022-05-09T07:06:01.806Z"
   },
   {
    "duration": 4,
    "start_time": "2022-05-09T07:06:01.864Z"
   },
   {
    "duration": 27,
    "start_time": "2022-05-09T07:06:01.869Z"
   },
   {
    "duration": 5,
    "start_time": "2022-05-09T07:06:10.721Z"
   },
   {
    "duration": 5,
    "start_time": "2022-05-09T07:06:26.101Z"
   },
   {
    "duration": 14,
    "start_time": "2022-05-09T14:21:37.814Z"
   },
   {
    "duration": 67,
    "start_time": "2022-05-09T14:49:08.274Z"
   },
   {
    "duration": 601,
    "start_time": "2022-05-09T14:49:24.539Z"
   },
   {
    "duration": 109,
    "start_time": "2022-05-09T14:49:25.143Z"
   },
   {
    "duration": 46,
    "start_time": "2022-05-09T14:49:25.256Z"
   },
   {
    "duration": 14,
    "start_time": "2022-05-09T14:49:25.306Z"
   },
   {
    "duration": 42,
    "start_time": "2022-05-09T14:49:25.323Z"
   },
   {
    "duration": 14,
    "start_time": "2022-05-09T14:49:25.370Z"
   },
   {
    "duration": 5,
    "start_time": "2022-05-09T14:49:25.389Z"
   },
   {
    "duration": 189,
    "start_time": "2022-05-09T14:49:25.397Z"
   },
   {
    "duration": 7,
    "start_time": "2022-05-09T14:49:25.589Z"
   },
   {
    "duration": 823,
    "start_time": "2022-05-09T14:49:25.602Z"
   },
   {
    "duration": 51,
    "start_time": "2022-05-09T14:49:26.428Z"
   },
   {
    "duration": 5,
    "start_time": "2022-05-09T14:49:26.482Z"
   },
   {
    "duration": 7,
    "start_time": "2022-05-09T14:49:26.489Z"
   },
   {
    "duration": 5,
    "start_time": "2022-05-09T14:49:26.498Z"
   },
   {
    "duration": 7,
    "start_time": "2022-05-09T14:49:26.504Z"
   },
   {
    "duration": 40,
    "start_time": "2022-05-09T14:49:26.554Z"
   },
   {
    "duration": 73,
    "start_time": "2022-05-09T14:49:26.596Z"
   },
   {
    "duration": 9,
    "start_time": "2022-05-09T14:49:26.672Z"
   },
   {
    "duration": 11,
    "start_time": "2022-05-09T14:49:26.684Z"
   },
   {
    "duration": 5,
    "start_time": "2022-05-09T14:49:26.698Z"
   },
   {
    "duration": 61,
    "start_time": "2022-05-09T14:49:26.706Z"
   },
   {
    "duration": 13,
    "start_time": "2022-05-09T14:49:26.769Z"
   },
   {
    "duration": 9,
    "start_time": "2022-05-09T14:49:26.787Z"
   },
   {
    "duration": 6,
    "start_time": "2022-05-09T14:49:26.798Z"
   },
   {
    "duration": 64,
    "start_time": "2022-05-09T14:49:26.807Z"
   },
   {
    "duration": 9,
    "start_time": "2022-05-09T14:49:26.873Z"
   },
   {
    "duration": 13,
    "start_time": "2022-05-09T14:49:26.885Z"
   },
   {
    "duration": 5,
    "start_time": "2022-05-09T14:49:26.905Z"
   },
   {
    "duration": 37,
    "start_time": "2022-05-09T14:49:26.959Z"
   },
   {
    "duration": 12,
    "start_time": "2022-05-09T14:49:26.999Z"
   },
   {
    "duration": 5,
    "start_time": "2022-05-09T14:49:27.013Z"
   },
   {
    "duration": 43,
    "start_time": "2022-05-09T14:49:27.020Z"
   },
   {
    "duration": 13,
    "start_time": "2022-05-09T14:49:27.066Z"
   },
   {
    "duration": 8,
    "start_time": "2022-05-09T14:49:27.082Z"
   },
   {
    "duration": 6,
    "start_time": "2022-05-09T14:49:27.093Z"
   },
   {
    "duration": 57,
    "start_time": "2022-05-09T14:49:27.101Z"
   },
   {
    "duration": 20,
    "start_time": "2022-05-09T14:49:27.160Z"
   },
   {
    "duration": 18,
    "start_time": "2022-05-09T14:49:27.183Z"
   },
   {
    "duration": 65,
    "start_time": "2022-05-09T14:49:27.203Z"
   },
   {
    "duration": 16,
    "start_time": "2022-05-09T14:49:27.271Z"
   },
   {
    "duration": 63,
    "start_time": "2022-05-09T14:49:27.289Z"
   },
   {
    "duration": 19,
    "start_time": "2022-05-09T14:49:27.355Z"
   },
   {
    "duration": 19,
    "start_time": "2022-05-09T14:49:27.377Z"
   },
   {
    "duration": 71,
    "start_time": "2022-05-09T14:49:27.399Z"
   },
   {
    "duration": 17,
    "start_time": "2022-05-09T14:49:27.473Z"
   },
   {
    "duration": 27,
    "start_time": "2022-05-09T14:49:27.492Z"
   },
   {
    "duration": 64,
    "start_time": "2022-05-09T14:49:27.522Z"
   },
   {
    "duration": 31,
    "start_time": "2022-05-09T14:49:27.589Z"
   },
   {
    "duration": 62,
    "start_time": "2022-05-09T14:49:27.622Z"
   },
   {
    "duration": 83,
    "start_time": "2022-05-09T14:49:27.687Z"
   },
   {
    "duration": 15,
    "start_time": "2022-05-09T14:49:27.772Z"
   },
   {
    "duration": 15,
    "start_time": "2022-05-09T14:49:27.789Z"
   },
   {
    "duration": 58,
    "start_time": "2022-05-09T14:49:27.806Z"
   },
   {
    "duration": 33,
    "start_time": "2022-05-09T14:49:27.867Z"
   },
   {
    "duration": 85,
    "start_time": "2022-05-09T14:49:27.902Z"
   },
   {
    "duration": 18,
    "start_time": "2022-05-09T14:49:27.989Z"
   },
   {
    "duration": 45,
    "start_time": "2022-05-09T14:49:28.010Z"
   },
   {
    "duration": 6,
    "start_time": "2022-05-09T14:49:28.058Z"
   },
   {
    "duration": 32,
    "start_time": "2022-05-09T14:49:28.067Z"
   },
   {
    "duration": 10,
    "start_time": "2022-05-09T14:49:28.102Z"
   },
   {
    "duration": 38,
    "start_time": "2022-05-09T14:49:28.114Z"
   },
   {
    "duration": 82,
    "start_time": "2022-05-09T14:49:28.155Z"
   },
   {
    "duration": 17,
    "start_time": "2022-05-09T14:49:28.241Z"
   },
   {
    "duration": 11,
    "start_time": "2022-05-09T14:49:28.260Z"
   },
   {
    "duration": 12,
    "start_time": "2022-05-09T14:49:28.273Z"
   },
   {
    "duration": 66,
    "start_time": "2022-05-09T14:49:28.287Z"
   },
   {
    "duration": 16,
    "start_time": "2022-05-09T14:49:28.355Z"
   },
   {
    "duration": 22,
    "start_time": "2022-05-09T14:49:28.375Z"
   },
   {
    "duration": 55,
    "start_time": "2022-05-09T14:49:28.400Z"
   },
   {
    "duration": 21,
    "start_time": "2022-05-09T14:49:28.459Z"
   },
   {
    "duration": 12,
    "start_time": "2022-05-09T14:49:28.482Z"
   },
   {
    "duration": 62,
    "start_time": "2022-05-09T14:49:28.496Z"
   },
   {
    "duration": 5,
    "start_time": "2022-05-09T14:49:28.560Z"
   },
   {
    "duration": 10,
    "start_time": "2022-05-09T14:49:28.567Z"
   },
   {
    "duration": 26,
    "start_time": "2022-05-09T14:49:28.579Z"
   },
   {
    "duration": 59,
    "start_time": "2022-05-09T14:49:28.607Z"
   },
   {
    "duration": 11,
    "start_time": "2022-05-09T14:49:28.669Z"
   },
   {
    "duration": 15,
    "start_time": "2022-05-09T14:49:28.682Z"
   },
   {
    "duration": 69,
    "start_time": "2022-05-09T14:49:28.699Z"
   },
   {
    "duration": 15,
    "start_time": "2022-05-09T14:49:28.770Z"
   },
   {
    "duration": 10,
    "start_time": "2022-05-09T14:49:28.787Z"
   },
   {
    "duration": 64,
    "start_time": "2022-05-09T14:50:52.160Z"
   },
   {
    "duration": 24,
    "start_time": "2022-05-09T14:51:35.343Z"
   },
   {
    "duration": 39,
    "start_time": "2022-05-09T14:51:45.780Z"
   },
   {
    "duration": 30,
    "start_time": "2022-05-09T14:53:02.504Z"
   },
   {
    "duration": 27,
    "start_time": "2022-05-09T14:53:22.789Z"
   },
   {
    "duration": 41,
    "start_time": "2022-05-09T14:55:07.843Z"
   },
   {
    "duration": 572,
    "start_time": "2022-05-09T14:55:44.194Z"
   },
   {
    "duration": 101,
    "start_time": "2022-05-09T14:55:44.772Z"
   },
   {
    "duration": 39,
    "start_time": "2022-05-09T14:55:44.879Z"
   },
   {
    "duration": 31,
    "start_time": "2022-05-09T14:55:44.922Z"
   },
   {
    "duration": 24,
    "start_time": "2022-05-09T14:55:44.956Z"
   },
   {
    "duration": 11,
    "start_time": "2022-05-09T14:55:44.986Z"
   },
   {
    "duration": 20,
    "start_time": "2022-05-09T14:55:44.999Z"
   },
   {
    "duration": 111,
    "start_time": "2022-05-09T14:55:45.022Z"
   },
   {
    "duration": 5,
    "start_time": "2022-05-09T14:55:45.135Z"
   },
   {
    "duration": 537,
    "start_time": "2022-05-09T14:55:45.144Z"
   },
   {
    "duration": 21,
    "start_time": "2022-05-09T14:55:45.683Z"
   },
   {
    "duration": 76,
    "start_time": "2022-05-09T14:55:45.706Z"
   },
   {
    "duration": 8,
    "start_time": "2022-05-09T14:55:45.788Z"
   },
   {
    "duration": 6,
    "start_time": "2022-05-09T14:55:45.798Z"
   },
   {
    "duration": 6,
    "start_time": "2022-05-09T14:55:45.806Z"
   },
   {
    "duration": 7,
    "start_time": "2022-05-09T14:55:45.814Z"
   },
   {
    "duration": 28,
    "start_time": "2022-05-09T14:55:45.857Z"
   },
   {
    "duration": 72,
    "start_time": "2022-05-09T14:55:45.888Z"
   },
   {
    "duration": 22,
    "start_time": "2022-05-09T14:55:45.967Z"
   },
   {
    "duration": 14,
    "start_time": "2022-05-09T14:55:45.991Z"
   },
   {
    "duration": 4,
    "start_time": "2022-05-09T14:55:46.008Z"
   },
   {
    "duration": 15,
    "start_time": "2022-05-09T14:55:46.013Z"
   },
   {
    "duration": 37,
    "start_time": "2022-05-09T14:55:46.030Z"
   },
   {
    "duration": 22,
    "start_time": "2022-05-09T14:55:46.072Z"
   },
   {
    "duration": 6,
    "start_time": "2022-05-09T14:55:46.096Z"
   },
   {
    "duration": 13,
    "start_time": "2022-05-09T14:55:46.104Z"
   },
   {
    "duration": 50,
    "start_time": "2022-05-09T14:55:46.120Z"
   },
   {
    "duration": 14,
    "start_time": "2022-05-09T14:55:46.183Z"
   },
   {
    "duration": 7,
    "start_time": "2022-05-09T14:55:46.199Z"
   },
   {
    "duration": 55,
    "start_time": "2022-05-09T14:55:46.208Z"
   },
   {
    "duration": 15,
    "start_time": "2022-05-09T14:55:46.266Z"
   },
   {
    "duration": 11,
    "start_time": "2022-05-09T14:55:46.284Z"
   },
   {
    "duration": 11,
    "start_time": "2022-05-09T14:55:46.298Z"
   },
   {
    "duration": 60,
    "start_time": "2022-05-09T14:55:46.311Z"
   },
   {
    "duration": 11,
    "start_time": "2022-05-09T14:55:46.380Z"
   },
   {
    "duration": 10,
    "start_time": "2022-05-09T14:55:46.394Z"
   },
   {
    "duration": 16,
    "start_time": "2022-05-09T14:55:46.406Z"
   },
   {
    "duration": 41,
    "start_time": "2022-05-09T14:55:46.424Z"
   },
   {
    "duration": 17,
    "start_time": "2022-05-09T14:55:46.467Z"
   },
   {
    "duration": 18,
    "start_time": "2022-05-09T14:55:46.492Z"
   },
   {
    "duration": 69,
    "start_time": "2022-05-09T14:55:46.514Z"
   },
   {
    "duration": 22,
    "start_time": "2022-05-09T14:55:46.585Z"
   },
   {
    "duration": 14,
    "start_time": "2022-05-09T14:55:46.609Z"
   },
   {
    "duration": 24,
    "start_time": "2022-05-09T14:55:46.652Z"
   },
   {
    "duration": 25,
    "start_time": "2022-05-09T14:55:46.678Z"
   },
   {
    "duration": 15,
    "start_time": "2022-05-09T14:55:46.705Z"
   },
   {
    "duration": 60,
    "start_time": "2022-05-09T14:55:46.722Z"
   },
   {
    "duration": 30,
    "start_time": "2022-05-09T14:55:46.785Z"
   },
   {
    "duration": 67,
    "start_time": "2022-05-09T14:55:46.817Z"
   },
   {
    "duration": 32,
    "start_time": "2022-05-09T14:55:46.887Z"
   },
   {
    "duration": 82,
    "start_time": "2022-05-09T14:55:46.921Z"
   },
   {
    "duration": 13,
    "start_time": "2022-05-09T14:55:47.005Z"
   },
   {
    "duration": 44,
    "start_time": "2022-05-09T14:55:47.020Z"
   },
   {
    "duration": 34,
    "start_time": "2022-05-09T14:55:47.067Z"
   },
   {
    "duration": 29,
    "start_time": "2022-05-09T14:55:47.103Z"
   },
   {
    "duration": 74,
    "start_time": "2022-05-09T14:55:47.134Z"
   },
   {
    "duration": 52,
    "start_time": "2022-05-09T14:55:47.210Z"
   },
   {
    "duration": 19,
    "start_time": "2022-05-09T14:55:47.267Z"
   },
   {
    "duration": 6,
    "start_time": "2022-05-09T14:55:47.289Z"
   },
   {
    "duration": 21,
    "start_time": "2022-05-09T14:55:47.297Z"
   },
   {
    "duration": 7,
    "start_time": "2022-05-09T14:55:47.363Z"
   },
   {
    "duration": 18,
    "start_time": "2022-05-09T14:55:47.379Z"
   },
   {
    "duration": 176,
    "start_time": "2022-05-09T14:55:47.400Z"
   },
   {
    "duration": 12,
    "start_time": "2022-05-09T14:55:47.578Z"
   },
   {
    "duration": 11,
    "start_time": "2022-05-09T14:55:47.592Z"
   },
   {
    "duration": 59,
    "start_time": "2022-05-09T14:55:47.605Z"
   },
   {
    "duration": 23,
    "start_time": "2022-05-09T14:55:47.667Z"
   },
   {
    "duration": 14,
    "start_time": "2022-05-09T14:55:47.692Z"
   },
   {
    "duration": 15,
    "start_time": "2022-05-09T14:55:47.708Z"
   },
   {
    "duration": 52,
    "start_time": "2022-05-09T14:55:47.725Z"
   },
   {
    "duration": 21,
    "start_time": "2022-05-09T14:55:47.783Z"
   },
   {
    "duration": 14,
    "start_time": "2022-05-09T14:55:47.807Z"
   },
   {
    "duration": 40,
    "start_time": "2022-05-09T14:55:47.824Z"
   },
   {
    "duration": 17,
    "start_time": "2022-05-09T14:55:47.867Z"
   },
   {
    "duration": 12,
    "start_time": "2022-05-09T14:55:47.886Z"
   },
   {
    "duration": 27,
    "start_time": "2022-05-09T14:55:47.900Z"
   },
   {
    "duration": 49,
    "start_time": "2022-05-09T14:55:47.929Z"
   },
   {
    "duration": 24,
    "start_time": "2022-05-09T14:55:47.981Z"
   },
   {
    "duration": 16,
    "start_time": "2022-05-09T14:55:48.007Z"
   },
   {
    "duration": 46,
    "start_time": "2022-05-09T14:55:48.025Z"
   },
   {
    "duration": 19,
    "start_time": "2022-05-09T14:55:48.074Z"
   },
   {
    "duration": 10,
    "start_time": "2022-05-09T14:55:48.102Z"
   },
   {
    "duration": 531,
    "start_time": "2022-05-09T14:56:21.382Z"
   },
   {
    "duration": 109,
    "start_time": "2022-05-09T14:56:21.916Z"
   },
   {
    "duration": 50,
    "start_time": "2022-05-09T14:56:22.027Z"
   },
   {
    "duration": 14,
    "start_time": "2022-05-09T14:56:22.084Z"
   },
   {
    "duration": 19,
    "start_time": "2022-05-09T14:56:22.101Z"
   },
   {
    "duration": 46,
    "start_time": "2022-05-09T14:56:22.122Z"
   },
   {
    "duration": 36,
    "start_time": "2022-05-09T14:56:22.170Z"
   },
   {
    "duration": 110,
    "start_time": "2022-05-09T14:56:22.209Z"
   },
   {
    "duration": 6,
    "start_time": "2022-05-09T14:56:22.321Z"
   },
   {
    "duration": 472,
    "start_time": "2022-05-09T14:56:22.330Z"
   },
   {
    "duration": 19,
    "start_time": "2022-05-09T14:56:44.635Z"
   },
   {
    "duration": 22,
    "start_time": "2022-05-09T14:57:50.624Z"
   },
   {
    "duration": 43,
    "start_time": "2022-05-09T14:59:18.938Z"
   },
   {
    "duration": 562,
    "start_time": "2022-05-09T15:03:08.372Z"
   },
   {
    "duration": 97,
    "start_time": "2022-05-09T15:03:08.936Z"
   },
   {
    "duration": 55,
    "start_time": "2022-05-09T15:03:09.036Z"
   },
   {
    "duration": 12,
    "start_time": "2022-05-09T15:03:09.095Z"
   },
   {
    "duration": 43,
    "start_time": "2022-05-09T15:03:09.110Z"
   },
   {
    "duration": 7,
    "start_time": "2022-05-09T15:03:09.156Z"
   },
   {
    "duration": 28,
    "start_time": "2022-05-09T15:03:09.165Z"
   },
   {
    "duration": 97,
    "start_time": "2022-05-09T15:03:09.195Z"
   },
   {
    "duration": 5,
    "start_time": "2022-05-09T15:03:09.294Z"
   },
   {
    "duration": 470,
    "start_time": "2022-05-09T15:03:09.305Z"
   },
   {
    "duration": 37,
    "start_time": "2022-05-09T15:03:09.779Z"
   },
   {
    "duration": 7,
    "start_time": "2022-05-09T15:03:09.819Z"
   },
   {
    "duration": 33,
    "start_time": "2022-05-09T15:03:09.859Z"
   },
   {
    "duration": 14,
    "start_time": "2022-05-09T15:03:09.894Z"
   },
   {
    "duration": 22,
    "start_time": "2022-05-09T15:03:09.910Z"
   },
   {
    "duration": 63,
    "start_time": "2022-05-09T15:03:09.934Z"
   },
   {
    "duration": 34,
    "start_time": "2022-05-09T15:03:10.000Z"
   },
   {
    "duration": 23,
    "start_time": "2022-05-09T15:03:10.036Z"
   },
   {
    "duration": 45,
    "start_time": "2022-05-09T15:03:10.062Z"
   },
   {
    "duration": 28,
    "start_time": "2022-05-09T15:03:10.109Z"
   },
   {
    "duration": 25,
    "start_time": "2022-05-09T15:03:10.139Z"
   },
   {
    "duration": 43,
    "start_time": "2022-05-09T15:03:10.166Z"
   },
   {
    "duration": 7,
    "start_time": "2022-05-09T15:03:10.212Z"
   },
   {
    "duration": 20,
    "start_time": "2022-05-09T15:03:10.222Z"
   },
   {
    "duration": 38,
    "start_time": "2022-05-09T15:03:10.245Z"
   },
   {
    "duration": 9,
    "start_time": "2022-05-09T15:03:10.286Z"
   },
   {
    "duration": 30,
    "start_time": "2022-05-09T15:03:10.297Z"
   },
   {
    "duration": 6,
    "start_time": "2022-05-09T15:03:10.337Z"
   },
   {
    "duration": 58,
    "start_time": "2022-05-09T15:03:10.345Z"
   },
   {
    "duration": 13,
    "start_time": "2022-05-09T15:03:10.405Z"
   },
   {
    "duration": 14,
    "start_time": "2022-05-09T15:03:10.421Z"
   },
   {
    "duration": 48,
    "start_time": "2022-05-09T15:03:10.437Z"
   },
   {
    "duration": 21,
    "start_time": "2022-05-09T15:03:10.487Z"
   },
   {
    "duration": 10,
    "start_time": "2022-05-09T15:03:10.509Z"
   },
   {
    "duration": 9,
    "start_time": "2022-05-09T15:03:10.520Z"
   },
   {
    "duration": 10,
    "start_time": "2022-05-09T15:03:10.531Z"
   },
   {
    "duration": 17,
    "start_time": "2022-05-09T15:03:10.543Z"
   },
   {
    "duration": 30,
    "start_time": "2022-05-09T15:03:10.562Z"
   },
   {
    "duration": 32,
    "start_time": "2022-05-09T15:03:10.594Z"
   },
   {
    "duration": 14,
    "start_time": "2022-05-09T15:03:10.628Z"
   },
   {
    "duration": 50,
    "start_time": "2022-05-09T15:03:10.643Z"
   },
   {
    "duration": 28,
    "start_time": "2022-05-09T15:03:10.695Z"
   },
   {
    "duration": 21,
    "start_time": "2022-05-09T15:03:10.727Z"
   },
   {
    "duration": 45,
    "start_time": "2022-05-09T15:03:10.756Z"
   },
   {
    "duration": 15,
    "start_time": "2022-05-09T15:03:10.803Z"
   },
   {
    "duration": 20,
    "start_time": "2022-05-09T15:03:10.820Z"
   },
   {
    "duration": 48,
    "start_time": "2022-05-09T15:03:10.842Z"
   },
   {
    "duration": 34,
    "start_time": "2022-05-09T15:03:10.893Z"
   },
   {
    "duration": 37,
    "start_time": "2022-05-09T15:03:10.952Z"
   },
   {
    "duration": 87,
    "start_time": "2022-05-09T15:03:10.992Z"
   },
   {
    "duration": 16,
    "start_time": "2022-05-09T15:03:11.082Z"
   },
   {
    "duration": 23,
    "start_time": "2022-05-09T15:03:11.101Z"
   },
   {
    "duration": 43,
    "start_time": "2022-05-09T15:03:11.126Z"
   },
   {
    "duration": 56,
    "start_time": "2022-05-09T15:03:11.171Z"
   },
   {
    "duration": 72,
    "start_time": "2022-05-09T15:03:11.230Z"
   },
   {
    "duration": 15,
    "start_time": "2022-05-09T15:03:11.304Z"
   },
   {
    "duration": 16,
    "start_time": "2022-05-09T15:03:11.321Z"
   },
   {
    "duration": 44,
    "start_time": "2022-05-09T15:03:11.339Z"
   },
   {
    "duration": 30,
    "start_time": "2022-05-09T15:03:11.385Z"
   },
   {
    "duration": 18,
    "start_time": "2022-05-09T15:03:11.417Z"
   },
   {
    "duration": 27,
    "start_time": "2022-05-09T15:03:11.438Z"
   },
   {
    "duration": 96,
    "start_time": "2022-05-09T15:03:11.470Z"
   },
   {
    "duration": 18,
    "start_time": "2022-05-09T15:03:11.569Z"
   },
   {
    "duration": 37,
    "start_time": "2022-05-09T15:03:11.589Z"
   },
   {
    "duration": 31,
    "start_time": "2022-05-09T15:03:11.628Z"
   },
   {
    "duration": 57,
    "start_time": "2022-05-09T15:03:11.664Z"
   },
   {
    "duration": 19,
    "start_time": "2022-05-09T15:03:11.723Z"
   },
   {
    "duration": 15,
    "start_time": "2022-05-09T15:03:11.744Z"
   },
   {
    "duration": 62,
    "start_time": "2022-05-09T15:03:11.762Z"
   },
   {
    "duration": 30,
    "start_time": "2022-05-09T15:03:11.826Z"
   },
   {
    "duration": 18,
    "start_time": "2022-05-09T15:03:11.857Z"
   },
   {
    "duration": 24,
    "start_time": "2022-05-09T15:03:11.877Z"
   },
   {
    "duration": 27,
    "start_time": "2022-05-09T15:03:11.903Z"
   },
   {
    "duration": 53,
    "start_time": "2022-05-09T15:03:11.932Z"
   },
   {
    "duration": 28,
    "start_time": "2022-05-09T15:03:11.989Z"
   },
   {
    "duration": 19,
    "start_time": "2022-05-09T15:03:12.020Z"
   },
   {
    "duration": 10,
    "start_time": "2022-05-09T15:03:12.041Z"
   },
   {
    "duration": 37,
    "start_time": "2022-05-09T15:03:12.057Z"
   },
   {
    "duration": 34,
    "start_time": "2022-05-09T15:03:12.097Z"
   },
   {
    "duration": 22,
    "start_time": "2022-05-09T15:03:12.135Z"
   },
   {
    "duration": 39,
    "start_time": "2022-05-09T15:03:12.160Z"
   },
   {
    "duration": 37,
    "start_time": "2022-05-09T15:04:01.600Z"
   },
   {
    "duration": 60,
    "start_time": "2022-05-09T15:04:11.807Z"
   },
   {
    "duration": 18,
    "start_time": "2022-05-09T15:04:22.021Z"
   },
   {
    "duration": 22,
    "start_time": "2022-05-09T15:04:33.435Z"
   },
   {
    "duration": 540,
    "start_time": "2022-05-09T15:05:03.334Z"
   },
   {
    "duration": 96,
    "start_time": "2022-05-09T15:05:03.877Z"
   },
   {
    "duration": 44,
    "start_time": "2022-05-09T15:05:03.976Z"
   },
   {
    "duration": 38,
    "start_time": "2022-05-09T15:05:04.023Z"
   },
   {
    "duration": 15,
    "start_time": "2022-05-09T15:05:04.065Z"
   },
   {
    "duration": 5,
    "start_time": "2022-05-09T15:05:04.082Z"
   },
   {
    "duration": 7,
    "start_time": "2022-05-09T15:05:04.090Z"
   },
   {
    "duration": 110,
    "start_time": "2022-05-09T15:05:04.099Z"
   },
   {
    "duration": 5,
    "start_time": "2022-05-09T15:05:04.212Z"
   },
   {
    "duration": 442,
    "start_time": "2022-05-09T15:05:09.726Z"
   },
   {
    "duration": 27,
    "start_time": "2022-05-09T15:05:12.537Z"
   },
   {
    "duration": 14,
    "start_time": "2022-05-09T15:05:21.390Z"
   },
   {
    "duration": 15,
    "start_time": "2022-05-09T15:05:39.815Z"
   },
   {
    "duration": 33,
    "start_time": "2022-05-09T15:06:10.717Z"
   },
   {
    "duration": 188,
    "start_time": "2022-05-09T15:06:16.006Z"
   },
   {
    "duration": 32,
    "start_time": "2022-05-09T15:06:19.077Z"
   },
   {
    "duration": 22,
    "start_time": "2022-05-09T15:07:41.750Z"
   },
   {
    "duration": 14,
    "start_time": "2022-05-09T15:07:44.535Z"
   },
   {
    "duration": 14,
    "start_time": "2022-05-09T15:07:45.382Z"
   },
   {
    "duration": 26,
    "start_time": "2022-05-09T15:08:00.731Z"
   },
   {
    "duration": 19,
    "start_time": "2022-05-09T15:08:08.626Z"
   },
   {
    "duration": 25,
    "start_time": "2022-05-09T15:08:20.143Z"
   },
   {
    "duration": 15,
    "start_time": "2022-05-09T15:08:27.182Z"
   },
   {
    "duration": 6,
    "start_time": "2022-05-09T15:10:23.002Z"
   },
   {
    "duration": 15,
    "start_time": "2022-05-09T15:12:08.865Z"
   },
   {
    "duration": 1015,
    "start_time": "2022-05-09T15:17:59.358Z"
   },
   {
    "duration": 340,
    "start_time": "2022-05-09T15:18:41.695Z"
   },
   {
    "duration": 284,
    "start_time": "2022-05-09T15:24:25.037Z"
   },
   {
    "duration": 281,
    "start_time": "2022-05-09T15:29:22.820Z"
   },
   {
    "duration": 317,
    "start_time": "2022-05-09T15:31:05.076Z"
   },
   {
    "duration": 301,
    "start_time": "2022-05-09T15:31:46.128Z"
   },
   {
    "duration": 322,
    "start_time": "2022-05-09T15:31:59.049Z"
   },
   {
    "duration": 135,
    "start_time": "2022-05-09T15:37:15.039Z"
   },
   {
    "duration": 6,
    "start_time": "2022-05-09T15:37:41.010Z"
   },
   {
    "duration": 21,
    "start_time": "2022-05-09T15:37:44.970Z"
   },
   {
    "duration": 303,
    "start_time": "2022-05-09T15:37:58.081Z"
   },
   {
    "duration": 379,
    "start_time": "2022-05-09T15:38:18.628Z"
   },
   {
    "duration": 7,
    "start_time": "2022-05-09T15:43:55.928Z"
   },
   {
    "duration": 6,
    "start_time": "2022-05-09T15:46:29.743Z"
   },
   {
    "duration": 24,
    "start_time": "2022-05-09T15:56:06.520Z"
   },
   {
    "duration": 4,
    "start_time": "2022-05-09T16:41:59.233Z"
   },
   {
    "duration": 309,
    "start_time": "2022-05-09T16:41:59.240Z"
   },
   {
    "duration": 38,
    "start_time": "2022-05-09T16:41:59.552Z"
   },
   {
    "duration": 14,
    "start_time": "2022-05-09T16:41:59.593Z"
   },
   {
    "duration": 53,
    "start_time": "2022-05-09T16:41:59.611Z"
   },
   {
    "duration": 7,
    "start_time": "2022-05-09T16:41:59.667Z"
   },
   {
    "duration": 21,
    "start_time": "2022-05-09T16:41:59.676Z"
   },
   {
    "duration": 108,
    "start_time": "2022-05-09T16:41:59.700Z"
   },
   {
    "duration": 5,
    "start_time": "2022-05-09T16:41:59.811Z"
   },
   {
    "duration": 63,
    "start_time": "2022-05-09T16:41:59.818Z"
   },
   {
    "duration": 31,
    "start_time": "2022-05-09T16:41:59.887Z"
   },
   {
    "duration": 52,
    "start_time": "2022-05-09T16:41:59.921Z"
   },
   {
    "duration": 291,
    "start_time": "2022-05-09T16:41:59.975Z"
   },
   {
    "duration": 5,
    "start_time": "2022-05-09T16:42:00.277Z"
   },
   {
    "duration": 333,
    "start_time": "2022-05-09T16:42:00.284Z"
   },
   {
    "duration": 5,
    "start_time": "2022-05-09T16:42:00.619Z"
   },
   {
    "duration": 35,
    "start_time": "2022-05-09T16:42:00.626Z"
   },
   {
    "duration": 338,
    "start_time": "2022-05-09T16:42:00.666Z"
   },
   {
    "duration": 24,
    "start_time": "2022-05-09T16:42:01.006Z"
   },
   {
    "duration": 47,
    "start_time": "2022-05-09T16:42:01.033Z"
   },
   {
    "duration": 28,
    "start_time": "2022-05-09T16:42:01.083Z"
   },
   {
    "duration": 35,
    "start_time": "2022-05-09T16:42:01.113Z"
   },
   {
    "duration": 46,
    "start_time": "2022-05-09T16:42:01.151Z"
   },
   {
    "duration": 20,
    "start_time": "2022-05-09T16:42:01.199Z"
   },
   {
    "duration": 34,
    "start_time": "2022-05-09T16:42:01.221Z"
   },
   {
    "duration": 51,
    "start_time": "2022-05-09T16:42:01.258Z"
   },
   {
    "duration": 5,
    "start_time": "2022-05-09T16:42:01.311Z"
   },
   {
    "duration": 36,
    "start_time": "2022-05-09T16:42:01.318Z"
   },
   {
    "duration": 5,
    "start_time": "2022-05-09T16:42:01.362Z"
   },
   {
    "duration": 4,
    "start_time": "2022-05-09T16:42:01.369Z"
   },
   {
    "duration": 53,
    "start_time": "2022-05-09T16:42:01.376Z"
   },
   {
    "duration": 56,
    "start_time": "2022-05-09T16:42:01.431Z"
   },
   {
    "duration": 17,
    "start_time": "2022-05-09T16:42:01.490Z"
   },
   {
    "duration": 22,
    "start_time": "2022-05-09T16:42:01.509Z"
   },
   {
    "duration": 16,
    "start_time": "2022-05-09T16:42:01.533Z"
   },
   {
    "duration": 46,
    "start_time": "2022-05-09T16:42:01.551Z"
   },
   {
    "duration": 5,
    "start_time": "2022-05-09T16:42:01.600Z"
   },
   {
    "duration": 41,
    "start_time": "2022-05-09T16:42:01.607Z"
   },
   {
    "duration": 27,
    "start_time": "2022-05-09T16:42:01.650Z"
   },
   {
    "duration": 16,
    "start_time": "2022-05-09T16:42:01.679Z"
   },
   {
    "duration": 11,
    "start_time": "2022-05-09T16:42:01.697Z"
   },
   {
    "duration": 6,
    "start_time": "2022-05-09T16:42:01.711Z"
   },
   {
    "duration": 11,
    "start_time": "2022-05-09T16:42:01.719Z"
   },
   {
    "duration": 9,
    "start_time": "2022-05-09T16:42:01.768Z"
   },
   {
    "duration": 18,
    "start_time": "2022-05-09T16:42:01.780Z"
   },
   {
    "duration": 21,
    "start_time": "2022-05-09T16:42:01.801Z"
   },
   {
    "duration": 12,
    "start_time": "2022-05-09T16:42:01.824Z"
   },
   {
    "duration": 29,
    "start_time": "2022-05-09T16:42:01.838Z"
   },
   {
    "duration": 29,
    "start_time": "2022-05-09T16:42:01.869Z"
   },
   {
    "duration": 19,
    "start_time": "2022-05-09T16:42:01.901Z"
   },
   {
    "duration": 39,
    "start_time": "2022-05-09T16:42:01.922Z"
   },
   {
    "duration": 17,
    "start_time": "2022-05-09T16:42:01.963Z"
   },
   {
    "duration": 26,
    "start_time": "2022-05-09T16:42:01.983Z"
   },
   {
    "duration": 16,
    "start_time": "2022-05-09T16:42:02.011Z"
   },
   {
    "duration": 52,
    "start_time": "2022-05-09T16:42:02.030Z"
   },
   {
    "duration": 34,
    "start_time": "2022-05-09T16:42:02.085Z"
   },
   {
    "duration": 46,
    "start_time": "2022-05-09T16:42:02.123Z"
   },
   {
    "duration": 37,
    "start_time": "2022-05-09T16:42:02.171Z"
   },
   {
    "duration": 80,
    "start_time": "2022-05-09T16:42:02.210Z"
   },
   {
    "duration": 14,
    "start_time": "2022-05-09T16:42:02.292Z"
   },
   {
    "duration": 15,
    "start_time": "2022-05-09T16:42:02.308Z"
   },
   {
    "duration": 59,
    "start_time": "2022-05-09T16:42:02.325Z"
   },
   {
    "duration": 33,
    "start_time": "2022-05-09T16:42:02.387Z"
   },
   {
    "duration": 88,
    "start_time": "2022-05-09T16:42:02.423Z"
   },
   {
    "duration": 26,
    "start_time": "2022-05-09T16:42:02.513Z"
   },
   {
    "duration": 37,
    "start_time": "2022-05-09T16:42:02.541Z"
   },
   {
    "duration": 6,
    "start_time": "2022-05-09T16:42:02.588Z"
   },
   {
    "duration": 17,
    "start_time": "2022-05-09T16:42:02.597Z"
   },
   {
    "duration": 8,
    "start_time": "2022-05-09T16:42:02.616Z"
   },
   {
    "duration": 12,
    "start_time": "2022-05-09T16:42:02.658Z"
   },
   {
    "duration": 92,
    "start_time": "2022-05-09T16:42:02.673Z"
   },
   {
    "duration": 18,
    "start_time": "2022-05-09T16:42:02.768Z"
   },
   {
    "duration": 16,
    "start_time": "2022-05-09T16:42:02.788Z"
   },
   {
    "duration": 9,
    "start_time": "2022-05-09T16:42:02.807Z"
   },
   {
    "duration": 37,
    "start_time": "2022-05-09T16:42:02.819Z"
   },
   {
    "duration": 18,
    "start_time": "2022-05-09T16:42:02.861Z"
   },
   {
    "duration": 27,
    "start_time": "2022-05-09T16:42:02.884Z"
   },
   {
    "duration": 11,
    "start_time": "2022-05-09T16:42:02.913Z"
   },
   {
    "duration": 40,
    "start_time": "2022-05-09T16:42:02.926Z"
   },
   {
    "duration": 19,
    "start_time": "2022-05-09T16:42:02.969Z"
   },
   {
    "duration": 13,
    "start_time": "2022-05-09T16:42:02.990Z"
   },
   {
    "duration": 5,
    "start_time": "2022-05-09T16:42:03.006Z"
   },
   {
    "duration": 6,
    "start_time": "2022-05-09T16:42:03.019Z"
   },
   {
    "duration": 32,
    "start_time": "2022-05-09T16:42:03.054Z"
   },
   {
    "duration": 14,
    "start_time": "2022-05-09T16:42:11.598Z"
   },
   {
    "duration": 39,
    "start_time": "2022-05-09T16:54:06.865Z"
   },
   {
    "duration": 39,
    "start_time": "2022-05-09T16:54:15.130Z"
   },
   {
    "duration": 34,
    "start_time": "2022-05-09T16:54:46.735Z"
   },
   {
    "duration": 1628,
    "start_time": "2022-05-09T16:55:05.586Z"
   },
   {
    "duration": 104,
    "start_time": "2022-05-09T16:55:07.217Z"
   },
   {
    "duration": 61,
    "start_time": "2022-05-09T16:55:07.323Z"
   },
   {
    "duration": 16,
    "start_time": "2022-05-09T16:55:07.387Z"
   },
   {
    "duration": 15,
    "start_time": "2022-05-09T16:55:07.406Z"
   },
   {
    "duration": 32,
    "start_time": "2022-05-09T16:55:07.424Z"
   },
   {
    "duration": 21,
    "start_time": "2022-05-09T16:55:07.459Z"
   },
   {
    "duration": 102,
    "start_time": "2022-05-09T16:55:07.482Z"
   },
   {
    "duration": 6,
    "start_time": "2022-05-09T16:55:07.586Z"
   },
   {
    "duration": 108,
    "start_time": "2022-05-09T16:55:07.596Z"
   },
   {
    "duration": 32,
    "start_time": "2022-05-09T16:55:07.707Z"
   },
   {
    "duration": 17,
    "start_time": "2022-05-09T16:55:07.763Z"
   },
   {
    "duration": 314,
    "start_time": "2022-05-09T16:55:07.784Z"
   },
   {
    "duration": 5,
    "start_time": "2022-05-09T16:55:08.100Z"
   },
   {
    "duration": 327,
    "start_time": "2022-05-09T16:55:08.107Z"
   },
   {
    "duration": 15,
    "start_time": "2022-05-09T16:55:08.436Z"
   },
   {
    "duration": 40,
    "start_time": "2022-05-09T16:55:08.454Z"
   },
   {
    "duration": 313,
    "start_time": "2022-05-09T16:55:08.496Z"
   },
   {
    "duration": 42,
    "start_time": "2022-05-09T16:55:08.811Z"
   },
   {
    "duration": 11,
    "start_time": "2022-05-09T16:55:08.856Z"
   },
   {
    "duration": 50,
    "start_time": "2022-05-09T16:55:08.870Z"
   },
   {
    "duration": 7,
    "start_time": "2022-05-09T16:55:08.922Z"
   },
   {
    "duration": 7,
    "start_time": "2022-05-09T16:55:08.931Z"
   },
   {
    "duration": 16,
    "start_time": "2022-05-09T16:55:08.940Z"
   },
   {
    "duration": 33,
    "start_time": "2022-05-09T16:55:08.958Z"
   },
   {
    "duration": 39,
    "start_time": "2022-05-09T16:55:08.994Z"
   },
   {
    "duration": 46,
    "start_time": "2022-05-09T16:55:09.036Z"
   },
   {
    "duration": 15,
    "start_time": "2022-05-09T16:55:09.089Z"
   },
   {
    "duration": 21,
    "start_time": "2022-05-09T16:55:09.107Z"
   },
   {
    "duration": 5,
    "start_time": "2022-05-09T16:55:09.130Z"
   },
   {
    "duration": 9,
    "start_time": "2022-05-09T16:55:09.154Z"
   },
   {
    "duration": 31,
    "start_time": "2022-05-09T16:55:09.166Z"
   },
   {
    "duration": 12,
    "start_time": "2022-05-09T16:55:09.200Z"
   },
   {
    "duration": 11,
    "start_time": "2022-05-09T16:55:09.214Z"
   },
   {
    "duration": 41,
    "start_time": "2022-05-09T16:55:09.227Z"
   },
   {
    "duration": 16,
    "start_time": "2022-05-09T16:55:09.270Z"
   },
   {
    "duration": 20,
    "start_time": "2022-05-09T16:55:09.288Z"
   },
   {
    "duration": 6,
    "start_time": "2022-05-09T16:55:09.310Z"
   },
   {
    "duration": 45,
    "start_time": "2022-05-09T16:55:09.318Z"
   },
   {
    "duration": 17,
    "start_time": "2022-05-09T16:55:09.366Z"
   },
   {
    "duration": 14,
    "start_time": "2022-05-09T16:55:09.385Z"
   },
   {
    "duration": 10,
    "start_time": "2022-05-09T16:55:09.402Z"
   },
   {
    "duration": 6,
    "start_time": "2022-05-09T16:55:09.414Z"
   },
   {
    "duration": 38,
    "start_time": "2022-05-09T16:55:09.423Z"
   },
   {
    "duration": 32,
    "start_time": "2022-05-09T16:55:09.466Z"
   },
   {
    "duration": 12,
    "start_time": "2022-05-09T16:55:09.501Z"
   },
   {
    "duration": 15,
    "start_time": "2022-05-09T16:55:09.515Z"
   },
   {
    "duration": 17,
    "start_time": "2022-05-09T16:55:09.556Z"
   },
   {
    "duration": 33,
    "start_time": "2022-05-09T16:55:09.578Z"
   },
   {
    "duration": 14,
    "start_time": "2022-05-09T16:55:09.614Z"
   },
   {
    "duration": 28,
    "start_time": "2022-05-09T16:55:09.630Z"
   },
   {
    "duration": 36,
    "start_time": "2022-05-09T16:55:09.661Z"
   },
   {
    "duration": 12,
    "start_time": "2022-05-09T16:55:09.699Z"
   },
   {
    "duration": 15,
    "start_time": "2022-05-09T16:55:09.714Z"
   },
   {
    "duration": 28,
    "start_time": "2022-05-09T16:55:09.757Z"
   },
   {
    "duration": 28,
    "start_time": "2022-05-09T16:55:09.788Z"
   },
   {
    "duration": 69,
    "start_time": "2022-05-09T16:55:09.818Z"
   },
   {
    "duration": 37,
    "start_time": "2022-05-09T16:55:09.889Z"
   },
   {
    "duration": 58,
    "start_time": "2022-05-09T16:55:09.929Z"
   },
   {
    "duration": 82,
    "start_time": "2022-05-09T16:55:09.989Z"
   },
   {
    "duration": 18,
    "start_time": "2022-05-09T16:55:10.073Z"
   },
   {
    "duration": 17,
    "start_time": "2022-05-09T16:55:10.093Z"
   },
   {
    "duration": 15,
    "start_time": "2022-05-09T16:55:10.113Z"
   },
   {
    "duration": 43,
    "start_time": "2022-05-09T16:55:10.160Z"
   },
   {
    "duration": 79,
    "start_time": "2022-05-09T16:55:10.205Z"
   },
   {
    "duration": 17,
    "start_time": "2022-05-09T16:55:10.287Z"
   },
   {
    "duration": 15,
    "start_time": "2022-05-09T16:55:10.307Z"
   },
   {
    "duration": 41,
    "start_time": "2022-05-09T16:55:10.325Z"
   },
   {
    "duration": 33,
    "start_time": "2022-05-09T16:55:10.369Z"
   },
   {
    "duration": 7,
    "start_time": "2022-05-09T16:55:10.405Z"
   },
   {
    "duration": 8,
    "start_time": "2022-05-09T16:55:10.414Z"
   },
   {
    "duration": 80,
    "start_time": "2022-05-09T16:55:10.424Z"
   },
   {
    "duration": 12,
    "start_time": "2022-05-09T16:55:10.506Z"
   },
   {
    "duration": 40,
    "start_time": "2022-05-09T16:55:10.520Z"
   },
   {
    "duration": 15,
    "start_time": "2022-05-09T16:55:10.567Z"
   },
   {
    "duration": 19,
    "start_time": "2022-05-09T16:55:10.586Z"
   },
   {
    "duration": 14,
    "start_time": "2022-05-09T16:55:10.608Z"
   },
   {
    "duration": 45,
    "start_time": "2022-05-09T16:55:10.625Z"
   },
   {
    "duration": 12,
    "start_time": "2022-05-09T16:55:10.676Z"
   },
   {
    "duration": 17,
    "start_time": "2022-05-09T16:55:10.690Z"
   },
   {
    "duration": 12,
    "start_time": "2022-05-09T16:55:10.709Z"
   },
   {
    "duration": 14,
    "start_time": "2022-05-09T16:55:10.773Z"
   },
   {
    "duration": 10,
    "start_time": "2022-05-09T16:55:10.790Z"
   },
   {
    "duration": 18,
    "start_time": "2022-05-09T16:55:10.802Z"
   },
   {
    "duration": 47,
    "start_time": "2022-05-09T16:55:10.823Z"
   },
   {
    "duration": 22,
    "start_time": "2022-05-09T16:55:10.877Z"
   },
   {
    "duration": 15,
    "start_time": "2022-05-09T16:55:10.903Z"
   },
   {
    "duration": 42,
    "start_time": "2022-05-09T16:55:10.921Z"
   },
   {
    "duration": 17,
    "start_time": "2022-05-09T16:55:10.968Z"
   },
   {
    "duration": 8,
    "start_time": "2022-05-09T16:57:15.201Z"
   },
   {
    "duration": 413,
    "start_time": "2022-05-09T16:57:28.288Z"
   },
   {
    "duration": 40,
    "start_time": "2022-05-09T16:57:57.720Z"
   },
   {
    "duration": 19,
    "start_time": "2022-05-09T16:58:39.323Z"
   },
   {
    "duration": 13,
    "start_time": "2022-05-09T16:58:44.510Z"
   },
   {
    "duration": 11,
    "start_time": "2022-05-09T16:59:12.188Z"
   },
   {
    "duration": 20,
    "start_time": "2022-05-09T17:02:54.946Z"
   },
   {
    "duration": 5,
    "start_time": "2022-05-09T17:18:26.929Z"
   },
   {
    "duration": 12,
    "start_time": "2022-05-09T17:18:37.507Z"
   },
   {
    "duration": 25,
    "start_time": "2022-05-09T17:19:01.036Z"
   },
   {
    "duration": 18,
    "start_time": "2022-05-09T17:19:16.870Z"
   },
   {
    "duration": 9,
    "start_time": "2022-05-09T17:19:54.036Z"
   },
   {
    "duration": 19,
    "start_time": "2022-05-09T17:20:33.373Z"
   },
   {
    "duration": 14,
    "start_time": "2022-05-09T17:20:53.820Z"
   },
   {
    "duration": 27,
    "start_time": "2022-05-09T17:23:16.664Z"
   },
   {
    "duration": 26,
    "start_time": "2022-05-09T17:23:36.521Z"
   },
   {
    "duration": 12,
    "start_time": "2022-05-09T17:24:40.131Z"
   },
   {
    "duration": 3,
    "start_time": "2022-05-09T17:27:24.836Z"
   },
   {
    "duration": 179,
    "start_time": "2022-05-09T17:27:24.842Z"
   },
   {
    "duration": 75,
    "start_time": "2022-05-09T17:27:25.025Z"
   },
   {
    "duration": 16,
    "start_time": "2022-05-09T17:27:25.103Z"
   },
   {
    "duration": 11,
    "start_time": "2022-05-09T17:27:25.122Z"
   },
   {
    "duration": 23,
    "start_time": "2022-05-09T17:27:25.135Z"
   },
   {
    "duration": 9,
    "start_time": "2022-05-09T17:27:25.168Z"
   },
   {
    "duration": 132,
    "start_time": "2022-05-09T17:27:25.180Z"
   },
   {
    "duration": 6,
    "start_time": "2022-05-09T17:27:25.314Z"
   },
   {
    "duration": 59,
    "start_time": "2022-05-09T17:27:25.322Z"
   },
   {
    "duration": 50,
    "start_time": "2022-05-09T17:27:25.388Z"
   },
   {
    "duration": 18,
    "start_time": "2022-05-09T17:27:25.440Z"
   },
   {
    "duration": 446,
    "start_time": "2022-05-09T17:27:25.463Z"
   },
   {
    "duration": 6,
    "start_time": "2022-05-09T17:27:25.912Z"
   },
   {
    "duration": 448,
    "start_time": "2022-05-09T17:27:25.921Z"
   },
   {
    "duration": 10,
    "start_time": "2022-05-09T17:27:26.372Z"
   },
   {
    "duration": 36,
    "start_time": "2022-05-09T17:27:26.385Z"
   },
   {
    "duration": 346,
    "start_time": "2022-05-09T17:27:26.424Z"
   },
   {
    "duration": 31,
    "start_time": "2022-05-09T17:27:26.773Z"
   },
   {
    "duration": 7,
    "start_time": "2022-05-09T17:27:26.806Z"
   },
   {
    "duration": 68,
    "start_time": "2022-05-09T17:27:26.815Z"
   },
   {
    "duration": 14,
    "start_time": "2022-05-09T17:27:26.885Z"
   },
   {
    "duration": 15,
    "start_time": "2022-05-09T17:27:26.902Z"
   },
   {
    "duration": 71,
    "start_time": "2022-05-09T17:27:26.920Z"
   },
   {
    "duration": 26,
    "start_time": "2022-05-09T17:27:26.993Z"
   },
   {
    "duration": 13,
    "start_time": "2022-05-09T17:36:04.274Z"
   },
   {
    "duration": 6,
    "start_time": "2022-05-09T17:36:10.665Z"
   },
   {
    "duration": 1665,
    "start_time": "2022-05-09T17:39:57.346Z"
   },
   {
    "duration": 105,
    "start_time": "2022-05-09T17:39:59.014Z"
   },
   {
    "duration": 60,
    "start_time": "2022-05-09T17:39:59.122Z"
   },
   {
    "duration": 19,
    "start_time": "2022-05-09T17:39:59.185Z"
   },
   {
    "duration": 12,
    "start_time": "2022-05-09T17:39:59.207Z"
   },
   {
    "duration": 5,
    "start_time": "2022-05-09T17:39:59.222Z"
   },
   {
    "duration": 58,
    "start_time": "2022-05-09T17:39:59.229Z"
   },
   {
    "duration": 92,
    "start_time": "2022-05-09T17:39:59.289Z"
   },
   {
    "duration": 5,
    "start_time": "2022-05-09T17:39:59.384Z"
   },
   {
    "duration": 94,
    "start_time": "2022-05-09T17:40:01.992Z"
   },
   {
    "duration": 48,
    "start_time": "2022-05-09T17:40:16.535Z"
   },
   {
    "duration": 4,
    "start_time": "2022-05-09T17:40:46.418Z"
   },
   {
    "duration": 112,
    "start_time": "2022-05-09T17:40:46.424Z"
   },
   {
    "duration": 45,
    "start_time": "2022-05-09T17:40:46.539Z"
   },
   {
    "duration": 11,
    "start_time": "2022-05-09T17:40:46.587Z"
   },
   {
    "duration": 11,
    "start_time": "2022-05-09T17:40:46.601Z"
   },
   {
    "duration": 6,
    "start_time": "2022-05-09T17:40:46.614Z"
   },
   {
    "duration": 39,
    "start_time": "2022-05-09T17:40:46.621Z"
   },
   {
    "duration": 94,
    "start_time": "2022-05-09T17:40:46.663Z"
   },
   {
    "duration": 7,
    "start_time": "2022-05-09T17:40:46.762Z"
   },
   {
    "duration": 43,
    "start_time": "2022-05-09T17:40:46.771Z"
   },
   {
    "duration": 42,
    "start_time": "2022-05-09T17:40:46.817Z"
   },
   {
    "duration": 41,
    "start_time": "2022-05-09T17:40:46.862Z"
   },
   {
    "duration": 290,
    "start_time": "2022-05-09T17:40:46.905Z"
   },
   {
    "duration": 5,
    "start_time": "2022-05-09T17:40:47.197Z"
   },
   {
    "duration": 4,
    "start_time": "2022-05-09T17:40:56.810Z"
   },
   {
    "duration": 143,
    "start_time": "2022-05-09T17:40:56.816Z"
   },
   {
    "duration": 45,
    "start_time": "2022-05-09T17:40:56.963Z"
   },
   {
    "duration": 14,
    "start_time": "2022-05-09T17:40:57.011Z"
   },
   {
    "duration": 22,
    "start_time": "2022-05-09T17:40:57.053Z"
   },
   {
    "duration": 21,
    "start_time": "2022-05-09T17:40:57.076Z"
   },
   {
    "duration": 10,
    "start_time": "2022-05-09T17:40:57.099Z"
   },
   {
    "duration": 93,
    "start_time": "2022-05-09T17:40:57.111Z"
   },
   {
    "duration": 4,
    "start_time": "2022-05-09T17:40:57.207Z"
   },
   {
    "duration": 48,
    "start_time": "2022-05-09T17:40:57.213Z"
   },
   {
    "duration": 33,
    "start_time": "2022-05-09T17:40:57.267Z"
   },
   {
    "duration": 14,
    "start_time": "2022-05-09T17:40:57.302Z"
   },
   {
    "duration": 306,
    "start_time": "2022-05-09T17:40:57.319Z"
   },
   {
    "duration": 5,
    "start_time": "2022-05-09T17:40:57.627Z"
   },
   {
    "duration": 328,
    "start_time": "2022-05-09T17:40:57.635Z"
   },
   {
    "duration": 13,
    "start_time": "2022-05-09T17:40:57.965Z"
   },
   {
    "duration": 22,
    "start_time": "2022-05-09T17:40:57.980Z"
   },
   {
    "duration": 4,
    "start_time": "2022-05-09T17:41:04.640Z"
   },
   {
    "duration": 122,
    "start_time": "2022-05-09T17:41:04.647Z"
   },
   {
    "duration": 33,
    "start_time": "2022-05-09T17:41:04.774Z"
   },
   {
    "duration": 14,
    "start_time": "2022-05-09T17:41:04.810Z"
   },
   {
    "duration": 37,
    "start_time": "2022-05-09T17:41:04.829Z"
   },
   {
    "duration": 23,
    "start_time": "2022-05-09T17:41:04.869Z"
   },
   {
    "duration": 6,
    "start_time": "2022-05-09T17:41:04.895Z"
   },
   {
    "duration": 99,
    "start_time": "2022-05-09T17:41:04.903Z"
   },
   {
    "duration": 6,
    "start_time": "2022-05-09T17:41:05.004Z"
   },
   {
    "duration": 50,
    "start_time": "2022-05-09T17:41:05.012Z"
   },
   {
    "duration": 35,
    "start_time": "2022-05-09T17:41:05.066Z"
   },
   {
    "duration": 15,
    "start_time": "2022-05-09T17:41:05.103Z"
   },
   {
    "duration": 307,
    "start_time": "2022-05-09T17:41:05.121Z"
   },
   {
    "duration": 6,
    "start_time": "2022-05-09T17:41:05.430Z"
   },
   {
    "duration": 360,
    "start_time": "2022-05-09T17:41:05.438Z"
   },
   {
    "duration": 6,
    "start_time": "2022-05-09T17:41:05.800Z"
   },
   {
    "duration": 21,
    "start_time": "2022-05-09T17:41:05.808Z"
   },
   {
    "duration": 416,
    "start_time": "2022-05-09T17:41:05.851Z"
   },
   {
    "duration": 23,
    "start_time": "2022-05-09T17:41:17.923Z"
   },
   {
    "duration": 164,
    "start_time": "2022-05-09T17:41:29.696Z"
   },
   {
    "duration": 5,
    "start_time": "2022-05-09T17:41:38.581Z"
   },
   {
    "duration": 102,
    "start_time": "2022-05-09T17:41:38.594Z"
   },
   {
    "duration": 32,
    "start_time": "2022-05-09T17:41:38.699Z"
   },
   {
    "duration": 28,
    "start_time": "2022-05-09T17:41:38.752Z"
   },
   {
    "duration": 14,
    "start_time": "2022-05-09T17:41:38.782Z"
   },
   {
    "duration": 6,
    "start_time": "2022-05-09T17:41:38.801Z"
   },
   {
    "duration": 6,
    "start_time": "2022-05-09T17:41:38.810Z"
   },
   {
    "duration": 123,
    "start_time": "2022-05-09T17:41:38.819Z"
   },
   {
    "duration": 9,
    "start_time": "2022-05-09T17:41:38.946Z"
   },
   {
    "duration": 39,
    "start_time": "2022-05-09T17:41:38.958Z"
   },
   {
    "duration": 31,
    "start_time": "2022-05-09T17:41:38.999Z"
   },
   {
    "duration": 23,
    "start_time": "2022-05-09T17:41:39.055Z"
   },
   {
    "duration": 295,
    "start_time": "2022-05-09T17:41:39.080Z"
   },
   {
    "duration": 8,
    "start_time": "2022-05-09T17:41:39.378Z"
   },
   {
    "duration": 307,
    "start_time": "2022-05-09T17:41:39.392Z"
   },
   {
    "duration": 4,
    "start_time": "2022-05-09T17:41:39.701Z"
   },
   {
    "duration": 18,
    "start_time": "2022-05-09T17:41:39.708Z"
   },
   {
    "duration": 403,
    "start_time": "2022-05-09T17:41:39.728Z"
   },
   {
    "duration": 39,
    "start_time": "2022-05-09T17:41:40.134Z"
   },
   {
    "duration": 14,
    "start_time": "2022-05-09T17:41:40.176Z"
   },
   {
    "duration": 23,
    "start_time": "2022-05-09T17:41:43.519Z"
   },
   {
    "duration": 13,
    "start_time": "2022-05-09T17:41:48.790Z"
   },
   {
    "duration": 13,
    "start_time": "2022-05-09T17:41:56.480Z"
   },
   {
    "duration": 26,
    "start_time": "2022-05-09T17:42:01.419Z"
   },
   {
    "duration": 11,
    "start_time": "2022-05-09T17:42:04.683Z"
   },
   {
    "duration": 181,
    "start_time": "2022-05-09T17:42:08.442Z"
   },
   {
    "duration": 7,
    "start_time": "2022-05-09T17:42:29.342Z"
   },
   {
    "duration": 25,
    "start_time": "2022-05-09T17:42:56.082Z"
   },
   {
    "duration": 21,
    "start_time": "2022-05-09T17:45:57.577Z"
   },
   {
    "duration": 16,
    "start_time": "2022-05-09T17:48:41.863Z"
   },
   {
    "duration": 40,
    "start_time": "2022-05-09T17:48:58.348Z"
   },
   {
    "duration": 25,
    "start_time": "2022-05-09T17:49:32.422Z"
   },
   {
    "duration": 5,
    "start_time": "2022-05-09T17:50:03.321Z"
   },
   {
    "duration": 25,
    "start_time": "2022-05-09T17:50:04.712Z"
   },
   {
    "duration": 1586,
    "start_time": "2022-05-09T17:51:09.137Z"
   },
   {
    "duration": 131,
    "start_time": "2022-05-09T17:51:10.726Z"
   },
   {
    "duration": 42,
    "start_time": "2022-05-09T17:51:10.862Z"
   },
   {
    "duration": 13,
    "start_time": "2022-05-09T17:51:10.909Z"
   },
   {
    "duration": 48,
    "start_time": "2022-05-09T17:51:10.925Z"
   },
   {
    "duration": 11,
    "start_time": "2022-05-09T17:51:10.979Z"
   },
   {
    "duration": 6,
    "start_time": "2022-05-09T17:51:10.992Z"
   },
   {
    "duration": 108,
    "start_time": "2022-05-09T17:51:11.000Z"
   },
   {
    "duration": 5,
    "start_time": "2022-05-09T17:51:11.110Z"
   },
   {
    "duration": 101,
    "start_time": "2022-05-09T17:51:11.119Z"
   },
   {
    "duration": 44,
    "start_time": "2022-05-09T17:51:11.222Z"
   },
   {
    "duration": 29,
    "start_time": "2022-05-09T17:51:11.268Z"
   },
   {
    "duration": 304,
    "start_time": "2022-05-09T17:51:11.300Z"
   },
   {
    "duration": 5,
    "start_time": "2022-05-09T17:51:11.606Z"
   },
   {
    "duration": 317,
    "start_time": "2022-05-09T17:51:11.613Z"
   },
   {
    "duration": 4,
    "start_time": "2022-05-09T17:51:11.933Z"
   },
   {
    "duration": 28,
    "start_time": "2022-05-09T17:51:11.939Z"
   },
   {
    "duration": 321,
    "start_time": "2022-05-09T17:51:11.971Z"
   },
   {
    "duration": 23,
    "start_time": "2022-05-09T17:51:12.294Z"
   },
   {
    "duration": 6,
    "start_time": "2022-05-09T17:51:12.319Z"
   },
   {
    "duration": 61,
    "start_time": "2022-05-09T17:51:12.327Z"
   },
   {
    "duration": 11,
    "start_time": "2022-05-09T17:51:12.391Z"
   },
   {
    "duration": 13,
    "start_time": "2022-05-09T17:51:12.405Z"
   },
   {
    "duration": 67,
    "start_time": "2022-05-09T17:51:12.420Z"
   },
   {
    "duration": 11,
    "start_time": "2022-05-09T17:51:12.490Z"
   },
   {
    "duration": 11,
    "start_time": "2022-05-09T18:07:37.586Z"
   },
   {
    "duration": 57,
    "start_time": "2022-05-09T18:08:39.984Z"
   },
   {
    "duration": 159,
    "start_time": "2022-05-09T18:09:11.451Z"
   },
   {
    "duration": 90,
    "start_time": "2022-05-09T18:09:18.337Z"
   },
   {
    "duration": 11,
    "start_time": "2022-05-09T18:10:10.184Z"
   },
   {
    "duration": 1555,
    "start_time": "2022-05-09T18:10:43.443Z"
   },
   {
    "duration": 99,
    "start_time": "2022-05-09T18:10:45.001Z"
   },
   {
    "duration": 74,
    "start_time": "2022-05-09T18:10:45.103Z"
   },
   {
    "duration": 17,
    "start_time": "2022-05-09T18:10:45.180Z"
   },
   {
    "duration": 15,
    "start_time": "2022-05-09T18:10:45.200Z"
   },
   {
    "duration": 8,
    "start_time": "2022-05-09T18:10:45.217Z"
   },
   {
    "duration": 27,
    "start_time": "2022-05-09T18:10:45.228Z"
   },
   {
    "duration": 94,
    "start_time": "2022-05-09T18:10:45.262Z"
   },
   {
    "duration": 6,
    "start_time": "2022-05-09T18:10:45.358Z"
   },
   {
    "duration": 107,
    "start_time": "2022-05-09T18:10:45.369Z"
   },
   {
    "duration": 32,
    "start_time": "2022-05-09T18:10:45.479Z"
   },
   {
    "duration": 49,
    "start_time": "2022-05-09T18:10:45.514Z"
   },
   {
    "duration": 290,
    "start_time": "2022-05-09T18:10:45.569Z"
   },
   {
    "duration": 9,
    "start_time": "2022-05-09T18:10:45.861Z"
   },
   {
    "duration": 310,
    "start_time": "2022-05-09T18:10:45.872Z"
   },
   {
    "duration": 5,
    "start_time": "2022-05-09T18:10:46.185Z"
   },
   {
    "duration": 21,
    "start_time": "2022-05-09T18:10:46.192Z"
   },
   {
    "duration": 310,
    "start_time": "2022-05-09T18:10:46.215Z"
   },
   {
    "duration": 42,
    "start_time": "2022-05-09T18:10:46.527Z"
   },
   {
    "duration": 6,
    "start_time": "2022-05-09T18:10:46.571Z"
   },
   {
    "duration": 30,
    "start_time": "2022-05-09T18:10:46.579Z"
   },
   {
    "duration": 13,
    "start_time": "2022-05-09T18:10:46.611Z"
   },
   {
    "duration": 17,
    "start_time": "2022-05-09T18:10:46.651Z"
   },
   {
    "duration": 29,
    "start_time": "2022-05-09T18:10:46.670Z"
   },
   {
    "duration": 8,
    "start_time": "2022-05-09T18:12:50.263Z"
   },
   {
    "duration": 18,
    "start_time": "2022-05-09T18:16:13.483Z"
   },
   {
    "duration": 35,
    "start_time": "2022-05-09T18:16:18.946Z"
   },
   {
    "duration": 14,
    "start_time": "2022-05-09T18:16:28.536Z"
   },
   {
    "duration": 156,
    "start_time": "2022-05-09T18:25:33.381Z"
   },
   {
    "duration": 6,
    "start_time": "2022-05-09T18:25:38.932Z"
   },
   {
    "duration": 35,
    "start_time": "2022-05-09T18:25:43.282Z"
   },
   {
    "duration": 7,
    "start_time": "2022-05-09T18:27:27.873Z"
   },
   {
    "duration": 32,
    "start_time": "2022-05-09T18:27:30.480Z"
   },
   {
    "duration": 5,
    "start_time": "2022-05-09T18:28:40.445Z"
   },
   {
    "duration": 6,
    "start_time": "2022-05-09T18:30:39.721Z"
   },
   {
    "duration": 430,
    "start_time": "2022-05-09T18:30:45.304Z"
   },
   {
    "duration": 31,
    "start_time": "2022-05-09T18:31:09.148Z"
   },
   {
    "duration": 4,
    "start_time": "2022-05-09T18:36:38.833Z"
   },
   {
    "duration": 98,
    "start_time": "2022-05-09T18:36:38.843Z"
   },
   {
    "duration": 33,
    "start_time": "2022-05-09T18:36:38.953Z"
   },
   {
    "duration": 13,
    "start_time": "2022-05-09T18:36:38.989Z"
   },
   {
    "duration": 49,
    "start_time": "2022-05-09T18:36:39.004Z"
   },
   {
    "duration": 5,
    "start_time": "2022-05-09T18:36:39.056Z"
   },
   {
    "duration": 21,
    "start_time": "2022-05-09T18:36:39.064Z"
   },
   {
    "duration": 102,
    "start_time": "2022-05-09T18:36:39.087Z"
   },
   {
    "duration": 4,
    "start_time": "2022-05-09T18:36:39.191Z"
   },
   {
    "duration": 32,
    "start_time": "2022-05-09T18:36:39.197Z"
   },
   {
    "duration": 31,
    "start_time": "2022-05-09T18:36:39.251Z"
   },
   {
    "duration": 15,
    "start_time": "2022-05-09T18:36:39.285Z"
   },
   {
    "duration": 343,
    "start_time": "2022-05-09T18:36:39.302Z"
   },
   {
    "duration": 6,
    "start_time": "2022-05-09T18:36:39.647Z"
   },
   {
    "duration": 300,
    "start_time": "2022-05-09T18:36:39.656Z"
   },
   {
    "duration": 4,
    "start_time": "2022-05-09T18:36:39.959Z"
   },
   {
    "duration": 23,
    "start_time": "2022-05-09T18:36:39.965Z"
   },
   {
    "duration": 305,
    "start_time": "2022-05-09T18:36:39.990Z"
   },
   {
    "duration": 24,
    "start_time": "2022-05-09T18:36:40.297Z"
   },
   {
    "duration": 32,
    "start_time": "2022-05-09T18:36:40.324Z"
   },
   {
    "duration": 27,
    "start_time": "2022-05-09T18:36:40.359Z"
   },
   {
    "duration": 14,
    "start_time": "2022-05-09T18:36:40.389Z"
   },
   {
    "duration": 55,
    "start_time": "2022-05-09T18:36:40.407Z"
   },
   {
    "duration": 31,
    "start_time": "2022-05-09T18:36:40.465Z"
   },
   {
    "duration": 14,
    "start_time": "2022-05-09T18:36:40.499Z"
   },
   {
    "duration": 6,
    "start_time": "2022-05-09T18:36:40.558Z"
   },
   {
    "duration": 441,
    "start_time": "2022-05-09T18:36:40.567Z"
   },
   {
    "duration": 24,
    "start_time": "2022-05-09T18:36:41.010Z"
   },
   {
    "duration": 19,
    "start_time": "2022-05-09T18:36:41.037Z"
   },
   {
    "duration": 12,
    "start_time": "2022-05-09T18:36:41.058Z"
   },
   {
    "duration": 0,
    "start_time": "2022-05-09T18:36:41.073Z"
   },
   {
    "duration": 0,
    "start_time": "2022-05-09T18:36:41.075Z"
   },
   {
    "duration": 0,
    "start_time": "2022-05-09T18:36:41.076Z"
   },
   {
    "duration": 0,
    "start_time": "2022-05-09T18:36:41.078Z"
   },
   {
    "duration": 0,
    "start_time": "2022-05-09T18:36:41.079Z"
   },
   {
    "duration": 0,
    "start_time": "2022-05-09T18:36:41.080Z"
   },
   {
    "duration": 0,
    "start_time": "2022-05-09T18:36:41.081Z"
   },
   {
    "duration": 0,
    "start_time": "2022-05-09T18:36:41.082Z"
   },
   {
    "duration": 0,
    "start_time": "2022-05-09T18:36:41.084Z"
   },
   {
    "duration": 0,
    "start_time": "2022-05-09T18:36:41.085Z"
   },
   {
    "duration": 0,
    "start_time": "2022-05-09T18:36:41.086Z"
   },
   {
    "duration": 0,
    "start_time": "2022-05-09T18:36:41.087Z"
   },
   {
    "duration": 0,
    "start_time": "2022-05-09T18:36:41.089Z"
   },
   {
    "duration": 0,
    "start_time": "2022-05-09T18:36:41.090Z"
   },
   {
    "duration": 0,
    "start_time": "2022-05-09T18:36:41.091Z"
   },
   {
    "duration": 0,
    "start_time": "2022-05-09T18:36:41.093Z"
   },
   {
    "duration": 0,
    "start_time": "2022-05-09T18:36:41.094Z"
   },
   {
    "duration": 0,
    "start_time": "2022-05-09T18:36:41.096Z"
   },
   {
    "duration": 0,
    "start_time": "2022-05-09T18:36:41.152Z"
   },
   {
    "duration": 0,
    "start_time": "2022-05-09T18:36:41.153Z"
   },
   {
    "duration": 0,
    "start_time": "2022-05-09T18:36:41.154Z"
   },
   {
    "duration": 0,
    "start_time": "2022-05-09T18:36:41.156Z"
   },
   {
    "duration": 0,
    "start_time": "2022-05-09T18:36:41.158Z"
   },
   {
    "duration": 0,
    "start_time": "2022-05-09T18:36:41.160Z"
   },
   {
    "duration": 0,
    "start_time": "2022-05-09T18:36:41.162Z"
   },
   {
    "duration": 0,
    "start_time": "2022-05-09T18:36:41.163Z"
   },
   {
    "duration": 0,
    "start_time": "2022-05-09T18:36:41.165Z"
   },
   {
    "duration": 0,
    "start_time": "2022-05-09T18:36:41.167Z"
   },
   {
    "duration": 0,
    "start_time": "2022-05-09T18:36:41.168Z"
   },
   {
    "duration": 0,
    "start_time": "2022-05-09T18:36:41.169Z"
   },
   {
    "duration": 0,
    "start_time": "2022-05-09T18:36:41.171Z"
   },
   {
    "duration": 0,
    "start_time": "2022-05-09T18:36:41.172Z"
   },
   {
    "duration": 0,
    "start_time": "2022-05-09T18:36:41.173Z"
   },
   {
    "duration": 0,
    "start_time": "2022-05-09T18:36:41.175Z"
   },
   {
    "duration": 0,
    "start_time": "2022-05-09T18:36:41.176Z"
   },
   {
    "duration": 0,
    "start_time": "2022-05-09T18:36:41.178Z"
   },
   {
    "duration": 0,
    "start_time": "2022-05-09T18:36:41.179Z"
   },
   {
    "duration": 0,
    "start_time": "2022-05-09T18:36:41.181Z"
   },
   {
    "duration": 0,
    "start_time": "2022-05-09T18:36:41.182Z"
   },
   {
    "duration": 0,
    "start_time": "2022-05-09T18:36:41.184Z"
   },
   {
    "duration": 0,
    "start_time": "2022-05-09T18:36:41.185Z"
   },
   {
    "duration": 0,
    "start_time": "2022-05-09T18:36:41.186Z"
   },
   {
    "duration": 0,
    "start_time": "2022-05-09T18:36:41.188Z"
   },
   {
    "duration": 0,
    "start_time": "2022-05-09T18:36:41.257Z"
   },
   {
    "duration": 0,
    "start_time": "2022-05-09T18:36:41.258Z"
   },
   {
    "duration": 0,
    "start_time": "2022-05-09T18:36:41.260Z"
   },
   {
    "duration": 0,
    "start_time": "2022-05-09T18:36:41.262Z"
   },
   {
    "duration": 0,
    "start_time": "2022-05-09T18:36:41.263Z"
   },
   {
    "duration": 0,
    "start_time": "2022-05-09T18:36:41.264Z"
   },
   {
    "duration": 0,
    "start_time": "2022-05-09T18:36:41.266Z"
   },
   {
    "duration": 0,
    "start_time": "2022-05-09T18:36:41.267Z"
   },
   {
    "duration": 0,
    "start_time": "2022-05-09T18:36:41.269Z"
   },
   {
    "duration": 0,
    "start_time": "2022-05-09T18:36:41.271Z"
   },
   {
    "duration": 7,
    "start_time": "2022-05-09T18:39:11.164Z"
   },
   {
    "duration": 21,
    "start_time": "2022-05-09T18:39:19.395Z"
   },
   {
    "duration": 23,
    "start_time": "2022-05-09T18:39:36.319Z"
   },
   {
    "duration": 1526,
    "start_time": "2022-05-09T18:40:03.830Z"
   },
   {
    "duration": 91,
    "start_time": "2022-05-09T18:40:05.359Z"
   },
   {
    "duration": 37,
    "start_time": "2022-05-09T18:40:05.453Z"
   },
   {
    "duration": 12,
    "start_time": "2022-05-09T18:40:05.493Z"
   },
   {
    "duration": 45,
    "start_time": "2022-05-09T18:40:05.507Z"
   },
   {
    "duration": 6,
    "start_time": "2022-05-09T18:40:05.554Z"
   },
   {
    "duration": 7,
    "start_time": "2022-05-09T18:40:05.562Z"
   },
   {
    "duration": 99,
    "start_time": "2022-05-09T18:40:05.572Z"
   },
   {
    "duration": 6,
    "start_time": "2022-05-09T18:40:05.674Z"
   },
   {
    "duration": 108,
    "start_time": "2022-05-09T18:40:05.686Z"
   },
   {
    "duration": 30,
    "start_time": "2022-05-09T18:40:05.797Z"
   },
   {
    "duration": 29,
    "start_time": "2022-05-09T18:40:05.829Z"
   },
   {
    "duration": 281,
    "start_time": "2022-05-09T18:40:05.860Z"
   },
   {
    "duration": 9,
    "start_time": "2022-05-09T18:40:06.144Z"
   },
   {
    "duration": 290,
    "start_time": "2022-05-09T18:40:06.155Z"
   },
   {
    "duration": 5,
    "start_time": "2022-05-09T18:40:06.451Z"
   },
   {
    "duration": 16,
    "start_time": "2022-05-09T18:40:06.458Z"
   },
   {
    "duration": 296,
    "start_time": "2022-05-09T18:40:06.476Z"
   },
   {
    "duration": 24,
    "start_time": "2022-05-09T18:40:06.774Z"
   },
   {
    "duration": 6,
    "start_time": "2022-05-09T18:40:06.800Z"
   },
   {
    "duration": 52,
    "start_time": "2022-05-09T18:40:06.808Z"
   },
   {
    "duration": 11,
    "start_time": "2022-05-09T18:40:06.862Z"
   },
   {
    "duration": 13,
    "start_time": "2022-05-09T18:40:06.875Z"
   },
   {
    "duration": 24,
    "start_time": "2022-05-09T18:40:06.890Z"
   },
   {
    "duration": 44,
    "start_time": "2022-05-09T18:40:06.916Z"
   },
   {
    "duration": 6,
    "start_time": "2022-05-09T18:40:06.963Z"
   },
   {
    "duration": 430,
    "start_time": "2022-05-09T18:40:06.971Z"
   },
   {
    "duration": 24,
    "start_time": "2022-05-09T18:40:07.405Z"
   },
   {
    "duration": 22,
    "start_time": "2022-05-09T18:40:07.432Z"
   },
   {
    "duration": 23,
    "start_time": "2022-05-09T18:40:11.289Z"
   },
   {
    "duration": 10,
    "start_time": "2022-05-09T18:56:26.709Z"
   },
   {
    "duration": 192,
    "start_time": "2022-05-09T18:58:15.363Z"
   },
   {
    "duration": 12,
    "start_time": "2022-05-09T18:58:21.425Z"
   },
   {
    "duration": 13,
    "start_time": "2022-05-09T19:10:39.004Z"
   },
   {
    "duration": 5,
    "start_time": "2022-05-09T19:10:42.732Z"
   },
   {
    "duration": 451,
    "start_time": "2022-05-09T19:10:46.650Z"
   },
   {
    "duration": 27,
    "start_time": "2022-05-09T19:11:08.440Z"
   },
   {
    "duration": 25,
    "start_time": "2022-05-09T19:14:21.966Z"
   },
   {
    "duration": 34,
    "start_time": "2022-05-09T19:14:30.486Z"
   },
   {
    "duration": 4,
    "start_time": "2022-05-09T19:18:27.254Z"
   },
   {
    "duration": 120,
    "start_time": "2022-05-09T19:18:27.260Z"
   },
   {
    "duration": 32,
    "start_time": "2022-05-09T19:18:27.383Z"
   },
   {
    "duration": 45,
    "start_time": "2022-05-09T19:18:27.417Z"
   },
   {
    "duration": 12,
    "start_time": "2022-05-09T19:18:27.466Z"
   },
   {
    "duration": 5,
    "start_time": "2022-05-09T19:18:27.481Z"
   },
   {
    "duration": 7,
    "start_time": "2022-05-09T19:18:27.488Z"
   },
   {
    "duration": 116,
    "start_time": "2022-05-09T19:18:27.497Z"
   },
   {
    "duration": 4,
    "start_time": "2022-05-09T19:18:27.616Z"
   },
   {
    "duration": 40,
    "start_time": "2022-05-09T19:18:27.622Z"
   },
   {
    "duration": 32,
    "start_time": "2022-05-09T19:18:27.668Z"
   },
   {
    "duration": 13,
    "start_time": "2022-05-09T19:18:27.703Z"
   },
   {
    "duration": 404,
    "start_time": "2022-05-09T19:18:27.718Z"
   },
   {
    "duration": 4,
    "start_time": "2022-05-09T19:18:28.124Z"
   },
   {
    "duration": 308,
    "start_time": "2022-05-09T19:18:28.130Z"
   },
   {
    "duration": 20,
    "start_time": "2022-05-09T19:18:28.440Z"
   },
   {
    "duration": 18,
    "start_time": "2022-05-09T19:18:28.463Z"
   },
   {
    "duration": 301,
    "start_time": "2022-05-09T19:18:28.483Z"
   },
   {
    "duration": 22,
    "start_time": "2022-05-09T19:18:28.786Z"
   },
   {
    "duration": 6,
    "start_time": "2022-05-09T19:18:28.811Z"
   },
   {
    "duration": 63,
    "start_time": "2022-05-09T19:18:28.819Z"
   },
   {
    "duration": 10,
    "start_time": "2022-05-09T19:18:28.884Z"
   },
   {
    "duration": 15,
    "start_time": "2022-05-09T19:18:28.896Z"
   },
   {
    "duration": 52,
    "start_time": "2022-05-09T19:18:28.913Z"
   },
   {
    "duration": 11,
    "start_time": "2022-05-09T19:18:28.968Z"
   },
   {
    "duration": 9,
    "start_time": "2022-05-09T19:18:28.981Z"
   },
   {
    "duration": 447,
    "start_time": "2022-05-09T19:18:28.992Z"
   },
   {
    "duration": 35,
    "start_time": "2022-05-09T19:18:29.441Z"
   },
   {
    "duration": 7,
    "start_time": "2022-05-09T19:18:29.483Z"
   },
   {
    "duration": 25,
    "start_time": "2022-05-09T19:18:29.492Z"
   },
   {
    "duration": 43,
    "start_time": "2022-05-09T19:18:29.519Z"
   },
   {
    "duration": 13,
    "start_time": "2022-05-09T19:18:29.565Z"
   },
   {
    "duration": 6,
    "start_time": "2022-05-09T19:18:29.580Z"
   },
   {
    "duration": 444,
    "start_time": "2022-05-09T19:18:29.588Z"
   },
   {
    "duration": 37,
    "start_time": "2022-05-09T19:18:30.034Z"
   },
   {
    "duration": 5,
    "start_time": "2022-05-09T19:18:30.073Z"
   },
   {
    "duration": 13,
    "start_time": "2022-05-09T19:18:30.080Z"
   },
   {
    "duration": 5,
    "start_time": "2022-05-09T19:18:30.095Z"
   },
   {
    "duration": 14,
    "start_time": "2022-05-09T19:18:30.102Z"
   },
   {
    "duration": 13,
    "start_time": "2022-05-09T19:37:56.618Z"
   },
   {
    "duration": 10,
    "start_time": "2022-05-09T19:38:03.178Z"
   },
   {
    "duration": 13,
    "start_time": "2022-05-09T19:39:23.236Z"
   },
   {
    "duration": 13,
    "start_time": "2022-05-09T19:51:08.428Z"
   },
   {
    "duration": 20,
    "start_time": "2022-05-09T19:51:13.122Z"
   },
   {
    "duration": 16,
    "start_time": "2022-05-09T19:51:19.833Z"
   },
   {
    "duration": 127,
    "start_time": "2022-05-09T19:51:46.118Z"
   },
   {
    "duration": 9,
    "start_time": "2022-05-09T19:51:52.349Z"
   },
   {
    "duration": 10,
    "start_time": "2022-05-09T19:52:12.433Z"
   },
   {
    "duration": 10,
    "start_time": "2022-05-09T19:52:33.013Z"
   },
   {
    "duration": 8,
    "start_time": "2022-05-09T19:52:44.173Z"
   },
   {
    "duration": 8,
    "start_time": "2022-05-09T19:53:15.670Z"
   },
   {
    "duration": 11,
    "start_time": "2022-05-09T19:53:50.736Z"
   },
   {
    "duration": 11,
    "start_time": "2022-05-09T19:54:08.838Z"
   },
   {
    "duration": 10,
    "start_time": "2022-05-09T19:57:12.063Z"
   },
   {
    "duration": 71,
    "start_time": "2022-05-09T20:06:56.060Z"
   },
   {
    "duration": 1679,
    "start_time": "2022-05-09T20:07:03.602Z"
   },
   {
    "duration": 96,
    "start_time": "2022-05-09T20:07:05.283Z"
   },
   {
    "duration": 51,
    "start_time": "2022-05-09T20:07:05.382Z"
   },
   {
    "duration": 25,
    "start_time": "2022-05-09T20:07:05.436Z"
   },
   {
    "duration": 12,
    "start_time": "2022-05-09T20:07:05.463Z"
   },
   {
    "duration": 9,
    "start_time": "2022-05-09T20:07:05.477Z"
   },
   {
    "duration": 15,
    "start_time": "2022-05-09T20:07:05.488Z"
   },
   {
    "duration": 103,
    "start_time": "2022-05-09T20:07:05.506Z"
   },
   {
    "duration": 5,
    "start_time": "2022-05-09T20:07:05.611Z"
   },
   {
    "duration": 97,
    "start_time": "2022-05-09T20:07:05.619Z"
   },
   {
    "duration": 45,
    "start_time": "2022-05-09T20:07:05.719Z"
   },
   {
    "duration": 14,
    "start_time": "2022-05-09T20:07:05.766Z"
   },
   {
    "duration": 310,
    "start_time": "2022-05-09T20:07:05.782Z"
   },
   {
    "duration": 5,
    "start_time": "2022-05-09T20:07:06.094Z"
   },
   {
    "duration": 283,
    "start_time": "2022-05-09T20:07:06.101Z"
   },
   {
    "duration": 4,
    "start_time": "2022-05-09T20:07:06.387Z"
   },
   {
    "duration": 18,
    "start_time": "2022-05-09T20:07:06.393Z"
   },
   {
    "duration": 294,
    "start_time": "2022-05-09T20:07:06.413Z"
   },
   {
    "duration": 23,
    "start_time": "2022-05-09T20:07:06.709Z"
   },
   {
    "duration": 19,
    "start_time": "2022-05-09T20:07:06.734Z"
   },
   {
    "duration": 27,
    "start_time": "2022-05-09T20:07:06.755Z"
   },
   {
    "duration": 13,
    "start_time": "2022-05-09T20:07:06.784Z"
   },
   {
    "duration": 18,
    "start_time": "2022-05-09T20:07:11.615Z"
   },
   {
    "duration": 8,
    "start_time": "2022-05-09T20:07:52.201Z"
   },
   {
    "duration": 103,
    "start_time": "2022-05-09T20:08:28.692Z"
   },
   {
    "duration": 21,
    "start_time": "2022-05-09T20:08:43.280Z"
   },
   {
    "duration": 8,
    "start_time": "2022-05-09T20:09:05.796Z"
   },
   {
    "duration": 113,
    "start_time": "2022-05-09T20:09:30.001Z"
   },
   {
    "duration": 18,
    "start_time": "2022-05-09T20:09:32.288Z"
   },
   {
    "duration": 12,
    "start_time": "2022-05-09T20:11:11.313Z"
   },
   {
    "duration": 38,
    "start_time": "2022-05-09T20:11:22.646Z"
   },
   {
    "duration": 37,
    "start_time": "2022-05-09T20:11:29.982Z"
   },
   {
    "duration": 114,
    "start_time": "2022-05-09T20:12:15.934Z"
   },
   {
    "duration": 2070,
    "start_time": "2022-05-09T20:12:32.803Z"
   },
   {
    "duration": 9,
    "start_time": "2022-05-09T20:12:45.080Z"
   },
   {
    "duration": 10,
    "start_time": "2022-05-09T20:15:18.145Z"
   },
   {
    "duration": 10,
    "start_time": "2022-05-09T20:17:43.415Z"
   },
   {
    "duration": 7,
    "start_time": "2022-05-09T20:18:15.081Z"
   },
   {
    "duration": 14,
    "start_time": "2022-05-09T20:18:22.073Z"
   },
   {
    "duration": 16,
    "start_time": "2022-05-09T20:19:21.589Z"
   },
   {
    "duration": 16,
    "start_time": "2022-05-09T20:19:27.150Z"
   },
   {
    "duration": 16,
    "start_time": "2022-05-09T20:19:38.220Z"
   },
   {
    "duration": 12,
    "start_time": "2022-05-09T20:19:58.617Z"
   },
   {
    "duration": 5,
    "start_time": "2022-05-09T20:34:03.483Z"
   },
   {
    "duration": 21,
    "start_time": "2022-05-09T20:39:35.932Z"
   },
   {
    "duration": 19,
    "start_time": "2022-05-09T20:40:13.531Z"
   },
   {
    "duration": 18,
    "start_time": "2022-05-09T20:40:27.736Z"
   },
   {
    "duration": 12,
    "start_time": "2022-05-09T20:41:42.384Z"
   },
   {
    "duration": 1447,
    "start_time": "2022-05-09T20:41:47.631Z"
   },
   {
    "duration": 93,
    "start_time": "2022-05-09T20:41:49.080Z"
   },
   {
    "duration": 38,
    "start_time": "2022-05-09T20:41:49.175Z"
   },
   {
    "duration": 45,
    "start_time": "2022-05-09T20:41:49.216Z"
   },
   {
    "duration": 13,
    "start_time": "2022-05-09T20:41:49.263Z"
   },
   {
    "duration": 5,
    "start_time": "2022-05-09T20:41:49.278Z"
   },
   {
    "duration": 5,
    "start_time": "2022-05-09T20:41:49.286Z"
   },
   {
    "duration": 115,
    "start_time": "2022-05-09T20:41:49.293Z"
   },
   {
    "duration": 5,
    "start_time": "2022-05-09T20:41:49.410Z"
   },
   {
    "duration": 101,
    "start_time": "2022-05-09T20:41:49.419Z"
   },
   {
    "duration": 47,
    "start_time": "2022-05-09T20:41:49.522Z"
   },
   {
    "duration": 13,
    "start_time": "2022-05-09T20:41:49.571Z"
   },
   {
    "duration": 301,
    "start_time": "2022-05-09T20:41:49.586Z"
   },
   {
    "duration": 5,
    "start_time": "2022-05-09T20:41:49.889Z"
   },
   {
    "duration": 309,
    "start_time": "2022-05-09T20:41:49.896Z"
   },
   {
    "duration": 4,
    "start_time": "2022-05-09T20:41:50.207Z"
   },
   {
    "duration": 16,
    "start_time": "2022-05-09T20:41:50.213Z"
   },
   {
    "duration": 315,
    "start_time": "2022-05-09T20:41:50.231Z"
   },
   {
    "duration": 28,
    "start_time": "2022-05-09T20:41:50.556Z"
   },
   {
    "duration": 6,
    "start_time": "2022-05-09T20:41:50.586Z"
   },
   {
    "duration": 21,
    "start_time": "2022-05-09T20:41:50.595Z"
   },
   {
    "duration": 42,
    "start_time": "2022-05-09T20:41:50.619Z"
   },
   {
    "duration": 13,
    "start_time": "2022-05-09T20:41:50.664Z"
   },
   {
    "duration": 16,
    "start_time": "2022-05-09T20:41:50.679Z"
   },
   {
    "duration": 10,
    "start_time": "2022-05-09T20:41:50.698Z"
   },
   {
    "duration": 13,
    "start_time": "2022-05-09T20:41:50.759Z"
   },
   {
    "duration": 12,
    "start_time": "2022-05-09T20:41:50.774Z"
   },
   {
    "duration": 5,
    "start_time": "2022-05-09T20:41:53.093Z"
   },
   {
    "duration": 21,
    "start_time": "2022-05-09T20:41:55.572Z"
   },
   {
    "duration": 5,
    "start_time": "2022-05-09T20:43:08.978Z"
   },
   {
    "duration": 171,
    "start_time": "2022-05-09T20:43:21.734Z"
   },
   {
    "duration": 7,
    "start_time": "2022-05-09T20:43:34.524Z"
   },
   {
    "duration": 27,
    "start_time": "2022-05-09T20:43:36.787Z"
   },
   {
    "duration": 5,
    "start_time": "2022-05-09T20:43:48.578Z"
   },
   {
    "duration": 25,
    "start_time": "2022-05-09T20:43:50.568Z"
   },
   {
    "duration": 1454,
    "start_time": "2022-05-09T20:44:18.746Z"
   },
   {
    "duration": 90,
    "start_time": "2022-05-09T20:44:20.203Z"
   },
   {
    "duration": 35,
    "start_time": "2022-05-09T20:44:20.296Z"
   },
   {
    "duration": 12,
    "start_time": "2022-05-09T20:44:20.352Z"
   },
   {
    "duration": 10,
    "start_time": "2022-05-09T20:44:20.366Z"
   },
   {
    "duration": 5,
    "start_time": "2022-05-09T20:44:20.378Z"
   },
   {
    "duration": 9,
    "start_time": "2022-05-09T20:44:20.385Z"
   },
   {
    "duration": 111,
    "start_time": "2022-05-09T20:44:20.396Z"
   },
   {
    "duration": 5,
    "start_time": "2022-05-09T20:44:20.509Z"
   },
   {
    "duration": 96,
    "start_time": "2022-05-09T20:44:20.518Z"
   },
   {
    "duration": 38,
    "start_time": "2022-05-09T20:44:20.616Z"
   },
   {
    "duration": 16,
    "start_time": "2022-05-09T20:44:20.657Z"
   },
   {
    "duration": 283,
    "start_time": "2022-05-09T20:44:20.675Z"
   },
   {
    "duration": 5,
    "start_time": "2022-05-09T20:44:20.960Z"
   },
   {
    "duration": 299,
    "start_time": "2022-05-09T20:44:20.967Z"
   },
   {
    "duration": 5,
    "start_time": "2022-05-09T20:44:21.268Z"
   },
   {
    "duration": 16,
    "start_time": "2022-05-09T20:44:21.275Z"
   },
   {
    "duration": 297,
    "start_time": "2022-05-09T20:44:21.293Z"
   },
   {
    "duration": 24,
    "start_time": "2022-05-09T20:44:21.592Z"
   },
   {
    "duration": 6,
    "start_time": "2022-05-09T20:44:21.618Z"
   },
   {
    "duration": 49,
    "start_time": "2022-05-09T20:44:21.626Z"
   },
   {
    "duration": 13,
    "start_time": "2022-05-09T20:44:21.678Z"
   },
   {
    "duration": 7,
    "start_time": "2022-05-09T20:44:21.693Z"
   },
   {
    "duration": 14,
    "start_time": "2022-05-09T20:44:21.703Z"
   },
   {
    "duration": 42,
    "start_time": "2022-05-09T20:44:21.719Z"
   },
   {
    "duration": 20,
    "start_time": "2022-05-09T20:44:21.764Z"
   },
   {
    "duration": 11,
    "start_time": "2022-05-09T20:44:21.786Z"
   },
   {
    "duration": 5,
    "start_time": "2022-05-09T20:44:25.904Z"
   },
   {
    "duration": 161,
    "start_time": "2022-05-09T20:44:28.527Z"
   },
   {
    "duration": 5,
    "start_time": "2022-05-09T20:45:05.601Z"
   },
   {
    "duration": 24,
    "start_time": "2022-05-09T20:45:07.688Z"
   },
   {
    "duration": 6,
    "start_time": "2022-05-09T20:52:37.165Z"
   },
   {
    "duration": 24,
    "start_time": "2022-05-09T20:52:38.692Z"
   },
   {
    "duration": 26,
    "start_time": "2022-05-09T20:52:57.251Z"
   },
   {
    "duration": 34,
    "start_time": "2022-05-09T20:53:02.305Z"
   },
   {
    "duration": 12,
    "start_time": "2022-05-09T20:54:19.772Z"
   },
   {
    "duration": 5,
    "start_time": "2022-05-09T20:55:03.742Z"
   },
   {
    "duration": 24,
    "start_time": "2022-05-09T20:55:06.349Z"
   },
   {
    "duration": 7,
    "start_time": "2022-05-09T20:55:47.253Z"
   },
   {
    "duration": 5,
    "start_time": "2022-05-09T20:56:01.348Z"
   },
   {
    "duration": 25,
    "start_time": "2022-05-09T20:56:03.337Z"
   },
   {
    "duration": 8,
    "start_time": "2022-05-09T20:56:26.927Z"
   },
   {
    "duration": 26,
    "start_time": "2022-05-09T20:56:41.925Z"
   },
   {
    "duration": 1485,
    "start_time": "2022-05-09T21:00:14.004Z"
   },
   {
    "duration": 91,
    "start_time": "2022-05-09T21:00:15.491Z"
   },
   {
    "duration": 35,
    "start_time": "2022-05-09T21:00:15.585Z"
   },
   {
    "duration": 33,
    "start_time": "2022-05-09T21:00:15.622Z"
   },
   {
    "duration": 12,
    "start_time": "2022-05-09T21:00:15.658Z"
   },
   {
    "duration": 7,
    "start_time": "2022-05-09T21:00:15.672Z"
   },
   {
    "duration": 15,
    "start_time": "2022-05-09T21:00:15.680Z"
   },
   {
    "duration": 100,
    "start_time": "2022-05-09T21:00:15.697Z"
   },
   {
    "duration": 5,
    "start_time": "2022-05-09T21:00:15.799Z"
   },
   {
    "duration": 97,
    "start_time": "2022-05-09T21:00:15.806Z"
   },
   {
    "duration": 31,
    "start_time": "2022-05-09T21:00:15.905Z"
   },
   {
    "duration": 12,
    "start_time": "2022-05-09T21:00:15.953Z"
   },
   {
    "duration": 287,
    "start_time": "2022-05-09T21:00:15.967Z"
   },
   {
    "duration": 5,
    "start_time": "2022-05-09T21:00:16.258Z"
   },
   {
    "duration": 293,
    "start_time": "2022-05-09T21:00:16.265Z"
   },
   {
    "duration": 4,
    "start_time": "2022-05-09T21:00:16.560Z"
   },
   {
    "duration": 18,
    "start_time": "2022-05-09T21:00:16.567Z"
   },
   {
    "duration": 289,
    "start_time": "2022-05-09T21:00:16.587Z"
   },
   {
    "duration": 23,
    "start_time": "2022-05-09T21:00:16.878Z"
   },
   {
    "duration": 6,
    "start_time": "2022-05-09T21:00:16.903Z"
   },
   {
    "duration": 52,
    "start_time": "2022-05-09T21:00:16.911Z"
   },
   {
    "duration": 18,
    "start_time": "2022-05-09T21:00:16.966Z"
   },
   {
    "duration": 13,
    "start_time": "2022-05-09T21:00:16.987Z"
   },
   {
    "duration": 14,
    "start_time": "2022-05-09T21:00:17.003Z"
   },
   {
    "duration": 34,
    "start_time": "2022-05-09T21:00:17.020Z"
   },
   {
    "duration": 14,
    "start_time": "2022-05-09T21:00:17.056Z"
   },
   {
    "duration": 11,
    "start_time": "2022-05-09T21:00:17.072Z"
   },
   {
    "duration": 6,
    "start_time": "2022-05-09T21:00:17.085Z"
   },
   {
    "duration": 193,
    "start_time": "2022-05-09T21:00:17.093Z"
   },
   {
    "duration": 0,
    "start_time": "2022-05-09T21:00:17.288Z"
   },
   {
    "duration": 0,
    "start_time": "2022-05-09T21:00:17.290Z"
   },
   {
    "duration": 0,
    "start_time": "2022-05-09T21:00:17.292Z"
   },
   {
    "duration": 0,
    "start_time": "2022-05-09T21:00:17.294Z"
   },
   {
    "duration": 0,
    "start_time": "2022-05-09T21:00:17.295Z"
   },
   {
    "duration": 0,
    "start_time": "2022-05-09T21:00:17.297Z"
   },
   {
    "duration": 0,
    "start_time": "2022-05-09T21:00:17.299Z"
   },
   {
    "duration": 0,
    "start_time": "2022-05-09T21:00:17.300Z"
   },
   {
    "duration": 0,
    "start_time": "2022-05-09T21:00:17.302Z"
   },
   {
    "duration": 0,
    "start_time": "2022-05-09T21:00:17.304Z"
   },
   {
    "duration": 0,
    "start_time": "2022-05-09T21:00:17.305Z"
   },
   {
    "duration": 0,
    "start_time": "2022-05-09T21:00:17.306Z"
   },
   {
    "duration": 0,
    "start_time": "2022-05-09T21:00:17.308Z"
   },
   {
    "duration": 0,
    "start_time": "2022-05-09T21:00:17.309Z"
   },
   {
    "duration": 28,
    "start_time": "2022-05-09T21:03:53.430Z"
   },
   {
    "duration": 110,
    "start_time": "2022-05-09T21:04:31.558Z"
   },
   {
    "duration": 109,
    "start_time": "2022-05-09T21:04:55.755Z"
   },
   {
    "duration": 113,
    "start_time": "2022-05-09T21:05:11.798Z"
   },
   {
    "duration": 108,
    "start_time": "2022-05-09T21:05:20.221Z"
   },
   {
    "duration": 5,
    "start_time": "2022-05-09T21:05:38.714Z"
   },
   {
    "duration": 9,
    "start_time": "2022-05-09T21:05:41.668Z"
   },
   {
    "duration": 121,
    "start_time": "2022-05-09T21:06:50.175Z"
   },
   {
    "duration": 6,
    "start_time": "2022-05-09T21:07:13.444Z"
   },
   {
    "duration": 26,
    "start_time": "2022-05-09T21:07:15.592Z"
   },
   {
    "duration": 5,
    "start_time": "2022-05-09T21:10:04.221Z"
   },
   {
    "duration": 92,
    "start_time": "2022-05-09T21:10:04.228Z"
   },
   {
    "duration": 54,
    "start_time": "2022-05-09T21:10:04.323Z"
   },
   {
    "duration": 12,
    "start_time": "2022-05-09T21:10:04.379Z"
   },
   {
    "duration": 60,
    "start_time": "2022-05-09T21:10:04.394Z"
   },
   {
    "duration": 6,
    "start_time": "2022-05-09T21:10:04.456Z"
   },
   {
    "duration": 9,
    "start_time": "2022-05-09T21:10:04.464Z"
   },
   {
    "duration": 114,
    "start_time": "2022-05-09T21:10:04.475Z"
   },
   {
    "duration": 5,
    "start_time": "2022-05-09T21:10:04.591Z"
   },
   {
    "duration": 24,
    "start_time": "2022-05-09T21:10:04.599Z"
   },
   {
    "duration": 34,
    "start_time": "2022-05-09T21:10:04.651Z"
   },
   {
    "duration": 22,
    "start_time": "2022-05-09T21:10:04.688Z"
   },
   {
    "duration": 304,
    "start_time": "2022-05-09T21:10:04.713Z"
   },
   {
    "duration": 5,
    "start_time": "2022-05-09T21:10:05.020Z"
   },
   {
    "duration": 559,
    "start_time": "2022-05-09T21:10:05.028Z"
   },
   {
    "duration": 4,
    "start_time": "2022-05-09T21:10:05.590Z"
   },
   {
    "duration": 26,
    "start_time": "2022-05-09T21:10:05.596Z"
   },
   {
    "duration": 331,
    "start_time": "2022-05-09T21:10:05.624Z"
   },
   {
    "duration": 26,
    "start_time": "2022-05-09T21:10:05.957Z"
   },
   {
    "duration": 7,
    "start_time": "2022-05-09T21:10:05.985Z"
   },
   {
    "duration": 63,
    "start_time": "2022-05-09T21:10:05.994Z"
   },
   {
    "duration": 12,
    "start_time": "2022-05-09T21:10:06.059Z"
   },
   {
    "duration": 24,
    "start_time": "2022-05-09T21:10:06.073Z"
   },
   {
    "duration": 29,
    "start_time": "2022-05-09T21:10:06.100Z"
   },
   {
    "duration": 22,
    "start_time": "2022-05-09T21:10:06.131Z"
   },
   {
    "duration": 27,
    "start_time": "2022-05-09T21:10:06.156Z"
   },
   {
    "duration": 24,
    "start_time": "2022-05-09T21:10:06.186Z"
   },
   {
    "duration": 7,
    "start_time": "2022-05-09T21:10:06.213Z"
   },
   {
    "duration": 47,
    "start_time": "2022-05-09T21:10:06.226Z"
   },
   {
    "duration": 1,
    "start_time": "2022-05-09T21:10:06.276Z"
   },
   {
    "duration": 0,
    "start_time": "2022-05-09T21:10:06.279Z"
   },
   {
    "duration": 0,
    "start_time": "2022-05-09T21:10:06.281Z"
   },
   {
    "duration": 0,
    "start_time": "2022-05-09T21:10:06.284Z"
   },
   {
    "duration": 0,
    "start_time": "2022-05-09T21:10:06.286Z"
   },
   {
    "duration": 0,
    "start_time": "2022-05-09T21:10:06.288Z"
   },
   {
    "duration": 0,
    "start_time": "2022-05-09T21:10:06.290Z"
   },
   {
    "duration": 0,
    "start_time": "2022-05-09T21:10:06.291Z"
   },
   {
    "duration": 0,
    "start_time": "2022-05-09T21:10:06.292Z"
   },
   {
    "duration": 0,
    "start_time": "2022-05-09T21:10:06.294Z"
   },
   {
    "duration": 0,
    "start_time": "2022-05-09T21:10:06.296Z"
   },
   {
    "duration": 0,
    "start_time": "2022-05-09T21:10:06.297Z"
   },
   {
    "duration": 5,
    "start_time": "2022-05-09T21:14:17.164Z"
   },
   {
    "duration": 25,
    "start_time": "2022-05-09T21:14:24.788Z"
   },
   {
    "duration": 20,
    "start_time": "2022-05-09T21:15:20.224Z"
   },
   {
    "duration": 23,
    "start_time": "2022-05-09T21:15:47.462Z"
   },
   {
    "duration": 1696,
    "start_time": "2022-05-09T21:18:05.371Z"
   },
   {
    "duration": 93,
    "start_time": "2022-05-09T21:18:07.070Z"
   },
   {
    "duration": 51,
    "start_time": "2022-05-09T21:18:07.167Z"
   },
   {
    "duration": 37,
    "start_time": "2022-05-09T21:18:07.222Z"
   },
   {
    "duration": 12,
    "start_time": "2022-05-09T21:18:07.263Z"
   },
   {
    "duration": 7,
    "start_time": "2022-05-09T21:18:07.278Z"
   },
   {
    "duration": 9,
    "start_time": "2022-05-09T21:18:07.287Z"
   },
   {
    "duration": 120,
    "start_time": "2022-05-09T21:18:07.298Z"
   },
   {
    "duration": 5,
    "start_time": "2022-05-09T21:18:07.421Z"
   },
   {
    "duration": 77,
    "start_time": "2022-05-09T21:18:07.451Z"
   },
   {
    "duration": 42,
    "start_time": "2022-05-09T21:18:07.531Z"
   },
   {
    "duration": 24,
    "start_time": "2022-05-09T21:18:07.576Z"
   },
   {
    "duration": 287,
    "start_time": "2022-05-09T21:18:07.602Z"
   },
   {
    "duration": 5,
    "start_time": "2022-05-09T21:18:07.891Z"
   },
   {
    "duration": 301,
    "start_time": "2022-05-09T21:18:07.898Z"
   },
   {
    "duration": 5,
    "start_time": "2022-05-09T21:18:08.201Z"
   },
   {
    "duration": 22,
    "start_time": "2022-05-09T21:18:08.208Z"
   },
   {
    "duration": 293,
    "start_time": "2022-05-09T21:18:08.232Z"
   },
   {
    "duration": 35,
    "start_time": "2022-05-09T21:18:08.528Z"
   },
   {
    "duration": 7,
    "start_time": "2022-05-09T21:18:08.566Z"
   },
   {
    "duration": 27,
    "start_time": "2022-05-09T21:18:08.575Z"
   },
   {
    "duration": 10,
    "start_time": "2022-05-09T21:18:08.604Z"
   },
   {
    "duration": 48,
    "start_time": "2022-05-09T21:18:08.616Z"
   },
   {
    "duration": 29,
    "start_time": "2022-05-09T21:18:08.667Z"
   },
   {
    "duration": 10,
    "start_time": "2022-05-09T21:18:08.698Z"
   },
   {
    "duration": 18,
    "start_time": "2022-05-09T21:18:08.710Z"
   },
   {
    "duration": 22,
    "start_time": "2022-05-09T21:18:08.732Z"
   },
   {
    "duration": 5,
    "start_time": "2022-05-09T21:18:08.761Z"
   },
   {
    "duration": 173,
    "start_time": "2022-05-09T21:18:08.768Z"
   },
   {
    "duration": 0,
    "start_time": "2022-05-09T21:18:08.944Z"
   },
   {
    "duration": 0,
    "start_time": "2022-05-09T21:18:08.951Z"
   },
   {
    "duration": 0,
    "start_time": "2022-05-09T21:18:08.953Z"
   },
   {
    "duration": 0,
    "start_time": "2022-05-09T21:18:08.955Z"
   },
   {
    "duration": 0,
    "start_time": "2022-05-09T21:18:08.956Z"
   },
   {
    "duration": 0,
    "start_time": "2022-05-09T21:18:08.958Z"
   },
   {
    "duration": 0,
    "start_time": "2022-05-09T21:18:08.959Z"
   },
   {
    "duration": 0,
    "start_time": "2022-05-09T21:18:08.961Z"
   },
   {
    "duration": 0,
    "start_time": "2022-05-09T21:18:08.962Z"
   },
   {
    "duration": 0,
    "start_time": "2022-05-09T21:18:08.963Z"
   },
   {
    "duration": 0,
    "start_time": "2022-05-09T21:18:08.965Z"
   },
   {
    "duration": 0,
    "start_time": "2022-05-09T21:18:08.967Z"
   },
   {
    "duration": 0,
    "start_time": "2022-05-09T21:18:08.968Z"
   },
   {
    "duration": 0,
    "start_time": "2022-05-09T21:18:08.969Z"
   },
   {
    "duration": 0,
    "start_time": "2022-05-09T21:18:08.970Z"
   },
   {
    "duration": 0,
    "start_time": "2022-05-09T21:18:08.971Z"
   },
   {
    "duration": 0,
    "start_time": "2022-05-09T21:18:08.973Z"
   },
   {
    "duration": 1,
    "start_time": "2022-05-09T21:18:08.974Z"
   },
   {
    "duration": 0,
    "start_time": "2022-05-09T21:18:08.976Z"
   },
   {
    "duration": 0,
    "start_time": "2022-05-09T21:18:08.977Z"
   },
   {
    "duration": 0,
    "start_time": "2022-05-09T21:18:08.979Z"
   },
   {
    "duration": 0,
    "start_time": "2022-05-09T21:18:08.980Z"
   },
   {
    "duration": 0,
    "start_time": "2022-05-09T21:18:08.981Z"
   },
   {
    "duration": 0,
    "start_time": "2022-05-09T21:18:08.983Z"
   },
   {
    "duration": 0,
    "start_time": "2022-05-09T21:18:08.984Z"
   },
   {
    "duration": 0,
    "start_time": "2022-05-09T21:18:08.986Z"
   },
   {
    "duration": 0,
    "start_time": "2022-05-09T21:18:08.987Z"
   },
   {
    "duration": 0,
    "start_time": "2022-05-09T21:18:08.989Z"
   },
   {
    "duration": 0,
    "start_time": "2022-05-09T21:18:08.990Z"
   },
   {
    "duration": 0,
    "start_time": "2022-05-09T21:18:08.991Z"
   },
   {
    "duration": 0,
    "start_time": "2022-05-09T21:18:08.993Z"
   },
   {
    "duration": 0,
    "start_time": "2022-05-09T21:18:09.051Z"
   },
   {
    "duration": 0,
    "start_time": "2022-05-09T21:18:09.053Z"
   },
   {
    "duration": 0,
    "start_time": "2022-05-09T21:18:09.054Z"
   },
   {
    "duration": 1,
    "start_time": "2022-05-09T21:18:09.055Z"
   },
   {
    "duration": 0,
    "start_time": "2022-05-09T21:18:09.057Z"
   },
   {
    "duration": 0,
    "start_time": "2022-05-09T21:18:09.059Z"
   },
   {
    "duration": 0,
    "start_time": "2022-05-09T21:18:09.060Z"
   },
   {
    "duration": 0,
    "start_time": "2022-05-09T21:18:09.061Z"
   },
   {
    "duration": 0,
    "start_time": "2022-05-09T21:18:09.062Z"
   },
   {
    "duration": 0,
    "start_time": "2022-05-09T21:18:09.065Z"
   },
   {
    "duration": 0,
    "start_time": "2022-05-09T21:18:09.066Z"
   },
   {
    "duration": 0,
    "start_time": "2022-05-09T21:18:09.067Z"
   },
   {
    "duration": 0,
    "start_time": "2022-05-09T21:18:09.069Z"
   },
   {
    "duration": 0,
    "start_time": "2022-05-09T21:18:09.070Z"
   },
   {
    "duration": 0,
    "start_time": "2022-05-09T21:18:09.072Z"
   },
   {
    "duration": 0,
    "start_time": "2022-05-09T21:18:09.073Z"
   },
   {
    "duration": 0,
    "start_time": "2022-05-09T21:18:09.074Z"
   },
   {
    "duration": 0,
    "start_time": "2022-05-09T21:18:09.076Z"
   },
   {
    "duration": 0,
    "start_time": "2022-05-09T21:18:09.077Z"
   },
   {
    "duration": 0,
    "start_time": "2022-05-09T21:18:09.079Z"
   },
   {
    "duration": 0,
    "start_time": "2022-05-09T21:18:09.080Z"
   },
   {
    "duration": 0,
    "start_time": "2022-05-09T21:18:09.082Z"
   },
   {
    "duration": 0,
    "start_time": "2022-05-09T21:18:09.084Z"
   },
   {
    "duration": 0,
    "start_time": "2022-05-09T21:18:09.085Z"
   },
   {
    "duration": 0,
    "start_time": "2022-05-09T21:18:09.086Z"
   },
   {
    "duration": 0,
    "start_time": "2022-05-09T21:18:09.088Z"
   },
   {
    "duration": 0,
    "start_time": "2022-05-09T21:18:09.152Z"
   },
   {
    "duration": 0,
    "start_time": "2022-05-09T21:18:09.155Z"
   },
   {
    "duration": 0,
    "start_time": "2022-05-09T21:18:09.157Z"
   },
   {
    "duration": 0,
    "start_time": "2022-05-09T21:18:09.160Z"
   },
   {
    "duration": 0,
    "start_time": "2022-05-09T21:18:09.162Z"
   },
   {
    "duration": 0,
    "start_time": "2022-05-09T21:18:09.164Z"
   },
   {
    "duration": 0,
    "start_time": "2022-05-09T21:18:09.166Z"
   },
   {
    "duration": 0,
    "start_time": "2022-05-09T21:18:09.172Z"
   },
   {
    "duration": 0,
    "start_time": "2022-05-09T21:18:09.174Z"
   },
   {
    "duration": 0,
    "start_time": "2022-05-09T21:18:09.175Z"
   },
   {
    "duration": 0,
    "start_time": "2022-05-09T21:18:09.177Z"
   },
   {
    "duration": 322,
    "start_time": "2022-05-09T21:20:49.010Z"
   },
   {
    "duration": 9,
    "start_time": "2022-05-09T21:20:52.073Z"
   },
   {
    "duration": 25,
    "start_time": "2022-05-09T21:22:14.192Z"
   },
   {
    "duration": 10,
    "start_time": "2022-05-09T21:22:21.504Z"
   },
   {
    "duration": 6,
    "start_time": "2022-05-09T21:22:51.590Z"
   },
   {
    "duration": 441,
    "start_time": "2022-05-09T21:22:55.982Z"
   },
   {
    "duration": 23,
    "start_time": "2022-05-09T21:23:01.895Z"
   },
   {
    "duration": 6,
    "start_time": "2022-05-09T21:23:05.606Z"
   },
   {
    "duration": 23,
    "start_time": "2022-05-09T21:23:07.427Z"
   },
   {
    "duration": 10,
    "start_time": "2022-05-09T21:23:07.452Z"
   },
   {
    "duration": 13,
    "start_time": "2022-05-09T21:23:07.464Z"
   },
   {
    "duration": 6,
    "start_time": "2022-05-09T21:23:07.480Z"
   },
   {
    "duration": 493,
    "start_time": "2022-05-09T21:23:07.489Z"
   },
   {
    "duration": 24,
    "start_time": "2022-05-09T21:23:07.984Z"
   },
   {
    "duration": 6,
    "start_time": "2022-05-09T21:23:08.010Z"
   },
   {
    "duration": 38,
    "start_time": "2022-05-09T21:23:08.018Z"
   },
   {
    "duration": 6,
    "start_time": "2022-05-09T21:23:08.059Z"
   },
   {
    "duration": 6,
    "start_time": "2022-05-09T21:23:08.069Z"
   },
   {
    "duration": 10,
    "start_time": "2022-05-09T21:23:08.077Z"
   },
   {
    "duration": 9,
    "start_time": "2022-05-09T21:23:08.089Z"
   },
   {
    "duration": 57,
    "start_time": "2022-05-09T21:23:08.100Z"
   },
   {
    "duration": 5,
    "start_time": "2022-05-09T21:23:08.160Z"
   },
   {
    "duration": 16,
    "start_time": "2022-05-09T21:23:08.167Z"
   },
   {
    "duration": 18,
    "start_time": "2022-05-09T21:23:08.185Z"
   },
   {
    "duration": 20,
    "start_time": "2022-05-09T21:23:08.205Z"
   },
   {
    "duration": 27,
    "start_time": "2022-05-09T21:23:08.227Z"
   },
   {
    "duration": 25,
    "start_time": "2022-05-09T21:23:08.256Z"
   },
   {
    "duration": 24,
    "start_time": "2022-05-09T21:23:08.283Z"
   },
   {
    "duration": 27,
    "start_time": "2022-05-09T21:23:08.310Z"
   },
   {
    "duration": 32,
    "start_time": "2022-05-09T21:23:08.339Z"
   },
   {
    "duration": 24,
    "start_time": "2022-05-09T21:23:08.373Z"
   },
   {
    "duration": 22,
    "start_time": "2022-05-09T21:23:08.400Z"
   },
   {
    "duration": 26,
    "start_time": "2022-05-09T21:23:08.424Z"
   },
   {
    "duration": 29,
    "start_time": "2022-05-09T21:23:08.452Z"
   },
   {
    "duration": 21,
    "start_time": "2022-05-09T21:23:08.483Z"
   },
   {
    "duration": 20,
    "start_time": "2022-05-09T21:23:08.510Z"
   },
   {
    "duration": 41,
    "start_time": "2022-05-09T21:23:08.533Z"
   },
   {
    "duration": 32,
    "start_time": "2022-05-09T21:23:08.576Z"
   },
   {
    "duration": 56,
    "start_time": "2022-05-09T21:23:08.610Z"
   },
   {
    "duration": 53,
    "start_time": "2022-05-09T21:23:08.668Z"
   },
   {
    "duration": 35,
    "start_time": "2022-05-09T21:23:08.723Z"
   },
   {
    "duration": 14,
    "start_time": "2022-05-09T21:23:08.760Z"
   },
   {
    "duration": 24,
    "start_time": "2022-05-09T21:23:08.776Z"
   },
   {
    "duration": 49,
    "start_time": "2022-05-09T21:23:08.803Z"
   },
   {
    "duration": 53,
    "start_time": "2022-05-09T21:23:08.854Z"
   },
   {
    "duration": 41,
    "start_time": "2022-05-09T21:23:08.910Z"
   },
   {
    "duration": 16,
    "start_time": "2022-05-09T21:23:08.953Z"
   },
   {
    "duration": 5,
    "start_time": "2022-05-09T21:23:08.971Z"
   },
   {
    "duration": 16,
    "start_time": "2022-05-09T21:23:08.978Z"
   },
   {
    "duration": 8,
    "start_time": "2022-05-09T21:23:08.997Z"
   },
   {
    "duration": 44,
    "start_time": "2022-05-09T21:23:09.008Z"
   },
   {
    "duration": 60,
    "start_time": "2022-05-09T21:23:09.054Z"
   },
   {
    "duration": 11,
    "start_time": "2022-05-09T21:23:09.116Z"
   },
   {
    "duration": 30,
    "start_time": "2022-05-09T21:23:09.129Z"
   },
   {
    "duration": 8,
    "start_time": "2022-05-09T21:23:09.162Z"
   },
   {
    "duration": 15,
    "start_time": "2022-05-09T21:23:09.173Z"
   },
   {
    "duration": 11,
    "start_time": "2022-05-09T21:23:09.190Z"
   },
   {
    "duration": 56,
    "start_time": "2022-05-09T21:23:09.203Z"
   },
   {
    "duration": 11,
    "start_time": "2022-05-09T21:23:09.261Z"
   },
   {
    "duration": 22,
    "start_time": "2022-05-09T21:23:09.274Z"
   },
   {
    "duration": 11,
    "start_time": "2022-05-09T21:23:09.298Z"
   },
   {
    "duration": 42,
    "start_time": "2022-05-09T21:23:09.311Z"
   },
   {
    "duration": 5,
    "start_time": "2022-05-09T21:23:09.355Z"
   },
   {
    "duration": 17,
    "start_time": "2022-05-09T21:23:09.362Z"
   },
   {
    "duration": 11,
    "start_time": "2022-05-09T21:23:09.382Z"
   },
   {
    "duration": 57,
    "start_time": "2022-05-09T21:23:09.396Z"
   },
   {
    "duration": 15,
    "start_time": "2022-05-09T21:23:09.456Z"
   },
   {
    "duration": 14,
    "start_time": "2022-05-09T21:23:09.474Z"
   },
   {
    "duration": 13,
    "start_time": "2022-05-09T21:23:09.490Z"
   },
   {
    "duration": 49,
    "start_time": "2022-05-09T21:33:52.573Z"
   },
   {
    "duration": 29,
    "start_time": "2022-05-09T21:34:22.017Z"
   },
   {
    "duration": 27,
    "start_time": "2022-05-09T21:34:35.314Z"
   },
   {
    "duration": 24,
    "start_time": "2022-05-09T21:34:59.482Z"
   },
   {
    "duration": 6,
    "start_time": "2022-05-09T22:14:12.784Z"
   },
   {
    "duration": 37,
    "start_time": "2022-05-09T22:14:22.054Z"
   },
   {
    "duration": 12,
    "start_time": "2022-05-09T22:14:35.522Z"
   },
   {
    "duration": 15,
    "start_time": "2022-05-09T22:53:14.868Z"
   },
   {
    "duration": 34,
    "start_time": "2022-05-09T22:53:57.845Z"
   },
   {
    "duration": 35,
    "start_time": "2022-05-09T22:57:16.707Z"
   },
   {
    "duration": 9,
    "start_time": "2022-05-09T22:58:01.860Z"
   },
   {
    "duration": 8,
    "start_time": "2022-05-09T22:58:09.555Z"
   },
   {
    "duration": 12,
    "start_time": "2022-05-09T22:58:57.523Z"
   },
   {
    "duration": 30,
    "start_time": "2022-05-09T22:59:08.401Z"
   },
   {
    "duration": 9,
    "start_time": "2022-05-09T22:59:19.927Z"
   },
   {
    "duration": 30,
    "start_time": "2022-05-09T22:59:21.565Z"
   },
   {
    "duration": 9,
    "start_time": "2022-05-09T22:59:34.867Z"
   },
   {
    "duration": 12,
    "start_time": "2022-05-09T22:59:50.073Z"
   },
   {
    "duration": 9,
    "start_time": "2022-05-09T23:00:33.863Z"
   },
   {
    "duration": 27,
    "start_time": "2022-05-09T23:00:39.681Z"
   },
   {
    "duration": 12,
    "start_time": "2022-05-09T23:00:44.320Z"
   },
   {
    "duration": 27,
    "start_time": "2022-05-09T23:00:47.312Z"
   },
   {
    "duration": 1675,
    "start_time": "2022-05-09T23:03:59.622Z"
   },
   {
    "duration": 106,
    "start_time": "2022-05-09T23:04:01.300Z"
   },
   {
    "duration": 63,
    "start_time": "2022-05-09T23:04:01.409Z"
   },
   {
    "duration": 14,
    "start_time": "2022-05-09T23:04:01.475Z"
   },
   {
    "duration": 13,
    "start_time": "2022-05-09T23:04:01.491Z"
   },
   {
    "duration": 6,
    "start_time": "2022-05-09T23:04:01.507Z"
   },
   {
    "duration": 44,
    "start_time": "2022-05-09T23:04:01.515Z"
   },
   {
    "duration": 111,
    "start_time": "2022-05-09T23:04:01.562Z"
   },
   {
    "duration": 5,
    "start_time": "2022-05-09T23:04:01.676Z"
   },
   {
    "duration": 113,
    "start_time": "2022-05-09T23:04:01.685Z"
   },
   {
    "duration": 33,
    "start_time": "2022-05-09T23:04:01.800Z"
   },
   {
    "duration": 21,
    "start_time": "2022-05-09T23:04:01.858Z"
   },
   {
    "duration": 311,
    "start_time": "2022-05-09T23:04:01.881Z"
   },
   {
    "duration": 5,
    "start_time": "2022-05-09T23:04:02.195Z"
   },
   {
    "duration": 317,
    "start_time": "2022-05-09T23:04:02.202Z"
   },
   {
    "duration": 4,
    "start_time": "2022-05-09T23:04:02.521Z"
   },
   {
    "duration": 38,
    "start_time": "2022-05-09T23:04:02.527Z"
   },
   {
    "duration": 319,
    "start_time": "2022-05-09T23:04:02.570Z"
   },
   {
    "duration": 38,
    "start_time": "2022-05-09T23:04:02.891Z"
   },
   {
    "duration": 32,
    "start_time": "2022-05-09T23:04:02.931Z"
   },
   {
    "duration": 25,
    "start_time": "2022-05-09T23:04:02.970Z"
   },
   {
    "duration": 12,
    "start_time": "2022-05-09T23:04:02.997Z"
   },
   {
    "duration": 11,
    "start_time": "2022-05-09T23:04:03.011Z"
   },
   {
    "duration": 44,
    "start_time": "2022-05-09T23:04:03.025Z"
   },
   {
    "duration": 9,
    "start_time": "2022-05-09T23:04:03.072Z"
   },
   {
    "duration": 13,
    "start_time": "2022-05-09T23:04:03.083Z"
   },
   {
    "duration": 10,
    "start_time": "2022-05-09T23:04:03.099Z"
   },
   {
    "duration": 8,
    "start_time": "2022-05-09T23:04:03.162Z"
   },
   {
    "duration": 382,
    "start_time": "2022-05-09T23:04:03.172Z"
   },
   {
    "duration": 11,
    "start_time": "2022-05-09T23:04:03.559Z"
   },
   {
    "duration": 34,
    "start_time": "2022-05-09T23:04:03.572Z"
   },
   {
    "duration": 15,
    "start_time": "2022-05-09T23:04:03.609Z"
   },
   {
    "duration": 25,
    "start_time": "2022-05-09T23:04:03.627Z"
   },
   {
    "duration": 456,
    "start_time": "2022-05-09T23:04:03.654Z"
   },
   {
    "duration": 23,
    "start_time": "2022-05-09T23:04:04.113Z"
   },
   {
    "duration": 11,
    "start_time": "2022-05-09T23:04:04.151Z"
   },
   {
    "duration": 29,
    "start_time": "2022-05-09T23:04:04.165Z"
   },
   {
    "duration": 9,
    "start_time": "2022-05-09T23:04:04.197Z"
   },
   {
    "duration": 11,
    "start_time": "2022-05-09T23:04:04.209Z"
   },
   {
    "duration": 40,
    "start_time": "2022-05-09T23:04:04.223Z"
   },
   {
    "duration": 770,
    "start_time": "2022-05-09T23:04:04.266Z"
   },
   {
    "duration": 40,
    "start_time": "2022-05-09T23:04:05.039Z"
   },
   {
    "duration": 7,
    "start_time": "2022-05-09T23:04:05.082Z"
   },
   {
    "duration": 13,
    "start_time": "2022-05-09T23:04:05.091Z"
   },
   {
    "duration": 5,
    "start_time": "2022-05-09T23:04:05.107Z"
   },
   {
    "duration": 39,
    "start_time": "2022-05-09T23:04:05.115Z"
   },
   {
    "duration": 26,
    "start_time": "2022-05-09T23:04:05.156Z"
   },
   {
    "duration": 9,
    "start_time": "2022-05-09T23:04:05.185Z"
   },
   {
    "duration": 12,
    "start_time": "2022-05-09T23:04:05.196Z"
   },
   {
    "duration": 5,
    "start_time": "2022-05-09T23:04:05.210Z"
   },
   {
    "duration": 53,
    "start_time": "2022-05-09T23:04:05.217Z"
   },
   {
    "duration": 8,
    "start_time": "2022-05-09T23:04:05.272Z"
   },
   {
    "duration": 10,
    "start_time": "2022-05-09T23:04:05.283Z"
   },
   {
    "duration": 10,
    "start_time": "2022-05-09T23:04:05.295Z"
   },
   {
    "duration": 11,
    "start_time": "2022-05-09T23:04:05.307Z"
   },
   {
    "duration": 12,
    "start_time": "2022-05-09T23:04:05.358Z"
   },
   {
    "duration": 24,
    "start_time": "2022-05-09T23:04:05.372Z"
   },
   {
    "duration": 13,
    "start_time": "2022-05-09T23:04:05.398Z"
   },
   {
    "duration": 43,
    "start_time": "2022-05-09T23:04:05.413Z"
   },
   {
    "duration": 18,
    "start_time": "2022-05-09T23:04:05.458Z"
   },
   {
    "duration": 16,
    "start_time": "2022-05-09T23:04:05.478Z"
   },
   {
    "duration": 21,
    "start_time": "2022-05-09T23:04:05.496Z"
   },
   {
    "duration": 65,
    "start_time": "2022-05-09T23:04:05.519Z"
   },
   {
    "duration": 81,
    "start_time": "2022-05-09T23:04:05.588Z"
   },
   {
    "duration": 28,
    "start_time": "2022-05-09T23:04:05.671Z"
   },
   {
    "duration": 67,
    "start_time": "2022-05-09T23:04:05.702Z"
   },
   {
    "duration": 16,
    "start_time": "2022-05-09T23:04:05.772Z"
   },
   {
    "duration": 15,
    "start_time": "2022-05-09T23:04:05.791Z"
   },
   {
    "duration": 52,
    "start_time": "2022-05-09T23:04:05.808Z"
   },
   {
    "duration": 37,
    "start_time": "2022-05-09T23:04:05.863Z"
   },
   {
    "duration": 80,
    "start_time": "2022-05-09T23:04:05.903Z"
   },
   {
    "duration": 16,
    "start_time": "2022-05-09T23:04:05.986Z"
   },
   {
    "duration": 54,
    "start_time": "2022-05-09T23:04:06.005Z"
   },
   {
    "duration": 24,
    "start_time": "2022-05-09T23:04:06.061Z"
   },
   {
    "duration": 5,
    "start_time": "2022-05-09T23:04:06.087Z"
   },
   {
    "duration": 17,
    "start_time": "2022-05-09T23:04:06.094Z"
   },
   {
    "duration": 48,
    "start_time": "2022-05-09T23:04:06.113Z"
   },
   {
    "duration": 8,
    "start_time": "2022-05-09T23:04:06.171Z"
   },
   {
    "duration": 10,
    "start_time": "2022-05-09T23:04:06.181Z"
   },
   {
    "duration": 40,
    "start_time": "2022-05-09T23:04:06.194Z"
   },
   {
    "duration": 15,
    "start_time": "2022-05-09T23:04:06.260Z"
   },
   {
    "duration": 10,
    "start_time": "2022-05-09T23:04:06.284Z"
   },
   {
    "duration": 7,
    "start_time": "2022-05-09T23:04:06.296Z"
   },
   {
    "duration": 157,
    "start_time": "2022-05-09T23:04:16.507Z"
   },
   {
    "duration": 12,
    "start_time": "2022-05-09T23:04:51.662Z"
   },
   {
    "duration": 16,
    "start_time": "2022-05-09T23:05:04.460Z"
   },
   {
    "duration": 112,
    "start_time": "2022-05-09T23:05:53.004Z"
   },
   {
    "duration": 5,
    "start_time": "2022-05-09T23:06:01.386Z"
   },
   {
    "duration": 35,
    "start_time": "2022-05-09T23:06:11.888Z"
   },
   {
    "duration": 28,
    "start_time": "2022-05-09T23:09:34.486Z"
   },
   {
    "duration": 32,
    "start_time": "2022-05-09T23:09:52.621Z"
   },
   {
    "duration": 9,
    "start_time": "2022-05-09T23:11:22.191Z"
   },
   {
    "duration": 38,
    "start_time": "2022-05-09T23:11:46.865Z"
   },
   {
    "duration": 40,
    "start_time": "2022-05-09T23:13:13.290Z"
   },
   {
    "duration": 8,
    "start_time": "2022-05-09T23:14:31.428Z"
   },
   {
    "duration": 4,
    "start_time": "2022-05-09T23:14:37.861Z"
   },
   {
    "duration": 25,
    "start_time": "2022-05-09T23:15:26.260Z"
   },
   {
    "duration": 54,
    "start_time": "2022-05-09T23:15:33.053Z"
   },
   {
    "duration": 24,
    "start_time": "2022-05-09T23:21:08.706Z"
   },
   {
    "duration": 10,
    "start_time": "2022-05-09T23:21:14.689Z"
   },
   {
    "duration": 20,
    "start_time": "2022-05-09T23:22:03.409Z"
   },
   {
    "duration": 15,
    "start_time": "2022-05-09T23:22:09.664Z"
   },
   {
    "duration": 19,
    "start_time": "2022-05-09T23:22:32.492Z"
   },
   {
    "duration": 47,
    "start_time": "2022-05-09T23:23:19.639Z"
   },
   {
    "duration": 18,
    "start_time": "2022-05-09T23:24:09.525Z"
   },
   {
    "duration": 47,
    "start_time": "2022-05-09T23:24:14.275Z"
   },
   {
    "duration": 15,
    "start_time": "2022-05-09T23:29:08.395Z"
   },
   {
    "duration": 133,
    "start_time": "2022-05-09T23:31:42.208Z"
   },
   {
    "duration": 53,
    "start_time": "2022-05-09T23:32:37.302Z"
   },
   {
    "duration": 42,
    "start_time": "2022-05-09T23:33:54.521Z"
   },
   {
    "duration": 12,
    "start_time": "2022-05-09T23:34:40.155Z"
   },
   {
    "duration": 10,
    "start_time": "2022-05-09T23:34:50.088Z"
   },
   {
    "duration": 33,
    "start_time": "2022-05-09T23:35:28.681Z"
   },
   {
    "duration": 38,
    "start_time": "2022-05-09T23:35:34.775Z"
   },
   {
    "duration": 40,
    "start_time": "2022-05-09T23:36:00.802Z"
   },
   {
    "duration": 7,
    "start_time": "2022-05-09T23:38:08.519Z"
   },
   {
    "duration": 1539,
    "start_time": "2022-05-09T23:44:12.945Z"
   },
   {
    "duration": 94,
    "start_time": "2022-05-09T23:44:14.487Z"
   },
   {
    "duration": 35,
    "start_time": "2022-05-09T23:44:14.583Z"
   },
   {
    "duration": 31,
    "start_time": "2022-05-09T23:44:14.621Z"
   },
   {
    "duration": 11,
    "start_time": "2022-05-09T23:44:14.654Z"
   },
   {
    "duration": 7,
    "start_time": "2022-05-09T23:44:14.668Z"
   },
   {
    "duration": 6,
    "start_time": "2022-05-09T23:44:14.678Z"
   },
   {
    "duration": 112,
    "start_time": "2022-05-09T23:44:14.686Z"
   },
   {
    "duration": 5,
    "start_time": "2022-05-09T23:44:14.801Z"
   },
   {
    "duration": 105,
    "start_time": "2022-05-09T23:44:14.812Z"
   },
   {
    "duration": 44,
    "start_time": "2022-05-09T23:44:14.919Z"
   },
   {
    "duration": 16,
    "start_time": "2022-05-09T23:44:14.966Z"
   },
   {
    "duration": 306,
    "start_time": "2022-05-09T23:44:14.984Z"
   },
   {
    "duration": 5,
    "start_time": "2022-05-09T23:44:15.293Z"
   },
   {
    "duration": 297,
    "start_time": "2022-05-09T23:44:15.301Z"
   },
   {
    "duration": 4,
    "start_time": "2022-05-09T23:44:15.601Z"
   },
   {
    "duration": 16,
    "start_time": "2022-05-09T23:44:15.607Z"
   },
   {
    "duration": 304,
    "start_time": "2022-05-09T23:44:15.626Z"
   },
   {
    "duration": 34,
    "start_time": "2022-05-09T23:44:15.933Z"
   },
   {
    "duration": 6,
    "start_time": "2022-05-09T23:44:15.969Z"
   },
   {
    "duration": 21,
    "start_time": "2022-05-09T23:44:15.977Z"
   },
   {
    "duration": 11,
    "start_time": "2022-05-09T23:44:16.000Z"
   },
   {
    "duration": 44,
    "start_time": "2022-05-09T23:44:16.013Z"
   },
   {
    "duration": 17,
    "start_time": "2022-05-09T23:44:16.059Z"
   },
   {
    "duration": 8,
    "start_time": "2022-05-09T23:44:16.079Z"
   },
   {
    "duration": 12,
    "start_time": "2022-05-09T23:44:16.089Z"
   },
   {
    "duration": 49,
    "start_time": "2022-05-09T23:44:16.103Z"
   },
   {
    "duration": 5,
    "start_time": "2022-05-09T23:44:16.159Z"
   },
   {
    "duration": 331,
    "start_time": "2022-05-09T23:44:16.166Z"
   },
   {
    "duration": 9,
    "start_time": "2022-05-09T23:44:16.500Z"
   },
   {
    "duration": 44,
    "start_time": "2022-05-09T23:44:16.510Z"
   },
   {
    "duration": 10,
    "start_time": "2022-05-09T23:44:16.556Z"
   },
   {
    "duration": 6,
    "start_time": "2022-05-09T23:44:16.568Z"
   },
   {
    "duration": 420,
    "start_time": "2022-05-09T23:44:16.577Z"
   },
   {
    "duration": 23,
    "start_time": "2022-05-09T23:44:17.000Z"
   },
   {
    "duration": 6,
    "start_time": "2022-05-09T23:44:17.025Z"
   },
   {
    "duration": 41,
    "start_time": "2022-05-09T23:44:17.033Z"
   },
   {
    "duration": 10,
    "start_time": "2022-05-09T23:44:17.076Z"
   },
   {
    "duration": 13,
    "start_time": "2022-05-09T23:44:17.089Z"
   },
   {
    "duration": 52,
    "start_time": "2022-05-09T23:44:17.104Z"
   },
   {
    "duration": 406,
    "start_time": "2022-05-09T23:44:17.159Z"
   },
   {
    "duration": 26,
    "start_time": "2022-05-09T23:44:17.567Z"
   },
   {
    "duration": 5,
    "start_time": "2022-05-09T23:44:17.596Z"
   },
   {
    "duration": 10,
    "start_time": "2022-05-09T23:44:17.603Z"
   },
   {
    "duration": 39,
    "start_time": "2022-05-09T23:44:17.615Z"
   },
   {
    "duration": 12,
    "start_time": "2022-05-09T23:44:17.656Z"
   },
   {
    "duration": 15,
    "start_time": "2022-05-09T23:44:17.670Z"
   },
   {
    "duration": 10,
    "start_time": "2022-05-09T23:44:17.687Z"
   },
   {
    "duration": 12,
    "start_time": "2022-05-09T23:44:17.699Z"
   },
   {
    "duration": 5,
    "start_time": "2022-05-09T23:44:17.713Z"
   },
   {
    "duration": 8,
    "start_time": "2022-05-09T23:44:17.752Z"
   },
   {
    "duration": 8,
    "start_time": "2022-05-09T23:44:17.762Z"
   },
   {
    "duration": 9,
    "start_time": "2022-05-09T23:44:17.772Z"
   },
   {
    "duration": 13,
    "start_time": "2022-05-09T23:44:17.783Z"
   },
   {
    "duration": 55,
    "start_time": "2022-05-09T23:44:17.798Z"
   },
   {
    "duration": 10,
    "start_time": "2022-05-09T23:44:17.855Z"
   },
   {
    "duration": 27,
    "start_time": "2022-05-09T23:44:17.867Z"
   },
   {
    "duration": 11,
    "start_time": "2022-05-09T23:44:17.896Z"
   },
   {
    "duration": 44,
    "start_time": "2022-05-09T23:44:17.909Z"
   },
   {
    "duration": 17,
    "start_time": "2022-05-09T23:44:17.955Z"
   },
   {
    "duration": 14,
    "start_time": "2022-05-09T23:44:17.974Z"
   },
   {
    "duration": 20,
    "start_time": "2022-05-09T23:44:17.991Z"
   },
   {
    "duration": 27,
    "start_time": "2022-05-09T23:44:18.052Z"
   },
   {
    "duration": 31,
    "start_time": "2022-05-09T23:44:18.081Z"
   },
   {
    "duration": 60,
    "start_time": "2022-05-09T23:44:18.114Z"
   },
   {
    "duration": 50,
    "start_time": "2022-05-09T23:44:18.176Z"
   },
   {
    "duration": 33,
    "start_time": "2022-05-09T23:44:18.228Z"
   },
   {
    "duration": 14,
    "start_time": "2022-05-09T23:44:18.263Z"
   },
   {
    "duration": 14,
    "start_time": "2022-05-09T23:44:18.279Z"
   },
   {
    "duration": 59,
    "start_time": "2022-05-09T23:44:18.295Z"
   },
   {
    "duration": 52,
    "start_time": "2022-05-09T23:44:18.356Z"
   },
   {
    "duration": 15,
    "start_time": "2022-05-09T23:44:18.411Z"
   },
   {
    "duration": 16,
    "start_time": "2022-05-09T23:44:18.452Z"
   },
   {
    "duration": 21,
    "start_time": "2022-05-09T23:44:18.471Z"
   },
   {
    "duration": 12,
    "start_time": "2022-05-09T23:44:18.495Z"
   },
   {
    "duration": 46,
    "start_time": "2022-05-09T23:44:18.509Z"
   },
   {
    "duration": 7,
    "start_time": "2022-05-09T23:44:18.557Z"
   },
   {
    "duration": 8,
    "start_time": "2022-05-09T23:44:18.566Z"
   },
   {
    "duration": 20,
    "start_time": "2022-05-09T23:44:18.576Z"
   },
   {
    "duration": 53,
    "start_time": "2022-05-09T23:44:18.598Z"
   },
   {
    "duration": 13,
    "start_time": "2022-05-09T23:44:18.653Z"
   },
   {
    "duration": 11,
    "start_time": "2022-05-09T23:44:18.674Z"
   },
   {
    "duration": 8,
    "start_time": "2022-05-09T23:44:18.687Z"
   },
   {
    "duration": 4,
    "start_time": "2022-05-09T23:44:18.697Z"
   },
   {
    "duration": 77,
    "start_time": "2022-05-09T23:44:18.703Z"
   },
   {
    "duration": 31,
    "start_time": "2022-05-09T23:44:18.782Z"
   },
   {
    "duration": 36,
    "start_time": "2022-05-09T23:44:18.815Z"
   },
   {
    "duration": 37,
    "start_time": "2022-05-09T23:44:18.854Z"
   },
   {
    "duration": 59,
    "start_time": "2022-05-09T23:44:18.893Z"
   },
   {
    "duration": 9,
    "start_time": "2022-05-09T23:44:18.954Z"
   },
   {
    "duration": 4,
    "start_time": "2022-05-09T23:44:18.965Z"
   },
   {
    "duration": 20,
    "start_time": "2022-05-09T23:44:18.971Z"
   },
   {
    "duration": 89,
    "start_time": "2022-05-09T23:44:18.994Z"
   },
   {
    "duration": 15,
    "start_time": "2022-05-09T23:44:19.085Z"
   },
   {
    "duration": 75,
    "start_time": "2022-05-09T23:44:19.102Z"
   },
   {
    "duration": 32,
    "start_time": "2022-05-09T23:44:19.180Z"
   },
   {
    "duration": 10,
    "start_time": "2022-05-09T23:44:19.214Z"
   },
   {
    "duration": 62,
    "start_time": "2022-05-09T23:44:19.227Z"
   },
   {
    "duration": 71,
    "start_time": "2022-05-09T23:44:19.291Z"
   },
   {
    "duration": 260,
    "start_time": "2022-05-09T23:52:02.207Z"
   },
   {
    "duration": 1468,
    "start_time": "2022-05-09T23:52:50.473Z"
   },
   {
    "duration": 96,
    "start_time": "2022-05-09T23:52:51.944Z"
   },
   {
    "duration": 39,
    "start_time": "2022-05-09T23:52:52.043Z"
   },
   {
    "duration": 14,
    "start_time": "2022-05-09T23:52:52.086Z"
   },
   {
    "duration": 14,
    "start_time": "2022-05-09T23:52:52.102Z"
   },
   {
    "duration": 7,
    "start_time": "2022-05-09T23:52:52.153Z"
   },
   {
    "duration": 10,
    "start_time": "2022-05-09T23:52:52.163Z"
   },
   {
    "duration": 111,
    "start_time": "2022-05-09T23:52:52.175Z"
   },
   {
    "duration": 6,
    "start_time": "2022-05-09T23:52:52.289Z"
   },
   {
    "duration": 103,
    "start_time": "2022-05-09T23:52:52.301Z"
   },
   {
    "duration": 46,
    "start_time": "2022-05-09T23:52:52.406Z"
   },
   {
    "duration": 15,
    "start_time": "2022-05-09T23:52:52.454Z"
   },
   {
    "duration": 295,
    "start_time": "2022-05-09T23:52:52.472Z"
   },
   {
    "duration": 6,
    "start_time": "2022-05-09T23:52:52.770Z"
   },
   {
    "duration": 306,
    "start_time": "2022-05-09T23:52:52.779Z"
   },
   {
    "duration": 6,
    "start_time": "2022-05-09T23:52:53.088Z"
   },
   {
    "duration": 18,
    "start_time": "2022-05-09T23:52:53.097Z"
   },
   {
    "duration": 295,
    "start_time": "2022-05-09T23:52:53.117Z"
   },
   {
    "duration": 41,
    "start_time": "2022-05-09T23:52:53.415Z"
   },
   {
    "duration": 6,
    "start_time": "2022-05-09T23:52:53.458Z"
   },
   {
    "duration": 25,
    "start_time": "2022-05-09T23:52:53.465Z"
   },
   {
    "duration": 12,
    "start_time": "2022-05-09T23:52:53.492Z"
   },
   {
    "duration": 46,
    "start_time": "2022-05-09T23:52:53.507Z"
   },
   {
    "duration": 17,
    "start_time": "2022-05-09T23:52:53.556Z"
   },
   {
    "duration": 10,
    "start_time": "2022-05-09T23:52:53.576Z"
   },
   {
    "duration": 14,
    "start_time": "2022-05-09T23:52:53.588Z"
   },
   {
    "duration": 56,
    "start_time": "2022-05-09T23:52:53.604Z"
   },
   {
    "duration": 5,
    "start_time": "2022-05-09T23:52:53.666Z"
   },
   {
    "duration": 339,
    "start_time": "2022-05-09T23:52:53.673Z"
   },
   {
    "duration": 9,
    "start_time": "2022-05-09T23:52:54.014Z"
   },
   {
    "duration": 282,
    "start_time": "2022-05-09T23:52:54.025Z"
   },
   {
    "duration": 26,
    "start_time": "2022-05-09T23:52:54.309Z"
   },
   {
    "duration": 10,
    "start_time": "2022-05-09T23:52:54.352Z"
   },
   {
    "duration": 6,
    "start_time": "2022-05-09T23:52:54.364Z"
   },
   {
    "duration": 418,
    "start_time": "2022-05-09T23:52:54.372Z"
   },
   {
    "duration": 23,
    "start_time": "2022-05-09T23:52:54.792Z"
   },
   {
    "duration": 7,
    "start_time": "2022-05-09T23:52:54.817Z"
   },
   {
    "duration": 46,
    "start_time": "2022-05-09T23:52:54.826Z"
   },
   {
    "duration": 9,
    "start_time": "2022-05-09T23:52:54.874Z"
   },
   {
    "duration": 14,
    "start_time": "2022-05-09T23:52:54.885Z"
   },
   {
    "duration": 6,
    "start_time": "2022-05-09T23:52:54.901Z"
   },
   {
    "duration": 418,
    "start_time": "2022-05-09T23:52:54.909Z"
   },
   {
    "duration": 31,
    "start_time": "2022-05-09T23:52:55.329Z"
   },
   {
    "duration": 5,
    "start_time": "2022-05-09T23:52:55.363Z"
   },
   {
    "duration": 13,
    "start_time": "2022-05-09T23:52:55.370Z"
   },
   {
    "duration": 4,
    "start_time": "2022-05-09T23:52:55.385Z"
   },
   {
    "duration": 6,
    "start_time": "2022-05-09T23:52:55.391Z"
   },
   {
    "duration": 53,
    "start_time": "2022-05-09T23:52:55.399Z"
   },
   {
    "duration": 9,
    "start_time": "2022-05-09T23:52:55.454Z"
   },
   {
    "duration": 11,
    "start_time": "2022-05-09T23:52:55.465Z"
   },
   {
    "duration": 4,
    "start_time": "2022-05-09T23:52:55.479Z"
   },
   {
    "duration": 8,
    "start_time": "2022-05-09T23:52:55.485Z"
   },
   {
    "duration": 8,
    "start_time": "2022-05-09T23:52:55.495Z"
   },
   {
    "duration": 9,
    "start_time": "2022-05-09T23:52:55.551Z"
   },
   {
    "duration": 8,
    "start_time": "2022-05-09T23:52:55.562Z"
   },
   {
    "duration": 10,
    "start_time": "2022-05-09T23:52:55.572Z"
   },
   {
    "duration": 10,
    "start_time": "2022-05-09T23:52:55.584Z"
   },
   {
    "duration": 60,
    "start_time": "2022-05-09T23:52:55.596Z"
   },
   {
    "duration": 11,
    "start_time": "2022-05-09T23:52:55.658Z"
   },
   {
    "duration": 12,
    "start_time": "2022-05-09T23:52:55.672Z"
   },
   {
    "duration": 15,
    "start_time": "2022-05-09T23:52:55.686Z"
   },
   {
    "duration": 54,
    "start_time": "2022-05-09T23:52:55.703Z"
   },
   {
    "duration": 21,
    "start_time": "2022-05-09T23:52:55.759Z"
   },
   {
    "duration": 25,
    "start_time": "2022-05-09T23:52:55.782Z"
   },
   {
    "duration": 64,
    "start_time": "2022-05-09T23:52:55.809Z"
   },
   {
    "duration": 26,
    "start_time": "2022-05-09T23:52:55.876Z"
   },
   {
    "duration": 75,
    "start_time": "2022-05-09T23:52:55.904Z"
   },
   {
    "duration": 13,
    "start_time": "2022-05-09T23:52:55.981Z"
   },
   {
    "duration": 15,
    "start_time": "2022-05-09T23:52:55.996Z"
   },
   {
    "duration": 41,
    "start_time": "2022-05-09T23:52:56.013Z"
   },
   {
    "duration": 29,
    "start_time": "2022-05-09T23:52:56.056Z"
   },
   {
    "duration": 83,
    "start_time": "2022-05-09T23:52:56.088Z"
   },
   {
    "duration": 18,
    "start_time": "2022-05-09T23:52:56.174Z"
   },
   {
    "duration": 17,
    "start_time": "2022-05-09T23:52:56.194Z"
   },
   {
    "duration": 58,
    "start_time": "2022-05-09T23:52:56.213Z"
   },
   {
    "duration": 5,
    "start_time": "2022-05-09T23:52:56.273Z"
   },
   {
    "duration": 15,
    "start_time": "2022-05-09T23:52:56.280Z"
   },
   {
    "duration": 10,
    "start_time": "2022-05-09T23:52:56.297Z"
   },
   {
    "duration": 42,
    "start_time": "2022-05-09T23:52:56.309Z"
   },
   {
    "duration": 5,
    "start_time": "2022-05-09T23:52:56.354Z"
   },
   {
    "duration": 37,
    "start_time": "2022-05-09T23:52:56.361Z"
   },
   {
    "duration": 12,
    "start_time": "2022-05-09T23:52:56.407Z"
   },
   {
    "duration": 41,
    "start_time": "2022-05-09T23:52:56.421Z"
   },
   {
    "duration": 7,
    "start_time": "2022-05-09T23:52:56.464Z"
   },
   {
    "duration": 4,
    "start_time": "2022-05-09T23:52:56.473Z"
   },
   {
    "duration": 36,
    "start_time": "2022-05-09T23:52:56.480Z"
   },
   {
    "duration": 33,
    "start_time": "2022-05-09T23:52:56.552Z"
   },
   {
    "duration": 8,
    "start_time": "2022-05-09T23:52:56.587Z"
   },
   {
    "duration": 66,
    "start_time": "2022-05-09T23:52:56.597Z"
   },
   {
    "duration": 38,
    "start_time": "2022-05-09T23:52:56.665Z"
   },
   {
    "duration": 7,
    "start_time": "2022-05-09T23:52:56.705Z"
   },
   {
    "duration": 5,
    "start_time": "2022-05-09T23:52:56.714Z"
   },
   {
    "duration": 47,
    "start_time": "2022-05-09T23:52:56.721Z"
   },
   {
    "duration": 45,
    "start_time": "2022-05-09T23:52:56.770Z"
   },
   {
    "duration": 43,
    "start_time": "2022-05-09T23:52:56.817Z"
   },
   {
    "duration": 56,
    "start_time": "2022-05-09T23:52:56.862Z"
   },
   {
    "duration": 57,
    "start_time": "2022-05-09T23:52:56.920Z"
   },
   {
    "duration": 8,
    "start_time": "2022-05-09T23:52:56.980Z"
   },
   {
    "duration": 60,
    "start_time": "2022-05-09T23:52:56.991Z"
   },
   {
    "duration": 37,
    "start_time": "2022-05-09T23:52:57.054Z"
   },
   {
    "duration": 1306,
    "start_time": "2022-05-10T06:51:05.654Z"
   },
   {
    "duration": 83,
    "start_time": "2022-05-10T06:51:06.962Z"
   },
   {
    "duration": 22,
    "start_time": "2022-05-10T06:51:07.047Z"
   },
   {
    "duration": 8,
    "start_time": "2022-05-10T06:51:07.071Z"
   },
   {
    "duration": 23,
    "start_time": "2022-05-10T06:51:07.080Z"
   },
   {
    "duration": 4,
    "start_time": "2022-05-10T06:51:07.105Z"
   },
   {
    "duration": 8,
    "start_time": "2022-05-10T06:51:07.110Z"
   },
   {
    "duration": 46,
    "start_time": "2022-05-10T06:51:07.119Z"
   },
   {
    "duration": 3,
    "start_time": "2022-05-10T06:51:07.167Z"
   },
   {
    "duration": 71,
    "start_time": "2022-05-10T06:51:07.173Z"
   },
   {
    "duration": 18,
    "start_time": "2022-05-10T06:51:07.246Z"
   },
   {
    "duration": 11,
    "start_time": "2022-05-10T06:51:07.266Z"
   },
   {
    "duration": 189,
    "start_time": "2022-05-10T06:51:07.278Z"
   },
   {
    "duration": 3,
    "start_time": "2022-05-10T06:51:07.469Z"
   },
   {
    "duration": 169,
    "start_time": "2022-05-10T06:51:07.474Z"
   },
   {
    "duration": 3,
    "start_time": "2022-05-10T06:51:07.645Z"
   },
   {
    "duration": 12,
    "start_time": "2022-05-10T06:51:07.649Z"
   },
   {
    "duration": 173,
    "start_time": "2022-05-10T06:51:07.663Z"
   },
   {
    "duration": 15,
    "start_time": "2022-05-10T06:51:07.838Z"
   },
   {
    "duration": 3,
    "start_time": "2022-05-10T06:51:07.855Z"
   },
   {
    "duration": 18,
    "start_time": "2022-05-10T06:51:07.860Z"
   },
   {
    "duration": 7,
    "start_time": "2022-05-10T06:51:07.901Z"
   },
   {
    "duration": 5,
    "start_time": "2022-05-10T06:51:07.909Z"
   },
   {
    "duration": 10,
    "start_time": "2022-05-10T06:51:07.916Z"
   },
   {
    "duration": 6,
    "start_time": "2022-05-10T06:51:07.927Z"
   },
   {
    "duration": 11,
    "start_time": "2022-05-10T06:51:07.935Z"
   },
   {
    "duration": 7,
    "start_time": "2022-05-10T06:51:07.948Z"
   },
   {
    "duration": 4,
    "start_time": "2022-05-10T06:51:07.999Z"
   },
   {
    "duration": 176,
    "start_time": "2022-05-10T06:51:08.005Z"
   },
   {
    "duration": 5,
    "start_time": "2022-05-10T06:51:08.183Z"
   },
   {
    "duration": 166,
    "start_time": "2022-05-10T06:51:08.190Z"
   },
   {
    "duration": 16,
    "start_time": "2022-05-10T06:51:08.357Z"
   },
   {
    "duration": 28,
    "start_time": "2022-05-10T06:51:08.374Z"
   },
   {
    "duration": 3,
    "start_time": "2022-05-10T06:51:08.404Z"
   },
   {
    "duration": 223,
    "start_time": "2022-05-10T06:51:08.408Z"
   },
   {
    "duration": 15,
    "start_time": "2022-05-10T06:51:08.633Z"
   },
   {
    "duration": 4,
    "start_time": "2022-05-10T06:51:08.650Z"
   },
   {
    "duration": 23,
    "start_time": "2022-05-10T06:51:08.655Z"
   },
   {
    "duration": 23,
    "start_time": "2022-05-10T06:51:08.679Z"
   },
   {
    "duration": 12,
    "start_time": "2022-05-10T06:51:08.703Z"
   },
   {
    "duration": 4,
    "start_time": "2022-05-10T06:51:08.716Z"
   },
   {
    "duration": 223,
    "start_time": "2022-05-10T06:51:08.721Z"
   },
   {
    "duration": 15,
    "start_time": "2022-05-10T06:51:08.946Z"
   },
   {
    "duration": 4,
    "start_time": "2022-05-10T06:51:08.963Z"
   },
   {
    "duration": 9,
    "start_time": "2022-05-10T06:51:08.968Z"
   },
   {
    "duration": 23,
    "start_time": "2022-05-10T06:51:08.978Z"
   },
   {
    "duration": 9,
    "start_time": "2022-05-10T06:51:09.002Z"
   },
   {
    "duration": 7,
    "start_time": "2022-05-10T06:51:09.012Z"
   },
   {
    "duration": 7,
    "start_time": "2022-05-10T06:51:09.021Z"
   },
   {
    "duration": 11,
    "start_time": "2022-05-10T06:51:09.030Z"
   },
   {
    "duration": 3,
    "start_time": "2022-05-10T06:51:09.043Z"
   },
   {
    "duration": 6,
    "start_time": "2022-05-10T06:51:09.048Z"
   },
   {
    "duration": 6,
    "start_time": "2022-05-10T06:51:09.056Z"
   },
   {
    "duration": 10,
    "start_time": "2022-05-10T06:51:09.101Z"
   },
   {
    "duration": 13,
    "start_time": "2022-05-10T06:51:09.113Z"
   },
   {
    "duration": 9,
    "start_time": "2022-05-10T06:51:09.127Z"
   },
   {
    "duration": 9,
    "start_time": "2022-05-10T06:51:09.137Z"
   },
   {
    "duration": 13,
    "start_time": "2022-05-10T06:51:09.147Z"
   },
   {
    "duration": 8,
    "start_time": "2022-05-10T06:51:09.161Z"
   },
   {
    "duration": 31,
    "start_time": "2022-05-10T06:51:09.170Z"
   },
   {
    "duration": 11,
    "start_time": "2022-05-10T06:51:09.202Z"
   },
   {
    "duration": 10,
    "start_time": "2022-05-10T06:51:09.214Z"
   },
   {
    "duration": 14,
    "start_time": "2022-05-10T06:51:09.225Z"
   },
   {
    "duration": 17,
    "start_time": "2022-05-10T06:51:09.240Z"
   },
   {
    "duration": 51,
    "start_time": "2022-05-10T06:51:09.259Z"
   },
   {
    "duration": 18,
    "start_time": "2022-05-10T06:51:09.311Z"
   },
   {
    "duration": 30,
    "start_time": "2022-05-10T06:51:09.331Z"
   },
   {
    "duration": 9,
    "start_time": "2022-05-10T06:51:09.363Z"
   },
   {
    "duration": 11,
    "start_time": "2022-05-10T06:51:09.400Z"
   },
   {
    "duration": 16,
    "start_time": "2022-05-10T06:51:09.413Z"
   },
   {
    "duration": 17,
    "start_time": "2022-05-10T06:51:09.430Z"
   },
   {
    "duration": 53,
    "start_time": "2022-05-10T06:51:09.449Z"
   },
   {
    "duration": 10,
    "start_time": "2022-05-10T06:51:09.504Z"
   },
   {
    "duration": 10,
    "start_time": "2022-05-10T06:51:09.516Z"
   },
   {
    "duration": 14,
    "start_time": "2022-05-10T06:51:09.527Z"
   },
   {
    "duration": 4,
    "start_time": "2022-05-10T06:51:09.543Z"
   },
   {
    "duration": 13,
    "start_time": "2022-05-10T06:51:09.548Z"
   },
   {
    "duration": 89,
    "start_time": "2022-05-10T06:51:51.239Z"
   },
   {
    "duration": 8,
    "start_time": "2022-05-10T06:52:11.063Z"
   },
   {
    "duration": 3038,
    "start_time": "2022-05-10T06:52:27.378Z"
   },
   {
    "duration": 11,
    "start_time": "2022-05-10T06:52:42.272Z"
   },
   {
    "duration": 11,
    "start_time": "2022-05-10T06:53:31.112Z"
   },
   {
    "duration": 12,
    "start_time": "2022-05-10T06:53:40.834Z"
   },
   {
    "duration": 12,
    "start_time": "2022-05-10T06:53:52.543Z"
   },
   {
    "duration": 14,
    "start_time": "2022-05-10T06:54:27.087Z"
   },
   {
    "duration": 12,
    "start_time": "2022-05-10T06:54:57.976Z"
   },
   {
    "duration": 16,
    "start_time": "2022-05-10T06:56:19.760Z"
   },
   {
    "duration": 11,
    "start_time": "2022-05-10T06:56:57.592Z"
   },
   {
    "duration": 191,
    "start_time": "2022-05-10T06:57:05.502Z"
   },
   {
    "duration": 15,
    "start_time": "2022-05-10T06:57:19.894Z"
   },
   {
    "duration": 264,
    "start_time": "2022-05-10T06:57:29.637Z"
   },
   {
    "duration": 12,
    "start_time": "2022-05-10T06:57:33.698Z"
   },
   {
    "duration": 11,
    "start_time": "2022-05-10T06:58:06.200Z"
   },
   {
    "duration": 12,
    "start_time": "2022-05-10T06:58:13.001Z"
   },
   {
    "duration": 11,
    "start_time": "2022-05-10T06:58:18.749Z"
   },
   {
    "duration": 10,
    "start_time": "2022-05-10T06:58:25.442Z"
   },
   {
    "duration": 8,
    "start_time": "2022-05-10T06:58:52.767Z"
   },
   {
    "duration": 11,
    "start_time": "2022-05-10T06:59:21.908Z"
   },
   {
    "duration": 9,
    "start_time": "2022-05-10T06:59:37.796Z"
   },
   {
    "duration": 8,
    "start_time": "2022-05-10T06:59:55.154Z"
   },
   {
    "duration": 5,
    "start_time": "2022-05-10T07:00:20.948Z"
   },
   {
    "duration": 21,
    "start_time": "2022-05-10T07:00:26.112Z"
   },
   {
    "duration": 2698,
    "start_time": "2022-05-10T15:40:17.343Z"
   },
   {
    "duration": 115,
    "start_time": "2022-05-10T15:40:20.045Z"
   },
   {
    "duration": 57,
    "start_time": "2022-05-10T15:40:20.163Z"
   },
   {
    "duration": 12,
    "start_time": "2022-05-10T15:40:20.223Z"
   },
   {
    "duration": 52,
    "start_time": "2022-05-10T15:40:20.238Z"
   },
   {
    "duration": 20,
    "start_time": "2022-05-10T15:40:20.294Z"
   },
   {
    "duration": 13,
    "start_time": "2022-05-10T15:40:20.316Z"
   },
   {
    "duration": 109,
    "start_time": "2022-05-10T15:40:20.332Z"
   },
   {
    "duration": 6,
    "start_time": "2022-05-10T15:40:20.444Z"
   },
   {
    "duration": 108,
    "start_time": "2022-05-10T15:40:20.457Z"
   },
   {
    "duration": 55,
    "start_time": "2022-05-10T15:40:20.569Z"
   },
   {
    "duration": 19,
    "start_time": "2022-05-10T15:40:20.627Z"
   },
   {
    "duration": 444,
    "start_time": "2022-05-10T15:40:20.649Z"
   },
   {
    "duration": 6,
    "start_time": "2022-05-10T15:40:21.096Z"
   },
   {
    "duration": 465,
    "start_time": "2022-05-10T15:40:21.106Z"
   },
   {
    "duration": 8,
    "start_time": "2022-05-10T15:40:21.574Z"
   },
   {
    "duration": 22,
    "start_time": "2022-05-10T15:40:21.586Z"
   },
   {
    "duration": 343,
    "start_time": "2022-05-10T15:40:21.610Z"
   },
   {
    "duration": 41,
    "start_time": "2022-05-10T15:40:21.956Z"
   },
   {
    "duration": 8,
    "start_time": "2022-05-10T15:40:22.001Z"
   },
   {
    "duration": 33,
    "start_time": "2022-05-10T15:40:22.012Z"
   },
   {
    "duration": 37,
    "start_time": "2022-05-10T15:40:22.047Z"
   },
   {
    "duration": 11,
    "start_time": "2022-05-10T15:40:22.087Z"
   },
   {
    "duration": 18,
    "start_time": "2022-05-10T15:40:22.101Z"
   },
   {
    "duration": 11,
    "start_time": "2022-05-10T15:40:22.122Z"
   },
   {
    "duration": 59,
    "start_time": "2022-05-10T15:40:22.135Z"
   },
   {
    "duration": 19,
    "start_time": "2022-05-10T15:40:22.197Z"
   },
   {
    "duration": 7,
    "start_time": "2022-05-10T15:40:22.223Z"
   },
   {
    "duration": 705,
    "start_time": "2022-05-10T15:40:22.232Z"
   },
   {
    "duration": 59,
    "start_time": "2022-05-10T15:40:24.656Z"
   },
   {
    "duration": 4,
    "start_time": "2022-05-10T15:45:11.539Z"
   },
   {
    "duration": 113,
    "start_time": "2022-05-10T15:45:11.547Z"
   },
   {
    "duration": 49,
    "start_time": "2022-05-10T15:45:11.663Z"
   },
   {
    "duration": 16,
    "start_time": "2022-05-10T15:45:11.715Z"
   },
   {
    "duration": 13,
    "start_time": "2022-05-10T15:45:11.735Z"
   },
   {
    "duration": 7,
    "start_time": "2022-05-10T15:45:11.783Z"
   },
   {
    "duration": 7,
    "start_time": "2022-05-10T15:45:11.793Z"
   },
   {
    "duration": 118,
    "start_time": "2022-05-10T15:45:11.803Z"
   },
   {
    "duration": 7,
    "start_time": "2022-05-10T15:45:11.923Z"
   },
   {
    "duration": 28,
    "start_time": "2022-05-10T15:45:11.932Z"
   },
   {
    "duration": 32,
    "start_time": "2022-05-10T15:45:11.984Z"
   },
   {
    "duration": 18,
    "start_time": "2022-05-10T15:45:12.019Z"
   },
   {
    "duration": 294,
    "start_time": "2022-05-10T15:45:12.039Z"
   },
   {
    "duration": 5,
    "start_time": "2022-05-10T15:45:12.335Z"
   },
   {
    "duration": 312,
    "start_time": "2022-05-10T15:45:12.342Z"
   },
   {
    "duration": 4,
    "start_time": "2022-05-10T15:45:12.657Z"
   },
   {
    "duration": 32,
    "start_time": "2022-05-10T15:45:12.663Z"
   },
   {
    "duration": 294,
    "start_time": "2022-05-10T15:45:12.698Z"
   },
   {
    "duration": 23,
    "start_time": "2022-05-10T15:45:12.995Z"
   },
   {
    "duration": 6,
    "start_time": "2022-05-10T15:45:13.020Z"
   },
   {
    "duration": 55,
    "start_time": "2022-05-10T15:45:13.028Z"
   },
   {
    "duration": 12,
    "start_time": "2022-05-10T15:45:13.085Z"
   },
   {
    "duration": 9,
    "start_time": "2022-05-10T15:45:13.099Z"
   },
   {
    "duration": 19,
    "start_time": "2022-05-10T15:45:13.110Z"
   },
   {
    "duration": 16,
    "start_time": "2022-05-10T15:45:13.132Z"
   },
   {
    "duration": 13,
    "start_time": "2022-05-10T15:45:13.182Z"
   },
   {
    "duration": 17,
    "start_time": "2022-05-10T15:45:13.198Z"
   },
   {
    "duration": 7,
    "start_time": "2022-05-10T15:45:13.218Z"
   },
   {
    "duration": 364,
    "start_time": "2022-05-10T15:45:13.230Z"
   },
   {
    "duration": 10,
    "start_time": "2022-05-10T15:45:13.596Z"
   },
   {
    "duration": 292,
    "start_time": "2022-05-10T15:45:13.608Z"
   },
   {
    "duration": 26,
    "start_time": "2022-05-10T15:45:13.903Z"
   },
   {
    "duration": 12,
    "start_time": "2022-05-10T15:45:13.932Z"
   },
   {
    "duration": 22,
    "start_time": "2022-05-10T15:45:28.265Z"
   },
   {
    "duration": 5,
    "start_time": "2022-05-10T15:50:03.652Z"
   },
   {
    "duration": 107,
    "start_time": "2022-05-10T15:50:03.660Z"
   },
   {
    "duration": 35,
    "start_time": "2022-05-10T15:50:03.782Z"
   },
   {
    "duration": 32,
    "start_time": "2022-05-10T15:50:03.820Z"
   },
   {
    "duration": 17,
    "start_time": "2022-05-10T15:50:03.883Z"
   },
   {
    "duration": 12,
    "start_time": "2022-05-10T15:50:03.903Z"
   },
   {
    "duration": 17,
    "start_time": "2022-05-10T15:50:03.919Z"
   },
   {
    "duration": 120,
    "start_time": "2022-05-10T15:50:03.938Z"
   },
   {
    "duration": 6,
    "start_time": "2022-05-10T15:50:04.061Z"
   },
   {
    "duration": 24,
    "start_time": "2022-05-10T15:50:04.083Z"
   },
   {
    "duration": 33,
    "start_time": "2022-05-10T15:50:04.110Z"
   },
   {
    "duration": 47,
    "start_time": "2022-05-10T15:50:04.145Z"
   },
   {
    "duration": 404,
    "start_time": "2022-05-10T15:50:04.195Z"
   },
   {
    "duration": 6,
    "start_time": "2022-05-10T15:50:04.602Z"
   },
   {
    "duration": 449,
    "start_time": "2022-05-10T15:50:04.611Z"
   },
   {
    "duration": 6,
    "start_time": "2022-05-10T15:50:05.063Z"
   },
   {
    "duration": 21,
    "start_time": "2022-05-10T15:50:05.083Z"
   },
   {
    "duration": 466,
    "start_time": "2022-05-10T15:50:05.107Z"
   },
   {
    "duration": 36,
    "start_time": "2022-05-10T15:50:05.581Z"
   },
   {
    "duration": 8,
    "start_time": "2022-05-10T15:50:05.620Z"
   },
   {
    "duration": 64,
    "start_time": "2022-05-10T15:50:05.631Z"
   },
   {
    "duration": 15,
    "start_time": "2022-05-10T15:50:05.698Z"
   },
   {
    "duration": 10,
    "start_time": "2022-05-10T15:50:05.717Z"
   },
   {
    "duration": 56,
    "start_time": "2022-05-10T15:50:05.738Z"
   },
   {
    "duration": 13,
    "start_time": "2022-05-10T15:50:05.797Z"
   },
   {
    "duration": 16,
    "start_time": "2022-05-10T15:50:05.813Z"
   },
   {
    "duration": 53,
    "start_time": "2022-05-10T15:50:05.832Z"
   },
   {
    "duration": 5,
    "start_time": "2022-05-10T15:50:05.888Z"
   },
   {
    "duration": 667,
    "start_time": "2022-05-10T15:50:05.897Z"
   },
   {
    "duration": 23,
    "start_time": "2022-05-10T15:50:06.567Z"
   },
   {
    "duration": 465,
    "start_time": "2022-05-10T15:50:06.593Z"
   },
   {
    "duration": 45,
    "start_time": "2022-05-10T15:50:07.061Z"
   },
   {
    "duration": 15,
    "start_time": "2022-05-10T15:50:07.109Z"
   },
   {
    "duration": 9,
    "start_time": "2022-05-10T15:50:07.127Z"
   },
   {
    "duration": 454,
    "start_time": "2022-05-10T15:50:07.138Z"
   },
   {
    "duration": 24,
    "start_time": "2022-05-10T15:50:07.594Z"
   },
   {
    "duration": 7,
    "start_time": "2022-05-10T15:50:07.620Z"
   },
   {
    "duration": 66,
    "start_time": "2022-05-10T15:50:07.631Z"
   },
   {
    "duration": 15,
    "start_time": "2022-05-10T15:50:07.700Z"
   },
   {
    "duration": 26,
    "start_time": "2022-05-10T15:50:07.718Z"
   },
   {
    "duration": 9,
    "start_time": "2022-05-10T15:50:07.747Z"
   },
   {
    "duration": 825,
    "start_time": "2022-05-10T15:50:07.781Z"
   },
   {
    "duration": 31,
    "start_time": "2022-05-10T15:50:08.610Z"
   },
   {
    "duration": 6,
    "start_time": "2022-05-10T15:50:08.644Z"
   },
   {
    "duration": 38,
    "start_time": "2022-05-10T15:50:08.653Z"
   },
   {
    "duration": 6,
    "start_time": "2022-05-10T15:50:08.693Z"
   },
   {
    "duration": 8,
    "start_time": "2022-05-10T15:50:08.702Z"
   },
   {
    "duration": 12,
    "start_time": "2022-05-10T15:50:08.713Z"
   },
   {
    "duration": 60,
    "start_time": "2022-05-10T15:50:08.727Z"
   },
   {
    "duration": 18,
    "start_time": "2022-05-10T15:50:08.791Z"
   },
   {
    "duration": 7,
    "start_time": "2022-05-10T15:50:08.812Z"
   },
   {
    "duration": 12,
    "start_time": "2022-05-10T15:50:08.821Z"
   },
   {
    "duration": 50,
    "start_time": "2022-05-10T15:50:08.835Z"
   },
   {
    "duration": 15,
    "start_time": "2022-05-10T15:50:08.887Z"
   },
   {
    "duration": 11,
    "start_time": "2022-05-10T15:50:08.904Z"
   },
   {
    "duration": 15,
    "start_time": "2022-05-10T15:50:08.917Z"
   },
   {
    "duration": 54,
    "start_time": "2022-05-10T15:50:08.935Z"
   },
   {
    "duration": 23,
    "start_time": "2022-05-10T15:50:08.991Z"
   },
   {
    "duration": 15,
    "start_time": "2022-05-10T15:50:09.017Z"
   },
   {
    "duration": 51,
    "start_time": "2022-05-10T15:50:09.035Z"
   },
   {
    "duration": 25,
    "start_time": "2022-05-10T15:50:09.088Z"
   },
   {
    "duration": 16,
    "start_time": "2022-05-10T15:50:09.115Z"
   },
   {
    "duration": 55,
    "start_time": "2022-05-10T15:50:09.134Z"
   },
   {
    "duration": 28,
    "start_time": "2022-05-10T15:50:09.192Z"
   },
   {
    "duration": 62,
    "start_time": "2022-05-10T15:50:09.222Z"
   },
   {
    "duration": 29,
    "start_time": "2022-05-10T15:50:09.286Z"
   },
   {
    "duration": 85,
    "start_time": "2022-05-10T15:50:09.318Z"
   },
   {
    "duration": 20,
    "start_time": "2022-05-10T15:50:09.406Z"
   },
   {
    "duration": 48,
    "start_time": "2022-05-10T15:50:09.438Z"
   },
   {
    "duration": 17,
    "start_time": "2022-05-10T15:50:09.488Z"
   },
   {
    "duration": 31,
    "start_time": "2022-05-10T15:50:09.508Z"
   },
   {
    "duration": 91,
    "start_time": "2022-05-10T15:50:09.541Z"
   },
   {
    "duration": 20,
    "start_time": "2022-05-10T15:50:09.635Z"
   },
   {
    "duration": 19,
    "start_time": "2022-05-10T15:50:09.681Z"
   },
   {
    "duration": 27,
    "start_time": "2022-05-10T15:50:09.704Z"
   }
  ],
  "colab": {
   "collapsed_sections": [
    "119d7af2",
    "ec69e4ea",
    "b389c8fc",
    "f91911e7",
    "53e7b7c2",
    "25fb8caa",
    "f3a99273",
    "ce654188",
    "e97084cb"
   ],
   "name": "Проект 06. 977f205d-c6bc-49dc-9304-23e347f3e00f.ipynb",
   "provenance": [],
   "toc_visible": true
  },
  "kernelspec": {
   "display_name": "Python 3 (ipykernel)",
   "language": "python",
   "name": "python3"
  },
  "language_info": {
   "codemirror_mode": {
    "name": "ipython",
    "version": 3
   },
   "file_extension": ".py",
   "mimetype": "text/x-python",
   "name": "python",
   "nbconvert_exporter": "python",
   "pygments_lexer": "ipython3",
   "version": "3.9.7"
  },
  "toc": {
   "base_numbering": 1,
   "nav_menu": {
    "height": "441px",
    "width": "691px"
   },
   "number_sections": true,
   "sideBar": true,
   "skip_h1_title": true,
   "title_cell": "Table of Contents",
   "title_sidebar": "Contents",
   "toc_cell": false,
   "toc_position": {},
   "toc_section_display": true,
   "toc_window_display": false
  }
 },
 "nbformat": 4,
 "nbformat_minor": 5
}
