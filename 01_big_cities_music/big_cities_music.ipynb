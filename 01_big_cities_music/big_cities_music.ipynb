{
 "cells": [
  {
   "cell_type": "markdown",
   "metadata": {
    "id": "E0vqbgi9ay0H"
   },
   "source": [
    "# Яндекс.Музыка"
   ]
  },
  {
   "cell_type": "markdown",
   "metadata": {
    "id": "VUC88oWjTJw2"
   },
   "source": [
    "Сравнение Москвы и Петербурга окружено мифами. Например:\n",
    " * Москва — мегаполис, подчинённый жёсткому ритму рабочей недели;\n",
    " * Петербург — культурная столица, со своими вкусами.\n",
    "\n",
    "На данных Яндекс.Музыки вы сравните поведение пользователей двух столиц.\n",
    "\n",
    "**Цель исследования** — проверьте три гипотезы:\n",
    "1. Активность пользователей зависит от дня недели. Причём в Москве и Петербурге это проявляется по-разному.\n",
    "2. В понедельник утром в Москве преобладают одни жанры, а в Петербурге — другие. Так же и вечером пятницы преобладают разные жанры — в зависимости от города. \n",
    "3. Москва и Петербург предпочитают разные жанры музыки. В Москве чаще слушают поп-музыку, в Петербурге — русский рэп.\n",
    "\n",
    "**Ход исследования**\n",
    "\n",
    "Данные о поведении пользователей вы получите из файла `yandex_music_project.csv`. О качестве данных ничего не известно. Поэтому перед проверкой гипотез понадобится обзор данных. \n",
    "\n",
    "Вы проверите данные на ошибки и оцените их влияние на исследование. Затем, на этапе предобработки вы поищете возможность исправить самые критичные ошибки данных.\n",
    " \n",
    "Таким образом, исследование пройдёт в три этапа:\n",
    " 1. Обзор данных.\n",
    " 2. Предобработка данных.\n",
    " 3. Проверка гипотез.\n",
    "\n"
   ]
  },
  {
   "cell_type": "markdown",
   "metadata": {
    "id": "Ml1hmfXC_Zcs"
   },
   "source": [
    "## Обзор данных\n",
    "\n",
    "Составьте первое представление о данных Яндекс.Музыки.\n",
    "\n",
    "\n"
   ]
  },
  {
   "cell_type": "markdown",
   "metadata": {
    "id": "57eAOGIz_Zcs"
   },
   "source": [
    "Основной инструмент аналитика — `pandas`. Импортируйте эту библиотеку."
   ]
  },
  {
   "cell_type": "code",
   "execution_count": 42,
   "metadata": {
    "id": "AXN7PHPN_Zcs"
   },
   "outputs": [],
   "source": [
    "# импорт библиотеки pandas\n",
    "import pandas as pd"
   ]
  },
  {
   "cell_type": "markdown",
   "metadata": {
    "id": "SG23P8tt_Zcs"
   },
   "source": [
    "Прочитайте файл `yandex_music_project.csv` из папки `/datasets` и сохраните его в переменной `df`:"
   ]
  },
  {
   "cell_type": "code",
   "execution_count": 43,
   "metadata": {
    "id": "fFVu7vqh_Zct"
   },
   "outputs": [],
   "source": [
    "# чтение файла с данными и сохранение в df\n",
    "\n",
    "df = pd.read_csv('/datasets/yandex_music_project.csv')"
   ]
  },
  {
   "cell_type": "markdown",
   "metadata": {
    "id": "rDoOMd3uTqnZ"
   },
   "source": [
    "Выведите на экран первые десять строк таблицы:"
   ]
  },
  {
   "cell_type": "code",
   "execution_count": 44,
   "metadata": {
    "id": "oWTVX3gW_Zct"
   },
   "outputs": [
    {
     "data": {
      "text/html": [
       "<div>\n",
       "<style scoped>\n",
       "    .dataframe tbody tr th:only-of-type {\n",
       "        vertical-align: middle;\n",
       "    }\n",
       "\n",
       "    .dataframe tbody tr th {\n",
       "        vertical-align: top;\n",
       "    }\n",
       "\n",
       "    .dataframe thead th {\n",
       "        text-align: right;\n",
       "    }\n",
       "</style>\n",
       "<table border=\"1\" class=\"dataframe\">\n",
       "  <thead>\n",
       "    <tr style=\"text-align: right;\">\n",
       "      <th></th>\n",
       "      <th>userID</th>\n",
       "      <th>Track</th>\n",
       "      <th>artist</th>\n",
       "      <th>genre</th>\n",
       "      <th>City</th>\n",
       "      <th>time</th>\n",
       "      <th>Day</th>\n",
       "    </tr>\n",
       "  </thead>\n",
       "  <tbody>\n",
       "    <tr>\n",
       "      <th>0</th>\n",
       "      <td>FFB692EC</td>\n",
       "      <td>Kamigata To Boots</td>\n",
       "      <td>The Mass Missile</td>\n",
       "      <td>rock</td>\n",
       "      <td>Saint-Petersburg</td>\n",
       "      <td>20:28:33</td>\n",
       "      <td>Wednesday</td>\n",
       "    </tr>\n",
       "    <tr>\n",
       "      <th>1</th>\n",
       "      <td>55204538</td>\n",
       "      <td>Delayed Because of Accident</td>\n",
       "      <td>Andreas Rönnberg</td>\n",
       "      <td>rock</td>\n",
       "      <td>Moscow</td>\n",
       "      <td>14:07:09</td>\n",
       "      <td>Friday</td>\n",
       "    </tr>\n",
       "    <tr>\n",
       "      <th>2</th>\n",
       "      <td>20EC38</td>\n",
       "      <td>Funiculì funiculà</td>\n",
       "      <td>Mario Lanza</td>\n",
       "      <td>pop</td>\n",
       "      <td>Saint-Petersburg</td>\n",
       "      <td>20:58:07</td>\n",
       "      <td>Wednesday</td>\n",
       "    </tr>\n",
       "    <tr>\n",
       "      <th>3</th>\n",
       "      <td>A3DD03C9</td>\n",
       "      <td>Dragons in the Sunset</td>\n",
       "      <td>Fire + Ice</td>\n",
       "      <td>folk</td>\n",
       "      <td>Saint-Petersburg</td>\n",
       "      <td>08:37:09</td>\n",
       "      <td>Monday</td>\n",
       "    </tr>\n",
       "    <tr>\n",
       "      <th>4</th>\n",
       "      <td>E2DC1FAE</td>\n",
       "      <td>Soul People</td>\n",
       "      <td>Space Echo</td>\n",
       "      <td>dance</td>\n",
       "      <td>Moscow</td>\n",
       "      <td>08:34:34</td>\n",
       "      <td>Monday</td>\n",
       "    </tr>\n",
       "    <tr>\n",
       "      <th>5</th>\n",
       "      <td>842029A1</td>\n",
       "      <td>Преданная</td>\n",
       "      <td>IMPERVTOR</td>\n",
       "      <td>rusrap</td>\n",
       "      <td>Saint-Petersburg</td>\n",
       "      <td>13:09:41</td>\n",
       "      <td>Friday</td>\n",
       "    </tr>\n",
       "    <tr>\n",
       "      <th>6</th>\n",
       "      <td>4CB90AA5</td>\n",
       "      <td>True</td>\n",
       "      <td>Roman Messer</td>\n",
       "      <td>dance</td>\n",
       "      <td>Moscow</td>\n",
       "      <td>13:00:07</td>\n",
       "      <td>Wednesday</td>\n",
       "    </tr>\n",
       "    <tr>\n",
       "      <th>7</th>\n",
       "      <td>F03E1C1F</td>\n",
       "      <td>Feeling This Way</td>\n",
       "      <td>Polina Griffith</td>\n",
       "      <td>dance</td>\n",
       "      <td>Moscow</td>\n",
       "      <td>20:47:49</td>\n",
       "      <td>Wednesday</td>\n",
       "    </tr>\n",
       "    <tr>\n",
       "      <th>8</th>\n",
       "      <td>8FA1D3BE</td>\n",
       "      <td>И вновь продолжается бой</td>\n",
       "      <td>NaN</td>\n",
       "      <td>ruspop</td>\n",
       "      <td>Moscow</td>\n",
       "      <td>09:17:40</td>\n",
       "      <td>Friday</td>\n",
       "    </tr>\n",
       "    <tr>\n",
       "      <th>9</th>\n",
       "      <td>E772D5C0</td>\n",
       "      <td>Pessimist</td>\n",
       "      <td>NaN</td>\n",
       "      <td>dance</td>\n",
       "      <td>Saint-Petersburg</td>\n",
       "      <td>21:20:49</td>\n",
       "      <td>Wednesday</td>\n",
       "    </tr>\n",
       "  </tbody>\n",
       "</table>\n",
       "</div>"
      ],
      "text/plain": [
       "     userID                        Track            artist   genre  \\\n",
       "0  FFB692EC            Kamigata To Boots  The Mass Missile    rock   \n",
       "1  55204538  Delayed Because of Accident  Andreas Rönnberg    rock   \n",
       "2    20EC38            Funiculì funiculà       Mario Lanza     pop   \n",
       "3  A3DD03C9        Dragons in the Sunset        Fire + Ice    folk   \n",
       "4  E2DC1FAE                  Soul People        Space Echo   dance   \n",
       "5  842029A1                    Преданная         IMPERVTOR  rusrap   \n",
       "6  4CB90AA5                         True      Roman Messer   dance   \n",
       "7  F03E1C1F             Feeling This Way   Polina Griffith   dance   \n",
       "8  8FA1D3BE     И вновь продолжается бой               NaN  ruspop   \n",
       "9  E772D5C0                    Pessimist               NaN   dance   \n",
       "\n",
       "             City        time        Day  \n",
       "0  Saint-Petersburg  20:28:33  Wednesday  \n",
       "1            Moscow  14:07:09     Friday  \n",
       "2  Saint-Petersburg  20:58:07  Wednesday  \n",
       "3  Saint-Petersburg  08:37:09     Monday  \n",
       "4            Moscow  08:34:34     Monday  \n",
       "5  Saint-Petersburg  13:09:41     Friday  \n",
       "6            Moscow  13:00:07  Wednesday  \n",
       "7            Moscow  20:47:49  Wednesday  \n",
       "8            Moscow  09:17:40     Friday  \n",
       "9  Saint-Petersburg  21:20:49  Wednesday  "
      ]
     },
     "metadata": {},
     "output_type": "display_data"
    }
   ],
   "source": [
    "# получение первых 10 строк таблицы df\n",
    "display(df.head(10))"
   ]
  },
  {
   "cell_type": "markdown",
   "metadata": {
    "id": "EO73Kwic_Zct"
   },
   "source": [
    "Одной командой получить общую информацию о таблице:"
   ]
  },
  {
   "cell_type": "code",
   "execution_count": 45,
   "metadata": {
    "id": "DSf2kIb-_Zct"
   },
   "outputs": [
    {
     "name": "stdout",
     "output_type": "stream",
     "text": [
      "<class 'pandas.core.frame.DataFrame'>\n",
      "RangeIndex: 65079 entries, 0 to 65078\n",
      "Data columns (total 7 columns):\n",
      " #   Column    Non-Null Count  Dtype \n",
      "---  ------    --------------  ----- \n",
      " 0     userID  65079 non-null  object\n",
      " 1   Track     63848 non-null  object\n",
      " 2   artist    57876 non-null  object\n",
      " 3   genre     63881 non-null  object\n",
      " 4     City    65079 non-null  object\n",
      " 5   time      65079 non-null  object\n",
      " 6   Day       65079 non-null  object\n",
      "dtypes: object(7)\n",
      "memory usage: 3.5+ MB\n"
     ]
    }
   ],
   "source": [
    "# получение общей информации о данных в таблице df\n",
    "df.info()"
   ]
  },
  {
   "cell_type": "markdown",
   "metadata": {
    "id": "TaQ2Iwbr_Zct"
   },
   "source": [
    "Итак, в таблице семь столбцов. Тип данных во всех столбцах — `object`.\n",
    "\n",
    "Согласно документации к данным:\n",
    "* `userID` — идентификатор пользователя;\n",
    "* `Track` — название трека;  \n",
    "* `artist` — имя исполнителя;\n",
    "* `genre` — название жанра;\n",
    "* `City` — город пользователя;\n",
    "* `time` — время начала прослушивания;\n",
    "* `Day` — день недели.\n",
    "\n",
    "В названиях колонок видны три нарушения стиля:\n",
    "1. Строчные буквы сочетаются с прописными.\n",
    "2. Встречаются пробелы.\n",
    "3. Должен быть змеиный регистр в названии первой колонки: `user_id` _(Найдите ещё одну проблему в названии колонок и опишите её в этом пункте)._\n",
    "\n",
    "\n",
    "\n",
    "Количество значений в столбцах различается. Значит, в данных есть пропущенные значения.\n"
   ]
  },
  {
   "cell_type": "markdown",
   "metadata": {
    "id": "MCB6-dXG_Zct"
   },
   "source": [
    "**Выводы**\n",
    "\n",
    "В каждой строке таблицы — данные о прослушанном треке. Часть колонок описывает саму композицию: название, исполнителя и жанр. Остальные данные рассказывают о пользователе: из какого он города, когда он слушал музыку. \n",
    "\n",
    "Предварительно можно утверждать, что, данных достаточно для проверки гипотез. Но встречаются пропуски в данных, а в названиях колонок — расхождения с хорошим стилем.\n",
    "\n",
    "Чтобы двигаться дальше, нужно устранить проблемы в данных."
   ]
  },
  {
   "cell_type": "markdown",
   "metadata": {
    "id": "SjYF6Ub9_Zct"
   },
   "source": [
    "## Предобработка данных\n",
    "Исправьте стиль в заголовках столбцов, исключите пропуски. Затем проверьте данные на дубликаты."
   ]
  },
  {
   "cell_type": "markdown",
   "metadata": {
    "id": "dIaKXr29_Zct"
   },
   "source": [
    "### Стиль заголовков\n",
    "Выведите на экран названия столбцов:"
   ]
  },
  {
   "cell_type": "code",
   "execution_count": 46,
   "metadata": {
    "id": "oKOTdF_Q_Zct"
   },
   "outputs": [
    {
     "data": {
      "text/plain": [
       "Index(['  userID', 'Track', 'artist', 'genre', '  City  ', 'time', 'Day'], dtype='object')"
      ]
     },
     "execution_count": 46,
     "metadata": {},
     "output_type": "execute_result"
    }
   ],
   "source": [
    "# перечень названий столбцов таблицы df\n",
    "\n",
    "df.columns"
   ]
  },
  {
   "cell_type": "markdown",
   "metadata": {
    "id": "zj5534cv_Zct"
   },
   "source": [
    "Приведите названия в соответствие с хорошим стилем:\n",
    "* несколько слов в названии запишите в «змеином_регистре»,\n",
    "* все символы сделайте строчными,\n",
    "* устраните пробелы.\n",
    "\n",
    "Для этого переименуйте колонки так:\n",
    "* `'  userID'` → `'user_id'`;\n",
    "* `'Track'` → `'track'`;\n",
    "* `'  City  '` → `'city'`;\n",
    "* `'Day'` → `'day'`."
   ]
  },
  {
   "cell_type": "code",
   "execution_count": 47,
   "metadata": {
    "id": "ISlFqs5y_Zct"
   },
   "outputs": [],
   "source": [
    "# переименование столбцов\n",
    "df = df.rename(\n",
    "    columns={\n",
    "    '  userID' : 'user_id', \n",
    "    'Track' : 'track', \n",
    "    '  City  ' : 'city', \n",
    "    'Day' : 'day'\n",
    "    }\n",
    ")"
   ]
  },
  {
   "cell_type": "markdown",
   "metadata": {
    "id": "1dqbh00J_Zct"
   },
   "source": [
    "Проверьте результат. Для этого ещё раз выведите на экран названия столбцов:"
   ]
  },
  {
   "cell_type": "code",
   "execution_count": 48,
   "metadata": {
    "id": "d4NOAmTW_Zct"
   },
   "outputs": [
    {
     "data": {
      "text/plain": [
       "Index(['user_id', 'track', 'artist', 'genre', 'city', 'time', 'day'], dtype='object')"
      ]
     },
     "execution_count": 48,
     "metadata": {},
     "output_type": "execute_result"
    }
   ],
   "source": [
    "# проверка результатов - перечень названий столбцов\n",
    "df.columns"
   ]
  },
  {
   "cell_type": "markdown",
   "metadata": {
    "id": "5ISfbcfY_Zct"
   },
   "source": [
    "### Пропуски значений\n",
    "Сначала посчитайте, сколько в таблице пропущенных значений. Для этого достаточно двух методов `pandas`:"
   ]
  },
  {
   "cell_type": "code",
   "execution_count": 49,
   "metadata": {
    "id": "RskX29qr_Zct"
   },
   "outputs": [
    {
     "data": {
      "text/plain": [
       "user_id       0\n",
       "track      1231\n",
       "artist     7203\n",
       "genre      1198\n",
       "city          0\n",
       "time          0\n",
       "day           0\n",
       "dtype: int64"
      ]
     },
     "execution_count": 49,
     "metadata": {},
     "output_type": "execute_result"
    }
   ],
   "source": [
    "# подсчёт пропусков\n",
    "\n",
    "df.isna().sum()"
   ]
  },
  {
   "cell_type": "markdown",
   "metadata": {
    "id": "qubhgnlO_Zct"
   },
   "source": [
    "Не все пропущенные значения влияют на исследование. Так в `track` и `artist` пропуски не важны для вашей работы. Достаточно заменить их явными обозначениями.\n",
    "\n",
    "Но пропуски в `genre` могут помешать сравнению музыкальных вкусов в Москве и Санкт-Петербурге. На практике было бы правильно установить причину пропусков и восстановить данные. Такой возможности нет в учебном проекте. Придётся:\n",
    "* заполнить и эти пропуски явными обозначениями,\n",
    "* оценить, насколько они повредят расчётам. "
   ]
  },
  {
   "cell_type": "markdown",
   "metadata": {
    "id": "fSv2laPA_Zct"
   },
   "source": [
    "Замените пропущенные значения в столбцах `track`, `artist` и `genre` на строку `'unknown'`. Для этого создайте список `columns_to_replace`, переберите его элементы циклом `for` и для каждого столбца выполните замену пропущенных значений:"
   ]
  },
  {
   "cell_type": "code",
   "execution_count": 50,
   "metadata": {
    "id": "KplB5qWs_Zct"
   },
   "outputs": [],
   "source": [
    "# перебор названий столбцов в цикле и замена пропущенных значений на 'unknown'\n",
    "\n",
    "columns_to_replace = ['track', 'artist', 'genre']\n",
    "\n",
    "for column in columns_to_replace:\n",
    "    df[column] = df[column].fillna('unknown')"
   ]
  },
  {
   "cell_type": "markdown",
   "metadata": {
    "id": "Ilsm-MZo_Zct"
   },
   "source": [
    "Убедитесь, что в таблице не осталось пропусков. Для этого ещё раз посчитайте пропущенные значения."
   ]
  },
  {
   "cell_type": "code",
   "execution_count": 51,
   "metadata": {
    "id": "Tq4nYRX4_Zct"
   },
   "outputs": [
    {
     "data": {
      "text/plain": [
       "user_id    0\n",
       "track      0\n",
       "artist     0\n",
       "genre      0\n",
       "city       0\n",
       "time       0\n",
       "day        0\n",
       "dtype: int64"
      ]
     },
     "execution_count": 51,
     "metadata": {},
     "output_type": "execute_result"
    }
   ],
   "source": [
    "# подсчёт пропусков\n",
    "\n",
    "df.isna().sum()"
   ]
  },
  {
   "cell_type": "markdown",
   "metadata": {
    "id": "BWKRtBJ3_Zct"
   },
   "source": [
    "### Дубликаты\n",
    "Посчитайте явные дубликаты в таблице одной командой:"
   ]
  },
  {
   "cell_type": "code",
   "execution_count": 52,
   "metadata": {
    "id": "36eES_S0_Zct"
   },
   "outputs": [
    {
     "data": {
      "text/plain": [
       "3826"
      ]
     },
     "execution_count": 52,
     "metadata": {},
     "output_type": "execute_result"
    }
   ],
   "source": [
    "# подсчёт явных дубликатов\n",
    "df.duplicated().sum()"
   ]
  },
  {
   "cell_type": "markdown",
   "metadata": {
    "id": "Ot25h6XR_Zct"
   },
   "source": [
    "Вызовите специальный метод `pandas`, чтобы удалить явные дубликаты:"
   ]
  },
  {
   "cell_type": "code",
   "execution_count": 53,
   "metadata": {
    "id": "exFHq6tt_Zct"
   },
   "outputs": [],
   "source": [
    "# удаление явных дубликатов (с удалением старых индексов и формированием новых)\n",
    "df = df.drop_duplicates().reset_index(drop = True)"
   ]
  },
  {
   "cell_type": "markdown",
   "metadata": {
    "id": "Im2YwBEG_Zct"
   },
   "source": [
    "Ещё раз посчитайте явные дубликаты в таблице — убедитесь, что полностью от них избавились:"
   ]
  },
  {
   "cell_type": "code",
   "execution_count": 54,
   "metadata": {
    "id": "-8PuNWQ0_Zct"
   },
   "outputs": [
    {
     "data": {
      "text/plain": [
       "0"
      ]
     },
     "execution_count": 54,
     "metadata": {},
     "output_type": "execute_result"
    }
   ],
   "source": [
    "# проверка на отсутствие дубликатов\n",
    "df.duplicated().sum()"
   ]
  },
  {
   "cell_type": "markdown",
   "metadata": {
    "id": "QlFBsxAr_Zct"
   },
   "source": [
    "Теперь избавьтесь от неявных дубликатов в колонке `genre`. Например, название одного и того же жанра может быть записано немного по-разному. Такие ошибки тоже повлияют на результат исследования."
   ]
  },
  {
   "cell_type": "markdown",
   "metadata": {
    "id": "eSjWwsOh_Zct"
   },
   "source": [
    "Выведите на экран список уникальных названий жанров, отсортированный в алфавитном порядке. Для этого:\n",
    "* извлеките нужный столбец датафрейма, \n",
    "* примените к нему метод сортировки,\n",
    "* для отсортированного столбца вызовите метод, который вернёт уникальные значения из столбца."
   ]
  },
  {
   "cell_type": "code",
   "execution_count": 55,
   "metadata": {
    "id": "JIUcqzZN_Zct"
   },
   "outputs": [
    {
     "name": "stdout",
     "output_type": "stream",
     "text": [
      "['acid', 'acoustic', 'action', 'adult', 'africa', 'afrikaans', 'alternative', 'alternativepunk', 'ambient', 'americana', 'animated', 'anime', 'arabesk', 'arabic', 'arena', 'argentinetango', 'art', 'audiobook', 'author', 'avantgarde', 'axé', 'baile', 'balkan', 'beats', 'bigroom', 'black', 'bluegrass', 'blues', 'bollywood', 'bossa', 'brazilian', 'breakbeat', 'breaks', 'broadway', 'cantautori', 'cantopop', 'canzone', 'caribbean', 'caucasian', 'celtic', 'chamber', 'chanson', 'children', 'chill', 'chinese', 'choral', 'christian', 'christmas', 'classical', 'classicmetal', 'club', 'colombian', 'comedy', 'conjazz', 'contemporary', 'country', 'cuban', 'dance', 'dancehall', 'dancepop', 'dark', 'death', 'deep', 'deutschrock', 'deutschspr', 'dirty', 'disco', 'dnb', 'documentary', 'downbeat', 'downtempo', 'drum', 'dub', 'dubstep', 'eastern', 'easy', 'electronic', 'electropop', 'emo', 'entehno', 'epicmetal', 'estrada', 'ethnic', 'eurofolk', 'european', 'experimental', 'extrememetal', 'fado', 'fairytail', 'film', 'fitness', 'flamenco', 'folk', 'folklore', 'folkmetal', 'folkrock', 'folktronica', 'forró', 'frankreich', 'französisch', 'french', 'funk', 'future', 'gangsta', 'garage', 'german', 'ghazal', 'gitarre', 'glitch', 'gospel', 'gothic', 'grime', 'grunge', 'gypsy', 'handsup', \"hard'n'heavy\", 'hardcore', 'hardstyle', 'hardtechno', 'hip', 'hip-hop', 'hiphop', 'historisch', 'holiday', 'hop', 'horror', 'house', 'hymn', 'idm', 'independent', 'indian', 'indie', 'indipop', 'industrial', 'inspirational', 'instrumental', 'international', 'irish', 'jam', 'japanese', 'jazz', 'jewish', 'jpop', 'jungle', 'k-pop', 'karadeniz', 'karaoke', 'kayokyoku', 'korean', 'laiko', 'latin', 'latino', 'leftfield', 'local', 'lounge', 'loungeelectronic', 'lovers', 'malaysian', 'mandopop', 'marschmusik', 'meditative', 'mediterranean', 'melodic', 'metal', 'metalcore', 'mexican', 'middle', 'minimal', 'miscellaneous', 'modern', 'mood', 'mpb', 'muslim', 'native', 'neoklassik', 'neue', 'new', 'newage', 'newwave', 'nu', 'nujazz', 'numetal', 'oceania', 'old', 'opera', 'orchestral', 'other', 'piano', 'podcasts', 'pop', 'popdance', 'popelectronic', 'popeurodance', 'poprussian', 'post', 'posthardcore', 'postrock', 'power', 'progmetal', 'progressive', 'psychedelic', 'punjabi', 'punk', 'quebecois', 'ragga', 'ram', 'rancheras', 'rap', 'rave', 'reggae', 'reggaeton', 'regional', 'relax', 'religious', 'retro', 'rhythm', 'rnb', 'rnr', 'rock', 'rockabilly', 'rockalternative', 'rockindie', 'rockother', 'romance', 'roots', 'ruspop', 'rusrap', 'rusrock', 'russian', 'salsa', 'samba', 'scenic', 'schlager', 'self', 'sertanejo', 'shanson', 'shoegazing', 'showtunes', 'singer', 'ska', 'skarock', 'slow', 'smooth', 'soft', 'soul', 'soulful', 'sound', 'soundtrack', 'southern', 'specialty', 'speech', 'spiritual', 'sport', 'stonerrock', 'surf', 'swing', 'synthpop', 'synthrock', 'sängerportrait', 'tango', 'tanzorchester', 'taraftar', 'tatar', 'tech', 'techno', 'teen', 'thrash', 'top', 'traditional', 'tradjazz', 'trance', 'tribal', 'trip', 'triphop', 'tropical', 'türk', 'türkçe', 'ukrrock', 'unknown', 'urban', 'uzbek', 'variété', 'vi', 'videogame', 'vocal', 'western', 'world', 'worldbeat', 'ïîï', 'электроника']\n"
     ]
    }
   ],
   "source": [
    "# Просмотр уникальных названий жанров\n",
    "print(sorted(df['genre'].unique()))\n",
    "\n",
    "#также можно использовать display(sorted(df['genre'].unique())), тогда это будет выведено в столбец"
   ]
  },
  {
   "cell_type": "markdown",
   "metadata": {
    "id": "qej-Qmuo_Zct"
   },
   "source": [
    "Просмотрите список и найдите неявные дубликаты названия `hiphop`. Это могут быть названия с ошибками или альтернативные названия того же жанра.\n",
    "\n",
    "Вы увидите следующие неявные дубликаты:\n",
    "* *hip*,\n",
    "* *hop*,\n",
    "* *hip-hop*.\n",
    "\n",
    "Чтобы очистить от них таблицу, напишите функцию `replace_wrong_genres()` с двумя параметрами: \n",
    "* `wrong_genres` — список дубликатов,\n",
    "* `correct_genre` — строка с правильным значением.\n",
    "\n",
    "Функция должна исправить колонку `genre` в таблице `df`: заменить каждое значение из списка `wrong_genres` на значение из `correct_genre`."
   ]
  },
  {
   "cell_type": "code",
   "execution_count": 56,
   "metadata": {
    "id": "ErNDkmns_Zct"
   },
   "outputs": [],
   "source": [
    "# Функция для замены неявных дубликатов\n",
    "def replace_wrong_genres(wrong_genres, correct_genre):\n",
    "    for wrong_genre in wrong_genres:\n",
    "        df['genre'] = df['genre'].replace(wrong_genre, correct_genre)"
   ]
  },
  {
   "cell_type": "markdown",
   "metadata": {},
   "source": [
    "<font color='green'> Список `columns_to_replace` сформирован верно, цикл отработал без ошибок."
   ]
  },
  {
   "cell_type": "markdown",
   "metadata": {
    "id": "aDoBJxbA_Zct"
   },
   "source": [
    "Вызовите `replace_wrong_genres()` и передайте ей такие аргументы, чтобы она устранила неявные дубликаты: вместо `hip`, `hop` и `hip-hop` в таблице должно быть значение `hiphop`:"
   ]
  },
  {
   "cell_type": "code",
   "execution_count": 57,
   "metadata": {
    "id": "YN5i2hpmSo09"
   },
   "outputs": [],
   "source": [
    "# Устранение неявных дубликатов\n",
    "replace_wrong_genres(['hip', 'hop', 'hip-hop'], 'hiphop')"
   ]
  },
  {
   "cell_type": "markdown",
   "metadata": {
    "id": "zQKF16_RG15m"
   },
   "source": [
    "Проверьте, что заменили неправильные названия:\n",
    "\n",
    "*   hip\n",
    "*   hop\n",
    "*   hip-hop\n",
    "\n",
    "Выведите отсортированный список уникальных значений столбца `genre`:"
   ]
  },
  {
   "cell_type": "code",
   "execution_count": 58,
   "metadata": {
    "id": "wvixALnFG15m"
   },
   "outputs": [
    {
     "name": "stdout",
     "output_type": "stream",
     "text": [
      "['acid', 'acoustic', 'action', 'adult', 'africa', 'afrikaans', 'alternative', 'alternativepunk', 'ambient', 'americana', 'animated', 'anime', 'arabesk', 'arabic', 'arena', 'argentinetango', 'art', 'audiobook', 'author', 'avantgarde', 'axé', 'baile', 'balkan', 'beats', 'bigroom', 'black', 'bluegrass', 'blues', 'bollywood', 'bossa', 'brazilian', 'breakbeat', 'breaks', 'broadway', 'cantautori', 'cantopop', 'canzone', 'caribbean', 'caucasian', 'celtic', 'chamber', 'chanson', 'children', 'chill', 'chinese', 'choral', 'christian', 'christmas', 'classical', 'classicmetal', 'club', 'colombian', 'comedy', 'conjazz', 'contemporary', 'country', 'cuban', 'dance', 'dancehall', 'dancepop', 'dark', 'death', 'deep', 'deutschrock', 'deutschspr', 'dirty', 'disco', 'dnb', 'documentary', 'downbeat', 'downtempo', 'drum', 'dub', 'dubstep', 'eastern', 'easy', 'electronic', 'electropop', 'emo', 'entehno', 'epicmetal', 'estrada', 'ethnic', 'eurofolk', 'european', 'experimental', 'extrememetal', 'fado', 'fairytail', 'film', 'fitness', 'flamenco', 'folk', 'folklore', 'folkmetal', 'folkrock', 'folktronica', 'forró', 'frankreich', 'französisch', 'french', 'funk', 'future', 'gangsta', 'garage', 'german', 'ghazal', 'gitarre', 'glitch', 'gospel', 'gothic', 'grime', 'grunge', 'gypsy', 'handsup', \"hard'n'heavy\", 'hardcore', 'hardstyle', 'hardtechno', 'hiphop', 'historisch', 'holiday', 'horror', 'house', 'hymn', 'idm', 'independent', 'indian', 'indie', 'indipop', 'industrial', 'inspirational', 'instrumental', 'international', 'irish', 'jam', 'japanese', 'jazz', 'jewish', 'jpop', 'jungle', 'k-pop', 'karadeniz', 'karaoke', 'kayokyoku', 'korean', 'laiko', 'latin', 'latino', 'leftfield', 'local', 'lounge', 'loungeelectronic', 'lovers', 'malaysian', 'mandopop', 'marschmusik', 'meditative', 'mediterranean', 'melodic', 'metal', 'metalcore', 'mexican', 'middle', 'minimal', 'miscellaneous', 'modern', 'mood', 'mpb', 'muslim', 'native', 'neoklassik', 'neue', 'new', 'newage', 'newwave', 'nu', 'nujazz', 'numetal', 'oceania', 'old', 'opera', 'orchestral', 'other', 'piano', 'podcasts', 'pop', 'popdance', 'popelectronic', 'popeurodance', 'poprussian', 'post', 'posthardcore', 'postrock', 'power', 'progmetal', 'progressive', 'psychedelic', 'punjabi', 'punk', 'quebecois', 'ragga', 'ram', 'rancheras', 'rap', 'rave', 'reggae', 'reggaeton', 'regional', 'relax', 'religious', 'retro', 'rhythm', 'rnb', 'rnr', 'rock', 'rockabilly', 'rockalternative', 'rockindie', 'rockother', 'romance', 'roots', 'ruspop', 'rusrap', 'rusrock', 'russian', 'salsa', 'samba', 'scenic', 'schlager', 'self', 'sertanejo', 'shanson', 'shoegazing', 'showtunes', 'singer', 'ska', 'skarock', 'slow', 'smooth', 'soft', 'soul', 'soulful', 'sound', 'soundtrack', 'southern', 'specialty', 'speech', 'spiritual', 'sport', 'stonerrock', 'surf', 'swing', 'synthpop', 'synthrock', 'sängerportrait', 'tango', 'tanzorchester', 'taraftar', 'tatar', 'tech', 'techno', 'teen', 'thrash', 'top', 'traditional', 'tradjazz', 'trance', 'tribal', 'trip', 'triphop', 'tropical', 'türk', 'türkçe', 'ukrrock', 'unknown', 'urban', 'uzbek', 'variété', 'vi', 'videogame', 'vocal', 'western', 'world', 'worldbeat', 'ïîï', 'электроника']\n"
     ]
    }
   ],
   "source": [
    "# Проверка на неявные дубликаты\n",
    "print(sorted(df['genre'].unique()))\n",
    "\n",
    "#также можно использовать display(sorted(df['genre'].unique())), тогда это будет выведено в столбец"
   ]
  },
  {
   "cell_type": "markdown",
   "metadata": {
    "id": "jz6a9-7HQUDd"
   },
   "source": [
    "**Выводы**\n",
    "\n",
    "Предобработка обнаружила три проблемы в данных:\n",
    "\n",
    "- нарушения в стиле заголовков,\n",
    "- пропущенные значения,\n",
    "- дубликаты — явные и неявные.\n",
    "\n",
    "Вы исправили заголовки, чтобы упростить работу с таблицей. Без дубликатов исследование станет более точным.\n",
    "\n",
    "Пропущенные значения вы заменили на `'unknown'`. Ещё предстоит увидеть, не повредят ли исследованию пропуски в колонке `genre`.\n",
    "\n",
    "Теперь можно перейти к проверке гипотез. "
   ]
  },
  {
   "cell_type": "markdown",
   "metadata": {
    "id": "WttZHXH0SqKk"
   },
   "source": [
    "## Проверка гипотез"
   ]
  },
  {
   "cell_type": "markdown",
   "metadata": {
    "id": "Im936VVi_Zcu"
   },
   "source": [
    "### Сравнение поведения пользователей двух столиц"
   ]
  },
  {
   "cell_type": "markdown",
   "metadata": {
    "id": "nwt_MuaL_Zcu"
   },
   "source": [
    "Первая гипотеза утверждает, что пользователи по-разному слушают музыку в Москве и Санкт-Петербурге. Проверьте это предположение по данным о трёх днях недели — понедельнике, среде и пятнице. Для этого:\n",
    "\n",
    "* Разделите пользователей Москвы и Санкт-Петербурга\n",
    "* Сравните, сколько треков послушала каждая группа пользователей в понедельник, среду и пятницу.\n"
   ]
  },
  {
   "cell_type": "markdown",
   "metadata": {
    "id": "8Dw_YMmT_Zcu"
   },
   "source": [
    "Для тренировки сначала выполните каждый из расчётов по отдельности. \n",
    "\n",
    "Оцените активность пользователей в каждом городе. Сгруппируйте данные по городу и посчитайте прослушивания в каждой группе.\n",
    "\n"
   ]
  },
  {
   "cell_type": "code",
   "execution_count": 59,
   "metadata": {
    "id": "0_Qs96oh_Zcu"
   },
   "outputs": [
    {
     "name": "stdout",
     "output_type": "stream",
     "text": [
      "Количество прослушиваний в городах: \n",
      " city\n",
      "Moscow              42741\n",
      "Saint-Petersburg    18512\n",
      "Name: time, dtype: int64\n"
     ]
    }
   ],
   "source": [
    "# Подсчёт прослушиваний в каждом городе\n",
    "df_group_by_city = df.groupby('city')['time'].count()\n",
    "\n",
    "print('Количество прослушиваний в городах: \\n', df_group_by_city)"
   ]
  },
  {
   "cell_type": "markdown",
   "metadata": {
    "id": "dzli3w8o_Zcu"
   },
   "source": [
    "В Москве прослушиваний больше, чем в Петербурге. Из этого не следует, что московские пользователи чаще слушают музыку. Просто самих пользователей в Москве больше.\n",
    "\n",
    "Теперь сгруппируйте данные по дню недели и подсчитайте прослушивания в понедельник, среду и пятницу. Учтите, что в данных есть информация о прослушиваниях только за эти дни.\n"
   ]
  },
  {
   "cell_type": "code",
   "execution_count": 60,
   "metadata": {
    "id": "uZMKjiJz_Zcu"
   },
   "outputs": [
    {
     "name": "stdout",
     "output_type": "stream",
     "text": [
      "day\n",
      "Friday       21840\n",
      "Monday       21354\n",
      "Wednesday    18059\n",
      "Name: time, dtype: int64\n"
     ]
    }
   ],
   "source": [
    "# Подсчёт прослушиваний в каждый из трёх дней\n",
    "#print('Убеждаемся, что в датасете есть данные только за 3 дня недели из 7:\\n', df['day'].unique())\n",
    "\n",
    "df_grouped_by_day = df.groupby('day')['time'].count()\n",
    "\n",
    "print(df_grouped_by_day)"
   ]
  },
  {
   "cell_type": "markdown",
   "metadata": {
    "id": "cC2tNrlL_Zcu"
   },
   "source": [
    "В среднем пользователи из двух городов менее активны по средам. Но картина может измениться, если рассмотреть каждый город в отдельности."
   ]
  },
  {
   "cell_type": "markdown",
   "metadata": {
    "id": "POzs8bGa_Zcu"
   },
   "source": [
    "Вы видели, как работает группировка по городу и по дням недели. Теперь напишите функцию, которая объединит два эти расчёта.\n",
    "\n",
    "Создайте функцию `number_tracks()`, которая посчитает прослушивания для заданного дня и города. Ей понадобятся два параметра:\n",
    "* день недели,\n",
    "* название города.\n",
    "\n",
    "В функции сохраните в переменную строки исходной таблицы, у которых значение:\n",
    "  * в колонке `day` равно параметру `day`,\n",
    "  * в колонке `city` равно параметру `city`.\n",
    "\n",
    "Для этого примените последовательную фильтрацию с логической индексацией.\n",
    "\n",
    "Затем посчитайте значения в столбце `user_id` получившейся таблицы. Результат сохраните в новую переменную. Верните эту переменную из функции."
   ]
  },
  {
   "cell_type": "code",
   "execution_count": 61,
   "metadata": {
    "id": "Nz3GdQB1_Zcu"
   },
   "outputs": [],
   "source": [
    "# <создание функции number_tracks()>\n",
    "# Объявляется функция с двумя параметрами: day, city.\n",
    "# В переменной track_list сохраняются те строки таблицы df, для которых \n",
    "# значение в столбце 'day' равно параметру day и одновременно значение\n",
    "# в столбце 'city' равно параметру city (используйте последовательную фильтрацию\n",
    "# с помощью логической индексации).\n",
    "# В переменной track_list_count сохраняется число значений столбца 'user_id',\n",
    "# рассчитанное методом count() для таблицы track_list.\n",
    "# Функция возвращает число - значение track_list_count.\n",
    "\n",
    "def number_tracks(day, city):\n",
    "    track_list = df[df['day'] == day]\n",
    "    track_list = track_list[track_list['city'] == city]\n",
    "    track_list_count = track_list['user_id'].count()\n",
    "        \n",
    "    return(track_list_count)\n",
    "    \n",
    "# Функция для подсчёта прослушиваний для конкретного города и дня.\n",
    "# С помощью последовательной фильтрации с логической индексацией она \n",
    "# сначала получит из исходной таблицы строки с нужным днём,\n",
    "# затем из результата отфильтрует строки с нужным городом,\n",
    "# методом count() посчитает количество значений в колонке user_id. \n",
    "# Это количество функция вернёт в качестве результата"
   ]
  },
  {
   "cell_type": "markdown",
   "metadata": {
    "id": "ytf7xFrFJQ2r"
   },
   "source": [
    "Вызовите `number_tracks()` шесть раз, меняя значение параметров — так, чтобы получить данные для каждого города в каждый из трёх дней."
   ]
  },
  {
   "cell_type": "code",
   "execution_count": 62,
   "metadata": {
    "id": "rJcRATNQ_Zcu"
   },
   "outputs": [
    {
     "data": {
      "text/plain": [
       "15740"
      ]
     },
     "execution_count": 62,
     "metadata": {},
     "output_type": "execute_result"
    }
   ],
   "source": [
    "# количество прослушиваний в Москве по понедельникам\n",
    "number_tracks('Monday', 'Moscow')"
   ]
  },
  {
   "cell_type": "code",
   "execution_count": 63,
   "metadata": {
    "id": "hq_ncZ5T_Zcu"
   },
   "outputs": [
    {
     "data": {
      "text/plain": [
       "5614"
      ]
     },
     "execution_count": 63,
     "metadata": {},
     "output_type": "execute_result"
    }
   ],
   "source": [
    "# количество прослушиваний в Санкт-Петербурге по понедельникам\n",
    "number_tracks('Monday', 'Saint-Petersburg')"
   ]
  },
  {
   "cell_type": "code",
   "execution_count": 64,
   "metadata": {
    "id": "_NTy2VPU_Zcu"
   },
   "outputs": [
    {
     "data": {
      "text/plain": [
       "11056"
      ]
     },
     "execution_count": 64,
     "metadata": {},
     "output_type": "execute_result"
    }
   ],
   "source": [
    "# количество прослушиваний в Москве по средам\n",
    "number_tracks('Wednesday', 'Moscow')"
   ]
  },
  {
   "cell_type": "code",
   "execution_count": 65,
   "metadata": {
    "id": "j2y3TAwo_Zcu"
   },
   "outputs": [
    {
     "data": {
      "text/plain": [
       "7003"
      ]
     },
     "execution_count": 65,
     "metadata": {},
     "output_type": "execute_result"
    }
   ],
   "source": [
    "# количество прослушиваний в Санкт-Петербурге по средам\n",
    "number_tracks('Wednesday', 'Saint-Petersburg')"
   ]
  },
  {
   "cell_type": "code",
   "execution_count": 66,
   "metadata": {
    "id": "vYDw5u_K_Zcu"
   },
   "outputs": [
    {
     "data": {
      "text/plain": [
       "15945"
      ]
     },
     "execution_count": 66,
     "metadata": {},
     "output_type": "execute_result"
    }
   ],
   "source": [
    "# количество прослушиваний в Москве по пятницам\n",
    "number_tracks('Friday', 'Moscow')"
   ]
  },
  {
   "cell_type": "code",
   "execution_count": 67,
   "metadata": {
    "id": "8_yzFtW3_Zcu"
   },
   "outputs": [
    {
     "data": {
      "text/plain": [
       "5895"
      ]
     },
     "execution_count": 67,
     "metadata": {},
     "output_type": "execute_result"
    }
   ],
   "source": [
    "# количество прослушиваний в Санкт-Петербурге по пятницам\n",
    "number_tracks('Friday', 'Saint-Petersburg')"
   ]
  },
  {
   "cell_type": "markdown",
   "metadata": {
    "id": "7QXffbO-_Zcu"
   },
   "source": [
    "Создайте c помощью конструктора `pd.DataFrame` таблицу, где\n",
    "* названия колонок — `['city', 'monday', 'wednesday', 'friday']`;\n",
    "* данные — результаты, которые вы получили с помощью `number_tracks`."
   ]
  },
  {
   "cell_type": "code",
   "execution_count": 68,
   "metadata": {
    "id": "APAcLpOr_Zcu"
   },
   "outputs": [
    {
     "data": {
      "text/html": [
       "<div>\n",
       "<style scoped>\n",
       "    .dataframe tbody tr th:only-of-type {\n",
       "        vertical-align: middle;\n",
       "    }\n",
       "\n",
       "    .dataframe tbody tr th {\n",
       "        vertical-align: top;\n",
       "    }\n",
       "\n",
       "    .dataframe thead th {\n",
       "        text-align: right;\n",
       "    }\n",
       "</style>\n",
       "<table border=\"1\" class=\"dataframe\">\n",
       "  <thead>\n",
       "    <tr style=\"text-align: right;\">\n",
       "      <th></th>\n",
       "      <th>city</th>\n",
       "      <th>monday</th>\n",
       "      <th>wednesday</th>\n",
       "      <th>friday</th>\n",
       "    </tr>\n",
       "  </thead>\n",
       "  <tbody>\n",
       "    <tr>\n",
       "      <th>0</th>\n",
       "      <td>Moscow</td>\n",
       "      <td>15740</td>\n",
       "      <td>11056</td>\n",
       "      <td>15945</td>\n",
       "    </tr>\n",
       "    <tr>\n",
       "      <th>1</th>\n",
       "      <td>Saint-Petersburg</td>\n",
       "      <td>5614</td>\n",
       "      <td>7003</td>\n",
       "      <td>5895</td>\n",
       "    </tr>\n",
       "  </tbody>\n",
       "</table>\n",
       "</div>"
      ],
      "text/plain": [
       "               city  monday  wednesday  friday\n",
       "0            Moscow   15740      11056   15945\n",
       "1  Saint-Petersburg    5614       7003    5895"
      ]
     },
     "metadata": {},
     "output_type": "display_data"
    }
   ],
   "source": [
    "# Таблица с результатами\n",
    "clmns = ['city', 'monday', 'wednesday', 'friday']\n",
    "dt = [['Moscow', 15740, 11056, 15945], \n",
    "        ['Saint-Petersburg', 5614, 7003, 5895]]\n",
    "\n",
    "research_city_x_day_results = pd.DataFrame(data = dt, columns = clmns)\n",
    "\n",
    "display(research_city_x_day_results)"
   ]
  },
  {
   "cell_type": "markdown",
   "metadata": {
    "id": "-EgPIHYu_Zcu"
   },
   "source": [
    "**Выводы**\n",
    "\n",
    "Данные показывают разницу поведения пользователей:\n",
    "\n",
    "- В Москве пик прослушиваний приходится на понедельник и пятницу, а в среду заметен спад.\n",
    "- В Петербурге, наоборот, больше слушают музыку по средам. Активность в понедельник и пятницу здесь почти в равной мере уступает среде.\n",
    "\n",
    "Значит, данные говорят в пользу первой гипотезы."
   ]
  },
  {
   "cell_type": "markdown",
   "metadata": {
    "id": "atZAxtq4_Zcu"
   },
   "source": [
    "### Музыка в начале и в конце недели"
   ]
  },
  {
   "cell_type": "markdown",
   "metadata": {
    "id": "eXrQqXFH_Zcu"
   },
   "source": [
    "Согласно второй гипотезе, утром в понедельник в Москве преобладают одни жанры, а в Петербурге — другие. Так же и вечером пятницы преобладают разные жанры — в зависимости от города."
   ]
  },
  {
   "cell_type": "markdown",
   "metadata": {
    "id": "S8UcW6Hw_Zcu"
   },
   "source": [
    "Сохраните таблицы с данными в две переменные:\n",
    "* по Москве — в `moscow_general`;\n",
    "* по Санкт-Петербургу — в `spb_general`."
   ]
  },
  {
   "cell_type": "code",
   "execution_count": 69,
   "metadata": {
    "id": "qeaFfM_P_Zcu"
   },
   "outputs": [],
   "source": [
    "# получение таблицы moscow_general из тех строк таблицы df, \n",
    "# для которых значение в столбце 'city' равно 'Moscow'\n",
    "moscow_general = df[df['city'] == 'Moscow']"
   ]
  },
  {
   "cell_type": "code",
   "execution_count": 70,
   "metadata": {
    "id": "ORaVRKto_Zcu"
   },
   "outputs": [],
   "source": [
    "# получение таблицы spb_general из тех строк таблицы df,\n",
    "# для которых значение в столбце 'city' равно 'Saint-Petersburg'\n",
    "spb_general = df[df['city'] == 'Saint-Petersburg']"
   ]
  },
  {
   "cell_type": "markdown",
   "metadata": {
    "id": "MEJV-CX2_Zcu"
   },
   "source": [
    "Создайте функцию `genre_weekday()` с четырьмя параметрами:\n",
    "* таблица (датафрейм) с данными,\n",
    "* день недели,\n",
    "* начальная временная метка в формате 'hh:mm', \n",
    "* последняя временная метка в формате 'hh:mm'.\n",
    "\n",
    "Функция должна вернуть информацию о топ-10 жанров тех треков, которые прослушивали в указанный день, в промежутке между двумя отметками времени."
   ]
  },
  {
   "cell_type": "code",
   "execution_count": 71,
   "metadata": {
    "id": "laJT9BYl_Zcu"
   },
   "outputs": [],
   "source": [
    "# Объявление функции genre_weekday() с параметрами table, day, time1, time2,\n",
    "# которая возвращает информацию о самых популярных жанрах в указанный день в\n",
    "# заданное время:\n",
    "# 1) в переменную genre_df сохраняются те строки переданного датафрейма table, для\n",
    "#    которых одновременно:\n",
    "#    - значение в столбце day равно значению аргумента day\n",
    "#    - значение в столбце time больше значения аргумента time1\n",
    "#    - значение в столбце time меньше значения аргумента time2\n",
    "#    Используйте последовательную фильтрацию с помощью логической индексации.\n",
    "def genre_weekday(table, day, time1, time2):\n",
    "    genre_df = table[table['day'] == day]\n",
    "    genre_df = genre_df[genre_df['time'] > time1]\n",
    "    genre_df = genre_df[genre_df['time'] <= time2]\n",
    "\n",
    "# 2) сгруппировать датафрейм genre_df по столбцу genre, взять один из его\n",
    "#    столбцов и посчитать методом count() количество записей для каждого из\n",
    "#    присутствующих жанров, получившийся Series записать в переменную\n",
    "#    genre_df_count\n",
    "    genre_df_count = genre_df.groupby('genre')['user_id'].count()\n",
    "\n",
    "# 3) отсортировать genre_df_count по убыванию встречаемости и сохранить\n",
    "#    в переменную genre_df_sorted\n",
    "    genre_df_sorted = genre_df_count.sort_values(ascending=False)\n",
    "    \n",
    "# 4) вернуть Series из 10 первых значений genre_df_sorted, это будут топ-10\n",
    "#    популярных жанров (в указанный день, в заданное время)\n",
    "    return genre_df_sorted.head(10)"
   ]
  },
  {
   "cell_type": "markdown",
   "metadata": {
    "id": "la2s2_PF_Zcu"
   },
   "source": [
    "Cравните результаты функции `genre_weekday()` для Москвы и Санкт-Петербурга в понедельник утром (с 7:00 до 11:00) и в пятницу вечером (с 17:00 до 23:00):"
   ]
  },
  {
   "cell_type": "code",
   "execution_count": 72,
   "metadata": {
    "id": "yz7itPUQ_Zcu"
   },
   "outputs": [
    {
     "data": {
      "text/plain": [
       "genre\n",
       "pop            781\n",
       "dance          549\n",
       "electronic     480\n",
       "rock           474\n",
       "hiphop         286\n",
       "ruspop         186\n",
       "world          181\n",
       "rusrap         175\n",
       "alternative    164\n",
       "unknown        161\n",
       "Name: user_id, dtype: int64"
      ]
     },
     "execution_count": 72,
     "metadata": {},
     "output_type": "execute_result"
    }
   ],
   "source": [
    "# вызов функции для утра понедельника в Москве (вместо df — таблица moscow_general)\n",
    "# объекты, хранящие время, являются строками и сравниваются как строки\n",
    "# пример вызова: genre_weekday(moscow_general, 'Monday', '07:00', '11:00')\n",
    "genre_weekday(moscow_general, 'Monday', '07:00', '11:00')"
   ]
  },
  {
   "cell_type": "code",
   "execution_count": 73,
   "metadata": {
    "id": "kwUcHPdy_Zcu"
   },
   "outputs": [
    {
     "data": {
      "text/plain": [
       "genre\n",
       "pop            218\n",
       "dance          182\n",
       "rock           162\n",
       "electronic     147\n",
       "hiphop          80\n",
       "ruspop          64\n",
       "alternative     58\n",
       "rusrap          55\n",
       "jazz            44\n",
       "classical       40\n",
       "Name: user_id, dtype: int64"
      ]
     },
     "execution_count": 73,
     "metadata": {},
     "output_type": "execute_result"
    }
   ],
   "source": [
    "# вызов функции для утра понедельника в Петербурге (вместо df — таблица spb_general)\n",
    "genre_weekday(spb_general, 'Monday', '07:00', '11:00')"
   ]
  },
  {
   "cell_type": "code",
   "execution_count": 74,
   "metadata": {
    "id": "EzXVRE1o_Zcu"
   },
   "outputs": [
    {
     "data": {
      "text/plain": [
       "genre\n",
       "pop            713\n",
       "rock           517\n",
       "dance          495\n",
       "electronic     482\n",
       "hiphop         273\n",
       "world          208\n",
       "ruspop         170\n",
       "alternative    163\n",
       "classical      163\n",
       "rusrap         142\n",
       "Name: user_id, dtype: int64"
      ]
     },
     "execution_count": 74,
     "metadata": {},
     "output_type": "execute_result"
    }
   ],
   "source": [
    "# вызов функции для вечера пятницы в Москве\n",
    "genre_weekday(moscow_general, 'Friday', '17:00', '23:00')"
   ]
  },
  {
   "cell_type": "code",
   "execution_count": 75,
   "metadata": {
    "id": "JZaEKu5v_Zcu"
   },
   "outputs": [
    {
     "data": {
      "text/plain": [
       "genre\n",
       "pop            256\n",
       "electronic     216\n",
       "rock           216\n",
       "dance          210\n",
       "hiphop          97\n",
       "alternative     63\n",
       "jazz            61\n",
       "classical       60\n",
       "rusrap          59\n",
       "world           54\n",
       "Name: user_id, dtype: int64"
      ]
     },
     "execution_count": 75,
     "metadata": {},
     "output_type": "execute_result"
    }
   ],
   "source": [
    "# вызов функции для вечера пятницы в Петербурге\n",
    "genre_weekday(spb_general, 'Friday', '17:00', '23:00')"
   ]
  },
  {
   "cell_type": "markdown",
   "metadata": {
    "id": "wrCe4MNX_Zcu"
   },
   "source": [
    "**Выводы**\n",
    "\n",
    "Если сравнить топ-10 жанров в понедельник утром, можно сделать такие выводы:\n",
    "\n",
    "1. В Москве и Петербурге слушают похожую музыку. Единственное отличие — в московский рейтинг вошёл жанр “world”, а в петербургский — джаз и классика.\n",
    "\n",
    "2. В Москве пропущенных значений оказалось так много, что значение `'unknown'` заняло десятое место среди самых популярных жанров. Значит, пропущенные значения занимают существенную долю в данных и угрожают достоверности исследования.\n",
    "\n",
    "Вечер пятницы не меняет эту картину. Некоторые жанры поднимаются немного выше, другие спускаются, но в целом топ-10 остаётся тем же самым.\n",
    "\n",
    "Таким образом, вторая гипотеза подтвердилась лишь частично:\n",
    "* Пользователи слушают похожую музыку в начале недели и в конце.\n",
    "* Разница между Москвой и Петербургом не слишком выражена. В Москве чаще слушают русскую популярную музыку, в Петербурге — джаз.\n",
    "\n",
    "Однако пропуски в данных ставят под сомнение этот результат. В Москве их так много, что рейтинг топ-10 мог бы выглядеть иначе, если бы не утерянные  данные о жанрах."
   ]
  },
  {
   "cell_type": "markdown",
   "metadata": {
    "id": "JolODAqr_Zcu"
   },
   "source": [
    "### Жанровые предпочтения в Москве и Петербурге\n",
    "\n",
    "Гипотеза: Петербург — столица рэпа, музыку этого жанра там слушают чаще, чем в Москве.  А Москва — город контрастов, в котором, тем не менее, преобладает поп-музыка."
   ]
  },
  {
   "cell_type": "markdown",
   "metadata": {
    "id": "DlegSvaT_Zcu"
   },
   "source": [
    "Сгруппируйте таблицу `moscow_general` по жанру и посчитайте прослушивания треков каждого жанра методом `count()`. Затем отсортируйте результат в порядке убывания и сохраните его в таблице `moscow_genres`."
   ]
  },
  {
   "cell_type": "code",
   "execution_count": 76,
   "metadata": {
    "id": "r19lIPke_Zcu"
   },
   "outputs": [],
   "source": [
    "# одной строкой: группировка таблицы moscow_general по столбцу 'genre', \n",
    "# подсчёт числа значений 'genre' в этой группировке методом count(), \n",
    "# сортировка получившегося Series в порядке убывания и сохранение в moscow_genres\n",
    "\n",
    "moscow_genres = moscow_general.groupby('genre')['genre'].count().sort_values(ascending = False)"
   ]
  },
  {
   "cell_type": "markdown",
   "metadata": {
    "id": "6kMuomxTiIr8"
   },
   "source": [
    "Выведите на экран первые десять строк `moscow_genres`:"
   ]
  },
  {
   "cell_type": "code",
   "execution_count": 77,
   "metadata": {
    "id": "WhCSooF8_Zcv"
   },
   "outputs": [
    {
     "name": "stdout",
     "output_type": "stream",
     "text": [
      "genre\n",
      "pop            5892\n",
      "dance          4435\n",
      "rock           3965\n",
      "electronic     3786\n",
      "hiphop         2096\n",
      "classical      1616\n",
      "world          1432\n",
      "alternative    1379\n",
      "ruspop         1372\n",
      "rusrap         1161\n",
      "Name: genre, dtype: int64\n"
     ]
    }
   ],
   "source": [
    "# просмотр первых 10 строк moscow_genres\n",
    "print(moscow_genres.head(10))"
   ]
  },
  {
   "cell_type": "markdown",
   "metadata": {
    "id": "cnPG2vnN_Zcv"
   },
   "source": [
    "Теперь повторите то же и для Петербурга.\n",
    "\n",
    "Сгруппируйте таблицу `spb_general` по жанру. Посчитайте прослушивания треков каждого жанра. Результат отсортируйте в порядке убывания и сохраните в таблице `spb_genres`:\n"
   ]
  },
  {
   "cell_type": "code",
   "execution_count": 78,
   "metadata": {
    "id": "gluLIpE7_Zcv"
   },
   "outputs": [],
   "source": [
    "# одной строкой: группировка таблицы spb_general по столбцу 'genre', \n",
    "# подсчёт числа значений 'genre' в этой группировке методом count(), \n",
    "# сортировка получившегося Series в порядке убывания и сохранение в spb_genres\n",
    "\n",
    "spb_genres = spb_general.groupby('genre')['genre'].count().sort_values(ascending = False)"
   ]
  },
  {
   "cell_type": "markdown",
   "metadata": {
    "id": "5Doha_ODgyQ8"
   },
   "source": [
    "Выведите на экран первые десять строк `spb_genres`:"
   ]
  },
  {
   "cell_type": "code",
   "execution_count": 79,
   "metadata": {
    "id": "uaGJHjVU_Zcv"
   },
   "outputs": [
    {
     "name": "stdout",
     "output_type": "stream",
     "text": [
      "genre\n",
      "pop            2431\n",
      "dance          1932\n",
      "rock           1879\n",
      "electronic     1736\n",
      "hiphop          960\n",
      "alternative     649\n",
      "classical       646\n",
      "rusrap          564\n",
      "ruspop          538\n",
      "world           515\n",
      "Name: genre, dtype: int64\n"
     ]
    }
   ],
   "source": [
    "# просмотр первых 10 строк spb_genres\n",
    "\n",
    "print(spb_genres.head(10))"
   ]
  },
  {
   "cell_type": "markdown",
   "metadata": {
    "id": "RY51YJYu_Zcv"
   },
   "source": [
    "**Выводы**"
   ]
  },
  {
   "cell_type": "markdown",
   "metadata": {
    "id": "nVhnJEm__Zcv"
   },
   "source": [
    "Гипотеза частично подтвердилась:\n",
    "* Поп-музыка — самый популярный жанр в Москве, как и предполагала гипотеза. Более того, в топ-10 жанров встречается близкий жанр — русская популярная музыка.\n",
    "* Вопреки ожиданиям, рэп одинаково популярен в Москве и Петербурге. \n"
   ]
  },
  {
   "cell_type": "markdown",
   "metadata": {
    "id": "ykKQ0N65_Zcv"
   },
   "source": [
    "## Итоги исследования"
   ]
  },
  {
   "cell_type": "markdown",
   "metadata": {
    "id": "tjUwbHb3_Zcv"
   },
   "source": [
    "Вы проверили три гипотезы и установили:\n",
    "\n",
    "1. День недели по-разному влияет на активность пользователей в Москве и Петербурге. \n",
    "\n",
    "Первая гипотеза полностью подтвердилась.\n",
    "\n",
    "2. Музыкальные предпочтения не сильно меняются в течение недели — будь то Москва или Петербург. Небольшие различия заметны в начале недели, по понедельникам:\n",
    "* в Москве слушают музыку жанра “world”,\n",
    "* в Петербурге — джаз и классику.\n",
    "\n",
    "Таким образом, вторая гипотеза подтвердилась лишь отчасти. Этот результат мог оказаться иным, если бы не пропуски в данных.\n",
    "\n",
    "3. Во вкусах пользователей Москвы и Петербурга больше общего чем различий. Вопреки ожиданиям, предпочтения жанров в Петербурге напоминают московские.\n",
    "\n",
    "Третья гипотеза не подтвердилась. Если различия в предпочтениях и существуют, на основной массе пользователей они незаметны.\n",
    "\n",
    "**На практике исследования содержат проверки статистических гипотез.**\n",
    "Из данных одного сервиса не всегда можно сделать вывод о всех жителях города.\n",
    "Проверки статистических гипотез покажут, насколько они достоверны, исходя из имеющихся данных. \n",
    "С методами проверок гипотез вы ещё познакомитесь в следующих темах."
   ]
  }
 ],
 "metadata": {
  "ExecuteTimeLog": [
   {
    "duration": 537,
    "start_time": "2022-04-22T17:59:35.006Z"
   },
   {
    "duration": 203,
    "start_time": "2022-04-22T18:00:15.073Z"
   },
   {
    "duration": 210,
    "start_time": "2022-04-22T18:00:56.292Z"
   },
   {
    "duration": 27,
    "start_time": "2022-04-22T18:01:19.238Z"
   },
   {
    "duration": 45,
    "start_time": "2022-04-22T18:01:36.915Z"
   },
   {
    "duration": 10,
    "start_time": "2022-04-22T18:17:35.561Z"
   },
   {
    "duration": 9,
    "start_time": "2022-04-22T18:18:21.381Z"
   },
   {
    "duration": 5,
    "start_time": "2022-04-22T18:18:39.192Z"
   },
   {
    "duration": 4,
    "start_time": "2022-04-22T18:18:51.246Z"
   },
   {
    "duration": 5,
    "start_time": "2022-04-22T18:19:03.324Z"
   },
   {
    "duration": 5,
    "start_time": "2022-04-22T18:19:13.634Z"
   },
   {
    "duration": 4,
    "start_time": "2022-04-22T18:19:22.130Z"
   },
   {
    "duration": 5,
    "start_time": "2022-04-22T18:19:30.079Z"
   },
   {
    "duration": 4,
    "start_time": "2022-04-22T18:19:37.262Z"
   },
   {
    "duration": 9,
    "start_time": "2022-04-22T18:25:39.043Z"
   },
   {
    "duration": 6,
    "start_time": "2022-04-22T18:25:43.505Z"
   },
   {
    "duration": 6,
    "start_time": "2022-04-22T18:26:24.641Z"
   },
   {
    "duration": 17,
    "start_time": "2022-04-22T18:26:44.990Z"
   },
   {
    "duration": 21,
    "start_time": "2022-04-22T18:26:54.620Z"
   },
   {
    "duration": 19,
    "start_time": "2022-04-22T18:27:07.875Z"
   },
   {
    "duration": 13,
    "start_time": "2022-04-22T18:27:27.382Z"
   },
   {
    "duration": 16,
    "start_time": "2022-04-22T18:27:36.165Z"
   },
   {
    "duration": 4,
    "start_time": "2022-04-22T18:28:14.766Z"
   },
   {
    "duration": 229,
    "start_time": "2022-04-22T18:28:17.253Z"
   },
   {
    "duration": 16,
    "start_time": "2022-04-22T18:28:19.759Z"
   },
   {
    "duration": 42,
    "start_time": "2022-04-22T18:28:23.222Z"
   },
   {
    "duration": 6,
    "start_time": "2022-04-22T18:28:28.116Z"
   },
   {
    "duration": 16,
    "start_time": "2022-04-22T18:28:34.843Z"
   },
   {
    "duration": 20,
    "start_time": "2022-04-22T18:28:50.201Z"
   },
   {
    "duration": 6,
    "start_time": "2022-04-22T18:29:08.045Z"
   },
   {
    "duration": 49,
    "start_time": "2022-04-22T18:34:46.765Z"
   },
   {
    "duration": 36,
    "start_time": "2022-04-22T18:35:15.225Z"
   },
   {
    "duration": 30,
    "start_time": "2022-04-22T18:41:33.193Z"
   },
   {
    "duration": 16,
    "start_time": "2022-04-22T18:42:27.224Z"
   },
   {
    "duration": 543,
    "start_time": "2022-04-22T18:43:11.194Z"
   },
   {
    "duration": 218,
    "start_time": "2022-04-22T18:43:14.715Z"
   },
   {
    "duration": 27,
    "start_time": "2022-04-22T18:43:18.487Z"
   },
   {
    "duration": 44,
    "start_time": "2022-04-22T18:43:21.863Z"
   },
   {
    "duration": 5,
    "start_time": "2022-04-22T18:43:26.878Z"
   },
   {
    "duration": 18,
    "start_time": "2022-04-22T18:43:30.789Z"
   },
   {
    "duration": 6,
    "start_time": "2022-04-22T18:43:34.141Z"
   },
   {
    "duration": 36,
    "start_time": "2022-04-22T18:44:09.071Z"
   },
   {
    "duration": 116,
    "start_time": "2022-04-22T18:44:29.564Z"
   },
   {
    "duration": 15,
    "start_time": "2022-04-22T18:48:12.900Z"
   },
   {
    "duration": 0,
    "start_time": "2022-04-22T18:48:12.918Z"
   },
   {
    "duration": 14,
    "start_time": "2022-04-22T18:48:45.553Z"
   },
   {
    "duration": 12,
    "start_time": "2022-04-22T18:48:52.999Z"
   },
   {
    "duration": 13,
    "start_time": "2022-04-22T18:48:57.938Z"
   },
   {
    "duration": 569,
    "start_time": "2022-04-22T18:51:08.673Z"
   },
   {
    "duration": 222,
    "start_time": "2022-04-22T18:51:11.497Z"
   },
   {
    "duration": 32,
    "start_time": "2022-04-22T18:51:13.489Z"
   },
   {
    "duration": 44,
    "start_time": "2022-04-22T18:51:14.928Z"
   },
   {
    "duration": 8,
    "start_time": "2022-04-22T18:51:16.512Z"
   },
   {
    "duration": 25,
    "start_time": "2022-04-22T18:51:25.230Z"
   },
   {
    "duration": 7,
    "start_time": "2022-04-22T18:51:29.247Z"
   },
   {
    "duration": 35,
    "start_time": "2022-04-22T18:51:40.532Z"
   },
   {
    "duration": 115,
    "start_time": "2022-04-22T18:52:17.878Z"
   },
   {
    "duration": 14,
    "start_time": "2022-04-22T18:54:05.948Z"
   },
   {
    "duration": 12,
    "start_time": "2022-04-22T18:54:26.008Z"
   },
   {
    "duration": 13,
    "start_time": "2022-04-22T18:54:34.983Z"
   },
   {
    "duration": 14,
    "start_time": "2022-04-22T18:55:14.256Z"
   },
   {
    "duration": 6,
    "start_time": "2022-04-22T18:55:23.718Z"
   },
   {
    "duration": 484,
    "start_time": "2022-04-22T19:00:57.161Z"
   },
   {
    "duration": 236,
    "start_time": "2022-04-22T19:00:57.648Z"
   },
   {
    "duration": 51,
    "start_time": "2022-04-22T19:00:57.887Z"
   },
   {
    "duration": 83,
    "start_time": "2022-04-22T19:00:57.942Z"
   },
   {
    "duration": 6,
    "start_time": "2022-04-22T19:00:58.027Z"
   },
   {
    "duration": 28,
    "start_time": "2022-04-22T19:00:58.036Z"
   },
   {
    "duration": 10,
    "start_time": "2022-04-22T19:00:58.067Z"
   },
   {
    "duration": 69,
    "start_time": "2022-04-22T19:00:58.079Z"
   },
   {
    "duration": 113,
    "start_time": "2022-04-22T19:01:04.136Z"
   },
   {
    "duration": 544,
    "start_time": "2022-04-22T19:01:36.886Z"
   },
   {
    "duration": 205,
    "start_time": "2022-04-22T19:01:37.433Z"
   },
   {
    "duration": 28,
    "start_time": "2022-04-22T19:01:37.640Z"
   },
   {
    "duration": 61,
    "start_time": "2022-04-22T19:01:37.672Z"
   },
   {
    "duration": 6,
    "start_time": "2022-04-22T19:01:37.735Z"
   },
   {
    "duration": 18,
    "start_time": "2022-04-22T19:01:37.743Z"
   },
   {
    "duration": 8,
    "start_time": "2022-04-22T19:01:37.763Z"
   },
   {
    "duration": 68,
    "start_time": "2022-04-22T19:01:37.773Z"
   },
   {
    "duration": 23,
    "start_time": "2022-04-22T19:01:37.844Z"
   },
   {
    "duration": 34,
    "start_time": "2022-04-22T19:01:41.170Z"
   },
   {
    "duration": 74,
    "start_time": "2022-04-22T19:02:02.167Z"
   },
   {
    "duration": 35,
    "start_time": "2022-04-22T19:02:10.455Z"
   },
   {
    "duration": 190,
    "start_time": "2022-04-22T19:02:29.586Z"
   },
   {
    "duration": 179,
    "start_time": "2022-04-22T19:02:39.913Z"
   },
   {
    "duration": 103,
    "start_time": "2022-04-22T19:02:54.054Z"
   },
   {
    "duration": 128,
    "start_time": "2022-04-22T19:03:49.734Z"
   },
   {
    "duration": 101,
    "start_time": "2022-04-22T19:04:18.065Z"
   },
   {
    "duration": 95,
    "start_time": "2022-04-22T19:04:26.079Z"
   },
   {
    "duration": 103,
    "start_time": "2022-04-22T19:04:41.228Z"
   },
   {
    "duration": 99,
    "start_time": "2022-04-22T19:04:45.435Z"
   },
   {
    "duration": 8,
    "start_time": "2022-04-22T19:05:37.011Z"
   },
   {
    "duration": 19,
    "start_time": "2022-04-22T19:05:44.802Z"
   },
   {
    "duration": 17,
    "start_time": "2022-04-22T19:06:24.300Z"
   },
   {
    "duration": 4,
    "start_time": "2022-04-22T19:16:49.753Z"
   },
   {
    "duration": 2748,
    "start_time": "2022-04-22T19:18:16.187Z"
   },
   {
    "duration": 2189,
    "start_time": "2022-04-22T19:29:17.268Z"
   },
   {
    "duration": 4,
    "start_time": "2022-04-22T19:29:27.306Z"
   },
   {
    "duration": 121,
    "start_time": "2022-04-22T19:29:30.290Z"
   },
   {
    "duration": 19,
    "start_time": "2022-04-22T19:29:41.247Z"
   },
   {
    "duration": 7,
    "start_time": "2022-04-22T19:29:50.408Z"
   },
   {
    "duration": 16,
    "start_time": "2022-04-22T19:30:00.132Z"
   },
   {
    "duration": 18,
    "start_time": "2022-04-22T19:30:11.314Z"
   },
   {
    "duration": 508,
    "start_time": "2022-04-22T19:30:45.225Z"
   },
   {
    "duration": 206,
    "start_time": "2022-04-22T19:30:45.736Z"
   },
   {
    "duration": 29,
    "start_time": "2022-04-22T19:30:45.944Z"
   },
   {
    "duration": 62,
    "start_time": "2022-04-22T19:30:45.976Z"
   },
   {
    "duration": 5,
    "start_time": "2022-04-22T19:30:46.041Z"
   },
   {
    "duration": 24,
    "start_time": "2022-04-22T19:30:46.048Z"
   },
   {
    "duration": 11,
    "start_time": "2022-04-22T19:30:46.075Z"
   },
   {
    "duration": 52,
    "start_time": "2022-04-22T19:30:46.088Z"
   },
   {
    "duration": 25,
    "start_time": "2022-04-22T19:30:46.142Z"
   },
   {
    "duration": 59,
    "start_time": "2022-04-22T19:30:46.170Z"
   },
   {
    "duration": 115,
    "start_time": "2022-04-22T19:30:46.231Z"
   },
   {
    "duration": 127,
    "start_time": "2022-04-22T19:30:46.348Z"
   },
   {
    "duration": 103,
    "start_time": "2022-04-22T19:30:46.477Z"
   },
   {
    "duration": 11,
    "start_time": "2022-04-22T19:30:46.582Z"
   },
   {
    "duration": 5,
    "start_time": "2022-04-22T19:30:46.595Z"
   },
   {
    "duration": 113,
    "start_time": "2022-04-22T19:30:46.602Z"
   },
   {
    "duration": 19,
    "start_time": "2022-04-22T19:30:50.171Z"
   },
   {
    "duration": 545,
    "start_time": "2022-04-22T19:31:58.884Z"
   },
   {
    "duration": 207,
    "start_time": "2022-04-22T19:31:59.432Z"
   },
   {
    "duration": 27,
    "start_time": "2022-04-22T19:31:59.641Z"
   },
   {
    "duration": 56,
    "start_time": "2022-04-22T19:31:59.671Z"
   },
   {
    "duration": 5,
    "start_time": "2022-04-22T19:31:59.729Z"
   },
   {
    "duration": 30,
    "start_time": "2022-04-22T19:31:59.736Z"
   },
   {
    "duration": 9,
    "start_time": "2022-04-22T19:31:59.768Z"
   },
   {
    "duration": 55,
    "start_time": "2022-04-22T19:31:59.779Z"
   },
   {
    "duration": 25,
    "start_time": "2022-04-22T19:31:59.836Z"
   },
   {
    "duration": 33,
    "start_time": "2022-04-22T19:31:59.865Z"
   },
   {
    "duration": 111,
    "start_time": "2022-04-22T19:31:59.925Z"
   },
   {
    "duration": 128,
    "start_time": "2022-04-22T19:32:00.038Z"
   },
   {
    "duration": 108,
    "start_time": "2022-04-22T19:32:00.168Z"
   },
   {
    "duration": 11,
    "start_time": "2022-04-22T19:32:00.278Z"
   },
   {
    "duration": 15,
    "start_time": "2022-04-22T19:32:00.291Z"
   },
   {
    "duration": 42,
    "start_time": "2022-04-22T19:32:00.308Z"
   },
   {
    "duration": 23,
    "start_time": "2022-04-22T19:32:03.196Z"
   },
   {
    "duration": 8,
    "start_time": "2022-04-22T19:32:14.419Z"
   },
   {
    "duration": 12,
    "start_time": "2022-04-22T19:32:23.649Z"
   },
   {
    "duration": 103,
    "start_time": "2022-04-22T19:32:31.511Z"
   },
   {
    "duration": 15,
    "start_time": "2022-04-22T19:32:35.359Z"
   },
   {
    "duration": 10,
    "start_time": "2022-04-22T19:35:04.413Z"
   },
   {
    "duration": 3,
    "start_time": "2022-04-22T19:35:29.347Z"
   },
   {
    "duration": 200,
    "start_time": "2022-04-22T19:35:29.353Z"
   },
   {
    "duration": 16,
    "start_time": "2022-04-22T19:35:29.555Z"
   },
   {
    "duration": 59,
    "start_time": "2022-04-22T19:35:29.574Z"
   },
   {
    "duration": 5,
    "start_time": "2022-04-22T19:35:29.637Z"
   },
   {
    "duration": 15,
    "start_time": "2022-04-22T19:35:29.644Z"
   },
   {
    "duration": 5,
    "start_time": "2022-04-22T19:35:29.661Z"
   },
   {
    "duration": 68,
    "start_time": "2022-04-22T19:35:29.668Z"
   },
   {
    "duration": 28,
    "start_time": "2022-04-22T19:35:29.738Z"
   },
   {
    "duration": 33,
    "start_time": "2022-04-22T19:35:29.768Z"
   },
   {
    "duration": 104,
    "start_time": "2022-04-22T19:35:29.827Z"
   },
   {
    "duration": 138,
    "start_time": "2022-04-22T19:35:29.933Z"
   },
   {
    "duration": 106,
    "start_time": "2022-04-22T19:35:30.073Z"
   },
   {
    "duration": 11,
    "start_time": "2022-04-22T19:35:30.181Z"
   },
   {
    "duration": 8,
    "start_time": "2022-04-22T19:35:30.194Z"
   },
   {
    "duration": 40,
    "start_time": "2022-04-22T19:35:30.205Z"
   },
   {
    "duration": 21,
    "start_time": "2022-04-22T19:35:30.248Z"
   },
   {
    "duration": 529,
    "start_time": "2022-04-22T19:35:51.204Z"
   },
   {
    "duration": 206,
    "start_time": "2022-04-22T19:35:51.736Z"
   },
   {
    "duration": 27,
    "start_time": "2022-04-22T19:35:51.945Z"
   },
   {
    "duration": 58,
    "start_time": "2022-04-22T19:35:51.976Z"
   },
   {
    "duration": 6,
    "start_time": "2022-04-22T19:35:52.036Z"
   },
   {
    "duration": 18,
    "start_time": "2022-04-22T19:35:52.044Z"
   },
   {
    "duration": 16,
    "start_time": "2022-04-22T19:35:52.064Z"
   },
   {
    "duration": 68,
    "start_time": "2022-04-22T19:35:52.082Z"
   },
   {
    "duration": 25,
    "start_time": "2022-04-22T19:35:52.153Z"
   },
   {
    "duration": 51,
    "start_time": "2022-04-22T19:35:52.181Z"
   },
   {
    "duration": 118,
    "start_time": "2022-04-22T19:35:52.235Z"
   },
   {
    "duration": 132,
    "start_time": "2022-04-22T19:35:52.355Z"
   },
   {
    "duration": 106,
    "start_time": "2022-04-22T19:35:52.489Z"
   },
   {
    "duration": 26,
    "start_time": "2022-04-22T19:35:52.598Z"
   },
   {
    "duration": 4,
    "start_time": "2022-04-22T19:35:52.626Z"
   },
   {
    "duration": 19,
    "start_time": "2022-04-22T19:35:52.632Z"
   },
   {
    "duration": 12,
    "start_time": "2022-04-22T19:35:52.654Z"
   },
   {
    "duration": 12,
    "start_time": "2022-04-22T19:43:18.395Z"
   },
   {
    "duration": 38,
    "start_time": "2022-04-22T19:43:27.753Z"
   },
   {
    "duration": 17,
    "start_time": "2022-04-22T19:52:43.772Z"
   },
   {
    "duration": 16,
    "start_time": "2022-04-22T19:53:10.480Z"
   },
   {
    "duration": 17,
    "start_time": "2022-04-22T19:53:19.861Z"
   },
   {
    "duration": 17,
    "start_time": "2022-04-22T19:59:05.864Z"
   },
   {
    "duration": 109,
    "start_time": "2022-04-22T20:00:32.146Z"
   },
   {
    "duration": 12,
    "start_time": "2022-04-22T20:00:52.096Z"
   },
   {
    "duration": 13,
    "start_time": "2022-04-22T20:02:23.663Z"
   },
   {
    "duration": 25,
    "start_time": "2022-04-22T20:02:40.165Z"
   },
   {
    "duration": 24,
    "start_time": "2022-04-22T20:02:49.188Z"
   },
   {
    "duration": 19,
    "start_time": "2022-04-22T20:02:52.235Z"
   },
   {
    "duration": 19,
    "start_time": "2022-04-22T20:03:04.760Z"
   },
   {
    "duration": 40,
    "start_time": "2022-04-22T20:06:37.839Z"
   },
   {
    "duration": 10,
    "start_time": "2022-04-22T20:06:53.122Z"
   },
   {
    "duration": 10,
    "start_time": "2022-04-22T20:07:05.738Z"
   },
   {
    "duration": 9,
    "start_time": "2022-04-22T20:07:36.163Z"
   },
   {
    "duration": 10,
    "start_time": "2022-04-22T20:08:23.906Z"
   },
   {
    "duration": 9,
    "start_time": "2022-04-22T20:09:59.410Z"
   },
   {
    "duration": 9,
    "start_time": "2022-04-22T20:10:08.809Z"
   },
   {
    "duration": 37,
    "start_time": "2022-04-22T20:12:22.931Z"
   },
   {
    "duration": 30,
    "start_time": "2022-04-22T20:12:37.616Z"
   },
   {
    "duration": 33,
    "start_time": "2022-04-22T20:12:56.622Z"
   },
   {
    "duration": 20,
    "start_time": "2022-04-22T20:26:31.115Z"
   },
   {
    "duration": 16,
    "start_time": "2022-04-22T20:31:53.590Z"
   },
   {
    "duration": 256,
    "start_time": "2022-04-22T20:32:49.404Z"
   },
   {
    "duration": 2243,
    "start_time": "2022-04-22T20:32:55.134Z"
   },
   {
    "duration": 18,
    "start_time": "2022-04-22T20:33:09.585Z"
   },
   {
    "duration": 33,
    "start_time": "2022-04-22T20:34:32.108Z"
   },
   {
    "duration": 160,
    "start_time": "2022-04-22T20:34:41.722Z"
   },
   {
    "duration": 20,
    "start_time": "2022-04-22T20:34:47.960Z"
   },
   {
    "duration": 28,
    "start_time": "2022-04-22T20:35:00.222Z"
   },
   {
    "duration": 22,
    "start_time": "2022-04-22T20:35:29.097Z"
   },
   {
    "duration": 219,
    "start_time": "2022-04-22T20:36:10.099Z"
   },
   {
    "duration": 13,
    "start_time": "2022-04-22T20:36:19.856Z"
   },
   {
    "duration": 11,
    "start_time": "2022-04-22T20:36:43.482Z"
   },
   {
    "duration": 22,
    "start_time": "2022-04-22T20:36:49.660Z"
   },
   {
    "duration": 23,
    "start_time": "2022-04-22T20:39:14.925Z"
   },
   {
    "duration": 14,
    "start_time": "2022-04-22T20:43:49.093Z"
   },
   {
    "duration": 2338,
    "start_time": "2022-04-22T20:44:13.505Z"
   },
   {
    "duration": 2582,
    "start_time": "2022-04-22T20:50:32.668Z"
   },
   {
    "duration": 2352,
    "start_time": "2022-04-22T20:51:02.198Z"
   },
   {
    "duration": 57,
    "start_time": "2022-04-22T20:55:03.342Z"
   },
   {
    "duration": 97,
    "start_time": "2022-04-22T20:55:43.701Z"
   },
   {
    "duration": 47,
    "start_time": "2022-04-22T20:56:19.075Z"
   },
   {
    "duration": 100,
    "start_time": "2022-04-22T20:56:30.350Z"
   },
   {
    "duration": 66,
    "start_time": "2022-04-22T20:58:26.821Z"
   },
   {
    "duration": 100,
    "start_time": "2022-04-22T20:58:39.279Z"
   },
   {
    "duration": 46,
    "start_time": "2022-04-22T20:59:18.617Z"
   },
   {
    "duration": 24,
    "start_time": "2022-04-22T21:00:19.759Z"
   },
   {
    "duration": 27,
    "start_time": "2022-04-22T21:01:24.371Z"
   },
   {
    "duration": 20,
    "start_time": "2022-04-22T21:01:54.342Z"
   },
   {
    "duration": 25,
    "start_time": "2022-04-22T21:02:22.657Z"
   },
   {
    "duration": 21,
    "start_time": "2022-04-22T21:02:31.136Z"
   },
   {
    "duration": 21,
    "start_time": "2022-04-22T21:02:58.436Z"
   },
   {
    "duration": 19,
    "start_time": "2022-04-22T21:06:38.431Z"
   },
   {
    "duration": 12,
    "start_time": "2022-04-22T21:09:10.230Z"
   },
   {
    "duration": 31,
    "start_time": "2022-04-22T21:19:01.082Z"
   },
   {
    "duration": 50,
    "start_time": "2022-04-22T21:19:07.984Z"
   },
   {
    "duration": 16,
    "start_time": "2022-04-22T21:19:26.470Z"
   },
   {
    "duration": 14,
    "start_time": "2022-04-22T21:19:30.501Z"
   },
   {
    "duration": 13,
    "start_time": "2022-04-22T21:30:19.706Z"
   },
   {
    "duration": 10,
    "start_time": "2022-04-22T21:30:23.409Z"
   },
   {
    "duration": 34,
    "start_time": "2022-04-22T21:30:27.615Z"
   },
   {
    "duration": 17,
    "start_time": "2022-04-22T21:31:51.713Z"
   },
   {
    "duration": 22,
    "start_time": "2022-04-22T21:31:56.248Z"
   },
   {
    "duration": 15,
    "start_time": "2022-04-22T21:31:59.407Z"
   },
   {
    "duration": 21,
    "start_time": "2022-04-22T21:34:10.556Z"
   },
   {
    "duration": 15,
    "start_time": "2022-04-22T21:34:15.506Z"
   },
   {
    "duration": 48,
    "start_time": "2022-04-23T14:21:55.735Z"
   },
   {
    "duration": 402,
    "start_time": "2022-04-23T14:22:10.286Z"
   },
   {
    "duration": 163,
    "start_time": "2022-04-23T14:22:10.689Z"
   },
   {
    "duration": 22,
    "start_time": "2022-04-23T14:22:10.853Z"
   },
   {
    "duration": 30,
    "start_time": "2022-04-23T14:22:10.876Z"
   },
   {
    "duration": 6,
    "start_time": "2022-04-23T14:22:10.908Z"
   },
   {
    "duration": 16,
    "start_time": "2022-04-23T14:22:10.915Z"
   },
   {
    "duration": 9,
    "start_time": "2022-04-23T14:22:10.933Z"
   },
   {
    "duration": 49,
    "start_time": "2022-04-23T14:22:10.943Z"
   },
   {
    "duration": 19,
    "start_time": "2022-04-23T14:22:10.994Z"
   },
   {
    "duration": 26,
    "start_time": "2022-04-23T14:22:11.014Z"
   },
   {
    "duration": 89,
    "start_time": "2022-04-23T14:22:11.042Z"
   },
   {
    "duration": 88,
    "start_time": "2022-04-23T14:22:11.132Z"
   },
   {
    "duration": 70,
    "start_time": "2022-04-23T14:22:11.222Z"
   },
   {
    "duration": 7,
    "start_time": "2022-04-23T14:22:11.296Z"
   },
   {
    "duration": 5,
    "start_time": "2022-04-23T14:22:11.305Z"
   },
   {
    "duration": 11,
    "start_time": "2022-04-23T14:22:11.312Z"
   },
   {
    "duration": 6,
    "start_time": "2022-04-23T14:22:11.325Z"
   },
   {
    "duration": 13,
    "start_time": "2022-04-23T14:22:11.332Z"
   },
   {
    "duration": 37,
    "start_time": "2022-04-23T14:22:11.346Z"
   },
   {
    "duration": 3,
    "start_time": "2022-04-23T14:22:11.385Z"
   },
   {
    "duration": 23,
    "start_time": "2022-04-23T14:22:11.390Z"
   },
   {
    "duration": 16,
    "start_time": "2022-04-23T14:22:11.415Z"
   },
   {
    "duration": 41,
    "start_time": "2022-04-23T14:22:11.433Z"
   },
   {
    "duration": 16,
    "start_time": "2022-04-23T14:22:11.476Z"
   },
   {
    "duration": 17,
    "start_time": "2022-04-23T14:22:11.493Z"
   },
   {
    "duration": 15,
    "start_time": "2022-04-23T14:22:11.512Z"
   },
   {
    "duration": 8,
    "start_time": "2022-04-23T14:22:11.529Z"
   },
   {
    "duration": 42,
    "start_time": "2022-04-23T14:22:11.539Z"
   },
   {
    "duration": 10,
    "start_time": "2022-04-23T14:22:11.583Z"
   },
   {
    "duration": 5,
    "start_time": "2022-04-23T14:22:11.594Z"
   },
   {
    "duration": 29,
    "start_time": "2022-04-23T14:22:11.601Z"
   },
   {
    "duration": 13,
    "start_time": "2022-04-23T14:22:11.631Z"
   },
   {
    "duration": 43,
    "start_time": "2022-04-23T14:22:11.645Z"
   },
   {
    "duration": 11,
    "start_time": "2022-04-23T14:22:11.690Z"
   },
   {
    "duration": 50,
    "start_time": "2022-04-23T14:22:16.318Z"
   },
   {
    "duration": 10,
    "start_time": "2022-04-23T14:23:01.326Z"
   },
   {
    "duration": 3,
    "start_time": "2022-04-23T14:23:21.699Z"
   },
   {
    "duration": 14,
    "start_time": "2022-04-23T14:27:26.569Z"
   },
   {
    "duration": 10,
    "start_time": "2022-04-23T14:27:37.568Z"
   },
   {
    "duration": 8,
    "start_time": "2022-04-23T14:27:47.533Z"
   },
   {
    "duration": 4,
    "start_time": "2022-04-23T14:28:01.333Z"
   },
   {
    "duration": 7,
    "start_time": "2022-04-23T14:28:24.328Z"
   },
   {
    "duration": 406,
    "start_time": "2022-04-23T18:02:07.293Z"
   },
   {
    "duration": 159,
    "start_time": "2022-04-23T18:02:07.701Z"
   },
   {
    "duration": 18,
    "start_time": "2022-04-23T18:02:07.862Z"
   },
   {
    "duration": 30,
    "start_time": "2022-04-23T18:02:07.882Z"
   },
   {
    "duration": 5,
    "start_time": "2022-04-23T18:02:07.913Z"
   },
   {
    "duration": 15,
    "start_time": "2022-04-23T18:02:07.920Z"
   },
   {
    "duration": 7,
    "start_time": "2022-04-23T18:02:07.936Z"
   },
   {
    "duration": 53,
    "start_time": "2022-04-23T18:02:07.944Z"
   },
   {
    "duration": 23,
    "start_time": "2022-04-23T18:02:07.998Z"
   },
   {
    "duration": 26,
    "start_time": "2022-04-23T18:02:08.024Z"
   },
   {
    "duration": 84,
    "start_time": "2022-04-23T18:02:08.052Z"
   },
   {
    "duration": 93,
    "start_time": "2022-04-23T18:02:08.138Z"
   },
   {
    "duration": 72,
    "start_time": "2022-04-23T18:02:08.233Z"
   },
   {
    "duration": 8,
    "start_time": "2022-04-23T18:02:08.307Z"
   },
   {
    "duration": 3,
    "start_time": "2022-04-23T18:02:08.316Z"
   },
   {
    "duration": 12,
    "start_time": "2022-04-23T18:02:08.321Z"
   },
   {
    "duration": 7,
    "start_time": "2022-04-23T18:02:08.334Z"
   },
   {
    "duration": 40,
    "start_time": "2022-04-23T18:02:08.342Z"
   },
   {
    "duration": 10,
    "start_time": "2022-04-23T18:02:08.383Z"
   },
   {
    "duration": 4,
    "start_time": "2022-04-23T18:02:08.395Z"
   },
   {
    "duration": 23,
    "start_time": "2022-04-23T18:02:08.400Z"
   },
   {
    "duration": 15,
    "start_time": "2022-04-23T18:02:08.425Z"
   },
   {
    "duration": 41,
    "start_time": "2022-04-23T18:02:08.442Z"
   },
   {
    "duration": 16,
    "start_time": "2022-04-23T18:02:08.484Z"
   },
   {
    "duration": 19,
    "start_time": "2022-04-23T18:02:08.502Z"
   },
   {
    "duration": 17,
    "start_time": "2022-04-23T18:02:08.523Z"
   },
   {
    "duration": 39,
    "start_time": "2022-04-23T18:02:08.541Z"
   },
   {
    "duration": 13,
    "start_time": "2022-04-23T18:02:08.584Z"
   },
   {
    "duration": 10,
    "start_time": "2022-04-23T18:02:08.599Z"
   },
   {
    "duration": 4,
    "start_time": "2022-04-23T18:02:08.611Z"
   },
   {
    "duration": 39,
    "start_time": "2022-04-23T18:02:08.617Z"
   },
   {
    "duration": 27,
    "start_time": "2022-04-23T18:02:08.658Z"
   },
   {
    "duration": 17,
    "start_time": "2022-04-23T18:02:08.687Z"
   },
   {
    "duration": 11,
    "start_time": "2022-04-23T18:02:08.706Z"
   },
   {
    "duration": 9,
    "start_time": "2022-04-23T18:02:08.718Z"
   },
   {
    "duration": 4,
    "start_time": "2022-04-23T18:02:08.728Z"
   },
   {
    "duration": 42,
    "start_time": "2022-04-23T18:02:08.734Z"
   },
   {
    "duration": 6,
    "start_time": "2022-04-23T18:02:19.230Z"
   },
   {
    "duration": 5,
    "start_time": "2022-04-23T18:02:22.686Z"
   },
   {
    "duration": 68,
    "start_time": "2022-04-23T18:05:11.161Z"
   },
   {
    "duration": 6,
    "start_time": "2022-04-23T18:06:08.872Z"
   },
   {
    "duration": 16,
    "start_time": "2022-04-23T18:06:22.620Z"
   },
   {
    "duration": 6,
    "start_time": "2022-04-23T18:06:33.933Z"
   },
   {
    "duration": 20,
    "start_time": "2022-04-23T18:07:06.529Z"
   },
   {
    "duration": 12,
    "start_time": "2022-04-23T18:07:35.106Z"
   },
   {
    "duration": 16,
    "start_time": "2022-04-23T18:08:24.913Z"
   },
   {
    "duration": 16,
    "start_time": "2022-04-23T18:08:34.616Z"
   },
   {
    "duration": 12,
    "start_time": "2022-04-23T18:08:43.094Z"
   },
   {
    "duration": 18,
    "start_time": "2022-04-23T18:09:09.138Z"
   },
   {
    "duration": 16,
    "start_time": "2022-04-23T18:09:15.568Z"
   },
   {
    "duration": 13,
    "start_time": "2022-04-23T18:09:27.998Z"
   },
   {
    "duration": 16,
    "start_time": "2022-04-23T18:10:05.144Z"
   },
   {
    "duration": 16,
    "start_time": "2022-04-23T18:10:28.949Z"
   },
   {
    "duration": 12,
    "start_time": "2022-04-23T18:10:42.202Z"
   },
   {
    "duration": 12,
    "start_time": "2022-04-23T18:11:03.703Z"
   },
   {
    "duration": 13,
    "start_time": "2022-04-23T18:11:18.245Z"
   },
   {
    "duration": 12,
    "start_time": "2022-04-23T18:11:24.674Z"
   },
   {
    "duration": 6,
    "start_time": "2022-04-23T18:13:16.504Z"
   },
   {
    "duration": 4,
    "start_time": "2022-04-23T18:13:30.653Z"
   },
   {
    "duration": 47,
    "start_time": "2022-04-24T08:08:17.307Z"
   },
   {
    "duration": 363,
    "start_time": "2022-04-24T08:08:34.830Z"
   },
   {
    "duration": 150,
    "start_time": "2022-04-24T08:08:35.196Z"
   },
   {
    "duration": 25,
    "start_time": "2022-04-24T08:08:35.348Z"
   },
   {
    "duration": 28,
    "start_time": "2022-04-24T08:08:35.375Z"
   },
   {
    "duration": 4,
    "start_time": "2022-04-24T08:08:35.405Z"
   },
   {
    "duration": 16,
    "start_time": "2022-04-24T08:08:35.410Z"
   },
   {
    "duration": 8,
    "start_time": "2022-04-24T08:08:35.427Z"
   },
   {
    "duration": 48,
    "start_time": "2022-04-24T08:08:35.437Z"
   },
   {
    "duration": 19,
    "start_time": "2022-04-24T08:08:35.486Z"
   },
   {
    "duration": 26,
    "start_time": "2022-04-24T08:08:35.507Z"
   },
   {
    "duration": 95,
    "start_time": "2022-04-24T08:08:35.534Z"
   },
   {
    "duration": 88,
    "start_time": "2022-04-24T08:08:35.631Z"
   },
   {
    "duration": 69,
    "start_time": "2022-04-24T08:08:35.721Z"
   },
   {
    "duration": 9,
    "start_time": "2022-04-24T08:08:35.791Z"
   },
   {
    "duration": 3,
    "start_time": "2022-04-24T08:09:47.616Z"
   },
   {
    "duration": 14,
    "start_time": "2022-04-24T08:11:58.753Z"
   },
   {
    "duration": 377,
    "start_time": "2022-04-24T08:12:16.915Z"
   },
   {
    "duration": 151,
    "start_time": "2022-04-24T08:12:17.294Z"
   },
   {
    "duration": 26,
    "start_time": "2022-04-24T08:12:17.447Z"
   },
   {
    "duration": 30,
    "start_time": "2022-04-24T08:12:17.475Z"
   },
   {
    "duration": 4,
    "start_time": "2022-04-24T08:12:17.507Z"
   },
   {
    "duration": 15,
    "start_time": "2022-04-24T08:12:17.512Z"
   },
   {
    "duration": 8,
    "start_time": "2022-04-24T08:12:17.529Z"
   },
   {
    "duration": 52,
    "start_time": "2022-04-24T08:12:17.539Z"
   },
   {
    "duration": 20,
    "start_time": "2022-04-24T08:12:17.593Z"
   },
   {
    "duration": 25,
    "start_time": "2022-04-24T08:12:17.616Z"
   },
   {
    "duration": 89,
    "start_time": "2022-04-24T08:12:17.643Z"
   },
   {
    "duration": 92,
    "start_time": "2022-04-24T08:12:17.735Z"
   },
   {
    "duration": 71,
    "start_time": "2022-04-24T08:12:17.829Z"
   },
   {
    "duration": 11,
    "start_time": "2022-04-24T08:12:17.902Z"
   },
   {
    "duration": 4,
    "start_time": "2022-04-24T08:12:17.915Z"
   },
   {
    "duration": 16,
    "start_time": "2022-04-24T08:12:17.921Z"
   },
   {
    "duration": 8,
    "start_time": "2022-04-24T08:12:17.938Z"
   },
   {
    "duration": 14,
    "start_time": "2022-04-24T08:12:17.974Z"
   },
   {
    "duration": 13,
    "start_time": "2022-04-24T08:12:17.990Z"
   },
   {
    "duration": 4,
    "start_time": "2022-04-24T08:12:18.005Z"
   },
   {
    "duration": 24,
    "start_time": "2022-04-24T08:12:18.011Z"
   },
   {
    "duration": 47,
    "start_time": "2022-04-24T08:12:18.037Z"
   },
   {
    "duration": 16,
    "start_time": "2022-04-24T08:12:18.086Z"
   },
   {
    "duration": 15,
    "start_time": "2022-04-24T08:12:18.105Z"
   },
   {
    "duration": 19,
    "start_time": "2022-04-24T08:12:18.121Z"
   },
   {
    "duration": 17,
    "start_time": "2022-04-24T08:12:18.174Z"
   },
   {
    "duration": 10,
    "start_time": "2022-04-24T08:12:18.193Z"
   },
   {
    "duration": 12,
    "start_time": "2022-04-24T08:12:18.208Z"
   },
   {
    "duration": 10,
    "start_time": "2022-04-24T08:12:18.222Z"
   },
   {
    "duration": 39,
    "start_time": "2022-04-24T08:12:18.234Z"
   },
   {
    "duration": 22,
    "start_time": "2022-04-24T08:12:18.275Z"
   },
   {
    "duration": 13,
    "start_time": "2022-04-24T08:12:18.299Z"
   },
   {
    "duration": 17,
    "start_time": "2022-04-24T08:12:18.314Z"
   },
   {
    "duration": 43,
    "start_time": "2022-04-24T08:12:18.333Z"
   },
   {
    "duration": 10,
    "start_time": "2022-04-24T08:12:18.378Z"
   },
   {
    "duration": 6,
    "start_time": "2022-04-24T08:12:18.390Z"
   },
   {
    "duration": 11,
    "start_time": "2022-04-24T08:12:18.397Z"
   },
   {
    "duration": 11,
    "start_time": "2022-04-24T08:12:18.410Z"
   },
   {
    "duration": 6,
    "start_time": "2022-04-24T08:15:28.459Z"
   },
   {
    "duration": 8,
    "start_time": "2022-04-24T08:34:20.659Z"
   },
   {
    "duration": 6,
    "start_time": "2022-04-24T08:34:51.160Z"
   },
   {
    "duration": 3,
    "start_time": "2022-04-24T08:38:12.349Z"
   },
   {
    "duration": 183,
    "start_time": "2022-04-24T08:38:12.354Z"
   },
   {
    "duration": 10,
    "start_time": "2022-04-24T08:38:12.539Z"
   },
   {
    "duration": 43,
    "start_time": "2022-04-24T08:38:12.550Z"
   },
   {
    "duration": 4,
    "start_time": "2022-04-24T08:38:12.595Z"
   },
   {
    "duration": 10,
    "start_time": "2022-04-24T08:38:12.600Z"
   },
   {
    "duration": 4,
    "start_time": "2022-04-24T08:38:12.612Z"
   },
   {
    "duration": 27,
    "start_time": "2022-04-24T08:38:12.617Z"
   },
   {
    "duration": 18,
    "start_time": "2022-04-24T08:38:12.674Z"
   },
   {
    "duration": 25,
    "start_time": "2022-04-24T08:38:12.694Z"
   },
   {
    "duration": 80,
    "start_time": "2022-04-24T08:38:12.721Z"
   },
   {
    "duration": 77,
    "start_time": "2022-04-24T08:38:12.802Z"
   },
   {
    "duration": 58,
    "start_time": "2022-04-24T08:38:12.881Z"
   },
   {
    "duration": 7,
    "start_time": "2022-04-24T08:38:12.940Z"
   },
   {
    "duration": 24,
    "start_time": "2022-04-24T08:38:12.949Z"
   },
   {
    "duration": 12,
    "start_time": "2022-04-24T08:38:12.974Z"
   },
   {
    "duration": 7,
    "start_time": "2022-04-24T08:38:12.987Z"
   },
   {
    "duration": 13,
    "start_time": "2022-04-24T08:38:12.995Z"
   },
   {
    "duration": 11,
    "start_time": "2022-04-24T08:38:13.010Z"
   },
   {
    "duration": 3,
    "start_time": "2022-04-24T08:38:13.023Z"
   },
   {
    "duration": 47,
    "start_time": "2022-04-24T08:38:13.027Z"
   },
   {
    "duration": 15,
    "start_time": "2022-04-24T08:38:13.076Z"
   },
   {
    "duration": 15,
    "start_time": "2022-04-24T08:38:13.092Z"
   },
   {
    "duration": 13,
    "start_time": "2022-04-24T08:38:13.109Z"
   },
   {
    "duration": 16,
    "start_time": "2022-04-24T08:38:13.124Z"
   },
   {
    "duration": 46,
    "start_time": "2022-04-24T08:38:13.141Z"
   },
   {
    "duration": 9,
    "start_time": "2022-04-24T08:38:13.190Z"
   },
   {
    "duration": 17,
    "start_time": "2022-04-24T08:38:13.201Z"
   },
   {
    "duration": 13,
    "start_time": "2022-04-24T08:38:13.222Z"
   },
   {
    "duration": 37,
    "start_time": "2022-04-24T08:38:13.237Z"
   },
   {
    "duration": 35,
    "start_time": "2022-04-24T08:38:13.276Z"
   },
   {
    "duration": 13,
    "start_time": "2022-04-24T08:38:13.314Z"
   },
   {
    "duration": 18,
    "start_time": "2022-04-24T08:38:13.329Z"
   },
   {
    "duration": 13,
    "start_time": "2022-04-24T08:38:13.372Z"
   },
   {
    "duration": 17,
    "start_time": "2022-04-24T08:38:13.387Z"
   },
   {
    "duration": 3,
    "start_time": "2022-04-24T08:38:13.406Z"
   },
   {
    "duration": 8,
    "start_time": "2022-04-24T08:38:13.411Z"
   },
   {
    "duration": 4,
    "start_time": "2022-04-24T08:38:13.420Z"
   }
  ],
  "colab": {
   "collapsed_sections": [
    "E0vqbgi9ay0H",
    "VUC88oWjTJw2"
   ],
   "name": "yandex_music_project.ipynb",
   "provenance": []
  },
  "kernelspec": {
   "display_name": "Python 3 (ipykernel)",
   "language": "python",
   "name": "python3"
  },
  "language_info": {
   "codemirror_mode": {
    "name": "ipython",
    "version": 3
   },
   "file_extension": ".py",
   "mimetype": "text/x-python",
   "name": "python",
   "nbconvert_exporter": "python",
   "pygments_lexer": "ipython3",
   "version": "3.9.7"
  },
  "toc": {
   "base_numbering": 1,
   "nav_menu": {},
   "number_sections": true,
   "sideBar": true,
   "skip_h1_title": true,
   "title_cell": "Table of Contents",
   "title_sidebar": "Contents",
   "toc_cell": false,
   "toc_position": {
    "height": "calc(100% - 180px)",
    "left": "10px",
    "top": "150px",
    "width": "218.391px"
   },
   "toc_section_display": true,
   "toc_window_display": true
  }
 },
 "nbformat": 4,
 "nbformat_minor": 1
}
