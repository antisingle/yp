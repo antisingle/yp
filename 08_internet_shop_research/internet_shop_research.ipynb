{
 "cells": [
  {
   "cell_type": "markdown",
   "metadata": {
    "id": "P3pAHUPaY-o7"
   },
   "source": [
    "# Приоретизация и проверка гипотез для увеличения выручки интернет-магазина."
   ]
  },
  {
   "cell_type": "markdown",
   "metadata": {
    "id": "T5C0hH5lZCuE"
   },
   "source": [
    "<a id=\"back\"></a>\n",
    "### Содержание \n",
    "\n",
    "- #### [0. Постановка задач.](#step_0)\n",
    "- #### [1. Изучение данных из файлов.](#step_1)\n",
    "- #### [2. Часть 1. Приоритизация гипотез.](#step_2)\n",
    "- #### [3. Часть 2. Анализ A/B-теста.](#step_3)\n",
    "- #### [4. Выводы.](#step_4)"
   ]
  },
  {
   "cell_type": "markdown",
   "metadata": {
    "id": "S_cdPP21VabF"
   },
   "source": [
    "<a id=\"step_0\"></a>\n",
    "## 0= Контекст / постановка задачи.\n",
    "\n",
    "[к оглавлению](#back)\n",
    "\n",
    "Роль в проекте — аналитик крупного интернет-магазина. Вместе с отделом маркетинга подготовлен список гипотез для увеличения выручки.\n",
    "Необходимо приоритизировать гипотезы, запустить A/B-тест и проанализировать результаты."
   ]
  },
  {
   "cell_type": "markdown",
   "metadata": {
    "id": "kHQDHMTqZ9CZ"
   },
   "source": [
    "<a id=\"step_1\"></a>\n",
    "## 1= Изучение данных из файлов\n",
    "\n",
    "[к оглавлению](#back)"
   ]
  },
  {
   "cell_type": "markdown",
   "metadata": {
    "id": "HH-Qbvxfbs9p"
   },
   "source": [
    "### Импорт библиотек."
   ]
  },
  {
   "cell_type": "code",
   "execution_count": 1,
   "metadata": {
    "id": "c7xv3mc8bwWP"
   },
   "outputs": [],
   "source": [
    "import pandas as pd\n",
    "import os\n",
    "from datetime import datetime, timedelta\n",
    "from matplotlib import pyplot as plt\n",
    "import numpy as np\n",
    "import matplotlib.pyplot as plt\n",
    "from matplotlib.pyplot import figure\n",
    "from pandas.plotting import register_matplotlib_converters\n",
    "import re\n",
    "import datetime as dt\n",
    "import warnings\n",
    "import scipy.stats as stats\n",
    "\n",
    "\n",
    "# конвертеры, которые позволяют использовать типы pandas в matplotlib  \n",
    "register_matplotlib_converters()"
   ]
  },
  {
   "cell_type": "markdown",
   "metadata": {
    "id": "bXgLKj60b0wz"
   },
   "source": [
    "### Настройка формата чисел и т.п."
   ]
  },
  {
   "cell_type": "code",
   "execution_count": 2,
   "metadata": {
    "id": "SpPmuLnbb3e6"
   },
   "outputs": [],
   "source": [
    "pd.options.display.float_format = '{:.2f}'.format\n",
    "pd.set_option('display.max_colwidth', 0)"
   ]
  },
  {
   "cell_type": "markdown",
   "metadata": {
    "id": "QDmJgPwFBFZH"
   },
   "source": [
    "### Импорт данных и общая информация."
   ]
  },
  {
   "cell_type": "markdown",
   "metadata": {
    "id": "ja-Vf4EXBayY"
   },
   "source": [
    "|имя файла              |id |link |\n",
    "|-----------------------|---|-----|\n",
    "|hypothesis.csv|15uytPA0pqqlvmPs8KallGF1UNqY6I[...]|https://drive.google.com/file/d/15uytPA0pqqlvmPs8KallGF1UNqY6I[...]/view?usp=sharing|\n",
    "|orders.csv.csv|139kphspoPrlODh7JL7tfIyYM267Ey[...]|https://drive.google.com/file/d/139kphspoPrlODh7JL7tfIyYM267Ey[...]/view?usp=sharing|\n",
    "|visitors.csv|1aK5LJS7BW8ZxwyA04-6vZcXgrAGeO[...]|https://drive.google.com/file/d/1aK5LJS7BW8ZxwyA04-6vZcXgrAGeOorb/view?usp=sharing|\n",
    "\n",
    "Проект колаба сохранён здесь: https://colab.research.google.com/drive/19-oSqOfqDu8XZNhrLLFTRr7MuYljG[...]"
   ]
  },
  {
   "cell_type": "code",
   "execution_count": 3,
   "metadata": {
    "colab": {
     "base_uri": "https://localhost:8080/"
    },
    "id": "u6W2s2jSBadp",
    "outputId": "c8a8dd7b-1d37-4bc5-93ec-c95499ad7b21"
   },
   "outputs": [
    {
     "name": "stdout",
     "output_type": "stream",
     "text": [
      "Загружаем датасеты из google drive, если возможно:\n",
      "/bin/bash: gdown: command not found\n",
      "/bin/bash: gdown: command not found\n",
      "/bin/bash: gdown: command not found\n"
     ]
    }
   ],
   "source": [
    "print('Загружаем датасеты из google drive, если возможно:')\n",
    "\n",
    "try:\n",
    "    ! gdown 15uytPA0pqqlvmPs8KallGF1UNqY6I[...]\n",
    "    ! gdown 139kphspoPrlODh7JL7tfIyYM267Ey[...]\n",
    "    ! gdown 1aK5LJS7BW8ZxwyA04-6vZcXgrAGeO[...]\n",
    "    #print('Датасеты загружены из Google Drive')\n",
    "except:\n",
    "    print('Датасеты из Google Drive загрузить НЕ удалось!')"
   ]
  },
  {
   "cell_type": "markdown",
   "metadata": {
    "id": "jIDgZCL_CUIv"
   },
   "source": [
    "**Определяем переменные датасетов:**\n",
    "\n",
    "Префиксы:"
   ]
  },
  {
   "cell_type": "code",
   "execution_count": 4,
   "metadata": {
    "colab": {
     "base_uri": "https://localhost:8080/"
    },
    "id": "vWYMcFFFCdPW",
    "outputId": "68182adc-eee1-4285-b57a-6fec4aa5eb25"
   },
   "outputs": [
    {
     "name": "stdout",
     "output_type": "stream",
     "text": [
      "Загружены данные с сервера Яндекс.Практикума.\n"
     ]
    }
   ],
   "source": [
    "path_prefix_yandex = '/datasets/'\n",
    "path_prefix_local = '../datasets/'\n",
    "path_prefix_colab = '/content/'\n",
    "\n",
    "hypothesis_name = 'hypothesis.csv'\n",
    "orders_name = 'orders.csv'\n",
    "visitors_name = 'visitors.csv'\n",
    "\n",
    "hypothesis_y = path_prefix_yandex + hypothesis_name\n",
    "hypothesis_l = path_prefix_local + hypothesis_name\n",
    "hypothesis_c = path_prefix_colab + hypothesis_name\n",
    "\n",
    "orders_y = path_prefix_yandex + orders_name\n",
    "orders_l = path_prefix_local + orders_name\n",
    "orders_c = path_prefix_colab + orders_name\n",
    "\n",
    "visitors_y = path_prefix_yandex + visitors_name\n",
    "visitors_l = path_prefix_local + visitors_name\n",
    "visitors_c = path_prefix_colab + visitors_name\n",
    "\n",
    "\n",
    "#++++++++++++++++++++++++++++++++++#\n",
    "if os.path.exists(visitors_y):\n",
    "    visits = pd.read_csv(visitors_y)\n",
    "    orders = pd.read_csv(orders_y)\n",
    "    hypothesis  = pd.read_csv(hypothesis_y)\n",
    "    print('Загружены данные с сервера Яндекс.Практикума.')\n",
    "elif os.path.exists(visitors_l):\n",
    "    visits = pd.read_csv(visitors_l)\n",
    "    orders = pd.read_csv(orders_l)\n",
    "    hypothesis  = pd.read_csv(hypothesis_l)\n",
    "    print('Загружены данные с локального сервера.')\n",
    "elif os.path.exists(visitors_c):\n",
    "    visits = pd.read_csv(visitors_c)\n",
    "    orders = pd.read_csv(orders_c)\n",
    "    hypothesis  = pd.read_csv(hypothesis_c)\n",
    "    print('Загружены данные с сервера Google Colab.')\n",
    "else:\n",
    "    print('Что-то пошло не так... Проверь названия и пути импортируемых файлов.')"
   ]
  },
  {
   "cell_type": "markdown",
   "metadata": {
    "id": "72XQLjZx0cu6"
   },
   "source": [
    "Проверим, что в датасетах:"
   ]
  },
  {
   "cell_type": "code",
   "execution_count": 5,
   "metadata": {
    "colab": {
     "base_uri": "https://localhost:8080/",
     "height": 584
    },
    "id": "mRwpAIkP0hfp",
    "outputId": "29dd8a31-d9ec-47d3-fb78-c5f961c549ac"
   },
   "outputs": [
    {
     "data": {
      "text/html": [
       "<div>\n",
       "<style scoped>\n",
       "    .dataframe tbody tr th:only-of-type {\n",
       "        vertical-align: middle;\n",
       "    }\n",
       "\n",
       "    .dataframe tbody tr th {\n",
       "        vertical-align: top;\n",
       "    }\n",
       "\n",
       "    .dataframe thead th {\n",
       "        text-align: right;\n",
       "    }\n",
       "</style>\n",
       "<table border=\"1\" class=\"dataframe\">\n",
       "  <thead>\n",
       "    <tr style=\"text-align: right;\">\n",
       "      <th></th>\n",
       "      <th>date</th>\n",
       "      <th>group</th>\n",
       "      <th>visitors</th>\n",
       "    </tr>\n",
       "  </thead>\n",
       "  <tbody>\n",
       "    <tr>\n",
       "      <th>0</th>\n",
       "      <td>2019-08-01</td>\n",
       "      <td>A</td>\n",
       "      <td>719</td>\n",
       "    </tr>\n",
       "    <tr>\n",
       "      <th>1</th>\n",
       "      <td>2019-08-02</td>\n",
       "      <td>A</td>\n",
       "      <td>619</td>\n",
       "    </tr>\n",
       "    <tr>\n",
       "      <th>2</th>\n",
       "      <td>2019-08-03</td>\n",
       "      <td>A</td>\n",
       "      <td>507</td>\n",
       "    </tr>\n",
       "    <tr>\n",
       "      <th>3</th>\n",
       "      <td>2019-08-04</td>\n",
       "      <td>A</td>\n",
       "      <td>717</td>\n",
       "    </tr>\n",
       "    <tr>\n",
       "      <th>4</th>\n",
       "      <td>2019-08-05</td>\n",
       "      <td>A</td>\n",
       "      <td>756</td>\n",
       "    </tr>\n",
       "  </tbody>\n",
       "</table>\n",
       "</div>"
      ],
      "text/plain": [
       "         date group  visitors\n",
       "0  2019-08-01  A     719     \n",
       "1  2019-08-02  A     619     \n",
       "2  2019-08-03  A     507     \n",
       "3  2019-08-04  A     717     \n",
       "4  2019-08-05  A     756     "
      ]
     },
     "metadata": {},
     "output_type": "display_data"
    },
    {
     "data": {
      "text/html": [
       "<div>\n",
       "<style scoped>\n",
       "    .dataframe tbody tr th:only-of-type {\n",
       "        vertical-align: middle;\n",
       "    }\n",
       "\n",
       "    .dataframe tbody tr th {\n",
       "        vertical-align: top;\n",
       "    }\n",
       "\n",
       "    .dataframe thead th {\n",
       "        text-align: right;\n",
       "    }\n",
       "</style>\n",
       "<table border=\"1\" class=\"dataframe\">\n",
       "  <thead>\n",
       "    <tr style=\"text-align: right;\">\n",
       "      <th></th>\n",
       "      <th>transactionId</th>\n",
       "      <th>visitorId</th>\n",
       "      <th>date</th>\n",
       "      <th>revenue</th>\n",
       "      <th>group</th>\n",
       "    </tr>\n",
       "  </thead>\n",
       "  <tbody>\n",
       "    <tr>\n",
       "      <th>0</th>\n",
       "      <td>3667963787</td>\n",
       "      <td>3312258926</td>\n",
       "      <td>2019-08-15</td>\n",
       "      <td>1650</td>\n",
       "      <td>B</td>\n",
       "    </tr>\n",
       "    <tr>\n",
       "      <th>1</th>\n",
       "      <td>2804400009</td>\n",
       "      <td>3642806036</td>\n",
       "      <td>2019-08-15</td>\n",
       "      <td>730</td>\n",
       "      <td>B</td>\n",
       "    </tr>\n",
       "    <tr>\n",
       "      <th>2</th>\n",
       "      <td>2961555356</td>\n",
       "      <td>4069496402</td>\n",
       "      <td>2019-08-15</td>\n",
       "      <td>400</td>\n",
       "      <td>A</td>\n",
       "    </tr>\n",
       "    <tr>\n",
       "      <th>3</th>\n",
       "      <td>3797467345</td>\n",
       "      <td>1196621759</td>\n",
       "      <td>2019-08-15</td>\n",
       "      <td>9759</td>\n",
       "      <td>B</td>\n",
       "    </tr>\n",
       "    <tr>\n",
       "      <th>4</th>\n",
       "      <td>2282983706</td>\n",
       "      <td>2322279887</td>\n",
       "      <td>2019-08-15</td>\n",
       "      <td>2308</td>\n",
       "      <td>B</td>\n",
       "    </tr>\n",
       "  </tbody>\n",
       "</table>\n",
       "</div>"
      ],
      "text/plain": [
       "   transactionId   visitorId        date  revenue group\n",
       "0  3667963787     3312258926  2019-08-15  1650     B   \n",
       "1  2804400009     3642806036  2019-08-15  730      B   \n",
       "2  2961555356     4069496402  2019-08-15  400      A   \n",
       "3  3797467345     1196621759  2019-08-15  9759     B   \n",
       "4  2282983706     2322279887  2019-08-15  2308     B   "
      ]
     },
     "metadata": {},
     "output_type": "display_data"
    },
    {
     "data": {
      "text/html": [
       "<div>\n",
       "<style scoped>\n",
       "    .dataframe tbody tr th:only-of-type {\n",
       "        vertical-align: middle;\n",
       "    }\n",
       "\n",
       "    .dataframe tbody tr th {\n",
       "        vertical-align: top;\n",
       "    }\n",
       "\n",
       "    .dataframe thead th {\n",
       "        text-align: right;\n",
       "    }\n",
       "</style>\n",
       "<table border=\"1\" class=\"dataframe\">\n",
       "  <thead>\n",
       "    <tr style=\"text-align: right;\">\n",
       "      <th></th>\n",
       "      <th>Hypothesis</th>\n",
       "      <th>Reach</th>\n",
       "      <th>Impact</th>\n",
       "      <th>Confidence</th>\n",
       "      <th>Efforts</th>\n",
       "    </tr>\n",
       "  </thead>\n",
       "  <tbody>\n",
       "    <tr>\n",
       "      <th>0</th>\n",
       "      <td>Добавить два новых канала привлечения трафика, что позволит привлекать на 30% больше пользователей</td>\n",
       "      <td>3</td>\n",
       "      <td>10</td>\n",
       "      <td>8</td>\n",
       "      <td>6</td>\n",
       "    </tr>\n",
       "    <tr>\n",
       "      <th>1</th>\n",
       "      <td>Запустить собственную службу доставки, что сократит срок доставки заказов</td>\n",
       "      <td>2</td>\n",
       "      <td>5</td>\n",
       "      <td>4</td>\n",
       "      <td>10</td>\n",
       "    </tr>\n",
       "    <tr>\n",
       "      <th>2</th>\n",
       "      <td>Добавить блоки рекомендаций товаров на сайт интернет магазина, чтобы повысить конверсию и средний чек заказа</td>\n",
       "      <td>8</td>\n",
       "      <td>3</td>\n",
       "      <td>7</td>\n",
       "      <td>3</td>\n",
       "    </tr>\n",
       "    <tr>\n",
       "      <th>3</th>\n",
       "      <td>Изменить структура категорий, что увеличит конверсию, т.к. пользователи быстрее найдут нужный товар</td>\n",
       "      <td>8</td>\n",
       "      <td>3</td>\n",
       "      <td>3</td>\n",
       "      <td>8</td>\n",
       "    </tr>\n",
       "    <tr>\n",
       "      <th>4</th>\n",
       "      <td>Изменить цвет фона главной страницы, чтобы увеличить вовлеченность пользователей</td>\n",
       "      <td>3</td>\n",
       "      <td>1</td>\n",
       "      <td>1</td>\n",
       "      <td>1</td>\n",
       "    </tr>\n",
       "  </tbody>\n",
       "</table>\n",
       "</div>"
      ],
      "text/plain": [
       "                                                                                                     Hypothesis  \\\n",
       "0  Добавить два новых канала привлечения трафика, что позволит привлекать на 30% больше пользователей             \n",
       "1  Запустить собственную службу доставки, что сократит срок доставки заказов                                      \n",
       "2  Добавить блоки рекомендаций товаров на сайт интернет магазина, чтобы повысить конверсию и средний чек заказа   \n",
       "3  Изменить структура категорий, что увеличит конверсию, т.к. пользователи быстрее найдут нужный товар            \n",
       "4  Изменить цвет фона главной страницы, чтобы увеличить вовлеченность пользователей                               \n",
       "\n",
       "   Reach  Impact  Confidence  Efforts  \n",
       "0  3      10      8           6        \n",
       "1  2      5       4           10       \n",
       "2  8      3       7           3        \n",
       "3  8      3       3           8        \n",
       "4  3      1       1           1        "
      ]
     },
     "metadata": {},
     "output_type": "display_data"
    }
   ],
   "source": [
    "display(visits.head(5))\n",
    "display(orders.head(5))\n",
    "display(hypothesis.head(5))"
   ]
  },
  {
   "cell_type": "code",
   "execution_count": 6,
   "metadata": {
    "colab": {
     "base_uri": "https://localhost:8080/",
     "height": 746
    },
    "id": "RGgVj6IY1Fky",
    "outputId": "a0e0672b-13dc-4172-b1bf-2f514cbd261e"
   },
   "outputs": [
    {
     "name": "stdout",
     "output_type": "stream",
     "text": [
      "visits.info()\n",
      "<class 'pandas.core.frame.DataFrame'>\n",
      "RangeIndex: 62 entries, 0 to 61\n",
      "Data columns (total 3 columns):\n",
      " #   Column    Non-Null Count  Dtype \n",
      "---  ------    --------------  ----- \n",
      " 0   date      62 non-null     object\n",
      " 1   group     62 non-null     object\n",
      " 2   visitors  62 non-null     int64 \n",
      "dtypes: int64(1), object(2)\n",
      "memory usage: 1.6+ KB\n"
     ]
    },
    {
     "data": {
      "text/plain": [
       "None"
      ]
     },
     "metadata": {},
     "output_type": "display_data"
    },
    {
     "name": "stdout",
     "output_type": "stream",
     "text": [
      "\n",
      "orders.info()\n",
      "<class 'pandas.core.frame.DataFrame'>\n",
      "RangeIndex: 1197 entries, 0 to 1196\n",
      "Data columns (total 5 columns):\n",
      " #   Column         Non-Null Count  Dtype \n",
      "---  ------         --------------  ----- \n",
      " 0   transactionId  1197 non-null   int64 \n",
      " 1   visitorId      1197 non-null   int64 \n",
      " 2   date           1197 non-null   object\n",
      " 3   revenue        1197 non-null   int64 \n",
      " 4   group          1197 non-null   object\n",
      "dtypes: int64(3), object(2)\n",
      "memory usage: 46.9+ KB\n"
     ]
    },
    {
     "data": {
      "text/plain": [
       "None"
      ]
     },
     "metadata": {},
     "output_type": "display_data"
    },
    {
     "name": "stdout",
     "output_type": "stream",
     "text": [
      "\n",
      "hypothesis.info()\n",
      "<class 'pandas.core.frame.DataFrame'>\n",
      "RangeIndex: 9 entries, 0 to 8\n",
      "Data columns (total 5 columns):\n",
      " #   Column      Non-Null Count  Dtype \n",
      "---  ------      --------------  ----- \n",
      " 0   Hypothesis  9 non-null      object\n",
      " 1   Reach       9 non-null      int64 \n",
      " 2   Impact      9 non-null      int64 \n",
      " 3   Confidence  9 non-null      int64 \n",
      " 4   Efforts     9 non-null      int64 \n",
      "dtypes: int64(4), object(1)\n",
      "memory usage: 488.0+ bytes\n"
     ]
    },
    {
     "data": {
      "text/plain": [
       "None"
      ]
     },
     "metadata": {},
     "output_type": "display_data"
    }
   ],
   "source": [
    "print('visits.info()')\n",
    "display(visits.info())\n",
    "print('\\norders.info()')\n",
    "display(orders.info())\n",
    "print('\\nhypothesis.info()')\n",
    "display(hypothesis.info())"
   ]
  },
  {
   "cell_type": "markdown",
   "metadata": {
    "id": "0WjZzQjr0J0s"
   },
   "source": [
    "Посчитаем общее количество визитов за всё время:"
   ]
  },
  {
   "cell_type": "code",
   "execution_count": 7,
   "metadata": {
    "colab": {
     "base_uri": "https://localhost:8080/",
     "height": 143
    },
    "id": "O6KK4jSr0NuH",
    "outputId": "f34d9932-6420-4647-aa69-b9fd1b5182c3"
   },
   "outputs": [
    {
     "data": {
      "text/html": [
       "<div>\n",
       "<style scoped>\n",
       "    .dataframe tbody tr th:only-of-type {\n",
       "        vertical-align: middle;\n",
       "    }\n",
       "\n",
       "    .dataframe tbody tr th {\n",
       "        vertical-align: top;\n",
       "    }\n",
       "\n",
       "    .dataframe thead th {\n",
       "        text-align: right;\n",
       "    }\n",
       "</style>\n",
       "<table border=\"1\" class=\"dataframe\">\n",
       "  <thead>\n",
       "    <tr style=\"text-align: right;\">\n",
       "      <th></th>\n",
       "      <th>visitors</th>\n",
       "    </tr>\n",
       "    <tr>\n",
       "      <th>group</th>\n",
       "      <th></th>\n",
       "    </tr>\n",
       "  </thead>\n",
       "  <tbody>\n",
       "    <tr>\n",
       "      <th>A</th>\n",
       "      <td>18736</td>\n",
       "    </tr>\n",
       "    <tr>\n",
       "      <th>B</th>\n",
       "      <td>18916</td>\n",
       "    </tr>\n",
       "  </tbody>\n",
       "</table>\n",
       "</div>"
      ],
      "text/plain": [
       "       visitors\n",
       "group          \n",
       "A      18736   \n",
       "B      18916   "
      ]
     },
     "execution_count": 7,
     "metadata": {},
     "output_type": "execute_result"
    }
   ],
   "source": [
    "visits.groupby('group').agg({'visitors' : 'sum'})"
   ]
  },
  {
   "cell_type": "markdown",
   "metadata": {
    "id": "eGiM-Q6n1WIE"
   },
   "source": [
    "Посчитаем общее количество заказов за всё время:"
   ]
  },
  {
   "cell_type": "code",
   "execution_count": 8,
   "metadata": {
    "colab": {
     "base_uri": "https://localhost:8080/",
     "height": 143
    },
    "id": "Nb-P-vYY1Y4r",
    "outputId": "f8fb8a32-8c20-4895-bbcb-1460ff4076d5"
   },
   "outputs": [
    {
     "data": {
      "text/html": [
       "<div>\n",
       "<style scoped>\n",
       "    .dataframe tbody tr th:only-of-type {\n",
       "        vertical-align: middle;\n",
       "    }\n",
       "\n",
       "    .dataframe tbody tr th {\n",
       "        vertical-align: top;\n",
       "    }\n",
       "\n",
       "    .dataframe thead th {\n",
       "        text-align: right;\n",
       "    }\n",
       "</style>\n",
       "<table border=\"1\" class=\"dataframe\">\n",
       "  <thead>\n",
       "    <tr style=\"text-align: right;\">\n",
       "      <th></th>\n",
       "      <th>transactionId</th>\n",
       "    </tr>\n",
       "    <tr>\n",
       "      <th>group</th>\n",
       "      <th></th>\n",
       "    </tr>\n",
       "  </thead>\n",
       "  <tbody>\n",
       "    <tr>\n",
       "      <th>A</th>\n",
       "      <td>557</td>\n",
       "    </tr>\n",
       "    <tr>\n",
       "      <th>B</th>\n",
       "      <td>640</td>\n",
       "    </tr>\n",
       "  </tbody>\n",
       "</table>\n",
       "</div>"
      ],
      "text/plain": [
       "       transactionId\n",
       "group               \n",
       "A      557          \n",
       "B      640          "
      ]
     },
     "execution_count": 8,
     "metadata": {},
     "output_type": "execute_result"
    }
   ],
   "source": [
    "orders.groupby('group').agg({'transactionId' : 'count'})"
   ]
  },
  {
   "cell_type": "code",
   "execution_count": 9,
   "metadata": {},
   "outputs": [
    {
     "data": {
      "text/html": [
       "<div>\n",
       "<style scoped>\n",
       "    .dataframe tbody tr th:only-of-type {\n",
       "        vertical-align: middle;\n",
       "    }\n",
       "\n",
       "    .dataframe tbody tr th {\n",
       "        vertical-align: top;\n",
       "    }\n",
       "\n",
       "    .dataframe thead th {\n",
       "        text-align: right;\n",
       "    }\n",
       "</style>\n",
       "<table border=\"1\" class=\"dataframe\">\n",
       "  <thead>\n",
       "    <tr style=\"text-align: right;\">\n",
       "      <th></th>\n",
       "      <th>transactionId</th>\n",
       "      <th>visitorId</th>\n",
       "      <th>date</th>\n",
       "      <th>revenue</th>\n",
       "      <th>group</th>\n",
       "    </tr>\n",
       "  </thead>\n",
       "  <tbody>\n",
       "    <tr>\n",
       "      <th>0</th>\n",
       "      <td>3667963787</td>\n",
       "      <td>3312258926</td>\n",
       "      <td>2019-08-15</td>\n",
       "      <td>1650</td>\n",
       "      <td>B</td>\n",
       "    </tr>\n",
       "    <tr>\n",
       "      <th>1</th>\n",
       "      <td>2804400009</td>\n",
       "      <td>3642806036</td>\n",
       "      <td>2019-08-15</td>\n",
       "      <td>730</td>\n",
       "      <td>B</td>\n",
       "    </tr>\n",
       "    <tr>\n",
       "      <th>2</th>\n",
       "      <td>2961555356</td>\n",
       "      <td>4069496402</td>\n",
       "      <td>2019-08-15</td>\n",
       "      <td>400</td>\n",
       "      <td>A</td>\n",
       "    </tr>\n",
       "    <tr>\n",
       "      <th>3</th>\n",
       "      <td>3797467345</td>\n",
       "      <td>1196621759</td>\n",
       "      <td>2019-08-15</td>\n",
       "      <td>9759</td>\n",
       "      <td>B</td>\n",
       "    </tr>\n",
       "    <tr>\n",
       "      <th>4</th>\n",
       "      <td>2282983706</td>\n",
       "      <td>2322279887</td>\n",
       "      <td>2019-08-15</td>\n",
       "      <td>2308</td>\n",
       "      <td>B</td>\n",
       "    </tr>\n",
       "    <tr>\n",
       "      <th>...</th>\n",
       "      <td>...</td>\n",
       "      <td>...</td>\n",
       "      <td>...</td>\n",
       "      <td>...</td>\n",
       "      <td>...</td>\n",
       "    </tr>\n",
       "    <tr>\n",
       "      <th>1192</th>\n",
       "      <td>2662137336</td>\n",
       "      <td>3733762160</td>\n",
       "      <td>2019-08-14</td>\n",
       "      <td>6490</td>\n",
       "      <td>B</td>\n",
       "    </tr>\n",
       "    <tr>\n",
       "      <th>1193</th>\n",
       "      <td>2203539145</td>\n",
       "      <td>370388673</td>\n",
       "      <td>2019-08-14</td>\n",
       "      <td>3190</td>\n",
       "      <td>A</td>\n",
       "    </tr>\n",
       "    <tr>\n",
       "      <th>1194</th>\n",
       "      <td>1807773912</td>\n",
       "      <td>573423106</td>\n",
       "      <td>2019-08-14</td>\n",
       "      <td>10550</td>\n",
       "      <td>A</td>\n",
       "    </tr>\n",
       "    <tr>\n",
       "      <th>1195</th>\n",
       "      <td>1947021204</td>\n",
       "      <td>1614305549</td>\n",
       "      <td>2019-08-14</td>\n",
       "      <td>100</td>\n",
       "      <td>A</td>\n",
       "    </tr>\n",
       "    <tr>\n",
       "      <th>1196</th>\n",
       "      <td>3936777065</td>\n",
       "      <td>2108080724</td>\n",
       "      <td>2019-08-15</td>\n",
       "      <td>202740</td>\n",
       "      <td>B</td>\n",
       "    </tr>\n",
       "  </tbody>\n",
       "</table>\n",
       "<p>1197 rows × 5 columns</p>\n",
       "</div>"
      ],
      "text/plain": [
       "      transactionId   visitorId        date  revenue group\n",
       "0     3667963787     3312258926  2019-08-15  1650     B   \n",
       "1     2804400009     3642806036  2019-08-15  730      B   \n",
       "2     2961555356     4069496402  2019-08-15  400      A   \n",
       "3     3797467345     1196621759  2019-08-15  9759     B   \n",
       "4     2282983706     2322279887  2019-08-15  2308     B   \n",
       "...          ...            ...         ...   ...    ..   \n",
       "1192  2662137336     3733762160  2019-08-14  6490     B   \n",
       "1193  2203539145     370388673   2019-08-14  3190     A   \n",
       "1194  1807773912     573423106   2019-08-14  10550    A   \n",
       "1195  1947021204     1614305549  2019-08-14  100      A   \n",
       "1196  3936777065     2108080724  2019-08-15  202740   B   \n",
       "\n",
       "[1197 rows x 5 columns]"
      ]
     },
     "execution_count": 9,
     "metadata": {},
     "output_type": "execute_result"
    }
   ],
   "source": [
    "orders"
   ]
  },
  {
   "cell_type": "code",
   "execution_count": 10,
   "metadata": {},
   "outputs": [],
   "source": [
    "#orders.pivot_table(index='visitorId', values='group', aggfunc='nunique')"
   ]
  },
  {
   "cell_type": "markdown",
   "metadata": {},
   "source": [
    "**Посчитаем, сколько пользователей вошло в группы А и В.**\n",
    "\n",
    "Для начала для группы А:"
   ]
  },
  {
   "cell_type": "code",
   "execution_count": 11,
   "metadata": {},
   "outputs": [
    {
     "data": {
      "text/plain": [
       "503"
      ]
     },
     "execution_count": 11,
     "metadata": {},
     "output_type": "execute_result"
    }
   ],
   "source": [
    "orders[orders['group'] == 'A']['visitorId'].nunique()"
   ]
  },
  {
   "cell_type": "code",
   "execution_count": 12,
   "metadata": {},
   "outputs": [
    {
     "data": {
      "text/plain": [
       "54"
      ]
     },
     "execution_count": 12,
     "metadata": {},
     "output_type": "execute_result"
    }
   ],
   "source": [
    "orders[orders['group'] == 'A']['visitorId'].duplicated().sum()"
   ]
  },
  {
   "cell_type": "markdown",
   "metadata": {},
   "source": [
    "Получилось 503 уникальных пользователя, которые совершили хотя бы одну покупку. И 54, которые совершили 2 или более покупок.\n",
    "\n",
    "Посчитаем теперь, сколько их вошло в группу В:"
   ]
  },
  {
   "cell_type": "code",
   "execution_count": 13,
   "metadata": {},
   "outputs": [
    {
     "data": {
      "text/plain": [
       "586"
      ]
     },
     "execution_count": 13,
     "metadata": {},
     "output_type": "execute_result"
    }
   ],
   "source": [
    "orders[orders['group'] == 'B']['visitorId'].nunique()"
   ]
  },
  {
   "cell_type": "code",
   "execution_count": 14,
   "metadata": {},
   "outputs": [
    {
     "data": {
      "text/plain": [
       "54"
      ]
     },
     "execution_count": 14,
     "metadata": {},
     "output_type": "execute_result"
    }
   ],
   "source": [
    "orders[orders['group'] == 'B']['visitorId'].duplicated().sum()"
   ]
  },
  {
   "cell_type": "markdown",
   "metadata": {},
   "source": [
    "Получилось 586 уникальных пользователей, которые совершили хотя бы одну покупку. И 54, которые совершили 2 или более покупок."
   ]
  },
  {
   "cell_type": "markdown",
   "metadata": {},
   "source": [
    "**Посчитаем, пересекаются ли группы А и В по пользователям:**"
   ]
  },
  {
   "cell_type": "markdown",
   "metadata": {},
   "source": [
    "Посчитаем, сколько заказов из группы А сделали пользователи, которые сделали заказы из группы В?"
   ]
  },
  {
   "cell_type": "code",
   "execution_count": 15,
   "metadata": {},
   "outputs": [
    {
     "data": {
      "text/html": [
       "<div>\n",
       "<style scoped>\n",
       "    .dataframe tbody tr th:only-of-type {\n",
       "        vertical-align: middle;\n",
       "    }\n",
       "\n",
       "    .dataframe tbody tr th {\n",
       "        vertical-align: top;\n",
       "    }\n",
       "\n",
       "    .dataframe thead th {\n",
       "        text-align: right;\n",
       "    }\n",
       "</style>\n",
       "<table border=\"1\" class=\"dataframe\">\n",
       "  <thead>\n",
       "    <tr style=\"text-align: right;\">\n",
       "      <th></th>\n",
       "      <th>transactionId</th>\n",
       "      <th>visitorId</th>\n",
       "      <th>date</th>\n",
       "      <th>revenue</th>\n",
       "      <th>group</th>\n",
       "      <th>duplicatedAB</th>\n",
       "    </tr>\n",
       "  </thead>\n",
       "  <tbody>\n",
       "    <tr>\n",
       "      <th>0</th>\n",
       "      <td>3667963787</td>\n",
       "      <td>3312258926</td>\n",
       "      <td>2019-08-15</td>\n",
       "      <td>1650</td>\n",
       "      <td>B</td>\n",
       "      <td>NaN</td>\n",
       "    </tr>\n",
       "    <tr>\n",
       "      <th>1</th>\n",
       "      <td>2804400009</td>\n",
       "      <td>3642806036</td>\n",
       "      <td>2019-08-15</td>\n",
       "      <td>730</td>\n",
       "      <td>B</td>\n",
       "      <td>NaN</td>\n",
       "    </tr>\n",
       "    <tr>\n",
       "      <th>2</th>\n",
       "      <td>2961555356</td>\n",
       "      <td>4069496402</td>\n",
       "      <td>2019-08-15</td>\n",
       "      <td>400</td>\n",
       "      <td>A</td>\n",
       "      <td>True</td>\n",
       "    </tr>\n",
       "    <tr>\n",
       "      <th>3</th>\n",
       "      <td>3797467345</td>\n",
       "      <td>1196621759</td>\n",
       "      <td>2019-08-15</td>\n",
       "      <td>9759</td>\n",
       "      <td>B</td>\n",
       "      <td>NaN</td>\n",
       "    </tr>\n",
       "    <tr>\n",
       "      <th>4</th>\n",
       "      <td>2282983706</td>\n",
       "      <td>2322279887</td>\n",
       "      <td>2019-08-15</td>\n",
       "      <td>2308</td>\n",
       "      <td>B</td>\n",
       "      <td>NaN</td>\n",
       "    </tr>\n",
       "    <tr>\n",
       "      <th>...</th>\n",
       "      <td>...</td>\n",
       "      <td>...</td>\n",
       "      <td>...</td>\n",
       "      <td>...</td>\n",
       "      <td>...</td>\n",
       "      <td>...</td>\n",
       "    </tr>\n",
       "    <tr>\n",
       "      <th>1192</th>\n",
       "      <td>2662137336</td>\n",
       "      <td>3733762160</td>\n",
       "      <td>2019-08-14</td>\n",
       "      <td>6490</td>\n",
       "      <td>B</td>\n",
       "      <td>NaN</td>\n",
       "    </tr>\n",
       "    <tr>\n",
       "      <th>1193</th>\n",
       "      <td>2203539145</td>\n",
       "      <td>370388673</td>\n",
       "      <td>2019-08-14</td>\n",
       "      <td>3190</td>\n",
       "      <td>A</td>\n",
       "      <td>False</td>\n",
       "    </tr>\n",
       "    <tr>\n",
       "      <th>1194</th>\n",
       "      <td>1807773912</td>\n",
       "      <td>573423106</td>\n",
       "      <td>2019-08-14</td>\n",
       "      <td>10550</td>\n",
       "      <td>A</td>\n",
       "      <td>False</td>\n",
       "    </tr>\n",
       "    <tr>\n",
       "      <th>1195</th>\n",
       "      <td>1947021204</td>\n",
       "      <td>1614305549</td>\n",
       "      <td>2019-08-14</td>\n",
       "      <td>100</td>\n",
       "      <td>A</td>\n",
       "      <td>True</td>\n",
       "    </tr>\n",
       "    <tr>\n",
       "      <th>1196</th>\n",
       "      <td>3936777065</td>\n",
       "      <td>2108080724</td>\n",
       "      <td>2019-08-15</td>\n",
       "      <td>202740</td>\n",
       "      <td>B</td>\n",
       "      <td>NaN</td>\n",
       "    </tr>\n",
       "  </tbody>\n",
       "</table>\n",
       "<p>1197 rows × 6 columns</p>\n",
       "</div>"
      ],
      "text/plain": [
       "      transactionId   visitorId        date  revenue group duplicatedAB\n",
       "0     3667963787     3312258926  2019-08-15  1650     B     NaN        \n",
       "1     2804400009     3642806036  2019-08-15  730      B     NaN        \n",
       "2     2961555356     4069496402  2019-08-15  400      A     True       \n",
       "3     3797467345     1196621759  2019-08-15  9759     B     NaN        \n",
       "4     2282983706     2322279887  2019-08-15  2308     B     NaN        \n",
       "...          ...            ...         ...   ...    ..     ...        \n",
       "1192  2662137336     3733762160  2019-08-14  6490     B     NaN        \n",
       "1193  2203539145     370388673   2019-08-14  3190     A     False      \n",
       "1194  1807773912     573423106   2019-08-14  10550    A     False      \n",
       "1195  1947021204     1614305549  2019-08-14  100      A     True       \n",
       "1196  3936777065     2108080724  2019-08-15  202740   B     NaN        \n",
       "\n",
       "[1197 rows x 6 columns]"
      ]
     },
     "execution_count": 15,
     "metadata": {},
     "output_type": "execute_result"
    }
   ],
   "source": [
    "orders['duplicatedAB'] = orders[orders['group'] == 'A']['visitorId'].isin(orders[orders['group'] == 'B']['visitorId'])\n",
    "orders"
   ]
  },
  {
   "cell_type": "markdown",
   "metadata": {},
   "source": [
    "Посчитаем, сколько заказов из группы В сделали пользователи, которые сделали заказы из группы А?"
   ]
  },
  {
   "cell_type": "code",
   "execution_count": 16,
   "metadata": {},
   "outputs": [
    {
     "data": {
      "text/html": [
       "<div>\n",
       "<style scoped>\n",
       "    .dataframe tbody tr th:only-of-type {\n",
       "        vertical-align: middle;\n",
       "    }\n",
       "\n",
       "    .dataframe tbody tr th {\n",
       "        vertical-align: top;\n",
       "    }\n",
       "\n",
       "    .dataframe thead th {\n",
       "        text-align: right;\n",
       "    }\n",
       "</style>\n",
       "<table border=\"1\" class=\"dataframe\">\n",
       "  <thead>\n",
       "    <tr style=\"text-align: right;\">\n",
       "      <th></th>\n",
       "      <th>transactionId</th>\n",
       "      <th>visitorId</th>\n",
       "      <th>date</th>\n",
       "      <th>revenue</th>\n",
       "      <th>group</th>\n",
       "      <th>duplicatedAB</th>\n",
       "      <th>duplicatedBA</th>\n",
       "    </tr>\n",
       "  </thead>\n",
       "  <tbody>\n",
       "    <tr>\n",
       "      <th>0</th>\n",
       "      <td>3667963787</td>\n",
       "      <td>3312258926</td>\n",
       "      <td>2019-08-15</td>\n",
       "      <td>1650</td>\n",
       "      <td>B</td>\n",
       "      <td>NaN</td>\n",
       "      <td>False</td>\n",
       "    </tr>\n",
       "    <tr>\n",
       "      <th>1</th>\n",
       "      <td>2804400009</td>\n",
       "      <td>3642806036</td>\n",
       "      <td>2019-08-15</td>\n",
       "      <td>730</td>\n",
       "      <td>B</td>\n",
       "      <td>NaN</td>\n",
       "      <td>False</td>\n",
       "    </tr>\n",
       "    <tr>\n",
       "      <th>2</th>\n",
       "      <td>2961555356</td>\n",
       "      <td>4069496402</td>\n",
       "      <td>2019-08-15</td>\n",
       "      <td>400</td>\n",
       "      <td>A</td>\n",
       "      <td>True</td>\n",
       "      <td>NaN</td>\n",
       "    </tr>\n",
       "    <tr>\n",
       "      <th>3</th>\n",
       "      <td>3797467345</td>\n",
       "      <td>1196621759</td>\n",
       "      <td>2019-08-15</td>\n",
       "      <td>9759</td>\n",
       "      <td>B</td>\n",
       "      <td>NaN</td>\n",
       "      <td>False</td>\n",
       "    </tr>\n",
       "    <tr>\n",
       "      <th>4</th>\n",
       "      <td>2282983706</td>\n",
       "      <td>2322279887</td>\n",
       "      <td>2019-08-15</td>\n",
       "      <td>2308</td>\n",
       "      <td>B</td>\n",
       "      <td>NaN</td>\n",
       "      <td>False</td>\n",
       "    </tr>\n",
       "    <tr>\n",
       "      <th>...</th>\n",
       "      <td>...</td>\n",
       "      <td>...</td>\n",
       "      <td>...</td>\n",
       "      <td>...</td>\n",
       "      <td>...</td>\n",
       "      <td>...</td>\n",
       "      <td>...</td>\n",
       "    </tr>\n",
       "    <tr>\n",
       "      <th>1192</th>\n",
       "      <td>2662137336</td>\n",
       "      <td>3733762160</td>\n",
       "      <td>2019-08-14</td>\n",
       "      <td>6490</td>\n",
       "      <td>B</td>\n",
       "      <td>NaN</td>\n",
       "      <td>False</td>\n",
       "    </tr>\n",
       "    <tr>\n",
       "      <th>1193</th>\n",
       "      <td>2203539145</td>\n",
       "      <td>370388673</td>\n",
       "      <td>2019-08-14</td>\n",
       "      <td>3190</td>\n",
       "      <td>A</td>\n",
       "      <td>False</td>\n",
       "      <td>NaN</td>\n",
       "    </tr>\n",
       "    <tr>\n",
       "      <th>1194</th>\n",
       "      <td>1807773912</td>\n",
       "      <td>573423106</td>\n",
       "      <td>2019-08-14</td>\n",
       "      <td>10550</td>\n",
       "      <td>A</td>\n",
       "      <td>False</td>\n",
       "      <td>NaN</td>\n",
       "    </tr>\n",
       "    <tr>\n",
       "      <th>1195</th>\n",
       "      <td>1947021204</td>\n",
       "      <td>1614305549</td>\n",
       "      <td>2019-08-14</td>\n",
       "      <td>100</td>\n",
       "      <td>A</td>\n",
       "      <td>True</td>\n",
       "      <td>NaN</td>\n",
       "    </tr>\n",
       "    <tr>\n",
       "      <th>1196</th>\n",
       "      <td>3936777065</td>\n",
       "      <td>2108080724</td>\n",
       "      <td>2019-08-15</td>\n",
       "      <td>202740</td>\n",
       "      <td>B</td>\n",
       "      <td>NaN</td>\n",
       "      <td>False</td>\n",
       "    </tr>\n",
       "  </tbody>\n",
       "</table>\n",
       "<p>1197 rows × 7 columns</p>\n",
       "</div>"
      ],
      "text/plain": [
       "      transactionId   visitorId        date  revenue group duplicatedAB  \\\n",
       "0     3667963787     3312258926  2019-08-15  1650     B     NaN           \n",
       "1     2804400009     3642806036  2019-08-15  730      B     NaN           \n",
       "2     2961555356     4069496402  2019-08-15  400      A     True          \n",
       "3     3797467345     1196621759  2019-08-15  9759     B     NaN           \n",
       "4     2282983706     2322279887  2019-08-15  2308     B     NaN           \n",
       "...          ...            ...         ...   ...    ..     ...           \n",
       "1192  2662137336     3733762160  2019-08-14  6490     B     NaN           \n",
       "1193  2203539145     370388673   2019-08-14  3190     A     False         \n",
       "1194  1807773912     573423106   2019-08-14  10550    A     False         \n",
       "1195  1947021204     1614305549  2019-08-14  100      A     True          \n",
       "1196  3936777065     2108080724  2019-08-15  202740   B     NaN           \n",
       "\n",
       "     duplicatedBA  \n",
       "0     False        \n",
       "1     False        \n",
       "2     NaN          \n",
       "3     False        \n",
       "4     False        \n",
       "...     ...        \n",
       "1192  False        \n",
       "1193  NaN          \n",
       "1194  NaN          \n",
       "1195  NaN          \n",
       "1196  False        \n",
       "\n",
       "[1197 rows x 7 columns]"
      ]
     },
     "execution_count": 16,
     "metadata": {},
     "output_type": "execute_result"
    }
   ],
   "source": [
    "orders['duplicatedBA'] = orders[orders['group'] == 'B']['visitorId'].isin(orders[orders['group'] == 'A']['visitorId'])\n",
    "orders"
   ]
  },
  {
   "cell_type": "markdown",
   "metadata": {},
   "source": [
    "А теперь сведём их в один список в колонке duplicated:"
   ]
  },
  {
   "cell_type": "code",
   "execution_count": 17,
   "metadata": {},
   "outputs": [
    {
     "data": {
      "text/html": [
       "<div>\n",
       "<style scoped>\n",
       "    .dataframe tbody tr th:only-of-type {\n",
       "        vertical-align: middle;\n",
       "    }\n",
       "\n",
       "    .dataframe tbody tr th {\n",
       "        vertical-align: top;\n",
       "    }\n",
       "\n",
       "    .dataframe thead th {\n",
       "        text-align: right;\n",
       "    }\n",
       "</style>\n",
       "<table border=\"1\" class=\"dataframe\">\n",
       "  <thead>\n",
       "    <tr style=\"text-align: right;\">\n",
       "      <th></th>\n",
       "      <th>transactionId</th>\n",
       "      <th>visitorId</th>\n",
       "      <th>date</th>\n",
       "      <th>revenue</th>\n",
       "      <th>group</th>\n",
       "      <th>duplicatedAB</th>\n",
       "      <th>duplicatedBA</th>\n",
       "    </tr>\n",
       "  </thead>\n",
       "  <tbody>\n",
       "    <tr>\n",
       "      <th>0</th>\n",
       "      <td>3667963787</td>\n",
       "      <td>3312258926</td>\n",
       "      <td>2019-08-15</td>\n",
       "      <td>1650</td>\n",
       "      <td>B</td>\n",
       "      <td>False</td>\n",
       "      <td>False</td>\n",
       "    </tr>\n",
       "    <tr>\n",
       "      <th>1</th>\n",
       "      <td>2804400009</td>\n",
       "      <td>3642806036</td>\n",
       "      <td>2019-08-15</td>\n",
       "      <td>730</td>\n",
       "      <td>B</td>\n",
       "      <td>False</td>\n",
       "      <td>False</td>\n",
       "    </tr>\n",
       "    <tr>\n",
       "      <th>2</th>\n",
       "      <td>2961555356</td>\n",
       "      <td>4069496402</td>\n",
       "      <td>2019-08-15</td>\n",
       "      <td>400</td>\n",
       "      <td>A</td>\n",
       "      <td>True</td>\n",
       "      <td>False</td>\n",
       "    </tr>\n",
       "    <tr>\n",
       "      <th>3</th>\n",
       "      <td>3797467345</td>\n",
       "      <td>1196621759</td>\n",
       "      <td>2019-08-15</td>\n",
       "      <td>9759</td>\n",
       "      <td>B</td>\n",
       "      <td>False</td>\n",
       "      <td>False</td>\n",
       "    </tr>\n",
       "    <tr>\n",
       "      <th>4</th>\n",
       "      <td>2282983706</td>\n",
       "      <td>2322279887</td>\n",
       "      <td>2019-08-15</td>\n",
       "      <td>2308</td>\n",
       "      <td>B</td>\n",
       "      <td>False</td>\n",
       "      <td>False</td>\n",
       "    </tr>\n",
       "    <tr>\n",
       "      <th>...</th>\n",
       "      <td>...</td>\n",
       "      <td>...</td>\n",
       "      <td>...</td>\n",
       "      <td>...</td>\n",
       "      <td>...</td>\n",
       "      <td>...</td>\n",
       "      <td>...</td>\n",
       "    </tr>\n",
       "    <tr>\n",
       "      <th>1192</th>\n",
       "      <td>2662137336</td>\n",
       "      <td>3733762160</td>\n",
       "      <td>2019-08-14</td>\n",
       "      <td>6490</td>\n",
       "      <td>B</td>\n",
       "      <td>False</td>\n",
       "      <td>False</td>\n",
       "    </tr>\n",
       "    <tr>\n",
       "      <th>1193</th>\n",
       "      <td>2203539145</td>\n",
       "      <td>370388673</td>\n",
       "      <td>2019-08-14</td>\n",
       "      <td>3190</td>\n",
       "      <td>A</td>\n",
       "      <td>False</td>\n",
       "      <td>False</td>\n",
       "    </tr>\n",
       "    <tr>\n",
       "      <th>1194</th>\n",
       "      <td>1807773912</td>\n",
       "      <td>573423106</td>\n",
       "      <td>2019-08-14</td>\n",
       "      <td>10550</td>\n",
       "      <td>A</td>\n",
       "      <td>False</td>\n",
       "      <td>False</td>\n",
       "    </tr>\n",
       "    <tr>\n",
       "      <th>1195</th>\n",
       "      <td>1947021204</td>\n",
       "      <td>1614305549</td>\n",
       "      <td>2019-08-14</td>\n",
       "      <td>100</td>\n",
       "      <td>A</td>\n",
       "      <td>True</td>\n",
       "      <td>False</td>\n",
       "    </tr>\n",
       "    <tr>\n",
       "      <th>1196</th>\n",
       "      <td>3936777065</td>\n",
       "      <td>2108080724</td>\n",
       "      <td>2019-08-15</td>\n",
       "      <td>202740</td>\n",
       "      <td>B</td>\n",
       "      <td>False</td>\n",
       "      <td>False</td>\n",
       "    </tr>\n",
       "  </tbody>\n",
       "</table>\n",
       "<p>1197 rows × 7 columns</p>\n",
       "</div>"
      ],
      "text/plain": [
       "      transactionId   visitorId        date  revenue group  duplicatedAB  \\\n",
       "0     3667963787     3312258926  2019-08-15  1650     B     False          \n",
       "1     2804400009     3642806036  2019-08-15  730      B     False          \n",
       "2     2961555356     4069496402  2019-08-15  400      A     True           \n",
       "3     3797467345     1196621759  2019-08-15  9759     B     False          \n",
       "4     2282983706     2322279887  2019-08-15  2308     B     False          \n",
       "...          ...            ...         ...   ...    ..       ...          \n",
       "1192  2662137336     3733762160  2019-08-14  6490     B     False          \n",
       "1193  2203539145     370388673   2019-08-14  3190     A     False          \n",
       "1194  1807773912     573423106   2019-08-14  10550    A     False          \n",
       "1195  1947021204     1614305549  2019-08-14  100      A     True           \n",
       "1196  3936777065     2108080724  2019-08-15  202740   B     False          \n",
       "\n",
       "      duplicatedBA  \n",
       "0     False         \n",
       "1     False         \n",
       "2     False         \n",
       "3     False         \n",
       "4     False         \n",
       "...     ...         \n",
       "1192  False         \n",
       "1193  False         \n",
       "1194  False         \n",
       "1195  False         \n",
       "1196  False         \n",
       "\n",
       "[1197 rows x 7 columns]"
      ]
     },
     "execution_count": 17,
     "metadata": {},
     "output_type": "execute_result"
    }
   ],
   "source": [
    "orders[['duplicatedAB', 'duplicatedBA']] = orders[['duplicatedAB', 'duplicatedBA']].fillna(False)\n",
    "orders"
   ]
  },
  {
   "cell_type": "code",
   "execution_count": 18,
   "metadata": {
    "scrolled": false
   },
   "outputs": [
    {
     "data": {
      "text/html": [
       "<div>\n",
       "<style scoped>\n",
       "    .dataframe tbody tr th:only-of-type {\n",
       "        vertical-align: middle;\n",
       "    }\n",
       "\n",
       "    .dataframe tbody tr th {\n",
       "        vertical-align: top;\n",
       "    }\n",
       "\n",
       "    .dataframe thead th {\n",
       "        text-align: right;\n",
       "    }\n",
       "</style>\n",
       "<table border=\"1\" class=\"dataframe\">\n",
       "  <thead>\n",
       "    <tr style=\"text-align: right;\">\n",
       "      <th></th>\n",
       "      <th>transactionId</th>\n",
       "      <th>visitorId</th>\n",
       "      <th>date</th>\n",
       "      <th>revenue</th>\n",
       "      <th>group</th>\n",
       "      <th>duplicatedAB</th>\n",
       "      <th>duplicatedBA</th>\n",
       "      <th>duplicated</th>\n",
       "    </tr>\n",
       "  </thead>\n",
       "  <tbody>\n",
       "    <tr>\n",
       "      <th>0</th>\n",
       "      <td>3667963787</td>\n",
       "      <td>3312258926</td>\n",
       "      <td>2019-08-15</td>\n",
       "      <td>1650</td>\n",
       "      <td>B</td>\n",
       "      <td>False</td>\n",
       "      <td>False</td>\n",
       "      <td>False</td>\n",
       "    </tr>\n",
       "    <tr>\n",
       "      <th>1</th>\n",
       "      <td>2804400009</td>\n",
       "      <td>3642806036</td>\n",
       "      <td>2019-08-15</td>\n",
       "      <td>730</td>\n",
       "      <td>B</td>\n",
       "      <td>False</td>\n",
       "      <td>False</td>\n",
       "      <td>False</td>\n",
       "    </tr>\n",
       "    <tr>\n",
       "      <th>2</th>\n",
       "      <td>2961555356</td>\n",
       "      <td>4069496402</td>\n",
       "      <td>2019-08-15</td>\n",
       "      <td>400</td>\n",
       "      <td>A</td>\n",
       "      <td>True</td>\n",
       "      <td>False</td>\n",
       "      <td>True</td>\n",
       "    </tr>\n",
       "    <tr>\n",
       "      <th>3</th>\n",
       "      <td>3797467345</td>\n",
       "      <td>1196621759</td>\n",
       "      <td>2019-08-15</td>\n",
       "      <td>9759</td>\n",
       "      <td>B</td>\n",
       "      <td>False</td>\n",
       "      <td>False</td>\n",
       "      <td>False</td>\n",
       "    </tr>\n",
       "    <tr>\n",
       "      <th>4</th>\n",
       "      <td>2282983706</td>\n",
       "      <td>2322279887</td>\n",
       "      <td>2019-08-15</td>\n",
       "      <td>2308</td>\n",
       "      <td>B</td>\n",
       "      <td>False</td>\n",
       "      <td>False</td>\n",
       "      <td>False</td>\n",
       "    </tr>\n",
       "    <tr>\n",
       "      <th>...</th>\n",
       "      <td>...</td>\n",
       "      <td>...</td>\n",
       "      <td>...</td>\n",
       "      <td>...</td>\n",
       "      <td>...</td>\n",
       "      <td>...</td>\n",
       "      <td>...</td>\n",
       "      <td>...</td>\n",
       "    </tr>\n",
       "    <tr>\n",
       "      <th>1192</th>\n",
       "      <td>2662137336</td>\n",
       "      <td>3733762160</td>\n",
       "      <td>2019-08-14</td>\n",
       "      <td>6490</td>\n",
       "      <td>B</td>\n",
       "      <td>False</td>\n",
       "      <td>False</td>\n",
       "      <td>False</td>\n",
       "    </tr>\n",
       "    <tr>\n",
       "      <th>1193</th>\n",
       "      <td>2203539145</td>\n",
       "      <td>370388673</td>\n",
       "      <td>2019-08-14</td>\n",
       "      <td>3190</td>\n",
       "      <td>A</td>\n",
       "      <td>False</td>\n",
       "      <td>False</td>\n",
       "      <td>False</td>\n",
       "    </tr>\n",
       "    <tr>\n",
       "      <th>1194</th>\n",
       "      <td>1807773912</td>\n",
       "      <td>573423106</td>\n",
       "      <td>2019-08-14</td>\n",
       "      <td>10550</td>\n",
       "      <td>A</td>\n",
       "      <td>False</td>\n",
       "      <td>False</td>\n",
       "      <td>False</td>\n",
       "    </tr>\n",
       "    <tr>\n",
       "      <th>1195</th>\n",
       "      <td>1947021204</td>\n",
       "      <td>1614305549</td>\n",
       "      <td>2019-08-14</td>\n",
       "      <td>100</td>\n",
       "      <td>A</td>\n",
       "      <td>True</td>\n",
       "      <td>False</td>\n",
       "      <td>True</td>\n",
       "    </tr>\n",
       "    <tr>\n",
       "      <th>1196</th>\n",
       "      <td>3936777065</td>\n",
       "      <td>2108080724</td>\n",
       "      <td>2019-08-15</td>\n",
       "      <td>202740</td>\n",
       "      <td>B</td>\n",
       "      <td>False</td>\n",
       "      <td>False</td>\n",
       "      <td>False</td>\n",
       "    </tr>\n",
       "  </tbody>\n",
       "</table>\n",
       "<p>1197 rows × 8 columns</p>\n",
       "</div>"
      ],
      "text/plain": [
       "      transactionId   visitorId        date  revenue group  duplicatedAB  \\\n",
       "0     3667963787     3312258926  2019-08-15  1650     B     False          \n",
       "1     2804400009     3642806036  2019-08-15  730      B     False          \n",
       "2     2961555356     4069496402  2019-08-15  400      A     True           \n",
       "3     3797467345     1196621759  2019-08-15  9759     B     False          \n",
       "4     2282983706     2322279887  2019-08-15  2308     B     False          \n",
       "...          ...            ...         ...   ...    ..       ...          \n",
       "1192  2662137336     3733762160  2019-08-14  6490     B     False          \n",
       "1193  2203539145     370388673   2019-08-14  3190     A     False          \n",
       "1194  1807773912     573423106   2019-08-14  10550    A     False          \n",
       "1195  1947021204     1614305549  2019-08-14  100      A     True           \n",
       "1196  3936777065     2108080724  2019-08-15  202740   B     False          \n",
       "\n",
       "      duplicatedBA  duplicated  \n",
       "0     False         False       \n",
       "1     False         False       \n",
       "2     False         True        \n",
       "3     False         False       \n",
       "4     False         False       \n",
       "...     ...           ...       \n",
       "1192  False         False       \n",
       "1193  False         False       \n",
       "1194  False         False       \n",
       "1195  False         True        \n",
       "1196  False         False       \n",
       "\n",
       "[1197 rows x 8 columns]"
      ]
     },
     "execution_count": 18,
     "metadata": {},
     "output_type": "execute_result"
    }
   ],
   "source": [
    "orders['duplicated'] = orders['duplicatedAB'] | orders['duplicatedBA'] \n",
    "orders"
   ]
  },
  {
   "cell_type": "markdown",
   "metadata": {},
   "source": [
    "Посчитаем, сколько всего заказов от пользователей, которые засветились в двух группах:"
   ]
  },
  {
   "cell_type": "code",
   "execution_count": 19,
   "metadata": {},
   "outputs": [
    {
     "data": {
      "text/plain": [
       "181"
      ]
     },
     "execution_count": 19,
     "metadata": {},
     "output_type": "execute_result"
    }
   ],
   "source": [
    "orders['duplicated'].sum()"
   ]
  },
  {
   "cell_type": "markdown",
   "metadata": {},
   "source": [
    "А теперь посмотрим, сколько это пользователей делали такие заказы:"
   ]
  },
  {
   "cell_type": "code",
   "execution_count": 20,
   "metadata": {},
   "outputs": [
    {
     "data": {
      "text/plain": [
       "58"
      ]
     },
     "execution_count": 20,
     "metadata": {},
     "output_type": "execute_result"
    }
   ],
   "source": [
    "orders[orders['duplicated'] == True]['visitorId'].nunique()"
   ]
  },
  {
   "cell_type": "markdown",
   "metadata": {},
   "source": [
    "Удалим из датасета `orders` заказы, которые делали пользователи, которые попали в обе группы. "
   ]
  },
  {
   "cell_type": "code",
   "execution_count": 21,
   "metadata": {},
   "outputs": [
    {
     "data": {
      "text/html": [
       "<div>\n",
       "<style scoped>\n",
       "    .dataframe tbody tr th:only-of-type {\n",
       "        vertical-align: middle;\n",
       "    }\n",
       "\n",
       "    .dataframe tbody tr th {\n",
       "        vertical-align: top;\n",
       "    }\n",
       "\n",
       "    .dataframe thead th {\n",
       "        text-align: right;\n",
       "    }\n",
       "</style>\n",
       "<table border=\"1\" class=\"dataframe\">\n",
       "  <thead>\n",
       "    <tr style=\"text-align: right;\">\n",
       "      <th></th>\n",
       "      <th>transactionId</th>\n",
       "      <th>visitorId</th>\n",
       "      <th>date</th>\n",
       "      <th>revenue</th>\n",
       "      <th>group</th>\n",
       "      <th>duplicatedAB</th>\n",
       "      <th>duplicatedBA</th>\n",
       "      <th>duplicated</th>\n",
       "    </tr>\n",
       "  </thead>\n",
       "  <tbody>\n",
       "    <tr>\n",
       "      <th>0</th>\n",
       "      <td>3667963787</td>\n",
       "      <td>3312258926</td>\n",
       "      <td>2019-08-15</td>\n",
       "      <td>1650</td>\n",
       "      <td>B</td>\n",
       "      <td>False</td>\n",
       "      <td>False</td>\n",
       "      <td>False</td>\n",
       "    </tr>\n",
       "    <tr>\n",
       "      <th>1</th>\n",
       "      <td>2804400009</td>\n",
       "      <td>3642806036</td>\n",
       "      <td>2019-08-15</td>\n",
       "      <td>730</td>\n",
       "      <td>B</td>\n",
       "      <td>False</td>\n",
       "      <td>False</td>\n",
       "      <td>False</td>\n",
       "    </tr>\n",
       "    <tr>\n",
       "      <th>3</th>\n",
       "      <td>3797467345</td>\n",
       "      <td>1196621759</td>\n",
       "      <td>2019-08-15</td>\n",
       "      <td>9759</td>\n",
       "      <td>B</td>\n",
       "      <td>False</td>\n",
       "      <td>False</td>\n",
       "      <td>False</td>\n",
       "    </tr>\n",
       "    <tr>\n",
       "      <th>4</th>\n",
       "      <td>2282983706</td>\n",
       "      <td>2322279887</td>\n",
       "      <td>2019-08-15</td>\n",
       "      <td>2308</td>\n",
       "      <td>B</td>\n",
       "      <td>False</td>\n",
       "      <td>False</td>\n",
       "      <td>False</td>\n",
       "    </tr>\n",
       "    <tr>\n",
       "      <th>5</th>\n",
       "      <td>182168103</td>\n",
       "      <td>935554773</td>\n",
       "      <td>2019-08-15</td>\n",
       "      <td>2210</td>\n",
       "      <td>B</td>\n",
       "      <td>False</td>\n",
       "      <td>False</td>\n",
       "      <td>False</td>\n",
       "    </tr>\n",
       "    <tr>\n",
       "      <th>...</th>\n",
       "      <td>...</td>\n",
       "      <td>...</td>\n",
       "      <td>...</td>\n",
       "      <td>...</td>\n",
       "      <td>...</td>\n",
       "      <td>...</td>\n",
       "      <td>...</td>\n",
       "      <td>...</td>\n",
       "    </tr>\n",
       "    <tr>\n",
       "      <th>1191</th>\n",
       "      <td>3592955527</td>\n",
       "      <td>608641596</td>\n",
       "      <td>2019-08-14</td>\n",
       "      <td>16490</td>\n",
       "      <td>B</td>\n",
       "      <td>False</td>\n",
       "      <td>False</td>\n",
       "      <td>False</td>\n",
       "    </tr>\n",
       "    <tr>\n",
       "      <th>1192</th>\n",
       "      <td>2662137336</td>\n",
       "      <td>3733762160</td>\n",
       "      <td>2019-08-14</td>\n",
       "      <td>6490</td>\n",
       "      <td>B</td>\n",
       "      <td>False</td>\n",
       "      <td>False</td>\n",
       "      <td>False</td>\n",
       "    </tr>\n",
       "    <tr>\n",
       "      <th>1193</th>\n",
       "      <td>2203539145</td>\n",
       "      <td>370388673</td>\n",
       "      <td>2019-08-14</td>\n",
       "      <td>3190</td>\n",
       "      <td>A</td>\n",
       "      <td>False</td>\n",
       "      <td>False</td>\n",
       "      <td>False</td>\n",
       "    </tr>\n",
       "    <tr>\n",
       "      <th>1194</th>\n",
       "      <td>1807773912</td>\n",
       "      <td>573423106</td>\n",
       "      <td>2019-08-14</td>\n",
       "      <td>10550</td>\n",
       "      <td>A</td>\n",
       "      <td>False</td>\n",
       "      <td>False</td>\n",
       "      <td>False</td>\n",
       "    </tr>\n",
       "    <tr>\n",
       "      <th>1196</th>\n",
       "      <td>3936777065</td>\n",
       "      <td>2108080724</td>\n",
       "      <td>2019-08-15</td>\n",
       "      <td>202740</td>\n",
       "      <td>B</td>\n",
       "      <td>False</td>\n",
       "      <td>False</td>\n",
       "      <td>False</td>\n",
       "    </tr>\n",
       "  </tbody>\n",
       "</table>\n",
       "<p>1016 rows × 8 columns</p>\n",
       "</div>"
      ],
      "text/plain": [
       "      transactionId   visitorId        date  revenue group  duplicatedAB  \\\n",
       "0     3667963787     3312258926  2019-08-15  1650     B     False          \n",
       "1     2804400009     3642806036  2019-08-15  730      B     False          \n",
       "3     3797467345     1196621759  2019-08-15  9759     B     False          \n",
       "4     2282983706     2322279887  2019-08-15  2308     B     False          \n",
       "5     182168103      935554773   2019-08-15  2210     B     False          \n",
       "...         ...            ...          ...   ...    ..       ...          \n",
       "1191  3592955527     608641596   2019-08-14  16490    B     False          \n",
       "1192  2662137336     3733762160  2019-08-14  6490     B     False          \n",
       "1193  2203539145     370388673   2019-08-14  3190     A     False          \n",
       "1194  1807773912     573423106   2019-08-14  10550    A     False          \n",
       "1196  3936777065     2108080724  2019-08-15  202740   B     False          \n",
       "\n",
       "      duplicatedBA  duplicated  \n",
       "0     False         False       \n",
       "1     False         False       \n",
       "3     False         False       \n",
       "4     False         False       \n",
       "5     False         False       \n",
       "...     ...           ...       \n",
       "1191  False         False       \n",
       "1192  False         False       \n",
       "1193  False         False       \n",
       "1194  False         False       \n",
       "1196  False         False       \n",
       "\n",
       "[1016 rows x 8 columns]"
      ]
     },
     "execution_count": 21,
     "metadata": {},
     "output_type": "execute_result"
    }
   ],
   "source": [
    "orders = orders.drop(orders[orders['duplicated'] == True].index)\n",
    "orders"
   ]
  },
  {
   "cell_type": "markdown",
   "metadata": {},
   "source": [
    "Теперь проверим, насколко сократилась каждая из групп:"
   ]
  },
  {
   "cell_type": "code",
   "execution_count": 22,
   "metadata": {},
   "outputs": [
    {
     "data": {
      "text/html": [
       "<div>\n",
       "<style scoped>\n",
       "    .dataframe tbody tr th:only-of-type {\n",
       "        vertical-align: middle;\n",
       "    }\n",
       "\n",
       "    .dataframe tbody tr th {\n",
       "        vertical-align: top;\n",
       "    }\n",
       "\n",
       "    .dataframe thead th {\n",
       "        text-align: right;\n",
       "    }\n",
       "</style>\n",
       "<table border=\"1\" class=\"dataframe\">\n",
       "  <thead>\n",
       "    <tr style=\"text-align: right;\">\n",
       "      <th></th>\n",
       "      <th>transactionId</th>\n",
       "    </tr>\n",
       "    <tr>\n",
       "      <th>group</th>\n",
       "      <th></th>\n",
       "    </tr>\n",
       "  </thead>\n",
       "  <tbody>\n",
       "    <tr>\n",
       "      <th>A</th>\n",
       "      <td>468</td>\n",
       "    </tr>\n",
       "    <tr>\n",
       "      <th>B</th>\n",
       "      <td>548</td>\n",
       "    </tr>\n",
       "  </tbody>\n",
       "</table>\n",
       "</div>"
      ],
      "text/plain": [
       "       transactionId\n",
       "group               \n",
       "A      468          \n",
       "B      548          "
      ]
     },
     "execution_count": 22,
     "metadata": {},
     "output_type": "execute_result"
    }
   ],
   "source": [
    "orders.groupby('group').agg({'transactionId' : 'count'})"
   ]
  },
  {
   "cell_type": "markdown",
   "metadata": {},
   "source": [
    "Таким образом группа А уменьшилась с 557 до **468** визитёров-покупателей, а группа В с 640 до **548**.\n",
    "\n",
    "Тем не менее этого достаточно для того, чтобы провести А/В тест."
   ]
  },
  {
   "cell_type": "markdown",
   "metadata": {
    "id": "0P2-PDHucsKB"
   },
   "source": [
    "#### Проверяем имена.\n",
    "\n",
    "- Таблица `hypothesis`:\n",
    " - нужно привести к `camel_case`\n",
    "\n",
    "\n",
    "- Таблица `visits`:\n",
    " - нужно привести к `camel_case`\n",
    "\n",
    "- Таблица `orders`: ok\n",
    "\n"
   ]
  },
  {
   "cell_type": "code",
   "execution_count": 23,
   "metadata": {
    "colab": {
     "base_uri": "https://localhost:8080/"
    },
    "id": "NU1gx2jjtpX2",
    "outputId": "3a90ddb6-8cd0-4e5c-92de-3f2e17500542"
   },
   "outputs": [
    {
     "data": {
      "text/plain": [
       "Index(['hypothesis', 'reach', 'impact', 'confidence', 'efforts'], dtype='object')"
      ]
     },
     "execution_count": 23,
     "metadata": {},
     "output_type": "execute_result"
    }
   ],
   "source": [
    "hypothesis.columns = [re.sub(r'(?<!^)(?=[A-Z])', '_', x).lower() for x in hypothesis.columns.values]\n",
    "hypothesis.columns"
   ]
  },
  {
   "cell_type": "code",
   "execution_count": 24,
   "metadata": {
    "colab": {
     "base_uri": "https://localhost:8080/"
    },
    "id": "btvvDFQ1ukKs",
    "outputId": "1ad3aeaf-d6fc-4826-f840-75763fb4b1e6"
   },
   "outputs": [
    {
     "data": {
      "text/plain": [
       "Index(['transaction_id', 'visitor_id', 'date', 'revenue', 'group',\n",
       "       'duplicated_a_b', 'duplicated_b_a', 'duplicated'],\n",
       "      dtype='object')"
      ]
     },
     "execution_count": 24,
     "metadata": {},
     "output_type": "execute_result"
    }
   ],
   "source": [
    "orders.columns = [re.sub(r'(?<!^)(?=[A-Z])', '_', x).lower() for x in orders.columns.values]\n",
    "orders.columns"
   ]
  },
  {
   "cell_type": "markdown",
   "metadata": {
    "id": "0rKOYrUJc9RD"
   },
   "source": [
    "#### Проверяем пропуски.\n",
    "\n",
    "- Таблица `hypothesis`: ok\n",
    "\n",
    "\n",
    "- Таблица `visits`: ok\n",
    "\n",
    "\n",
    "- Таблица `orders`: ok\n",
    "\n"
   ]
  },
  {
   "cell_type": "markdown",
   "metadata": {
    "id": "NrnH9ta1c-d3"
   },
   "source": [
    "#### Проверяем типы данных.\n",
    "- Таблица `hypothesis`: ok\n",
    "\n",
    "\n",
    "- Таблица `visits`:\n",
    " - `date` нужно изменить с `object` на `datetime`\n",
    "\n",
    "- Таблица `orders`:\n",
    " - `date` нужно изменить с `object` на `datetime`\n"
   ]
  },
  {
   "cell_type": "code",
   "execution_count": 25,
   "metadata": {
    "id": "J68Dz3YUuwz7"
   },
   "outputs": [],
   "source": [
    "visits['date'] = pd.to_datetime(visits['date'])\n",
    "orders['date'] = pd.to_datetime(orders['date'])"
   ]
  },
  {
   "cell_type": "code",
   "execution_count": 26,
   "metadata": {
    "colab": {
     "base_uri": "https://localhost:8080/",
     "height": 208
    },
    "id": "tVjhBH9pvhWs",
    "outputId": "6c9d43f4-6301-4fab-e6a0-5e4d72d87314"
   },
   "outputs": [
    {
     "name": "stdout",
     "output_type": "stream",
     "text": [
      "<class 'pandas.core.frame.DataFrame'>\n",
      "RangeIndex: 62 entries, 0 to 61\n",
      "Data columns (total 3 columns):\n",
      " #   Column    Non-Null Count  Dtype         \n",
      "---  ------    --------------  -----         \n",
      " 0   date      62 non-null     datetime64[ns]\n",
      " 1   group     62 non-null     object        \n",
      " 2   visitors  62 non-null     int64         \n",
      "dtypes: datetime64[ns](1), int64(1), object(1)\n",
      "memory usage: 1.6+ KB\n"
     ]
    },
    {
     "data": {
      "text/plain": [
       "None"
      ]
     },
     "metadata": {},
     "output_type": "display_data"
    }
   ],
   "source": [
    "display(visits.info())"
   ]
  },
  {
   "cell_type": "code",
   "execution_count": 27,
   "metadata": {
    "colab": {
     "base_uri": "https://localhost:8080/",
     "height": 243
    },
    "id": "Fxz3fNzuvjqi",
    "outputId": "2603806d-308b-40d3-df8f-6a608b758677"
   },
   "outputs": [
    {
     "name": "stdout",
     "output_type": "stream",
     "text": [
      "<class 'pandas.core.frame.DataFrame'>\n",
      "Int64Index: 1016 entries, 0 to 1196\n",
      "Data columns (total 8 columns):\n",
      " #   Column          Non-Null Count  Dtype         \n",
      "---  ------          --------------  -----         \n",
      " 0   transaction_id  1016 non-null   int64         \n",
      " 1   visitor_id      1016 non-null   int64         \n",
      " 2   date            1016 non-null   datetime64[ns]\n",
      " 3   revenue         1016 non-null   int64         \n",
      " 4   group           1016 non-null   object        \n",
      " 5   duplicated_a_b  1016 non-null   bool          \n",
      " 6   duplicated_b_a  1016 non-null   bool          \n",
      " 7   duplicated      1016 non-null   bool          \n",
      "dtypes: bool(3), datetime64[ns](1), int64(3), object(1)\n",
      "memory usage: 50.6+ KB\n"
     ]
    },
    {
     "data": {
      "text/plain": [
       "None"
      ]
     },
     "metadata": {},
     "output_type": "display_data"
    }
   ],
   "source": [
    "display(orders.info())"
   ]
  },
  {
   "cell_type": "markdown",
   "metadata": {
    "id": "tJREVftJc_hH"
   },
   "source": [
    "#### Проверяем дубликаты."
   ]
  },
  {
   "cell_type": "code",
   "execution_count": 28,
   "metadata": {
    "colab": {
     "base_uri": "https://localhost:8080/"
    },
    "id": "ldzvWQYTv5J7",
    "outputId": "223cc83b-87c6-4c65-98b4-71c5ea18a734"
   },
   "outputs": [
    {
     "data": {
      "text/plain": [
       "0"
      ]
     },
     "execution_count": 28,
     "metadata": {},
     "output_type": "execute_result"
    }
   ],
   "source": [
    "visits.duplicated().sum()"
   ]
  },
  {
   "cell_type": "code",
   "execution_count": 29,
   "metadata": {
    "colab": {
     "base_uri": "https://localhost:8080/"
    },
    "id": "iD9kkqa2v7mZ",
    "outputId": "04959354-ef2d-4ea0-cddf-7965e96d10da"
   },
   "outputs": [
    {
     "data": {
      "text/plain": [
       "0"
      ]
     },
     "execution_count": 29,
     "metadata": {},
     "output_type": "execute_result"
    }
   ],
   "source": [
    "orders.duplicated().sum()"
   ]
  },
  {
   "cell_type": "code",
   "execution_count": 30,
   "metadata": {
    "colab": {
     "base_uri": "https://localhost:8080/"
    },
    "id": "XhIKBQByv-bi",
    "outputId": "95a323bd-5ade-486f-a744-131698f0f951"
   },
   "outputs": [
    {
     "data": {
      "text/plain": [
       "0"
      ]
     },
     "execution_count": 30,
     "metadata": {},
     "output_type": "execute_result"
    }
   ],
   "source": [
    "hypothesis.duplicated().sum()"
   ]
  },
  {
   "cell_type": "markdown",
   "metadata": {
    "id": "naW6mgk4v21r"
   },
   "source": [
    "- Таблица `hypothesis`: ok\n",
    "\n",
    "\n",
    "- Таблица `visits`: ok\n",
    "\n",
    "\n",
    "- Таблица `orders`: ok\n",
    "\n"
   ]
  },
  {
   "cell_type": "markdown",
   "metadata": {
    "id": "EOHlsKP1wPko"
   },
   "source": [
    "### Выводы по разделу:\n",
    "\n",
    "- датасеты содержат информацию о 18736 визитах из группы А и 18916 визитах из группы B, а также 468 заказов в группе А и 548 заказах в группе В. Этого, похоже, достаточно для проведения исследования.\n",
    "- при этом из анализа удалили данные о 181 заказе от 58 пользователей, которые попали в группы A и В одновременно. Они были удалены из таблицы.\n",
    "- имена в `hypothesis` и `visits` приведены к `camel_case`\n",
    "- Пропусков нет ни в одном из датасетов.\n",
    "- Проверяем типы данных - изменили тип со строковрого на дату в датасетах `visits` и `orders`.\n",
    "- дубликатов в входных данных нет ни в одном из датасетов."
   ]
  },
  {
   "cell_type": "markdown",
   "metadata": {
    "id": "1gzeBwUUWidB"
   },
   "source": [
    "<a id=\"step_2\"></a>\n",
    "## 2 = Часть 1. Приоритизация гипотез.\n",
    "\n",
    "[к оглавлению](#back)\n",
    "\n",
    "В файле /datasets/hypothesis.csv 9 гипотез по увеличению выручки интернет-магазина с указанными параметрами Reach, Impact, Confidence, Effort.\n",
    "\n"
   ]
  },
  {
   "cell_type": "markdown",
   "metadata": {
    "id": "Q8zgyMRtXydM"
   },
   "source": [
    "### Описание данных. Данные для первой части\n",
    "Файл /datasets/hypothesis.csv. [Скачать датасет](http://fd.tu)\n",
    "* `Hypothesis` — краткое описание гипотезы;\n",
    "* `Reach` — охват пользователей по 10-балльной шкале;\n",
    "* `Impact` — влияние на пользователей по 10-балльной шкале;\n",
    "* `Confidence` — уверенность в гипотезе по 10-балльной шкале;\n",
    "* `Efforts` — затраты ресурсов на проверку гипотезы по 10-балльной шкале. Чем больше значение Efforts, тем дороже проверка гипотезы.\n",
    "\n"
   ]
  },
  {
   "cell_type": "markdown",
   "metadata": {
    "id": "zseCH6BD7P8p"
   },
   "source": [
    "**Задачи:**\n",
    "* Примените фреймворк ICE для приоритизации гипотез. Отсортируйте их по убыванию приоритета.\n",
    "* Примените фреймворк RICE для приоритизации гипотез. Отсортируйте их по убыванию приоритета.\n",
    "* Укажите, как изменилась приоритизация гипотез при применении RICE вместо ICE. Объясните, почему так произошло.\n"
   ]
  },
  {
   "cell_type": "markdown",
   "metadata": {
    "id": "fniirWb4y6sT"
   },
   "source": [
    "### Cчитаем ICE.\n",
    "*Примените фреймворк ICE для приоритизации гипотез. Отсортируйте их по убыванию приоритета.*"
   ]
  },
  {
   "cell_type": "code",
   "execution_count": 31,
   "metadata": {
    "colab": {
     "base_uri": "https://localhost:8080/",
     "height": 332
    },
    "id": "PZCAol_-2QmM",
    "outputId": "7374bd74-7ec7-4674-8001-e26170ae2939"
   },
   "outputs": [
    {
     "data": {
      "text/html": [
       "<div>\n",
       "<style scoped>\n",
       "    .dataframe tbody tr th:only-of-type {\n",
       "        vertical-align: middle;\n",
       "    }\n",
       "\n",
       "    .dataframe tbody tr th {\n",
       "        vertical-align: top;\n",
       "    }\n",
       "\n",
       "    .dataframe thead th {\n",
       "        text-align: right;\n",
       "    }\n",
       "</style>\n",
       "<table border=\"1\" class=\"dataframe\">\n",
       "  <thead>\n",
       "    <tr style=\"text-align: right;\">\n",
       "      <th></th>\n",
       "      <th>hypothesis</th>\n",
       "      <th>reach</th>\n",
       "      <th>impact</th>\n",
       "      <th>confidence</th>\n",
       "      <th>efforts</th>\n",
       "      <th>ICE</th>\n",
       "    </tr>\n",
       "  </thead>\n",
       "  <tbody>\n",
       "    <tr>\n",
       "      <th>8</th>\n",
       "      <td>Запустить акцию, дающую скидку на товар в день рождения</td>\n",
       "      <td>1</td>\n",
       "      <td>9</td>\n",
       "      <td>9</td>\n",
       "      <td>5</td>\n",
       "      <td>16.20</td>\n",
       "    </tr>\n",
       "    <tr>\n",
       "      <th>0</th>\n",
       "      <td>Добавить два новых канала привлечения трафика, что позволит привлекать на 30% больше пользователей</td>\n",
       "      <td>3</td>\n",
       "      <td>10</td>\n",
       "      <td>8</td>\n",
       "      <td>6</td>\n",
       "      <td>13.33</td>\n",
       "    </tr>\n",
       "    <tr>\n",
       "      <th>7</th>\n",
       "      <td>Добавить форму подписки на все основные страницы, чтобы собрать базу клиентов для email-рассылок</td>\n",
       "      <td>10</td>\n",
       "      <td>7</td>\n",
       "      <td>8</td>\n",
       "      <td>5</td>\n",
       "      <td>11.20</td>\n",
       "    </tr>\n",
       "    <tr>\n",
       "      <th>6</th>\n",
       "      <td>Показать на главной странице баннеры с актуальными акциями и распродажами, чтобы увеличить конверсию</td>\n",
       "      <td>5</td>\n",
       "      <td>3</td>\n",
       "      <td>8</td>\n",
       "      <td>3</td>\n",
       "      <td>8.00</td>\n",
       "    </tr>\n",
       "    <tr>\n",
       "      <th>2</th>\n",
       "      <td>Добавить блоки рекомендаций товаров на сайт интернет магазина, чтобы повысить конверсию и средний чек заказа</td>\n",
       "      <td>8</td>\n",
       "      <td>3</td>\n",
       "      <td>7</td>\n",
       "      <td>3</td>\n",
       "      <td>7.00</td>\n",
       "    </tr>\n",
       "    <tr>\n",
       "      <th>1</th>\n",
       "      <td>Запустить собственную службу доставки, что сократит срок доставки заказов</td>\n",
       "      <td>2</td>\n",
       "      <td>5</td>\n",
       "      <td>4</td>\n",
       "      <td>10</td>\n",
       "      <td>2.00</td>\n",
       "    </tr>\n",
       "    <tr>\n",
       "      <th>5</th>\n",
       "      <td>Добавить страницу отзывов клиентов о магазине, что позволит увеличить количество заказов</td>\n",
       "      <td>3</td>\n",
       "      <td>2</td>\n",
       "      <td>2</td>\n",
       "      <td>3</td>\n",
       "      <td>1.33</td>\n",
       "    </tr>\n",
       "    <tr>\n",
       "      <th>3</th>\n",
       "      <td>Изменить структура категорий, что увеличит конверсию, т.к. пользователи быстрее найдут нужный товар</td>\n",
       "      <td>8</td>\n",
       "      <td>3</td>\n",
       "      <td>3</td>\n",
       "      <td>8</td>\n",
       "      <td>1.12</td>\n",
       "    </tr>\n",
       "    <tr>\n",
       "      <th>4</th>\n",
       "      <td>Изменить цвет фона главной страницы, чтобы увеличить вовлеченность пользователей</td>\n",
       "      <td>3</td>\n",
       "      <td>1</td>\n",
       "      <td>1</td>\n",
       "      <td>1</td>\n",
       "      <td>1.00</td>\n",
       "    </tr>\n",
       "  </tbody>\n",
       "</table>\n",
       "</div>"
      ],
      "text/plain": [
       "                                                                                                     hypothesis  \\\n",
       "8  Запустить акцию, дающую скидку на товар в день рождения                                                        \n",
       "0  Добавить два новых канала привлечения трафика, что позволит привлекать на 30% больше пользователей             \n",
       "7  Добавить форму подписки на все основные страницы, чтобы собрать базу клиентов для email-рассылок               \n",
       "6  Показать на главной странице баннеры с актуальными акциями и распродажами, чтобы увеличить конверсию           \n",
       "2  Добавить блоки рекомендаций товаров на сайт интернет магазина, чтобы повысить конверсию и средний чек заказа   \n",
       "1  Запустить собственную службу доставки, что сократит срок доставки заказов                                      \n",
       "5  Добавить страницу отзывов клиентов о магазине, что позволит увеличить количество заказов                       \n",
       "3  Изменить структура категорий, что увеличит конверсию, т.к. пользователи быстрее найдут нужный товар            \n",
       "4  Изменить цвет фона главной страницы, чтобы увеличить вовлеченность пользователей                               \n",
       "\n",
       "   reach  impact  confidence  efforts   ICE  \n",
       "8  1      9       9           5       16.20  \n",
       "0  3      10      8           6       13.33  \n",
       "7  10     7       8           5       11.20  \n",
       "6  5      3       8           3       8.00   \n",
       "2  8      3       7           3       7.00   \n",
       "1  2      5       4           10      2.00   \n",
       "5  3      2       2           3       1.33   \n",
       "3  8      3       3           8       1.12   \n",
       "4  3      1       1           1       1.00   "
      ]
     },
     "execution_count": 31,
     "metadata": {},
     "output_type": "execute_result"
    }
   ],
   "source": [
    "hypothesis['ICE'] = hypothesis['impact'] * hypothesis['confidence'] / hypothesis['efforts']\n",
    "hypothesis.sort_values(by='ICE', ascending = False)"
   ]
  },
  {
   "cell_type": "markdown",
   "metadata": {
    "id": "QdUaB_4WzLIj"
   },
   "source": [
    "### Cчитаем RICE.\n",
    "Примените фреймворк RICE для приоритизации гипотез. Отсортируйте их по убыванию приоритета.\n"
   ]
  },
  {
   "cell_type": "code",
   "execution_count": 32,
   "metadata": {
    "colab": {
     "base_uri": "https://localhost:8080/",
     "height": 332
    },
    "id": "G_HfVRAn284i",
    "outputId": "f88b7c3e-c608-4536-8f18-58529d21f09c"
   },
   "outputs": [
    {
     "data": {
      "text/html": [
       "<div>\n",
       "<style scoped>\n",
       "    .dataframe tbody tr th:only-of-type {\n",
       "        vertical-align: middle;\n",
       "    }\n",
       "\n",
       "    .dataframe tbody tr th {\n",
       "        vertical-align: top;\n",
       "    }\n",
       "\n",
       "    .dataframe thead th {\n",
       "        text-align: right;\n",
       "    }\n",
       "</style>\n",
       "<table border=\"1\" class=\"dataframe\">\n",
       "  <thead>\n",
       "    <tr style=\"text-align: right;\">\n",
       "      <th></th>\n",
       "      <th>hypothesis</th>\n",
       "      <th>reach</th>\n",
       "      <th>impact</th>\n",
       "      <th>confidence</th>\n",
       "      <th>efforts</th>\n",
       "      <th>ICE</th>\n",
       "      <th>RICE</th>\n",
       "    </tr>\n",
       "  </thead>\n",
       "  <tbody>\n",
       "    <tr>\n",
       "      <th>7</th>\n",
       "      <td>Добавить форму подписки на все основные страницы, чтобы собрать базу клиентов для email-рассылок</td>\n",
       "      <td>10</td>\n",
       "      <td>7</td>\n",
       "      <td>8</td>\n",
       "      <td>5</td>\n",
       "      <td>11.20</td>\n",
       "      <td>112.00</td>\n",
       "    </tr>\n",
       "    <tr>\n",
       "      <th>2</th>\n",
       "      <td>Добавить блоки рекомендаций товаров на сайт интернет магазина, чтобы повысить конверсию и средний чек заказа</td>\n",
       "      <td>8</td>\n",
       "      <td>3</td>\n",
       "      <td>7</td>\n",
       "      <td>3</td>\n",
       "      <td>7.00</td>\n",
       "      <td>56.00</td>\n",
       "    </tr>\n",
       "    <tr>\n",
       "      <th>0</th>\n",
       "      <td>Добавить два новых канала привлечения трафика, что позволит привлекать на 30% больше пользователей</td>\n",
       "      <td>3</td>\n",
       "      <td>10</td>\n",
       "      <td>8</td>\n",
       "      <td>6</td>\n",
       "      <td>13.33</td>\n",
       "      <td>40.00</td>\n",
       "    </tr>\n",
       "    <tr>\n",
       "      <th>6</th>\n",
       "      <td>Показать на главной странице баннеры с актуальными акциями и распродажами, чтобы увеличить конверсию</td>\n",
       "      <td>5</td>\n",
       "      <td>3</td>\n",
       "      <td>8</td>\n",
       "      <td>3</td>\n",
       "      <td>8.00</td>\n",
       "      <td>40.00</td>\n",
       "    </tr>\n",
       "    <tr>\n",
       "      <th>8</th>\n",
       "      <td>Запустить акцию, дающую скидку на товар в день рождения</td>\n",
       "      <td>1</td>\n",
       "      <td>9</td>\n",
       "      <td>9</td>\n",
       "      <td>5</td>\n",
       "      <td>16.20</td>\n",
       "      <td>16.20</td>\n",
       "    </tr>\n",
       "    <tr>\n",
       "      <th>3</th>\n",
       "      <td>Изменить структура категорий, что увеличит конверсию, т.к. пользователи быстрее найдут нужный товар</td>\n",
       "      <td>8</td>\n",
       "      <td>3</td>\n",
       "      <td>3</td>\n",
       "      <td>8</td>\n",
       "      <td>1.12</td>\n",
       "      <td>9.00</td>\n",
       "    </tr>\n",
       "    <tr>\n",
       "      <th>1</th>\n",
       "      <td>Запустить собственную службу доставки, что сократит срок доставки заказов</td>\n",
       "      <td>2</td>\n",
       "      <td>5</td>\n",
       "      <td>4</td>\n",
       "      <td>10</td>\n",
       "      <td>2.00</td>\n",
       "      <td>4.00</td>\n",
       "    </tr>\n",
       "    <tr>\n",
       "      <th>5</th>\n",
       "      <td>Добавить страницу отзывов клиентов о магазине, что позволит увеличить количество заказов</td>\n",
       "      <td>3</td>\n",
       "      <td>2</td>\n",
       "      <td>2</td>\n",
       "      <td>3</td>\n",
       "      <td>1.33</td>\n",
       "      <td>4.00</td>\n",
       "    </tr>\n",
       "    <tr>\n",
       "      <th>4</th>\n",
       "      <td>Изменить цвет фона главной страницы, чтобы увеличить вовлеченность пользователей</td>\n",
       "      <td>3</td>\n",
       "      <td>1</td>\n",
       "      <td>1</td>\n",
       "      <td>1</td>\n",
       "      <td>1.00</td>\n",
       "      <td>3.00</td>\n",
       "    </tr>\n",
       "  </tbody>\n",
       "</table>\n",
       "</div>"
      ],
      "text/plain": [
       "                                                                                                     hypothesis  \\\n",
       "7  Добавить форму подписки на все основные страницы, чтобы собрать базу клиентов для email-рассылок               \n",
       "2  Добавить блоки рекомендаций товаров на сайт интернет магазина, чтобы повысить конверсию и средний чек заказа   \n",
       "0  Добавить два новых канала привлечения трафика, что позволит привлекать на 30% больше пользователей             \n",
       "6  Показать на главной странице баннеры с актуальными акциями и распродажами, чтобы увеличить конверсию           \n",
       "8  Запустить акцию, дающую скидку на товар в день рождения                                                        \n",
       "3  Изменить структура категорий, что увеличит конверсию, т.к. пользователи быстрее найдут нужный товар            \n",
       "1  Запустить собственную службу доставки, что сократит срок доставки заказов                                      \n",
       "5  Добавить страницу отзывов клиентов о магазине, что позволит увеличить количество заказов                       \n",
       "4  Изменить цвет фона главной страницы, чтобы увеличить вовлеченность пользователей                               \n",
       "\n",
       "   reach  impact  confidence  efforts   ICE   RICE  \n",
       "7  10     7       8           5       11.20 112.00  \n",
       "2  8      3       7           3       7.00  56.00   \n",
       "0  3      10      8           6       13.33 40.00   \n",
       "6  5      3       8           3       8.00  40.00   \n",
       "8  1      9       9           5       16.20 16.20   \n",
       "3  8      3       3           8       1.12  9.00    \n",
       "1  2      5       4           10      2.00  4.00    \n",
       "5  3      2       2           3       1.33  4.00    \n",
       "4  3      1       1           1       1.00  3.00    "
      ]
     },
     "execution_count": 32,
     "metadata": {},
     "output_type": "execute_result"
    }
   ],
   "source": [
    "hypothesis['RICE'] = hypothesis['reach'] * hypothesis['impact'] * hypothesis['confidence'] / hypothesis['efforts']\n",
    "hypothesis.sort_values(by='RICE', ascending = False)"
   ]
  },
  {
   "cell_type": "markdown",
   "metadata": {
    "id": "FcUpWI2izNSW"
   },
   "source": [
    "### Cравниваем ICE и RICE.\n",
    "*Укажите, как изменилась приоритизация гипотез при применении RICE вместо ICE. Объясните, почему так произошло.*\n",
    "\n",
    "Как RICE изменил приоритеты в этом датасете:\n",
    "* увеличились приоритеты:\n",
    " * #7 (3 => 1) \"Добавить форму подписки на все основные страницы, чтобы собрать базу клиентов для email-рассылок\"\n",
    " * #2 (5 => 2) \"Добавить блоки рекомендаций товаров на сайт интернет магазина, чтобы повысить конверсию и средний чек заказа\"\n",
    "\n",
    "* уменьшились приоритеты:\n",
    " * #8 (1 => 5) \"Запустить акцию, дающую скидку на товар в день рождения\"\n",
    " * #0 (2 => 3) Добавить два новых канала привлечения трафика, что позволит привлекать на 30% больше пользователей.\n",
    "\n",
    "RICE отличается от ICE параметром Reach, т.е. охватом аудитории. Этот параметр важен, т.к. в А/B тестировании важно колчество испытуемых, поэтому RICE для AB-тестирования выглядит более интересным, чем ICE."
   ]
  },
  {
   "cell_type": "markdown",
   "metadata": {
    "id": "5sqUht1Cwbm4"
   },
   "source": [
    "### Выводы по разделу:"
   ]
  },
  {
   "cell_type": "markdown",
   "metadata": {
    "id": "dvYl1bx8w_mB"
   },
   "source": [
    "Поскольку для интернет магазина вероятно значимым является охват, то отдаём приоритет гипотезам:\n",
    "* 7\tДобавить форму подписки на все основные страницы, чтобы собрать базу клиентов для email-рассылок\n",
    "* 2\tДобавить блоки рекомендаций товаров на сайт интернет магазина, чтобы повысить конверсию и средний чек заказа\n",
    "* 0\tДобавить два новых канала привлечения трафика, что позволит привлекать на 30% больше пользователей"
   ]
  },
  {
   "cell_type": "markdown",
   "metadata": {
    "id": "68MpF9dVWrrv"
   },
   "source": [
    "<a id=\"step_3\"></a>\n",
    "## 3 = Часть 2. Анализ A/B-теста.\n",
    "[к оглавлению](#back)\n",
    "\n"
   ]
  },
  {
   "cell_type": "markdown",
   "metadata": {
    "id": "ApNpEfqYbEl-"
   },
   "source": [
    "### Описание данных. Данные для второй части\n",
    "Файл /datasets/orders.csv. Скачать датасет\n",
    "* `transactionId` — идентификатор заказа;\n",
    "* `visitorId` — идентификатор пользователя, совершившего заказ;\n",
    "* `date` — дата, когда был совершён заказ;\n",
    "* `revenue` — выручка заказа;\n",
    "* `group` — группа A/B-теста, в которую попал заказ.\n",
    "\n",
    "Файл /datasets/visitors.csv. Скачать датасет\n",
    "* `date` — дата;\n",
    "* `group` — группа A/B-теста;\n",
    "* `visitors` — количество пользователей в указанную дату в указанной группе A/B-теста"
   ]
  },
  {
   "cell_type": "markdown",
   "metadata": {
    "id": "WF6JBEqX7ZqG"
   },
   "source": [
    "Вы провели A/B-тест и получили результаты, которые описаны в файлах /datasets/orders.csv и /datasets/visitors.csv.\n",
    "\n",
    "**Задача для части 2: Проанализируйте A/B-тест**\n",
    "* Постройте график кумулятивной выручки по группам. Сделайте выводы и предположения.\n",
    "* Постройте график кумулятивного среднего чека по группам. Сделайте выводы и предположения.\n",
    "* Постройте график относительного изменения кумулятивного среднего чека группы B к группе A. Сделайте выводы и предположения.\n",
    "* Постройте график кумулятивной конверсии по группам. Сделайте выводы и предположения.\n",
    "* Постройте график относительного изменения кумулятивной конверсии группы B к группе A. Сделайте выводы и предположения.\n",
    "* Постройте точечный график количества заказов по пользователям. Сделайте выводы и предположения.\n",
    "* Посчитайте 95-й и 99-й перцентили количества заказов на пользователя. Выберите границу для определения аномальных пользователей.\n",
    "* Постройте точечный график стоимостей заказов. Сделайте выводы и предположения.\n",
    "* Посчитайте 95-й и 99-й перцентили стоимости заказов. Выберите границу для определения аномальных заказов.\n",
    "* Посчитайте статистическую значимость различий в конверсии между группами по «сырым» данным. Сделайте выводы и предположения.\n",
    "* Посчитайте статистическую значимость различий в среднем чеке заказа между группами по «сырым» данным. Сделайте выводы и предположения.\n",
    "* Посчитайте статистическую значимость различий в конверсии между группами по «очищенным» данным. Сделайте выводы и предположения.\n",
    "* Посчитайте статистическую значимость различий в среднем чеке заказа между группами по «очищенным» данным. Сделайте выводы и предположения.\n",
    "Примите решение по результатам теста и объясните его. Варианты решений: \n",
    " * 1. Остановить тест, зафиксировать победу одной из групп. \n",
    " * 2. Остановить тест, зафиксировать отсутствие различий между группами. \n",
    " * 3. Продолжить тест."
   ]
  },
  {
   "cell_type": "markdown",
   "metadata": {
    "id": "bFusgepoBQPJ"
   },
   "source": [
    "### Подготовка данных к анализу."
   ]
  },
  {
   "cell_type": "markdown",
   "metadata": {
    "id": "894Z7ZDoCrGf"
   },
   "source": [
    "Готовим таблицу, к которой будем присоединять данные в формате дата-группа."
   ]
  },
  {
   "cell_type": "code",
   "execution_count": 33,
   "metadata": {
    "colab": {
     "base_uri": "https://localhost:8080/",
     "height": 424
    },
    "id": "dV5DTmr0BTrr",
    "outputId": "b50c5eeb-ddbf-4657-cee4-1b426772a6e9"
   },
   "outputs": [
    {
     "data": {
      "text/html": [
       "<div>\n",
       "<style scoped>\n",
       "    .dataframe tbody tr th:only-of-type {\n",
       "        vertical-align: middle;\n",
       "    }\n",
       "\n",
       "    .dataframe tbody tr th {\n",
       "        vertical-align: top;\n",
       "    }\n",
       "\n",
       "    .dataframe thead th {\n",
       "        text-align: right;\n",
       "    }\n",
       "</style>\n",
       "<table border=\"1\" class=\"dataframe\">\n",
       "  <thead>\n",
       "    <tr style=\"text-align: right;\">\n",
       "      <th></th>\n",
       "      <th>date</th>\n",
       "      <th>group</th>\n",
       "    </tr>\n",
       "  </thead>\n",
       "  <tbody>\n",
       "    <tr>\n",
       "      <th>55</th>\n",
       "      <td>2019-08-01</td>\n",
       "      <td>A</td>\n",
       "    </tr>\n",
       "    <tr>\n",
       "      <th>66</th>\n",
       "      <td>2019-08-01</td>\n",
       "      <td>B</td>\n",
       "    </tr>\n",
       "    <tr>\n",
       "      <th>175</th>\n",
       "      <td>2019-08-02</td>\n",
       "      <td>A</td>\n",
       "    </tr>\n",
       "    <tr>\n",
       "      <th>173</th>\n",
       "      <td>2019-08-02</td>\n",
       "      <td>B</td>\n",
       "    </tr>\n",
       "    <tr>\n",
       "      <th>291</th>\n",
       "      <td>2019-08-03</td>\n",
       "      <td>A</td>\n",
       "    </tr>\n",
       "    <tr>\n",
       "      <th>...</th>\n",
       "      <td>...</td>\n",
       "      <td>...</td>\n",
       "    </tr>\n",
       "    <tr>\n",
       "      <th>533</th>\n",
       "      <td>2019-08-29</td>\n",
       "      <td>B</td>\n",
       "    </tr>\n",
       "    <tr>\n",
       "      <th>757</th>\n",
       "      <td>2019-08-30</td>\n",
       "      <td>A</td>\n",
       "    </tr>\n",
       "    <tr>\n",
       "      <th>690</th>\n",
       "      <td>2019-08-30</td>\n",
       "      <td>B</td>\n",
       "    </tr>\n",
       "    <tr>\n",
       "      <th>958</th>\n",
       "      <td>2019-08-31</td>\n",
       "      <td>A</td>\n",
       "    </tr>\n",
       "    <tr>\n",
       "      <th>930</th>\n",
       "      <td>2019-08-31</td>\n",
       "      <td>B</td>\n",
       "    </tr>\n",
       "  </tbody>\n",
       "</table>\n",
       "<p>62 rows × 2 columns</p>\n",
       "</div>"
      ],
      "text/plain": [
       "          date group\n",
       "55  2019-08-01  A   \n",
       "66  2019-08-01  B   \n",
       "175 2019-08-02  A   \n",
       "173 2019-08-02  B   \n",
       "291 2019-08-03  A   \n",
       "..         ... ..   \n",
       "533 2019-08-29  B   \n",
       "757 2019-08-30  A   \n",
       "690 2019-08-30  B   \n",
       "958 2019-08-31  A   \n",
       "930 2019-08-31  B   \n",
       "\n",
       "[62 rows x 2 columns]"
      ]
     },
     "execution_count": 33,
     "metadata": {},
     "output_type": "execute_result"
    }
   ],
   "source": [
    "datesGroups = orders[['date', 'group']].drop_duplicates().sort_values(by=['date', 'group'])\n",
    "datesGroups"
   ]
  },
  {
   "cell_type": "code",
   "execution_count": 34,
   "metadata": {
    "colab": {
     "base_uri": "https://localhost:8080/",
     "height": 424
    },
    "id": "QqHVV4EpB_VV",
    "outputId": "25451bee-b0a9-44f1-f91d-f045549daf26"
   },
   "outputs": [
    {
     "data": {
      "text/html": [
       "<div>\n",
       "<style scoped>\n",
       "    .dataframe tbody tr th:only-of-type {\n",
       "        vertical-align: middle;\n",
       "    }\n",
       "\n",
       "    .dataframe tbody tr th {\n",
       "        vertical-align: top;\n",
       "    }\n",
       "\n",
       "    .dataframe thead th {\n",
       "        text-align: right;\n",
       "    }\n",
       "</style>\n",
       "<table border=\"1\" class=\"dataframe\">\n",
       "  <thead>\n",
       "    <tr style=\"text-align: right;\">\n",
       "      <th></th>\n",
       "      <th>transaction_id</th>\n",
       "      <th>visitor_id</th>\n",
       "      <th>date</th>\n",
       "      <th>revenue</th>\n",
       "      <th>group</th>\n",
       "      <th>duplicated_a_b</th>\n",
       "      <th>duplicated_b_a</th>\n",
       "      <th>duplicated</th>\n",
       "    </tr>\n",
       "  </thead>\n",
       "  <tbody>\n",
       "    <tr>\n",
       "      <th>0</th>\n",
       "      <td>3667963787</td>\n",
       "      <td>3312258926</td>\n",
       "      <td>2019-08-15</td>\n",
       "      <td>1650</td>\n",
       "      <td>B</td>\n",
       "      <td>False</td>\n",
       "      <td>False</td>\n",
       "      <td>False</td>\n",
       "    </tr>\n",
       "    <tr>\n",
       "      <th>1</th>\n",
       "      <td>2804400009</td>\n",
       "      <td>3642806036</td>\n",
       "      <td>2019-08-15</td>\n",
       "      <td>730</td>\n",
       "      <td>B</td>\n",
       "      <td>False</td>\n",
       "      <td>False</td>\n",
       "      <td>False</td>\n",
       "    </tr>\n",
       "    <tr>\n",
       "      <th>3</th>\n",
       "      <td>3797467345</td>\n",
       "      <td>1196621759</td>\n",
       "      <td>2019-08-15</td>\n",
       "      <td>9759</td>\n",
       "      <td>B</td>\n",
       "      <td>False</td>\n",
       "      <td>False</td>\n",
       "      <td>False</td>\n",
       "    </tr>\n",
       "    <tr>\n",
       "      <th>4</th>\n",
       "      <td>2282983706</td>\n",
       "      <td>2322279887</td>\n",
       "      <td>2019-08-15</td>\n",
       "      <td>2308</td>\n",
       "      <td>B</td>\n",
       "      <td>False</td>\n",
       "      <td>False</td>\n",
       "      <td>False</td>\n",
       "    </tr>\n",
       "    <tr>\n",
       "      <th>5</th>\n",
       "      <td>182168103</td>\n",
       "      <td>935554773</td>\n",
       "      <td>2019-08-15</td>\n",
       "      <td>2210</td>\n",
       "      <td>B</td>\n",
       "      <td>False</td>\n",
       "      <td>False</td>\n",
       "      <td>False</td>\n",
       "    </tr>\n",
       "    <tr>\n",
       "      <th>...</th>\n",
       "      <td>...</td>\n",
       "      <td>...</td>\n",
       "      <td>...</td>\n",
       "      <td>...</td>\n",
       "      <td>...</td>\n",
       "      <td>...</td>\n",
       "      <td>...</td>\n",
       "      <td>...</td>\n",
       "    </tr>\n",
       "    <tr>\n",
       "      <th>1191</th>\n",
       "      <td>3592955527</td>\n",
       "      <td>608641596</td>\n",
       "      <td>2019-08-14</td>\n",
       "      <td>16490</td>\n",
       "      <td>B</td>\n",
       "      <td>False</td>\n",
       "      <td>False</td>\n",
       "      <td>False</td>\n",
       "    </tr>\n",
       "    <tr>\n",
       "      <th>1192</th>\n",
       "      <td>2662137336</td>\n",
       "      <td>3733762160</td>\n",
       "      <td>2019-08-14</td>\n",
       "      <td>6490</td>\n",
       "      <td>B</td>\n",
       "      <td>False</td>\n",
       "      <td>False</td>\n",
       "      <td>False</td>\n",
       "    </tr>\n",
       "    <tr>\n",
       "      <th>1193</th>\n",
       "      <td>2203539145</td>\n",
       "      <td>370388673</td>\n",
       "      <td>2019-08-14</td>\n",
       "      <td>3190</td>\n",
       "      <td>A</td>\n",
       "      <td>False</td>\n",
       "      <td>False</td>\n",
       "      <td>False</td>\n",
       "    </tr>\n",
       "    <tr>\n",
       "      <th>1194</th>\n",
       "      <td>1807773912</td>\n",
       "      <td>573423106</td>\n",
       "      <td>2019-08-14</td>\n",
       "      <td>10550</td>\n",
       "      <td>A</td>\n",
       "      <td>False</td>\n",
       "      <td>False</td>\n",
       "      <td>False</td>\n",
       "    </tr>\n",
       "    <tr>\n",
       "      <th>1196</th>\n",
       "      <td>3936777065</td>\n",
       "      <td>2108080724</td>\n",
       "      <td>2019-08-15</td>\n",
       "      <td>202740</td>\n",
       "      <td>B</td>\n",
       "      <td>False</td>\n",
       "      <td>False</td>\n",
       "      <td>False</td>\n",
       "    </tr>\n",
       "  </tbody>\n",
       "</table>\n",
       "<p>1016 rows × 8 columns</p>\n",
       "</div>"
      ],
      "text/plain": [
       "      transaction_id  visitor_id       date  revenue group  duplicated_a_b  \\\n",
       "0     3667963787      3312258926 2019-08-15  1650     B     False            \n",
       "1     2804400009      3642806036 2019-08-15  730      B     False            \n",
       "3     3797467345      1196621759 2019-08-15  9759     B     False            \n",
       "4     2282983706      2322279887 2019-08-15  2308     B     False            \n",
       "5     182168103       935554773  2019-08-15  2210     B     False            \n",
       "...         ...             ...         ...   ...    ..       ...            \n",
       "1191  3592955527      608641596  2019-08-14  16490    B     False            \n",
       "1192  2662137336      3733762160 2019-08-14  6490     B     False            \n",
       "1193  2203539145      370388673  2019-08-14  3190     A     False            \n",
       "1194  1807773912      573423106  2019-08-14  10550    A     False            \n",
       "1196  3936777065      2108080724 2019-08-15  202740   B     False            \n",
       "\n",
       "      duplicated_b_a  duplicated  \n",
       "0     False           False       \n",
       "1     False           False       \n",
       "3     False           False       \n",
       "4     False           False       \n",
       "5     False           False       \n",
       "...     ...             ...       \n",
       "1191  False           False       \n",
       "1192  False           False       \n",
       "1193  False           False       \n",
       "1194  False           False       \n",
       "1196  False           False       \n",
       "\n",
       "[1016 rows x 8 columns]"
      ]
     },
     "execution_count": 34,
     "metadata": {},
     "output_type": "execute_result"
    }
   ],
   "source": [
    "orders"
   ]
  },
  {
   "cell_type": "markdown",
   "metadata": {
    "id": "PzgUemASC3Tk"
   },
   "source": [
    "Присоединяем к таблице \"дата х группа\" сагрегированные данные по заказам."
   ]
  },
  {
   "cell_type": "code",
   "execution_count": 35,
   "metadata": {
    "colab": {
     "base_uri": "https://localhost:8080/",
     "height": 424
    },
    "id": "E2SNyaLVCOED",
    "outputId": "8cef6d18-98f0-4296-b5ef-58ca0c5ad5ed"
   },
   "outputs": [
    {
     "data": {
      "text/html": [
       "<div>\n",
       "<style scoped>\n",
       "    .dataframe tbody tr th:only-of-type {\n",
       "        vertical-align: middle;\n",
       "    }\n",
       "\n",
       "    .dataframe tbody tr th {\n",
       "        vertical-align: top;\n",
       "    }\n",
       "\n",
       "    .dataframe thead th {\n",
       "        text-align: right;\n",
       "    }\n",
       "</style>\n",
       "<table border=\"1\" class=\"dataframe\">\n",
       "  <thead>\n",
       "    <tr style=\"text-align: right;\">\n",
       "      <th></th>\n",
       "      <th>date</th>\n",
       "      <th>group</th>\n",
       "      <th>transaction_id</th>\n",
       "      <th>visitor_id</th>\n",
       "      <th>revenue</th>\n",
       "    </tr>\n",
       "  </thead>\n",
       "  <tbody>\n",
       "    <tr>\n",
       "      <th>55</th>\n",
       "      <td>2019-08-01</td>\n",
       "      <td>A</td>\n",
       "      <td>23</td>\n",
       "      <td>19</td>\n",
       "      <td>142779</td>\n",
       "    </tr>\n",
       "    <tr>\n",
       "      <th>66</th>\n",
       "      <td>2019-08-01</td>\n",
       "      <td>B</td>\n",
       "      <td>17</td>\n",
       "      <td>17</td>\n",
       "      <td>59758</td>\n",
       "    </tr>\n",
       "    <tr>\n",
       "      <th>175</th>\n",
       "      <td>2019-08-02</td>\n",
       "      <td>A</td>\n",
       "      <td>42</td>\n",
       "      <td>36</td>\n",
       "      <td>234381</td>\n",
       "    </tr>\n",
       "    <tr>\n",
       "      <th>173</th>\n",
       "      <td>2019-08-02</td>\n",
       "      <td>B</td>\n",
       "      <td>40</td>\n",
       "      <td>39</td>\n",
       "      <td>221801</td>\n",
       "    </tr>\n",
       "    <tr>\n",
       "      <th>291</th>\n",
       "      <td>2019-08-03</td>\n",
       "      <td>A</td>\n",
       "      <td>66</td>\n",
       "      <td>60</td>\n",
       "      <td>346854</td>\n",
       "    </tr>\n",
       "    <tr>\n",
       "      <th>...</th>\n",
       "      <td>...</td>\n",
       "      <td>...</td>\n",
       "      <td>...</td>\n",
       "      <td>...</td>\n",
       "      <td>...</td>\n",
       "    </tr>\n",
       "    <tr>\n",
       "      <th>533</th>\n",
       "      <td>2019-08-29</td>\n",
       "      <td>B</td>\n",
       "      <td>510</td>\n",
       "      <td>490</td>\n",
       "      <td>4746610</td>\n",
       "    </tr>\n",
       "    <tr>\n",
       "      <th>757</th>\n",
       "      <td>2019-08-30</td>\n",
       "      <td>A</td>\n",
       "      <td>460</td>\n",
       "      <td>437</td>\n",
       "      <td>3311413</td>\n",
       "    </tr>\n",
       "    <tr>\n",
       "      <th>690</th>\n",
       "      <td>2019-08-30</td>\n",
       "      <td>B</td>\n",
       "      <td>531</td>\n",
       "      <td>511</td>\n",
       "      <td>4955833</td>\n",
       "    </tr>\n",
       "    <tr>\n",
       "      <th>958</th>\n",
       "      <td>2019-08-31</td>\n",
       "      <td>A</td>\n",
       "      <td>468</td>\n",
       "      <td>445</td>\n",
       "      <td>3364656</td>\n",
       "    </tr>\n",
       "    <tr>\n",
       "      <th>930</th>\n",
       "      <td>2019-08-31</td>\n",
       "      <td>B</td>\n",
       "      <td>548</td>\n",
       "      <td>528</td>\n",
       "      <td>5068972</td>\n",
       "    </tr>\n",
       "  </tbody>\n",
       "</table>\n",
       "<p>62 rows × 5 columns</p>\n",
       "</div>"
      ],
      "text/plain": [
       "          date group  transaction_id  visitor_id  revenue\n",
       "55  2019-08-01  A     23              19          142779 \n",
       "66  2019-08-01  B     17              17          59758  \n",
       "175 2019-08-02  A     42              36          234381 \n",
       "173 2019-08-02  B     40              39          221801 \n",
       "291 2019-08-03  A     66              60          346854 \n",
       "..         ... ..     ..              ..             ... \n",
       "533 2019-08-29  B     510             490         4746610\n",
       "757 2019-08-30  A     460             437         3311413\n",
       "690 2019-08-30  B     531             511         4955833\n",
       "958 2019-08-31  A     468             445         3364656\n",
       "930 2019-08-31  B     548             528         5068972\n",
       "\n",
       "[62 rows x 5 columns]"
      ]
     },
     "execution_count": 35,
     "metadata": {},
     "output_type": "execute_result"
    }
   ],
   "source": [
    "ordersAggregated = datesGroups.apply(\n",
    "    lambda x: orders[np.logical_and(orders['date'] <= x['date'], orders['group'] == x['group'])]\n",
    "    .agg({\n",
    "        'date' : 'max', \n",
    "        'group' : 'max', \n",
    "        'transaction_id' : 'nunique', \n",
    "        'visitor_id' : 'nunique', \n",
    "        'revenue' : 'sum'\n",
    "        }), axis=1\n",
    ").sort_values(by=['date','group']) \n",
    "ordersAggregated"
   ]
  },
  {
   "cell_type": "markdown",
   "metadata": {
    "id": "3zd4JP7XDIRz"
   },
   "source": [
    "Присоединяем к таблице \"дата х группа х заказы\" саггрегированные данные по посетителям."
   ]
  },
  {
   "cell_type": "code",
   "execution_count": 36,
   "metadata": {
    "colab": {
     "base_uri": "https://localhost:8080/",
     "height": 424
    },
    "id": "z3d6eUoZDNCW",
    "outputId": "c9975592-0354-43b1-889d-3b67a989c5c9"
   },
   "outputs": [
    {
     "data": {
      "text/html": [
       "<div>\n",
       "<style scoped>\n",
       "    .dataframe tbody tr th:only-of-type {\n",
       "        vertical-align: middle;\n",
       "    }\n",
       "\n",
       "    .dataframe tbody tr th {\n",
       "        vertical-align: top;\n",
       "    }\n",
       "\n",
       "    .dataframe thead th {\n",
       "        text-align: right;\n",
       "    }\n",
       "</style>\n",
       "<table border=\"1\" class=\"dataframe\">\n",
       "  <thead>\n",
       "    <tr style=\"text-align: right;\">\n",
       "      <th></th>\n",
       "      <th>date</th>\n",
       "      <th>group</th>\n",
       "      <th>visitors</th>\n",
       "    </tr>\n",
       "  </thead>\n",
       "  <tbody>\n",
       "    <tr>\n",
       "      <th>55</th>\n",
       "      <td>2019-08-01</td>\n",
       "      <td>A</td>\n",
       "      <td>719</td>\n",
       "    </tr>\n",
       "    <tr>\n",
       "      <th>66</th>\n",
       "      <td>2019-08-01</td>\n",
       "      <td>B</td>\n",
       "      <td>713</td>\n",
       "    </tr>\n",
       "    <tr>\n",
       "      <th>175</th>\n",
       "      <td>2019-08-02</td>\n",
       "      <td>A</td>\n",
       "      <td>1338</td>\n",
       "    </tr>\n",
       "    <tr>\n",
       "      <th>173</th>\n",
       "      <td>2019-08-02</td>\n",
       "      <td>B</td>\n",
       "      <td>1294</td>\n",
       "    </tr>\n",
       "    <tr>\n",
       "      <th>291</th>\n",
       "      <td>2019-08-03</td>\n",
       "      <td>A</td>\n",
       "      <td>1845</td>\n",
       "    </tr>\n",
       "    <tr>\n",
       "      <th>...</th>\n",
       "      <td>...</td>\n",
       "      <td>...</td>\n",
       "      <td>...</td>\n",
       "    </tr>\n",
       "    <tr>\n",
       "      <th>533</th>\n",
       "      <td>2019-08-29</td>\n",
       "      <td>B</td>\n",
       "      <td>17708</td>\n",
       "    </tr>\n",
       "    <tr>\n",
       "      <th>757</th>\n",
       "      <td>2019-08-30</td>\n",
       "      <td>A</td>\n",
       "      <td>18037</td>\n",
       "    </tr>\n",
       "    <tr>\n",
       "      <th>690</th>\n",
       "      <td>2019-08-30</td>\n",
       "      <td>B</td>\n",
       "      <td>18198</td>\n",
       "    </tr>\n",
       "    <tr>\n",
       "      <th>958</th>\n",
       "      <td>2019-08-31</td>\n",
       "      <td>A</td>\n",
       "      <td>18736</td>\n",
       "    </tr>\n",
       "    <tr>\n",
       "      <th>930</th>\n",
       "      <td>2019-08-31</td>\n",
       "      <td>B</td>\n",
       "      <td>18916</td>\n",
       "    </tr>\n",
       "  </tbody>\n",
       "</table>\n",
       "<p>62 rows × 3 columns</p>\n",
       "</div>"
      ],
      "text/plain": [
       "          date group  visitors\n",
       "55  2019-08-01  A     719     \n",
       "66  2019-08-01  B     713     \n",
       "175 2019-08-02  A     1338    \n",
       "173 2019-08-02  B     1294    \n",
       "291 2019-08-03  A     1845    \n",
       "..         ... ..      ...    \n",
       "533 2019-08-29  B     17708   \n",
       "757 2019-08-30  A     18037   \n",
       "690 2019-08-30  B     18198   \n",
       "958 2019-08-31  A     18736   \n",
       "930 2019-08-31  B     18916   \n",
       "\n",
       "[62 rows x 3 columns]"
      ]
     },
     "execution_count": 36,
     "metadata": {},
     "output_type": "execute_result"
    }
   ],
   "source": [
    "visitorsAggregated = datesGroups.apply(\n",
    "    lambda x: visits[\n",
    "        np.logical_and(visits['date'] <= x['date'], \n",
    "                       visits['group'] == x['group'])]\n",
    "    .agg({\n",
    "        'date' : 'max', \n",
    "        'group' : 'max', \n",
    "        'visitors' : 'sum'\n",
    "    }), axis=1).sort_values(by=['date','group']) \n",
    "\n",
    "visitorsAggregated"
   ]
  },
  {
   "cell_type": "markdown",
   "metadata": {
    "id": "-1Z1j6P_EWZ7"
   },
   "source": [
    "Собираем данные в одну таблицу для дальнейшего анализа:"
   ]
  },
  {
   "cell_type": "code",
   "execution_count": 37,
   "metadata": {
    "colab": {
     "base_uri": "https://localhost:8080/",
     "height": 424
    },
    "id": "o7qxXNT7EcHS",
    "outputId": "0baed192-c3e9-4424-ecb7-c9e451893eba"
   },
   "outputs": [
    {
     "data": {
      "text/html": [
       "<div>\n",
       "<style scoped>\n",
       "    .dataframe tbody tr th:only-of-type {\n",
       "        vertical-align: middle;\n",
       "    }\n",
       "\n",
       "    .dataframe tbody tr th {\n",
       "        vertical-align: top;\n",
       "    }\n",
       "\n",
       "    .dataframe thead th {\n",
       "        text-align: right;\n",
       "    }\n",
       "</style>\n",
       "<table border=\"1\" class=\"dataframe\">\n",
       "  <thead>\n",
       "    <tr style=\"text-align: right;\">\n",
       "      <th></th>\n",
       "      <th>date</th>\n",
       "      <th>group</th>\n",
       "      <th>orders</th>\n",
       "      <th>buyers</th>\n",
       "      <th>revenue</th>\n",
       "      <th>visitors</th>\n",
       "    </tr>\n",
       "  </thead>\n",
       "  <tbody>\n",
       "    <tr>\n",
       "      <th>0</th>\n",
       "      <td>2019-08-01</td>\n",
       "      <td>A</td>\n",
       "      <td>23</td>\n",
       "      <td>19</td>\n",
       "      <td>142779</td>\n",
       "      <td>719</td>\n",
       "    </tr>\n",
       "    <tr>\n",
       "      <th>1</th>\n",
       "      <td>2019-08-01</td>\n",
       "      <td>B</td>\n",
       "      <td>17</td>\n",
       "      <td>17</td>\n",
       "      <td>59758</td>\n",
       "      <td>713</td>\n",
       "    </tr>\n",
       "    <tr>\n",
       "      <th>2</th>\n",
       "      <td>2019-08-02</td>\n",
       "      <td>A</td>\n",
       "      <td>42</td>\n",
       "      <td>36</td>\n",
       "      <td>234381</td>\n",
       "      <td>1338</td>\n",
       "    </tr>\n",
       "    <tr>\n",
       "      <th>3</th>\n",
       "      <td>2019-08-02</td>\n",
       "      <td>B</td>\n",
       "      <td>40</td>\n",
       "      <td>39</td>\n",
       "      <td>221801</td>\n",
       "      <td>1294</td>\n",
       "    </tr>\n",
       "    <tr>\n",
       "      <th>4</th>\n",
       "      <td>2019-08-03</td>\n",
       "      <td>A</td>\n",
       "      <td>66</td>\n",
       "      <td>60</td>\n",
       "      <td>346854</td>\n",
       "      <td>1845</td>\n",
       "    </tr>\n",
       "    <tr>\n",
       "      <th>...</th>\n",
       "      <td>...</td>\n",
       "      <td>...</td>\n",
       "      <td>...</td>\n",
       "      <td>...</td>\n",
       "      <td>...</td>\n",
       "      <td>...</td>\n",
       "    </tr>\n",
       "    <tr>\n",
       "      <th>57</th>\n",
       "      <td>2019-08-29</td>\n",
       "      <td>B</td>\n",
       "      <td>510</td>\n",
       "      <td>490</td>\n",
       "      <td>4746610</td>\n",
       "      <td>17708</td>\n",
       "    </tr>\n",
       "    <tr>\n",
       "      <th>58</th>\n",
       "      <td>2019-08-30</td>\n",
       "      <td>A</td>\n",
       "      <td>460</td>\n",
       "      <td>437</td>\n",
       "      <td>3311413</td>\n",
       "      <td>18037</td>\n",
       "    </tr>\n",
       "    <tr>\n",
       "      <th>59</th>\n",
       "      <td>2019-08-30</td>\n",
       "      <td>B</td>\n",
       "      <td>531</td>\n",
       "      <td>511</td>\n",
       "      <td>4955833</td>\n",
       "      <td>18198</td>\n",
       "    </tr>\n",
       "    <tr>\n",
       "      <th>60</th>\n",
       "      <td>2019-08-31</td>\n",
       "      <td>A</td>\n",
       "      <td>468</td>\n",
       "      <td>445</td>\n",
       "      <td>3364656</td>\n",
       "      <td>18736</td>\n",
       "    </tr>\n",
       "    <tr>\n",
       "      <th>61</th>\n",
       "      <td>2019-08-31</td>\n",
       "      <td>B</td>\n",
       "      <td>548</td>\n",
       "      <td>528</td>\n",
       "      <td>5068972</td>\n",
       "      <td>18916</td>\n",
       "    </tr>\n",
       "  </tbody>\n",
       "</table>\n",
       "<p>62 rows × 6 columns</p>\n",
       "</div>"
      ],
      "text/plain": [
       "         date group  orders  buyers  revenue  visitors\n",
       "0  2019-08-01  A     23      19      142779   719     \n",
       "1  2019-08-01  B     17      17      59758    713     \n",
       "2  2019-08-02  A     42      36      234381   1338    \n",
       "3  2019-08-02  B     40      39      221801   1294    \n",
       "4  2019-08-03  A     66      60      346854   1845    \n",
       "..        ... ..     ..      ..         ...    ...    \n",
       "57 2019-08-29  B     510     490     4746610  17708   \n",
       "58 2019-08-30  A     460     437     3311413  18037   \n",
       "59 2019-08-30  B     531     511     4955833  18198   \n",
       "60 2019-08-31  A     468     445     3364656  18736   \n",
       "61 2019-08-31  B     548     528     5068972  18916   \n",
       "\n",
       "[62 rows x 6 columns]"
      ]
     },
     "execution_count": 37,
     "metadata": {},
     "output_type": "execute_result"
    }
   ],
   "source": [
    "cumulativeData = ordersAggregated.merge(\n",
    "    visitorsAggregated, \n",
    "    left_on=['date', 'group'], \n",
    "    right_on=['date', 'group']\n",
    ")\n",
    "\n",
    "cumulativeData.columns = [\n",
    "    'date', \n",
    "    'group', \n",
    "    'orders', \n",
    "    'buyers', \n",
    "    'revenue', \n",
    "    'visitors'\n",
    "]\n",
    "\n",
    "cumulativeData"
   ]
  },
  {
   "cell_type": "markdown",
   "metadata": {
    "id": "kmKUBOUY7tWd"
   },
   "source": [
    "### Кумулятивная выручка по группам.\n",
    "*Постройте график кумулятивной выручки по группам.* \n"
   ]
  },
  {
   "cell_type": "code",
   "execution_count": 38,
   "metadata": {
    "colab": {
     "base_uri": "https://localhost:8080/",
     "height": 386
    },
    "id": "caq07yehFX-3",
    "outputId": "fa27694b-f20b-4656-80f4-f0fa63d1c4d4"
   },
   "outputs": [
    {
     "data": {
      "image/png": "[encoded data removed]",
      "text/plain": [
       "<Figure size 1200x480 with 1 Axes>"
      ]
     },
     "metadata": {
      "needs_background": "light"
     },
     "output_type": "display_data"
    }
   ],
   "source": [
    "# датафрейм с кумулятивным количеством заказов и кумулятивной выручкой по дням в группе А\n",
    "cumulativeRevenueA = cumulativeData[cumulativeData['group']=='A'][['date','revenue', 'orders']]\n",
    "\n",
    "# датафрейм с кумулятивным количеством заказов и кумулятивной выручкой по дням в группе B\n",
    "cumulativeRevenueB = cumulativeData[cumulativeData['group']=='B'][['date','revenue', 'orders']]\n",
    "\n",
    "figure(figsize=(15, 6), dpi=80)\n",
    "\n",
    "# Строим график выручки группы А\n",
    "plt.plot(cumulativeRevenueA['date'], cumulativeRevenueA['revenue'], label='A')\n",
    "\n",
    "# Строим график выручки группы B\n",
    "plt.plot(cumulativeRevenueB['date'], cumulativeRevenueB['revenue'], label='B')\n",
    "\n",
    "plt.grid() \n",
    "plt.legend() \n",
    "plt.title('Кумулятивная выручка по группам, млн. у.е.')\n",
    "plt.xlabel('Дата')\n",
    "plt.ylabel('млн. ед')\n",
    "plt.show() "
   ]
  },
  {
   "cell_type": "markdown",
   "metadata": {
    "id": "MoBk3XZ_8G_Q"
   },
   "source": [
    "*Сделайте выводы и предположения.*"
   ]
  },
  {
   "cell_type": "markdown",
   "metadata": {
    "id": "9HGPXuSPGj7X"
   },
   "source": [
    "- графики выручки относительно равномерно растут, как и должно быть для нормального процесса продаж. \n",
    "- для группы В в районе 18-19 августа есть выброс, когда выручка резко увеличилась почти на миллион за один день. Вероятно, это был один или несколько очень дорогих заказов. Прверим это дальше.\n",
    "- говорить о различии в выручке здесь нельзя из-за выброса. Для этого нужно продложить исследование.  "
   ]
  },
  {
   "cell_type": "markdown",
   "metadata": {
    "id": "3z6X7L5k8MNv"
   },
   "source": [
    "### Кумулятивный средний чек по группам."
   ]
  },
  {
   "cell_type": "markdown",
   "metadata": {
    "id": "MCghN0EY7upY"
   },
   "source": [
    "*Постройте график кумулятивного среднего чека по группам.* \n"
   ]
  },
  {
   "cell_type": "code",
   "execution_count": 39,
   "metadata": {
    "colab": {
     "base_uri": "https://localhost:8080/",
     "height": 375
    },
    "id": "wH4zA3sMGELl",
    "outputId": "5e194d2f-5985-4d07-d0b1-c00f25b88908"
   },
   "outputs": [
    {
     "data": {
      "image/png": "[encoded data removed]",
      "text/plain": [
       "<Figure size 1200x480 with 1 Axes>"
      ]
     },
     "metadata": {
      "needs_background": "light"
     },
     "output_type": "display_data"
    }
   ],
   "source": [
    "figure(figsize=(15, 6), dpi=80)\n",
    "\n",
    "plt.plot(\n",
    "    cumulativeRevenueA['date'], \n",
    "    cumulativeRevenueA['revenue']/\n",
    "    cumulativeRevenueA['orders'], \n",
    "    label='A')\n",
    "plt.plot(\n",
    "    cumulativeRevenueB['date'], \n",
    "    cumulativeRevenueB['revenue']/\n",
    "    cumulativeRevenueB['orders'], \n",
    "    label='B')\n",
    "\n",
    "plt.grid() \n",
    "plt.legend() \n",
    "plt.title('Кумулятивная выручка по группам.')\n",
    "plt.xlabel('Время')\n",
    "plt.ylabel('ед.')\n",
    "plt.show() "
   ]
  },
  {
   "cell_type": "markdown",
   "metadata": {
    "id": "vRane6St8UdW"
   },
   "source": [
    "*Сделайте выводы и предположения.*\n"
   ]
  },
  {
   "cell_type": "markdown",
   "metadata": {
    "id": "eY4ARcY5I656"
   },
   "source": [
    "- первые несколько дней средний чек достаточно сильно штормит, после чего они выравниваются, потом происходит выброс 18-19 августа для среднего чека группы В, \n",
    "- к концу теста средний чек группы А растёт, а группы В - падает, поэтому сказать, что из них лучше по этому графику нельзя. Нужно исследовать дальше. "
   ]
  },
  {
   "cell_type": "markdown",
   "metadata": {},
   "source": [
    "<div class=\"alert alert-success\">\n",
    "    <b>✅ Комментарий ревьюера:</b>\n",
    "\n",
    "Все верно, средний чек группы В еще не стабилизировался.\n",
    "</div>"
   ]
  },
  {
   "cell_type": "markdown",
   "metadata": {
    "id": "sVrc6kyk8XKx"
   },
   "source": [
    "### Относительное изменение кумулятивного среднего чека группы B к группе A."
   ]
  },
  {
   "cell_type": "markdown",
   "metadata": {
    "id": "1oo6maN67v6W"
   },
   "source": [
    "*Постройте график относительного изменения кумулятивного среднего чека группы B к группе A.*"
   ]
  },
  {
   "cell_type": "code",
   "execution_count": 40,
   "metadata": {
    "colab": {
     "base_uri": "https://localhost:8080/",
     "height": 418
    },
    "id": "vO4Nrm3lGZ7E",
    "outputId": "c623c8a2-27de-4c51-fb75-d8394f8aa078"
   },
   "outputs": [
    {
     "data": {
      "image/png": "[encoded data removed]",
      "text/plain": [
       "<Figure size 800x400 with 1 Axes>"
      ]
     },
     "metadata": {
      "needs_background": "light"
     },
     "output_type": "display_data"
    }
   ],
   "source": [
    "# собираем данные в одном датафрейме\n",
    "mergedCumulativeRevenue = cumulativeRevenueA.merge(\n",
    "    cumulativeRevenueB, \n",
    "    left_on='date', \n",
    "    right_on='date', \n",
    "    how='left', \n",
    "    suffixes=['A', 'B']\n",
    "    )\n",
    "\n",
    "def cum_avg_revenue_per_user():\n",
    "    figure(figsize=(10, 5), dpi=80)\n",
    "    \n",
    "    # cтроим отношение средних чеков\n",
    "    plt.plot(mergedCumulativeRevenue['date'], \n",
    "            (mergedCumulativeRevenue['revenueB']/mergedCumulativeRevenue['ordersB'])\n",
    "            /\n",
    "            (mergedCumulativeRevenue['revenueA']/mergedCumulativeRevenue['ordersA'])\n",
    "            -1\n",
    "            )\n",
    "\n",
    "    # добавляем ось X\n",
    "    plt.axhline(y=0, color='black', linestyle='--')\n",
    "\n",
    "    plt.grid() \n",
    "    plt.title('Относительное изменение кумулятивного среднего чека группы B к группе A.')\n",
    "    plt.xlabel('Время')\n",
    "    plt.ylabel('ед.')\n",
    "    plt.show() \n",
    "\n",
    "    return True\n",
    "\n",
    "cum_avg_revenue_per_user()\n",
    "None"
   ]
  },
  {
   "cell_type": "markdown",
   "metadata": {
    "id": "KiQpWnYr8dy5"
   },
   "source": [
    "*Сделайте выводы и предположения.*"
   ]
  },
  {
   "cell_type": "markdown",
   "metadata": {
    "id": "Q5v7F7nKK8y_"
   },
   "source": [
    "- как и по предыдущему графику делать выводы нельзя из-за выбросов. Есть подозрение, что отношение кумулятивных конверсий оказжется ниже после того, как убрать выбросы."
   ]
  },
  {
   "cell_type": "markdown",
   "metadata": {
    "id": "5LbOrHwJ7wyB"
   },
   "source": [
    "### Кумулятивная конверсия (сумма количества заказов на сумму количества посетителей) по группам."
   ]
  },
  {
   "cell_type": "markdown",
   "metadata": {
    "id": "KKlCxG_T8qBo"
   },
   "source": [
    "\n",
    "*Постройте график кумулятивной конверсии по группам.*"
   ]
  },
  {
   "cell_type": "code",
   "execution_count": 41,
   "metadata": {
    "colab": {
     "base_uri": "https://localhost:8080/",
     "height": 383
    },
    "id": "qs--I3MiG2a8",
    "outputId": "b182d033-11e7-4bed-a691-83cff15185ee"
   },
   "outputs": [
    {
     "data": {
      "image/png": "[encoded data removed]",
      "text/plain": [
       "<Figure size 800x400 with 1 Axes>"
      ]
     },
     "metadata": {
      "needs_background": "light"
     },
     "output_type": "display_data"
    }
   ],
   "source": [
    "figure(figsize=(10, 5), dpi=80)\n",
    "\n",
    "# считаем кумулятивную конверсию\n",
    "cumulativeData['conversion'] = cumulativeData['orders']/cumulativeData['visitors']\n",
    "\n",
    "# отделяем данные по группе A\n",
    "cumulativeDataA = cumulativeData[cumulativeData['group']=='A']\n",
    "\n",
    "# отделяем данные по группе B\n",
    "cumulativeDataB = cumulativeData[cumulativeData['group']=='B']\n",
    "\n",
    "# строим графики\n",
    "plt.plot(cumulativeDataA['date'], cumulativeDataA['conversion'], label='A')\n",
    "plt.plot(cumulativeDataB['date'], cumulativeDataB['conversion'], label='B')\n",
    "plt.legend()\n",
    "\n",
    "# задаем масштаб осей\n",
    "plt.axis([dt.datetime(2019, 8, 1), dt.datetime(2019, 8, 31), 0.024, 0.036])\n",
    "\n",
    "plt.grid() \n",
    "plt.legend() \n",
    "plt.title('Кумулятивная конверсия (сумма к-ва заказов на сумму к-ва посетителей) по группам.')\n",
    "plt.xlabel('Время')\n",
    "plt.ylabel('ед.')\n",
    "plt.show() "
   ]
  },
  {
   "cell_type": "code",
   "execution_count": 42,
   "metadata": {
    "colab": {
     "base_uri": "https://localhost:8080/",
     "height": 1000
    },
    "id": "6NcQQh_Mmf-k",
    "outputId": "665d4142-6e06-40aa-8116-1b81e3b2ea6e"
   },
   "outputs": [
    {
     "data": {
      "text/html": [
       "<div>\n",
       "<style scoped>\n",
       "    .dataframe tbody tr th:only-of-type {\n",
       "        vertical-align: middle;\n",
       "    }\n",
       "\n",
       "    .dataframe tbody tr th {\n",
       "        vertical-align: top;\n",
       "    }\n",
       "\n",
       "    .dataframe thead th {\n",
       "        text-align: right;\n",
       "    }\n",
       "</style>\n",
       "<table border=\"1\" class=\"dataframe\">\n",
       "  <thead>\n",
       "    <tr style=\"text-align: right;\">\n",
       "      <th></th>\n",
       "      <th>date</th>\n",
       "      <th>group</th>\n",
       "      <th>orders</th>\n",
       "      <th>buyers</th>\n",
       "      <th>revenue</th>\n",
       "      <th>visitors</th>\n",
       "      <th>conversion</th>\n",
       "    </tr>\n",
       "  </thead>\n",
       "  <tbody>\n",
       "    <tr>\n",
       "      <th>0</th>\n",
       "      <td>2019-08-01</td>\n",
       "      <td>A</td>\n",
       "      <td>23</td>\n",
       "      <td>19</td>\n",
       "      <td>142779</td>\n",
       "      <td>719</td>\n",
       "      <td>0.03</td>\n",
       "    </tr>\n",
       "    <tr>\n",
       "      <th>2</th>\n",
       "      <td>2019-08-02</td>\n",
       "      <td>A</td>\n",
       "      <td>42</td>\n",
       "      <td>36</td>\n",
       "      <td>234381</td>\n",
       "      <td>1338</td>\n",
       "      <td>0.03</td>\n",
       "    </tr>\n",
       "    <tr>\n",
       "      <th>4</th>\n",
       "      <td>2019-08-03</td>\n",
       "      <td>A</td>\n",
       "      <td>66</td>\n",
       "      <td>60</td>\n",
       "      <td>346854</td>\n",
       "      <td>1845</td>\n",
       "      <td>0.04</td>\n",
       "    </tr>\n",
       "    <tr>\n",
       "      <th>6</th>\n",
       "      <td>2019-08-04</td>\n",
       "      <td>A</td>\n",
       "      <td>77</td>\n",
       "      <td>71</td>\n",
       "      <td>388030</td>\n",
       "      <td>2562</td>\n",
       "      <td>0.03</td>\n",
       "    </tr>\n",
       "    <tr>\n",
       "      <th>8</th>\n",
       "      <td>2019-08-05</td>\n",
       "      <td>A</td>\n",
       "      <td>99</td>\n",
       "      <td>92</td>\n",
       "      <td>474413</td>\n",
       "      <td>3318</td>\n",
       "      <td>0.03</td>\n",
       "    </tr>\n",
       "    <tr>\n",
       "      <th>10</th>\n",
       "      <td>2019-08-06</td>\n",
       "      <td>A</td>\n",
       "      <td>114</td>\n",
       "      <td>104</td>\n",
       "      <td>515332</td>\n",
       "      <td>3985</td>\n",
       "      <td>0.03</td>\n",
       "    </tr>\n",
       "    <tr>\n",
       "      <th>12</th>\n",
       "      <td>2019-08-07</td>\n",
       "      <td>A</td>\n",
       "      <td>130</td>\n",
       "      <td>120</td>\n",
       "      <td>638580</td>\n",
       "      <td>4629</td>\n",
       "      <td>0.03</td>\n",
       "    </tr>\n",
       "    <tr>\n",
       "      <th>14</th>\n",
       "      <td>2019-08-08</td>\n",
       "      <td>A</td>\n",
       "      <td>144</td>\n",
       "      <td>133</td>\n",
       "      <td>727219</td>\n",
       "      <td>5239</td>\n",
       "      <td>0.03</td>\n",
       "    </tr>\n",
       "    <tr>\n",
       "      <th>16</th>\n",
       "      <td>2019-08-09</td>\n",
       "      <td>A</td>\n",
       "      <td>155</td>\n",
       "      <td>143</td>\n",
       "      <td>861456</td>\n",
       "      <td>5856</td>\n",
       "      <td>0.03</td>\n",
       "    </tr>\n",
       "    <tr>\n",
       "      <th>18</th>\n",
       "      <td>2019-08-10</td>\n",
       "      <td>A</td>\n",
       "      <td>170</td>\n",
       "      <td>158</td>\n",
       "      <td>1013731</td>\n",
       "      <td>6262</td>\n",
       "      <td>0.03</td>\n",
       "    </tr>\n",
       "    <tr>\n",
       "      <th>20</th>\n",
       "      <td>2019-08-11</td>\n",
       "      <td>A</td>\n",
       "      <td>181</td>\n",
       "      <td>169</td>\n",
       "      <td>1074396</td>\n",
       "      <td>6980</td>\n",
       "      <td>0.03</td>\n",
       "    </tr>\n",
       "    <tr>\n",
       "      <th>22</th>\n",
       "      <td>2019-08-12</td>\n",
       "      <td>A</td>\n",
       "      <td>200</td>\n",
       "      <td>188</td>\n",
       "      <td>1294788</td>\n",
       "      <td>7575</td>\n",
       "      <td>0.03</td>\n",
       "    </tr>\n",
       "    <tr>\n",
       "      <th>24</th>\n",
       "      <td>2019-08-13</td>\n",
       "      <td>A</td>\n",
       "      <td>214</td>\n",
       "      <td>201</td>\n",
       "      <td>1558426</td>\n",
       "      <td>8323</td>\n",
       "      <td>0.03</td>\n",
       "    </tr>\n",
       "    <tr>\n",
       "      <th>26</th>\n",
       "      <td>2019-08-14</td>\n",
       "      <td>A</td>\n",
       "      <td>231</td>\n",
       "      <td>218</td>\n",
       "      <td>1601692</td>\n",
       "      <td>9058</td>\n",
       "      <td>0.03</td>\n",
       "    </tr>\n",
       "    <tr>\n",
       "      <th>28</th>\n",
       "      <td>2019-08-15</td>\n",
       "      <td>A</td>\n",
       "      <td>241</td>\n",
       "      <td>228</td>\n",
       "      <td>1682569</td>\n",
       "      <td>9686</td>\n",
       "      <td>0.02</td>\n",
       "    </tr>\n",
       "    <tr>\n",
       "      <th>30</th>\n",
       "      <td>2019-08-16</td>\n",
       "      <td>A</td>\n",
       "      <td>259</td>\n",
       "      <td>246</td>\n",
       "      <td>1782420</td>\n",
       "      <td>10047</td>\n",
       "      <td>0.03</td>\n",
       "    </tr>\n",
       "    <tr>\n",
       "      <th>32</th>\n",
       "      <td>2019-08-17</td>\n",
       "      <td>A</td>\n",
       "      <td>265</td>\n",
       "      <td>251</td>\n",
       "      <td>1817160</td>\n",
       "      <td>10459</td>\n",
       "      <td>0.03</td>\n",
       "    </tr>\n",
       "    <tr>\n",
       "      <th>34</th>\n",
       "      <td>2019-08-18</td>\n",
       "      <td>A</td>\n",
       "      <td>278</td>\n",
       "      <td>264</td>\n",
       "      <td>1876741</td>\n",
       "      <td>11127</td>\n",
       "      <td>0.02</td>\n",
       "    </tr>\n",
       "    <tr>\n",
       "      <th>36</th>\n",
       "      <td>2019-08-19</td>\n",
       "      <td>A</td>\n",
       "      <td>299</td>\n",
       "      <td>283</td>\n",
       "      <td>2044934</td>\n",
       "      <td>11629</td>\n",
       "      <td>0.03</td>\n",
       "    </tr>\n",
       "    <tr>\n",
       "      <th>38</th>\n",
       "      <td>2019-08-20</td>\n",
       "      <td>A</td>\n",
       "      <td>309</td>\n",
       "      <td>293</td>\n",
       "      <td>2103613</td>\n",
       "      <td>12204</td>\n",
       "      <td>0.03</td>\n",
       "    </tr>\n",
       "    <tr>\n",
       "      <th>40</th>\n",
       "      <td>2019-08-21</td>\n",
       "      <td>A</td>\n",
       "      <td>329</td>\n",
       "      <td>311</td>\n",
       "      <td>2273782</td>\n",
       "      <td>12850</td>\n",
       "      <td>0.03</td>\n",
       "    </tr>\n",
       "    <tr>\n",
       "      <th>42</th>\n",
       "      <td>2019-08-22</td>\n",
       "      <td>A</td>\n",
       "      <td>339</td>\n",
       "      <td>321</td>\n",
       "      <td>2366147</td>\n",
       "      <td>13459</td>\n",
       "      <td>0.03</td>\n",
       "    </tr>\n",
       "    <tr>\n",
       "      <th>44</th>\n",
       "      <td>2019-08-23</td>\n",
       "      <td>A</td>\n",
       "      <td>359</td>\n",
       "      <td>341</td>\n",
       "      <td>2424010</td>\n",
       "      <td>13927</td>\n",
       "      <td>0.03</td>\n",
       "    </tr>\n",
       "    <tr>\n",
       "      <th>46</th>\n",
       "      <td>2019-08-24</td>\n",
       "      <td>A</td>\n",
       "      <td>372</td>\n",
       "      <td>354</td>\n",
       "      <td>2546023</td>\n",
       "      <td>14322</td>\n",
       "      <td>0.03</td>\n",
       "    </tr>\n",
       "    <tr>\n",
       "      <th>48</th>\n",
       "      <td>2019-08-25</td>\n",
       "      <td>A</td>\n",
       "      <td>380</td>\n",
       "      <td>362</td>\n",
       "      <td>2597907</td>\n",
       "      <td>14943</td>\n",
       "      <td>0.03</td>\n",
       "    </tr>\n",
       "    <tr>\n",
       "      <th>50</th>\n",
       "      <td>2019-08-26</td>\n",
       "      <td>A</td>\n",
       "      <td>396</td>\n",
       "      <td>378</td>\n",
       "      <td>2755121</td>\n",
       "      <td>15665</td>\n",
       "      <td>0.03</td>\n",
       "    </tr>\n",
       "    <tr>\n",
       "      <th>52</th>\n",
       "      <td>2019-08-27</td>\n",
       "      <td>A</td>\n",
       "      <td>419</td>\n",
       "      <td>400</td>\n",
       "      <td>2940471</td>\n",
       "      <td>16376</td>\n",
       "      <td>0.03</td>\n",
       "    </tr>\n",
       "    <tr>\n",
       "      <th>54</th>\n",
       "      <td>2019-08-28</td>\n",
       "      <td>A</td>\n",
       "      <td>434</td>\n",
       "      <td>413</td>\n",
       "      <td>3036933</td>\n",
       "      <td>16970</td>\n",
       "      <td>0.03</td>\n",
       "    </tr>\n",
       "    <tr>\n",
       "      <th>56</th>\n",
       "      <td>2019-08-29</td>\n",
       "      <td>A</td>\n",
       "      <td>451</td>\n",
       "      <td>430</td>\n",
       "      <td>3233233</td>\n",
       "      <td>17547</td>\n",
       "      <td>0.03</td>\n",
       "    </tr>\n",
       "    <tr>\n",
       "      <th>58</th>\n",
       "      <td>2019-08-30</td>\n",
       "      <td>A</td>\n",
       "      <td>460</td>\n",
       "      <td>437</td>\n",
       "      <td>3311413</td>\n",
       "      <td>18037</td>\n",
       "      <td>0.03</td>\n",
       "    </tr>\n",
       "    <tr>\n",
       "      <th>60</th>\n",
       "      <td>2019-08-31</td>\n",
       "      <td>A</td>\n",
       "      <td>468</td>\n",
       "      <td>445</td>\n",
       "      <td>3364656</td>\n",
       "      <td>18736</td>\n",
       "      <td>0.02</td>\n",
       "    </tr>\n",
       "  </tbody>\n",
       "</table>\n",
       "</div>"
      ],
      "text/plain": [
       "         date group  orders  buyers  revenue  visitors  conversion\n",
       "0  2019-08-01  A     23      19      142779   719      0.03       \n",
       "2  2019-08-02  A     42      36      234381   1338     0.03       \n",
       "4  2019-08-03  A     66      60      346854   1845     0.04       \n",
       "6  2019-08-04  A     77      71      388030   2562     0.03       \n",
       "8  2019-08-05  A     99      92      474413   3318     0.03       \n",
       "10 2019-08-06  A     114     104     515332   3985     0.03       \n",
       "12 2019-08-07  A     130     120     638580   4629     0.03       \n",
       "14 2019-08-08  A     144     133     727219   5239     0.03       \n",
       "16 2019-08-09  A     155     143     861456   5856     0.03       \n",
       "18 2019-08-10  A     170     158     1013731  6262     0.03       \n",
       "20 2019-08-11  A     181     169     1074396  6980     0.03       \n",
       "22 2019-08-12  A     200     188     1294788  7575     0.03       \n",
       "24 2019-08-13  A     214     201     1558426  8323     0.03       \n",
       "26 2019-08-14  A     231     218     1601692  9058     0.03       \n",
       "28 2019-08-15  A     241     228     1682569  9686     0.02       \n",
       "30 2019-08-16  A     259     246     1782420  10047    0.03       \n",
       "32 2019-08-17  A     265     251     1817160  10459    0.03       \n",
       "34 2019-08-18  A     278     264     1876741  11127    0.02       \n",
       "36 2019-08-19  A     299     283     2044934  11629    0.03       \n",
       "38 2019-08-20  A     309     293     2103613  12204    0.03       \n",
       "40 2019-08-21  A     329     311     2273782  12850    0.03       \n",
       "42 2019-08-22  A     339     321     2366147  13459    0.03       \n",
       "44 2019-08-23  A     359     341     2424010  13927    0.03       \n",
       "46 2019-08-24  A     372     354     2546023  14322    0.03       \n",
       "48 2019-08-25  A     380     362     2597907  14943    0.03       \n",
       "50 2019-08-26  A     396     378     2755121  15665    0.03       \n",
       "52 2019-08-27  A     419     400     2940471  16376    0.03       \n",
       "54 2019-08-28  A     434     413     3036933  16970    0.03       \n",
       "56 2019-08-29  A     451     430     3233233  17547    0.03       \n",
       "58 2019-08-30  A     460     437     3311413  18037    0.03       \n",
       "60 2019-08-31  A     468     445     3364656  18736    0.02       "
      ]
     },
     "execution_count": 42,
     "metadata": {},
     "output_type": "execute_result"
    }
   ],
   "source": [
    "cumulativeDataA"
   ]
  },
  {
   "cell_type": "markdown",
   "metadata": {
    "id": "6RtsPh1u8rhj"
   },
   "source": [
    "*Сделайте выводы и предположения.*\n"
   ]
  },
  {
   "cell_type": "markdown",
   "metadata": {
    "id": "KigswMshcaeu"
   },
   "source": [
    "В середине августа значения конверсии (из визитов в заказы) устаканились, и  в группе B значение стабильно выше. \n",
    "\n",
    "Это говорит о том, что:\n",
    "- а) выбросы по количеству заказов ИЛИ количеству посетителей если и есть то они не так заметны, как в случае с выручкой и средним чеком.\n",
    "- б) конверсия из визитов в заказы стабильно выше в группе В на порядка 3.5% в абсолютных цифрах."
   ]
  },
  {
   "cell_type": "markdown",
   "metadata": {
    "id": "Wid9VCyr8zpl"
   },
   "source": [
    "### Относительное изменение кумулятивной конверсии группы B к группе A."
   ]
  },
  {
   "cell_type": "markdown",
   "metadata": {
    "id": "JhjG01-p7xqV"
   },
   "source": [
    "*Постройте график относительного изменения кумулятивной конверсии группы B к группе A.*"
   ]
  },
  {
   "cell_type": "code",
   "execution_count": 43,
   "metadata": {
    "colab": {
     "base_uri": "https://localhost:8080/",
     "height": 400
    },
    "id": "QVJP5jh4JEeP",
    "outputId": "fc480a7c-6d4c-4541-96f7-93585b37846e"
   },
   "outputs": [
    {
     "data": {
      "image/png": "[encoded data removed]",
      "text/plain": [
       "<Figure size 800x400 with 1 Axes>"
      ]
     },
     "metadata": {
      "needs_background": "light"
     },
     "output_type": "display_data"
    },
    {
     "data": {
      "text/plain": [
       "True"
      ]
     },
     "execution_count": 43,
     "metadata": {},
     "output_type": "execute_result"
    }
   ],
   "source": [
    "mergedCumulativeConversions = cumulativeDataA[['date','conversion']].merge(\n",
    "        cumulativeDataB[['date','conversion']], \n",
    "        left_on='date', \n",
    "        right_on='date', \n",
    "        how='left', \n",
    "        suffixes=['A', 'B']\n",
    "        )\n",
    "\n",
    "#print(mergedCumulativeConversions)\n",
    "\n",
    "def cum_con():\n",
    "    figure(figsize=(10, 5), dpi=80)\n",
    "    \n",
    "    plt.plot(mergedCumulativeConversions['date'], mergedCumulativeConversions['conversionB']/mergedCumulativeConversions['conversionA']-1, label=\"Относительный прирост конверсии группы B относительно группы A\")\n",
    "    plt.legend()\n",
    "\n",
    "    plt.axhline(y=0, color='black', linestyle='--')\n",
    "    plt.axhline(y=0.13, color='grey', linestyle='--')\n",
    "    plt.axis([dt.datetime(2019, 8, 1), dt.datetime(2019, 8, 31), -0.2, 0.22])\n",
    "\n",
    "    plt.grid() \n",
    "    plt.legend() \n",
    "    plt.title('Относительное изменение кумулятивной конверсии группы B к группе A.')\n",
    "    plt.xlabel('Дата')\n",
    "    plt.ylabel('ед.')\n",
    "    plt.show() \n",
    "    return True\n",
    "\n",
    "cum_con()"
   ]
  },
  {
   "cell_type": "markdown",
   "metadata": {
    "id": "AAL9YwuG854p"
   },
   "source": [
    "*Сделайте выводы и предположения.*\n"
   ]
  },
  {
   "cell_type": "markdown",
   "metadata": {
    "id": "UtGLSyqagoyl"
   },
   "source": [
    "- Этот график позволяет точнее оценить различия между группами.\n",
    "- Конверсия из визитов в заказы стабильно выше в группе В на ~13% в относительных, что существенно."
   ]
  },
  {
   "cell_type": "markdown",
   "metadata": {
    "id": "xsYaXu3r8_Vi"
   },
   "source": [
    "### Точечный график количества заказов по пользователям."
   ]
  },
  {
   "cell_type": "markdown",
   "metadata": {
    "id": "GywwI-eX7yiJ"
   },
   "source": [
    "*Постройте точечный график количества заказов по пользователям.*\n"
   ]
  },
  {
   "cell_type": "code",
   "execution_count": 44,
   "metadata": {
    "colab": {
     "base_uri": "https://localhost:8080/",
     "height": 591
    },
    "id": "qO-XjXTGKW_d",
    "outputId": "13b37aa8-f651-47a6-cd30-8673df824856"
   },
   "outputs": [
    {
     "name": "stdout",
     "output_type": "stream",
     "text": [
      "        user_id  orders\n",
      "908  3967698036  3     \n",
      "55   249864742   3     \n",
      "478  2108163459  3     \n",
      "687  2988190573  3     \n",
      "890  3908431265  3     \n",
      "138  611059232   3     \n",
      "632  2742574263  3     \n",
      "157  678354126   2     \n",
      "323  1404560065  2     \n",
      "452  1985475298  2     \n"
     ]
    },
    {
     "data": {
      "image/png": "[encoded data removed]",
      "text/plain": [
       "<Figure size 800x400 with 1 Axes>"
      ]
     },
     "metadata": {
      "needs_background": "light"
     },
     "output_type": "display_data"
    }
   ],
   "source": [
    "ordersByUsers = (\n",
    "    orders.groupby('visitor_id', as_index=False)\n",
    "    .agg({'transaction_id': 'nunique'})\n",
    ")\n",
    "ordersByUsers.columns = ['user_id', 'orders']\n",
    "\n",
    "print(ordersByUsers.sort_values(by='orders', ascending=False).head(10))\n",
    "\n",
    "#ordersByUsers['orders'].hist()\n",
    "\n",
    "\n",
    "# серия из чисел от 0 до количества наблюдений в ordersByUsers\n",
    "x_values = pd.Series(range(0, len(ordersByUsers)))\n",
    "\n",
    "#print(x_values)\n",
    "figure(figsize=(10, 5), dpi=80)\n",
    "plt.scatter(x_values, ordersByUsers['orders']) \n",
    "\n",
    "plt.grid() \n",
    "plt.title('Количество заказов по пользователям.')\n",
    "plt.xlabel('№ пользователя')\n",
    "plt.ylabel('Кол-во заказов, шт.')\n",
    "plt.show() "
   ]
  },
  {
   "cell_type": "markdown",
   "metadata": {
    "id": "aDAknyEp9E5P"
   },
   "source": [
    "*Сделайте выводы и предположения.*"
   ]
  },
  {
   "cell_type": "markdown",
   "metadata": {
    "id": "pnYQNR_1i-XD"
   },
   "source": [
    "Подавляющее большинство покупателей сделали по одному заказу. Точное количество определим, когда посчитаем перцентили ниже.\n"
   ]
  },
  {
   "cell_type": "markdown",
   "metadata": {
    "id": "VPvXtcnH9I0m"
   },
   "source": [
    "### 95-й и 99-й перцентили количества заказов на пользователя."
   ]
  },
  {
   "cell_type": "markdown",
   "metadata": {
    "id": "wskuYj3X7zZk"
   },
   "source": [
    "*Посчитайте 95-й и 99-й перцентили количества заказов на пользователя. Выберите границу для определения аномальных пользователей.*"
   ]
  },
  {
   "cell_type": "code",
   "execution_count": 45,
   "metadata": {
    "colab": {
     "base_uri": "https://localhost:8080/"
    },
    "id": "wQOizqJ7bnSb",
    "outputId": "7ae5799f-21bc-451d-a127-94fac9f4ba90"
   },
   "outputs": [
    {
     "name": "stdout",
     "output_type": "stream",
     "text": [
      "[1. 1. 2.]\n"
     ]
    }
   ],
   "source": [
    "# Метод np.percentile('column', [percentile1, percentile2, percentile3]) находит перцентили.\n",
    "\n",
    "print(np.percentile(ordersByUsers['orders'], [90, 95, 99])) "
   ]
  },
  {
   "cell_type": "code",
   "execution_count": 46,
   "metadata": {},
   "outputs": [
    {
     "data": {
      "text/plain": [
       "1.0"
      ]
     },
     "execution_count": 46,
     "metadata": {},
     "output_type": "execute_result"
    }
   ],
   "source": [
    "orders_number_percentile = np.percentile(ordersByUsers['orders'], 95)\n",
    "orders_number_percentile"
   ]
  },
  {
   "cell_type": "markdown",
   "metadata": {
    "id": "BCyr6iJWjdjF"
   },
   "source": [
    "95% всех покупателей сделали не более 2х заказов. Поэтому за границу определения аномальных пользователей возьмём все, что больше 2х покупок на человека."
   ]
  },
  {
   "cell_type": "markdown",
   "metadata": {
    "id": "hTUeiEuy9UwI"
   },
   "source": [
    "### Точечный график стоимостей заказов."
   ]
  },
  {
   "cell_type": "code",
   "execution_count": 47,
   "metadata": {
    "colab": {
     "base_uri": "https://localhost:8080/"
    },
    "id": "RhcevVlycme7",
    "outputId": "d94a1b58-bf1c-401e-8c35-9e8676b9478e"
   },
   "outputs": [
    {
     "name": "stdout",
     "output_type": "stream",
     "text": [
      "      transaction_id  visitor_id       date  revenue group  duplicated_a_b  \\\n",
      "425   590470918       1920142716 2019-08-19  1294500  B     False            \n",
      "1196  3936777065      2108080724 2019-08-15  202740   B     False            \n",
      "1136  666610489       1307669133 2019-08-13  92550    A     False            \n",
      "744   3668308183      888512513  2019-08-27  86620    B     False            \n",
      "743   3603576309      4133034833 2019-08-09  67990    A     False            \n",
      "1103  1348774318      1164614297 2019-08-12  66350    A     False            \n",
      "1099  316924019       148427295  2019-08-12  65710    A     False            \n",
      "949   1347999392      887908475  2019-08-21  60450    A     False            \n",
      "940   2420050534      4003628586 2019-08-08  58550    B     False            \n",
      "131   3163614039      2254586615 2019-08-22  53904    A     False            \n",
      "\n",
      "      duplicated_b_a  duplicated  \n",
      "425   False           False       \n",
      "1196  False           False       \n",
      "1136  False           False       \n",
      "744   False           False       \n",
      "743   False           False       \n",
      "1103  False           False       \n",
      "1099  False           False       \n",
      "949   False           False       \n",
      "940   False           False       \n",
      "131   False           False       \n"
     ]
    }
   ],
   "source": [
    "print(orders.sort_values(by='revenue', ascending=False).head(10))\n",
    "\n",
    "#plt.hist(orders['revenue'], bins = 20)"
   ]
  },
  {
   "cell_type": "markdown",
   "metadata": {
    "id": "kc7BxX0x70iW"
   },
   "source": [
    "*Постройте точечный график стоимостей заказов*"
   ]
  },
  {
   "cell_type": "code",
   "execution_count": 48,
   "metadata": {
    "colab": {
     "base_uri": "https://localhost:8080/",
     "height": 400
    },
    "id": "DoW-w7ZldNkh",
    "outputId": "11caa1d4-6326-4b5d-f092-ca959b397770"
   },
   "outputs": [
    {
     "data": {
      "image/png": "[encoded data removed]",
      "text/plain": [
       "<Figure size 800x400 with 1 Axes>"
      ]
     },
     "metadata": {
      "needs_background": "light"
     },
     "output_type": "display_data"
    }
   ],
   "source": [
    "figure(figsize=(10, 5), dpi=80)\n",
    "x_values = pd.Series(range(0, len(orders['revenue'])))\n",
    "plt.scatter(x_values, orders['revenue'])\n",
    "\n",
    "plt.grid() \n",
    "plt.title('Стоимость заказов каждого пользователя.')\n",
    "plt.xlabel('№ пользователя')\n",
    "plt.ylabel('Выручка с пользователя, у.е.')\n",
    "plt.show() "
   ]
  },
  {
   "cell_type": "markdown",
   "metadata": {
    "id": "C7AF8AmvdixB"
   },
   "source": [
    "Посмотрим более подробно на заказы менее 100к."
   ]
  },
  {
   "cell_type": "code",
   "execution_count": 49,
   "metadata": {
    "colab": {
     "base_uri": "https://localhost:8080/",
     "height": 400
    },
    "id": "ynCOTJ1Hdptq",
    "outputId": "2fda0f86-8094-4859-e5e0-6897a5666754"
   },
   "outputs": [
    {
     "data": {
      "image/png": "[encoded data removed]",
      "text/plain": [
       "<Figure size 800x400 with 1 Axes>"
      ]
     },
     "metadata": {
      "needs_background": "light"
     },
     "output_type": "display_data"
    }
   ],
   "source": [
    "figure(figsize=(10, 5), dpi=80)\n",
    "plt.ylim(0, 100000)\n",
    "plt.scatter(x_values, orders['revenue'])\n",
    "\n",
    "plt.grid() \n",
    "plt.title('Выручка с каждого пользователя.')\n",
    "plt.xlabel('№ пользователя')\n",
    "plt.ylabel('Выручка с пользователя, у.е.')\n",
    "plt.show() "
   ]
  },
  {
   "cell_type": "markdown",
   "metadata": {
    "id": "CBJqeXPf9anE"
   },
   "source": [
    "*Сделайте выводы и предположения.*\n"
   ]
  },
  {
   "cell_type": "markdown",
   "metadata": {
    "id": "VvLYVBBdj4Zl"
   },
   "source": [
    "Похоже, что найден виновник резкого всплеска 18-19 августа - кто-то один сделал заказ аж на 1.2 млн., при том, что остальные покупали не более, чем на 100 тыс.\n",
    "\n",
    "Точные числа определим при рассчёте перцентилей ниже."
   ]
  },
  {
   "cell_type": "markdown",
   "metadata": {
    "id": "G2GipuuP71k7"
   },
   "source": [
    "### 95-й и 99-й перцентили стоимости заказов.\n"
   ]
  },
  {
   "cell_type": "markdown",
   "metadata": {
    "id": "poBvGsHb9-zk"
   },
   "source": [
    "*Посчитайте 95-й и 99-й перцентили стоимости заказов. Выберите границу для определения аномальных заказов.*\n"
   ]
  },
  {
   "cell_type": "code",
   "execution_count": 50,
   "metadata": {
    "colab": {
     "base_uri": "https://localhost:8080/"
    },
    "id": "wzhFnVb5dXzP",
    "outputId": "4bf1a5c8-ea08-4cfe-cbd4-36ed4e2355a9"
   },
   "outputs": [
    {
     "name": "stdout",
     "output_type": "stream",
     "text": [
      "[17990. 26785. 53904.]\n"
     ]
    }
   ],
   "source": [
    "print(np.percentile(orders['revenue'], [90, 95, 99])) "
   ]
  },
  {
   "cell_type": "code",
   "execution_count": 51,
   "metadata": {},
   "outputs": [
    {
     "data": {
      "text/plain": [
       "26785.0"
      ]
     },
     "execution_count": 51,
     "metadata": {},
     "output_type": "execute_result"
    }
   ],
   "source": [
    "orders_price_percentile = np.percentile(orders['revenue'], 95)\n",
    "orders_price_percentile"
   ]
  },
  {
   "cell_type": "markdown",
   "metadata": {
    "id": "5joTKSvpkZtC"
   },
   "source": [
    "Выберем 95% процентиль - аномальные заказы начинаются от 28000."
   ]
  },
  {
   "cell_type": "markdown",
   "metadata": {
    "id": "yiaZGheY-BLb"
   },
   "source": [
    "### Cтатистическая значимость различий в конверсии между группами по «сырым» данным."
   ]
  },
  {
   "cell_type": "markdown",
   "metadata": {
    "id": "LOZ0CNgd72sQ"
   },
   "source": [
    "*Посчитайте статистическую значимость различий в конверсии между группами по «сырым» данным.*"
   ]
  },
  {
   "cell_type": "markdown",
   "metadata": {
    "id": "DJvHG3bd0Khi"
   },
   "source": [
    "Для нахождения статистической значимости нужно получить два датасета, где отображалось бы:\n",
    "- либо факт того, что пользователь совершил заказ (например, 1 для совершивших заказ или 0 для несовершивших), \n",
    "- количество покупок на одного пользователя (целое число).\n",
    "\n",
    "Получим такой список:"
   ]
  },
  {
   "cell_type": "code",
   "execution_count": 52,
   "metadata": {
    "colab": {
     "base_uri": "https://localhost:8080/",
     "height": 424
    },
    "id": "33fez6jm9KJo",
    "outputId": "4d268f4d-b4b5-45b5-cc39-b60aef897892"
   },
   "outputs": [
    {
     "data": {
      "text/html": [
       "<div>\n",
       "<style scoped>\n",
       "    .dataframe tbody tr th:only-of-type {\n",
       "        vertical-align: middle;\n",
       "    }\n",
       "\n",
       "    .dataframe tbody tr th {\n",
       "        vertical-align: top;\n",
       "    }\n",
       "\n",
       "    .dataframe thead th {\n",
       "        text-align: right;\n",
       "    }\n",
       "</style>\n",
       "<table border=\"1\" class=\"dataframe\">\n",
       "  <thead>\n",
       "    <tr style=\"text-align: right;\">\n",
       "      <th></th>\n",
       "      <th>transaction_id</th>\n",
       "      <th>visitor_id</th>\n",
       "      <th>date</th>\n",
       "      <th>revenue</th>\n",
       "      <th>group</th>\n",
       "      <th>duplicated_a_b</th>\n",
       "      <th>duplicated_b_a</th>\n",
       "      <th>duplicated</th>\n",
       "    </tr>\n",
       "  </thead>\n",
       "  <tbody>\n",
       "    <tr>\n",
       "      <th>0</th>\n",
       "      <td>3667963787</td>\n",
       "      <td>3312258926</td>\n",
       "      <td>2019-08-15</td>\n",
       "      <td>1650</td>\n",
       "      <td>B</td>\n",
       "      <td>False</td>\n",
       "      <td>False</td>\n",
       "      <td>False</td>\n",
       "    </tr>\n",
       "    <tr>\n",
       "      <th>1</th>\n",
       "      <td>2804400009</td>\n",
       "      <td>3642806036</td>\n",
       "      <td>2019-08-15</td>\n",
       "      <td>730</td>\n",
       "      <td>B</td>\n",
       "      <td>False</td>\n",
       "      <td>False</td>\n",
       "      <td>False</td>\n",
       "    </tr>\n",
       "    <tr>\n",
       "      <th>3</th>\n",
       "      <td>3797467345</td>\n",
       "      <td>1196621759</td>\n",
       "      <td>2019-08-15</td>\n",
       "      <td>9759</td>\n",
       "      <td>B</td>\n",
       "      <td>False</td>\n",
       "      <td>False</td>\n",
       "      <td>False</td>\n",
       "    </tr>\n",
       "    <tr>\n",
       "      <th>4</th>\n",
       "      <td>2282983706</td>\n",
       "      <td>2322279887</td>\n",
       "      <td>2019-08-15</td>\n",
       "      <td>2308</td>\n",
       "      <td>B</td>\n",
       "      <td>False</td>\n",
       "      <td>False</td>\n",
       "      <td>False</td>\n",
       "    </tr>\n",
       "    <tr>\n",
       "      <th>5</th>\n",
       "      <td>182168103</td>\n",
       "      <td>935554773</td>\n",
       "      <td>2019-08-15</td>\n",
       "      <td>2210</td>\n",
       "      <td>B</td>\n",
       "      <td>False</td>\n",
       "      <td>False</td>\n",
       "      <td>False</td>\n",
       "    </tr>\n",
       "    <tr>\n",
       "      <th>...</th>\n",
       "      <td>...</td>\n",
       "      <td>...</td>\n",
       "      <td>...</td>\n",
       "      <td>...</td>\n",
       "      <td>...</td>\n",
       "      <td>...</td>\n",
       "      <td>...</td>\n",
       "      <td>...</td>\n",
       "    </tr>\n",
       "    <tr>\n",
       "      <th>1191</th>\n",
       "      <td>3592955527</td>\n",
       "      <td>608641596</td>\n",
       "      <td>2019-08-14</td>\n",
       "      <td>16490</td>\n",
       "      <td>B</td>\n",
       "      <td>False</td>\n",
       "      <td>False</td>\n",
       "      <td>False</td>\n",
       "    </tr>\n",
       "    <tr>\n",
       "      <th>1192</th>\n",
       "      <td>2662137336</td>\n",
       "      <td>3733762160</td>\n",
       "      <td>2019-08-14</td>\n",
       "      <td>6490</td>\n",
       "      <td>B</td>\n",
       "      <td>False</td>\n",
       "      <td>False</td>\n",
       "      <td>False</td>\n",
       "    </tr>\n",
       "    <tr>\n",
       "      <th>1193</th>\n",
       "      <td>2203539145</td>\n",
       "      <td>370388673</td>\n",
       "      <td>2019-08-14</td>\n",
       "      <td>3190</td>\n",
       "      <td>A</td>\n",
       "      <td>False</td>\n",
       "      <td>False</td>\n",
       "      <td>False</td>\n",
       "    </tr>\n",
       "    <tr>\n",
       "      <th>1194</th>\n",
       "      <td>1807773912</td>\n",
       "      <td>573423106</td>\n",
       "      <td>2019-08-14</td>\n",
       "      <td>10550</td>\n",
       "      <td>A</td>\n",
       "      <td>False</td>\n",
       "      <td>False</td>\n",
       "      <td>False</td>\n",
       "    </tr>\n",
       "    <tr>\n",
       "      <th>1196</th>\n",
       "      <td>3936777065</td>\n",
       "      <td>2108080724</td>\n",
       "      <td>2019-08-15</td>\n",
       "      <td>202740</td>\n",
       "      <td>B</td>\n",
       "      <td>False</td>\n",
       "      <td>False</td>\n",
       "      <td>False</td>\n",
       "    </tr>\n",
       "  </tbody>\n",
       "</table>\n",
       "<p>1016 rows × 8 columns</p>\n",
       "</div>"
      ],
      "text/plain": [
       "      transaction_id  visitor_id       date  revenue group  duplicated_a_b  \\\n",
       "0     3667963787      3312258926 2019-08-15  1650     B     False            \n",
       "1     2804400009      3642806036 2019-08-15  730      B     False            \n",
       "3     3797467345      1196621759 2019-08-15  9759     B     False            \n",
       "4     2282983706      2322279887 2019-08-15  2308     B     False            \n",
       "5     182168103       935554773  2019-08-15  2210     B     False            \n",
       "...         ...             ...         ...   ...    ..       ...            \n",
       "1191  3592955527      608641596  2019-08-14  16490    B     False            \n",
       "1192  2662137336      3733762160 2019-08-14  6490     B     False            \n",
       "1193  2203539145      370388673  2019-08-14  3190     A     False            \n",
       "1194  1807773912      573423106  2019-08-14  10550    A     False            \n",
       "1196  3936777065      2108080724 2019-08-15  202740   B     False            \n",
       "\n",
       "      duplicated_b_a  duplicated  \n",
       "0     False           False       \n",
       "1     False           False       \n",
       "3     False           False       \n",
       "4     False           False       \n",
       "5     False           False       \n",
       "...     ...             ...       \n",
       "1191  False           False       \n",
       "1192  False           False       \n",
       "1193  False           False       \n",
       "1194  False           False       \n",
       "1196  False           False       \n",
       "\n",
       "[1016 rows x 8 columns]"
      ]
     },
     "execution_count": 52,
     "metadata": {},
     "output_type": "execute_result"
    }
   ],
   "source": [
    "orders"
   ]
  },
  {
   "cell_type": "code",
   "execution_count": 53,
   "metadata": {
    "colab": {
     "base_uri": "https://localhost:8080/",
     "height": 424
    },
    "id": "wUpB1VZk88PN",
    "outputId": "f03262af-ae37-47f2-aba0-caffbcf52e51"
   },
   "outputs": [
    {
     "data": {
      "text/html": [
       "<div>\n",
       "<style scoped>\n",
       "    .dataframe tbody tr th:only-of-type {\n",
       "        vertical-align: middle;\n",
       "    }\n",
       "\n",
       "    .dataframe tbody tr th {\n",
       "        vertical-align: top;\n",
       "    }\n",
       "\n",
       "    .dataframe thead th {\n",
       "        text-align: right;\n",
       "    }\n",
       "</style>\n",
       "<table border=\"1\" class=\"dataframe\">\n",
       "  <thead>\n",
       "    <tr style=\"text-align: right;\">\n",
       "      <th></th>\n",
       "      <th>visitor_id</th>\n",
       "      <th>transaction_id</th>\n",
       "    </tr>\n",
       "  </thead>\n",
       "  <tbody>\n",
       "    <tr>\n",
       "      <th>58</th>\n",
       "      <td>611059232</td>\n",
       "      <td>3</td>\n",
       "    </tr>\n",
       "    <tr>\n",
       "      <th>211</th>\n",
       "      <td>2108163459</td>\n",
       "      <td>3</td>\n",
       "    </tr>\n",
       "    <tr>\n",
       "      <th>310</th>\n",
       "      <td>2988190573</td>\n",
       "      <td>3</td>\n",
       "    </tr>\n",
       "    <tr>\n",
       "      <th>409</th>\n",
       "      <td>3908431265</td>\n",
       "      <td>3</td>\n",
       "    </tr>\n",
       "    <tr>\n",
       "      <th>416</th>\n",
       "      <td>3967698036</td>\n",
       "      <td>3</td>\n",
       "    </tr>\n",
       "    <tr>\n",
       "      <th>...</th>\n",
       "      <td>...</td>\n",
       "      <td>...</td>\n",
       "    </tr>\n",
       "    <tr>\n",
       "      <th>146</th>\n",
       "      <td>1402025725</td>\n",
       "      <td>1</td>\n",
       "    </tr>\n",
       "    <tr>\n",
       "      <th>145</th>\n",
       "      <td>1398592185</td>\n",
       "      <td>1</td>\n",
       "    </tr>\n",
       "    <tr>\n",
       "      <th>144</th>\n",
       "      <td>1388079388</td>\n",
       "      <td>1</td>\n",
       "    </tr>\n",
       "    <tr>\n",
       "      <th>143</th>\n",
       "      <td>1378148355</td>\n",
       "      <td>1</td>\n",
       "    </tr>\n",
       "    <tr>\n",
       "      <th>444</th>\n",
       "      <td>4278982564</td>\n",
       "      <td>1</td>\n",
       "    </tr>\n",
       "  </tbody>\n",
       "</table>\n",
       "<p>445 rows × 2 columns</p>\n",
       "</div>"
      ],
      "text/plain": [
       "     visitor_id  transaction_id\n",
       "58   611059232   3             \n",
       "211  2108163459  3             \n",
       "310  2988190573  3             \n",
       "409  3908431265  3             \n",
       "416  3967698036  3             \n",
       "..          ... ..             \n",
       "146  1402025725  1             \n",
       "145  1398592185  1             \n",
       "144  1388079388  1             \n",
       "143  1378148355  1             \n",
       "444  4278982564  1             \n",
       "\n",
       "[445 rows x 2 columns]"
      ]
     },
     "execution_count": 53,
     "metadata": {},
     "output_type": "execute_result"
    }
   ],
   "source": [
    "ordersByUsersA = (\n",
    "    orders[orders['group'] == 'A']\n",
    "    .groupby('visitor_id', as_index=False)\n",
    "    .agg({'transaction_id': pd.Series.nunique})\n",
    ")\n",
    "ordersByUsersA.sort_values(by='transaction_id', ascending = False)\n"
   ]
  },
  {
   "cell_type": "markdown",
   "metadata": {
    "id": "UoPEx9HW94Ky"
   },
   "source": [
    "Переименуем столбцы:"
   ]
  },
  {
   "cell_type": "code",
   "execution_count": 54,
   "metadata": {
    "colab": {
     "base_uri": "https://localhost:8080/",
     "height": 424
    },
    "id": "DgBueMma97Zw",
    "outputId": "35484733-ff8c-45a4-88c4-c6a2312c0312"
   },
   "outputs": [
    {
     "data": {
      "text/html": [
       "<div>\n",
       "<style scoped>\n",
       "    .dataframe tbody tr th:only-of-type {\n",
       "        vertical-align: middle;\n",
       "    }\n",
       "\n",
       "    .dataframe tbody tr th {\n",
       "        vertical-align: top;\n",
       "    }\n",
       "\n",
       "    .dataframe thead th {\n",
       "        text-align: right;\n",
       "    }\n",
       "</style>\n",
       "<table border=\"1\" class=\"dataframe\">\n",
       "  <thead>\n",
       "    <tr style=\"text-align: right;\">\n",
       "      <th></th>\n",
       "      <th>userId</th>\n",
       "      <th>orders</th>\n",
       "    </tr>\n",
       "  </thead>\n",
       "  <tbody>\n",
       "    <tr>\n",
       "      <th>0</th>\n",
       "      <td>11685486</td>\n",
       "      <td>1</td>\n",
       "    </tr>\n",
       "    <tr>\n",
       "      <th>1</th>\n",
       "      <td>54447517</td>\n",
       "      <td>1</td>\n",
       "    </tr>\n",
       "    <tr>\n",
       "      <th>2</th>\n",
       "      <td>66685450</td>\n",
       "      <td>1</td>\n",
       "    </tr>\n",
       "    <tr>\n",
       "      <th>3</th>\n",
       "      <td>78758296</td>\n",
       "      <td>1</td>\n",
       "    </tr>\n",
       "    <tr>\n",
       "      <th>4</th>\n",
       "      <td>85103373</td>\n",
       "      <td>1</td>\n",
       "    </tr>\n",
       "    <tr>\n",
       "      <th>...</th>\n",
       "      <td>...</td>\n",
       "      <td>...</td>\n",
       "    </tr>\n",
       "    <tr>\n",
       "      <th>440</th>\n",
       "      <td>4227830084</td>\n",
       "      <td>1</td>\n",
       "    </tr>\n",
       "    <tr>\n",
       "      <th>441</th>\n",
       "      <td>4237561104</td>\n",
       "      <td>1</td>\n",
       "    </tr>\n",
       "    <tr>\n",
       "      <th>442</th>\n",
       "      <td>4243832526</td>\n",
       "      <td>1</td>\n",
       "    </tr>\n",
       "    <tr>\n",
       "      <th>443</th>\n",
       "      <td>4259830713</td>\n",
       "      <td>1</td>\n",
       "    </tr>\n",
       "    <tr>\n",
       "      <th>444</th>\n",
       "      <td>4278982564</td>\n",
       "      <td>1</td>\n",
       "    </tr>\n",
       "  </tbody>\n",
       "</table>\n",
       "<p>445 rows × 2 columns</p>\n",
       "</div>"
      ],
      "text/plain": [
       "         userId  orders\n",
       "0    11685486    1     \n",
       "1    54447517    1     \n",
       "2    66685450    1     \n",
       "3    78758296    1     \n",
       "4    85103373    1     \n",
       "..        ...   ..     \n",
       "440  4227830084  1     \n",
       "441  4237561104  1     \n",
       "442  4243832526  1     \n",
       "443  4259830713  1     \n",
       "444  4278982564  1     \n",
       "\n",
       "[445 rows x 2 columns]"
      ]
     },
     "execution_count": 54,
     "metadata": {},
     "output_type": "execute_result"
    }
   ],
   "source": [
    "ordersByUsersA.columns = ['userId', 'orders']\n",
    "ordersByUsersA"
   ]
  },
  {
   "cell_type": "markdown",
   "metadata": {
    "id": "dTQEuh35-ARp"
   },
   "source": [
    "и сделаем то же самое для для группы В:"
   ]
  },
  {
   "cell_type": "code",
   "execution_count": 55,
   "metadata": {
    "colab": {
     "base_uri": "https://localhost:8080/",
     "height": 424
    },
    "id": "r8Ayw95M-I9p",
    "outputId": "78d584f1-d49e-4547-d388-01030ee12e65"
   },
   "outputs": [
    {
     "data": {
      "text/html": [
       "<div>\n",
       "<style scoped>\n",
       "    .dataframe tbody tr th:only-of-type {\n",
       "        vertical-align: middle;\n",
       "    }\n",
       "\n",
       "    .dataframe tbody tr th {\n",
       "        vertical-align: top;\n",
       "    }\n",
       "\n",
       "    .dataframe thead th {\n",
       "        text-align: right;\n",
       "    }\n",
       "</style>\n",
       "<table border=\"1\" class=\"dataframe\">\n",
       "  <thead>\n",
       "    <tr style=\"text-align: right;\">\n",
       "      <th></th>\n",
       "      <th>userId</th>\n",
       "      <th>orders</th>\n",
       "    </tr>\n",
       "  </thead>\n",
       "  <tbody>\n",
       "    <tr>\n",
       "      <th>0</th>\n",
       "      <td>5114589</td>\n",
       "      <td>1</td>\n",
       "    </tr>\n",
       "    <tr>\n",
       "      <th>1</th>\n",
       "      <td>6958315</td>\n",
       "      <td>1</td>\n",
       "    </tr>\n",
       "    <tr>\n",
       "      <th>2</th>\n",
       "      <td>39475350</td>\n",
       "      <td>1</td>\n",
       "    </tr>\n",
       "    <tr>\n",
       "      <th>3</th>\n",
       "      <td>47206413</td>\n",
       "      <td>1</td>\n",
       "    </tr>\n",
       "    <tr>\n",
       "      <th>4</th>\n",
       "      <td>48147722</td>\n",
       "      <td>1</td>\n",
       "    </tr>\n",
       "    <tr>\n",
       "      <th>...</th>\n",
       "      <td>...</td>\n",
       "      <td>...</td>\n",
       "    </tr>\n",
       "    <tr>\n",
       "      <th>523</th>\n",
       "      <td>4251115836</td>\n",
       "      <td>1</td>\n",
       "    </tr>\n",
       "    <tr>\n",
       "      <th>524</th>\n",
       "      <td>4258103007</td>\n",
       "      <td>1</td>\n",
       "    </tr>\n",
       "    <tr>\n",
       "      <th>525</th>\n",
       "      <td>4279090005</td>\n",
       "      <td>1</td>\n",
       "    </tr>\n",
       "    <tr>\n",
       "      <th>526</th>\n",
       "      <td>4281247801</td>\n",
       "      <td>1</td>\n",
       "    </tr>\n",
       "    <tr>\n",
       "      <th>527</th>\n",
       "      <td>4283872382</td>\n",
       "      <td>1</td>\n",
       "    </tr>\n",
       "  </tbody>\n",
       "</table>\n",
       "<p>528 rows × 2 columns</p>\n",
       "</div>"
      ],
      "text/plain": [
       "         userId  orders\n",
       "0    5114589     1     \n",
       "1    6958315     1     \n",
       "2    39475350    1     \n",
       "3    47206413    1     \n",
       "4    48147722    1     \n",
       "..        ...   ..     \n",
       "523  4251115836  1     \n",
       "524  4258103007  1     \n",
       "525  4279090005  1     \n",
       "526  4281247801  1     \n",
       "527  4283872382  1     \n",
       "\n",
       "[528 rows x 2 columns]"
      ]
     },
     "execution_count": 55,
     "metadata": {},
     "output_type": "execute_result"
    }
   ],
   "source": [
    "ordersByUsersB = (\n",
    "    orders[orders['group'] == 'B']\n",
    "    .groupby('visitor_id', as_index=False)\n",
    "    .agg({'transaction_id': pd.Series.nunique})\n",
    ")\n",
    "ordersByUsersB.columns = ['userId', 'orders'] \n",
    "ordersByUsersB"
   ]
  },
  {
   "cell_type": "markdown",
   "metadata": {
    "id": "9ionoyBH-U1D"
   },
   "source": [
    "Для дальнейшей работы создадим большую таблицу, в которой были бы следующие столбцы:\n",
    "- `date`  - дата\n",
    "- `ordersPerDateA` - количество заказов в эту дату от покупателей из группы А\n",
    "- `revenuePerDateA` - количество заказов в эту дату от покупателей из группы А\n",
    "- `ordersPerDateB`  - количество заказов в эту дату от покупателей из группы В\n",
    "- `revenuePerDateB` - количество заказов в эту дату от покупателей из группы В\n",
    "- `visitorsPerDateA` - количество посетителей в эту дату из группы А\n",
    "- `visitorsPerDateB` - количество посетителей в эту дату из группы В\n"
   ]
  },
  {
   "cell_type": "code",
   "execution_count": 56,
   "metadata": {
    "colab": {
     "base_uri": "https://localhost:8080/"
    },
    "id": "lNTwUY2jC7no",
    "outputId": "0dacd605-3735-4d2c-f2ba-16f7d4040b7f"
   },
   "outputs": [
    {
     "name": "stdout",
     "output_type": "stream",
     "text": [
      "        date  ordersPerDateA  revenuePerDateA  ordersPerDateB  \\\n",
      "0 2019-08-01  23              142779           17               \n",
      "1 2019-08-02  19              91602            23               \n",
      "2 2019-08-03  24              112473           14               \n",
      "3 2019-08-04  11              41176            14               \n",
      "4 2019-08-05  22              86383            21               \n",
      "\n",
      "   revenuePerDateB  visitorsPerDateA  visitorsPerDateB  \n",
      "0  59758            719               713               \n",
      "1  162043           619               581               \n",
      "2  67049            507               509               \n",
      "3  96890            717               770               \n",
      "4  89908            756               707               \n"
     ]
    }
   ],
   "source": [
    "visitorsADaily = visits[visits['group'] == 'A'][['date', 'visitors']]\n",
    "visitorsADaily.columns = ['date', 'visitorsPerDateA']\n",
    "\n",
    "visitorsBDaily = visits[visits['group'] == 'B'][['date', 'visitors']]\n",
    "visitorsBDaily.columns = ['date', 'visitorsPerDateB']\n",
    "\n",
    "ordersADaily = (\n",
    "    orders[orders['group'] == 'A'][['date', 'transaction_id', 'visitor_id', 'revenue']]\n",
    "    .groupby('date', as_index=False)\n",
    "    .agg({'transaction_id': pd.Series.nunique, 'revenue': 'sum'})\n",
    ")\n",
    "ordersADaily.columns = ['date', 'ordersPerDateA', 'revenuePerDateA']\n",
    "\n",
    "ordersBDaily = (\n",
    "    orders[orders['group'] == 'B'][['date', 'transaction_id', 'visitor_id', 'revenue']]\n",
    "    .groupby('date', as_index=False)\n",
    "    .agg({'transaction_id': pd.Series.nunique, 'revenue': 'sum'})\n",
    ")\n",
    "ordersBDaily.columns = ['date', 'ordersPerDateB', 'revenuePerDateB']\n",
    "\n",
    "data = (\n",
    "    ordersADaily.merge(\n",
    "        ordersBDaily, left_on='date', right_on='date', how='left'\n",
    "    )\n",
    "    .merge(visitorsADaily, left_on='date', right_on='date', how='left')\n",
    "    .merge(visitorsBDaily, left_on='date', right_on='date', how='left')\n",
    ")\n",
    "\n",
    "print(data.head(5)) "
   ]
  },
  {
   "cell_type": "code",
   "execution_count": 57,
   "metadata": {
    "id": "SsnDJ7Dp-hml"
   },
   "outputs": [],
   "source": [
    "sampleA = pd.concat(\n",
    "    [\n",
    "        ordersByUsersA['orders'],\n",
    "        pd.Series(0, \n",
    "                index=np.arange(\n",
    "                    data['visitorsPerDateA'].sum() - len(ordersByUsersA['orders'])), \n",
    "                name='orders'\n",
    "                )\n",
    "     ],\n",
    "     axis=0)\n",
    "\n",
    "sampleB = pd.concat(\n",
    "    [\n",
    "        ordersByUsersB['orders'],\n",
    "        pd.Series(\n",
    "            0, \n",
    "            index=np.arange(\n",
    "                data['visitorsPerDateB'].sum() - len(ordersByUsersB['orders'])\n",
    "                ), \n",
    "                name='orders'\n",
    "                )\n",
    "        ],\n",
    "        axis=0) "
   ]
  },
  {
   "cell_type": "markdown",
   "metadata": {
    "id": "fWz8Ry_CEeIa"
   },
   "source": [
    "Создадим датасеты, которые бы подходили для решения задачи оценки статистической значимости."
   ]
  },
  {
   "cell_type": "code",
   "execution_count": 58,
   "metadata": {
    "colab": {
     "base_uri": "https://localhost:8080/"
    },
    "id": "GFaybj21EAz7",
    "outputId": "174da6f6-4204-486b-eb9c-e67c6ea060d2"
   },
   "outputs": [
    {
     "data": {
      "text/plain": [
       "58       3\n",
       "211      3\n",
       "409      3\n",
       "310      3\n",
       "416      3\n",
       "        ..\n",
       "6100     0\n",
       "6101     0\n",
       "6102     0\n",
       "6103     0\n",
       "18290    0\n",
       "Name: orders, Length: 18736, dtype: int64"
      ]
     },
     "execution_count": 58,
     "metadata": {},
     "output_type": "execute_result"
    }
   ],
   "source": [
    "sampleA.sort_values(ascending = False)"
   ]
  },
  {
   "cell_type": "code",
   "execution_count": 59,
   "metadata": {
    "colab": {
     "base_uri": "https://localhost:8080/"
    },
    "id": "aCK-SiCtEJzk",
    "outputId": "13d43cfa-42af-47e9-f33d-1730cff95107"
   },
   "outputs": [
    {
     "data": {
      "text/plain": [
       "347      3\n",
       "33       3\n",
       "489      2\n",
       "176      2\n",
       "507      2\n",
       "        ..\n",
       "6133     0\n",
       "6134     0\n",
       "6135     0\n",
       "6136     0\n",
       "18387    0\n",
       "Name: orders, Length: 18916, dtype: int64"
      ]
     },
     "execution_count": 59,
     "metadata": {},
     "output_type": "execute_result"
    }
   ],
   "source": [
    "sampleB.sort_values(ascending = False)"
   ]
  },
  {
   "cell_type": "markdown",
   "metadata": {
    "id": "s6yJHHjIENrl"
   },
   "source": [
    "А теперь можно оценить статистическую значимость, но для начала сформулируем гипотезу в явном виде:\n",
    "\n",
    "**Сформулируем гипотезу о равенстве `конверсий из визитов в заказы в группах` А и В:**\n",
    "\n",
    "**H0 (Нулевая гипотеза)** — конверсии из количества визитов к количество заказов в группе А и группе В равны\n",
    "**H1 (Альтернативная гипотеза)** — конверсии группы А и группы В не равны.\n",
    "**Уровень alpha** (уровень критической значимости) - 0.05\n",
    "\n",
    "**Проверять будет статистическим критерием Манна-Уитни,** который хорошо себя зарекомендовал для работы с социальной активностью (в частности, с визитами и с покупками), которая часто подвержена выбросам и у которой распределения далеки от нормальных."
   ]
  },
  {
   "cell_type": "code",
   "execution_count": 60,
   "metadata": {
    "colab": {
     "base_uri": "https://localhost:8080/"
    },
    "id": "Afek0DgiETAq",
    "outputId": "c46089b7-1b1b-41aa-9bd1-53a033d61620"
   },
   "outputs": [
    {
     "name": "stdout",
     "output_type": "stream",
     "text": [
      "p-value = \t\t\t0.011\n",
      "Выручка в группе В больше на \t15.98%, чем в группе А.\n"
     ]
    }
   ],
   "source": [
    "print(\"p-value = \\t\\t\\t{0:.3f}\".format(stats.mannwhitneyu(sampleA, sampleB)[1]))\n",
    "\n",
    "print(\"Выручка в группе В больше на \\t{0:.2f}%, чем в группе А.\".format((sampleB.mean() / sampleA.mean() - 1)*100))"
   ]
  },
  {
   "cell_type": "markdown",
   "metadata": {
    "id": "zbJx_-sq-IK0"
   },
   "source": [
    "\n",
    "*Сделайте выводы и предположения.*\n"
   ]
  },
  {
   "cell_type": "markdown",
   "metadata": {
    "id": "0Ui4Vuk3lWLi"
   },
   "source": [
    "p-value здесь равно 1.1%, что менее пороговорого занчения альфа 5%, и даже на грани другого традиционного значения в 1%. \n",
    "\n",
    "Значит мы можем отвергнуть нулевую гипотезу и считать, что группы A и B различаются. Различие в выручке - группе В в среднем на 16% выручка больше. \n",
    "\n",
    "Но помним, что по сумме заказа был выброс в середине августа, поэтому это значение также нужно перепроверить на очищенных данных. "
   ]
  },
  {
   "cell_type": "markdown",
   "metadata": {
    "id": "GNxQmrXH-T-L"
   },
   "source": [
    "### Cтатистическая значимость различий в среднем чеке заказа между группами по «сырым» данным."
   ]
  },
  {
   "cell_type": "markdown",
   "metadata": {
    "id": "UaTpWqXA73lI"
   },
   "source": [
    "*Посчитайте статистическую значимость различий в среднем чеке заказа между группами по «сырым» данным.*\n"
   ]
  },
  {
   "cell_type": "markdown",
   "metadata": {},
   "source": [
    "**Гипотеза о проверке групп А и В по параметру `средний чек`:**\n",
    "\n",
    "- **H0 (Нулевая гипотеза)** — средние чеки в группе А и группе В равны. \n",
    "- **H1 (Альтернативная гипотеза)** — средние чеки в группе А и группе В равны. \n",
    "- **Уровень alpha** (уровень критической значимости) - 0.05\n",
    "- **Проверять будет статистическим критерием Манна-Уитни,** который хорошо себя зарекомендовал для работы с социальной активностью (в частности, с визитами и с покупками), которая часто подвержена выбросам и у которой распределения далеки от нормальных."
   ]
  },
  {
   "cell_type": "code",
   "execution_count": 61,
   "metadata": {
    "colab": {
     "base_uri": "https://localhost:8080/"
    },
    "id": "SkMyf35eFs7X",
    "outputId": "197eb828-faad-4ba3-de3f-a36758e6478e"
   },
   "outputs": [
    {
     "name": "stdout",
     "output_type": "stream",
     "text": [
      "p-value = \t\t\t\t82.95%\n",
      "Средний чек в группе В больше на \t28.66%, чем в группе А.\n"
     ]
    }
   ],
   "source": [
    "print(\n",
    "    \"p-value = \\t\\t\\t\\t{0:.2f}%\".\n",
    "    format(\n",
    "        100*stats.mannwhitneyu(\n",
    "            orders[orders['group']=='A']['revenue'], \n",
    "            orders[orders['group']=='B']['revenue'])[1]\n",
    "    )\n",
    ")\n",
    "\n",
    "print(\n",
    "    'Средний чек в группе В больше на \\t{0:.2f}%, чем в группе А.'.format(\n",
    "        (\n",
    "            orders[orders['group']=='B']['revenue'].mean()\n",
    "            /\n",
    "            orders[orders['group']=='A']['revenue'].mean()\n",
    "            -1\n",
    "        ) * 100\n",
    "    )\n",
    ")"
   ]
  },
  {
   "cell_type": "markdown",
   "metadata": {
    "id": "2SpJgXyQ-ZNS"
   },
   "source": [
    "*Сделайте выводы и предположения.*\n"
   ]
  },
  {
   "cell_type": "markdown",
   "metadata": {
    "id": "HdOM0evJox7j"
   },
   "source": [
    "Но в группе В величина среднего чека на 28,66% выше. Однако p-value = 83,0%, что существенно больше прогового значения альфа = 5%. Это значит, что наблюдаемая разница в 28,66% для среднего чека не является статистически значимой.\n",
    "\n",
    "Пересчитаем это по очищенным данным."
   ]
  },
  {
   "cell_type": "markdown",
   "metadata": {
    "id": "pjxNUFWU-bBG"
   },
   "source": [
    "### Cтатистическая значимость различий в конверсии между группами по «очищенным» данным."
   ]
  },
  {
   "cell_type": "markdown",
   "metadata": {
    "id": "XkJNnViL74h5"
   },
   "source": [
    "*Посчитайте статистическую значимость различий в конверсии между группами по «очищенным» данным.* "
   ]
  },
  {
   "cell_type": "markdown",
   "metadata": {
    "id": "h757euu9G22e"
   },
   "source": [
    "Чтобы получить очищенные данные, необходимо сначала выявить \"ненормальные\" данные (выбросы). Их мы выявим по 95 процентилю, который считали ранее:\n",
    "- 95-й перцентиль количества заказов на пользователя: **1**\n",
    "- 95-й перцентиль стоимости заказов: **26785**\n"
   ]
  },
  {
   "cell_type": "markdown",
   "metadata": {
    "id": "1DiBGey-Ik-Z"
   },
   "source": [
    "Узнаем, сколько пользователей, сделали необычно много заказов:"
   ]
  },
  {
   "cell_type": "code",
   "execution_count": 62,
   "metadata": {
    "colab": {
     "base_uri": "https://localhost:8080/"
    },
    "id": "D1EDt6xcIGSj",
    "outputId": "76044198-137d-4835-950a-d18d21303272"
   },
   "outputs": [
    {
     "data": {
      "text/plain": [
       "36     366673373 \n",
       "58     611059232 \n",
       "64     678354126 \n",
       "72     759473111 \n",
       "171    1617417821\n",
       "180    1772171838\n",
       "211    2108163459\n",
       "227    2232111114\n",
       "239    2306096143\n",
       "279    2706377257\n",
       "282    2733145037\n",
       "286    2744017357\n",
       "302    2892265953\n",
       "310    2988190573\n",
       "374    3469608676\n",
       "409    3908431265\n",
       "416    3967698036\n",
       "430    4109358064\n",
       "33     249864742 \n",
       "51     406208401 \n",
       "67     522292794 \n",
       "176    1404560065\n",
       "208    1637811943\n",
       "250    1985475298\n",
       "256    2025197455\n",
       "265    2096506107\n",
       "296    2366521417\n",
       "303    2397843657\n",
       "347    2742574263\n",
       "388    3077396270\n",
       "418    3332057097\n",
       "421    3362039251\n",
       "425    3379260072\n",
       "486    3935952912\n",
       "489    3941503500\n",
       "507    4134830387\n",
       "Name: userId, dtype: int64"
      ]
     },
     "execution_count": 62,
     "metadata": {},
     "output_type": "execute_result"
    }
   ],
   "source": [
    "usersWithManyOrders = pd.concat(\n",
    "    [\n",
    "        ordersByUsersA[ordersByUsersA['orders'] > orders_number_percentile]['userId'],\n",
    "        ordersByUsersB[ordersByUsersB['orders'] > orders_number_percentile]['userId'],\n",
    "    ],\n",
    "    axis=0,\n",
    ")\n",
    "usersWithManyOrders"
   ]
  },
  {
   "cell_type": "markdown",
   "metadata": {
    "id": "3RyKrEXCIepW"
   },
   "source": [
    "Узнаем, сколько пользователей, которые сделали очень дорогие заказы:"
   ]
  },
  {
   "cell_type": "code",
   "execution_count": 63,
   "metadata": {
    "colab": {
     "base_uri": "https://localhost:8080/"
    },
    "id": "AzLDFh61Icbh",
    "outputId": "6a3517d2-005f-4dd0-8edd-aedfeac1a276"
   },
   "outputs": [
    {
     "data": {
      "text/plain": [
       "73      2947100995\n",
       "77      787824685 \n",
       "78      3288820196\n",
       "131     2254586615\n",
       "137     1211585711\n",
       "173     2953427180\n",
       "208     3118156181\n",
       "273     2278620397\n",
       "287     2254456485\n",
       "339     834731816 \n",
       "420     1606766439\n",
       "421     1357170471\n",
       "425     1920142716\n",
       "481     3177790019\n",
       "527     2837914161\n",
       "530     2912540959\n",
       "549     1367935136\n",
       "551     1010866419\n",
       "562     1452540367\n",
       "563     935349363 \n",
       "568     113298937 \n",
       "570     2247666522\n",
       "613     3931967268\n",
       "648     382846391 \n",
       "654     816783716 \n",
       "684     358944393 \n",
       "709     950626008 \n",
       "723     4009017467\n",
       "728     3357398384\n",
       "743     4133034833\n",
       "744     888512513 \n",
       "746     3321013705\n",
       "751     689129267 \n",
       "755     2279926127\n",
       "867     3372131337\n",
       "890     2853587382\n",
       "925     2840985286\n",
       "928     204675465 \n",
       "940     4003628586\n",
       "949     887908475 \n",
       "960     2999642019\n",
       "1006    2261934787\n",
       "1038    1605520752\n",
       "1087    3590655705\n",
       "1099    148427295 \n",
       "1103    1164614297\n",
       "1121    1604853044\n",
       "1136    1307669133\n",
       "1137    759473111 \n",
       "1142    2606908679\n",
       "1196    2108080724\n",
       "Name: visitor_id, dtype: int64"
      ]
     },
     "execution_count": 63,
     "metadata": {},
     "output_type": "execute_result"
    }
   ],
   "source": [
    "usersWithExpensiveOrders = orders[orders['revenue'] > orders_price_percentile]['visitor_id']\n",
    "usersWithExpensiveOrders"
   ]
  },
  {
   "cell_type": "markdown",
   "metadata": {
    "id": "hzYa34kEKpf4"
   },
   "source": [
    "Объединим их в один датасет."
   ]
  },
  {
   "cell_type": "code",
   "execution_count": 64,
   "metadata": {
    "colab": {
     "base_uri": "https://localhost:8080/"
    },
    "id": "KywUQ4PUId6k",
    "outputId": "b24b7efd-2625-4366-d446-62d0e118aa8c"
   },
   "outputs": [
    {
     "name": "stdout",
     "output_type": "stream",
     "text": [
      "568     113298937\n",
      "1099    148427295\n",
      "928     204675465\n",
      "33      249864742\n",
      "684     358944393\n",
      "dtype: int64\n",
      "86\n"
     ]
    }
   ],
   "source": [
    "abnormalUsers = (\n",
    "    pd.concat([usersWithManyOrders, usersWithExpensiveOrders], axis=0)\n",
    "    .drop_duplicates()\n",
    "    .sort_values()\n",
    ")\n",
    "print(abnormalUsers.head(5))\n",
    "print(abnormalUsers.shape[0]) "
   ]
  },
  {
   "cell_type": "markdown",
   "metadata": {
    "id": "FaS8gT6QI0uU"
   },
   "source": [
    "Итого 86 аномальных пользователя.\n",
    "\n",
    "Теперь можно посчитать, какая получилась статистическая значимость различий в конверсии по очищенным данным:"
   ]
  },
  {
   "cell_type": "code",
   "execution_count": 65,
   "metadata": {
    "id": "XjpzBDoAJE_j"
   },
   "outputs": [],
   "source": [
    "sampleAFiltered = pd.concat(\n",
    "    [\n",
    "        ordersByUsersA[\n",
    "            np.logical_not(ordersByUsersA['userId'].isin(abnormalUsers))\n",
    "        ]['orders'],\n",
    "        pd.Series(\n",
    "            0,\n",
    "            index=np.arange(\n",
    "                data['visitorsPerDateA'].sum() - len(ordersByUsersA['orders'])\n",
    "            ),\n",
    "            name='orders',\n",
    "        ),\n",
    "    ],\n",
    "    axis=0,\n",
    ")\n",
    "\n",
    "sampleBFiltered = pd.concat(\n",
    "    [\n",
    "        ordersByUsersB[\n",
    "            np.logical_not(ordersByUsersB['userId'].isin(abnormalUsers))\n",
    "        ]['orders'],\n",
    "        pd.Series(\n",
    "            0,\n",
    "            index=np.arange(\n",
    "                data['visitorsPerDateB'].sum() - len(ordersByUsersB['orders'])\n",
    "            ),\n",
    "            name='orders',\n",
    "        ),\n",
    "    ],\n",
    "    axis=0,\n",
    ") "
   ]
  },
  {
   "cell_type": "markdown",
   "metadata": {
    "id": "LF6BlAJKJuIZ"
   },
   "source": [
    "Применим статистический критерий Манна-Уитни к полученным выборкам:\n"
   ]
  },
  {
   "cell_type": "code",
   "execution_count": 66,
   "metadata": {
    "colab": {
     "base_uri": "https://localhost:8080/"
    },
    "id": "WYYhoZWSJu0d",
    "outputId": "35d9e6b6-ef1d-4c38-ea2c-afb11ab4cfe4"
   },
   "outputs": [
    {
     "name": "stdout",
     "output_type": "stream",
     "text": [
      "По очищенным данным:\n",
      "p-value = \t\t\t\t\t1.59%\n",
      "Увеличение конверсии из визитов в заказы = \t17.39%\n"
     ]
    }
   ],
   "source": [
    "print('По очищенным данным:')\n",
    "print(\"p-value = \\t\\t\\t\\t\\t{0:.2f}%\".format(100 * stats.mannwhitneyu(sampleAFiltered, sampleBFiltered)[1]))\n",
    "print(\n",
    "    \"Увеличение конверсии из визитов в заказы = \\t{0:.2f}%\"\n",
    "    .format(\n",
    "        100 * \n",
    "        (sampleBFiltered.mean()/sampleAFiltered.mean()-1)\n",
    "    ) \n",
    ")"
   ]
  },
  {
   "cell_type": "markdown",
   "metadata": {
    "id": "oXza54hM-itf"
   },
   "source": [
    "*Сделайте выводы и предположения.*\n"
   ]
  },
  {
   "cell_type": "markdown",
   "metadata": {
    "id": "jNt1IkyapoZL"
   },
   "source": [
    "сравним значения\n",
    "\n",
    "| |сырые данные| очищенные данные|\n",
    "|-|---|---|\n",
    "|p-value|1.10%|1.59%|\n",
    "|Увеличение конверсии из визитов в заказы|+15.98|+17.39%|\n",
    "\n",
    "Таким образом p-value незначительно увеличилось, но оно по-прежнему меньше порога в 5%. Можно говорить, что  различие между группами есть. Величина среднего чека выросла в группе В до 17.39%."
   ]
  },
  {
   "cell_type": "markdown",
   "metadata": {
    "id": "WZE63QUzGB5A"
   },
   "source": [
    "### Статистическая значимость различий в среднем чеке заказа между группами по «очищенным» данным."
   ]
  },
  {
   "cell_type": "markdown",
   "metadata": {
    "id": "y3RC5lIN75eL"
   },
   "source": [
    "*Посчитайте статистическую значимость различий в среднем чеке заказа между группами по «очищенным» данным.*"
   ]
  },
  {
   "cell_type": "code",
   "execution_count": 67,
   "metadata": {
    "colab": {
     "base_uri": "https://localhost:8080/"
    },
    "id": "EFCXn06iJ-aq",
    "outputId": "66f96bcf-e068-402b-e4a2-0aba282261d7"
   },
   "outputs": [
    {
     "name": "stdout",
     "output_type": "stream",
     "text": [
      "Изменение среднего чека по очищенным данным:\n",
      "p-value = \t\t\t72.71%\n",
      "Увеличение среднего чека = \t95.63%\n"
     ]
    }
   ],
   "source": [
    "print('Изменение среднего чека по очищенным данным:')\n",
    "\n",
    "print(\n",
    "    \"p-value = \\t\\t\\t{0:.2f}%\".format(\n",
    "        100 * stats.mannwhitneyu(\n",
    "            orders[\n",
    "                np.logical_and(\n",
    "                    orders['group'] == 'A',\n",
    "                    np.logical_not(orders['visitor_id'].isin(abnormalUsers)),\n",
    "                )\n",
    "            ]['revenue'],\n",
    "            orders[\n",
    "                np.logical_and(\n",
    "                    orders['group'] == 'B',\n",
    "                    np.logical_not(orders['visitor_id'].isin(abnormalUsers)),\n",
    "                )\n",
    "            ]['revenue'],\n",
    "        )[1]\n",
    "    )\n",
    ")\n",
    "\n",
    "print(\n",
    "    \"Увеличение среднего чека = \\t{0:.2f}%\".format(\n",
    "        (orders[\n",
    "            np.logical_and(\n",
    "                orders['group'] == 'B',\n",
    "                np.logical_not(orders['visitor_id'].isin(abnormalUsers)),\n",
    "            )]['revenue'].mean()\n",
    "        / orders[np.logical_and(\n",
    "                orders['group'] == 'A',\n",
    "                np.logical_not(orders['visitor_id'].isin(abnormalUsers)),\n",
    "            )\n",
    "        ]['revenue'].mean())* 100\n",
    "        - 1\n",
    "    )\n",
    ")"
   ]
  },
  {
   "cell_type": "markdown",
   "metadata": {
    "id": "mFH3gASRsdT1"
   },
   "source": [
    "*Сделайте выводы и предположения.*"
   ]
  },
  {
   "cell_type": "markdown",
   "metadata": {
    "id": "7Q2D7ZxssvRt"
   },
   "source": [
    "сравним значения\n",
    "\n",
    "|параметр|сырые данные| очищенные данные|\n",
    "|-|---|---|\n",
    "|p-value|72,71%|72,71%|\n",
    "|увеличение значения среднего чека|28.66%|95.63%|"
   ]
  },
  {
   "cell_type": "markdown",
   "metadata": {
    "id": "qLijVzxOsp24"
   },
   "source": [
    "Таким образом устранение аномалий не изменило расклад - статистически разницы между группами нет, т.к. p-value существенно больше порогового. Значит изменение среднего чека можно не брать во внимание. "
   ]
  },
  {
   "cell_type": "markdown",
   "metadata": {
    "id": "9_BZs2EGwifA"
   },
   "source": [
    "### Выводы по разделу:"
   ]
  },
  {
   "cell_type": "markdown",
   "metadata": {
    "id": "ZlS90Mp3skSG"
   },
   "source": [
    "*Примите решение по результатам теста и объясните его.*"
   ]
  },
  {
   "cell_type": "markdown",
   "metadata": {
    "id": "bHJ7hz7btk75"
   },
   "source": [
    "Были исследованы два параметра со следующими результатами - в группе В:\n",
    "1. Есть статистически значимое различие по конверсии количества визитов в количество заказов между группами и по «сырым», и по данным после фильтрации аномалий.\n",
    "2. При этом по неочищенным данным конверсия из визитов в заказы стабильно выше в группе В на ~13%, чем в группе А:"
   ]
  },
  {
   "cell_type": "code",
   "execution_count": 68,
   "metadata": {
    "colab": {
     "base_uri": "https://localhost:8080/",
     "height": 312
    },
    "id": "7X9uUi5GwAtj",
    "outputId": "b6bc48db-b21a-44c0-cbd1-38f12a6c0321"
   },
   "outputs": [
    {
     "data": {
      "image/png": "[encoded data removed]",
      "text/plain": [
       "<Figure size 800x400 with 1 Axes>"
      ]
     },
     "metadata": {
      "needs_background": "light"
     },
     "output_type": "display_data"
    },
    {
     "data": {
      "text/plain": [
       "True"
      ]
     },
     "execution_count": 68,
     "metadata": {},
     "output_type": "execute_result"
    }
   ],
   "source": [
    "cum_con()"
   ]
  },
  {
   "cell_type": "markdown",
   "metadata": {
    "id": "lrTljSLav7lM"
   },
   "source": [
    "3. При этом по очищенным данным величина разницы даже выше 13% и составляет 17%.\n",
    "\n",
    "\n",
    "4. Нет статистически значимого различия по среднему чеку между группами ни по «сырым», ни по данным после фильтрации аномалий;\n",
    "5. При этом отношение среднего чека к групп В к А подвержено выбросам и по нему нельзя сделать выводы:"
   ]
  },
  {
   "cell_type": "code",
   "execution_count": 69,
   "metadata": {
    "colab": {
     "base_uri": "https://localhost:8080/",
     "height": 330
    },
    "id": "5OimAjkpxH0-",
    "outputId": "d71e98e1-2ec7-4a1b-d656-aecdd9fdb801"
   },
   "outputs": [
    {
     "data": {
      "image/png": "[encoded data removed]",
      "text/plain": [
       "<Figure size 800x400 with 1 Axes>"
      ]
     },
     "metadata": {
      "needs_background": "light"
     },
     "output_type": "display_data"
    }
   ],
   "source": [
    "cum_avg_revenue_per_user()\n",
    "None"
   ]
  },
  {
   "cell_type": "markdown",
   "metadata": {
    "id": "6pW5qRmYxG8e"
   },
   "source": [
    "6. Однако по очищенным данным видно, что средний чек уменьшился на 2%.\n",
    "\n",
    "**Таким образом можно сказать, что:**\n",
    "1. увеличение конверсии из визитов в визитов в заказы на 17.3% при неизменном среднем чеке является положительным исходом. Поэтому тест можно прекратить и остановиться на варианте В.\n",
    "2. При этом по возможности стоит продолжить тест на ещё пару недель, чтобы посмотреть, сохранится ли тренд на сближение конверсии групп А и В. \n"
   ]
  },
  {
   "cell_type": "markdown",
   "metadata": {
    "id": "SF6DahB9avom"
   },
   "source": [
    "## 4 = Выводы."
   ]
  },
  {
   "cell_type": "markdown",
   "metadata": {
    "id": "oM36D5aKzWlZ"
   },
   "source": [
    "**Качество и полнота входных данных:**\n",
    "\n",
    "- датасеты содержат информацию о 18736 визитах из группы А и 18916 визитах из группы B, а также 468 заказов в группе А и 548 заказах в группе В. Этого, похоже, достаточно для проведения исследования.\n",
    "- при этом из анализа удалили данные о 181 заказе от 58 пользователей, которые попали в группы A и В одновременно. Они были удалены из таблицы.\n",
    "- имена в `hypothesis` и `visits` приведены к `camel_case`\n",
    "- Пропусков нет ни в одном из датасетов.\n",
    "- Проверяем типы данных - изменили тип со строковрого на дату в датасетах `visits` и `orders`.\n",
    "- дубликатов в входных данных нет ни в одном из датасетов.\n",
    "\n",
    "Итого: Данных достаточно и с ними можно работать дальше.\n",
    "\n"
   ]
  },
  {
   "cell_type": "markdown",
   "metadata": {
    "id": "wS4rxV_a20uR"
   },
   "source": [
    "**Итоги А/В теста:** \n"
   ]
  },
  {
   "cell_type": "markdown",
   "metadata": {
    "id": "_VgGipAc21lz"
   },
   "source": [
    "Были исследованы два параметра со следующими результатами - в группе В:\n",
    "\n",
    "1. Есть статистически значимое различие по конверсии количества визитов в количество заказов между группами и по «сырым», и по данным после фильтрации аномалий. По очищенным данным конверсия увеличилась на 17.39%, что сущесвенно;\n",
    "2. Нет статистически значимого различия по среднему чеку между группами ни по «сырым», ни по данным после фильтрации аномалий."
   ]
  },
  {
   "cell_type": "markdown",
   "metadata": {
    "id": "b6Lfnf-J3Qqc"
   },
   "source": [
    "**Таким образом можно сказать, что:**\n",
    "1. увеличение конверсии из визитов в визитов в заказы на 17.39% при неизменном среднем чеке является положительным исходом. Поэтому тест можно прекратить и остановиться на варианте В.\n",
    "2. При этом по возможности стоит продолжить тест на ещё пару недель, чтобы посмотреть, сохранится ли тренд на сближение конверсии групп А и В. "
   ]
  }
 ],
 "metadata": {
  "ExecuteTimeLog": [
   {
    "duration": 964,
    "start_time": "2022-08-04T18:41:57.368Z"
   },
   {
    "duration": 3,
    "start_time": "2022-08-04T18:41:58.334Z"
   },
   {
    "duration": 1104,
    "start_time": "2022-08-04T18:41:58.339Z"
   },
   {
    "duration": 189,
    "start_time": "2022-08-04T18:41:59.445Z"
   },
   {
    "duration": 22,
    "start_time": "2022-08-04T18:41:59.635Z"
   },
   {
    "duration": 28,
    "start_time": "2022-08-04T18:41:59.658Z"
   },
   {
    "duration": 9,
    "start_time": "2022-08-04T18:41:59.688Z"
   },
   {
    "duration": 14,
    "start_time": "2022-08-04T18:41:59.698Z"
   },
   {
    "duration": 7,
    "start_time": "2022-08-04T18:41:59.713Z"
   },
   {
    "duration": 5,
    "start_time": "2022-08-04T18:41:59.722Z"
   },
   {
    "duration": 10,
    "start_time": "2022-08-04T18:41:59.729Z"
   },
   {
    "duration": 12,
    "start_time": "2022-08-04T18:41:59.741Z"
   },
   {
    "duration": 14,
    "start_time": "2022-08-04T18:41:59.754Z"
   },
   {
    "duration": 7,
    "start_time": "2022-08-04T18:41:59.770Z"
   },
   {
    "duration": 6,
    "start_time": "2022-08-04T18:41:59.806Z"
   },
   {
    "duration": 5,
    "start_time": "2022-08-04T18:41:59.813Z"
   },
   {
    "duration": 11,
    "start_time": "2022-08-04T18:41:59.819Z"
   },
   {
    "duration": 9,
    "start_time": "2022-08-04T18:41:59.832Z"
   },
   {
    "duration": 13,
    "start_time": "2022-08-04T18:41:59.842Z"
   },
   {
    "duration": 10,
    "start_time": "2022-08-04T18:41:59.857Z"
   },
   {
    "duration": 192,
    "start_time": "2022-08-04T18:41:59.869Z"
   },
   {
    "duration": 122,
    "start_time": "2022-08-04T18:42:00.062Z"
   },
   {
    "duration": 26,
    "start_time": "2022-08-04T18:42:00.186Z"
   },
   {
    "duration": 278,
    "start_time": "2022-08-04T18:42:00.213Z"
   },
   {
    "duration": 218,
    "start_time": "2022-08-04T18:42:00.493Z"
   },
   {
    "duration": 335,
    "start_time": "2022-08-04T18:42:00.712Z"
   },
   {
    "duration": 196,
    "start_time": "2022-08-04T18:42:01.048Z"
   },
   {
    "duration": 10,
    "start_time": "2022-08-04T18:42:01.248Z"
   },
   {
    "duration": 287,
    "start_time": "2022-08-04T18:42:01.259Z"
   },
   {
    "duration": 161,
    "start_time": "2022-08-04T18:42:01.548Z"
   },
   {
    "duration": 5,
    "start_time": "2022-08-04T18:42:01.710Z"
   },
   {
    "duration": 12,
    "start_time": "2022-08-04T18:42:01.716Z"
   },
   {
    "duration": 165,
    "start_time": "2022-08-04T18:42:01.730Z"
   },
   {
    "duration": 159,
    "start_time": "2022-08-04T18:42:01.897Z"
   },
   {
    "duration": 4,
    "start_time": "2022-08-04T18:42:02.058Z"
   },
   {
    "duration": 13,
    "start_time": "2022-08-04T18:42:02.064Z"
   },
   {
    "duration": 76,
    "start_time": "2022-08-04T18:42:02.079Z"
   },
   {
    "duration": 7,
    "start_time": "2022-08-04T18:42:02.156Z"
   },
   {
    "duration": 80,
    "start_time": "2022-08-04T18:42:02.165Z"
   },
   {
    "duration": 111,
    "start_time": "2022-08-04T18:42:02.247Z"
   },
   {
    "duration": 6,
    "start_time": "2022-08-04T18:42:02.359Z"
   },
   {
    "duration": 8,
    "start_time": "2022-08-04T18:42:02.366Z"
   },
   {
    "duration": 6,
    "start_time": "2022-08-04T18:42:02.375Z"
   },
   {
    "duration": 37,
    "start_time": "2022-08-04T18:42:02.382Z"
   },
   {
    "duration": 8,
    "start_time": "2022-08-04T18:42:02.420Z"
   },
   {
    "duration": 13,
    "start_time": "2022-08-04T18:42:02.430Z"
   },
   {
    "duration": 7,
    "start_time": "2022-08-04T18:42:02.444Z"
   },
   {
    "duration": 8,
    "start_time": "2022-08-04T18:42:02.453Z"
   },
   {
    "duration": 7,
    "start_time": "2022-08-04T18:42:02.462Z"
   },
   {
    "duration": 36,
    "start_time": "2022-08-04T18:42:02.470Z"
   },
   {
    "duration": 11,
    "start_time": "2022-08-04T18:42:02.507Z"
   },
   {
    "duration": 290,
    "start_time": "2022-08-04T18:42:02.519Z"
   },
   {
    "duration": 295,
    "start_time": "2022-08-04T18:42:02.811Z"
   },
   {
    "duration": 301,
    "start_time": "2022-08-04T18:42:03.108Z"
   },
   {
    "duration": 299,
    "start_time": "2022-08-04T18:42:03.410Z"
   },
   {
    "duration": 44,
    "start_time": "2022-08-05T10:22:34.182Z"
   },
   {
    "duration": 1080,
    "start_time": "2022-08-05T10:22:36.960Z"
   },
   {
    "duration": 3,
    "start_time": "2022-08-05T10:22:39.984Z"
   },
   {
    "duration": 1105,
    "start_time": "2022-08-05T10:22:42.863Z"
   },
   {
    "duration": 189,
    "start_time": "2022-08-05T10:22:51.530Z"
   },
   {
    "duration": 20,
    "start_time": "2022-08-05T10:23:02.658Z"
   },
   {
    "duration": 15,
    "start_time": "2022-08-05T10:25:20.959Z"
   },
   {
    "duration": 12,
    "start_time": "2022-08-05T10:27:05.937Z"
   },
   {
    "duration": 6,
    "start_time": "2022-08-05T10:27:26.267Z"
   },
   {
    "duration": 6,
    "start_time": "2022-08-05T10:27:45.821Z"
   },
   {
    "duration": 6,
    "start_time": "2022-08-05T10:27:57.043Z"
   },
   {
    "duration": 5,
    "start_time": "2022-08-05T10:28:29.823Z"
   },
   {
    "duration": 7,
    "start_time": "2022-08-05T10:28:38.280Z"
   },
   {
    "duration": 58,
    "start_time": "2022-08-05T10:28:45.039Z"
   },
   {
    "duration": 9,
    "start_time": "2022-08-05T10:29:11.871Z"
   },
   {
    "duration": 5,
    "start_time": "2022-08-05T10:29:21.464Z"
   },
   {
    "duration": 6,
    "start_time": "2022-08-05T10:29:44.590Z"
   },
   {
    "duration": 5,
    "start_time": "2022-08-05T10:30:47.092Z"
   },
   {
    "duration": 6,
    "start_time": "2022-08-05T10:32:08.007Z"
   },
   {
    "duration": 5,
    "start_time": "2022-08-05T10:32:16.327Z"
   },
   {
    "duration": 7,
    "start_time": "2022-08-05T10:32:59.961Z"
   },
   {
    "duration": 7,
    "start_time": "2022-08-05T10:38:09.630Z"
   },
   {
    "duration": 4,
    "start_time": "2022-08-05T10:38:40.071Z"
   },
   {
    "duration": 5,
    "start_time": "2022-08-05T10:38:54.535Z"
   },
   {
    "duration": 8,
    "start_time": "2022-08-05T10:39:01.087Z"
   },
   {
    "duration": 7,
    "start_time": "2022-08-05T10:39:13.752Z"
   },
   {
    "duration": 6,
    "start_time": "2022-08-05T10:55:37.311Z"
   },
   {
    "duration": 11,
    "start_time": "2022-08-05T10:56:13.201Z"
   },
   {
    "duration": 9,
    "start_time": "2022-08-05T10:56:43.210Z"
   },
   {
    "duration": 5,
    "start_time": "2022-08-05T10:56:45.817Z"
   },
   {
    "duration": 899,
    "start_time": "2022-08-05T10:57:04.075Z"
   },
   {
    "duration": 14,
    "start_time": "2022-08-05T10:57:31.500Z"
   },
   {
    "duration": 12,
    "start_time": "2022-08-05T11:00:29.411Z"
   },
   {
    "duration": 12,
    "start_time": "2022-08-05T11:03:52.012Z"
   },
   {
    "duration": 1161,
    "start_time": "2022-08-05T11:04:05.756Z"
   },
   {
    "duration": 12,
    "start_time": "2022-08-05T11:05:57.544Z"
   },
   {
    "duration": 9,
    "start_time": "2022-08-05T11:06:14.569Z"
   },
   {
    "duration": 8,
    "start_time": "2022-08-05T11:06:34.332Z"
   },
   {
    "duration": 13,
    "start_time": "2022-08-05T11:08:41.217Z"
   },
   {
    "duration": 11,
    "start_time": "2022-08-05T11:10:12.685Z"
   },
   {
    "duration": 10,
    "start_time": "2022-08-05T11:10:30.708Z"
   },
   {
    "duration": 12,
    "start_time": "2022-08-05T11:10:41.835Z"
   },
   {
    "duration": 1406,
    "start_time": "2022-08-05T11:12:26.769Z"
   },
   {
    "duration": 1484,
    "start_time": "2022-08-05T11:12:37.570Z"
   },
   {
    "duration": 5,
    "start_time": "2022-08-05T11:12:54.858Z"
   },
   {
    "duration": 15,
    "start_time": "2022-08-05T11:13:18.874Z"
   },
   {
    "duration": 12,
    "start_time": "2022-08-05T11:14:27.085Z"
   },
   {
    "duration": 13,
    "start_time": "2022-08-05T11:15:19.433Z"
   },
   {
    "duration": 11,
    "start_time": "2022-08-05T11:15:33.959Z"
   },
   {
    "duration": 14,
    "start_time": "2022-08-05T11:16:31.299Z"
   },
   {
    "duration": 10,
    "start_time": "2022-08-05T11:16:38.635Z"
   },
   {
    "duration": 13,
    "start_time": "2022-08-05T11:20:47.597Z"
   },
   {
    "duration": 12,
    "start_time": "2022-08-05T11:20:51.196Z"
   },
   {
    "duration": 7,
    "start_time": "2022-08-05T11:24:39.613Z"
   },
   {
    "duration": 16,
    "start_time": "2022-08-05T11:24:47.750Z"
   },
   {
    "duration": 8,
    "start_time": "2022-08-05T11:25:07.040Z"
   },
   {
    "duration": 7,
    "start_time": "2022-08-05T11:25:19.000Z"
   },
   {
    "duration": 7,
    "start_time": "2022-08-05T11:25:28.530Z"
   },
   {
    "duration": 9,
    "start_time": "2022-08-05T11:26:31.892Z"
   },
   {
    "duration": 7,
    "start_time": "2022-08-05T11:26:58.629Z"
   },
   {
    "duration": 17,
    "start_time": "2022-08-05T11:27:07.060Z"
   },
   {
    "duration": 16,
    "start_time": "2022-08-05T11:27:40.279Z"
   },
   {
    "duration": 967,
    "start_time": "2022-08-05T11:28:05.964Z"
   },
   {
    "duration": 3,
    "start_time": "2022-08-05T11:28:06.933Z"
   },
   {
    "duration": 1121,
    "start_time": "2022-08-05T11:28:06.937Z"
   },
   {
    "duration": 73,
    "start_time": "2022-08-05T11:28:08.060Z"
   },
   {
    "duration": 21,
    "start_time": "2022-08-05T11:28:08.134Z"
   },
   {
    "duration": 27,
    "start_time": "2022-08-05T11:28:08.156Z"
   },
   {
    "duration": 8,
    "start_time": "2022-08-05T11:28:08.184Z"
   },
   {
    "duration": 13,
    "start_time": "2022-08-05T11:28:08.193Z"
   },
   {
    "duration": 5,
    "start_time": "2022-08-05T11:28:08.207Z"
   },
   {
    "duration": 5,
    "start_time": "2022-08-05T11:28:08.214Z"
   },
   {
    "duration": 4,
    "start_time": "2022-08-05T11:28:08.221Z"
   },
   {
    "duration": 6,
    "start_time": "2022-08-05T11:28:08.227Z"
   },
   {
    "duration": 6,
    "start_time": "2022-08-05T11:28:08.235Z"
   },
   {
    "duration": 9,
    "start_time": "2022-08-05T11:28:10.661Z"
   },
   {
    "duration": 14,
    "start_time": "2022-08-05T11:28:58.006Z"
   },
   {
    "duration": 8,
    "start_time": "2022-08-05T11:31:37.534Z"
   },
   {
    "duration": 9,
    "start_time": "2022-08-05T11:31:54.664Z"
   },
   {
    "duration": 14,
    "start_time": "2022-08-05T11:35:29.232Z"
   },
   {
    "duration": 18,
    "start_time": "2022-08-05T11:35:50.897Z"
   },
   {
    "duration": 11,
    "start_time": "2022-08-05T11:36:32.755Z"
   },
   {
    "duration": 11,
    "start_time": "2022-08-05T11:37:21.332Z"
   },
   {
    "duration": 12,
    "start_time": "2022-08-05T11:38:03.430Z"
   },
   {
    "duration": 15,
    "start_time": "2022-08-05T11:40:21.756Z"
   },
   {
    "duration": 11,
    "start_time": "2022-08-05T11:40:46.973Z"
   },
   {
    "duration": 16,
    "start_time": "2022-08-05T11:41:04.142Z"
   },
   {
    "duration": 16,
    "start_time": "2022-08-05T11:41:21.711Z"
   },
   {
    "duration": 16,
    "start_time": "2022-08-05T11:56:31.477Z"
   },
   {
    "duration": 9,
    "start_time": "2022-08-05T12:18:25.423Z"
   },
   {
    "duration": 4,
    "start_time": "2022-08-05T12:19:26.852Z"
   },
   {
    "duration": 6,
    "start_time": "2022-08-05T12:19:26.858Z"
   },
   {
    "duration": 1151,
    "start_time": "2022-08-05T12:19:26.866Z"
   },
   {
    "duration": 76,
    "start_time": "2022-08-05T12:19:28.019Z"
   },
   {
    "duration": 19,
    "start_time": "2022-08-05T12:19:28.097Z"
   },
   {
    "duration": 29,
    "start_time": "2022-08-05T12:19:28.117Z"
   },
   {
    "duration": 8,
    "start_time": "2022-08-05T12:19:28.148Z"
   },
   {
    "duration": 12,
    "start_time": "2022-08-05T12:19:28.157Z"
   },
   {
    "duration": 37,
    "start_time": "2022-08-05T12:19:28.171Z"
   },
   {
    "duration": 8,
    "start_time": "2022-08-05T12:19:28.210Z"
   },
   {
    "duration": 5,
    "start_time": "2022-08-05T12:19:28.220Z"
   },
   {
    "duration": 8,
    "start_time": "2022-08-05T12:19:28.227Z"
   },
   {
    "duration": 14,
    "start_time": "2022-08-05T12:19:28.236Z"
   },
   {
    "duration": 15,
    "start_time": "2022-08-05T12:19:28.251Z"
   },
   {
    "duration": 16,
    "start_time": "2022-08-05T12:19:28.268Z"
   },
   {
    "duration": 38,
    "start_time": "2022-08-05T12:19:28.286Z"
   },
   {
    "duration": 8,
    "start_time": "2022-08-05T12:19:28.325Z"
   },
   {
    "duration": 8,
    "start_time": "2022-08-05T12:19:28.334Z"
   },
   {
    "duration": 5,
    "start_time": "2022-08-05T12:19:28.343Z"
   },
   {
    "duration": 8,
    "start_time": "2022-08-05T12:19:28.350Z"
   },
   {
    "duration": 14,
    "start_time": "2022-08-05T12:19:28.359Z"
   },
   {
    "duration": 40,
    "start_time": "2022-08-05T12:19:28.375Z"
   },
   {
    "duration": 5,
    "start_time": "2022-08-05T12:19:28.417Z"
   },
   {
    "duration": 7,
    "start_time": "2022-08-05T12:19:28.424Z"
   },
   {
    "duration": 5,
    "start_time": "2022-08-05T12:19:28.432Z"
   },
   {
    "duration": 12,
    "start_time": "2022-08-05T12:19:28.439Z"
   },
   {
    "duration": 10,
    "start_time": "2022-08-05T12:19:28.452Z"
   },
   {
    "duration": 42,
    "start_time": "2022-08-05T12:19:28.464Z"
   },
   {
    "duration": 12,
    "start_time": "2022-08-05T12:19:28.509Z"
   },
   {
    "duration": 171,
    "start_time": "2022-08-05T12:19:28.523Z"
   },
   {
    "duration": 127,
    "start_time": "2022-08-05T12:19:28.700Z"
   },
   {
    "duration": 14,
    "start_time": "2022-08-05T12:19:28.828Z"
   },
   {
    "duration": 318,
    "start_time": "2022-08-05T12:19:28.843Z"
   },
   {
    "duration": 217,
    "start_time": "2022-08-05T12:19:29.162Z"
   },
   {
    "duration": 373,
    "start_time": "2022-08-05T12:19:29.380Z"
   },
   {
    "duration": 204,
    "start_time": "2022-08-05T12:19:29.754Z"
   },
   {
    "duration": 11,
    "start_time": "2022-08-05T12:19:29.959Z"
   },
   {
    "duration": 351,
    "start_time": "2022-08-05T12:19:29.972Z"
   },
   {
    "duration": 165,
    "start_time": "2022-08-05T12:19:30.325Z"
   },
   {
    "duration": 4,
    "start_time": "2022-08-05T12:19:30.492Z"
   },
   {
    "duration": 7,
    "start_time": "2022-08-05T12:19:30.506Z"
   },
   {
    "duration": 166,
    "start_time": "2022-08-05T12:19:30.514Z"
   },
   {
    "duration": 157,
    "start_time": "2022-08-05T12:19:30.681Z"
   },
   {
    "duration": 5,
    "start_time": "2022-08-05T12:19:30.840Z"
   },
   {
    "duration": 22,
    "start_time": "2022-08-05T12:19:30.846Z"
   },
   {
    "duration": 72,
    "start_time": "2022-08-05T12:19:30.870Z"
   },
   {
    "duration": 8,
    "start_time": "2022-08-05T12:19:30.944Z"
   },
   {
    "duration": 87,
    "start_time": "2022-08-05T12:19:30.954Z"
   },
   {
    "duration": 119,
    "start_time": "2022-08-05T12:19:31.043Z"
   },
   {
    "duration": 6,
    "start_time": "2022-08-05T12:19:31.164Z"
   },
   {
    "duration": 8,
    "start_time": "2022-08-05T12:19:31.172Z"
   },
   {
    "duration": 26,
    "start_time": "2022-08-05T12:19:31.181Z"
   },
   {
    "duration": 27,
    "start_time": "2022-08-05T12:19:31.209Z"
   },
   {
    "duration": 9,
    "start_time": "2022-08-05T12:19:31.238Z"
   },
   {
    "duration": 22,
    "start_time": "2022-08-05T12:19:31.249Z"
   },
   {
    "duration": 16,
    "start_time": "2022-08-05T12:19:31.272Z"
   },
   {
    "duration": 25,
    "start_time": "2022-08-05T12:19:31.290Z"
   },
   {
    "duration": 19,
    "start_time": "2022-08-05T12:19:31.317Z"
   },
   {
    "duration": 39,
    "start_time": "2022-08-05T12:19:31.338Z"
   },
   {
    "duration": 13,
    "start_time": "2022-08-05T12:19:31.379Z"
   },
   {
    "duration": 312,
    "start_time": "2022-08-05T12:19:31.394Z"
   },
   {
    "duration": 301,
    "start_time": "2022-08-05T12:19:31.708Z"
   },
   {
    "duration": 304,
    "start_time": "2022-08-05T12:19:32.011Z"
   },
   {
    "duration": 292,
    "start_time": "2022-08-05T12:19:32.317Z"
   },
   {
    "duration": 1603,
    "start_time": "2022-08-05T12:25:10.067Z"
   },
   {
    "duration": 1370,
    "start_time": "2022-08-05T12:25:29.452Z"
   },
   {
    "duration": 1095,
    "start_time": "2022-08-05T12:25:48.254Z"
   },
   {
    "duration": 4,
    "start_time": "2022-08-05T12:25:49.352Z"
   },
   {
    "duration": 1208,
    "start_time": "2022-08-05T12:25:49.358Z"
   },
   {
    "duration": 78,
    "start_time": "2022-08-05T12:25:50.568Z"
   },
   {
    "duration": 24,
    "start_time": "2022-08-05T12:25:50.649Z"
   },
   {
    "duration": 28,
    "start_time": "2022-08-05T12:25:50.674Z"
   },
   {
    "duration": 8,
    "start_time": "2022-08-05T12:25:50.704Z"
   },
   {
    "duration": 9,
    "start_time": "2022-08-05T12:25:58.095Z"
   },
   {
    "duration": 6,
    "start_time": "2022-08-05T12:26:07.870Z"
   },
   {
    "duration": 6,
    "start_time": "2022-08-05T12:26:09.501Z"
   },
   {
    "duration": 6,
    "start_time": "2022-08-05T12:26:10.885Z"
   },
   {
    "duration": 6,
    "start_time": "2022-08-05T12:26:12.173Z"
   },
   {
    "duration": 7,
    "start_time": "2022-08-05T12:26:15.069Z"
   },
   {
    "duration": 4,
    "start_time": "2022-08-05T12:31:07.531Z"
   },
   {
    "duration": 11,
    "start_time": "2022-08-05T12:37:36.506Z"
   },
   {
    "duration": 91,
    "start_time": "2022-08-05T12:38:53.533Z"
   },
   {
    "duration": 78,
    "start_time": "2022-08-05T12:38:58.949Z"
   },
   {
    "duration": 6,
    "start_time": "2022-08-05T12:39:06.341Z"
   },
   {
    "duration": 10,
    "start_time": "2022-08-05T12:40:22.547Z"
   },
   {
    "duration": 9,
    "start_time": "2022-08-05T12:40:31.689Z"
   },
   {
    "duration": 15,
    "start_time": "2022-08-05T12:42:11.356Z"
   },
   {
    "duration": 18,
    "start_time": "2022-08-05T12:42:16.613Z"
   },
   {
    "duration": 9,
    "start_time": "2022-08-05T12:42:25.469Z"
   },
   {
    "duration": 1016,
    "start_time": "2022-08-05T12:44:03.049Z"
   },
   {
    "duration": 3,
    "start_time": "2022-08-05T12:44:04.068Z"
   },
   {
    "duration": 1204,
    "start_time": "2022-08-05T12:44:04.073Z"
   },
   {
    "duration": 75,
    "start_time": "2022-08-05T12:44:05.280Z"
   },
   {
    "duration": 23,
    "start_time": "2022-08-05T12:44:05.357Z"
   },
   {
    "duration": 27,
    "start_time": "2022-08-05T12:44:05.381Z"
   },
   {
    "duration": 9,
    "start_time": "2022-08-05T12:44:05.409Z"
   },
   {
    "duration": 9,
    "start_time": "2022-08-05T12:44:05.419Z"
   },
   {
    "duration": 5,
    "start_time": "2022-08-05T12:44:05.429Z"
   },
   {
    "duration": 6,
    "start_time": "2022-08-05T12:44:05.436Z"
   },
   {
    "duration": 12,
    "start_time": "2022-08-05T12:44:05.443Z"
   },
   {
    "duration": 16,
    "start_time": "2022-08-05T12:44:05.456Z"
   },
   {
    "duration": 1161,
    "start_time": "2022-08-05T12:44:43.798Z"
   },
   {
    "duration": 3,
    "start_time": "2022-08-05T12:44:44.961Z"
   },
   {
    "duration": 1207,
    "start_time": "2022-08-05T12:44:44.966Z"
   },
   {
    "duration": 79,
    "start_time": "2022-08-05T12:44:46.178Z"
   },
   {
    "duration": 25,
    "start_time": "2022-08-05T12:44:46.260Z"
   },
   {
    "duration": 32,
    "start_time": "2022-08-05T12:44:46.287Z"
   },
   {
    "duration": 10,
    "start_time": "2022-08-05T12:44:46.321Z"
   },
   {
    "duration": 15,
    "start_time": "2022-08-05T12:44:46.334Z"
   },
   {
    "duration": 14,
    "start_time": "2022-08-05T12:44:46.351Z"
   },
   {
    "duration": 7,
    "start_time": "2022-08-05T12:44:46.367Z"
   },
   {
    "duration": 31,
    "start_time": "2022-08-05T12:44:46.376Z"
   },
   {
    "duration": 9,
    "start_time": "2022-08-05T12:44:46.409Z"
   },
   {
    "duration": 17,
    "start_time": "2022-08-05T12:45:44.630Z"
   },
   {
    "duration": 8,
    "start_time": "2022-08-05T12:46:38.792Z"
   },
   {
    "duration": 18,
    "start_time": "2022-08-05T13:01:57.109Z"
   },
   {
    "duration": 17,
    "start_time": "2022-08-05T13:02:27.568Z"
   },
   {
    "duration": 9,
    "start_time": "2022-08-05T13:02:48.080Z"
   },
   {
    "duration": 8,
    "start_time": "2022-08-05T13:02:59.487Z"
   },
   {
    "duration": 16,
    "start_time": "2022-08-05T13:04:40.836Z"
   },
   {
    "duration": 103,
    "start_time": "2022-08-05T13:05:38.879Z"
   },
   {
    "duration": 142,
    "start_time": "2022-08-05T13:05:45.023Z"
   },
   {
    "duration": 45,
    "start_time": "2022-08-05T13:06:18.724Z"
   },
   {
    "duration": 35,
    "start_time": "2022-08-05T13:06:26.728Z"
   },
   {
    "duration": 28,
    "start_time": "2022-08-05T13:06:43.773Z"
   },
   {
    "duration": 27,
    "start_time": "2022-08-05T13:07:02.795Z"
   },
   {
    "duration": 10,
    "start_time": "2022-08-05T13:07:14.139Z"
   },
   {
    "duration": 18,
    "start_time": "2022-08-05T13:56:10.918Z"
   },
   {
    "duration": 4,
    "start_time": "2022-08-05T13:59:01.682Z"
   },
   {
    "duration": 7,
    "start_time": "2022-08-05T14:00:40.334Z"
   },
   {
    "duration": 21,
    "start_time": "2022-08-05T14:00:47.968Z"
   },
   {
    "duration": 16,
    "start_time": "2022-08-05T14:01:40.124Z"
   },
   {
    "duration": 6,
    "start_time": "2022-08-05T14:02:57.492Z"
   },
   {
    "duration": 4,
    "start_time": "2022-08-05T14:03:02.788Z"
   },
   {
    "duration": 8,
    "start_time": "2022-08-05T14:06:45.062Z"
   },
   {
    "duration": 6,
    "start_time": "2022-08-05T14:07:00.654Z"
   },
   {
    "duration": 11,
    "start_time": "2022-08-05T14:08:15.961Z"
   },
   {
    "duration": 6,
    "start_time": "2022-08-05T14:10:50.471Z"
   },
   {
    "duration": 17,
    "start_time": "2022-08-05T14:10:58.784Z"
   },
   {
    "duration": 9,
    "start_time": "2022-08-05T14:13:02.425Z"
   },
   {
    "duration": 4,
    "start_time": "2022-08-05T14:22:46.644Z"
   },
   {
    "duration": 10,
    "start_time": "2022-08-05T14:22:46.651Z"
   },
   {
    "duration": 1277,
    "start_time": "2022-08-05T14:22:46.663Z"
   },
   {
    "duration": 85,
    "start_time": "2022-08-05T14:22:47.943Z"
   },
   {
    "duration": 22,
    "start_time": "2022-08-05T14:22:48.032Z"
   },
   {
    "duration": 63,
    "start_time": "2022-08-05T14:22:48.056Z"
   },
   {
    "duration": 12,
    "start_time": "2022-08-05T14:22:48.125Z"
   },
   {
    "duration": 21,
    "start_time": "2022-08-05T14:22:48.139Z"
   },
   {
    "duration": 9,
    "start_time": "2022-08-05T14:22:48.161Z"
   },
   {
    "duration": 7,
    "start_time": "2022-08-05T14:22:48.172Z"
   },
   {
    "duration": 40,
    "start_time": "2022-08-05T14:22:48.183Z"
   },
   {
    "duration": 6,
    "start_time": "2022-08-05T14:22:48.228Z"
   },
   {
    "duration": 20,
    "start_time": "2022-08-05T14:22:48.236Z"
   },
   {
    "duration": 18,
    "start_time": "2022-08-05T14:22:48.257Z"
   },
   {
    "duration": 38,
    "start_time": "2022-08-05T14:22:48.277Z"
   },
   {
    "duration": 34,
    "start_time": "2022-08-05T14:22:48.317Z"
   },
   {
    "duration": 8,
    "start_time": "2022-08-05T14:22:48.353Z"
   },
   {
    "duration": 11,
    "start_time": "2022-08-05T14:22:48.363Z"
   },
   {
    "duration": 45,
    "start_time": "2022-08-05T14:22:48.376Z"
   },
   {
    "duration": 13,
    "start_time": "2022-08-05T14:22:48.423Z"
   },
   {
    "duration": 9,
    "start_time": "2022-08-05T14:22:48.438Z"
   },
   {
    "duration": 9,
    "start_time": "2022-08-05T14:22:48.449Z"
   },
   {
    "duration": 12,
    "start_time": "2022-08-05T14:22:48.460Z"
   },
   {
    "duration": 16,
    "start_time": "2022-08-05T14:22:48.474Z"
   },
   {
    "duration": 21,
    "start_time": "2022-08-05T14:22:48.506Z"
   },
   {
    "duration": 11,
    "start_time": "2022-08-05T14:22:48.529Z"
   },
   {
    "duration": 10,
    "start_time": "2022-08-05T14:22:48.542Z"
   },
   {
    "duration": 7,
    "start_time": "2022-08-05T14:22:48.555Z"
   },
   {
    "duration": 42,
    "start_time": "2022-08-05T14:22:48.568Z"
   },
   {
    "duration": 34,
    "start_time": "2022-08-05T14:22:48.613Z"
   },
   {
    "duration": 19,
    "start_time": "2022-08-05T14:22:48.649Z"
   },
   {
    "duration": 17,
    "start_time": "2022-08-05T14:22:48.670Z"
   },
   {
    "duration": 209,
    "start_time": "2022-08-05T14:22:48.689Z"
   },
   {
    "duration": 165,
    "start_time": "2022-08-05T14:22:48.900Z"
   },
   {
    "duration": 39,
    "start_time": "2022-08-05T14:22:49.068Z"
   },
   {
    "duration": 420,
    "start_time": "2022-08-05T14:22:49.121Z"
   },
   {
    "duration": 289,
    "start_time": "2022-08-05T14:22:49.543Z"
   },
   {
    "duration": 395,
    "start_time": "2022-08-05T14:22:49.834Z"
   },
   {
    "duration": 261,
    "start_time": "2022-08-05T14:22:50.231Z"
   },
   {
    "duration": 30,
    "start_time": "2022-08-05T14:22:50.494Z"
   },
   {
    "duration": 350,
    "start_time": "2022-08-05T14:22:50.527Z"
   },
   {
    "duration": 218,
    "start_time": "2022-08-05T14:22:50.879Z"
   },
   {
    "duration": 9,
    "start_time": "2022-08-05T14:22:51.106Z"
   },
   {
    "duration": 20,
    "start_time": "2022-08-05T14:22:51.116Z"
   },
   {
    "duration": 213,
    "start_time": "2022-08-05T14:22:51.138Z"
   },
   {
    "duration": 205,
    "start_time": "2022-08-05T14:22:51.353Z"
   },
   {
    "duration": 5,
    "start_time": "2022-08-05T14:22:51.560Z"
   },
   {
    "duration": 21,
    "start_time": "2022-08-05T14:22:51.567Z"
   },
   {
    "duration": 101,
    "start_time": "2022-08-05T14:22:51.590Z"
   },
   {
    "duration": 19,
    "start_time": "2022-08-05T14:22:51.693Z"
   },
   {
    "duration": 107,
    "start_time": "2022-08-05T14:22:51.713Z"
   },
   {
    "duration": 143,
    "start_time": "2022-08-05T14:22:51.822Z"
   },
   {
    "duration": 6,
    "start_time": "2022-08-05T14:22:51.967Z"
   },
   {
    "duration": 7,
    "start_time": "2022-08-05T14:22:51.975Z"
   },
   {
    "duration": 10,
    "start_time": "2022-08-05T14:22:52.011Z"
   },
   {
    "duration": 29,
    "start_time": "2022-08-05T14:22:52.024Z"
   },
   {
    "duration": 13,
    "start_time": "2022-08-05T14:22:52.055Z"
   },
   {
    "duration": 11,
    "start_time": "2022-08-05T14:22:52.069Z"
   },
   {
    "duration": 12,
    "start_time": "2022-08-05T14:22:52.106Z"
   },
   {
    "duration": 10,
    "start_time": "2022-08-05T14:22:52.120Z"
   },
   {
    "duration": 9,
    "start_time": "2022-08-05T14:22:52.132Z"
   },
   {
    "duration": 24,
    "start_time": "2022-08-05T14:22:52.143Z"
   },
   {
    "duration": 53,
    "start_time": "2022-08-05T14:22:52.169Z"
   },
   {
    "duration": 327,
    "start_time": "2022-08-05T14:22:52.224Z"
   },
   {
    "duration": 299,
    "start_time": "2022-08-05T14:22:52.553Z"
   },
   {
    "duration": 334,
    "start_time": "2022-08-05T14:22:52.854Z"
   },
   {
    "duration": 372,
    "start_time": "2022-08-05T14:22:53.190Z"
   },
   {
    "duration": 265,
    "start_time": "2022-08-05T14:31:34.058Z"
   },
   {
    "duration": 319,
    "start_time": "2022-08-05T14:35:03.611Z"
   },
   {
    "duration": 309,
    "start_time": "2022-08-05T14:35:30.928Z"
   },
   {
    "duration": 322,
    "start_time": "2022-08-05T14:35:39.870Z"
   },
   {
    "duration": 265,
    "start_time": "2022-08-05T14:39:26.158Z"
   },
   {
    "duration": 234,
    "start_time": "2022-08-05T14:39:34.847Z"
   },
   {
    "duration": 373,
    "start_time": "2022-08-05T14:40:15.672Z"
   },
   {
    "duration": 457,
    "start_time": "2022-08-05T14:40:23.081Z"
   },
   {
    "duration": 198,
    "start_time": "2022-08-05T14:40:34.489Z"
   },
   {
    "duration": 185,
    "start_time": "2022-08-05T14:41:54.661Z"
   },
   {
    "duration": 178,
    "start_time": "2022-08-05T14:41:59.925Z"
   },
   {
    "duration": 360,
    "start_time": "2022-08-05T14:45:18.493Z"
   },
   {
    "duration": 368,
    "start_time": "2022-08-05T14:46:05.863Z"
   },
   {
    "duration": 206,
    "start_time": "2022-08-05T14:46:22.021Z"
   },
   {
    "duration": 314,
    "start_time": "2022-08-05T14:46:38.977Z"
   },
   {
    "duration": 228,
    "start_time": "2022-08-05T14:46:53.021Z"
   },
   {
    "duration": 325,
    "start_time": "2022-08-05T14:47:11.265Z"
   },
   {
    "duration": 324,
    "start_time": "2022-08-05T14:47:16.017Z"
   },
   {
    "duration": 450,
    "start_time": "2022-08-05T14:47:21.594Z"
   },
   {
    "duration": 266,
    "start_time": "2022-08-05T14:47:24.850Z"
   },
   {
    "duration": 20,
    "start_time": "2022-08-05T14:54:26.826Z"
   },
   {
    "duration": 21,
    "start_time": "2022-08-05T14:54:48.148Z"
   },
   {
    "duration": 40,
    "start_time": "2022-08-05T14:57:55.780Z"
   },
   {
    "duration": 25,
    "start_time": "2022-08-05T14:58:02.484Z"
   },
   {
    "duration": 84,
    "start_time": "2022-08-05T14:58:27.574Z"
   },
   {
    "duration": 19,
    "start_time": "2022-08-05T14:58:34.526Z"
   },
   {
    "duration": 20,
    "start_time": "2022-08-05T14:58:43.221Z"
   },
   {
    "duration": 23,
    "start_time": "2022-08-05T14:59:06.023Z"
   },
   {
    "duration": 23,
    "start_time": "2022-08-05T14:59:13.086Z"
   },
   {
    "duration": 19,
    "start_time": "2022-08-05T14:59:25.359Z"
   },
   {
    "duration": 20,
    "start_time": "2022-08-05T14:59:35.071Z"
   },
   {
    "duration": 21,
    "start_time": "2022-08-05T14:59:56.869Z"
   },
   {
    "duration": 17,
    "start_time": "2022-08-05T15:03:24.705Z"
   },
   {
    "duration": 12,
    "start_time": "2022-08-05T15:03:51.677Z"
   },
   {
    "duration": 11,
    "start_time": "2022-08-05T15:03:57.917Z"
   },
   {
    "duration": 13,
    "start_time": "2022-08-05T15:08:34.550Z"
   },
   {
    "duration": 10,
    "start_time": "2022-08-05T15:08:54.919Z"
   },
   {
    "duration": 13,
    "start_time": "2022-08-05T15:09:14.207Z"
   },
   {
    "duration": 14,
    "start_time": "2022-08-05T15:10:40.627Z"
   },
   {
    "duration": 17,
    "start_time": "2022-08-05T15:10:50.211Z"
   },
   {
    "duration": 16,
    "start_time": "2022-08-05T15:10:58.892Z"
   },
   {
    "duration": 16,
    "start_time": "2022-08-05T15:11:04.700Z"
   },
   {
    "duration": 10,
    "start_time": "2022-08-05T15:11:04.988Z"
   },
   {
    "duration": 115,
    "start_time": "2022-08-05T15:11:40.069Z"
   },
   {
    "duration": 74,
    "start_time": "2022-08-05T15:12:14.671Z"
   },
   {
    "duration": 75,
    "start_time": "2022-08-05T15:13:05.754Z"
   },
   {
    "duration": 75,
    "start_time": "2022-08-05T15:13:16.177Z"
   },
   {
    "duration": 5,
    "start_time": "2022-08-05T16:03:09.801Z"
   },
   {
    "duration": 5,
    "start_time": "2022-08-05T16:03:09.809Z"
   },
   {
    "duration": 1235,
    "start_time": "2022-08-05T16:03:09.816Z"
   },
   {
    "duration": 75,
    "start_time": "2022-08-05T16:03:11.054Z"
   },
   {
    "duration": 18,
    "start_time": "2022-08-05T16:03:11.131Z"
   },
   {
    "duration": 30,
    "start_time": "2022-08-05T16:03:11.151Z"
   },
   {
    "duration": 8,
    "start_time": "2022-08-05T16:03:11.183Z"
   },
   {
    "duration": 14,
    "start_time": "2022-08-05T16:03:11.206Z"
   },
   {
    "duration": 9,
    "start_time": "2022-08-05T16:03:11.222Z"
   },
   {
    "duration": 5,
    "start_time": "2022-08-05T16:03:11.233Z"
   },
   {
    "duration": 10,
    "start_time": "2022-08-05T16:03:11.240Z"
   },
   {
    "duration": 7,
    "start_time": "2022-08-05T16:03:11.252Z"
   },
   {
    "duration": 17,
    "start_time": "2022-08-05T16:03:11.260Z"
   },
   {
    "duration": 40,
    "start_time": "2022-08-05T16:03:11.278Z"
   },
   {
    "duration": 15,
    "start_time": "2022-08-05T16:03:11.320Z"
   },
   {
    "duration": 13,
    "start_time": "2022-08-05T16:03:11.337Z"
   },
   {
    "duration": 6,
    "start_time": "2022-08-05T16:03:11.351Z"
   },
   {
    "duration": 7,
    "start_time": "2022-08-05T16:03:11.358Z"
   },
   {
    "duration": 44,
    "start_time": "2022-08-05T16:03:11.367Z"
   },
   {
    "duration": 8,
    "start_time": "2022-08-05T16:03:11.412Z"
   },
   {
    "duration": 8,
    "start_time": "2022-08-05T16:03:11.422Z"
   },
   {
    "duration": 8,
    "start_time": "2022-08-05T16:03:11.432Z"
   },
   {
    "duration": 7,
    "start_time": "2022-08-05T16:03:11.441Z"
   },
   {
    "duration": 15,
    "start_time": "2022-08-05T16:03:11.449Z"
   },
   {
    "duration": 14,
    "start_time": "2022-08-05T16:03:11.465Z"
   },
   {
    "duration": 29,
    "start_time": "2022-08-05T16:03:11.481Z"
   },
   {
    "duration": 10,
    "start_time": "2022-08-05T16:03:11.512Z"
   },
   {
    "duration": 9,
    "start_time": "2022-08-05T16:03:11.524Z"
   },
   {
    "duration": 11,
    "start_time": "2022-08-05T16:03:11.535Z"
   },
   {
    "duration": 10,
    "start_time": "2022-08-05T16:03:11.550Z"
   },
   {
    "duration": 14,
    "start_time": "2022-08-05T16:03:11.561Z"
   },
   {
    "duration": 38,
    "start_time": "2022-08-05T16:03:11.577Z"
   },
   {
    "duration": 177,
    "start_time": "2022-08-05T16:03:11.617Z"
   },
   {
    "duration": 126,
    "start_time": "2022-08-05T16:03:11.796Z"
   },
   {
    "duration": 14,
    "start_time": "2022-08-05T16:03:11.923Z"
   },
   {
    "duration": 243,
    "start_time": "2022-08-05T16:03:11.938Z"
   },
   {
    "duration": 215,
    "start_time": "2022-08-05T16:03:12.183Z"
   },
   {
    "duration": 338,
    "start_time": "2022-08-05T16:03:12.405Z"
   },
   {
    "duration": 209,
    "start_time": "2022-08-05T16:03:12.745Z"
   },
   {
    "duration": 13,
    "start_time": "2022-08-05T16:03:12.956Z"
   },
   {
    "duration": 362,
    "start_time": "2022-08-05T16:03:12.971Z"
   },
   {
    "duration": 170,
    "start_time": "2022-08-05T16:03:13.335Z"
   },
   {
    "duration": 4,
    "start_time": "2022-08-05T16:03:13.507Z"
   },
   {
    "duration": 22,
    "start_time": "2022-08-05T16:03:13.512Z"
   },
   {
    "duration": 146,
    "start_time": "2022-08-05T16:03:13.536Z"
   },
   {
    "duration": 148,
    "start_time": "2022-08-05T16:03:13.683Z"
   },
   {
    "duration": 4,
    "start_time": "2022-08-05T16:03:13.832Z"
   },
   {
    "duration": 15,
    "start_time": "2022-08-05T16:03:13.837Z"
   },
   {
    "duration": 74,
    "start_time": "2022-08-05T16:03:13.854Z"
   },
   {
    "duration": 7,
    "start_time": "2022-08-05T16:03:13.929Z"
   },
   {
    "duration": 90,
    "start_time": "2022-08-05T16:03:13.938Z"
   },
   {
    "duration": 38,
    "start_time": "2022-08-05T16:03:14.030Z"
   },
   {
    "duration": 7,
    "start_time": "2022-08-05T16:03:14.070Z"
   },
   {
    "duration": 9,
    "start_time": "2022-08-05T16:03:14.078Z"
   },
   {
    "duration": 7,
    "start_time": "2022-08-05T16:03:14.106Z"
   },
   {
    "duration": 19,
    "start_time": "2022-08-05T16:03:14.115Z"
   },
   {
    "duration": 74,
    "start_time": "2022-08-05T16:03:14.136Z"
   },
   {
    "duration": 0,
    "start_time": "2022-08-05T16:03:14.212Z"
   },
   {
    "duration": 0,
    "start_time": "2022-08-05T16:03:14.213Z"
   },
   {
    "duration": 0,
    "start_time": "2022-08-05T16:03:14.214Z"
   },
   {
    "duration": 0,
    "start_time": "2022-08-05T16:03:14.215Z"
   },
   {
    "duration": 0,
    "start_time": "2022-08-05T16:03:14.216Z"
   },
   {
    "duration": 0,
    "start_time": "2022-08-05T16:03:14.217Z"
   },
   {
    "duration": 0,
    "start_time": "2022-08-05T16:03:14.218Z"
   },
   {
    "duration": 0,
    "start_time": "2022-08-05T16:03:14.219Z"
   },
   {
    "duration": 0,
    "start_time": "2022-08-05T16:03:14.220Z"
   },
   {
    "duration": 0,
    "start_time": "2022-08-05T16:03:14.221Z"
   },
   {
    "duration": 10,
    "start_time": "2022-08-05T16:04:09.602Z"
   },
   {
    "duration": 11,
    "start_time": "2022-08-05T16:05:10.530Z"
   },
   {
    "duration": 10,
    "start_time": "2022-08-05T16:06:18.872Z"
   },
   {
    "duration": 3,
    "start_time": "2022-08-05T16:11:23.612Z"
   },
   {
    "duration": 5,
    "start_time": "2022-08-05T16:11:33.196Z"
   },
   {
    "duration": 4,
    "start_time": "2022-08-05T16:12:18.291Z"
   },
   {
    "duration": 3,
    "start_time": "2022-08-05T16:12:25.154Z"
   },
   {
    "duration": 3,
    "start_time": "2022-08-05T16:12:31.216Z"
   },
   {
    "duration": 5,
    "start_time": "2022-08-05T16:12:35.719Z"
   },
   {
    "duration": 4,
    "start_time": "2022-08-05T16:13:24.057Z"
   },
   {
    "duration": 5,
    "start_time": "2022-08-05T16:14:30.619Z"
   },
   {
    "duration": 5,
    "start_time": "2022-08-05T16:15:09.868Z"
   },
   {
    "duration": 5,
    "start_time": "2022-08-05T16:15:11.324Z"
   },
   {
    "duration": 8,
    "start_time": "2022-08-05T16:15:30.426Z"
   },
   {
    "duration": 6,
    "start_time": "2022-08-05T16:15:34.473Z"
   },
   {
    "duration": 6,
    "start_time": "2022-08-05T16:16:11.667Z"
   },
   {
    "duration": 10,
    "start_time": "2022-08-05T16:16:28.593Z"
   },
   {
    "duration": 18,
    "start_time": "2022-08-05T16:16:35.687Z"
   },
   {
    "duration": 334,
    "start_time": "2022-08-05T16:17:28.223Z"
   },
   {
    "duration": 22,
    "start_time": "2022-08-05T16:18:26.533Z"
   },
   {
    "duration": 35,
    "start_time": "2022-08-05T16:36:22.657Z"
   },
   {
    "duration": 23,
    "start_time": "2022-08-05T16:36:28.754Z"
   },
   {
    "duration": 20,
    "start_time": "2022-08-05T16:40:38.377Z"
   },
   {
    "duration": 24,
    "start_time": "2022-08-05T16:41:09.761Z"
   },
   {
    "duration": 19,
    "start_time": "2022-08-05T16:41:25.778Z"
   },
   {
    "duration": 77,
    "start_time": "2022-08-05T16:41:37.280Z"
   },
   {
    "duration": 21,
    "start_time": "2022-08-05T16:42:04.541Z"
   },
   {
    "duration": 20,
    "start_time": "2022-08-05T16:47:56.345Z"
   },
   {
    "duration": 19,
    "start_time": "2022-08-05T16:48:01.111Z"
   },
   {
    "duration": 22,
    "start_time": "2022-08-05T16:48:10.183Z"
   },
   {
    "duration": 19,
    "start_time": "2022-08-05T16:48:18.991Z"
   },
   {
    "duration": 20,
    "start_time": "2022-08-05T16:48:27.490Z"
   },
   {
    "duration": 14,
    "start_time": "2022-08-05T16:51:53.735Z"
   },
   {
    "duration": 14,
    "start_time": "2022-08-05T16:53:16.356Z"
   },
   {
    "duration": 13,
    "start_time": "2022-08-05T16:53:41.111Z"
   },
   {
    "duration": 14,
    "start_time": "2022-08-05T16:53:58.541Z"
   },
   {
    "duration": 13,
    "start_time": "2022-08-05T16:54:05.932Z"
   },
   {
    "duration": 14,
    "start_time": "2022-08-05T16:54:42.654Z"
   },
   {
    "duration": 13,
    "start_time": "2022-08-05T16:55:45.116Z"
   },
   {
    "duration": 13,
    "start_time": "2022-08-05T16:56:01.096Z"
   },
   {
    "duration": 3,
    "start_time": "2022-08-05T16:57:59.553Z"
   },
   {
    "duration": 14,
    "start_time": "2022-08-05T16:57:59.558Z"
   },
   {
    "duration": 1163,
    "start_time": "2022-08-05T16:57:59.574Z"
   },
   {
    "duration": 75,
    "start_time": "2022-08-05T16:58:00.740Z"
   },
   {
    "duration": 16,
    "start_time": "2022-08-05T16:58:00.818Z"
   },
   {
    "duration": 28,
    "start_time": "2022-08-05T16:58:00.836Z"
   },
   {
    "duration": 8,
    "start_time": "2022-08-05T16:58:00.865Z"
   },
   {
    "duration": 33,
    "start_time": "2022-08-05T16:58:00.874Z"
   },
   {
    "duration": 6,
    "start_time": "2022-08-05T16:58:00.908Z"
   },
   {
    "duration": 13,
    "start_time": "2022-08-05T16:58:00.915Z"
   },
   {
    "duration": 14,
    "start_time": "2022-08-05T16:58:00.930Z"
   },
   {
    "duration": 18,
    "start_time": "2022-08-05T16:58:00.946Z"
   },
   {
    "duration": 21,
    "start_time": "2022-08-05T16:58:00.965Z"
   },
   {
    "duration": 19,
    "start_time": "2022-08-05T16:58:00.987Z"
   },
   {
    "duration": 16,
    "start_time": "2022-08-05T16:58:01.007Z"
   },
   {
    "duration": 15,
    "start_time": "2022-08-05T16:58:01.024Z"
   },
   {
    "duration": 18,
    "start_time": "2022-08-05T16:58:01.040Z"
   },
   {
    "duration": 17,
    "start_time": "2022-08-05T16:58:01.059Z"
   },
   {
    "duration": 24,
    "start_time": "2022-08-05T16:58:01.077Z"
   },
   {
    "duration": 19,
    "start_time": "2022-08-05T16:58:01.103Z"
   },
   {
    "duration": 10,
    "start_time": "2022-08-05T16:58:01.124Z"
   },
   {
    "duration": 12,
    "start_time": "2022-08-05T16:58:01.135Z"
   },
   {
    "duration": 9,
    "start_time": "2022-08-05T16:58:01.148Z"
   },
   {
    "duration": 16,
    "start_time": "2022-08-05T16:58:01.158Z"
   },
   {
    "duration": 15,
    "start_time": "2022-08-05T16:58:01.175Z"
   },
   {
    "duration": 4,
    "start_time": "2022-08-05T16:58:01.191Z"
   },
   {
    "duration": 10,
    "start_time": "2022-08-05T16:58:01.196Z"
   },
   {
    "duration": 7,
    "start_time": "2022-08-05T16:58:01.208Z"
   },
   {
    "duration": 11,
    "start_time": "2022-08-05T16:58:01.218Z"
   },
   {
    "duration": 13,
    "start_time": "2022-08-05T16:58:01.230Z"
   },
   {
    "duration": 21,
    "start_time": "2022-08-05T16:58:01.244Z"
   },
   {
    "duration": 14,
    "start_time": "2022-08-05T16:58:01.267Z"
   },
   {
    "duration": 180,
    "start_time": "2022-08-05T16:58:01.283Z"
   },
   {
    "duration": 128,
    "start_time": "2022-08-05T16:58:01.464Z"
   },
   {
    "duration": 21,
    "start_time": "2022-08-05T16:58:01.593Z"
   },
   {
    "duration": 312,
    "start_time": "2022-08-05T16:58:01.616Z"
   },
   {
    "duration": 221,
    "start_time": "2022-08-05T16:58:01.930Z"
   },
   {
    "duration": 298,
    "start_time": "2022-08-05T16:58:02.153Z"
   },
   {
    "duration": 208,
    "start_time": "2022-08-05T16:58:02.453Z"
   },
   {
    "duration": 11,
    "start_time": "2022-08-05T16:58:02.663Z"
   },
   {
    "duration": 350,
    "start_time": "2022-08-05T16:58:02.675Z"
   },
   {
    "duration": 163,
    "start_time": "2022-08-05T16:58:03.027Z"
   },
   {
    "duration": 4,
    "start_time": "2022-08-05T16:58:03.191Z"
   },
   {
    "duration": 11,
    "start_time": "2022-08-05T16:58:03.196Z"
   },
   {
    "duration": 8,
    "start_time": "2022-08-05T16:58:03.209Z"
   },
   {
    "duration": 157,
    "start_time": "2022-08-05T16:58:03.219Z"
   },
   {
    "duration": 151,
    "start_time": "2022-08-05T16:58:03.377Z"
   },
   {
    "duration": 4,
    "start_time": "2022-08-05T16:58:03.529Z"
   },
   {
    "duration": 11,
    "start_time": "2022-08-05T16:58:03.535Z"
   },
   {
    "duration": 19,
    "start_time": "2022-08-05T16:58:03.547Z"
   },
   {
    "duration": 75,
    "start_time": "2022-08-05T16:58:03.568Z"
   },
   {
    "duration": 7,
    "start_time": "2022-08-05T16:58:03.645Z"
   },
   {
    "duration": 80,
    "start_time": "2022-08-05T16:58:03.654Z"
   },
   {
    "duration": 36,
    "start_time": "2022-08-05T16:58:03.736Z"
   },
   {
    "duration": 6,
    "start_time": "2022-08-05T16:58:03.774Z"
   },
   {
    "duration": 27,
    "start_time": "2022-08-05T16:58:03.782Z"
   },
   {
    "duration": 5,
    "start_time": "2022-08-05T16:58:03.811Z"
   },
   {
    "duration": 20,
    "start_time": "2022-08-05T16:58:03.817Z"
   },
   {
    "duration": 9,
    "start_time": "2022-08-05T16:58:03.838Z"
   },
   {
    "duration": 6,
    "start_time": "2022-08-05T16:58:03.849Z"
   },
   {
    "duration": 7,
    "start_time": "2022-08-05T16:58:03.856Z"
   },
   {
    "duration": 7,
    "start_time": "2022-08-05T16:58:03.864Z"
   },
   {
    "duration": 39,
    "start_time": "2022-08-05T16:58:03.872Z"
   },
   {
    "duration": 22,
    "start_time": "2022-08-05T16:58:03.912Z"
   },
   {
    "duration": 13,
    "start_time": "2022-08-05T16:58:03.935Z"
   },
   {
    "duration": 306,
    "start_time": "2022-08-05T16:58:03.949Z"
   },
   {
    "duration": 249,
    "start_time": "2022-08-05T16:58:04.257Z"
   },
   {
    "duration": 322,
    "start_time": "2022-08-05T16:58:04.508Z"
   },
   {
    "duration": 361,
    "start_time": "2022-08-05T16:58:04.832Z"
   },
   {
    "duration": 286,
    "start_time": "2022-08-05T16:59:39.141Z"
   },
   {
    "duration": 303,
    "start_time": "2022-08-05T16:59:45.819Z"
   },
   {
    "duration": 257,
    "start_time": "2022-08-05T17:00:51.751Z"
   },
   {
    "duration": 1152,
    "start_time": "2022-08-05T17:08:45.500Z"
   },
   {
    "duration": 3,
    "start_time": "2022-08-05T17:08:46.653Z"
   },
   {
    "duration": 1126,
    "start_time": "2022-08-05T17:08:46.658Z"
   },
   {
    "duration": 75,
    "start_time": "2022-08-05T17:08:47.786Z"
   },
   {
    "duration": 22,
    "start_time": "2022-08-05T17:08:47.863Z"
   },
   {
    "duration": 29,
    "start_time": "2022-08-05T17:08:47.887Z"
   },
   {
    "duration": 8,
    "start_time": "2022-08-05T17:08:47.917Z"
   },
   {
    "duration": 10,
    "start_time": "2022-08-05T17:08:47.926Z"
   },
   {
    "duration": 5,
    "start_time": "2022-08-05T17:08:47.938Z"
   },
   {
    "duration": 6,
    "start_time": "2022-08-05T17:08:47.945Z"
   },
   {
    "duration": 7,
    "start_time": "2022-08-05T17:08:47.952Z"
   },
   {
    "duration": 9,
    "start_time": "2022-08-05T17:08:47.961Z"
   },
   {
    "duration": 47,
    "start_time": "2022-08-05T17:08:47.971Z"
   },
   {
    "duration": 20,
    "start_time": "2022-08-05T17:08:48.019Z"
   },
   {
    "duration": 19,
    "start_time": "2022-08-05T17:08:48.041Z"
   },
   {
    "duration": 17,
    "start_time": "2022-08-05T17:08:48.062Z"
   },
   {
    "duration": 28,
    "start_time": "2022-08-05T17:08:48.080Z"
   },
   {
    "duration": 9,
    "start_time": "2022-08-05T17:08:48.109Z"
   },
   {
    "duration": 18,
    "start_time": "2022-08-05T17:08:48.119Z"
   },
   {
    "duration": 8,
    "start_time": "2022-08-05T17:08:48.138Z"
   },
   {
    "duration": 7,
    "start_time": "2022-08-05T17:08:48.147Z"
   },
   {
    "duration": 6,
    "start_time": "2022-08-05T17:08:48.155Z"
   },
   {
    "duration": 9,
    "start_time": "2022-08-05T17:08:48.162Z"
   },
   {
    "duration": 43,
    "start_time": "2022-08-05T17:08:48.172Z"
   },
   {
    "duration": 13,
    "start_time": "2022-08-05T17:08:48.217Z"
   },
   {
    "duration": 4,
    "start_time": "2022-08-05T17:08:48.232Z"
   },
   {
    "duration": 7,
    "start_time": "2022-08-05T17:08:48.238Z"
   },
   {
    "duration": 6,
    "start_time": "2022-08-05T17:08:48.249Z"
   },
   {
    "duration": 15,
    "start_time": "2022-08-05T17:08:48.256Z"
   },
   {
    "duration": 42,
    "start_time": "2022-08-05T17:08:48.273Z"
   },
   {
    "duration": 15,
    "start_time": "2022-08-05T17:08:48.316Z"
   },
   {
    "duration": 15,
    "start_time": "2022-08-05T17:08:48.333Z"
   },
   {
    "duration": 206,
    "start_time": "2022-08-05T17:08:48.349Z"
   },
   {
    "duration": 140,
    "start_time": "2022-08-05T17:08:48.557Z"
   },
   {
    "duration": 23,
    "start_time": "2022-08-05T17:08:48.698Z"
   },
   {
    "duration": 340,
    "start_time": "2022-08-05T17:08:48.723Z"
   },
   {
    "duration": 247,
    "start_time": "2022-08-05T17:08:49.065Z"
   },
   {
    "duration": 338,
    "start_time": "2022-08-05T17:08:49.314Z"
   },
   {
    "duration": 248,
    "start_time": "2022-08-05T17:08:49.653Z"
   },
   {
    "duration": 13,
    "start_time": "2022-08-05T17:08:49.902Z"
   },
   {
    "duration": 359,
    "start_time": "2022-08-05T17:08:49.917Z"
   },
   {
    "duration": 179,
    "start_time": "2022-08-05T17:08:50.278Z"
   },
   {
    "duration": 5,
    "start_time": "2022-08-05T17:08:50.459Z"
   },
   {
    "duration": 7,
    "start_time": "2022-08-05T17:08:50.465Z"
   },
   {
    "duration": 13,
    "start_time": "2022-08-05T17:08:50.474Z"
   },
   {
    "duration": 179,
    "start_time": "2022-08-05T17:08:50.489Z"
   },
   {
    "duration": 163,
    "start_time": "2022-08-05T17:08:50.670Z"
   },
   {
    "duration": 4,
    "start_time": "2022-08-05T17:08:50.835Z"
   },
   {
    "duration": 9,
    "start_time": "2022-08-05T17:08:50.841Z"
   },
   {
    "duration": 16,
    "start_time": "2022-08-05T17:08:50.851Z"
   },
   {
    "duration": 85,
    "start_time": "2022-08-05T17:08:50.868Z"
   },
   {
    "duration": 10,
    "start_time": "2022-08-05T17:08:50.955Z"
   },
   {
    "duration": 85,
    "start_time": "2022-08-05T17:08:50.966Z"
   },
   {
    "duration": 124,
    "start_time": "2022-08-05T17:08:51.053Z"
   },
   {
    "duration": 6,
    "start_time": "2022-08-05T17:08:51.179Z"
   },
   {
    "duration": 20,
    "start_time": "2022-08-05T17:08:51.187Z"
   },
   {
    "duration": 6,
    "start_time": "2022-08-05T17:08:51.208Z"
   },
   {
    "duration": 24,
    "start_time": "2022-08-05T17:08:51.216Z"
   },
   {
    "duration": 11,
    "start_time": "2022-08-05T17:08:51.241Z"
   },
   {
    "duration": 10,
    "start_time": "2022-08-05T17:08:51.253Z"
   },
   {
    "duration": 8,
    "start_time": "2022-08-05T17:08:51.264Z"
   },
   {
    "duration": 35,
    "start_time": "2022-08-05T17:08:51.273Z"
   },
   {
    "duration": 11,
    "start_time": "2022-08-05T17:08:51.309Z"
   },
   {
    "duration": 24,
    "start_time": "2022-08-05T17:08:51.322Z"
   },
   {
    "duration": 14,
    "start_time": "2022-08-05T17:08:51.348Z"
   },
   {
    "duration": 381,
    "start_time": "2022-08-05T17:08:51.363Z"
   },
   {
    "duration": 279,
    "start_time": "2022-08-05T17:08:51.746Z"
   },
   {
    "duration": 1346,
    "start_time": "2022-08-06T11:37:52.674Z"
   },
   {
    "duration": 3,
    "start_time": "2022-08-06T11:37:54.022Z"
   },
   {
    "duration": 1531,
    "start_time": "2022-08-06T11:37:54.027Z"
   },
   {
    "duration": 263,
    "start_time": "2022-08-06T11:37:55.560Z"
   },
   {
    "duration": 22,
    "start_time": "2022-08-06T11:37:55.825Z"
   },
   {
    "duration": 28,
    "start_time": "2022-08-06T11:37:55.849Z"
   },
   {
    "duration": 8,
    "start_time": "2022-08-06T11:37:55.879Z"
   },
   {
    "duration": 20,
    "start_time": "2022-08-06T11:37:55.898Z"
   },
   {
    "duration": 6,
    "start_time": "2022-08-06T11:37:55.920Z"
   },
   {
    "duration": 5,
    "start_time": "2022-08-06T11:37:55.928Z"
   },
   {
    "duration": 7,
    "start_time": "2022-08-06T11:37:55.935Z"
   },
   {
    "duration": 8,
    "start_time": "2022-08-06T11:37:55.944Z"
   },
   {
    "duration": 46,
    "start_time": "2022-08-06T11:37:55.953Z"
   },
   {
    "duration": 20,
    "start_time": "2022-08-06T11:37:56.001Z"
   },
   {
    "duration": 16,
    "start_time": "2022-08-06T11:37:56.023Z"
   },
   {
    "duration": 16,
    "start_time": "2022-08-06T11:37:56.041Z"
   },
   {
    "duration": 17,
    "start_time": "2022-08-06T11:37:56.058Z"
   },
   {
    "duration": 22,
    "start_time": "2022-08-06T11:37:56.077Z"
   },
   {
    "duration": 20,
    "start_time": "2022-08-06T11:37:56.100Z"
   },
   {
    "duration": 9,
    "start_time": "2022-08-06T11:37:56.121Z"
   },
   {
    "duration": 7,
    "start_time": "2022-08-06T11:37:56.131Z"
   },
   {
    "duration": 13,
    "start_time": "2022-08-06T11:37:56.139Z"
   },
   {
    "duration": 7,
    "start_time": "2022-08-06T11:37:56.154Z"
   },
   {
    "duration": 36,
    "start_time": "2022-08-06T11:37:56.163Z"
   },
   {
    "duration": 13,
    "start_time": "2022-08-06T11:37:56.201Z"
   },
   {
    "duration": 12,
    "start_time": "2022-08-06T11:37:56.215Z"
   },
   {
    "duration": 7,
    "start_time": "2022-08-06T11:37:56.228Z"
   },
   {
    "duration": 5,
    "start_time": "2022-08-06T11:37:56.238Z"
   },
   {
    "duration": 13,
    "start_time": "2022-08-06T11:37:56.245Z"
   },
   {
    "duration": 42,
    "start_time": "2022-08-06T11:37:56.259Z"
   },
   {
    "duration": 15,
    "start_time": "2022-08-06T11:37:56.303Z"
   },
   {
    "duration": 20,
    "start_time": "2022-08-06T11:37:56.319Z"
   },
   {
    "duration": 188,
    "start_time": "2022-08-06T11:37:56.341Z"
   },
   {
    "duration": 140,
    "start_time": "2022-08-06T11:37:56.531Z"
   },
   {
    "duration": 32,
    "start_time": "2022-08-06T11:37:56.672Z"
   },
   {
    "duration": 333,
    "start_time": "2022-08-06T11:37:56.706Z"
   },
   {
    "duration": 244,
    "start_time": "2022-08-06T11:37:57.040Z"
   },
   {
    "duration": 351,
    "start_time": "2022-08-06T11:37:57.285Z"
   },
   {
    "duration": 221,
    "start_time": "2022-08-06T11:37:57.638Z"
   },
   {
    "duration": 12,
    "start_time": "2022-08-06T11:37:57.861Z"
   },
   {
    "duration": 355,
    "start_time": "2022-08-06T11:37:57.874Z"
   },
   {
    "duration": 172,
    "start_time": "2022-08-06T11:37:58.231Z"
   },
   {
    "duration": 5,
    "start_time": "2022-08-06T11:37:58.404Z"
   },
   {
    "duration": 12,
    "start_time": "2022-08-06T11:37:58.410Z"
   },
   {
    "duration": 27,
    "start_time": "2022-08-06T11:37:58.423Z"
   },
   {
    "duration": 171,
    "start_time": "2022-08-06T11:37:58.451Z"
   },
   {
    "duration": 160,
    "start_time": "2022-08-06T11:37:58.624Z"
   },
   {
    "duration": 5,
    "start_time": "2022-08-06T11:37:58.785Z"
   },
   {
    "duration": 26,
    "start_time": "2022-08-06T11:37:58.791Z"
   },
   {
    "duration": 15,
    "start_time": "2022-08-06T11:37:58.818Z"
   },
   {
    "duration": 80,
    "start_time": "2022-08-06T11:37:58.834Z"
   },
   {
    "duration": 15,
    "start_time": "2022-08-06T11:37:58.915Z"
   },
   {
    "duration": 83,
    "start_time": "2022-08-06T11:37:58.932Z"
   },
   {
    "duration": 117,
    "start_time": "2022-08-06T11:37:59.017Z"
   },
   {
    "duration": 6,
    "start_time": "2022-08-06T11:37:59.135Z"
   },
   {
    "duration": 10,
    "start_time": "2022-08-06T11:37:59.143Z"
   },
   {
    "duration": 7,
    "start_time": "2022-08-06T11:37:59.155Z"
   },
   {
    "duration": 52,
    "start_time": "2022-08-06T11:37:59.164Z"
   },
   {
    "duration": 10,
    "start_time": "2022-08-06T11:37:59.217Z"
   },
   {
    "duration": 11,
    "start_time": "2022-08-06T11:37:59.229Z"
   },
   {
    "duration": 7,
    "start_time": "2022-08-06T11:37:59.241Z"
   },
   {
    "duration": 9,
    "start_time": "2022-08-06T11:37:59.250Z"
   },
   {
    "duration": 7,
    "start_time": "2022-08-06T11:37:59.261Z"
   },
   {
    "duration": 52,
    "start_time": "2022-08-06T11:37:59.269Z"
   },
   {
    "duration": 14,
    "start_time": "2022-08-06T11:37:59.323Z"
   },
   {
    "duration": 315,
    "start_time": "2022-08-06T11:37:59.338Z"
   },
   {
    "duration": 281,
    "start_time": "2022-08-06T11:37:59.654Z"
   },
   {
    "duration": 1130,
    "start_time": "2022-08-06T11:44:04.814Z"
   },
   {
    "duration": 3,
    "start_time": "2022-08-06T11:44:05.947Z"
   },
   {
    "duration": 1473,
    "start_time": "2022-08-06T11:44:05.952Z"
   },
   {
    "duration": 79,
    "start_time": "2022-08-06T11:44:07.428Z"
   },
   {
    "duration": 23,
    "start_time": "2022-08-06T11:44:07.509Z"
   },
   {
    "duration": 28,
    "start_time": "2022-08-06T11:44:07.534Z"
   },
   {
    "duration": 9,
    "start_time": "2022-08-06T11:44:07.563Z"
   },
   {
    "duration": 8,
    "start_time": "2022-08-06T11:44:07.599Z"
   },
   {
    "duration": 6,
    "start_time": "2022-08-06T11:44:07.609Z"
   },
   {
    "duration": 7,
    "start_time": "2022-08-06T11:44:07.617Z"
   },
   {
    "duration": 6,
    "start_time": "2022-08-06T11:44:07.625Z"
   },
   {
    "duration": 7,
    "start_time": "2022-08-06T11:44:07.632Z"
   },
   {
    "duration": 15,
    "start_time": "2022-08-06T11:44:07.640Z"
   },
   {
    "duration": 47,
    "start_time": "2022-08-06T11:44:07.658Z"
   },
   {
    "duration": 16,
    "start_time": "2022-08-06T11:44:07.706Z"
   },
   {
    "duration": 14,
    "start_time": "2022-08-06T11:44:07.724Z"
   },
   {
    "duration": 4,
    "start_time": "2022-08-06T11:44:07.740Z"
   },
   {
    "duration": 8,
    "start_time": "2022-08-06T11:44:07.745Z"
   },
   {
    "duration": 47,
    "start_time": "2022-08-06T11:44:07.754Z"
   },
   {
    "duration": 9,
    "start_time": "2022-08-06T11:44:07.802Z"
   },
   {
    "duration": 5,
    "start_time": "2022-08-06T11:44:07.812Z"
   },
   {
    "duration": 5,
    "start_time": "2022-08-06T11:44:07.819Z"
   },
   {
    "duration": 8,
    "start_time": "2022-08-06T11:44:07.825Z"
   },
   {
    "duration": 13,
    "start_time": "2022-08-06T11:44:07.834Z"
   },
   {
    "duration": 11,
    "start_time": "2022-08-06T11:44:07.848Z"
   },
   {
    "duration": 38,
    "start_time": "2022-08-06T11:44:07.861Z"
   },
   {
    "duration": 8,
    "start_time": "2022-08-06T11:44:07.901Z"
   },
   {
    "duration": 6,
    "start_time": "2022-08-06T11:44:07.910Z"
   },
   {
    "duration": 11,
    "start_time": "2022-08-06T11:44:07.917Z"
   },
   {
    "duration": 17,
    "start_time": "2022-08-06T11:44:07.931Z"
   },
   {
    "duration": 18,
    "start_time": "2022-08-06T11:44:07.950Z"
   },
   {
    "duration": 17,
    "start_time": "2022-08-06T11:44:07.997Z"
   },
   {
    "duration": 182,
    "start_time": "2022-08-06T11:44:08.016Z"
   },
   {
    "duration": 131,
    "start_time": "2022-08-06T11:44:08.200Z"
   },
   {
    "duration": 15,
    "start_time": "2022-08-06T11:44:08.332Z"
   },
   {
    "duration": 327,
    "start_time": "2022-08-06T11:44:08.349Z"
   },
   {
    "duration": 229,
    "start_time": "2022-08-06T11:44:08.677Z"
   },
   {
    "duration": 334,
    "start_time": "2022-08-06T11:44:08.908Z"
   },
   {
    "duration": 214,
    "start_time": "2022-08-06T11:44:09.243Z"
   },
   {
    "duration": 11,
    "start_time": "2022-08-06T11:44:09.459Z"
   },
   {
    "duration": 356,
    "start_time": "2022-08-06T11:44:09.474Z"
   },
   {
    "duration": 181,
    "start_time": "2022-08-06T11:44:09.831Z"
   },
   {
    "duration": 4,
    "start_time": "2022-08-06T11:44:10.014Z"
   },
   {
    "duration": 9,
    "start_time": "2022-08-06T11:44:10.020Z"
   },
   {
    "duration": 14,
    "start_time": "2022-08-06T11:44:10.030Z"
   },
   {
    "duration": 177,
    "start_time": "2022-08-06T11:44:10.045Z"
   },
   {
    "duration": 168,
    "start_time": "2022-08-06T11:44:10.224Z"
   },
   {
    "duration": 5,
    "start_time": "2022-08-06T11:44:10.398Z"
   },
   {
    "duration": 15,
    "start_time": "2022-08-06T11:44:10.404Z"
   },
   {
    "duration": 14,
    "start_time": "2022-08-06T11:44:10.421Z"
   },
   {
    "duration": 81,
    "start_time": "2022-08-06T11:44:10.437Z"
   },
   {
    "duration": 7,
    "start_time": "2022-08-06T11:44:10.520Z"
   },
   {
    "duration": 95,
    "start_time": "2022-08-06T11:44:10.529Z"
   },
   {
    "duration": 105,
    "start_time": "2022-08-06T11:44:10.626Z"
   },
   {
    "duration": 6,
    "start_time": "2022-08-06T11:44:10.733Z"
   },
   {
    "duration": 6,
    "start_time": "2022-08-06T11:44:10.740Z"
   },
   {
    "duration": 6,
    "start_time": "2022-08-06T11:44:10.747Z"
   },
   {
    "duration": 47,
    "start_time": "2022-08-06T11:44:10.754Z"
   },
   {
    "duration": 10,
    "start_time": "2022-08-06T11:44:10.803Z"
   },
   {
    "duration": 8,
    "start_time": "2022-08-06T11:44:10.815Z"
   },
   {
    "duration": 7,
    "start_time": "2022-08-06T11:44:10.825Z"
   },
   {
    "duration": 6,
    "start_time": "2022-08-06T11:44:10.834Z"
   },
   {
    "duration": 9,
    "start_time": "2022-08-06T11:44:10.842Z"
   },
   {
    "duration": 60,
    "start_time": "2022-08-06T11:44:10.852Z"
   },
   {
    "duration": 15,
    "start_time": "2022-08-06T11:44:10.914Z"
   },
   {
    "duration": 319,
    "start_time": "2022-08-06T11:44:10.930Z"
   },
   {
    "duration": 268,
    "start_time": "2022-08-06T11:44:11.252Z"
   },
   {
    "duration": 105,
    "start_time": "2022-08-06T11:46:25.672Z"
   },
   {
    "duration": 1237,
    "start_time": "2022-08-06T11:46:38.396Z"
   },
   {
    "duration": 14,
    "start_time": "2022-08-06T11:46:52.453Z"
   },
   {
    "duration": 8,
    "start_time": "2022-08-06T11:47:07.862Z"
   },
   {
    "duration": 1071,
    "start_time": "2022-08-06T11:47:21.722Z"
   },
   {
    "duration": 8,
    "start_time": "2022-08-06T11:51:18.647Z"
   },
   {
    "duration": 10,
    "start_time": "2022-08-06T11:52:20.522Z"
   },
   {
    "duration": 10,
    "start_time": "2022-08-06T11:52:43.514Z"
   },
   {
    "duration": 10,
    "start_time": "2022-08-06T11:52:51.891Z"
   },
   {
    "duration": 9,
    "start_time": "2022-08-06T11:53:51.525Z"
   },
   {
    "duration": 11,
    "start_time": "2022-08-06T11:54:00.905Z"
   },
   {
    "duration": 12,
    "start_time": "2022-08-06T11:54:41.794Z"
   },
   {
    "duration": 1162,
    "start_time": "2022-08-06T11:55:17.205Z"
   },
   {
    "duration": 7,
    "start_time": "2022-08-06T11:55:28.517Z"
   },
   {
    "duration": 8,
    "start_time": "2022-08-06T11:55:39.210Z"
   },
   {
    "duration": 15,
    "start_time": "2022-08-06T11:56:04.224Z"
   },
   {
    "duration": 16,
    "start_time": "2022-08-06T12:00:46.538Z"
   },
   {
    "duration": 19,
    "start_time": "2022-08-06T12:00:57.203Z"
   },
   {
    "duration": 1121,
    "start_time": "2022-08-06T12:01:18.050Z"
   },
   {
    "duration": 3,
    "start_time": "2022-08-06T12:01:19.173Z"
   },
   {
    "duration": 1488,
    "start_time": "2022-08-06T12:01:19.178Z"
   },
   {
    "duration": 80,
    "start_time": "2022-08-06T12:01:20.668Z"
   },
   {
    "duration": 24,
    "start_time": "2022-08-06T12:01:20.749Z"
   },
   {
    "duration": 29,
    "start_time": "2022-08-06T12:01:20.774Z"
   },
   {
    "duration": 9,
    "start_time": "2022-08-06T12:01:20.805Z"
   },
   {
    "duration": 17,
    "start_time": "2022-08-06T12:01:20.815Z"
   },
   {
    "duration": 20,
    "start_time": "2022-08-06T12:01:20.834Z"
   },
   {
    "duration": 7,
    "start_time": "2022-08-06T12:01:20.857Z"
   },
   {
    "duration": 7,
    "start_time": "2022-08-06T12:01:20.866Z"
   },
   {
    "duration": 6,
    "start_time": "2022-08-06T12:01:20.899Z"
   },
   {
    "duration": 7,
    "start_time": "2022-08-06T12:01:20.907Z"
   },
   {
    "duration": 15,
    "start_time": "2022-08-06T12:01:20.915Z"
   },
   {
    "duration": 17,
    "start_time": "2022-08-06T12:01:20.931Z"
   },
   {
    "duration": 51,
    "start_time": "2022-08-06T12:01:20.949Z"
   },
   {
    "duration": 15,
    "start_time": "2022-08-06T12:01:21.001Z"
   },
   {
    "duration": 11,
    "start_time": "2022-08-06T12:01:21.018Z"
   },
   {
    "duration": 11,
    "start_time": "2022-08-06T12:01:21.030Z"
   },
   {
    "duration": 19,
    "start_time": "2022-08-06T12:01:21.043Z"
   },
   {
    "duration": 35,
    "start_time": "2022-08-06T12:01:21.064Z"
   },
   {
    "duration": 5,
    "start_time": "2022-08-06T12:01:21.101Z"
   },
   {
    "duration": 6,
    "start_time": "2022-08-06T12:01:21.108Z"
   },
   {
    "duration": 10,
    "start_time": "2022-08-06T12:01:21.115Z"
   },
   {
    "duration": 15,
    "start_time": "2022-08-06T12:01:21.126Z"
   },
   {
    "duration": 13,
    "start_time": "2022-08-06T12:01:21.143Z"
   },
   {
    "duration": 41,
    "start_time": "2022-08-06T12:01:21.158Z"
   },
   {
    "duration": 8,
    "start_time": "2022-08-06T12:01:21.205Z"
   },
   {
    "duration": 7,
    "start_time": "2022-08-06T12:01:21.215Z"
   },
   {
    "duration": 13,
    "start_time": "2022-08-06T12:01:21.223Z"
   },
   {
    "duration": 21,
    "start_time": "2022-08-06T12:01:21.238Z"
   },
   {
    "duration": 45,
    "start_time": "2022-08-06T12:01:21.261Z"
   },
   {
    "duration": 18,
    "start_time": "2022-08-06T12:01:21.308Z"
   },
   {
    "duration": 193,
    "start_time": "2022-08-06T12:01:21.328Z"
   },
   {
    "duration": 142,
    "start_time": "2022-08-06T12:01:21.523Z"
   },
   {
    "duration": 32,
    "start_time": "2022-08-06T12:01:21.667Z"
   },
   {
    "duration": 350,
    "start_time": "2022-08-06T12:01:21.701Z"
   },
   {
    "duration": 234,
    "start_time": "2022-08-06T12:01:22.053Z"
   },
   {
    "duration": 342,
    "start_time": "2022-08-06T12:01:22.289Z"
   },
   {
    "duration": 232,
    "start_time": "2022-08-06T12:01:22.633Z"
   },
   {
    "duration": 12,
    "start_time": "2022-08-06T12:01:22.867Z"
   },
   {
    "duration": 355,
    "start_time": "2022-08-06T12:01:22.881Z"
   },
   {
    "duration": 178,
    "start_time": "2022-08-06T12:01:23.237Z"
   },
   {
    "duration": 5,
    "start_time": "2022-08-06T12:01:23.417Z"
   },
   {
    "duration": 8,
    "start_time": "2022-08-06T12:01:23.423Z"
   },
   {
    "duration": 9,
    "start_time": "2022-08-06T12:01:23.433Z"
   },
   {
    "duration": 182,
    "start_time": "2022-08-06T12:01:23.444Z"
   },
   {
    "duration": 171,
    "start_time": "2022-08-06T12:01:23.629Z"
   },
   {
    "duration": 5,
    "start_time": "2022-08-06T12:01:23.802Z"
   },
   {
    "duration": 8,
    "start_time": "2022-08-06T12:01:23.809Z"
   },
   {
    "duration": 17,
    "start_time": "2022-08-06T12:01:23.819Z"
   },
   {
    "duration": 137,
    "start_time": "2022-08-06T12:01:23.838Z"
   },
   {
    "duration": 21,
    "start_time": "2022-08-06T12:01:23.977Z"
   },
   {
    "duration": 146,
    "start_time": "2022-08-06T12:01:24.000Z"
   },
   {
    "duration": 129,
    "start_time": "2022-08-06T12:01:24.148Z"
   },
   {
    "duration": 19,
    "start_time": "2022-08-06T12:01:24.279Z"
   },
   {
    "duration": 6,
    "start_time": "2022-08-06T12:01:24.300Z"
   },
   {
    "duration": 6,
    "start_time": "2022-08-06T12:01:24.307Z"
   },
   {
    "duration": 23,
    "start_time": "2022-08-06T12:01:24.315Z"
   },
   {
    "duration": 10,
    "start_time": "2022-08-06T12:01:24.340Z"
   },
   {
    "duration": 48,
    "start_time": "2022-08-06T12:01:24.351Z"
   },
   {
    "duration": 54,
    "start_time": "2022-08-06T12:01:24.402Z"
   },
   {
    "duration": 13,
    "start_time": "2022-08-06T12:01:24.460Z"
   },
   {
    "duration": 16,
    "start_time": "2022-08-06T12:01:24.475Z"
   },
   {
    "duration": 62,
    "start_time": "2022-08-06T12:01:24.492Z"
   },
   {
    "duration": 21,
    "start_time": "2022-08-06T12:01:24.556Z"
   },
   {
    "duration": 372,
    "start_time": "2022-08-06T12:01:24.580Z"
   },
   {
    "duration": 284,
    "start_time": "2022-08-06T12:01:24.954Z"
   },
   {
    "duration": 1298,
    "start_time": "2022-08-06T13:48:44.220Z"
   },
   {
    "duration": 3,
    "start_time": "2022-08-06T13:48:45.520Z"
   },
   {
    "duration": 1116,
    "start_time": "2022-08-06T13:48:45.524Z"
   },
   {
    "duration": 196,
    "start_time": "2022-08-06T13:48:46.642Z"
   },
   {
    "duration": 21,
    "start_time": "2022-08-06T13:48:46.839Z"
   },
   {
    "duration": 27,
    "start_time": "2022-08-06T13:48:46.861Z"
   },
   {
    "duration": 7,
    "start_time": "2022-08-06T13:48:46.890Z"
   },
   {
    "duration": 14,
    "start_time": "2022-08-06T13:48:46.899Z"
   },
   {
    "duration": 6,
    "start_time": "2022-08-06T13:48:46.915Z"
   },
   {
    "duration": 7,
    "start_time": "2022-08-06T13:48:46.954Z"
   },
   {
    "duration": 6,
    "start_time": "2022-08-06T13:48:46.962Z"
   },
   {
    "duration": 9,
    "start_time": "2022-08-06T13:48:46.970Z"
   },
   {
    "duration": 21,
    "start_time": "2022-08-06T13:48:46.981Z"
   },
   {
    "duration": 15,
    "start_time": "2022-08-06T13:48:47.004Z"
   },
   {
    "duration": 15,
    "start_time": "2022-08-06T13:48:47.020Z"
   },
   {
    "duration": 14,
    "start_time": "2022-08-06T13:48:47.055Z"
   },
   {
    "duration": 5,
    "start_time": "2022-08-06T13:48:47.071Z"
   },
   {
    "duration": 6,
    "start_time": "2022-08-06T13:48:47.078Z"
   },
   {
    "duration": 14,
    "start_time": "2022-08-06T13:48:47.086Z"
   },
   {
    "duration": 8,
    "start_time": "2022-08-06T13:48:47.101Z"
   },
   {
    "duration": 6,
    "start_time": "2022-08-06T13:48:47.111Z"
   },
   {
    "duration": 5,
    "start_time": "2022-08-06T13:48:47.154Z"
   },
   {
    "duration": 8,
    "start_time": "2022-08-06T13:48:47.161Z"
   },
   {
    "duration": 14,
    "start_time": "2022-08-06T13:48:47.170Z"
   },
   {
    "duration": 14,
    "start_time": "2022-08-06T13:48:47.185Z"
   },
   {
    "duration": 7,
    "start_time": "2022-08-06T13:48:47.200Z"
   },
   {
    "duration": 8,
    "start_time": "2022-08-06T13:48:47.208Z"
   },
   {
    "duration": 5,
    "start_time": "2022-08-06T13:48:47.220Z"
   },
   {
    "duration": 44,
    "start_time": "2022-08-06T13:48:47.226Z"
   },
   {
    "duration": 12,
    "start_time": "2022-08-06T13:48:47.272Z"
   },
   {
    "duration": 18,
    "start_time": "2022-08-06T13:48:47.286Z"
   },
   {
    "duration": 18,
    "start_time": "2022-08-06T13:48:47.306Z"
   },
   {
    "duration": 209,
    "start_time": "2022-08-06T13:48:47.326Z"
   },
   {
    "duration": 121,
    "start_time": "2022-08-06T13:48:47.537Z"
   },
   {
    "duration": 14,
    "start_time": "2022-08-06T13:48:47.659Z"
   },
   {
    "duration": 289,
    "start_time": "2022-08-06T13:48:47.674Z"
   },
   {
    "duration": 209,
    "start_time": "2022-08-06T13:48:47.964Z"
   },
   {
    "duration": 308,
    "start_time": "2022-08-06T13:48:48.174Z"
   },
   {
    "duration": 188,
    "start_time": "2022-08-06T13:48:48.483Z"
   },
   {
    "duration": 10,
    "start_time": "2022-08-06T13:48:48.672Z"
   },
   {
    "duration": 296,
    "start_time": "2022-08-06T13:48:48.684Z"
   },
   {
    "duration": 155,
    "start_time": "2022-08-06T13:48:48.982Z"
   },
   {
    "duration": 3,
    "start_time": "2022-08-06T13:48:49.139Z"
   },
   {
    "duration": 13,
    "start_time": "2022-08-06T13:48:49.144Z"
   },
   {
    "duration": 10,
    "start_time": "2022-08-06T13:48:49.158Z"
   },
   {
    "duration": 156,
    "start_time": "2022-08-06T13:48:49.169Z"
   },
   {
    "duration": 147,
    "start_time": "2022-08-06T13:48:49.326Z"
   },
   {
    "duration": 4,
    "start_time": "2022-08-06T13:48:49.474Z"
   },
   {
    "duration": 7,
    "start_time": "2022-08-06T13:48:49.479Z"
   },
   {
    "duration": 14,
    "start_time": "2022-08-06T13:48:49.487Z"
   },
   {
    "duration": 82,
    "start_time": "2022-08-06T13:48:49.502Z"
   },
   {
    "duration": 8,
    "start_time": "2022-08-06T13:48:49.585Z"
   },
   {
    "duration": 90,
    "start_time": "2022-08-06T13:48:49.594Z"
   },
   {
    "duration": 104,
    "start_time": "2022-08-06T13:48:49.686Z"
   },
   {
    "duration": 5,
    "start_time": "2022-08-06T13:48:49.792Z"
   },
   {
    "duration": 6,
    "start_time": "2022-08-06T13:48:49.798Z"
   },
   {
    "duration": 5,
    "start_time": "2022-08-06T13:48:49.805Z"
   },
   {
    "duration": 46,
    "start_time": "2022-08-06T13:48:49.811Z"
   },
   {
    "duration": 9,
    "start_time": "2022-08-06T13:48:49.858Z"
   },
   {
    "duration": 7,
    "start_time": "2022-08-06T13:48:49.869Z"
   },
   {
    "duration": 6,
    "start_time": "2022-08-06T13:48:49.878Z"
   },
   {
    "duration": 5,
    "start_time": "2022-08-06T13:48:49.885Z"
   },
   {
    "duration": 9,
    "start_time": "2022-08-06T13:48:49.892Z"
   },
   {
    "duration": 19,
    "start_time": "2022-08-06T13:48:49.902Z"
   },
   {
    "duration": 42,
    "start_time": "2022-08-06T13:48:49.923Z"
   },
   {
    "duration": 313,
    "start_time": "2022-08-06T13:48:49.967Z"
   },
   {
    "duration": 261,
    "start_time": "2022-08-06T13:48:50.282Z"
   },
   {
    "duration": 18,
    "start_time": "2022-08-06T13:49:31.817Z"
   },
   {
    "duration": 104,
    "start_time": "2022-08-06T14:35:03.353Z"
   },
   {
    "duration": 14,
    "start_time": "2022-08-06T14:35:30.263Z"
   },
   {
    "duration": 13,
    "start_time": "2022-08-06T14:35:42.955Z"
   },
   {
    "duration": 14,
    "start_time": "2022-08-06T14:36:07.582Z"
   },
   {
    "duration": 15,
    "start_time": "2022-08-06T14:36:40.153Z"
   },
   {
    "duration": 968,
    "start_time": "2022-08-06T14:49:15.703Z"
   },
   {
    "duration": 2,
    "start_time": "2022-08-06T14:49:16.673Z"
   },
   {
    "duration": 1128,
    "start_time": "2022-08-06T14:49:16.677Z"
   },
   {
    "duration": 163,
    "start_time": "2022-08-06T14:49:17.807Z"
   },
   {
    "duration": 20,
    "start_time": "2022-08-06T14:49:17.971Z"
   },
   {
    "duration": 29,
    "start_time": "2022-08-06T14:49:17.992Z"
   },
   {
    "duration": 7,
    "start_time": "2022-08-06T14:49:18.022Z"
   },
   {
    "duration": 9,
    "start_time": "2022-08-06T14:49:18.031Z"
   },
   {
    "duration": 22,
    "start_time": "2022-08-06T14:49:18.041Z"
   },
   {
    "duration": 96,
    "start_time": "2022-08-06T14:49:18.065Z"
   },
   {
    "duration": 0,
    "start_time": "2022-08-06T14:49:18.164Z"
   },
   {
    "duration": 0,
    "start_time": "2022-08-06T14:49:18.166Z"
   },
   {
    "duration": 0,
    "start_time": "2022-08-06T14:49:18.167Z"
   },
   {
    "duration": 0,
    "start_time": "2022-08-06T14:49:18.168Z"
   },
   {
    "duration": 0,
    "start_time": "2022-08-06T14:49:18.169Z"
   },
   {
    "duration": 0,
    "start_time": "2022-08-06T14:49:18.171Z"
   },
   {
    "duration": 0,
    "start_time": "2022-08-06T14:49:18.172Z"
   },
   {
    "duration": 0,
    "start_time": "2022-08-06T14:49:18.173Z"
   },
   {
    "duration": 0,
    "start_time": "2022-08-06T14:49:18.174Z"
   },
   {
    "duration": 0,
    "start_time": "2022-08-06T14:49:18.176Z"
   },
   {
    "duration": 0,
    "start_time": "2022-08-06T14:49:18.177Z"
   },
   {
    "duration": 0,
    "start_time": "2022-08-06T14:49:18.177Z"
   },
   {
    "duration": 0,
    "start_time": "2022-08-06T14:49:18.178Z"
   },
   {
    "duration": 0,
    "start_time": "2022-08-06T14:49:18.179Z"
   },
   {
    "duration": 0,
    "start_time": "2022-08-06T14:49:18.180Z"
   },
   {
    "duration": 0,
    "start_time": "2022-08-06T14:49:18.181Z"
   },
   {
    "duration": 0,
    "start_time": "2022-08-06T14:49:18.182Z"
   },
   {
    "duration": 0,
    "start_time": "2022-08-06T14:49:18.183Z"
   },
   {
    "duration": 0,
    "start_time": "2022-08-06T14:49:18.183Z"
   },
   {
    "duration": 0,
    "start_time": "2022-08-06T14:49:18.184Z"
   },
   {
    "duration": 0,
    "start_time": "2022-08-06T14:49:18.185Z"
   },
   {
    "duration": 0,
    "start_time": "2022-08-06T14:49:18.186Z"
   },
   {
    "duration": 0,
    "start_time": "2022-08-06T14:49:18.187Z"
   },
   {
    "duration": 0,
    "start_time": "2022-08-06T14:49:18.188Z"
   },
   {
    "duration": 0,
    "start_time": "2022-08-06T14:49:18.188Z"
   },
   {
    "duration": 0,
    "start_time": "2022-08-06T14:49:18.189Z"
   },
   {
    "duration": 0,
    "start_time": "2022-08-06T14:49:18.190Z"
   },
   {
    "duration": 0,
    "start_time": "2022-08-06T14:49:18.191Z"
   },
   {
    "duration": 0,
    "start_time": "2022-08-06T14:49:18.192Z"
   },
   {
    "duration": 0,
    "start_time": "2022-08-06T14:49:18.193Z"
   },
   {
    "duration": 0,
    "start_time": "2022-08-06T14:49:18.194Z"
   },
   {
    "duration": 0,
    "start_time": "2022-08-06T14:49:18.195Z"
   },
   {
    "duration": 0,
    "start_time": "2022-08-06T14:49:18.196Z"
   },
   {
    "duration": 0,
    "start_time": "2022-08-06T14:49:18.197Z"
   },
   {
    "duration": 0,
    "start_time": "2022-08-06T14:49:18.198Z"
   },
   {
    "duration": 0,
    "start_time": "2022-08-06T14:49:18.199Z"
   },
   {
    "duration": 0,
    "start_time": "2022-08-06T14:49:18.200Z"
   },
   {
    "duration": 0,
    "start_time": "2022-08-06T14:49:18.255Z"
   },
   {
    "duration": 0,
    "start_time": "2022-08-06T14:49:18.256Z"
   },
   {
    "duration": 0,
    "start_time": "2022-08-06T14:49:18.257Z"
   },
   {
    "duration": 0,
    "start_time": "2022-08-06T14:49:18.259Z"
   },
   {
    "duration": 0,
    "start_time": "2022-08-06T14:49:18.260Z"
   },
   {
    "duration": 0,
    "start_time": "2022-08-06T14:49:18.261Z"
   },
   {
    "duration": 0,
    "start_time": "2022-08-06T14:49:18.262Z"
   },
   {
    "duration": 0,
    "start_time": "2022-08-06T14:49:18.263Z"
   },
   {
    "duration": 0,
    "start_time": "2022-08-06T14:49:18.264Z"
   },
   {
    "duration": 0,
    "start_time": "2022-08-06T14:49:18.265Z"
   },
   {
    "duration": 0,
    "start_time": "2022-08-06T14:49:18.266Z"
   },
   {
    "duration": 0,
    "start_time": "2022-08-06T14:49:18.266Z"
   },
   {
    "duration": 0,
    "start_time": "2022-08-06T14:49:18.267Z"
   },
   {
    "duration": 0,
    "start_time": "2022-08-06T14:49:18.268Z"
   },
   {
    "duration": 0,
    "start_time": "2022-08-06T14:49:18.269Z"
   },
   {
    "duration": 0,
    "start_time": "2022-08-06T14:49:18.270Z"
   },
   {
    "duration": 0,
    "start_time": "2022-08-06T14:49:18.271Z"
   },
   {
    "duration": 0,
    "start_time": "2022-08-06T14:49:18.272Z"
   },
   {
    "duration": 0,
    "start_time": "2022-08-06T14:49:18.273Z"
   },
   {
    "duration": 0,
    "start_time": "2022-08-06T14:49:18.273Z"
   },
   {
    "duration": 0,
    "start_time": "2022-08-06T14:49:18.274Z"
   },
   {
    "duration": 0,
    "start_time": "2022-08-06T14:49:18.275Z"
   },
   {
    "duration": 4,
    "start_time": "2022-08-06T14:49:37.779Z"
   },
   {
    "duration": 13,
    "start_time": "2022-08-06T14:49:37.785Z"
   },
   {
    "duration": 1168,
    "start_time": "2022-08-06T14:49:37.800Z"
   },
   {
    "duration": 83,
    "start_time": "2022-08-06T14:49:38.970Z"
   },
   {
    "duration": 16,
    "start_time": "2022-08-06T14:49:39.055Z"
   },
   {
    "duration": 26,
    "start_time": "2022-08-06T14:49:39.072Z"
   },
   {
    "duration": 8,
    "start_time": "2022-08-06T14:49:39.099Z"
   },
   {
    "duration": 8,
    "start_time": "2022-08-06T14:49:39.109Z"
   },
   {
    "duration": 42,
    "start_time": "2022-08-06T14:49:39.119Z"
   },
   {
    "duration": 15,
    "start_time": "2022-08-06T14:49:39.162Z"
   },
   {
    "duration": 0,
    "start_time": "2022-08-06T14:49:39.180Z"
   },
   {
    "duration": 0,
    "start_time": "2022-08-06T14:49:39.181Z"
   },
   {
    "duration": 0,
    "start_time": "2022-08-06T14:49:39.182Z"
   },
   {
    "duration": 0,
    "start_time": "2022-08-06T14:49:39.183Z"
   },
   {
    "duration": 0,
    "start_time": "2022-08-06T14:49:39.185Z"
   },
   {
    "duration": 0,
    "start_time": "2022-08-06T14:49:39.186Z"
   },
   {
    "duration": 0,
    "start_time": "2022-08-06T14:49:39.187Z"
   },
   {
    "duration": 0,
    "start_time": "2022-08-06T14:49:39.188Z"
   },
   {
    "duration": 0,
    "start_time": "2022-08-06T14:49:39.189Z"
   },
   {
    "duration": 0,
    "start_time": "2022-08-06T14:49:39.190Z"
   },
   {
    "duration": 0,
    "start_time": "2022-08-06T14:49:39.191Z"
   },
   {
    "duration": 0,
    "start_time": "2022-08-06T14:49:39.192Z"
   },
   {
    "duration": 0,
    "start_time": "2022-08-06T14:49:39.193Z"
   },
   {
    "duration": 0,
    "start_time": "2022-08-06T14:49:39.194Z"
   },
   {
    "duration": 0,
    "start_time": "2022-08-06T14:49:39.195Z"
   },
   {
    "duration": 0,
    "start_time": "2022-08-06T14:49:39.196Z"
   },
   {
    "duration": 0,
    "start_time": "2022-08-06T14:49:39.197Z"
   },
   {
    "duration": 0,
    "start_time": "2022-08-06T14:49:39.198Z"
   },
   {
    "duration": 0,
    "start_time": "2022-08-06T14:49:39.199Z"
   },
   {
    "duration": 0,
    "start_time": "2022-08-06T14:49:39.200Z"
   },
   {
    "duration": 0,
    "start_time": "2022-08-06T14:49:39.255Z"
   },
   {
    "duration": 0,
    "start_time": "2022-08-06T14:49:39.256Z"
   },
   {
    "duration": 0,
    "start_time": "2022-08-06T14:49:39.257Z"
   },
   {
    "duration": 0,
    "start_time": "2022-08-06T14:49:39.258Z"
   },
   {
    "duration": 0,
    "start_time": "2022-08-06T14:49:39.259Z"
   },
   {
    "duration": 0,
    "start_time": "2022-08-06T14:49:39.260Z"
   },
   {
    "duration": 0,
    "start_time": "2022-08-06T14:49:39.261Z"
   },
   {
    "duration": 0,
    "start_time": "2022-08-06T14:49:39.262Z"
   },
   {
    "duration": 0,
    "start_time": "2022-08-06T14:49:39.263Z"
   },
   {
    "duration": 0,
    "start_time": "2022-08-06T14:49:39.264Z"
   },
   {
    "duration": 0,
    "start_time": "2022-08-06T14:49:39.265Z"
   },
   {
    "duration": 0,
    "start_time": "2022-08-06T14:49:39.266Z"
   },
   {
    "duration": 0,
    "start_time": "2022-08-06T14:49:39.267Z"
   },
   {
    "duration": 0,
    "start_time": "2022-08-06T14:49:39.268Z"
   },
   {
    "duration": 0,
    "start_time": "2022-08-06T14:49:39.269Z"
   },
   {
    "duration": 0,
    "start_time": "2022-08-06T14:49:39.270Z"
   },
   {
    "duration": 0,
    "start_time": "2022-08-06T14:49:39.271Z"
   },
   {
    "duration": 0,
    "start_time": "2022-08-06T14:49:39.271Z"
   },
   {
    "duration": 0,
    "start_time": "2022-08-06T14:49:39.273Z"
   },
   {
    "duration": 0,
    "start_time": "2022-08-06T14:49:39.273Z"
   },
   {
    "duration": 0,
    "start_time": "2022-08-06T14:49:39.274Z"
   },
   {
    "duration": 0,
    "start_time": "2022-08-06T14:49:39.275Z"
   },
   {
    "duration": 0,
    "start_time": "2022-08-06T14:49:39.276Z"
   },
   {
    "duration": 0,
    "start_time": "2022-08-06T14:49:39.277Z"
   },
   {
    "duration": 0,
    "start_time": "2022-08-06T14:49:39.278Z"
   },
   {
    "duration": 0,
    "start_time": "2022-08-06T14:49:39.279Z"
   },
   {
    "duration": 0,
    "start_time": "2022-08-06T14:49:39.280Z"
   },
   {
    "duration": 0,
    "start_time": "2022-08-06T14:49:39.281Z"
   },
   {
    "duration": 0,
    "start_time": "2022-08-06T14:49:39.282Z"
   },
   {
    "duration": 0,
    "start_time": "2022-08-06T14:49:39.283Z"
   },
   {
    "duration": 0,
    "start_time": "2022-08-06T14:49:39.284Z"
   },
   {
    "duration": 0,
    "start_time": "2022-08-06T14:49:39.285Z"
   },
   {
    "duration": 0,
    "start_time": "2022-08-06T14:49:39.285Z"
   },
   {
    "duration": 0,
    "start_time": "2022-08-06T14:49:39.286Z"
   },
   {
    "duration": 0,
    "start_time": "2022-08-06T14:49:39.287Z"
   },
   {
    "duration": 0,
    "start_time": "2022-08-06T14:49:39.288Z"
   },
   {
    "duration": 0,
    "start_time": "2022-08-06T14:49:39.289Z"
   },
   {
    "duration": 0,
    "start_time": "2022-08-06T14:49:39.290Z"
   },
   {
    "duration": 0,
    "start_time": "2022-08-06T14:49:39.291Z"
   },
   {
    "duration": 14,
    "start_time": "2022-08-06T14:50:14.328Z"
   },
   {
    "duration": 2,
    "start_time": "2022-08-06T14:50:49.851Z"
   },
   {
    "duration": 989,
    "start_time": "2022-08-06T14:50:58.817Z"
   },
   {
    "duration": 3,
    "start_time": "2022-08-06T14:50:59.808Z"
   },
   {
    "duration": 1088,
    "start_time": "2022-08-06T14:50:59.812Z"
   },
   {
    "duration": 78,
    "start_time": "2022-08-06T14:51:00.903Z"
   },
   {
    "duration": 21,
    "start_time": "2022-08-06T14:51:00.982Z"
   },
   {
    "duration": 28,
    "start_time": "2022-08-06T14:51:01.005Z"
   },
   {
    "duration": 8,
    "start_time": "2022-08-06T14:51:01.035Z"
   },
   {
    "duration": 18,
    "start_time": "2022-08-06T14:51:01.044Z"
   },
   {
    "duration": 17,
    "start_time": "2022-08-06T14:51:01.063Z"
   },
   {
    "duration": 8,
    "start_time": "2022-08-06T14:51:01.082Z"
   },
   {
    "duration": 9,
    "start_time": "2022-08-06T14:51:01.091Z"
   },
   {
    "duration": 8,
    "start_time": "2022-08-06T14:51:01.101Z"
   },
   {
    "duration": 14,
    "start_time": "2022-08-06T14:51:01.110Z"
   },
   {
    "duration": 6,
    "start_time": "2022-08-06T14:51:01.125Z"
   },
   {
    "duration": 22,
    "start_time": "2022-08-06T14:51:01.133Z"
   },
   {
    "duration": 13,
    "start_time": "2022-08-06T14:51:01.156Z"
   },
   {
    "duration": 13,
    "start_time": "2022-08-06T14:51:01.170Z"
   },
   {
    "duration": 12,
    "start_time": "2022-08-06T14:51:01.185Z"
   },
   {
    "duration": 4,
    "start_time": "2022-08-06T14:51:01.198Z"
   },
   {
    "duration": 17,
    "start_time": "2022-08-06T14:51:01.203Z"
   },
   {
    "duration": 33,
    "start_time": "2022-08-06T14:51:01.222Z"
   },
   {
    "duration": 8,
    "start_time": "2022-08-06T14:51:01.256Z"
   },
   {
    "duration": 8,
    "start_time": "2022-08-06T14:51:01.265Z"
   },
   {
    "duration": 7,
    "start_time": "2022-08-06T14:51:01.275Z"
   },
   {
    "duration": 11,
    "start_time": "2022-08-06T14:51:01.284Z"
   },
   {
    "duration": 16,
    "start_time": "2022-08-06T14:51:01.296Z"
   },
   {
    "duration": 12,
    "start_time": "2022-08-06T14:51:01.313Z"
   },
   {
    "duration": 12,
    "start_time": "2022-08-06T14:51:01.329Z"
   },
   {
    "duration": 15,
    "start_time": "2022-08-06T14:51:01.342Z"
   },
   {
    "duration": 4,
    "start_time": "2022-08-06T14:51:01.359Z"
   },
   {
    "duration": 17,
    "start_time": "2022-08-06T14:51:01.365Z"
   },
   {
    "duration": 11,
    "start_time": "2022-08-06T14:51:01.384Z"
   },
   {
    "duration": 15,
    "start_time": "2022-08-06T14:51:01.396Z"
   },
   {
    "duration": 11,
    "start_time": "2022-08-06T14:51:01.412Z"
   },
   {
    "duration": 186,
    "start_time": "2022-08-06T14:51:01.424Z"
   },
   {
    "duration": 130,
    "start_time": "2022-08-06T14:51:01.612Z"
   },
   {
    "duration": 23,
    "start_time": "2022-08-06T14:51:01.744Z"
   },
   {
    "duration": 278,
    "start_time": "2022-08-06T14:51:01.768Z"
   },
   {
    "duration": 207,
    "start_time": "2022-08-06T14:51:02.048Z"
   },
   {
    "duration": 319,
    "start_time": "2022-08-06T14:51:02.256Z"
   },
   {
    "duration": 190,
    "start_time": "2022-08-06T14:51:02.577Z"
   },
   {
    "duration": 11,
    "start_time": "2022-08-06T14:51:02.768Z"
   },
   {
    "duration": 311,
    "start_time": "2022-08-06T14:51:02.780Z"
   },
   {
    "duration": 155,
    "start_time": "2022-08-06T14:51:03.093Z"
   },
   {
    "duration": 7,
    "start_time": "2022-08-06T14:51:03.249Z"
   },
   {
    "duration": 8,
    "start_time": "2022-08-06T14:51:03.258Z"
   },
   {
    "duration": 11,
    "start_time": "2022-08-06T14:51:03.268Z"
   },
   {
    "duration": 140,
    "start_time": "2022-08-06T14:51:03.280Z"
   },
   {
    "duration": 174,
    "start_time": "2022-08-06T14:51:03.421Z"
   },
   {
    "duration": 4,
    "start_time": "2022-08-06T14:51:03.597Z"
   },
   {
    "duration": 12,
    "start_time": "2022-08-06T14:51:03.602Z"
   },
   {
    "duration": 15,
    "start_time": "2022-08-06T14:51:03.615Z"
   },
   {
    "duration": 70,
    "start_time": "2022-08-06T14:51:03.632Z"
   },
   {
    "duration": 6,
    "start_time": "2022-08-06T14:51:03.704Z"
   },
   {
    "duration": 98,
    "start_time": "2022-08-06T14:51:03.712Z"
   },
   {
    "duration": 116,
    "start_time": "2022-08-06T14:51:03.811Z"
   },
   {
    "duration": 5,
    "start_time": "2022-08-06T14:51:03.929Z"
   },
   {
    "duration": 19,
    "start_time": "2022-08-06T14:51:03.936Z"
   },
   {
    "duration": 5,
    "start_time": "2022-08-06T14:51:03.957Z"
   },
   {
    "duration": 19,
    "start_time": "2022-08-06T14:51:03.963Z"
   },
   {
    "duration": 9,
    "start_time": "2022-08-06T14:51:03.983Z"
   },
   {
    "duration": 9,
    "start_time": "2022-08-06T14:51:03.993Z"
   },
   {
    "duration": 7,
    "start_time": "2022-08-06T14:51:04.003Z"
   },
   {
    "duration": 9,
    "start_time": "2022-08-06T14:51:04.012Z"
   },
   {
    "duration": 33,
    "start_time": "2022-08-06T14:51:04.022Z"
   },
   {
    "duration": 22,
    "start_time": "2022-08-06T14:51:04.057Z"
   },
   {
    "duration": 11,
    "start_time": "2022-08-06T14:51:04.081Z"
   },
   {
    "duration": 282,
    "start_time": "2022-08-06T14:51:04.094Z"
   },
   {
    "duration": 265,
    "start_time": "2022-08-06T14:51:04.377Z"
   }
  ],
  "colab": {
   "name": "13 \"Принятие решений в бизнесе\" (4c295031-8a51-48aa-b574-9763938ba403.ipynb)",
   "provenance": [],
   "toc_visible": true
  },
  "kernelspec": {
   "display_name": "Python 3 (ipykernel)",
   "language": "python",
   "name": "python3"
  },
  "language_info": {
   "codemirror_mode": {
    "name": "ipython",
    "version": 3
   },
   "file_extension": ".py",
   "mimetype": "text/x-python",
   "name": "python",
   "nbconvert_exporter": "python",
   "pygments_lexer": "ipython3",
   "version": "3.9.7"
  },
  "toc": {
   "base_numbering": 1,
   "nav_menu": {
    "height": "306px",
    "width": "371px"
   },
   "number_sections": true,
   "sideBar": true,
   "skip_h1_title": true,
   "title_cell": "Table of Contents",
   "title_sidebar": "Contents",
   "toc_cell": false,
   "toc_position": {},
   "toc_section_display": true,
   "toc_window_display": false
  }
 },
 "nbformat": 4,
 "nbformat_minor": 1
}
