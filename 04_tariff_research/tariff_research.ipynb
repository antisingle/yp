{
 "cells": [
  {
   "cell_type": "markdown",
   "metadata": {
    "toc": true
   },
   "source": [
    "<h1>Содержание<span class=\"tocSkip\"></span></h1>\n",
    "<div class=\"toc\"><ul class=\"toc-item\"><li><ul class=\"toc-item\"><li><span><a href=\"#Содержание\" data-toc-modified-id=\"Содержание-0.1\"><span class=\"toc-item-num\">0.1&nbsp;&nbsp;</span>Содержание</a></span><ul class=\"toc-item\"><li><span><a href=\"#0.-Постановка-задач.\" data-toc-modified-id=\"0.-Постановка-задач.-0.1.1\"><span class=\"toc-item-num\">0.1.1&nbsp;&nbsp;</span><a href=\"#step_0\" rel=\"nofollow\">0. Постановка задач.</a></a></span></li><li><span><a href=\"#1.-Изучение-данных-из-файлов.\" data-toc-modified-id=\"1.-Изучение-данных-из-файлов.-0.1.2\"><span class=\"toc-item-num\">0.1.2&nbsp;&nbsp;</span><a href=\"#step_1\" rel=\"nofollow\">1. Изучение данных из файлов.</a></a></span></li><li><span><a href=\"#2.-Предобработка-данных.\" data-toc-modified-id=\"2.-Предобработка-данных.-0.1.3\"><span class=\"toc-item-num\">0.1.3&nbsp;&nbsp;</span><a href=\"#step_2\" rel=\"nofollow\">2. Предобработка данных.</a></a></span></li><li><span><a href=\"#3.-Анализ-данных.\" data-toc-modified-id=\"3.-Анализ-данных.-0.1.4\"><span class=\"toc-item-num\">0.1.4&nbsp;&nbsp;</span><a href=\"#step_3\" rel=\"nofollow\">3. Анализ данных.</a></a></span></li><li><span><a href=\"#4.-Проверка-гипотез.\" data-toc-modified-id=\"4.-Проверка-гипотез.-0.1.5\"><span class=\"toc-item-num\">0.1.5&nbsp;&nbsp;</span><a href=\"#step_4\" rel=\"nofollow\">4. Проверка гипотез.</a></a></span></li><li><span><a href=\"#5.-Общий-вывод.\" data-toc-modified-id=\"5.-Общий-вывод.-0.1.6\"><span class=\"toc-item-num\">0.1.6&nbsp;&nbsp;</span><a href=\"#step_5\" rel=\"nofollow\">5. Общий вывод.</a></a></span></li></ul></li><li><span><a href=\"#Описание-тарифов\" data-toc-modified-id=\"Описание-тарифов-0.2\"><span class=\"toc-item-num\">0.2&nbsp;&nbsp;</span>Описание тарифов</a></span><ul class=\"toc-item\"><li><span><a href=\"#Тариф-«Смарт»\" data-toc-modified-id=\"Тариф-«Смарт»-0.2.1\"><span class=\"toc-item-num\">0.2.1&nbsp;&nbsp;</span>Тариф «Смарт»</a></span></li><li><span><a href=\"#Тариф-«Ультра»\" data-toc-modified-id=\"Тариф-«Ультра»-0.2.2\"><span class=\"toc-item-num\">0.2.2&nbsp;&nbsp;</span>Тариф «Ультра»</a></span></li></ul></li></ul></li><li><span><a href=\"#Изучение-данных-из-файла\" data-toc-modified-id=\"Изучение-данных-из-файла-1\"><span class=\"toc-item-num\">1&nbsp;&nbsp;</span>Изучение данных из файла</a></span><ul class=\"toc-item\"><li><span><a href=\"#1.-Импорт-данных-и-общая-информация.\" data-toc-modified-id=\"1.-Импорт-данных-и-общая-информация.-1.1\"><span class=\"toc-item-num\">1.1&nbsp;&nbsp;</span>1. Импорт данных и общая информация.</a></span></li><li><span><a href=\"#Вывод\" data-toc-modified-id=\"Вывод-1.2\"><span class=\"toc-item-num\">1.2&nbsp;&nbsp;</span>Вывод</a></span></li></ul></li><li><span><a href=\"#Предобработка-данных\" data-toc-modified-id=\"Предобработка-данных-2\"><span class=\"toc-item-num\">2&nbsp;&nbsp;</span>Предобработка данных</a></span><ul class=\"toc-item\"><li><span><a href=\"#Исправление-ошибок-в-данных,-приведение-их-к-нужным-типам.\" data-toc-modified-id=\"Исправление-ошибок-в-данных,-приведение-их-к-нужным-типам.-2.1\"><span class=\"toc-item-num\">2.1&nbsp;&nbsp;</span>Исправление ошибок в данных, приведение их к нужным типам.</a></span><ul class=\"toc-item\"><li><span><a href=\"#Обрабатываем-датасет-со-звонками-df_calls:\" data-toc-modified-id=\"Обрабатываем-датасет-со-звонками-df_calls:-2.1.1\"><span class=\"toc-item-num\">2.1.1&nbsp;&nbsp;</span>Обрабатываем датасет со звонками <code>df_calls</code>:</a></span></li><li><span><a href=\"#Обрабатываем-датасет-с--мобильным-интернетом-df_internet:\" data-toc-modified-id=\"Обрабатываем-датасет-с--мобильным-интернетом-df_internet:-2.1.2\"><span class=\"toc-item-num\">2.1.2&nbsp;&nbsp;</span>Обрабатываем датасет с  мобильным интернетом <code>df_internet</code>:</a></span></li><li><span><a href=\"#Обрабатываем-датасет-с--сообщениями-df_messages:\" data-toc-modified-id=\"Обрабатываем-датасет-с--сообщениями-df_messages:-2.1.3\"><span class=\"toc-item-num\">2.1.3&nbsp;&nbsp;</span>Обрабатываем датасет с  сообщениями <code>df_messages</code>:</a></span></li><li><span><a href=\"#Обрабатываем-датасет-с--тарифами-df_tariffs:\" data-toc-modified-id=\"Обрабатываем-датасет-с--тарифами-df_tariffs:-2.1.4\"><span class=\"toc-item-num\">2.1.4&nbsp;&nbsp;</span>Обрабатываем датасет с  тарифами <code>df_tariffs</code>:</a></span></li><li><span><a href=\"#Обрабатываем-датасет-с--пользователями-df_users:\" data-toc-modified-id=\"Обрабатываем-датасет-с--пользователями-df_users:-2.1.5\"><span class=\"toc-item-num\">2.1.5&nbsp;&nbsp;</span>Обрабатываем датасет с  пользователями <code>df_users</code>:</a></span></li></ul></li><li><span><a href=\"#Предварительный-анализ-данных.\" data-toc-modified-id=\"Предварительный-анализ-данных.-2.2\"><span class=\"toc-item-num\">2.2&nbsp;&nbsp;</span>Предварительный анализ данных.</a></span><ul class=\"toc-item\"><li><span><a href=\"#Количество-сделанных-звонков-и-израсходованных-минут-разговора-по-месяцам.\" data-toc-modified-id=\"Количество-сделанных-звонков-и-израсходованных-минут-разговора-по-месяцам.-2.2.1\"><span class=\"toc-item-num\">2.2.1&nbsp;&nbsp;</span>Количество сделанных звонков и израсходованных минут разговора по месяцам.</a></span></li><li><span><a href=\"#Количество-отправленных-сообщений-по-месяцам.\" data-toc-modified-id=\"Количество-отправленных-сообщений-по-месяцам.-2.2.2\"><span class=\"toc-item-num\">2.2.2&nbsp;&nbsp;</span>Количество отправленных сообщений по месяцам.</a></span></li><li><span><a href=\"#Объем-израсходованного-интернет-трафика-по-месяцам.\" data-toc-modified-id=\"Объем-израсходованного-интернет-трафика-по-месяцам.-2.2.3\"><span class=\"toc-item-num\">2.2.3&nbsp;&nbsp;</span>Объем израсходованного интернет-трафика по месяцам.</a></span></li><li><span><a href=\"#Посчитаем-помесячную-выручку-с-каждого-пользователя.\" data-toc-modified-id=\"Посчитаем-помесячную-выручку-с-каждого-пользователя.-2.2.4\"><span class=\"toc-item-num\">2.2.4&nbsp;&nbsp;</span>Посчитаем помесячную выручку с каждого пользователя.</a></span></li></ul></li></ul></li><li><span><a href=\"#Анализ-данных.\" data-toc-modified-id=\"Анализ-данных.-3\"><span class=\"toc-item-num\">3&nbsp;&nbsp;</span>Анализ данных.</a></span><ul class=\"toc-item\"><li><ul class=\"toc-item\"><li><span><a href=\"#Выводы:\" data-toc-modified-id=\"Выводы:-3.0.1\"><span class=\"toc-item-num\">3.0.1&nbsp;&nbsp;</span>Выводы:</a></span></li></ul></li></ul></li><li><span><a href=\"#Проверка-гипотез.\" data-toc-modified-id=\"Проверка-гипотез.-4\"><span class=\"toc-item-num\">4&nbsp;&nbsp;</span>Проверка гипотез.</a></span><ul class=\"toc-item\"><li><ul class=\"toc-item\"><li><span><a href=\"#Гипотеза-&quot;средняя-выручка-пользователей-тарифов-«Ультра»-и-«Смарт»-различаются&quot;\" data-toc-modified-id=\"Гипотеза-&quot;средняя-выручка-пользователей-тарифов-«Ультра»-и-«Смарт»-различаются&quot;-4.0.1\"><span class=\"toc-item-num\">4.0.1&nbsp;&nbsp;</span>Гипотеза \"средняя выручка пользователей тарифов «Ультра» и «Смарт» различаются\"</a></span></li><li><span><a href=\"#Гипотеза-&quot;средняя-выручка-пользователей-из-Москвы-отличается-от-выручки-пользователей-из-других-регионов&quot;\" data-toc-modified-id=\"Гипотеза-&quot;средняя-выручка-пользователей-из-Москвы-отличается-от-выручки-пользователей-из-других-регионов&quot;-4.0.2\"><span class=\"toc-item-num\">4.0.2&nbsp;&nbsp;</span>Гипотеза \"средняя выручка пользователей из Москвы отличается от выручки пользователей из других регионов\"</a></span></li></ul></li></ul></li><li><span><a href=\"#Общий-вывод\" data-toc-modified-id=\"Общий-вывод-5\"><span class=\"toc-item-num\">5&nbsp;&nbsp;</span>Общий вывод</a></span><ul class=\"toc-item\"><li><ul class=\"toc-item\"><li><span><a href=\"#Предобработка-данных-(качество-входных-данных).\" data-toc-modified-id=\"Предобработка-данных-(качество-входных-данных).-5.0.1\"><span class=\"toc-item-num\">5.0.1&nbsp;&nbsp;</span>Предобработка данных (качество входных данных).</a></span></li><li><span><a href=\"#Предварительный-анализ-данных.\" data-toc-modified-id=\"Предварительный-анализ-данных.-5.0.2\"><span class=\"toc-item-num\">5.0.2&nbsp;&nbsp;</span>Предварительный анализ данных.</a></span></li><li><span><a href=\"#Анализ-данных.\" data-toc-modified-id=\"Анализ-данных.-5.0.3\"><span class=\"toc-item-num\">5.0.3&nbsp;&nbsp;</span>Анализ данных.</a></span></li><li><span><a href=\"#Проверка-статистических-гипотез-о-влиянии-региона-и-тарифа-на-выручку.\" data-toc-modified-id=\"Проверка-статистических-гипотез-о-влиянии-региона-и-тарифа-на-выручку.-5.0.4\"><span class=\"toc-item-num\">5.0.4&nbsp;&nbsp;</span>Проверка статистических гипотез о влиянии региона и тарифа на выручку.</a></span></li></ul></li></ul></li></ul></div>"
   ]
  },
  {
   "cell_type": "markdown",
   "metadata": {},
   "source": [
    "<a id=\"back\"></a>\n",
    "### Содержание \n",
    "\n",
    "- #### [0. Постановка задач.](#step_0)\n",
    "- #### [1. Изучение данных из файлов.](#step_1)\n",
    "- #### [2. Предобработка данных.](#step_2)\n",
    "- #### [3. Анализ данных.](#step_3)\n",
    "- #### [4. Проверка гипотез.](#step_4)\n",
    "- #### [5. Общий вывод.](#step_5)"
   ]
  },
  {
   "cell_type": "markdown",
   "metadata": {
    "id": "XftuzLTAVVD8"
   },
   "source": [
    "<a id=\"step_0\"></a>\n",
    "# Постановка задач\n",
    "\n",
    "Роль в проекте - аналитик компании «Мегалайн» — федерального оператора сотовой связи. Клиентам предлагают два тарифных плана: «Смарт» и «Ультра». Чтобы скорректировать рекламный бюджет, коммерческий департамент хочет понять, какой тариф приносит больше денег.\n",
    "\n",
    "Вам предстоит сделать предварительный анализ тарифов на небольшой выборке клиентов. В вашем распоряжении данные 500 пользователей «Мегалайна»: кто они, откуда, каким тарифом пользуются, сколько звонков и сообщений каждый отправил за 2018 год. Нужно проанализировать поведение клиентов и сделать вывод — какой тариф лучше.\n",
    "\n",
    "Таблица users (информация о пользователях):\n",
    "* `user_id` — уникальный идентификатор пользователя\n",
    "* `first_name` — имя пользователя\n",
    "* `last_name` — фамилия пользователя\n",
    "* `age` — возраст пользователя (годы)\n",
    "* `reg_date` — дата подключения тарифа (день, месяц, год)\n",
    "* `churn_date` — дата прекращения пользования тарифом (если значение пропущено, то тариф ещё действовал на момент выгрузки данных)\n",
    "* `city` — город проживания пользователя\n",
    "* `tariff` — название тарифного плана\n",
    "\n",
    "Таблица calls (информация о звонках):\n",
    "* `id` — уникальный номер звонка\n",
    "* `call_date` — дата звонка\n",
    "* `duration` — длительность звонка в минутах\n",
    "* `user_id` — идентификатор пользователя, сделавшего звонок\n",
    "\n",
    "Таблица messages (информация о сообщениях):\n",
    "* `id` — уникальный номер сообщения\n",
    "* `message_date` — дата сообщения\n",
    "* `user_id` — идентификатор пользователя, отправившего сообщение\n",
    "\n",
    "Таблица internet (информация об интернет-сессиях):\n",
    "* `id` — уникальный номер сессии\n",
    "* `mb_used` — объём потраченного за сессию интернет-трафика (в мегабайтах)\n",
    "* `session_date` — дата интернет-сессии\n",
    "* `user_id` — идентификатор пользователя\n",
    "\n",
    "Таблица tariffs (информация о тарифах):\n",
    "* `tariff_name` — название тарифа\n",
    "* `rub_monthly_fee` — ежемесячная абонентская плата в рублях\n",
    "* `minutes_included` — количество минут разговора в месяц, включённых в абонентскую плату\n",
    "* `messages_included` — количество сообщений в месяц, включённых в абонентскую плату\n",
    "* `mb_per_month_included` — объём интернет-трафика, включённого в абонентскую плату (в мегабайтах)\n",
    "* `rub_per_minute` — стоимость минуты разговора сверх тарифного пакета (например, если в тарифе 100 минут разговора в месяц, то со 101 минуты будет взиматься плата)\n",
    "* `rub_per_message` — стоимость отправки сообщения сверх тарифного пакета\n",
    "* `rub_per_gb` — стоимость дополнительного гигабайта интернет-трафика сверх тарифного пакета (1 гигабайт = 1024 мегабайта)\n",
    "\n",
    "### Описание тарифов\n",
    "\n",
    "#### Тариф «Смарт»\n",
    "\n",
    "* Ежемесячная плата: 550 рублей\n",
    "* Включено 500 минут разговора, 50 сообщений и 15 Гб интернет-трафика\n",
    "Стоимость услуг сверх тарифного пакета:\n",
    "* минута разговора: 3 рубля\n",
    "* сообщение: 3 рубля\n",
    "* 1 Гб интернет-трафика: 200 рублей\n",
    "\n",
    "#### Тариф «Ультра»\n",
    "* Ежемесячная плата: 1950 рублей\n",
    "* Включено 3000 минут разговора, 1000 сообщений и 30 Гб интернет-трафика\n",
    "Стоимость услуг сверх тарифного пакета:\n",
    "* минута разговора: 1 рубль\n",
    "* сообщение: 1 рубль\n",
    "* 1 Гб интернет-трафика: 150 рублей\n",
    "\n",
    "**Примечание:**\n",
    "«Мегалайн» всегда округляет секунды до минут, а мегабайты — до гигабайт. Каждый звонок округляется отдельно: даже если он длился всего 1 секунду, будет засчитан как 1 минута.\n",
    "Для веб-трафика отдельные сессии не считаются. Вместо этого общая сумма за месяц округляется в бо́льшую сторону. Если абонент использует 1025 мегабайт в этом месяце, с него возьмут плату за 2 гигабайта. Примите, что неиспользованные за предыдущий месяц звонки, смс, интернет на следующий месяц не переносятся."
   ]
  },
  {
   "cell_type": "markdown",
   "metadata": {
    "id": "R8xkX0t8VVD_"
   },
   "source": [
    "<a id=\"step_1\"></a>\n",
    "## Изучение данных из файла\n",
    "\n",
    "[к оглавлению](#back)"
   ]
  },
  {
   "cell_type": "markdown",
   "metadata": {
    "id": "vzYxIwqsVVD_"
   },
   "source": [
    "### 1. Импорт данных и общая информация.\n",
    "\n",
    "|имя файла              |id |link |\n",
    "|-----------------------|---|-----|\n",
    "|/datasets/calls.csv    |1PoKiL07pN5A-N0xC6lcOCt5nVg_WF[...]|https://drive.google.com/file/d/1PoKiL07pN5A-N0xC6lcOCt5nVg_WF[...]/view?usp=sharing|\n",
    "|/datasets/internet.csv |1zUeh16iKh8qRkAXjQLwhghbyXeigR[...]|https://drive.google.com/file/d/1zUeh16iKh8qRkAXjQLwhghbyXeigR[...]/view?usp=sharing|\n",
    "|/datasets/messages.csv |18033xVVUdnF0aNTOoONdzckRaQBty[...]|https://drive.google.com/file/d/18033xVVUdnF0aNTOoONdzckRaQBty[...]/view?usp=sharing|\n",
    "|/datasets/tariffs.csv  |17MoeIIyNuqjZm68nLogGQdMN3p2Ev[...]|https://drive.google.com/file/d/17MoeIIyNuqjZm68nLogGQdMN3p2Ev[...]/view?usp=sharing|\n",
    "|/datasets/users.csv    |1Rs-e-YKloo-PP5TRy4xGe5S7lfdaF[...]|https://drive.google.com/file/d/1Rs-e-YKloo-PP5TRy4xGe5S7lfdaF[...]/view?usp=sharing|\n",
    "\n",
    "Датасет для колаба сохранён здесь: https://colab.research.google.com/drive/1YrXXB8s9433ODyVeVV8MqrtUX2n0u[...]?usp=sharing\n",
    "\n",
    "**Импортируем библиотеки:**"
   ]
  },
  {
   "cell_type": "code",
   "execution_count": 64,
   "metadata": {
    "id": "Rrh2OmxoVVEA"
   },
   "outputs": [],
   "source": [
    "import pandas as pd\n",
    "import os\n",
    "import numpy as np\n",
    "import matplotlib.pyplot as plt\n",
    "from scipy import stats as st"
   ]
  },
  {
   "cell_type": "markdown",
   "metadata": {
    "id": "Kt660JlUYezm"
   },
   "source": [
    "**Импортируем датасеты:**"
   ]
  },
  {
   "cell_type": "code",
   "execution_count": 65,
   "metadata": {
    "colab": {
     "base_uri": "https://localhost:8080/"
    },
    "id": "nYTLkK9eZA7P",
    "outputId": "3447edf1-9fa1-439e-dde6-c742cd253b3a"
   },
   "outputs": [
    {
     "data": {
      "text/plain": [
       "\"\\nprint('Загружаем датасеты из google drive, если возможно:')\\n\\ntry:\\n    ! gdown 1PoKiL07pN5A-N0xC6lcOCt5nVg_WFIza\\n    ! gdown 1zUeh16iKh8qRkAXjQLwhghbyXeigRFBW\\n    ! gdown 18033xVVUdnF0aNTOoONdzckRaQBtyCGi\\n    ! gdown 17MoeIIyNuqjZm68nLogGQdMN3p2EvgLy\\n    ! gdown 1Rs-e-YKloo-PP5TRy4xGe5S7lfdaF4D_\\n    print('Датасеты загружены из Google Drive')\\nexcept:\\n    print('Датасеты из Google Drive загрузить НЕ удалось!')\\n\""
      ]
     },
     "execution_count": 65,
     "metadata": {},
     "output_type": "execute_result"
    }
   ],
   "source": [
    "'''\n",
    "print('Загружаем датасеты из google drive, если возможно:')\n",
    "\n",
    "try:\n",
    "    ! gdown 1PoKiL07pN5A-N0xC6lcOCt5nVg_WF[...]\n",
    "    ! gdown 1zUeh16iKh8qRkAXjQLwhghbyXeigR[...]\n",
    "    ! gdown 18033xVVUdnF0aNTOoONdzckRaQBty[...]\n",
    "    ! gdown 17MoeIIyNuqjZm68nLogGQdMN3p2Ev[...]\n",
    "    ! gdown 1Rs-e-YKloo-PP5TRy4xGe5S7lfdaF[...]\n",
    "    print('Датасеты загружены из Google Drive')\n",
    "except:\n",
    "    print('Датасеты из Google Drive загрузить НЕ удалось!')\n",
    "'''"
   ]
  },
  {
   "cell_type": "markdown",
   "metadata": {
    "id": "G273lEFsZ76k"
   },
   "source": [
    "**Определяем переменные датасетов:**\n",
    "\n",
    "Префиксы:"
   ]
  },
  {
   "cell_type": "code",
   "execution_count": 66,
   "metadata": {
    "colab": {
     "base_uri": "https://localhost:8080/"
    },
    "id": "oAtJ1qstbzTq",
    "outputId": "023b283c-7f80-4f3f-fa5a-4e9aa72e0918"
   },
   "outputs": [
    {
     "name": "stdout",
     "output_type": "stream",
     "text": [
      "Загружены данные с сервера Яндекс.Практикума.\n"
     ]
    }
   ],
   "source": [
    "path_prefix_yandex = '/datasets/'\n",
    "path_prefix_local = '../datasets/'\n",
    "path_prefix_colab = '/content/'\n",
    "\n",
    "calls_name = 'calls.csv'\n",
    "internet_name = 'internet.csv'\n",
    "messages_name = 'messages.csv'\n",
    "tariffs_name = 'tariffs.csv'\n",
    "users_name = 'users.csv'\n",
    "\n",
    "calls_y = path_prefix_yandex + calls_name\n",
    "calls_l = path_prefix_local + calls_name\n",
    "calls_c = path_prefix_colab + calls_name\n",
    "\n",
    "internet_y = path_prefix_yandex + internet_name\n",
    "internet_l = path_prefix_local + internet_name\n",
    "internet_c = path_prefix_colab + internet_name\n",
    "\n",
    "messages_y = path_prefix_yandex + messages_name\n",
    "messages_l = path_prefix_local + messages_name\n",
    "messages_c = path_prefix_colab + messages_name\n",
    "\n",
    "tariffs_y = path_prefix_yandex + tariffs_name\n",
    "tariffs_l = path_prefix_local + tariffs_name\n",
    "tariffs_c = path_prefix_colab + tariffs_name\n",
    "\n",
    "users_y = path_prefix_yandex + users_name\n",
    "users_l = path_prefix_local + users_name\n",
    "users_c = path_prefix_colab + users_name\n",
    "\n",
    "if os.path.exists(calls_y):\n",
    "    df_calls    = pd.read_csv(calls_y)\n",
    "    df_internet = pd.read_csv(internet_y)\n",
    "    df_messages = pd.read_csv(messages_y)\n",
    "    df_tariffs  = pd.read_csv(tariffs_y)\n",
    "    df_users    = pd.read_csv(users_y)\n",
    "    print('Загружены данные с сервера Яндекс.Практикума.')\n",
    "elif os.path.exists(calls_l):\n",
    "    df_calls    = pd.read_csv(calls_l)\n",
    "    df_internet = pd.read_csv(internet_l)\n",
    "    df_messages = pd.read_csv(messages_l)\n",
    "    df_tariffs  = pd.read_csv(tariffs_l)\n",
    "    df_users    = pd.read_csv(users_l)\n",
    "    print('Загружены данные с локального сервера.')\n",
    "elif os.path.exists(calls_c):\n",
    "    df_calls    = pd.read_csv(calls_c)\n",
    "    df_internet = pd.read_csv(internet_c)\n",
    "    df_messages = pd.read_csv(messages_c)\n",
    "    df_tariffs  = pd.read_csv(tariffs_c)\n",
    "    df_users    = pd.read_csv(users_c)\n",
    "    print('Загружены данные с сервера Google Colab.')\n",
    "else:\n",
    "    print('Что-то пошло не так... Проверь названия и пути испортируемых файлов.')"
   ]
  },
  {
   "cell_type": "markdown",
   "metadata": {
    "id": "vxo-1rt-VVEC"
   },
   "source": [
    "### Вывод"
   ]
  },
  {
   "cell_type": "markdown",
   "metadata": {
    "id": "Z5SqBmRTVVED"
   },
   "source": [
    "Данные загружены, можно приступать к предобработке."
   ]
  },
  {
   "cell_type": "markdown",
   "metadata": {
    "id": "miEsp1hYVVEE"
   },
   "source": [
    "<a id=\"step_2\"></a>\n",
    "## Предобработка данных\n",
    "\n",
    "[к оглавлению](#back)\n",
    "\n",
    "Задачи:\n",
    "\n",
    "* Приведите данные к нужным типам;\n",
    "* Найдите и исправьте ошибки в данных, если они есть.\n",
    "\n",
    "Поясните, какие ошибки вы нашли и как их исправили. В данных вы найдёте звонки с нулевой продолжительностью. Это не ошибка: нулями обозначены пропущенные звонки, поэтому их не нужно удалять.\n",
    "\n"
   ]
  },
  {
   "cell_type": "markdown",
   "metadata": {
    "id": "0Fn3I0TOBsOr"
   },
   "source": [
    "### Исправление ошибок в данных, приведение их к нужным типам."
   ]
  },
  {
   "cell_type": "markdown",
   "metadata": {
    "id": "IkBWgYNaqAoD"
   },
   "source": [
    "#### Обрабатываем датасет со звонками `df_calls`:\n"
   ]
  },
  {
   "cell_type": "code",
   "execution_count": 67,
   "metadata": {
    "colab": {
     "base_uri": "https://localhost:8080/"
    },
    "id": "lRJppydSq0n-",
    "outputId": "de90d855-9b9c-42cc-e5cc-7592fe7dbf67"
   },
   "outputs": [
    {
     "name": "stdout",
     "output_type": "stream",
     "text": [
      "<class 'pandas.core.frame.DataFrame'>\n",
      "RangeIndex: 202607 entries, 0 to 202606\n",
      "Data columns (total 4 columns):\n",
      " #   Column     Non-Null Count   Dtype  \n",
      "---  ------     --------------   -----  \n",
      " 0   id         202607 non-null  object \n",
      " 1   call_date  202607 non-null  object \n",
      " 2   duration   202607 non-null  float64\n",
      " 3   user_id    202607 non-null  int64  \n",
      "dtypes: float64(1), int64(1), object(2)\n",
      "memory usage: 6.2+ MB\n"
     ]
    }
   ],
   "source": [
    "df_calls.info()"
   ]
  },
  {
   "cell_type": "code",
   "execution_count": 68,
   "metadata": {
    "colab": {
     "base_uri": "https://localhost:8080/"
    },
    "id": "4nwHd75ptpY_",
    "outputId": "b7240adb-b4ea-4b3b-d56e-cf8f00962dca"
   },
   "outputs": [
    {
     "data": {
      "text/plain": [
       "count       202607\n",
       "unique      202607\n",
       "top       1256_186\n",
       "freq             1\n",
       "Name: id, dtype: object"
      ]
     },
     "execution_count": 68,
     "metadata": {},
     "output_type": "execute_result"
    }
   ],
   "source": [
    "df_calls['id'].describe()"
   ]
  },
  {
   "cell_type": "code",
   "execution_count": 69,
   "metadata": {
    "colab": {
     "base_uri": "https://localhost:8080/"
    },
    "id": "9a3WS2KPuEQU",
    "outputId": "2be9f3c8-2025-40be-e0b2-7732178e16d7"
   },
   "outputs": [
    {
     "data": {
      "text/plain": [
       "count         202607\n",
       "unique           365\n",
       "top       2018-12-31\n",
       "freq            1435\n",
       "Name: call_date, dtype: object"
      ]
     },
     "execution_count": 69,
     "metadata": {},
     "output_type": "execute_result"
    }
   ],
   "source": [
    "df_calls['call_date'].describe()"
   ]
  },
  {
   "cell_type": "code",
   "execution_count": 70,
   "metadata": {
    "colab": {
     "base_uri": "https://localhost:8080/"
    },
    "id": "GlYODgV8uH80",
    "outputId": "cfd8b10a-1c0f-4301-c904-0205db634cbc"
   },
   "outputs": [
    {
     "data": {
      "text/plain": [
       "count    202607.000000\n",
       "mean          6.755887\n",
       "std           5.843365\n",
       "min           0.000000\n",
       "25%           1.300000\n",
       "50%           6.000000\n",
       "75%          10.700000\n",
       "max          38.000000\n",
       "Name: duration, dtype: float64"
      ]
     },
     "execution_count": 70,
     "metadata": {},
     "output_type": "execute_result"
    }
   ],
   "source": [
    "df_calls['duration'].describe()"
   ]
  },
  {
   "cell_type": "markdown",
   "metadata": {
    "id": "FAJpNbatI_xv"
   },
   "source": [
    "Заметим, что в этом поле есть нецелые числа, при этом в описании явно указано, что необходимо округлять в большую сторону до целого числа минут. Сделаем это:"
   ]
  },
  {
   "cell_type": "code",
   "execution_count": 71,
   "metadata": {
    "colab": {
     "base_uri": "https://localhost:8080/",
     "height": 363
    },
    "id": "lYQPk4ekJRjg",
    "outputId": "3553045c-6b10-4719-c7c6-c45fe9507999"
   },
   "outputs": [
    {
     "data": {
      "text/html": [
       "<div>\n",
       "<style scoped>\n",
       "    .dataframe tbody tr th:only-of-type {\n",
       "        vertical-align: middle;\n",
       "    }\n",
       "\n",
       "    .dataframe tbody tr th {\n",
       "        vertical-align: top;\n",
       "    }\n",
       "\n",
       "    .dataframe thead th {\n",
       "        text-align: right;\n",
       "    }\n",
       "</style>\n",
       "<table border=\"1\" class=\"dataframe\">\n",
       "  <thead>\n",
       "    <tr style=\"text-align: right;\">\n",
       "      <th></th>\n",
       "      <th>id</th>\n",
       "      <th>call_date</th>\n",
       "      <th>duration</th>\n",
       "      <th>user_id</th>\n",
       "      <th>duration_min</th>\n",
       "    </tr>\n",
       "  </thead>\n",
       "  <tbody>\n",
       "    <tr>\n",
       "      <th>0</th>\n",
       "      <td>1000_0</td>\n",
       "      <td>2018-07-25</td>\n",
       "      <td>0.00</td>\n",
       "      <td>1000</td>\n",
       "      <td>0.0</td>\n",
       "    </tr>\n",
       "    <tr>\n",
       "      <th>1</th>\n",
       "      <td>1000_1</td>\n",
       "      <td>2018-08-17</td>\n",
       "      <td>0.00</td>\n",
       "      <td>1000</td>\n",
       "      <td>0.0</td>\n",
       "    </tr>\n",
       "    <tr>\n",
       "      <th>2</th>\n",
       "      <td>1000_2</td>\n",
       "      <td>2018-06-11</td>\n",
       "      <td>2.85</td>\n",
       "      <td>1000</td>\n",
       "      <td>3.0</td>\n",
       "    </tr>\n",
       "    <tr>\n",
       "      <th>3</th>\n",
       "      <td>1000_3</td>\n",
       "      <td>2018-09-21</td>\n",
       "      <td>13.80</td>\n",
       "      <td>1000</td>\n",
       "      <td>14.0</td>\n",
       "    </tr>\n",
       "    <tr>\n",
       "      <th>4</th>\n",
       "      <td>1000_4</td>\n",
       "      <td>2018-12-15</td>\n",
       "      <td>5.18</td>\n",
       "      <td>1000</td>\n",
       "      <td>6.0</td>\n",
       "    </tr>\n",
       "    <tr>\n",
       "      <th>5</th>\n",
       "      <td>1000_5</td>\n",
       "      <td>2018-11-02</td>\n",
       "      <td>0.00</td>\n",
       "      <td>1000</td>\n",
       "      <td>0.0</td>\n",
       "    </tr>\n",
       "    <tr>\n",
       "      <th>6</th>\n",
       "      <td>1000_6</td>\n",
       "      <td>2018-10-18</td>\n",
       "      <td>0.00</td>\n",
       "      <td>1000</td>\n",
       "      <td>0.0</td>\n",
       "    </tr>\n",
       "    <tr>\n",
       "      <th>7</th>\n",
       "      <td>1000_7</td>\n",
       "      <td>2018-08-22</td>\n",
       "      <td>18.31</td>\n",
       "      <td>1000</td>\n",
       "      <td>19.0</td>\n",
       "    </tr>\n",
       "    <tr>\n",
       "      <th>8</th>\n",
       "      <td>1000_8</td>\n",
       "      <td>2018-09-15</td>\n",
       "      <td>18.44</td>\n",
       "      <td>1000</td>\n",
       "      <td>19.0</td>\n",
       "    </tr>\n",
       "    <tr>\n",
       "      <th>9</th>\n",
       "      <td>1000_9</td>\n",
       "      <td>2018-08-15</td>\n",
       "      <td>0.00</td>\n",
       "      <td>1000</td>\n",
       "      <td>0.0</td>\n",
       "    </tr>\n",
       "  </tbody>\n",
       "</table>\n",
       "</div>"
      ],
      "text/plain": [
       "       id   call_date  duration  user_id  duration_min\n",
       "0  1000_0  2018-07-25      0.00     1000           0.0\n",
       "1  1000_1  2018-08-17      0.00     1000           0.0\n",
       "2  1000_2  2018-06-11      2.85     1000           3.0\n",
       "3  1000_3  2018-09-21     13.80     1000          14.0\n",
       "4  1000_4  2018-12-15      5.18     1000           6.0\n",
       "5  1000_5  2018-11-02      0.00     1000           0.0\n",
       "6  1000_6  2018-10-18      0.00     1000           0.0\n",
       "7  1000_7  2018-08-22     18.31     1000          19.0\n",
       "8  1000_8  2018-09-15     18.44     1000          19.0\n",
       "9  1000_9  2018-08-15      0.00     1000           0.0"
      ]
     },
     "execution_count": 71,
     "metadata": {},
     "output_type": "execute_result"
    }
   ],
   "source": [
    "df_calls['duration_min'] = np.ceil(df_calls['duration'])\n",
    "df_calls.head(10)"
   ]
  },
  {
   "cell_type": "code",
   "execution_count": 72,
   "metadata": {
    "colab": {
     "base_uri": "https://localhost:8080/"
    },
    "id": "wxWzIrdauO1G",
    "outputId": "3991e850-6306-464a-d76b-77df2cda0435"
   },
   "outputs": [
    {
     "data": {
      "text/plain": [
       "count    202607.000000\n",
       "mean       1253.940619\n",
       "std         144.722751\n",
       "min        1000.000000\n",
       "25%        1126.000000\n",
       "50%        1260.000000\n",
       "75%        1379.000000\n",
       "max        1499.000000\n",
       "Name: user_id, dtype: float64"
      ]
     },
     "execution_count": 72,
     "metadata": {},
     "output_type": "execute_result"
    }
   ],
   "source": [
    "df_calls['user_id'].describe()"
   ]
  },
  {
   "cell_type": "markdown",
   "metadata": {
    "id": "9bYz7gSwq5W6"
   },
   "source": [
    "Пропусков нет, типы данных - ок, за исключением даты `call_date`. Его нужно преобразовать к типу `data`. \n",
    "\n",
    "Посмотрим, что есть в самой таблице:"
   ]
  },
  {
   "cell_type": "code",
   "execution_count": 73,
   "metadata": {
    "colab": {
     "base_uri": "https://localhost:8080/",
     "height": 363
    },
    "id": "usXR_BiArKvG",
    "outputId": "4dc7dd5f-cedc-4682-aa62-6d66d07a8797"
   },
   "outputs": [
    {
     "data": {
      "text/html": [
       "<div>\n",
       "<style scoped>\n",
       "    .dataframe tbody tr th:only-of-type {\n",
       "        vertical-align: middle;\n",
       "    }\n",
       "\n",
       "    .dataframe tbody tr th {\n",
       "        vertical-align: top;\n",
       "    }\n",
       "\n",
       "    .dataframe thead th {\n",
       "        text-align: right;\n",
       "    }\n",
       "</style>\n",
       "<table border=\"1\" class=\"dataframe\">\n",
       "  <thead>\n",
       "    <tr style=\"text-align: right;\">\n",
       "      <th></th>\n",
       "      <th>id</th>\n",
       "      <th>call_date</th>\n",
       "      <th>duration</th>\n",
       "      <th>user_id</th>\n",
       "      <th>duration_min</th>\n",
       "    </tr>\n",
       "  </thead>\n",
       "  <tbody>\n",
       "    <tr>\n",
       "      <th>0</th>\n",
       "      <td>1000_0</td>\n",
       "      <td>2018-07-25</td>\n",
       "      <td>0.00</td>\n",
       "      <td>1000</td>\n",
       "      <td>0.0</td>\n",
       "    </tr>\n",
       "    <tr>\n",
       "      <th>1</th>\n",
       "      <td>1000_1</td>\n",
       "      <td>2018-08-17</td>\n",
       "      <td>0.00</td>\n",
       "      <td>1000</td>\n",
       "      <td>0.0</td>\n",
       "    </tr>\n",
       "    <tr>\n",
       "      <th>2</th>\n",
       "      <td>1000_2</td>\n",
       "      <td>2018-06-11</td>\n",
       "      <td>2.85</td>\n",
       "      <td>1000</td>\n",
       "      <td>3.0</td>\n",
       "    </tr>\n",
       "    <tr>\n",
       "      <th>3</th>\n",
       "      <td>1000_3</td>\n",
       "      <td>2018-09-21</td>\n",
       "      <td>13.80</td>\n",
       "      <td>1000</td>\n",
       "      <td>14.0</td>\n",
       "    </tr>\n",
       "    <tr>\n",
       "      <th>4</th>\n",
       "      <td>1000_4</td>\n",
       "      <td>2018-12-15</td>\n",
       "      <td>5.18</td>\n",
       "      <td>1000</td>\n",
       "      <td>6.0</td>\n",
       "    </tr>\n",
       "    <tr>\n",
       "      <th>5</th>\n",
       "      <td>1000_5</td>\n",
       "      <td>2018-11-02</td>\n",
       "      <td>0.00</td>\n",
       "      <td>1000</td>\n",
       "      <td>0.0</td>\n",
       "    </tr>\n",
       "    <tr>\n",
       "      <th>6</th>\n",
       "      <td>1000_6</td>\n",
       "      <td>2018-10-18</td>\n",
       "      <td>0.00</td>\n",
       "      <td>1000</td>\n",
       "      <td>0.0</td>\n",
       "    </tr>\n",
       "    <tr>\n",
       "      <th>7</th>\n",
       "      <td>1000_7</td>\n",
       "      <td>2018-08-22</td>\n",
       "      <td>18.31</td>\n",
       "      <td>1000</td>\n",
       "      <td>19.0</td>\n",
       "    </tr>\n",
       "    <tr>\n",
       "      <th>8</th>\n",
       "      <td>1000_8</td>\n",
       "      <td>2018-09-15</td>\n",
       "      <td>18.44</td>\n",
       "      <td>1000</td>\n",
       "      <td>19.0</td>\n",
       "    </tr>\n",
       "    <tr>\n",
       "      <th>9</th>\n",
       "      <td>1000_9</td>\n",
       "      <td>2018-08-15</td>\n",
       "      <td>0.00</td>\n",
       "      <td>1000</td>\n",
       "      <td>0.0</td>\n",
       "    </tr>\n",
       "  </tbody>\n",
       "</table>\n",
       "</div>"
      ],
      "text/plain": [
       "       id   call_date  duration  user_id  duration_min\n",
       "0  1000_0  2018-07-25      0.00     1000           0.0\n",
       "1  1000_1  2018-08-17      0.00     1000           0.0\n",
       "2  1000_2  2018-06-11      2.85     1000           3.0\n",
       "3  1000_3  2018-09-21     13.80     1000          14.0\n",
       "4  1000_4  2018-12-15      5.18     1000           6.0\n",
       "5  1000_5  2018-11-02      0.00     1000           0.0\n",
       "6  1000_6  2018-10-18      0.00     1000           0.0\n",
       "7  1000_7  2018-08-22     18.31     1000          19.0\n",
       "8  1000_8  2018-09-15     18.44     1000          19.0\n",
       "9  1000_9  2018-08-15      0.00     1000           0.0"
      ]
     },
     "execution_count": 73,
     "metadata": {},
     "output_type": "execute_result"
    }
   ],
   "source": [
    "df_calls.head(10)"
   ]
  },
  {
   "cell_type": "markdown",
   "metadata": {
    "id": "GZJa33BFrSPF"
   },
   "source": [
    "На первый взгляд ничего особенного. Проверим, какие уникальные значения есть."
   ]
  },
  {
   "cell_type": "code",
   "execution_count": 74,
   "metadata": {
    "colab": {
     "base_uri": "https://localhost:8080/"
    },
    "id": "3zwqLTzxrZY6",
    "outputId": "106b462e-3d5f-4df7-c142-e647acd99847"
   },
   "outputs": [
    {
     "data": {
      "text/plain": [
       "1256_186     1\n",
       "1079_45      1\n",
       "1239_177     1\n",
       "1264_106     1\n",
       "1014_110     1\n",
       "            ..\n",
       "1359_23      1\n",
       "1157_419     1\n",
       "1377_1359    1\n",
       "1381_892     1\n",
       "1298_76      1\n",
       "Name: id, Length: 202607, dtype: int64"
      ]
     },
     "execution_count": 74,
     "metadata": {},
     "output_type": "execute_result"
    }
   ],
   "source": [
    "df_calls['id'].value_counts()"
   ]
  },
  {
   "cell_type": "markdown",
   "metadata": {
    "id": "wE6iysNUsZ-o"
   },
   "source": [
    "Видно, что здесь 202607 значений, а значит все значения встречаются по одному разу и являются уникальными.\n",
    "\n",
    "Преобразуем формат звонка в тип `data`:"
   ]
  },
  {
   "cell_type": "code",
   "execution_count": 75,
   "metadata": {
    "colab": {
     "base_uri": "https://localhost:8080/"
    },
    "id": "dJu86X75tIJI",
    "outputId": "29fdb953-ec58-4292-eb8b-603ffa52d70e"
   },
   "outputs": [
    {
     "data": {
      "text/plain": [
       "count                           202607\n",
       "mean     2018-09-02 20:01:37.583992832\n",
       "min                2018-01-01 00:00:00\n",
       "25%                2018-07-05 00:00:00\n",
       "50%                2018-09-17 00:00:00\n",
       "75%                2018-11-14 00:00:00\n",
       "max                2018-12-31 00:00:00\n",
       "Name: call_date, dtype: object"
      ]
     },
     "execution_count": 75,
     "metadata": {},
     "output_type": "execute_result"
    }
   ],
   "source": [
    "df_calls['call_date'] = pd.to_datetime(df_calls['call_date'], format='%Y-%m-%dT')\n",
    "df_calls['call_date'].describe(datetime_is_numeric=True)"
   ]
  },
  {
   "cell_type": "code",
   "execution_count": 76,
   "metadata": {
    "colab": {
     "base_uri": "https://localhost:8080/"
    },
    "id": "uvUhy2FT1eIi",
    "outputId": "e6f6bbd7-ea07-4cd1-828e-083dbb41fa98"
   },
   "outputs": [
    {
     "data": {
      "text/plain": [
       "count    202607.000000\n",
       "mean          6.755887\n",
       "std           5.843365\n",
       "min           0.000000\n",
       "25%           1.300000\n",
       "50%           6.000000\n",
       "75%          10.700000\n",
       "max          38.000000\n",
       "Name: duration, dtype: float64"
      ]
     },
     "execution_count": 76,
     "metadata": {},
     "output_type": "execute_result"
    }
   ],
   "source": [
    "df_calls['duration'].describe()"
   ]
  },
  {
   "cell_type": "markdown",
   "metadata": {
    "id": "aBShWeWt1nyZ"
   },
   "source": [
    "Поле с продолжительностю звонков. пропусков нет, Аномалий не видно. Изменять здесь нечего. "
   ]
  },
  {
   "cell_type": "code",
   "execution_count": 77,
   "metadata": {
    "colab": {
     "base_uri": "https://localhost:8080/"
    },
    "id": "8KHbJWGV1xSk",
    "outputId": "061872b2-295c-4852-b4bc-e0391edc16e3"
   },
   "outputs": [
    {
     "data": {
      "text/plain": [
       "count    202607.000000\n",
       "mean       1253.940619\n",
       "std         144.722751\n",
       "min        1000.000000\n",
       "25%        1126.000000\n",
       "50%        1260.000000\n",
       "75%        1379.000000\n",
       "max        1499.000000\n",
       "Name: user_id, dtype: float64"
      ]
     },
     "execution_count": 77,
     "metadata": {},
     "output_type": "execute_result"
    }
   ],
   "source": [
    "df_calls['user_id'].describe()"
   ]
  },
  {
   "cell_type": "markdown",
   "metadata": {
    "id": "sLCiJdJO130v"
   },
   "source": [
    "Поле с id пользователя. Пропусков нет, Аномалий не видно. Изменять здесь нечего. "
   ]
  },
  {
   "cell_type": "markdown",
   "metadata": {
    "id": "GN2zj9OSqemo"
   },
   "source": [
    "#### Обрабатываем датасет с  мобильным интернетом `df_internet`:\n"
   ]
  },
  {
   "cell_type": "code",
   "execution_count": 78,
   "metadata": {
    "colab": {
     "base_uri": "https://localhost:8080/"
    },
    "id": "rLW0FfcRv1ER",
    "outputId": "2ea92011-a18f-4b07-9f0a-762d4f9413cb"
   },
   "outputs": [
    {
     "name": "stdout",
     "output_type": "stream",
     "text": [
      "<class 'pandas.core.frame.DataFrame'>\n",
      "RangeIndex: 149396 entries, 0 to 149395\n",
      "Data columns (total 5 columns):\n",
      " #   Column        Non-Null Count   Dtype  \n",
      "---  ------        --------------   -----  \n",
      " 0   Unnamed: 0    149396 non-null  int64  \n",
      " 1   id            149396 non-null  object \n",
      " 2   mb_used       149396 non-null  float64\n",
      " 3   session_date  149396 non-null  object \n",
      " 4   user_id       149396 non-null  int64  \n",
      "dtypes: float64(1), int64(2), object(2)\n",
      "memory usage: 5.7+ MB\n"
     ]
    }
   ],
   "source": [
    "df_internet.info()"
   ]
  },
  {
   "cell_type": "code",
   "execution_count": 79,
   "metadata": {
    "colab": {
     "base_uri": "https://localhost:8080/",
     "height": 395
    },
    "id": "4ZMr_Vjaw7dy",
    "outputId": "e8c72cb4-9b37-41e5-ef06-166934b7c471"
   },
   "outputs": [
    {
     "data": {
      "text/html": [
       "<div>\n",
       "<style scoped>\n",
       "    .dataframe tbody tr th:only-of-type {\n",
       "        vertical-align: middle;\n",
       "    }\n",
       "\n",
       "    .dataframe tbody tr th {\n",
       "        vertical-align: top;\n",
       "    }\n",
       "\n",
       "    .dataframe thead th {\n",
       "        text-align: right;\n",
       "    }\n",
       "</style>\n",
       "<table border=\"1\" class=\"dataframe\">\n",
       "  <thead>\n",
       "    <tr style=\"text-align: right;\">\n",
       "      <th></th>\n",
       "      <th>Unnamed: 0</th>\n",
       "      <th>id</th>\n",
       "      <th>mb_used</th>\n",
       "      <th>session_date</th>\n",
       "      <th>user_id</th>\n",
       "    </tr>\n",
       "  </thead>\n",
       "  <tbody>\n",
       "    <tr>\n",
       "      <th>0</th>\n",
       "      <td>0</td>\n",
       "      <td>1000_0</td>\n",
       "      <td>112.95</td>\n",
       "      <td>2018-11-25</td>\n",
       "      <td>1000</td>\n",
       "    </tr>\n",
       "    <tr>\n",
       "      <th>1</th>\n",
       "      <td>1</td>\n",
       "      <td>1000_1</td>\n",
       "      <td>1052.81</td>\n",
       "      <td>2018-09-07</td>\n",
       "      <td>1000</td>\n",
       "    </tr>\n",
       "    <tr>\n",
       "      <th>2</th>\n",
       "      <td>2</td>\n",
       "      <td>1000_2</td>\n",
       "      <td>1197.26</td>\n",
       "      <td>2018-06-25</td>\n",
       "      <td>1000</td>\n",
       "    </tr>\n",
       "    <tr>\n",
       "      <th>3</th>\n",
       "      <td>3</td>\n",
       "      <td>1000_3</td>\n",
       "      <td>550.27</td>\n",
       "      <td>2018-08-22</td>\n",
       "      <td>1000</td>\n",
       "    </tr>\n",
       "    <tr>\n",
       "      <th>4</th>\n",
       "      <td>4</td>\n",
       "      <td>1000_4</td>\n",
       "      <td>302.56</td>\n",
       "      <td>2018-09-24</td>\n",
       "      <td>1000</td>\n",
       "    </tr>\n",
       "  </tbody>\n",
       "</table>\n",
       "</div>"
      ],
      "text/plain": [
       "   Unnamed: 0      id  mb_used session_date  user_id\n",
       "0           0  1000_0   112.95   2018-11-25     1000\n",
       "1           1  1000_1  1052.81   2018-09-07     1000\n",
       "2           2  1000_2  1197.26   2018-06-25     1000\n",
       "3           3  1000_3   550.27   2018-08-22     1000\n",
       "4           4  1000_4   302.56   2018-09-24     1000"
      ]
     },
     "metadata": {},
     "output_type": "display_data"
    },
    {
     "data": {
      "text/html": [
       "<div>\n",
       "<style scoped>\n",
       "    .dataframe tbody tr th:only-of-type {\n",
       "        vertical-align: middle;\n",
       "    }\n",
       "\n",
       "    .dataframe tbody tr th {\n",
       "        vertical-align: top;\n",
       "    }\n",
       "\n",
       "    .dataframe thead th {\n",
       "        text-align: right;\n",
       "    }\n",
       "</style>\n",
       "<table border=\"1\" class=\"dataframe\">\n",
       "  <thead>\n",
       "    <tr style=\"text-align: right;\">\n",
       "      <th></th>\n",
       "      <th>Unnamed: 0</th>\n",
       "      <th>id</th>\n",
       "      <th>mb_used</th>\n",
       "      <th>session_date</th>\n",
       "      <th>user_id</th>\n",
       "    </tr>\n",
       "  </thead>\n",
       "  <tbody>\n",
       "    <tr>\n",
       "      <th>149391</th>\n",
       "      <td>149391</td>\n",
       "      <td>1499_152</td>\n",
       "      <td>318.90</td>\n",
       "      <td>2018-10-03</td>\n",
       "      <td>1499</td>\n",
       "    </tr>\n",
       "    <tr>\n",
       "      <th>149392</th>\n",
       "      <td>149392</td>\n",
       "      <td>1499_153</td>\n",
       "      <td>490.13</td>\n",
       "      <td>2018-12-14</td>\n",
       "      <td>1499</td>\n",
       "    </tr>\n",
       "    <tr>\n",
       "      <th>149393</th>\n",
       "      <td>149393</td>\n",
       "      <td>1499_154</td>\n",
       "      <td>0.00</td>\n",
       "      <td>2018-10-27</td>\n",
       "      <td>1499</td>\n",
       "    </tr>\n",
       "    <tr>\n",
       "      <th>149394</th>\n",
       "      <td>149394</td>\n",
       "      <td>1499_155</td>\n",
       "      <td>1246.32</td>\n",
       "      <td>2018-11-26</td>\n",
       "      <td>1499</td>\n",
       "    </tr>\n",
       "    <tr>\n",
       "      <th>149395</th>\n",
       "      <td>149395</td>\n",
       "      <td>1499_156</td>\n",
       "      <td>544.37</td>\n",
       "      <td>2018-10-26</td>\n",
       "      <td>1499</td>\n",
       "    </tr>\n",
       "  </tbody>\n",
       "</table>\n",
       "</div>"
      ],
      "text/plain": [
       "        Unnamed: 0        id  mb_used session_date  user_id\n",
       "149391      149391  1499_152   318.90   2018-10-03     1499\n",
       "149392      149392  1499_153   490.13   2018-12-14     1499\n",
       "149393      149393  1499_154     0.00   2018-10-27     1499\n",
       "149394      149394  1499_155  1246.32   2018-11-26     1499\n",
       "149395      149395  1499_156   544.37   2018-10-26     1499"
      ]
     },
     "metadata": {},
     "output_type": "display_data"
    }
   ],
   "source": [
    "display(df_internet.head())\n",
    "display(df_internet.tail())"
   ]
  },
  {
   "cell_type": "markdown",
   "metadata": {
    "id": "hC1pX-nrxJ0R"
   },
   "source": [
    "Что нужно исправлять:\n",
    "* `id` похоже, что должна иметь тип данных `int`, но фактически имеет строковый тип данных. Но это не выглядит критичным, поэтому не будем в данном случае менять тип данных на `int`.\n",
    "* нужно привести `session_date` к типу дата. Сделаем это ниже."
   ]
  },
  {
   "cell_type": "code",
   "execution_count": 80,
   "metadata": {
    "colab": {
     "base_uri": "https://localhost:8080/"
    },
    "id": "7wivjRe2xmN1",
    "outputId": "bedb2088-ee60-4ef1-c064-c6c966f13c1e"
   },
   "outputs": [
    {
     "name": "stdout",
     "output_type": "stream",
     "text": [
      "<class 'pandas.core.frame.DataFrame'>\n",
      "RangeIndex: 149396 entries, 0 to 149395\n",
      "Data columns (total 5 columns):\n",
      " #   Column        Non-Null Count   Dtype         \n",
      "---  ------        --------------   -----         \n",
      " 0   Unnamed: 0    149396 non-null  int64         \n",
      " 1   id            149396 non-null  object        \n",
      " 2   mb_used       149396 non-null  float64       \n",
      " 3   session_date  149396 non-null  datetime64[ns]\n",
      " 4   user_id       149396 non-null  int64         \n",
      "dtypes: datetime64[ns](1), float64(1), int64(2), object(1)\n",
      "memory usage: 5.7+ MB\n"
     ]
    }
   ],
   "source": [
    "df_internet['session_date'] = pd.to_datetime(df_internet['session_date'], format='%Y-%m-%dT')\n",
    "df_internet.info()"
   ]
  },
  {
   "cell_type": "markdown",
   "metadata": {
    "id": "R6GuVwM7ymSO"
   },
   "source": [
    "Ок, колонка содержит нужные типы.\n",
    "\n",
    "Проверим, какие данные есть в каждой колонке:"
   ]
  },
  {
   "cell_type": "code",
   "execution_count": 81,
   "metadata": {
    "colab": {
     "base_uri": "https://localhost:8080/"
    },
    "id": "3eJFwhBCypM8",
    "outputId": "8d6976b1-060f-4318-e3cb-8a71a00fbd84"
   },
   "outputs": [
    {
     "data": {
      "text/plain": [
       "count    149396.000000\n",
       "mean      74697.500000\n",
       "std       43127.054745\n",
       "min           0.000000\n",
       "25%       37348.750000\n",
       "50%       74697.500000\n",
       "75%      112046.250000\n",
       "max      149395.000000\n",
       "Name: Unnamed: 0, dtype: float64"
      ]
     },
     "execution_count": 81,
     "metadata": {},
     "output_type": "execute_result"
    }
   ],
   "source": [
    "df_internet['Unnamed: 0'].describe()"
   ]
  },
  {
   "cell_type": "markdown",
   "metadata": {
    "id": "oqy74Ar1zvXT"
   },
   "source": [
    "Поле фактически дублирует индекс. Т.е. оно лишнее, но вроде бы не мешает, поэтому не будет его удалять."
   ]
  },
  {
   "cell_type": "code",
   "execution_count": 82,
   "metadata": {
    "colab": {
     "base_uri": "https://localhost:8080/"
    },
    "id": "ilBETocvz23J",
    "outputId": "1ab83bf3-b062-4412-f987-3a8e9fef902d"
   },
   "outputs": [
    {
     "data": {
      "text/plain": [
       "count       149396\n",
       "unique      149396\n",
       "top       1256_186\n",
       "freq             1\n",
       "Name: id, dtype: object"
      ]
     },
     "execution_count": 82,
     "metadata": {},
     "output_type": "execute_result"
    }
   ],
   "source": [
    "df_internet['id'].describe()"
   ]
  },
  {
   "cell_type": "markdown",
   "metadata": {
    "id": "Nk1kokSnz6_l"
   },
   "source": [
    "Уникальные поля с идентификаторами строкового типа. ВРоде бы их можно было бы сделать типа `int`, но не понятно, какие от этого будут преимущества, поэтому не будем изменять."
   ]
  },
  {
   "cell_type": "code",
   "execution_count": 83,
   "metadata": {
    "colab": {
     "base_uri": "https://localhost:8080/"
    },
    "id": "TxCCt-eX0UHo",
    "outputId": "0185fadb-b24b-47a0-ec8f-49a71291623b"
   },
   "outputs": [
    {
     "data": {
      "text/plain": [
       "count    149396.000000\n",
       "mean        370.192426\n",
       "std         278.300951\n",
       "min           0.000000\n",
       "25%         138.187500\n",
       "50%         348.015000\n",
       "75%         559.552500\n",
       "max        1724.830000\n",
       "Name: mb_used, dtype: float64"
      ]
     },
     "execution_count": 83,
     "metadata": {},
     "output_type": "execute_result"
    }
   ],
   "source": [
    "df_internet['mb_used'].describe()"
   ]
  },
  {
   "cell_type": "markdown",
   "metadata": {
    "id": "gFwpwbir0hQH"
   },
   "source": [
    "Поле с количеством мегабайт за сессию, выглядит правдоподобно, поэтому не будем изменять ничего."
   ]
  },
  {
   "cell_type": "code",
   "execution_count": 84,
   "metadata": {
    "colab": {
     "base_uri": "https://localhost:8080/"
    },
    "id": "Pwo6eNBz0nle",
    "outputId": "125db136-bca2-4405-cfd4-94c9a97ab0c7",
    "scrolled": true
   },
   "outputs": [
    {
     "name": "stderr",
     "output_type": "stream",
     "text": [
      "/tmp/ipykernel_31/2606794565.py:1: FutureWarning: Treating datetime data as categorical rather than numeric in `.describe` is deprecated and will be removed in a future version of pandas. Specify `datetime_is_numeric=True` to silence this warning and adopt the future behavior now.\n",
      "  df_internet['session_date'].describe()\n"
     ]
    },
    {
     "data": {
      "text/plain": [
       "count                  149396\n",
       "unique                    365\n",
       "top       2018-12-31 00:00:00\n",
       "freq                     1057\n",
       "first     2018-01-01 00:00:00\n",
       "last      2018-12-31 00:00:00\n",
       "Name: session_date, dtype: object"
      ]
     },
     "execution_count": 84,
     "metadata": {},
     "output_type": "execute_result"
    }
   ],
   "source": [
    "df_internet['session_date'].describe()"
   ]
  },
  {
   "cell_type": "markdown",
   "metadata": {
    "id": "dMyfY5Ym0yj6"
   },
   "source": [
    "Поле с датами сессий, выглядит правдоподобно, поэтому не будем изменять ничего.\n",
    "\n",
    "Однако любопытно, что как и в случае с звонками, максимальное количество сессий - перед новым годом."
   ]
  },
  {
   "cell_type": "code",
   "execution_count": 85,
   "metadata": {
    "colab": {
     "base_uri": "https://localhost:8080/"
    },
    "id": "g36F7cyF0_ny",
    "outputId": "4f1576cb-63f3-441d-877f-481f808cfc5e"
   },
   "outputs": [
    {
     "data": {
      "text/plain": [
       "count    149396.000000\n",
       "mean       1252.099842\n",
       "std         144.050823\n",
       "min        1000.000000\n",
       "25%        1130.000000\n",
       "50%        1251.000000\n",
       "75%        1380.000000\n",
       "max        1499.000000\n",
       "Name: user_id, dtype: float64"
      ]
     },
     "execution_count": 85,
     "metadata": {},
     "output_type": "execute_result"
    }
   ],
   "source": [
    "df_internet['user_id'].describe()"
   ]
  },
  {
   "cell_type": "markdown",
   "metadata": {
    "id": "MRxr_CHv1Q9w"
   },
   "source": [
    "Поле с id пользователя, выглядит правдоподобно, поэтому не будем изменять ничего."
   ]
  },
  {
   "cell_type": "markdown",
   "metadata": {
    "id": "ropnYDhHyHxU"
   },
   "source": [
    "**Выводы:**\n",
    "* пропусков нет, \n",
    "* данные корректных типов,\n",
    "* есть странный столбец `Unnamed: 0`, который по сути дублирует индекс. Не буду его удалять, т.к. он фактически не мешает."
   ]
  },
  {
   "cell_type": "markdown",
   "metadata": {},
   "source": [
    "**Выводы (продолжение):**\n",
    "\n",
    "* в таблицах звонков есть нули. По условиям задания \"В данных вы найдёте звонки с нулевой продолжительностью. Это не ошибка: нулями обозначены пропущенные звонки, поэтому их не нужно удалять.\" Поэтому я их не удалял и в отчёте не описал. \n",
    "* аналогично в таблицах расхода интрернета есть нули. Почему возникли они - механизм предположить сложнее, т.к. не владею темой. Что-то типа \"сессию открыли, но данные не пошли\" . Эти значения я также не влияют ни на что, т.к. считать будем объём трафика, а не количество открытых сессий (цитата из задания: *\"Для веб-трафика отдельные сессии не считаются.\"* ), поэтому нули здесь статистику не испортят. Поэтому я их не удалял. "
   ]
  },
  {
   "cell_type": "markdown",
   "metadata": {
    "id": "SHe-TVR2qfrq"
   },
   "source": [
    "#### Обрабатываем датасет с  сообщениями `df_messages`:\n"
   ]
  },
  {
   "cell_type": "code",
   "execution_count": 86,
   "metadata": {
    "colab": {
     "base_uri": "https://localhost:8080/"
    },
    "id": "NH7D9WaE2UUW",
    "outputId": "d90eea3a-2129-4d2c-cbf9-8a632e735528"
   },
   "outputs": [
    {
     "name": "stdout",
     "output_type": "stream",
     "text": [
      "<class 'pandas.core.frame.DataFrame'>\n",
      "RangeIndex: 123036 entries, 0 to 123035\n",
      "Data columns (total 3 columns):\n",
      " #   Column        Non-Null Count   Dtype \n",
      "---  ------        --------------   ----- \n",
      " 0   id            123036 non-null  object\n",
      " 1   message_date  123036 non-null  object\n",
      " 2   user_id       123036 non-null  int64 \n",
      "dtypes: int64(1), object(2)\n",
      "memory usage: 2.8+ MB\n"
     ]
    }
   ],
   "source": [
    "df_messages.info()"
   ]
  },
  {
   "cell_type": "code",
   "execution_count": 87,
   "metadata": {
    "colab": {
     "base_uri": "https://localhost:8080/",
     "height": 206
    },
    "id": "BH0nTQ4V2Yyu",
    "outputId": "f69cb286-5b96-4c4a-a56e-c613f40f3c6a"
   },
   "outputs": [
    {
     "data": {
      "text/html": [
       "<div>\n",
       "<style scoped>\n",
       "    .dataframe tbody tr th:only-of-type {\n",
       "        vertical-align: middle;\n",
       "    }\n",
       "\n",
       "    .dataframe tbody tr th {\n",
       "        vertical-align: top;\n",
       "    }\n",
       "\n",
       "    .dataframe thead th {\n",
       "        text-align: right;\n",
       "    }\n",
       "</style>\n",
       "<table border=\"1\" class=\"dataframe\">\n",
       "  <thead>\n",
       "    <tr style=\"text-align: right;\">\n",
       "      <th></th>\n",
       "      <th>id</th>\n",
       "      <th>message_date</th>\n",
       "      <th>user_id</th>\n",
       "    </tr>\n",
       "  </thead>\n",
       "  <tbody>\n",
       "    <tr>\n",
       "      <th>0</th>\n",
       "      <td>1000_0</td>\n",
       "      <td>2018-06-27</td>\n",
       "      <td>1000</td>\n",
       "    </tr>\n",
       "    <tr>\n",
       "      <th>1</th>\n",
       "      <td>1000_1</td>\n",
       "      <td>2018-10-08</td>\n",
       "      <td>1000</td>\n",
       "    </tr>\n",
       "    <tr>\n",
       "      <th>2</th>\n",
       "      <td>1000_2</td>\n",
       "      <td>2018-08-04</td>\n",
       "      <td>1000</td>\n",
       "    </tr>\n",
       "    <tr>\n",
       "      <th>3</th>\n",
       "      <td>1000_3</td>\n",
       "      <td>2018-06-16</td>\n",
       "      <td>1000</td>\n",
       "    </tr>\n",
       "    <tr>\n",
       "      <th>4</th>\n",
       "      <td>1000_4</td>\n",
       "      <td>2018-12-05</td>\n",
       "      <td>1000</td>\n",
       "    </tr>\n",
       "  </tbody>\n",
       "</table>\n",
       "</div>"
      ],
      "text/plain": [
       "       id message_date  user_id\n",
       "0  1000_0   2018-06-27     1000\n",
       "1  1000_1   2018-10-08     1000\n",
       "2  1000_2   2018-08-04     1000\n",
       "3  1000_3   2018-06-16     1000\n",
       "4  1000_4   2018-12-05     1000"
      ]
     },
     "execution_count": 87,
     "metadata": {},
     "output_type": "execute_result"
    }
   ],
   "source": [
    "df_messages.head()"
   ]
  },
  {
   "cell_type": "code",
   "execution_count": 88,
   "metadata": {
    "colab": {
     "base_uri": "https://localhost:8080/"
    },
    "id": "qp7eIT702f4t",
    "outputId": "887a3a54-f608-48dc-b458-16b4b97a6ccb"
   },
   "outputs": [
    {
     "data": {
      "text/plain": [
       "count       123036\n",
       "unique      123036\n",
       "top       1231_211\n",
       "freq             1\n",
       "Name: id, dtype: object"
      ]
     },
     "execution_count": 88,
     "metadata": {},
     "output_type": "execute_result"
    }
   ],
   "source": [
    "df_messages['id'].describe()"
   ]
  },
  {
   "cell_type": "markdown",
   "metadata": {
    "id": "hwc6W4C329Zu"
   },
   "source": [
    "Пропусков нет, все значения уникальные. Можно было бы поменять тип на int, но не понятны плюсы от этого, поэтому не трогаем."
   ]
  },
  {
   "cell_type": "code",
   "execution_count": 89,
   "metadata": {
    "colab": {
     "base_uri": "https://localhost:8080/"
    },
    "id": "3tIj1KYv3VjN",
    "outputId": "f4de82d9-bb69-45b5-fd9e-8f785e4ea65b"
   },
   "outputs": [
    {
     "data": {
      "text/plain": [
       "count    123036.000000\n",
       "mean       1256.989410\n",
       "std         143.523967\n",
       "min        1000.000000\n",
       "25%        1134.000000\n",
       "50%        1271.000000\n",
       "75%        1381.000000\n",
       "max        1499.000000\n",
       "Name: user_id, dtype: float64"
      ]
     },
     "execution_count": 89,
     "metadata": {},
     "output_type": "execute_result"
    }
   ],
   "source": [
    "df_messages['user_id'].describe()"
   ]
  },
  {
   "cell_type": "markdown",
   "metadata": {
    "id": "X8fYI-RS3eWd"
   },
   "source": [
    "Пропусков нет, всё ок."
   ]
  },
  {
   "cell_type": "code",
   "execution_count": 90,
   "metadata": {
    "colab": {
     "base_uri": "https://localhost:8080/"
    },
    "id": "PUXH4EOR3gtB",
    "outputId": "14185ae2-fd07-4763-af26-e1c80a6021af"
   },
   "outputs": [
    {
     "data": {
      "text/plain": [
       "count         123036\n",
       "unique           364\n",
       "top       2018-12-31\n",
       "freq             859\n",
       "Name: message_date, dtype: object"
      ]
     },
     "execution_count": 90,
     "metadata": {},
     "output_type": "execute_result"
    }
   ],
   "source": [
    "df_messages['message_date'].describe()"
   ]
  },
  {
   "cell_type": "code",
   "execution_count": 91,
   "metadata": {
    "colab": {
     "base_uri": "https://localhost:8080/"
    },
    "id": "rvCjwWzY3tX0",
    "outputId": "3b23d900-1c13-4c9d-8697-cebb557b05d9"
   },
   "outputs": [
    {
     "name": "stdout",
     "output_type": "stream",
     "text": [
      "<class 'pandas.core.frame.DataFrame'>\n",
      "RangeIndex: 123036 entries, 0 to 123035\n",
      "Data columns (total 3 columns):\n",
      " #   Column        Non-Null Count   Dtype         \n",
      "---  ------        --------------   -----         \n",
      " 0   id            123036 non-null  object        \n",
      " 1   message_date  123036 non-null  datetime64[ns]\n",
      " 2   user_id       123036 non-null  int64         \n",
      "dtypes: datetime64[ns](1), int64(1), object(1)\n",
      "memory usage: 2.8+ MB\n"
     ]
    }
   ],
   "source": [
    "df_messages['message_date'] = pd.to_datetime(df_messages['message_date'], format='%Y-%m-%dT')\n",
    "df_messages.info()"
   ]
  },
  {
   "cell_type": "markdown",
   "metadata": {
    "id": "PcAO44AU39G0"
   },
   "source": [
    "Пропусков нет, данные правильных типов. Всё ок. \n",
    "\n",
    "Идём к следующему датафрейму."
   ]
  },
  {
   "cell_type": "markdown",
   "metadata": {
    "id": "3_WITTwYqgmg"
   },
   "source": [
    "#### Обрабатываем датасет с  тарифами `df_tariffs`:\n"
   ]
  },
  {
   "cell_type": "code",
   "execution_count": 92,
   "metadata": {
    "colab": {
     "base_uri": "https://localhost:8080/"
    },
    "id": "AqKE4ejD4MgI",
    "outputId": "f27b8ff7-11da-418f-c718-fb5f90f62b1a"
   },
   "outputs": [
    {
     "name": "stdout",
     "output_type": "stream",
     "text": [
      "<class 'pandas.core.frame.DataFrame'>\n",
      "RangeIndex: 2 entries, 0 to 1\n",
      "Data columns (total 8 columns):\n",
      " #   Column                 Non-Null Count  Dtype \n",
      "---  ------                 --------------  ----- \n",
      " 0   messages_included      2 non-null      int64 \n",
      " 1   mb_per_month_included  2 non-null      int64 \n",
      " 2   minutes_included       2 non-null      int64 \n",
      " 3   rub_monthly_fee        2 non-null      int64 \n",
      " 4   rub_per_gb             2 non-null      int64 \n",
      " 5   rub_per_message        2 non-null      int64 \n",
      " 6   rub_per_minute         2 non-null      int64 \n",
      " 7   tariff_name            2 non-null      object\n",
      "dtypes: int64(7), object(1)\n",
      "memory usage: 256.0+ bytes\n"
     ]
    }
   ],
   "source": [
    "df_tariffs.info()"
   ]
  },
  {
   "cell_type": "code",
   "execution_count": 93,
   "metadata": {
    "colab": {
     "base_uri": "https://localhost:8080/",
     "height": 176
    },
    "id": "QPjrad-g4Tzi",
    "outputId": "a6aab45f-bbf1-43d6-efe6-207bf4bb356f"
   },
   "outputs": [
    {
     "data": {
      "text/html": [
       "<div>\n",
       "<style scoped>\n",
       "    .dataframe tbody tr th:only-of-type {\n",
       "        vertical-align: middle;\n",
       "    }\n",
       "\n",
       "    .dataframe tbody tr th {\n",
       "        vertical-align: top;\n",
       "    }\n",
       "\n",
       "    .dataframe thead th {\n",
       "        text-align: right;\n",
       "    }\n",
       "</style>\n",
       "<table border=\"1\" class=\"dataframe\">\n",
       "  <thead>\n",
       "    <tr style=\"text-align: right;\">\n",
       "      <th></th>\n",
       "      <th>messages_included</th>\n",
       "      <th>mb_per_month_included</th>\n",
       "      <th>minutes_included</th>\n",
       "      <th>rub_monthly_fee</th>\n",
       "      <th>rub_per_gb</th>\n",
       "      <th>rub_per_message</th>\n",
       "      <th>rub_per_minute</th>\n",
       "      <th>tariff_name</th>\n",
       "    </tr>\n",
       "  </thead>\n",
       "  <tbody>\n",
       "    <tr>\n",
       "      <th>0</th>\n",
       "      <td>50</td>\n",
       "      <td>15360</td>\n",
       "      <td>500</td>\n",
       "      <td>550</td>\n",
       "      <td>200</td>\n",
       "      <td>3</td>\n",
       "      <td>3</td>\n",
       "      <td>smart</td>\n",
       "    </tr>\n",
       "    <tr>\n",
       "      <th>1</th>\n",
       "      <td>1000</td>\n",
       "      <td>30720</td>\n",
       "      <td>3000</td>\n",
       "      <td>1950</td>\n",
       "      <td>150</td>\n",
       "      <td>1</td>\n",
       "      <td>1</td>\n",
       "      <td>ultra</td>\n",
       "    </tr>\n",
       "  </tbody>\n",
       "</table>\n",
       "</div>"
      ],
      "text/plain": [
       "   messages_included  mb_per_month_included  minutes_included  \\\n",
       "0                 50                  15360               500   \n",
       "1               1000                  30720              3000   \n",
       "\n",
       "   rub_monthly_fee  rub_per_gb  rub_per_message  rub_per_minute tariff_name  \n",
       "0              550         200                3               3       smart  \n",
       "1             1950         150                1               1       ultra  "
      ]
     },
     "execution_count": 93,
     "metadata": {},
     "output_type": "execute_result"
    }
   ],
   "source": [
    "df_tariffs"
   ]
  },
  {
   "cell_type": "markdown",
   "metadata": {
    "id": "-a_Hmcdu4cSb"
   },
   "source": [
    "Тарифа всего два. Аномалий не видно. Всё ок. \n",
    "\n",
    "Идём к следующей переменной."
   ]
  },
  {
   "cell_type": "markdown",
   "metadata": {
    "id": "WijOLbHsqh0a"
   },
   "source": [
    "#### Обрабатываем датасет с  пользователями `df_users`:"
   ]
  },
  {
   "cell_type": "code",
   "execution_count": 94,
   "metadata": {
    "colab": {
     "base_uri": "https://localhost:8080/"
    },
    "id": "jDFV3pvp4lmi",
    "outputId": "7b0df464-31ac-49eb-f66d-191d0adab8af"
   },
   "outputs": [
    {
     "name": "stdout",
     "output_type": "stream",
     "text": [
      "<class 'pandas.core.frame.DataFrame'>\n",
      "RangeIndex: 500 entries, 0 to 499\n",
      "Data columns (total 8 columns):\n",
      " #   Column      Non-Null Count  Dtype \n",
      "---  ------      --------------  ----- \n",
      " 0   user_id     500 non-null    int64 \n",
      " 1   age         500 non-null    int64 \n",
      " 2   churn_date  38 non-null     object\n",
      " 3   city        500 non-null    object\n",
      " 4   first_name  500 non-null    object\n",
      " 5   last_name   500 non-null    object\n",
      " 6   reg_date    500 non-null    object\n",
      " 7   tariff      500 non-null    object\n",
      "dtypes: int64(2), object(6)\n",
      "memory usage: 31.4+ KB\n"
     ]
    }
   ],
   "source": [
    "df_users.info()"
   ]
  },
  {
   "cell_type": "markdown",
   "metadata": {
    "id": "8SpWqjsm4tAc"
   },
   "source": [
    "Проверяем поля.\n",
    "\n",
    "**user_id**"
   ]
  },
  {
   "cell_type": "code",
   "execution_count": 95,
   "metadata": {
    "colab": {
     "base_uri": "https://localhost:8080/"
    },
    "id": "g3hUX_Eo4yJd",
    "outputId": "8a45733b-28f6-41ab-9c6d-69b10242c0da"
   },
   "outputs": [
    {
     "data": {
      "text/plain": [
       "count     500.000000\n",
       "mean     1249.500000\n",
       "std       144.481833\n",
       "min      1000.000000\n",
       "25%      1124.750000\n",
       "50%      1249.500000\n",
       "75%      1374.250000\n",
       "max      1499.000000\n",
       "Name: user_id, dtype: float64"
      ]
     },
     "execution_count": 95,
     "metadata": {},
     "output_type": "execute_result"
    }
   ],
   "source": [
    "df_users['user_id'].describe()"
   ]
  },
  {
   "cell_type": "markdown",
   "metadata": {
    "id": "5E1sD-s-47Ay"
   },
   "source": [
    "Пропусков нет, тип правильный, \n",
    "\n",
    "всё ок. Идём к следующему полю.\n",
    "\n",
    "**age**"
   ]
  },
  {
   "cell_type": "code",
   "execution_count": 96,
   "metadata": {
    "colab": {
     "base_uri": "https://localhost:8080/"
    },
    "id": "64FX12nk5BSY",
    "outputId": "e5e2529b-5975-4247-df84-3eb0fde6008c"
   },
   "outputs": [
    {
     "data": {
      "text/plain": [
       "count    500.00000\n",
       "mean      46.58800\n",
       "std       16.66763\n",
       "min       18.00000\n",
       "25%       32.00000\n",
       "50%       46.00000\n",
       "75%       62.00000\n",
       "max       75.00000\n",
       "Name: age, dtype: float64"
      ]
     },
     "execution_count": 96,
     "metadata": {},
     "output_type": "execute_result"
    }
   ],
   "source": [
    "df_users['age'].describe()"
   ]
  },
  {
   "cell_type": "markdown",
   "metadata": {
    "id": "uYxO8Jig7PRf"
   },
   "source": [
    "ok.\n",
    "\n",
    "**city**"
   ]
  },
  {
   "cell_type": "code",
   "execution_count": 97,
   "metadata": {
    "colab": {
     "base_uri": "https://localhost:8080/"
    },
    "id": "EzR6cUrI7Zg0",
    "outputId": "770fa555-01db-4306-e958-30d674aeb839"
   },
   "outputs": [
    {
     "data": {
      "text/plain": [
       "count        500\n",
       "unique        76\n",
       "top       Москва\n",
       "freq          99\n",
       "Name: city, dtype: object"
      ]
     },
     "execution_count": 97,
     "metadata": {},
     "output_type": "execute_result"
    }
   ],
   "source": [
    "df_users['city'].describe()"
   ]
  },
  {
   "cell_type": "code",
   "execution_count": 98,
   "metadata": {
    "colab": {
     "base_uri": "https://localhost:8080/"
    },
    "id": "EF1FugBV-IHz",
    "outputId": "01759a1f-c41e-4270-f596-874d08a648e0"
   },
   "outputs": [
    {
     "data": {
      "text/plain": [
       "array(['Краснодар', 'Москва', 'Стерлитамак', 'Новокузнецк',\n",
       "       'Набережные Челны', 'Ульяновск', 'Челябинск', 'Пермь', 'Тюмень',\n",
       "       'Самара', 'Санкт-Петербург', 'Иваново', 'Чебоксары', 'Омск', 'Уфа',\n",
       "       'Томск', 'Чита', 'Мурманск', 'Петрозаводск', 'Тверь',\n",
       "       'Екатеринбург', 'Махачкала', 'Вологда', 'Череповец', 'Ярославль',\n",
       "       'Сочи', 'Хабаровск', 'Ставрополь', 'Рязань', 'Улан-Удэ', 'Тула',\n",
       "       'Саратов', 'Ростов-на-Дону', 'Казань', 'Иркутск', 'Курск',\n",
       "       'Калуга', 'Якутск', 'Астрахань', 'Химки', 'Владикавказ',\n",
       "       'Волгоград', 'Саранск', 'Ижевск', 'Новосибирск', 'Брянск',\n",
       "       'Тольятти', 'Нижний Тагил', 'Орёл', 'Белгород', 'Воронеж',\n",
       "       'Волжский', 'Курган', 'Барнаул', 'Красноярск', 'Архангельск',\n",
       "       'Липецк', 'Кемерово', 'Киров', 'Сургут', 'Пенза', 'Магнитогорск',\n",
       "       'Нижний Новгород', 'Кострома', 'Владивосток', 'Тамбов', 'Балашиха',\n",
       "       'Севастополь', 'Калининград', 'Оренбург', 'Смоленск',\n",
       "       'Нижневартовск', 'Владимир', 'Новороссийск', 'Грозный', 'Подольск'],\n",
       "      dtype=object)"
      ]
     },
     "execution_count": 98,
     "metadata": {},
     "output_type": "execute_result"
    }
   ],
   "source": [
    "df_users['city'].unique()"
   ]
  },
  {
   "cell_type": "markdown",
   "metadata": {
    "id": "7mewtwIl-E38"
   },
   "source": [
    "Пропусков нет, аномалий не видно. \n",
    "\n",
    "Идём к следующему столбцу.\n",
    "\n",
    "**first_name, last_name**"
   ]
  },
  {
   "cell_type": "code",
   "execution_count": 99,
   "metadata": {
    "colab": {
     "base_uri": "https://localhost:8080/"
    },
    "id": "R7BlY3jw-XUw",
    "outputId": "97e5a9ba-780d-4e78-95c3-c4b7bcbaf537"
   },
   "outputs": [
    {
     "data": {
      "text/plain": [
       "count       500\n",
       "unique      246\n",
       "top       Радим\n",
       "freq          6\n",
       "Name: first_name, dtype: object"
      ]
     },
     "execution_count": 99,
     "metadata": {},
     "output_type": "execute_result"
    }
   ],
   "source": [
    "df_users['first_name'].describe()"
   ]
  },
  {
   "cell_type": "code",
   "execution_count": 100,
   "metadata": {
    "colab": {
     "base_uri": "https://localhost:8080/"
    },
    "id": "6wsPgeFi-wCR",
    "outputId": "ff08c764-75ed-4d0b-a525-6aa4a08494ab"
   },
   "outputs": [
    {
     "data": {
      "text/plain": [
       "array(['Рафаил', 'Иван', 'Евгений', 'Белла', 'Татьяна', 'Афанасий',\n",
       "       'Леонид', 'Юна', 'Рустэм', 'Василиса', 'Эдуард', 'Веселина',\n",
       "       'Варлам', 'Борис', 'Яков', 'Рузана', 'Марица', 'Мария', 'Матвей',\n",
       "       'Игнатий', 'Тала', 'Святослав', 'Людмила', 'Иулиан', 'Владислав',\n",
       "       'Рустем', 'Алексей', 'Мариетта', 'Лаврентий', 'Инна', 'Лия',\n",
       "       'Розалия', 'Анжелика', 'Изольда', 'Агнесса', 'Юрий', 'Михаил',\n",
       "       'Константин', 'Марианна', 'Иннокентий', 'Джемма', 'Екатерина',\n",
       "       'Милица', 'Лола', 'Габриель', 'Кристина', 'Павел', 'Ренальд',\n",
       "       'Луиза', 'Радислав', 'Динара', 'Лукий', 'Глеб', 'Тамара',\n",
       "       'Александр', 'Таира', 'Роза', 'Исак', 'Юзефа', 'Ким', 'Гордей',\n",
       "       'Эльза', 'Гектор', 'Андрей', 'Рафаэль', 'Фёдор', 'Харитон',\n",
       "       'Еремей', 'Всеволод', 'Софья', 'Авксентий', 'Виолетта', 'Ириней',\n",
       "       'Гелена', 'Ксения', 'Вера', 'Вениамин', 'Вероника', 'Даниэла',\n",
       "       'Алла', 'Элеонора', 'Аюна', 'Руслан', 'Онисим', 'Марта', 'Эльвира',\n",
       "       'Габриэль', 'Исаак', 'Милана', 'Арнольд', 'Маргарита', 'Рашид',\n",
       "       'Альберта', 'Дана', 'Олег', 'Альбин', 'Сабина', 'Яна', 'Анвар',\n",
       "       'Инара', 'Нина', 'Надежда', 'Марьяна', 'Милена', 'Пётр', 'Леся',\n",
       "       'Светлана', 'Клариса', 'Симона', 'Арсен', 'Ефим', 'Юлий',\n",
       "       'Владимир', 'Евдокия', 'Алиса', 'Майя', 'Лариса', 'Марина',\n",
       "       'Валерий', 'Виктория', 'Игорь', 'Эльга', 'Лев', 'Геральд',\n",
       "       'Клавдия', 'Лилия', 'Георгина', 'Вадим', 'Каролина', 'Алан',\n",
       "       'Агафья', 'Лолита', 'Радим', 'Наталья', 'Рем', 'Снежана',\n",
       "       'Мануэла', 'Рэм', 'Виталий', 'Рауль', 'Степан', 'Егор', 'Демьян',\n",
       "       'Агата', 'Геннадий', 'Адам', 'Мирослава', 'Елена', 'Ева',\n",
       "       'Евфросинья', 'Арина', 'Гайдар', 'Артемий', 'Рустам', 'Ермолай',\n",
       "       'Кузьма', 'Рубен', 'Ахмет', 'Раиса', 'Денис', 'Нелли', 'Касьян',\n",
       "       'Сара', 'Роксана', 'Леон', 'Алина', 'Даниил', 'Зинаида', 'Артём',\n",
       "       'Анатолий', 'Лейла', 'Александра', 'Серафима', 'Алевтина',\n",
       "       'Эмилия', 'Мадина', 'Антонина', 'Саида', 'Трофим', 'Аким',\n",
       "       'Мальвина', 'Аурелия', 'Мстислав', 'Аксён', 'Семён', 'Валерия',\n",
       "       'Григорий', 'Таисия', 'Арсений', 'Эдита', 'Дебора', 'Олеся',\n",
       "       'Альфред', 'Тихон', 'Наида', 'Илья', 'Инесса', 'Юлия', 'Рудольф',\n",
       "       'Максим', 'Инга', 'Эсмеральда', 'Дайна', 'Джозефина', 'Тимофей',\n",
       "       'Виктор', 'Валентина', 'Анита', 'Илзе', 'Галина', 'Варвара',\n",
       "       'Анфиса', 'Доминика', 'Лаура', 'Рената', 'Оксана', 'Георгий',\n",
       "       'Лидия', 'Евгения', 'Фаддей', 'Герасим', 'Радомир', 'Ренат',\n",
       "       'Владислава', 'Роберт', 'Элина', 'Станислав', 'Элла', 'Гарри',\n",
       "       'Берта', 'Геодар', 'Эльмира', 'Клара', 'Камилла', 'Джулия',\n",
       "       'Карина', 'Нателла', 'Леонтий', 'Ростислав', 'Ангелина', 'Алёна',\n",
       "       'Ринат', 'Эллада', 'Николай', 'Руслана', 'Трифон'], dtype=object)"
      ]
     },
     "execution_count": 100,
     "metadata": {},
     "output_type": "execute_result"
    }
   ],
   "source": [
    "df_users['first_name'].unique()"
   ]
  },
  {
   "cell_type": "code",
   "execution_count": 101,
   "metadata": {
    "colab": {
     "base_uri": "https://localhost:8080/"
    },
    "id": "mkEOSYg1-qAi",
    "outputId": "4bfff756-d00d-436c-a8ac-d708d2599d46"
   },
   "outputs": [
    {
     "data": {
      "text/plain": [
       "count           500\n",
       "unique          419\n",
       "top       Андреенко\n",
       "freq              5\n",
       "Name: last_name, dtype: object"
      ]
     },
     "execution_count": 101,
     "metadata": {},
     "output_type": "execute_result"
    }
   ],
   "source": [
    "df_users['last_name'].describe()"
   ]
  },
  {
   "cell_type": "code",
   "execution_count": 102,
   "metadata": {
    "colab": {
     "base_uri": "https://localhost:8080/"
    },
    "id": "yx4K1eXn-1_o",
    "outputId": "d21108e6-95b6-4399-a284-68c23f6c1629"
   },
   "outputs": [
    {
     "data": {
      "text/plain": [
       "array(['Верещагин', 'Ежов', 'Абрамович', 'Белякова', 'Авдеенко', 'Горлов',\n",
       "       'Ермолаев', 'Березина', 'Пономарёв', 'Блинова', 'Кононов',\n",
       "       'Алёшко', 'Соловьев', 'Андреенко', 'Акинфьев', 'Алюшина',\n",
       "       'Сазонова', 'Аленникова', 'Золотов', 'Круглов', 'Костина',\n",
       "       'Тихонов', 'Трофимова', 'Мельникова', 'Антипов', 'Акинин',\n",
       "       'Бородин', 'Авдеев', 'Евсеев', 'Селезнев', 'Русанова', 'Тимофеев',\n",
       "       'Игнатьева', 'Бабушкина', 'Бондарев', 'Аракина', 'Андропова',\n",
       "       'Архипова', 'Денисова', 'Одинцов', 'Кравцов', 'Добрынин',\n",
       "       'Родионова', 'Рябов', 'Карасева', 'Александрова', 'Меркулова',\n",
       "       'Мясникова', 'Ларин', 'Аничкина', 'Сомова', 'Панов', 'Фёдоров',\n",
       "       'Платонова', 'Артемьев', 'Дьячкова', 'Глушков', 'Свиридов',\n",
       "       'Рудаков', 'Ситникова', 'Коршунов', 'Климова', 'Алфеева',\n",
       "       'Игнатова', 'Малахов', 'Абашкина', 'Демьянов', 'Кочетов',\n",
       "       'Селиванова', 'Чумаков', 'Андрейкин', 'Павловский', 'Никулин',\n",
       "       'Шарапов', 'Кольцова', 'Литвинов', 'Авроров', 'Игнатьев',\n",
       "       'Терехова', 'Малышев', 'Галкин', 'Спиридонова', 'Дорофеева',\n",
       "       'Аксёнов', 'Абалакова', 'Нечаева', 'Астафьева', 'Суслова',\n",
       "       'Амельченко', 'Лапина', 'Пугачева', 'Кабанова', 'Кулешова',\n",
       "       'Озерова', 'Сергеева', 'Красильников', 'Колобов', 'Королькова',\n",
       "       'Лобанова', 'Поляков', 'Рыбакова', 'Костин', 'Воронин', 'Болдырев',\n",
       "       'Андрющенко', 'Александрович', 'Макарова', 'Казанцев', 'Булгаков',\n",
       "       'Колесова', 'Толкачев', 'Шевцова', 'Латышева', 'Сухарев',\n",
       "       'Абдулина', 'Афанасова', 'Устинов', 'Андрианов', 'Арсенкова',\n",
       "       'Ильина', 'Агаева', 'Морозов', 'Крюкова', 'Афонасьева', 'Алехина',\n",
       "       'Аникина', 'Авросимова', 'Воронина', 'Левин', 'Артёшин',\n",
       "       'Ерофеева', 'Корнеева', 'Ахматулин', 'Короткова', 'Алешкова',\n",
       "       'Покровский', 'Ефремов', 'Алешин', 'Никонов', 'Синицын', 'Киреева',\n",
       "       'Алексеенко', 'Муравьева', 'Молчанова', 'Щербакова', 'Одинцова',\n",
       "       'Тихомирова', 'Чернов', 'Белоусова', 'Андрейчук', 'Авдонюшкин',\n",
       "       'Голованова', 'Минаева', 'Вишневский', 'Лебедев', 'Медведев',\n",
       "       'Жданов', 'Ананьева', 'Карташова', 'Козлов', 'Иванова', 'Карасев',\n",
       "       'Григорьева', 'Розанова', 'Марков', 'Куприянов', 'Жарова',\n",
       "       'Астапенко', 'Мишин', 'Аврорин', 'Агаев', 'Тарасова', 'Родина',\n",
       "       'Абакумов', 'Овчинников', 'Соколов', 'Зубкова', 'Абоимов',\n",
       "       'Акиндинов', 'Мальцев', 'Безруков', 'Наумов', 'Петухова',\n",
       "       'Чернышев', 'Черняев', 'Швецов', 'Демьянова', 'Ларионова',\n",
       "       'Веселов', 'Адаменко', 'Григорьев', 'Лазарева', 'Семина',\n",
       "       'Шарапова', 'Зеленина', 'Сахарова', 'Сорокин', 'Серебрякова',\n",
       "       'Азимова', 'Пономарев', 'Муравьёв', 'Алиев', 'Малинин', 'Сазонов',\n",
       "       'Мамонтова', 'Некрасов', 'Астапов', 'Сафонова', 'Панфилов',\n",
       "       'Тарасов', 'Горбачева', 'Бобылёв', 'Калинина', 'Алфимов',\n",
       "       'Капустин', 'Авдюков', 'Ларина', 'Алфимова', 'Алексеева', 'Басова',\n",
       "       'Демидов', 'Кошелева', 'Ёрохов', 'Шарова', 'Федосеев', 'Леонтьев',\n",
       "       'Макеев', 'Коновалова', 'Минаев', 'Авдушева', 'Ракова', 'Тетерина',\n",
       "       'Масленникова', 'Сухарева', 'Пономарева', 'Панфилова', 'Беляев',\n",
       "       'Третьякова', 'Горбунов', 'Пантелеева', 'Зайцев', 'Жукова',\n",
       "       'Адамов', 'Антропова', 'Седова', 'Трошин', 'Ахмадулин',\n",
       "       'Вешнякова', 'Чижова', 'Корнилов', 'Еремин', 'Елизаров', 'Крюков',\n",
       "       'Троицкий', 'Худяков', 'Зимина', 'Аракчеев', 'Крючков', 'Давыдов',\n",
       "       'Богданова', 'Анищенко', 'Дубинина', 'Асафьева', 'Черный',\n",
       "       'Абрамцев', 'Чеснокова', 'Симонова', 'Азерников', 'Авраменко',\n",
       "       'Абаимов', 'Абакшина', 'Соловьёв', 'Лаптева', 'Попов', 'Авсейкина',\n",
       "       'Корнилова', 'Касьянова', 'Нестеров', 'Крылова', 'Поликарпова',\n",
       "       'Суслов', 'Амелишко', 'Агапеева', 'Алымова', 'Зыков', 'Парфенов',\n",
       "       'Киселёв', 'Софронов', 'Сальников', 'Носкова', 'Барсуков',\n",
       "       'Севастьянова', 'Аркадьев', 'Золотова', 'Малинина', 'Антонова',\n",
       "       'Алексеичев', 'Орлов', 'Алютин', 'Кузнецов', 'Казакова',\n",
       "       'Верещагина', 'Ёркина', 'Антропов', 'Фокина', 'Громова',\n",
       "       'Курочкин', 'Козырева', 'Румянцева', 'Кулагина', 'Абрикосова',\n",
       "       'Гончаров', 'Ермилов', 'Логинов', 'Абашкин', 'Болдырева',\n",
       "       'Вишняков', 'Фетисова', 'Антоненко', 'Гришина', 'Сысоев',\n",
       "       'Трофимов', 'Авраамова', 'Афанасенко', 'Акимычева', 'Акимов',\n",
       "       'Семин', 'Бычкова', 'Кочергина', 'Нестерова', 'Родионов', 'Зуев',\n",
       "       'Беляева', 'Беликова', 'Зубков', 'Кондратов', 'Савельева',\n",
       "       'Чистякова', 'Ахмедов', 'Абрашина', 'Артёмов', 'Васильева',\n",
       "       'Измайлова', 'Амелин', 'Уваров', 'Белова', 'Семёнов', 'Пирогова',\n",
       "       'Кукушкин', 'Ильин', 'Прокофьева', 'Афонин', 'Фролов', 'Лукин',\n",
       "       'Ёлчина', 'Макаров', 'Ахматов', 'Яшина', 'Корольков', 'Устинова',\n",
       "       'Силин', 'Ёрохова', 'Фомин', 'Азаров', 'Добрынина', 'Тимофеева',\n",
       "       'Кочетков', 'Алёшкова', 'Субботина', 'Ерофеев', 'Селезнева',\n",
       "       'Бородина', 'Афонина', 'Матвеев', 'Белозёров', 'Ковалева',\n",
       "       'Афинин', 'Иванов', 'Артемчук', 'Алешина', 'Дроздов', 'Новикова',\n",
       "       'Козлова', 'Завьялова', 'Абалдуева', 'Акуленко', 'Авринский',\n",
       "       'Авчинникова', 'Абрамычева', 'Авросинова', 'Ёркин', 'Шевцов',\n",
       "       'Александрюк', 'Авдышев', 'Абалкин', 'Лосева', 'Гаврилова',\n",
       "       'Боброва', 'Любимов', 'Фадеева', 'Семенова', 'Серов',\n",
       "       'Константинова', 'Богданов', 'Емельянова', 'Блохина', 'Борисова',\n",
       "       'Сухова', 'Моргунов', 'Кириллов', 'Филатов', 'Алесин', 'Артёменко',\n",
       "       'Ахматулина', 'Андропов', 'Фокин', 'Блохин', 'Агеева', 'Акимчин'],\n",
       "      dtype=object)"
      ]
     },
     "execution_count": 102,
     "metadata": {},
     "output_type": "execute_result"
    }
   ],
   "source": [
    "df_users['last_name'].unique()"
   ]
  },
  {
   "cell_type": "markdown",
   "metadata": {
    "id": "GaFL62CF-9b6"
   },
   "source": [
    "Пропусков нет, аномалий нет.\n",
    "\n",
    "**tariff**"
   ]
  },
  {
   "cell_type": "code",
   "execution_count": 103,
   "metadata": {
    "colab": {
     "base_uri": "https://localhost:8080/"
    },
    "id": "U9NzZZG__GC7",
    "outputId": "84a617a0-a3f2-4cfb-bc2d-542d8059e67d"
   },
   "outputs": [
    {
     "data": {
      "text/plain": [
       "count       500\n",
       "unique        2\n",
       "top       smart\n",
       "freq        351\n",
       "Name: tariff, dtype: object"
      ]
     },
     "execution_count": 103,
     "metadata": {},
     "output_type": "execute_result"
    }
   ],
   "source": [
    "df_users['tariff'].describe()"
   ]
  },
  {
   "cell_type": "code",
   "execution_count": 104,
   "metadata": {
    "colab": {
     "base_uri": "https://localhost:8080/"
    },
    "id": "B0P0jbsV_Weo",
    "outputId": "9947de5d-12f4-4def-fa98-347bffd9fe18"
   },
   "outputs": [
    {
     "data": {
      "text/plain": [
       "array(['ultra', 'smart'], dtype=object)"
      ]
     },
     "execution_count": 104,
     "metadata": {},
     "output_type": "execute_result"
    }
   ],
   "source": [
    "df_users['tariff'].unique()"
   ]
  },
  {
   "cell_type": "markdown",
   "metadata": {
    "id": "MMl_8U6I_Zof"
   },
   "source": [
    "Пропусков нет, аномалий нет.\n",
    "\n",
    "**reg_date**"
   ]
  },
  {
   "cell_type": "code",
   "execution_count": 105,
   "metadata": {
    "colab": {
     "base_uri": "https://localhost:8080/",
     "height": 104
    },
    "id": "SmRMT6De_hWP",
    "outputId": "41e57744-35d5-422c-94d3-03c340681069"
   },
   "outputs": [
    {
     "data": {
      "text/plain": [
       "count            500\n",
       "unique           270\n",
       "top       2018-05-28\n",
       "freq               8\n",
       "Name: reg_date, dtype: object"
      ]
     },
     "metadata": {},
     "output_type": "display_data"
    }
   ],
   "source": [
    "display(df_users['reg_date'].describe())"
   ]
  },
  {
   "cell_type": "markdown",
   "metadata": {
    "id": "ZbBYg2cW_t0F"
   },
   "source": [
    "Изменим тип данных:"
   ]
  },
  {
   "cell_type": "code",
   "execution_count": 106,
   "metadata": {
    "colab": {
     "base_uri": "https://localhost:8080/"
    },
    "id": "4jeV3o3q_z9F",
    "outputId": "607a8143-090e-4cbd-f43b-569a2d10e753"
   },
   "outputs": [
    {
     "name": "stdout",
     "output_type": "stream",
     "text": [
      "<class 'pandas.core.frame.DataFrame'>\n",
      "RangeIndex: 500 entries, 0 to 499\n",
      "Data columns (total 8 columns):\n",
      " #   Column      Non-Null Count  Dtype         \n",
      "---  ------      --------------  -----         \n",
      " 0   user_id     500 non-null    int64         \n",
      " 1   age         500 non-null    int64         \n",
      " 2   churn_date  38 non-null     object        \n",
      " 3   city        500 non-null    object        \n",
      " 4   first_name  500 non-null    object        \n",
      " 5   last_name   500 non-null    object        \n",
      " 6   reg_date    500 non-null    datetime64[ns]\n",
      " 7   tariff      500 non-null    object        \n",
      "dtypes: datetime64[ns](1), int64(2), object(5)\n",
      "memory usage: 31.4+ KB\n"
     ]
    }
   ],
   "source": [
    "df_users['reg_date'] = pd.to_datetime(df_users['reg_date'], format='%Y-%m-%dT')\n",
    "df_users.info()"
   ]
  },
  {
   "cell_type": "markdown",
   "metadata": {
    "id": "B0TWo4DjAFeL"
   },
   "source": [
    "Пропусков нет, аномалий нет. \n",
    "\n",
    "**churn_date**"
   ]
  },
  {
   "cell_type": "code",
   "execution_count": 107,
   "metadata": {
    "colab": {
     "base_uri": "https://localhost:8080/",
     "height": 104
    },
    "id": "F6ahbvlVANoN",
    "outputId": "080bc2d4-984a-4440-9f66-23ee0786973a"
   },
   "outputs": [
    {
     "data": {
      "text/plain": [
       "count             38\n",
       "unique            33\n",
       "top       2018-12-03\n",
       "freq               2\n",
       "Name: churn_date, dtype: object"
      ]
     },
     "metadata": {},
     "output_type": "display_data"
    }
   ],
   "source": [
    "display(df_users['churn_date'].describe())"
   ]
  },
  {
   "cell_type": "markdown",
   "metadata": {
    "id": "yr_-oagbAiG1"
   },
   "source": [
    "Здесь пропущено бОльшая часть данных.\n",
    "Этот столбец по сути означает дату прекращения пользования тарифом. Если она пропущена, то значит на момент среза он ещё дейстовал. При этом не понятно, насколько будет критично заполнить пропуски. Оставим пока что незаполненными.\n",
    "\n",
    "Тип данных здесь нужно изменить, попробуем."
   ]
  },
  {
   "cell_type": "code",
   "execution_count": 108,
   "metadata": {
    "colab": {
     "base_uri": "https://localhost:8080/"
    },
    "id": "XJzob8jFBDlc",
    "outputId": "e8413c22-ace1-4e21-f5cb-418d764fdefe"
   },
   "outputs": [
    {
     "name": "stdout",
     "output_type": "stream",
     "text": [
      "<class 'pandas.core.frame.DataFrame'>\n",
      "RangeIndex: 500 entries, 0 to 499\n",
      "Data columns (total 8 columns):\n",
      " #   Column      Non-Null Count  Dtype         \n",
      "---  ------      --------------  -----         \n",
      " 0   user_id     500 non-null    int64         \n",
      " 1   age         500 non-null    int64         \n",
      " 2   churn_date  38 non-null     datetime64[ns]\n",
      " 3   city        500 non-null    object        \n",
      " 4   first_name  500 non-null    object        \n",
      " 5   last_name   500 non-null    object        \n",
      " 6   reg_date    500 non-null    datetime64[ns]\n",
      " 7   tariff      500 non-null    object        \n",
      "dtypes: datetime64[ns](2), int64(2), object(4)\n",
      "memory usage: 31.4+ KB\n"
     ]
    }
   ],
   "source": [
    "df_users['churn_date'] = pd.to_datetime(df_users['churn_date'], format='%Y-%m-%dT')\n",
    "df_users.info()"
   ]
  },
  {
   "cell_type": "markdown",
   "metadata": {},
   "source": [
    "Проверим, есть ли дубли в таблице с пользователями:"
   ]
  },
  {
   "cell_type": "code",
   "execution_count": 109,
   "metadata": {},
   "outputs": [
    {
     "data": {
      "text/plain": [
       "False    500\n",
       "dtype: int64"
      ]
     },
     "execution_count": 109,
     "metadata": {},
     "output_type": "execute_result"
    }
   ],
   "source": [
    "df_users.duplicated().value_counts()"
   ]
  },
  {
   "cell_type": "markdown",
   "metadata": {},
   "source": [
    "Дублей нет, ок. Можно двигаться дальше."
   ]
  },
  {
   "cell_type": "markdown",
   "metadata": {
    "id": "4qoltLMmp_p6"
   },
   "source": [
    "### Предварительный анализ данных.\n",
    "\n",
    "Посчитаем для каждого пользователя:\n",
    "* количество сделанных звонков и израсходованных минут разговора по месяцам;\n",
    "* количество отправленных сообщений по месяцам;\n",
    "* объем израсходованного интернет-трафика по месяцам;\n",
    "* помесячную выручку с каждого пользователя (вычтите бесплатный лимит из суммарного количества звонков, сообщений и интернет-трафика; остаток умножьте на значение из тарифного плана; прибавьте абонентскую плату, соответствующую тарифному плану)."
   ]
  },
  {
   "cell_type": "markdown",
   "metadata": {
    "id": "uIfhqmjOVVEF"
   },
   "source": [
    "#### Количество сделанных звонков и израсходованных минут разговора по месяцам.\n",
    "\n",
    "Будем это считать по таблице `df_calls`."
   ]
  },
  {
   "cell_type": "code",
   "execution_count": 110,
   "metadata": {
    "colab": {
     "base_uri": "https://localhost:8080/"
    },
    "id": "vCd8fwVJDT2F",
    "outputId": "61192d84-c957-435d-d653-47e232da1560"
   },
   "outputs": [
    {
     "name": "stdout",
     "output_type": "stream",
     "text": [
      "<class 'pandas.core.frame.DataFrame'>\n",
      "RangeIndex: 202607 entries, 0 to 202606\n",
      "Data columns (total 5 columns):\n",
      " #   Column        Non-Null Count   Dtype         \n",
      "---  ------        --------------   -----         \n",
      " 0   id            202607 non-null  object        \n",
      " 1   call_date     202607 non-null  datetime64[ns]\n",
      " 2   duration      202607 non-null  float64       \n",
      " 3   user_id       202607 non-null  int64         \n",
      " 4   duration_min  202607 non-null  float64       \n",
      "dtypes: datetime64[ns](1), float64(2), int64(1), object(1)\n",
      "memory usage: 7.7+ MB\n"
     ]
    }
   ],
   "source": [
    "df_calls.info()"
   ]
  },
  {
   "cell_type": "markdown",
   "metadata": {
    "id": "fJPKYRmtDxQG"
   },
   "source": [
    "Добавим сюда отдельный столбец, в котором был бы указан месяц пользования. "
   ]
  },
  {
   "cell_type": "code",
   "execution_count": 111,
   "metadata": {
    "colab": {
     "base_uri": "https://localhost:8080/",
     "height": 424
    },
    "id": "jv51s3KHD95q",
    "outputId": "2d646c09-00bf-45e3-d0a3-86d84bc6a8de"
   },
   "outputs": [
    {
     "data": {
      "text/html": [
       "<div>\n",
       "<style scoped>\n",
       "    .dataframe tbody tr th:only-of-type {\n",
       "        vertical-align: middle;\n",
       "    }\n",
       "\n",
       "    .dataframe tbody tr th {\n",
       "        vertical-align: top;\n",
       "    }\n",
       "\n",
       "    .dataframe thead th {\n",
       "        text-align: right;\n",
       "    }\n",
       "</style>\n",
       "<table border=\"1\" class=\"dataframe\">\n",
       "  <thead>\n",
       "    <tr style=\"text-align: right;\">\n",
       "      <th></th>\n",
       "      <th>id</th>\n",
       "      <th>call_date</th>\n",
       "      <th>duration</th>\n",
       "      <th>user_id</th>\n",
       "      <th>duration_min</th>\n",
       "      <th>month</th>\n",
       "    </tr>\n",
       "  </thead>\n",
       "  <tbody>\n",
       "    <tr>\n",
       "      <th>0</th>\n",
       "      <td>1000_0</td>\n",
       "      <td>2018-07-25</td>\n",
       "      <td>0.00</td>\n",
       "      <td>1000</td>\n",
       "      <td>0.0</td>\n",
       "      <td>7</td>\n",
       "    </tr>\n",
       "    <tr>\n",
       "      <th>1</th>\n",
       "      <td>1000_1</td>\n",
       "      <td>2018-08-17</td>\n",
       "      <td>0.00</td>\n",
       "      <td>1000</td>\n",
       "      <td>0.0</td>\n",
       "      <td>8</td>\n",
       "    </tr>\n",
       "    <tr>\n",
       "      <th>2</th>\n",
       "      <td>1000_2</td>\n",
       "      <td>2018-06-11</td>\n",
       "      <td>2.85</td>\n",
       "      <td>1000</td>\n",
       "      <td>3.0</td>\n",
       "      <td>6</td>\n",
       "    </tr>\n",
       "    <tr>\n",
       "      <th>3</th>\n",
       "      <td>1000_3</td>\n",
       "      <td>2018-09-21</td>\n",
       "      <td>13.80</td>\n",
       "      <td>1000</td>\n",
       "      <td>14.0</td>\n",
       "      <td>9</td>\n",
       "    </tr>\n",
       "    <tr>\n",
       "      <th>4</th>\n",
       "      <td>1000_4</td>\n",
       "      <td>2018-12-15</td>\n",
       "      <td>5.18</td>\n",
       "      <td>1000</td>\n",
       "      <td>6.0</td>\n",
       "      <td>12</td>\n",
       "    </tr>\n",
       "    <tr>\n",
       "      <th>...</th>\n",
       "      <td>...</td>\n",
       "      <td>...</td>\n",
       "      <td>...</td>\n",
       "      <td>...</td>\n",
       "      <td>...</td>\n",
       "      <td>...</td>\n",
       "    </tr>\n",
       "    <tr>\n",
       "      <th>202602</th>\n",
       "      <td>1499_215</td>\n",
       "      <td>2018-12-26</td>\n",
       "      <td>0.76</td>\n",
       "      <td>1499</td>\n",
       "      <td>1.0</td>\n",
       "      <td>12</td>\n",
       "    </tr>\n",
       "    <tr>\n",
       "      <th>202603</th>\n",
       "      <td>1499_216</td>\n",
       "      <td>2018-10-18</td>\n",
       "      <td>18.83</td>\n",
       "      <td>1499</td>\n",
       "      <td>19.0</td>\n",
       "      <td>10</td>\n",
       "    </tr>\n",
       "    <tr>\n",
       "      <th>202604</th>\n",
       "      <td>1499_217</td>\n",
       "      <td>2018-11-10</td>\n",
       "      <td>10.81</td>\n",
       "      <td>1499</td>\n",
       "      <td>11.0</td>\n",
       "      <td>11</td>\n",
       "    </tr>\n",
       "    <tr>\n",
       "      <th>202605</th>\n",
       "      <td>1499_218</td>\n",
       "      <td>2018-10-06</td>\n",
       "      <td>4.27</td>\n",
       "      <td>1499</td>\n",
       "      <td>5.0</td>\n",
       "      <td>10</td>\n",
       "    </tr>\n",
       "    <tr>\n",
       "      <th>202606</th>\n",
       "      <td>1499_219</td>\n",
       "      <td>2018-12-14</td>\n",
       "      <td>19.62</td>\n",
       "      <td>1499</td>\n",
       "      <td>20.0</td>\n",
       "      <td>12</td>\n",
       "    </tr>\n",
       "  </tbody>\n",
       "</table>\n",
       "<p>202607 rows × 6 columns</p>\n",
       "</div>"
      ],
      "text/plain": [
       "              id  call_date  duration  user_id  duration_min  month\n",
       "0         1000_0 2018-07-25      0.00     1000           0.0      7\n",
       "1         1000_1 2018-08-17      0.00     1000           0.0      8\n",
       "2         1000_2 2018-06-11      2.85     1000           3.0      6\n",
       "3         1000_3 2018-09-21     13.80     1000          14.0      9\n",
       "4         1000_4 2018-12-15      5.18     1000           6.0     12\n",
       "...          ...        ...       ...      ...           ...    ...\n",
       "202602  1499_215 2018-12-26      0.76     1499           1.0     12\n",
       "202603  1499_216 2018-10-18     18.83     1499          19.0     10\n",
       "202604  1499_217 2018-11-10     10.81     1499          11.0     11\n",
       "202605  1499_218 2018-10-06      4.27     1499           5.0     10\n",
       "202606  1499_219 2018-12-14     19.62     1499          20.0     12\n",
       "\n",
       "[202607 rows x 6 columns]"
      ]
     },
     "execution_count": 111,
     "metadata": {},
     "output_type": "execute_result"
    }
   ],
   "source": [
    "df_calls['month'] = df_calls['call_date'].dt.month\n",
    "df_calls"
   ]
  },
  {
   "cell_type": "markdown",
   "metadata": {
    "id": "HQtvmqrVFqbM"
   },
   "source": [
    "Посчитаем количество звонков и израсходованных минут по месяцам:"
   ]
  },
  {
   "cell_type": "code",
   "execution_count": 112,
   "metadata": {
    "colab": {
     "base_uri": "https://localhost:8080/",
     "height": 486
    },
    "id": "xetmuUm3GuUi",
    "outputId": "24fb480e-8572-4847-b65e-25c2b2f64725"
   },
   "outputs": [
    {
     "data": {
      "text/html": [
       "<div>\n",
       "<style scoped>\n",
       "    .dataframe tbody tr th:only-of-type {\n",
       "        vertical-align: middle;\n",
       "    }\n",
       "\n",
       "    .dataframe tbody tr th {\n",
       "        vertical-align: top;\n",
       "    }\n",
       "\n",
       "    .dataframe thead tr th {\n",
       "        text-align: left;\n",
       "    }\n",
       "\n",
       "    .dataframe thead tr:last-of-type th {\n",
       "        text-align: right;\n",
       "    }\n",
       "</style>\n",
       "<table border=\"1\" class=\"dataframe\">\n",
       "  <thead>\n",
       "    <tr>\n",
       "      <th></th>\n",
       "      <th></th>\n",
       "      <th>count</th>\n",
       "      <th>sum</th>\n",
       "    </tr>\n",
       "    <tr>\n",
       "      <th></th>\n",
       "      <th></th>\n",
       "      <th>duration_min</th>\n",
       "      <th>duration_min</th>\n",
       "    </tr>\n",
       "    <tr>\n",
       "      <th>user_id</th>\n",
       "      <th>month</th>\n",
       "      <th></th>\n",
       "      <th></th>\n",
       "    </tr>\n",
       "  </thead>\n",
       "  <tbody>\n",
       "    <tr>\n",
       "      <th rowspan=\"5\" valign=\"top\">1000</th>\n",
       "      <th>5</th>\n",
       "      <td>22</td>\n",
       "      <td>159.0</td>\n",
       "    </tr>\n",
       "    <tr>\n",
       "      <th>6</th>\n",
       "      <td>43</td>\n",
       "      <td>172.0</td>\n",
       "    </tr>\n",
       "    <tr>\n",
       "      <th>7</th>\n",
       "      <td>47</td>\n",
       "      <td>340.0</td>\n",
       "    </tr>\n",
       "    <tr>\n",
       "      <th>8</th>\n",
       "      <td>52</td>\n",
       "      <td>408.0</td>\n",
       "    </tr>\n",
       "    <tr>\n",
       "      <th>9</th>\n",
       "      <td>58</td>\n",
       "      <td>466.0</td>\n",
       "    </tr>\n",
       "    <tr>\n",
       "      <th>...</th>\n",
       "      <th>...</th>\n",
       "      <td>...</td>\n",
       "      <td>...</td>\n",
       "    </tr>\n",
       "    <tr>\n",
       "      <th>1498</th>\n",
       "      <th>10</th>\n",
       "      <td>41</td>\n",
       "      <td>247.0</td>\n",
       "    </tr>\n",
       "    <tr>\n",
       "      <th rowspan=\"4\" valign=\"top\">1499</th>\n",
       "      <th>9</th>\n",
       "      <td>9</td>\n",
       "      <td>70.0</td>\n",
       "    </tr>\n",
       "    <tr>\n",
       "      <th>10</th>\n",
       "      <td>68</td>\n",
       "      <td>449.0</td>\n",
       "    </tr>\n",
       "    <tr>\n",
       "      <th>11</th>\n",
       "      <td>74</td>\n",
       "      <td>612.0</td>\n",
       "    </tr>\n",
       "    <tr>\n",
       "      <th>12</th>\n",
       "      <td>69</td>\n",
       "      <td>492.0</td>\n",
       "    </tr>\n",
       "  </tbody>\n",
       "</table>\n",
       "<p>3174 rows × 2 columns</p>\n",
       "</div>"
      ],
      "text/plain": [
       "                     count          sum\n",
       "              duration_min duration_min\n",
       "user_id month                          \n",
       "1000    5               22        159.0\n",
       "        6               43        172.0\n",
       "        7               47        340.0\n",
       "        8               52        408.0\n",
       "        9               58        466.0\n",
       "...                    ...          ...\n",
       "1498    10              41        247.0\n",
       "1499    9                9         70.0\n",
       "        10              68        449.0\n",
       "        11              74        612.0\n",
       "        12              69        492.0\n",
       "\n",
       "[3174 rows x 2 columns]"
      ]
     },
     "execution_count": 112,
     "metadata": {},
     "output_type": "execute_result"
    }
   ],
   "source": [
    "df_calls_ = df_calls.pivot_table(index = ['user_id', 'month'], values = 'duration_min', aggfunc = ['count', 'sum'])\n",
    "df_calls_"
   ]
  },
  {
   "cell_type": "markdown",
   "metadata": {
    "id": "bMUIKKxrQFMT"
   },
   "source": [
    "... и поменяем названия столбцов:"
   ]
  },
  {
   "cell_type": "code",
   "execution_count": 113,
   "metadata": {
    "colab": {
     "base_uri": "https://localhost:8080/",
     "height": 455
    },
    "id": "PwwcNXsZOWKV",
    "outputId": "b2d297bf-3384-47c5-f8d9-ba14338fc151"
   },
   "outputs": [
    {
     "data": {
      "text/html": [
       "<div>\n",
       "<style scoped>\n",
       "    .dataframe tbody tr th:only-of-type {\n",
       "        vertical-align: middle;\n",
       "    }\n",
       "\n",
       "    .dataframe tbody tr th {\n",
       "        vertical-align: top;\n",
       "    }\n",
       "\n",
       "    .dataframe thead th {\n",
       "        text-align: right;\n",
       "    }\n",
       "</style>\n",
       "<table border=\"1\" class=\"dataframe\">\n",
       "  <thead>\n",
       "    <tr style=\"text-align: right;\">\n",
       "      <th></th>\n",
       "      <th></th>\n",
       "      <th>calls_number</th>\n",
       "      <th>calls_duration</th>\n",
       "    </tr>\n",
       "    <tr>\n",
       "      <th>user_id</th>\n",
       "      <th>month</th>\n",
       "      <th></th>\n",
       "      <th></th>\n",
       "    </tr>\n",
       "  </thead>\n",
       "  <tbody>\n",
       "    <tr>\n",
       "      <th rowspan=\"5\" valign=\"top\">1000</th>\n",
       "      <th>5</th>\n",
       "      <td>22</td>\n",
       "      <td>159.0</td>\n",
       "    </tr>\n",
       "    <tr>\n",
       "      <th>6</th>\n",
       "      <td>43</td>\n",
       "      <td>172.0</td>\n",
       "    </tr>\n",
       "    <tr>\n",
       "      <th>7</th>\n",
       "      <td>47</td>\n",
       "      <td>340.0</td>\n",
       "    </tr>\n",
       "    <tr>\n",
       "      <th>8</th>\n",
       "      <td>52</td>\n",
       "      <td>408.0</td>\n",
       "    </tr>\n",
       "    <tr>\n",
       "      <th>9</th>\n",
       "      <td>58</td>\n",
       "      <td>466.0</td>\n",
       "    </tr>\n",
       "    <tr>\n",
       "      <th>...</th>\n",
       "      <th>...</th>\n",
       "      <td>...</td>\n",
       "      <td>...</td>\n",
       "    </tr>\n",
       "    <tr>\n",
       "      <th>1498</th>\n",
       "      <th>10</th>\n",
       "      <td>41</td>\n",
       "      <td>247.0</td>\n",
       "    </tr>\n",
       "    <tr>\n",
       "      <th rowspan=\"4\" valign=\"top\">1499</th>\n",
       "      <th>9</th>\n",
       "      <td>9</td>\n",
       "      <td>70.0</td>\n",
       "    </tr>\n",
       "    <tr>\n",
       "      <th>10</th>\n",
       "      <td>68</td>\n",
       "      <td>449.0</td>\n",
       "    </tr>\n",
       "    <tr>\n",
       "      <th>11</th>\n",
       "      <td>74</td>\n",
       "      <td>612.0</td>\n",
       "    </tr>\n",
       "    <tr>\n",
       "      <th>12</th>\n",
       "      <td>69</td>\n",
       "      <td>492.0</td>\n",
       "    </tr>\n",
       "  </tbody>\n",
       "</table>\n",
       "<p>3174 rows × 2 columns</p>\n",
       "</div>"
      ],
      "text/plain": [
       "               calls_number  calls_duration\n",
       "user_id month                              \n",
       "1000    5                22           159.0\n",
       "        6                43           172.0\n",
       "        7                47           340.0\n",
       "        8                52           408.0\n",
       "        9                58           466.0\n",
       "...                     ...             ...\n",
       "1498    10               41           247.0\n",
       "1499    9                 9            70.0\n",
       "        10               68           449.0\n",
       "        11               74           612.0\n",
       "        12               69           492.0\n",
       "\n",
       "[3174 rows x 2 columns]"
      ]
     },
     "execution_count": 113,
     "metadata": {},
     "output_type": "execute_result"
    }
   ],
   "source": [
    "df_calls_.columns = ['calls_number', 'calls_duration']\n",
    "df_calls_"
   ]
  },
  {
   "cell_type": "markdown",
   "metadata": {
    "id": "SjIK0KUvQkxy"
   },
   "source": [
    "#### Количество отправленных сообщений по месяцам.\n",
    "\n",
    "Будем это считать по таблице `df_messages`."
   ]
  },
  {
   "cell_type": "code",
   "execution_count": 114,
   "metadata": {
    "colab": {
     "base_uri": "https://localhost:8080/"
    },
    "id": "ke00ihV0Qza2",
    "outputId": "6b174d03-f4e0-43d0-868d-154a47be63bc"
   },
   "outputs": [
    {
     "name": "stdout",
     "output_type": "stream",
     "text": [
      "<class 'pandas.core.frame.DataFrame'>\n",
      "RangeIndex: 123036 entries, 0 to 123035\n",
      "Data columns (total 3 columns):\n",
      " #   Column        Non-Null Count   Dtype         \n",
      "---  ------        --------------   -----         \n",
      " 0   id            123036 non-null  object        \n",
      " 1   message_date  123036 non-null  datetime64[ns]\n",
      " 2   user_id       123036 non-null  int64         \n",
      "dtypes: datetime64[ns](1), int64(1), object(1)\n",
      "memory usage: 2.8+ MB\n"
     ]
    }
   ],
   "source": [
    "df_messages.info()"
   ]
  },
  {
   "cell_type": "code",
   "execution_count": 115,
   "metadata": {
    "colab": {
     "base_uri": "https://localhost:8080/",
     "height": 424
    },
    "id": "R3xgwdvhQ8Yq",
    "outputId": "7055455e-640a-4b77-e4a1-0280f1f428c7"
   },
   "outputs": [
    {
     "data": {
      "text/html": [
       "<div>\n",
       "<style scoped>\n",
       "    .dataframe tbody tr th:only-of-type {\n",
       "        vertical-align: middle;\n",
       "    }\n",
       "\n",
       "    .dataframe tbody tr th {\n",
       "        vertical-align: top;\n",
       "    }\n",
       "\n",
       "    .dataframe thead th {\n",
       "        text-align: right;\n",
       "    }\n",
       "</style>\n",
       "<table border=\"1\" class=\"dataframe\">\n",
       "  <thead>\n",
       "    <tr style=\"text-align: right;\">\n",
       "      <th></th>\n",
       "      <th>id</th>\n",
       "      <th>message_date</th>\n",
       "      <th>user_id</th>\n",
       "      <th>month</th>\n",
       "    </tr>\n",
       "  </thead>\n",
       "  <tbody>\n",
       "    <tr>\n",
       "      <th>0</th>\n",
       "      <td>1000_0</td>\n",
       "      <td>2018-06-27</td>\n",
       "      <td>1000</td>\n",
       "      <td>6</td>\n",
       "    </tr>\n",
       "    <tr>\n",
       "      <th>1</th>\n",
       "      <td>1000_1</td>\n",
       "      <td>2018-10-08</td>\n",
       "      <td>1000</td>\n",
       "      <td>10</td>\n",
       "    </tr>\n",
       "    <tr>\n",
       "      <th>2</th>\n",
       "      <td>1000_2</td>\n",
       "      <td>2018-08-04</td>\n",
       "      <td>1000</td>\n",
       "      <td>8</td>\n",
       "    </tr>\n",
       "    <tr>\n",
       "      <th>3</th>\n",
       "      <td>1000_3</td>\n",
       "      <td>2018-06-16</td>\n",
       "      <td>1000</td>\n",
       "      <td>6</td>\n",
       "    </tr>\n",
       "    <tr>\n",
       "      <th>4</th>\n",
       "      <td>1000_4</td>\n",
       "      <td>2018-12-05</td>\n",
       "      <td>1000</td>\n",
       "      <td>12</td>\n",
       "    </tr>\n",
       "    <tr>\n",
       "      <th>...</th>\n",
       "      <td>...</td>\n",
       "      <td>...</td>\n",
       "      <td>...</td>\n",
       "      <td>...</td>\n",
       "    </tr>\n",
       "    <tr>\n",
       "      <th>123031</th>\n",
       "      <td>1499_179</td>\n",
       "      <td>2018-12-12</td>\n",
       "      <td>1499</td>\n",
       "      <td>12</td>\n",
       "    </tr>\n",
       "    <tr>\n",
       "      <th>123032</th>\n",
       "      <td>1499_180</td>\n",
       "      <td>2018-09-28</td>\n",
       "      <td>1499</td>\n",
       "      <td>9</td>\n",
       "    </tr>\n",
       "    <tr>\n",
       "      <th>123033</th>\n",
       "      <td>1499_181</td>\n",
       "      <td>2018-09-27</td>\n",
       "      <td>1499</td>\n",
       "      <td>9</td>\n",
       "    </tr>\n",
       "    <tr>\n",
       "      <th>123034</th>\n",
       "      <td>1499_182</td>\n",
       "      <td>2018-11-15</td>\n",
       "      <td>1499</td>\n",
       "      <td>11</td>\n",
       "    </tr>\n",
       "    <tr>\n",
       "      <th>123035</th>\n",
       "      <td>1499_183</td>\n",
       "      <td>2018-11-16</td>\n",
       "      <td>1499</td>\n",
       "      <td>11</td>\n",
       "    </tr>\n",
       "  </tbody>\n",
       "</table>\n",
       "<p>123036 rows × 4 columns</p>\n",
       "</div>"
      ],
      "text/plain": [
       "              id message_date  user_id  month\n",
       "0         1000_0   2018-06-27     1000      6\n",
       "1         1000_1   2018-10-08     1000     10\n",
       "2         1000_2   2018-08-04     1000      8\n",
       "3         1000_3   2018-06-16     1000      6\n",
       "4         1000_4   2018-12-05     1000     12\n",
       "...          ...          ...      ...    ...\n",
       "123031  1499_179   2018-12-12     1499     12\n",
       "123032  1499_180   2018-09-28     1499      9\n",
       "123033  1499_181   2018-09-27     1499      9\n",
       "123034  1499_182   2018-11-15     1499     11\n",
       "123035  1499_183   2018-11-16     1499     11\n",
       "\n",
       "[123036 rows x 4 columns]"
      ]
     },
     "execution_count": 115,
     "metadata": {},
     "output_type": "execute_result"
    }
   ],
   "source": [
    "df_messages['month'] = df_messages['message_date'].dt.month\n",
    "df_messages"
   ]
  },
  {
   "cell_type": "markdown",
   "metadata": {
    "id": "rJDtEKgURRAT"
   },
   "source": [
    "Посчитаем количество сообщений по месяцам:"
   ]
  },
  {
   "cell_type": "code",
   "execution_count": 116,
   "metadata": {
    "colab": {
     "base_uri": "https://localhost:8080/",
     "height": 455
    },
    "id": "4MWz01M4RXqI",
    "outputId": "8af482fd-eb35-4e7e-8bd8-703e700d0805"
   },
   "outputs": [
    {
     "data": {
      "text/html": [
       "<div>\n",
       "<style scoped>\n",
       "    .dataframe tbody tr th:only-of-type {\n",
       "        vertical-align: middle;\n",
       "    }\n",
       "\n",
       "    .dataframe tbody tr th {\n",
       "        vertical-align: top;\n",
       "    }\n",
       "\n",
       "    .dataframe thead th {\n",
       "        text-align: right;\n",
       "    }\n",
       "</style>\n",
       "<table border=\"1\" class=\"dataframe\">\n",
       "  <thead>\n",
       "    <tr style=\"text-align: right;\">\n",
       "      <th></th>\n",
       "      <th></th>\n",
       "      <th>message_date</th>\n",
       "    </tr>\n",
       "    <tr>\n",
       "      <th>user_id</th>\n",
       "      <th>month</th>\n",
       "      <th></th>\n",
       "    </tr>\n",
       "  </thead>\n",
       "  <tbody>\n",
       "    <tr>\n",
       "      <th rowspan=\"5\" valign=\"top\">1000</th>\n",
       "      <th>5</th>\n",
       "      <td>22</td>\n",
       "    </tr>\n",
       "    <tr>\n",
       "      <th>6</th>\n",
       "      <td>60</td>\n",
       "    </tr>\n",
       "    <tr>\n",
       "      <th>7</th>\n",
       "      <td>75</td>\n",
       "    </tr>\n",
       "    <tr>\n",
       "      <th>8</th>\n",
       "      <td>81</td>\n",
       "    </tr>\n",
       "    <tr>\n",
       "      <th>9</th>\n",
       "      <td>57</td>\n",
       "    </tr>\n",
       "    <tr>\n",
       "      <th>...</th>\n",
       "      <th>...</th>\n",
       "      <td>...</td>\n",
       "    </tr>\n",
       "    <tr>\n",
       "      <th>1498</th>\n",
       "      <th>10</th>\n",
       "      <td>42</td>\n",
       "    </tr>\n",
       "    <tr>\n",
       "      <th rowspan=\"4\" valign=\"top\">1499</th>\n",
       "      <th>9</th>\n",
       "      <td>11</td>\n",
       "    </tr>\n",
       "    <tr>\n",
       "      <th>10</th>\n",
       "      <td>48</td>\n",
       "    </tr>\n",
       "    <tr>\n",
       "      <th>11</th>\n",
       "      <td>59</td>\n",
       "    </tr>\n",
       "    <tr>\n",
       "      <th>12</th>\n",
       "      <td>66</td>\n",
       "    </tr>\n",
       "  </tbody>\n",
       "</table>\n",
       "<p>2717 rows × 1 columns</p>\n",
       "</div>"
      ],
      "text/plain": [
       "               message_date\n",
       "user_id month              \n",
       "1000    5                22\n",
       "        6                60\n",
       "        7                75\n",
       "        8                81\n",
       "        9                57\n",
       "...                     ...\n",
       "1498    10               42\n",
       "1499    9                11\n",
       "        10               48\n",
       "        11               59\n",
       "        12               66\n",
       "\n",
       "[2717 rows x 1 columns]"
      ]
     },
     "execution_count": 116,
     "metadata": {},
     "output_type": "execute_result"
    }
   ],
   "source": [
    "df_messages_ = df_messages.pivot_table(index = ['user_id', 'month'], values = 'message_date', aggfunc = 'count')\n",
    "df_messages_"
   ]
  },
  {
   "cell_type": "code",
   "execution_count": 117,
   "metadata": {
    "colab": {
     "base_uri": "https://localhost:8080/",
     "height": 455
    },
    "id": "ka7qa-AlRnia",
    "outputId": "6b105b92-e795-4bcf-a9fa-d371411af53b"
   },
   "outputs": [
    {
     "data": {
      "text/html": [
       "<div>\n",
       "<style scoped>\n",
       "    .dataframe tbody tr th:only-of-type {\n",
       "        vertical-align: middle;\n",
       "    }\n",
       "\n",
       "    .dataframe tbody tr th {\n",
       "        vertical-align: top;\n",
       "    }\n",
       "\n",
       "    .dataframe thead th {\n",
       "        text-align: right;\n",
       "    }\n",
       "</style>\n",
       "<table border=\"1\" class=\"dataframe\">\n",
       "  <thead>\n",
       "    <tr style=\"text-align: right;\">\n",
       "      <th></th>\n",
       "      <th></th>\n",
       "      <th>messages_count</th>\n",
       "    </tr>\n",
       "    <tr>\n",
       "      <th>user_id</th>\n",
       "      <th>month</th>\n",
       "      <th></th>\n",
       "    </tr>\n",
       "  </thead>\n",
       "  <tbody>\n",
       "    <tr>\n",
       "      <th rowspan=\"5\" valign=\"top\">1000</th>\n",
       "      <th>5</th>\n",
       "      <td>22</td>\n",
       "    </tr>\n",
       "    <tr>\n",
       "      <th>6</th>\n",
       "      <td>60</td>\n",
       "    </tr>\n",
       "    <tr>\n",
       "      <th>7</th>\n",
       "      <td>75</td>\n",
       "    </tr>\n",
       "    <tr>\n",
       "      <th>8</th>\n",
       "      <td>81</td>\n",
       "    </tr>\n",
       "    <tr>\n",
       "      <th>9</th>\n",
       "      <td>57</td>\n",
       "    </tr>\n",
       "    <tr>\n",
       "      <th>...</th>\n",
       "      <th>...</th>\n",
       "      <td>...</td>\n",
       "    </tr>\n",
       "    <tr>\n",
       "      <th>1498</th>\n",
       "      <th>10</th>\n",
       "      <td>42</td>\n",
       "    </tr>\n",
       "    <tr>\n",
       "      <th rowspan=\"4\" valign=\"top\">1499</th>\n",
       "      <th>9</th>\n",
       "      <td>11</td>\n",
       "    </tr>\n",
       "    <tr>\n",
       "      <th>10</th>\n",
       "      <td>48</td>\n",
       "    </tr>\n",
       "    <tr>\n",
       "      <th>11</th>\n",
       "      <td>59</td>\n",
       "    </tr>\n",
       "    <tr>\n",
       "      <th>12</th>\n",
       "      <td>66</td>\n",
       "    </tr>\n",
       "  </tbody>\n",
       "</table>\n",
       "<p>2717 rows × 1 columns</p>\n",
       "</div>"
      ],
      "text/plain": [
       "               messages_count\n",
       "user_id month                \n",
       "1000    5                  22\n",
       "        6                  60\n",
       "        7                  75\n",
       "        8                  81\n",
       "        9                  57\n",
       "...                       ...\n",
       "1498    10                 42\n",
       "1499    9                  11\n",
       "        10                 48\n",
       "        11                 59\n",
       "        12                 66\n",
       "\n",
       "[2717 rows x 1 columns]"
      ]
     },
     "execution_count": 117,
     "metadata": {},
     "output_type": "execute_result"
    }
   ],
   "source": [
    "df_messages_.columns = ['messages_count']\n",
    "df_messages_"
   ]
  },
  {
   "cell_type": "markdown",
   "metadata": {
    "id": "Wfc26yepR6Nf"
   },
   "source": [
    "#### Объем израсходованного интернет-трафика по месяцам.\n",
    "\n",
    "Будем это считать по таблице `df_internet`."
   ]
  },
  {
   "cell_type": "code",
   "execution_count": 118,
   "metadata": {
    "colab": {
     "base_uri": "https://localhost:8080/"
    },
    "id": "V1Zn0P6mSKre",
    "outputId": "2c3d96a6-dcec-4910-95f0-6c0737270043"
   },
   "outputs": [
    {
     "name": "stdout",
     "output_type": "stream",
     "text": [
      "<class 'pandas.core.frame.DataFrame'>\n",
      "RangeIndex: 149396 entries, 0 to 149395\n",
      "Data columns (total 5 columns):\n",
      " #   Column        Non-Null Count   Dtype         \n",
      "---  ------        --------------   -----         \n",
      " 0   Unnamed: 0    149396 non-null  int64         \n",
      " 1   id            149396 non-null  object        \n",
      " 2   mb_used       149396 non-null  float64       \n",
      " 3   session_date  149396 non-null  datetime64[ns]\n",
      " 4   user_id       149396 non-null  int64         \n",
      "dtypes: datetime64[ns](1), float64(1), int64(2), object(1)\n",
      "memory usage: 5.7+ MB\n"
     ]
    }
   ],
   "source": [
    "df_internet.info()"
   ]
  },
  {
   "cell_type": "code",
   "execution_count": 119,
   "metadata": {
    "colab": {
     "base_uri": "https://localhost:8080/",
     "height": 424
    },
    "id": "KXqpjau2Unz6",
    "outputId": "52f2c682-2cad-49b3-d3e4-adbd170b848f"
   },
   "outputs": [
    {
     "data": {
      "text/html": [
       "<div>\n",
       "<style scoped>\n",
       "    .dataframe tbody tr th:only-of-type {\n",
       "        vertical-align: middle;\n",
       "    }\n",
       "\n",
       "    .dataframe tbody tr th {\n",
       "        vertical-align: top;\n",
       "    }\n",
       "\n",
       "    .dataframe thead th {\n",
       "        text-align: right;\n",
       "    }\n",
       "</style>\n",
       "<table border=\"1\" class=\"dataframe\">\n",
       "  <thead>\n",
       "    <tr style=\"text-align: right;\">\n",
       "      <th></th>\n",
       "      <th>Unnamed: 0</th>\n",
       "      <th>id</th>\n",
       "      <th>mb_used</th>\n",
       "      <th>session_date</th>\n",
       "      <th>user_id</th>\n",
       "      <th>month</th>\n",
       "    </tr>\n",
       "  </thead>\n",
       "  <tbody>\n",
       "    <tr>\n",
       "      <th>0</th>\n",
       "      <td>0</td>\n",
       "      <td>1000_0</td>\n",
       "      <td>112.95</td>\n",
       "      <td>2018-11-25</td>\n",
       "      <td>1000</td>\n",
       "      <td>11</td>\n",
       "    </tr>\n",
       "    <tr>\n",
       "      <th>1</th>\n",
       "      <td>1</td>\n",
       "      <td>1000_1</td>\n",
       "      <td>1052.81</td>\n",
       "      <td>2018-09-07</td>\n",
       "      <td>1000</td>\n",
       "      <td>9</td>\n",
       "    </tr>\n",
       "    <tr>\n",
       "      <th>2</th>\n",
       "      <td>2</td>\n",
       "      <td>1000_2</td>\n",
       "      <td>1197.26</td>\n",
       "      <td>2018-06-25</td>\n",
       "      <td>1000</td>\n",
       "      <td>6</td>\n",
       "    </tr>\n",
       "    <tr>\n",
       "      <th>3</th>\n",
       "      <td>3</td>\n",
       "      <td>1000_3</td>\n",
       "      <td>550.27</td>\n",
       "      <td>2018-08-22</td>\n",
       "      <td>1000</td>\n",
       "      <td>8</td>\n",
       "    </tr>\n",
       "    <tr>\n",
       "      <th>4</th>\n",
       "      <td>4</td>\n",
       "      <td>1000_4</td>\n",
       "      <td>302.56</td>\n",
       "      <td>2018-09-24</td>\n",
       "      <td>1000</td>\n",
       "      <td>9</td>\n",
       "    </tr>\n",
       "    <tr>\n",
       "      <th>...</th>\n",
       "      <td>...</td>\n",
       "      <td>...</td>\n",
       "      <td>...</td>\n",
       "      <td>...</td>\n",
       "      <td>...</td>\n",
       "      <td>...</td>\n",
       "    </tr>\n",
       "    <tr>\n",
       "      <th>149391</th>\n",
       "      <td>149391</td>\n",
       "      <td>1499_152</td>\n",
       "      <td>318.90</td>\n",
       "      <td>2018-10-03</td>\n",
       "      <td>1499</td>\n",
       "      <td>10</td>\n",
       "    </tr>\n",
       "    <tr>\n",
       "      <th>149392</th>\n",
       "      <td>149392</td>\n",
       "      <td>1499_153</td>\n",
       "      <td>490.13</td>\n",
       "      <td>2018-12-14</td>\n",
       "      <td>1499</td>\n",
       "      <td>12</td>\n",
       "    </tr>\n",
       "    <tr>\n",
       "      <th>149393</th>\n",
       "      <td>149393</td>\n",
       "      <td>1499_154</td>\n",
       "      <td>0.00</td>\n",
       "      <td>2018-10-27</td>\n",
       "      <td>1499</td>\n",
       "      <td>10</td>\n",
       "    </tr>\n",
       "    <tr>\n",
       "      <th>149394</th>\n",
       "      <td>149394</td>\n",
       "      <td>1499_155</td>\n",
       "      <td>1246.32</td>\n",
       "      <td>2018-11-26</td>\n",
       "      <td>1499</td>\n",
       "      <td>11</td>\n",
       "    </tr>\n",
       "    <tr>\n",
       "      <th>149395</th>\n",
       "      <td>149395</td>\n",
       "      <td>1499_156</td>\n",
       "      <td>544.37</td>\n",
       "      <td>2018-10-26</td>\n",
       "      <td>1499</td>\n",
       "      <td>10</td>\n",
       "    </tr>\n",
       "  </tbody>\n",
       "</table>\n",
       "<p>149396 rows × 6 columns</p>\n",
       "</div>"
      ],
      "text/plain": [
       "        Unnamed: 0        id  mb_used session_date  user_id  month\n",
       "0                0    1000_0   112.95   2018-11-25     1000     11\n",
       "1                1    1000_1  1052.81   2018-09-07     1000      9\n",
       "2                2    1000_2  1197.26   2018-06-25     1000      6\n",
       "3                3    1000_3   550.27   2018-08-22     1000      8\n",
       "4                4    1000_4   302.56   2018-09-24     1000      9\n",
       "...            ...       ...      ...          ...      ...    ...\n",
       "149391      149391  1499_152   318.90   2018-10-03     1499     10\n",
       "149392      149392  1499_153   490.13   2018-12-14     1499     12\n",
       "149393      149393  1499_154     0.00   2018-10-27     1499     10\n",
       "149394      149394  1499_155  1246.32   2018-11-26     1499     11\n",
       "149395      149395  1499_156   544.37   2018-10-26     1499     10\n",
       "\n",
       "[149396 rows x 6 columns]"
      ]
     },
     "execution_count": 119,
     "metadata": {},
     "output_type": "execute_result"
    }
   ],
   "source": [
    "df_internet['month'] = df_internet['session_date'].dt.month\n",
    "df_internet"
   ]
  },
  {
   "cell_type": "code",
   "execution_count": 120,
   "metadata": {
    "colab": {
     "base_uri": "https://localhost:8080/",
     "height": 455
    },
    "id": "Utpy-x4QTlNO",
    "outputId": "c4d103b5-828c-42b3-d245-41359a762eb8"
   },
   "outputs": [
    {
     "data": {
      "text/html": [
       "<div>\n",
       "<style scoped>\n",
       "    .dataframe tbody tr th:only-of-type {\n",
       "        vertical-align: middle;\n",
       "    }\n",
       "\n",
       "    .dataframe tbody tr th {\n",
       "        vertical-align: top;\n",
       "    }\n",
       "\n",
       "    .dataframe thead th {\n",
       "        text-align: right;\n",
       "    }\n",
       "</style>\n",
       "<table border=\"1\" class=\"dataframe\">\n",
       "  <thead>\n",
       "    <tr style=\"text-align: right;\">\n",
       "      <th></th>\n",
       "      <th></th>\n",
       "      <th>gb_used</th>\n",
       "    </tr>\n",
       "    <tr>\n",
       "      <th>user_id</th>\n",
       "      <th>month</th>\n",
       "      <th></th>\n",
       "    </tr>\n",
       "  </thead>\n",
       "  <tbody>\n",
       "    <tr>\n",
       "      <th rowspan=\"5\" valign=\"top\">1000</th>\n",
       "      <th>5</th>\n",
       "      <td>2.200674</td>\n",
       "    </tr>\n",
       "    <tr>\n",
       "      <th>6</th>\n",
       "      <td>22.689229</td>\n",
       "    </tr>\n",
       "    <tr>\n",
       "      <th>7</th>\n",
       "      <td>13.675430</td>\n",
       "    </tr>\n",
       "    <tr>\n",
       "      <th>8</th>\n",
       "      <td>13.726494</td>\n",
       "    </tr>\n",
       "    <tr>\n",
       "      <th>9</th>\n",
       "      <td>14.227451</td>\n",
       "    </tr>\n",
       "    <tr>\n",
       "      <th>...</th>\n",
       "      <th>...</th>\n",
       "      <td>...</td>\n",
       "    </tr>\n",
       "    <tr>\n",
       "      <th>1498</th>\n",
       "      <th>10</th>\n",
       "      <td>20.097031</td>\n",
       "    </tr>\n",
       "    <tr>\n",
       "      <th rowspan=\"4\" valign=\"top\">1499</th>\n",
       "      <th>9</th>\n",
       "      <td>1.802490</td>\n",
       "    </tr>\n",
       "    <tr>\n",
       "      <th>10</th>\n",
       "      <td>17.371592</td>\n",
       "    </tr>\n",
       "    <tr>\n",
       "      <th>11</th>\n",
       "      <td>17.542295</td>\n",
       "    </tr>\n",
       "    <tr>\n",
       "      <th>12</th>\n",
       "      <td>12.749590</td>\n",
       "    </tr>\n",
       "  </tbody>\n",
       "</table>\n",
       "<p>3203 rows × 1 columns</p>\n",
       "</div>"
      ],
      "text/plain": [
       "                 gb_used\n",
       "user_id month           \n",
       "1000    5       2.200674\n",
       "        6      22.689229\n",
       "        7      13.675430\n",
       "        8      13.726494\n",
       "        9      14.227451\n",
       "...                  ...\n",
       "1498    10     20.097031\n",
       "1499    9       1.802490\n",
       "        10     17.371592\n",
       "        11     17.542295\n",
       "        12     12.749590\n",
       "\n",
       "[3203 rows x 1 columns]"
      ]
     },
     "execution_count": 120,
     "metadata": {},
     "output_type": "execute_result"
    }
   ],
   "source": [
    "df_internet['gb_used'] = df_internet['mb_used'] / 1024\n",
    "df_internet_ = df_internet.pivot_table(index = ['user_id', 'month'], values = 'gb_used', aggfunc = 'sum')\n",
    "df_internet_"
   ]
  },
  {
   "cell_type": "markdown",
   "metadata": {
    "id": "bPmg1Yo9Uw18"
   },
   "source": [
    "Округлим в нужную сторону:"
   ]
  },
  {
   "cell_type": "code",
   "execution_count": 121,
   "metadata": {
    "colab": {
     "base_uri": "https://localhost:8080/"
    },
    "id": "FVUUcXgxUzcJ",
    "outputId": "7825dfc3-f35e-4ce5-e7ce-364907913a3f"
   },
   "outputs": [
    {
     "name": "stdout",
     "output_type": "stream",
     "text": [
      "<class 'pandas.core.frame.DataFrame'>\n",
      "MultiIndex: 3203 entries, (1000, 5) to (1499, 12)\n",
      "Data columns (total 1 columns):\n",
      " #   Column   Non-Null Count  Dtype  \n",
      "---  ------   --------------  -----  \n",
      " 0   gb_used  3203 non-null   float64\n",
      "dtypes: float64(1)\n",
      "memory usage: 38.5 KB\n"
     ]
    }
   ],
   "source": [
    "df_internet_['gb_used'] = np.ceil(df_internet_['gb_used'])\n",
    "df_internet_.info()"
   ]
  },
  {
   "cell_type": "code",
   "execution_count": 122,
   "metadata": {},
   "outputs": [
    {
     "data": {
      "text/plain": [
       "3000.0"
      ]
     },
     "execution_count": 122,
     "metadata": {},
     "output_type": "execute_result"
    }
   ],
   "source": [
    "# КОД РЕВЬЮЕРА\n",
    "\n",
    "np.ceil(2253.49 / 1000) * 1000"
   ]
  },
  {
   "cell_type": "code",
   "execution_count": 123,
   "metadata": {},
   "outputs": [
    {
     "data": {
      "text/plain": [
       "2254.0"
      ]
     },
     "execution_count": 123,
     "metadata": {},
     "output_type": "execute_result"
    }
   ],
   "source": [
    "# КОД РЕВЬЮЕРА\n",
    "\n",
    "np.ceil(2253.49)"
   ]
  },
  {
   "cell_type": "code",
   "execution_count": 124,
   "metadata": {},
   "outputs": [
    {
     "data": {
      "text/plain": [
       "0.30000000000000004"
      ]
     },
     "execution_count": 124,
     "metadata": {},
     "output_type": "execute_result"
    }
   ],
   "source": [
    "# КОД РЕВЬЮЕРА 2\n",
    "\n",
    "0.1 + 0.2"
   ]
  },
  {
   "cell_type": "code",
   "execution_count": 125,
   "metadata": {},
   "outputs": [
    {
     "data": {
      "text/html": [
       "<div>\n",
       "<style scoped>\n",
       "    .dataframe tbody tr th:only-of-type {\n",
       "        vertical-align: middle;\n",
       "    }\n",
       "\n",
       "    .dataframe tbody tr th {\n",
       "        vertical-align: top;\n",
       "    }\n",
       "\n",
       "    .dataframe thead th {\n",
       "        text-align: right;\n",
       "    }\n",
       "</style>\n",
       "<table border=\"1\" class=\"dataframe\">\n",
       "  <thead>\n",
       "    <tr style=\"text-align: right;\">\n",
       "      <th></th>\n",
       "      <th>Unnamed: 0</th>\n",
       "      <th>id</th>\n",
       "      <th>mb_used</th>\n",
       "      <th>session_date</th>\n",
       "      <th>user_id</th>\n",
       "      <th>month</th>\n",
       "      <th>gb_used</th>\n",
       "    </tr>\n",
       "  </thead>\n",
       "  <tbody>\n",
       "    <tr>\n",
       "      <th>0</th>\n",
       "      <td>0</td>\n",
       "      <td>1000_0</td>\n",
       "      <td>112.95</td>\n",
       "      <td>2018-11-25</td>\n",
       "      <td>1000</td>\n",
       "      <td>11</td>\n",
       "      <td>0.110303</td>\n",
       "    </tr>\n",
       "    <tr>\n",
       "      <th>1</th>\n",
       "      <td>1</td>\n",
       "      <td>1000_1</td>\n",
       "      <td>1052.81</td>\n",
       "      <td>2018-09-07</td>\n",
       "      <td>1000</td>\n",
       "      <td>9</td>\n",
       "      <td>1.028135</td>\n",
       "    </tr>\n",
       "    <tr>\n",
       "      <th>2</th>\n",
       "      <td>2</td>\n",
       "      <td>1000_2</td>\n",
       "      <td>1197.26</td>\n",
       "      <td>2018-06-25</td>\n",
       "      <td>1000</td>\n",
       "      <td>6</td>\n",
       "      <td>1.169199</td>\n",
       "    </tr>\n",
       "    <tr>\n",
       "      <th>3</th>\n",
       "      <td>3</td>\n",
       "      <td>1000_3</td>\n",
       "      <td>550.27</td>\n",
       "      <td>2018-08-22</td>\n",
       "      <td>1000</td>\n",
       "      <td>8</td>\n",
       "      <td>0.537373</td>\n",
       "    </tr>\n",
       "    <tr>\n",
       "      <th>4</th>\n",
       "      <td>4</td>\n",
       "      <td>1000_4</td>\n",
       "      <td>302.56</td>\n",
       "      <td>2018-09-24</td>\n",
       "      <td>1000</td>\n",
       "      <td>9</td>\n",
       "      <td>0.295469</td>\n",
       "    </tr>\n",
       "    <tr>\n",
       "      <th>...</th>\n",
       "      <td>...</td>\n",
       "      <td>...</td>\n",
       "      <td>...</td>\n",
       "      <td>...</td>\n",
       "      <td>...</td>\n",
       "      <td>...</td>\n",
       "      <td>...</td>\n",
       "    </tr>\n",
       "    <tr>\n",
       "      <th>149391</th>\n",
       "      <td>149391</td>\n",
       "      <td>1499_152</td>\n",
       "      <td>318.90</td>\n",
       "      <td>2018-10-03</td>\n",
       "      <td>1499</td>\n",
       "      <td>10</td>\n",
       "      <td>0.311426</td>\n",
       "    </tr>\n",
       "    <tr>\n",
       "      <th>149392</th>\n",
       "      <td>149392</td>\n",
       "      <td>1499_153</td>\n",
       "      <td>490.13</td>\n",
       "      <td>2018-12-14</td>\n",
       "      <td>1499</td>\n",
       "      <td>12</td>\n",
       "      <td>0.478643</td>\n",
       "    </tr>\n",
       "    <tr>\n",
       "      <th>149393</th>\n",
       "      <td>149393</td>\n",
       "      <td>1499_154</td>\n",
       "      <td>0.00</td>\n",
       "      <td>2018-10-27</td>\n",
       "      <td>1499</td>\n",
       "      <td>10</td>\n",
       "      <td>0.000000</td>\n",
       "    </tr>\n",
       "    <tr>\n",
       "      <th>149394</th>\n",
       "      <td>149394</td>\n",
       "      <td>1499_155</td>\n",
       "      <td>1246.32</td>\n",
       "      <td>2018-11-26</td>\n",
       "      <td>1499</td>\n",
       "      <td>11</td>\n",
       "      <td>1.217109</td>\n",
       "    </tr>\n",
       "    <tr>\n",
       "      <th>149395</th>\n",
       "      <td>149395</td>\n",
       "      <td>1499_156</td>\n",
       "      <td>544.37</td>\n",
       "      <td>2018-10-26</td>\n",
       "      <td>1499</td>\n",
       "      <td>10</td>\n",
       "      <td>0.531611</td>\n",
       "    </tr>\n",
       "  </tbody>\n",
       "</table>\n",
       "<p>149396 rows × 7 columns</p>\n",
       "</div>"
      ],
      "text/plain": [
       "        Unnamed: 0        id  mb_used session_date  user_id  month   gb_used\n",
       "0                0    1000_0   112.95   2018-11-25     1000     11  0.110303\n",
       "1                1    1000_1  1052.81   2018-09-07     1000      9  1.028135\n",
       "2                2    1000_2  1197.26   2018-06-25     1000      6  1.169199\n",
       "3                3    1000_3   550.27   2018-08-22     1000      8  0.537373\n",
       "4                4    1000_4   302.56   2018-09-24     1000      9  0.295469\n",
       "...            ...       ...      ...          ...      ...    ...       ...\n",
       "149391      149391  1499_152   318.90   2018-10-03     1499     10  0.311426\n",
       "149392      149392  1499_153   490.13   2018-12-14     1499     12  0.478643\n",
       "149393      149393  1499_154     0.00   2018-10-27     1499     10  0.000000\n",
       "149394      149394  1499_155  1246.32   2018-11-26     1499     11  1.217109\n",
       "149395      149395  1499_156   544.37   2018-10-26     1499     10  0.531611\n",
       "\n",
       "[149396 rows x 7 columns]"
      ]
     },
     "execution_count": 125,
     "metadata": {},
     "output_type": "execute_result"
    }
   ],
   "source": [
    "df_internet"
   ]
  },
  {
   "cell_type": "markdown",
   "metadata": {
    "id": "XP2JGND5SLM_"
   },
   "source": [
    "#### Посчитаем помесячную выручку с каждого пользователя.\n",
    "\n",
    "(вычтите бесплатный лимит из суммарного количества звонков, сообщений и интернет-трафика; остаток умножьте на значение из тарифного плана; прибавьте абонентскую плату, соответствующую тарифному плану).\n",
    "\n",
    "Для этого соберём одну большую таблицу, в которой были бы данные и по звонкам, и по СМС, и по интернету."
   ]
  },
  {
   "cell_type": "code",
   "execution_count": 126,
   "metadata": {
    "colab": {
     "base_uri": "https://localhost:8080/"
    },
    "id": "9XxWYvDeX_4j",
    "outputId": "4b25557d-17ed-46f8-b84a-dbacf8f0cebb"
   },
   "outputs": [
    {
     "name": "stdout",
     "output_type": "stream",
     "text": [
      "<class 'pandas.core.frame.DataFrame'>\n",
      "MultiIndex: 3214 entries, (1000, 5) to (1476, 4)\n",
      "Data columns (total 4 columns):\n",
      " #   Column          Non-Null Count  Dtype  \n",
      "---  ------          --------------  -----  \n",
      " 0   calls_number    3174 non-null   float64\n",
      " 1   calls_duration  3174 non-null   float64\n",
      " 2   messages_count  2717 non-null   float64\n",
      " 3   gb_used         3203 non-null   float64\n",
      "dtypes: float64(4)\n",
      "memory usage: 130.4 KB\n"
     ]
    }
   ],
   "source": [
    "df = pd.merge(df_calls_, df_messages_, how='outer', on = ['user_id', 'month'])\n",
    "df = pd.merge(df, df_internet_, how='outer', on = ['user_id', 'month'])\n",
    "df.info()\n",
    "\n"
   ]
  },
  {
   "cell_type": "code",
   "execution_count": 127,
   "metadata": {
    "colab": {
     "base_uri": "https://localhost:8080/"
    },
    "id": "wAKM34PmeIYI",
    "outputId": "ce1b11f7-4f1f-441b-97df-9e81abd4c0f8"
   },
   "outputs": [],
   "source": [
    "# это больше не нужно, поэтому закомментирую\n",
    "#df.drop('mb_used', axis=1, inplace=True)\n",
    "#df.info()"
   ]
  },
  {
   "cell_type": "markdown",
   "metadata": {
    "id": "TwbzlCeIfPmx"
   },
   "source": [
    "Переименуем столбцы так, чтобы их названия были бы более информативные."
   ]
  },
  {
   "cell_type": "code",
   "execution_count": 128,
   "metadata": {
    "colab": {
     "base_uri": "https://localhost:8080/"
    },
    "id": "ePBUr7V0ee-W",
    "outputId": "8aa5e816-4b72-4386-d288-aa276b8a9a16"
   },
   "outputs": [],
   "source": [
    "# это больше не нужно, поэтому закомментирую\n",
    "#df.rename(columns={'mb_used_round': 'mb_used'}, inplace=True)\n",
    "#df.info()"
   ]
  },
  {
   "cell_type": "markdown",
   "metadata": {
    "id": "wOwY4U_Bgt9P"
   },
   "source": [
    "Сделаем большую таблицу, в которой кроме информации об использованных мегабайтах, количестве звонков, минут и сообщений была бы ещё информация о тарифе."
   ]
  },
  {
   "cell_type": "code",
   "execution_count": 129,
   "metadata": {
    "colab": {
     "base_uri": "https://localhost:8080/"
    },
    "id": "LMK0u32Dhadi",
    "outputId": "25c6b1ee-f119-4577-9c51-58a0c6a0ebad"
   },
   "outputs": [
    {
     "name": "stdout",
     "output_type": "stream",
     "text": [
      "<class 'pandas.core.frame.DataFrame'>\n",
      "Int64Index: 3214 entries, 0 to 3213\n",
      "Data columns (total 7 columns):\n",
      " #   Column          Non-Null Count  Dtype  \n",
      "---  ------          --------------  -----  \n",
      " 0   user_id         3214 non-null   int64  \n",
      " 1   calls_number    3174 non-null   float64\n",
      " 2   calls_duration  3174 non-null   float64\n",
      " 3   messages_count  2717 non-null   float64\n",
      " 4   gb_used         3203 non-null   float64\n",
      " 5   city            3214 non-null   object \n",
      " 6   tariff          3214 non-null   object \n",
      "dtypes: float64(4), int64(1), object(2)\n",
      "memory usage: 200.9+ KB\n"
     ]
    }
   ],
   "source": [
    "df = pd.merge(df, df_users.loc[ : , ['user_id', 'city', 'tariff']], how='left', on = 'user_id')\n",
    "df.info()"
   ]
  },
  {
   "cell_type": "code",
   "execution_count": 130,
   "metadata": {
    "colab": {
     "base_uri": "https://localhost:8080/",
     "height": 424
    },
    "id": "kS323AnBidQM",
    "outputId": "20534293-ffd1-4d03-9a45-100154eb5f14"
   },
   "outputs": [],
   "source": [
    "#вот это больше не нужно\n",
    "#df.drop(['age', 'churn_date', 'first_name', 'last_name', 'reg_date'], axis=1, inplace=True)\n",
    "#df"
   ]
  },
  {
   "cell_type": "code",
   "execution_count": 131,
   "metadata": {
    "colab": {
     "base_uri": "https://localhost:8080/"
    },
    "id": "bF-LAO1DjUmC",
    "outputId": "b584b860-83cf-4f45-84f8-2ae3bbcff563"
   },
   "outputs": [
    {
     "name": "stdout",
     "output_type": "stream",
     "text": [
      "<class 'pandas.core.frame.DataFrame'>\n",
      "Int64Index: 3214 entries, 0 to 3213\n",
      "Data columns (total 7 columns):\n",
      " #   Column          Non-Null Count  Dtype  \n",
      "---  ------          --------------  -----  \n",
      " 0   user_id         3214 non-null   int64  \n",
      " 1   calls_number    3174 non-null   float64\n",
      " 2   calls_duration  3174 non-null   float64\n",
      " 3   messages_count  2717 non-null   float64\n",
      " 4   gb_used         3203 non-null   float64\n",
      " 5   city            3214 non-null   object \n",
      " 6   tariff          3214 non-null   object \n",
      "dtypes: float64(4), int64(1), object(2)\n",
      "memory usage: 200.9+ KB\n"
     ]
    }
   ],
   "source": [
    "df.info()"
   ]
  },
  {
   "cell_type": "markdown",
   "metadata": {
    "id": "frQXPWLfkORq"
   },
   "source": [
    "Добавим информацию о тарифах в датафрейм.\n",
    "\n",
    "Переименуем столбец, чтобы они совпадами в двух датафреймах:"
   ]
  },
  {
   "cell_type": "code",
   "execution_count": 132,
   "metadata": {
    "colab": {
     "base_uri": "https://localhost:8080/"
    },
    "id": "jYBRv4egkrn_",
    "outputId": "99e4522e-a098-4231-886c-b7c055ddbd31"
   },
   "outputs": [
    {
     "name": "stdout",
     "output_type": "stream",
     "text": [
      "<class 'pandas.core.frame.DataFrame'>\n",
      "Int64Index: 3214 entries, 0 to 3213\n",
      "Data columns (total 7 columns):\n",
      " #   Column          Non-Null Count  Dtype  \n",
      "---  ------          --------------  -----  \n",
      " 0   user_id         3214 non-null   int64  \n",
      " 1   calls_number    3174 non-null   float64\n",
      " 2   calls_duration  3174 non-null   float64\n",
      " 3   messages_count  2717 non-null   float64\n",
      " 4   gb_used         3203 non-null   float64\n",
      " 5   city            3214 non-null   object \n",
      " 6   tariff_name     3214 non-null   object \n",
      "dtypes: float64(4), int64(1), object(2)\n",
      "memory usage: 200.9+ KB\n"
     ]
    }
   ],
   "source": [
    "df.rename(columns={'tariff': 'tariff_name'}, inplace=True)\n",
    "df.info()"
   ]
  },
  {
   "cell_type": "code",
   "execution_count": 133,
   "metadata": {
    "colab": {
     "base_uri": "https://localhost:8080/"
    },
    "id": "gru0QzKZkSnX",
    "outputId": "ad669f4b-bc3d-4257-e785-973ef1316522"
   },
   "outputs": [
    {
     "name": "stdout",
     "output_type": "stream",
     "text": [
      "<class 'pandas.core.frame.DataFrame'>\n",
      "Int64Index: 3214 entries, 0 to 3213\n",
      "Data columns (total 14 columns):\n",
      " #   Column                 Non-Null Count  Dtype  \n",
      "---  ------                 --------------  -----  \n",
      " 0   user_id                3214 non-null   int64  \n",
      " 1   calls_number           3174 non-null   float64\n",
      " 2   calls_duration         3174 non-null   float64\n",
      " 3   messages_count         2717 non-null   float64\n",
      " 4   gb_used                3203 non-null   float64\n",
      " 5   city                   3214 non-null   object \n",
      " 6   tariff_name            3214 non-null   object \n",
      " 7   messages_included      3214 non-null   int64  \n",
      " 8   mb_per_month_included  3214 non-null   int64  \n",
      " 9   minutes_included       3214 non-null   int64  \n",
      " 10  rub_monthly_fee        3214 non-null   int64  \n",
      " 11  rub_per_gb             3214 non-null   int64  \n",
      " 12  rub_per_message        3214 non-null   int64  \n",
      " 13  rub_per_minute         3214 non-null   int64  \n",
      "dtypes: float64(4), int64(8), object(2)\n",
      "memory usage: 376.6+ KB\n"
     ]
    }
   ],
   "source": [
    "df = pd.merge(df, df_tariffs, how='outer', on = 'tariff_name')\n",
    "df.info()"
   ]
  },
  {
   "cell_type": "markdown",
   "metadata": {
    "id": "OLddHymSln_Q"
   },
   "source": [
    "В таблице есть пропуски в полях `calls_number`, `calls_duration`, `messages_count`, `mb_used`. Очевидно, что если это пропуск, то это значит, что этой услйгой не пользовались, поэтому можно заменить все пропуски на нули."
   ]
  },
  {
   "cell_type": "code",
   "execution_count": 134,
   "metadata": {
    "colab": {
     "base_uri": "https://localhost:8080/",
     "height": 652
    },
    "id": "dQ2bS8sllRQf",
    "outputId": "df41d217-a46f-4433-8e5b-78f34f7d237d"
   },
   "outputs": [
    {
     "name": "stdout",
     "output_type": "stream",
     "text": [
      "<class 'pandas.core.frame.DataFrame'>\n",
      "Int64Index: 3214 entries, 0 to 3213\n",
      "Data columns (total 14 columns):\n",
      " #   Column                 Non-Null Count  Dtype  \n",
      "---  ------                 --------------  -----  \n",
      " 0   user_id                3214 non-null   int64  \n",
      " 1   calls_number           3214 non-null   float64\n",
      " 2   calls_duration         3214 non-null   float64\n",
      " 3   messages_count         3214 non-null   float64\n",
      " 4   gb_used                3214 non-null   float64\n",
      " 5   city                   3214 non-null   object \n",
      " 6   tariff_name            3214 non-null   object \n",
      " 7   messages_included      3214 non-null   int64  \n",
      " 8   mb_per_month_included  3214 non-null   int64  \n",
      " 9   minutes_included       3214 non-null   int64  \n",
      " 10  rub_monthly_fee        3214 non-null   int64  \n",
      " 11  rub_per_gb             3214 non-null   int64  \n",
      " 12  rub_per_message        3214 non-null   int64  \n",
      " 13  rub_per_minute         3214 non-null   int64  \n",
      "dtypes: float64(4), int64(8), object(2)\n",
      "memory usage: 376.6+ KB\n"
     ]
    },
    {
     "data": {
      "text/plain": [
       "None"
      ]
     },
     "metadata": {},
     "output_type": "display_data"
    },
    {
     "data": {
      "text/html": [
       "<div>\n",
       "<style scoped>\n",
       "    .dataframe tbody tr th:only-of-type {\n",
       "        vertical-align: middle;\n",
       "    }\n",
       "\n",
       "    .dataframe tbody tr th {\n",
       "        vertical-align: top;\n",
       "    }\n",
       "\n",
       "    .dataframe thead th {\n",
       "        text-align: right;\n",
       "    }\n",
       "</style>\n",
       "<table border=\"1\" class=\"dataframe\">\n",
       "  <thead>\n",
       "    <tr style=\"text-align: right;\">\n",
       "      <th></th>\n",
       "      <th>user_id</th>\n",
       "      <th>calls_number</th>\n",
       "      <th>calls_duration</th>\n",
       "      <th>messages_count</th>\n",
       "      <th>gb_used</th>\n",
       "      <th>city</th>\n",
       "      <th>tariff_name</th>\n",
       "      <th>messages_included</th>\n",
       "      <th>mb_per_month_included</th>\n",
       "      <th>minutes_included</th>\n",
       "      <th>rub_monthly_fee</th>\n",
       "      <th>rub_per_gb</th>\n",
       "      <th>rub_per_message</th>\n",
       "      <th>rub_per_minute</th>\n",
       "    </tr>\n",
       "  </thead>\n",
       "  <tbody>\n",
       "    <tr>\n",
       "      <th>0</th>\n",
       "      <td>1000</td>\n",
       "      <td>22.0</td>\n",
       "      <td>159.0</td>\n",
       "      <td>22.0</td>\n",
       "      <td>3.0</td>\n",
       "      <td>Краснодар</td>\n",
       "      <td>ultra</td>\n",
       "      <td>1000</td>\n",
       "      <td>30720</td>\n",
       "      <td>3000</td>\n",
       "      <td>1950</td>\n",
       "      <td>150</td>\n",
       "      <td>1</td>\n",
       "      <td>1</td>\n",
       "    </tr>\n",
       "    <tr>\n",
       "      <th>1</th>\n",
       "      <td>1000</td>\n",
       "      <td>43.0</td>\n",
       "      <td>172.0</td>\n",
       "      <td>60.0</td>\n",
       "      <td>23.0</td>\n",
       "      <td>Краснодар</td>\n",
       "      <td>ultra</td>\n",
       "      <td>1000</td>\n",
       "      <td>30720</td>\n",
       "      <td>3000</td>\n",
       "      <td>1950</td>\n",
       "      <td>150</td>\n",
       "      <td>1</td>\n",
       "      <td>1</td>\n",
       "    </tr>\n",
       "    <tr>\n",
       "      <th>2</th>\n",
       "      <td>1000</td>\n",
       "      <td>47.0</td>\n",
       "      <td>340.0</td>\n",
       "      <td>75.0</td>\n",
       "      <td>14.0</td>\n",
       "      <td>Краснодар</td>\n",
       "      <td>ultra</td>\n",
       "      <td>1000</td>\n",
       "      <td>30720</td>\n",
       "      <td>3000</td>\n",
       "      <td>1950</td>\n",
       "      <td>150</td>\n",
       "      <td>1</td>\n",
       "      <td>1</td>\n",
       "    </tr>\n",
       "    <tr>\n",
       "      <th>3</th>\n",
       "      <td>1000</td>\n",
       "      <td>52.0</td>\n",
       "      <td>408.0</td>\n",
       "      <td>81.0</td>\n",
       "      <td>14.0</td>\n",
       "      <td>Краснодар</td>\n",
       "      <td>ultra</td>\n",
       "      <td>1000</td>\n",
       "      <td>30720</td>\n",
       "      <td>3000</td>\n",
       "      <td>1950</td>\n",
       "      <td>150</td>\n",
       "      <td>1</td>\n",
       "      <td>1</td>\n",
       "    </tr>\n",
       "    <tr>\n",
       "      <th>4</th>\n",
       "      <td>1000</td>\n",
       "      <td>58.0</td>\n",
       "      <td>466.0</td>\n",
       "      <td>57.0</td>\n",
       "      <td>15.0</td>\n",
       "      <td>Краснодар</td>\n",
       "      <td>ultra</td>\n",
       "      <td>1000</td>\n",
       "      <td>30720</td>\n",
       "      <td>3000</td>\n",
       "      <td>1950</td>\n",
       "      <td>150</td>\n",
       "      <td>1</td>\n",
       "      <td>1</td>\n",
       "    </tr>\n",
       "  </tbody>\n",
       "</table>\n",
       "</div>"
      ],
      "text/plain": [
       "   user_id  calls_number  calls_duration  messages_count  gb_used       city  \\\n",
       "0     1000          22.0           159.0            22.0      3.0  Краснодар   \n",
       "1     1000          43.0           172.0            60.0     23.0  Краснодар   \n",
       "2     1000          47.0           340.0            75.0     14.0  Краснодар   \n",
       "3     1000          52.0           408.0            81.0     14.0  Краснодар   \n",
       "4     1000          58.0           466.0            57.0     15.0  Краснодар   \n",
       "\n",
       "  tariff_name  messages_included  mb_per_month_included  minutes_included  \\\n",
       "0       ultra               1000                  30720              3000   \n",
       "1       ultra               1000                  30720              3000   \n",
       "2       ultra               1000                  30720              3000   \n",
       "3       ultra               1000                  30720              3000   \n",
       "4       ultra               1000                  30720              3000   \n",
       "\n",
       "   rub_monthly_fee  rub_per_gb  rub_per_message  rub_per_minute  \n",
       "0             1950         150                1               1  \n",
       "1             1950         150                1               1  \n",
       "2             1950         150                1               1  \n",
       "3             1950         150                1               1  \n",
       "4             1950         150                1               1  "
      ]
     },
     "metadata": {},
     "output_type": "display_data"
    }
   ],
   "source": [
    "df = df.fillna(0)\n",
    "display(df.info())\n",
    "display(df.head())"
   ]
  },
  {
   "cell_type": "markdown",
   "metadata": {
    "id": "obI88-3Bfdb4"
   },
   "source": [
    "Посчитаем , сколько заплатили пользователи за звонки сверх тарифа:"
   ]
  },
  {
   "cell_type": "code",
   "execution_count": 135,
   "metadata": {
    "colab": {
     "base_uri": "https://localhost:8080/",
     "height": 282
    },
    "id": "vQYevNDhfksP",
    "outputId": "e640c26c-8428-4b61-8850-b19dbf1df711"
   },
   "outputs": [
    {
     "data": {
      "text/plain": [
       "<AxesSubplot:>"
      ]
     },
     "execution_count": 135,
     "metadata": {},
     "output_type": "execute_result"
    },
    {
     "data": {
      "image/png": "[encoded data removed]",
      "text/plain": [
       "<Figure size 432x288 with 1 Axes>"
      ]
     },
     "metadata": {
      "needs_background": "light"
     },
     "output_type": "display_data"
    }
   ],
   "source": [
    "df['extra_paid_for_calls'] = (df['minutes_included'] - df['calls_duration']) * df['rub_per_minute']\n",
    "df['extra_paid_for_calls'].hist(bins = 100)"
   ]
  },
  {
   "cell_type": "markdown",
   "metadata": {
    "id": "Qmxoub06npVT"
   },
   "source": [
    "Очевидно, что если это значение положительное, то за него не нужно платить, поэтому всё, что больше нуля, можно заменить на нуль."
   ]
  },
  {
   "cell_type": "code",
   "execution_count": 136,
   "metadata": {
    "colab": {
     "base_uri": "https://localhost:8080/",
     "height": 282
    },
    "id": "LX9tX8aGoD0Y",
    "outputId": "103bfc65-e9a1-412d-e86f-df3fb97a8f4b"
   },
   "outputs": [
    {
     "data": {
      "text/plain": [
       "<AxesSubplot:>"
      ]
     },
     "execution_count": 136,
     "metadata": {},
     "output_type": "execute_result"
    },
    {
     "data": {
      "image/png": "[encoded data removed]",
      "text/plain": [
       "<Figure size 432x288 with 1 Axes>"
      ]
     },
     "metadata": {
      "needs_background": "light"
     },
     "output_type": "display_data"
    }
   ],
   "source": [
    "df.loc[df['extra_paid_for_calls'] >= 0, 'extra_paid_for_calls'] = 0\n",
    "#возьмём модуль\n",
    "df['extra_paid_for_calls'] = abs(df['extra_paid_for_calls'])\n",
    "df['extra_paid_for_calls'].hist(bins = 100, range = (1,3100))"
   ]
  },
  {
   "cell_type": "markdown",
   "metadata": {
    "id": "p0V7F3Uqos4M"
   },
   "source": [
    "Аналогичным способом посчитаем переплаты за пользование сообщениями сверх тарифа."
   ]
  },
  {
   "cell_type": "code",
   "execution_count": 137,
   "metadata": {
    "colab": {
     "base_uri": "https://localhost:8080/"
    },
    "id": "Nj-G6MxApkQq",
    "outputId": "84fe907a-4956-4044-f837-1631dc73db26"
   },
   "outputs": [
    {
     "name": "stdout",
     "output_type": "stream",
     "text": [
      "<class 'pandas.core.frame.DataFrame'>\n",
      "Int64Index: 3214 entries, 0 to 3213\n",
      "Data columns (total 15 columns):\n",
      " #   Column                 Non-Null Count  Dtype  \n",
      "---  ------                 --------------  -----  \n",
      " 0   user_id                3214 non-null   int64  \n",
      " 1   calls_number           3214 non-null   float64\n",
      " 2   calls_duration         3214 non-null   float64\n",
      " 3   messages_count         3214 non-null   float64\n",
      " 4   gb_used                3214 non-null   float64\n",
      " 5   city                   3214 non-null   object \n",
      " 6   tariff_name            3214 non-null   object \n",
      " 7   messages_included      3214 non-null   int64  \n",
      " 8   mb_per_month_included  3214 non-null   int64  \n",
      " 9   minutes_included       3214 non-null   int64  \n",
      " 10  rub_monthly_fee        3214 non-null   int64  \n",
      " 11  rub_per_gb             3214 non-null   int64  \n",
      " 12  rub_per_message        3214 non-null   int64  \n",
      " 13  rub_per_minute         3214 non-null   int64  \n",
      " 14  extra_paid_for_calls   3214 non-null   float64\n",
      "dtypes: float64(5), int64(8), object(2)\n",
      "memory usage: 401.8+ KB\n"
     ]
    }
   ],
   "source": [
    "df.info()"
   ]
  },
  {
   "cell_type": "code",
   "execution_count": 138,
   "metadata": {
    "colab": {
     "base_uri": "https://localhost:8080/",
     "height": 282
    },
    "id": "2ULuo7-8pZS3",
    "outputId": "49bae2bd-fc79-41ac-bac0-7dd1602905d6"
   },
   "outputs": [
    {
     "data": {
      "text/plain": [
       "<AxesSubplot:>"
      ]
     },
     "execution_count": 138,
     "metadata": {},
     "output_type": "execute_result"
    },
    {
     "data": {
      "image/png": "[encoded data removed]",
      "text/plain": [
       "<Figure size 432x288 with 1 Axes>"
      ]
     },
     "metadata": {
      "needs_background": "light"
     },
     "output_type": "display_data"
    }
   ],
   "source": [
    "df['extra_paid_for_messages'] = (df['messages_included'] - df['messages_count']) * df['rub_per_message']\n",
    "df['extra_paid_for_messages'].hist(bins = 100)"
   ]
  },
  {
   "cell_type": "code",
   "execution_count": 139,
   "metadata": {},
   "outputs": [
    {
     "data": {
      "text/plain": [
       "<AxesSubplot:>"
      ]
     },
     "execution_count": 139,
     "metadata": {},
     "output_type": "execute_result"
    },
    {
     "data": {
      "image/png": "[encoded data removed]",
      "text/plain": [
       "<Figure size 432x288 with 1 Axes>"
      ]
     },
     "metadata": {
      "needs_background": "light"
     },
     "output_type": "display_data"
    }
   ],
   "source": [
    "df.loc[df['extra_paid_for_messages'] >= 0, 'extra_paid_for_messages'] = 0\n",
    "df['extra_paid_for_messages'] = abs(df['extra_paid_for_messages'])\n",
    "df['extra_paid_for_messages'].hist(bins = 100)"
   ]
  },
  {
   "cell_type": "markdown",
   "metadata": {
    "id": "kd7eMxTtr7CE"
   },
   "source": [
    "Аналогичным способом посчитаем переплаты за пользование интернетом сверх тарифа."
   ]
  },
  {
   "cell_type": "code",
   "execution_count": 140,
   "metadata": {
    "colab": {
     "base_uri": "https://localhost:8080/"
    },
    "id": "8qHej_gRr-qg",
    "outputId": "9c9f2453-f4d6-4ae9-e6af-673105183140"
   },
   "outputs": [
    {
     "name": "stdout",
     "output_type": "stream",
     "text": [
      "<class 'pandas.core.frame.DataFrame'>\n",
      "Int64Index: 3214 entries, 0 to 3213\n",
      "Data columns (total 16 columns):\n",
      " #   Column                   Non-Null Count  Dtype  \n",
      "---  ------                   --------------  -----  \n",
      " 0   user_id                  3214 non-null   int64  \n",
      " 1   calls_number             3214 non-null   float64\n",
      " 2   calls_duration           3214 non-null   float64\n",
      " 3   messages_count           3214 non-null   float64\n",
      " 4   gb_used                  3214 non-null   float64\n",
      " 5   city                     3214 non-null   object \n",
      " 6   tariff_name              3214 non-null   object \n",
      " 7   messages_included        3214 non-null   int64  \n",
      " 8   mb_per_month_included    3214 non-null   int64  \n",
      " 9   minutes_included         3214 non-null   int64  \n",
      " 10  rub_monthly_fee          3214 non-null   int64  \n",
      " 11  rub_per_gb               3214 non-null   int64  \n",
      " 12  rub_per_message          3214 non-null   int64  \n",
      " 13  rub_per_minute           3214 non-null   int64  \n",
      " 14  extra_paid_for_calls     3214 non-null   float64\n",
      " 15  extra_paid_for_messages  3214 non-null   float64\n",
      "dtypes: float64(6), int64(8), object(2)\n",
      "memory usage: 426.9+ KB\n"
     ]
    }
   ],
   "source": [
    "df.info()"
   ]
  },
  {
   "cell_type": "code",
   "execution_count": 141,
   "metadata": {
    "colab": {
     "base_uri": "https://localhost:8080/",
     "height": 282
    },
    "id": "QrZoLznqsGMF",
    "outputId": "73145026-3bc1-402a-822a-8e1dbfc7958e"
   },
   "outputs": [
    {
     "data": {
      "text/plain": [
       "<AxesSubplot:>"
      ]
     },
     "execution_count": 141,
     "metadata": {},
     "output_type": "execute_result"
    },
    {
     "data": {
      "image/png": "[encoded data removed]",
      "text/plain": [
       "<Figure size 432x288 with 1 Axes>"
      ]
     },
     "metadata": {
      "needs_background": "light"
     },
     "output_type": "display_data"
    }
   ],
   "source": [
    "df['extra_paid_for_internet'] = (df['mb_per_month_included']/1024 - df['gb_used']) * df['rub_per_gb']\n",
    "df['extra_paid_for_internet'].hist(bins = 25)"
   ]
  },
  {
   "cell_type": "code",
   "execution_count": 142,
   "metadata": {},
   "outputs": [
    {
     "data": {
      "text/plain": [
       "<AxesSubplot:>"
      ]
     },
     "execution_count": 142,
     "metadata": {},
     "output_type": "execute_result"
    },
    {
     "data": {
      "image/png": "[encoded data removed]",
      "text/plain": [
       "<Figure size 432x288 with 1 Axes>"
      ]
     },
     "metadata": {
      "needs_background": "light"
     },
     "output_type": "display_data"
    }
   ],
   "source": [
    "df.loc[df['extra_paid_for_internet'] >= 0, 'extra_paid_for_internet'] = 0\n",
    "# РС: здесь развернул график\n",
    "df['extra_paid_for_internet'] = abs(df['extra_paid_for_internet'])\n",
    "df['extra_paid_for_internet'].hist(bins = 25)"
   ]
  },
  {
   "cell_type": "code",
   "execution_count": 143,
   "metadata": {
    "colab": {
     "base_uri": "https://localhost:8080/"
    },
    "id": "AnVsA9JS0WE2",
    "outputId": "dc4e2f20-c8de-4e6a-999d-d951aabe1369"
   },
   "outputs": [
    {
     "name": "stdout",
     "output_type": "stream",
     "text": [
      "<class 'pandas.core.frame.DataFrame'>\n",
      "Int64Index: 3214 entries, 0 to 3213\n",
      "Data columns (total 17 columns):\n",
      " #   Column                   Non-Null Count  Dtype  \n",
      "---  ------                   --------------  -----  \n",
      " 0   user_id                  3214 non-null   int64  \n",
      " 1   calls_number             3214 non-null   float64\n",
      " 2   calls_duration           3214 non-null   float64\n",
      " 3   messages_count           3214 non-null   float64\n",
      " 4   gb_used                  3214 non-null   float64\n",
      " 5   city                     3214 non-null   object \n",
      " 6   tariff_name              3214 non-null   object \n",
      " 7   messages_included        3214 non-null   int64  \n",
      " 8   mb_per_month_included    3214 non-null   int64  \n",
      " 9   minutes_included         3214 non-null   int64  \n",
      " 10  rub_monthly_fee          3214 non-null   int64  \n",
      " 11  rub_per_gb               3214 non-null   int64  \n",
      " 12  rub_per_message          3214 non-null   int64  \n",
      " 13  rub_per_minute           3214 non-null   int64  \n",
      " 14  extra_paid_for_calls     3214 non-null   float64\n",
      " 15  extra_paid_for_messages  3214 non-null   float64\n",
      " 16  extra_paid_for_internet  3214 non-null   float64\n",
      "dtypes: float64(7), int64(8), object(2)\n",
      "memory usage: 452.0+ KB\n"
     ]
    }
   ],
   "source": [
    "df.info()"
   ]
  },
  {
   "cell_type": "markdown",
   "metadata": {
    "id": "RVU_jXuN0ZSu"
   },
   "source": [
    "Посчитаем, сколько каждый пользователь платит за 1 месяц, это будет сумма:\n",
    "* ежемесячная абон плата,\n",
    "* переплата сверх тарифа за звонки, сообщения и интернет."
   ]
  },
  {
   "cell_type": "code",
   "execution_count": 144,
   "metadata": {
    "colab": {
     "base_uri": "https://localhost:8080/",
     "height": 427
    },
    "id": "hKVnXlSO0t4s",
    "outputId": "b2df8007-4c5a-4dc6-d338-2b19c4aa0a56"
   },
   "outputs": [
    {
     "data": {
      "text/html": [
       "<div>\n",
       "<style scoped>\n",
       "    .dataframe tbody tr th:only-of-type {\n",
       "        vertical-align: middle;\n",
       "    }\n",
       "\n",
       "    .dataframe tbody tr th {\n",
       "        vertical-align: top;\n",
       "    }\n",
       "\n",
       "    .dataframe thead th {\n",
       "        text-align: right;\n",
       "    }\n",
       "</style>\n",
       "<table border=\"1\" class=\"dataframe\">\n",
       "  <thead>\n",
       "    <tr style=\"text-align: right;\">\n",
       "      <th></th>\n",
       "      <th>user_id</th>\n",
       "      <th>calls_number</th>\n",
       "      <th>calls_duration</th>\n",
       "      <th>messages_count</th>\n",
       "      <th>gb_used</th>\n",
       "      <th>city</th>\n",
       "      <th>tariff_name</th>\n",
       "      <th>messages_included</th>\n",
       "      <th>mb_per_month_included</th>\n",
       "      <th>minutes_included</th>\n",
       "      <th>rub_monthly_fee</th>\n",
       "      <th>rub_per_gb</th>\n",
       "      <th>rub_per_message</th>\n",
       "      <th>rub_per_minute</th>\n",
       "      <th>extra_paid_for_calls</th>\n",
       "      <th>extra_paid_for_messages</th>\n",
       "      <th>extra_paid_for_internet</th>\n",
       "      <th>total_fee</th>\n",
       "    </tr>\n",
       "  </thead>\n",
       "  <tbody>\n",
       "    <tr>\n",
       "      <th>0</th>\n",
       "      <td>1000</td>\n",
       "      <td>22.0</td>\n",
       "      <td>159.0</td>\n",
       "      <td>22.0</td>\n",
       "      <td>3.0</td>\n",
       "      <td>Краснодар</td>\n",
       "      <td>ultra</td>\n",
       "      <td>1000</td>\n",
       "      <td>30720</td>\n",
       "      <td>3000</td>\n",
       "      <td>1950</td>\n",
       "      <td>150</td>\n",
       "      <td>1</td>\n",
       "      <td>1</td>\n",
       "      <td>0.0</td>\n",
       "      <td>0.0</td>\n",
       "      <td>0.0</td>\n",
       "      <td>1950.0</td>\n",
       "    </tr>\n",
       "    <tr>\n",
       "      <th>1</th>\n",
       "      <td>1000</td>\n",
       "      <td>43.0</td>\n",
       "      <td>172.0</td>\n",
       "      <td>60.0</td>\n",
       "      <td>23.0</td>\n",
       "      <td>Краснодар</td>\n",
       "      <td>ultra</td>\n",
       "      <td>1000</td>\n",
       "      <td>30720</td>\n",
       "      <td>3000</td>\n",
       "      <td>1950</td>\n",
       "      <td>150</td>\n",
       "      <td>1</td>\n",
       "      <td>1</td>\n",
       "      <td>0.0</td>\n",
       "      <td>0.0</td>\n",
       "      <td>0.0</td>\n",
       "      <td>1950.0</td>\n",
       "    </tr>\n",
       "    <tr>\n",
       "      <th>2</th>\n",
       "      <td>1000</td>\n",
       "      <td>47.0</td>\n",
       "      <td>340.0</td>\n",
       "      <td>75.0</td>\n",
       "      <td>14.0</td>\n",
       "      <td>Краснодар</td>\n",
       "      <td>ultra</td>\n",
       "      <td>1000</td>\n",
       "      <td>30720</td>\n",
       "      <td>3000</td>\n",
       "      <td>1950</td>\n",
       "      <td>150</td>\n",
       "      <td>1</td>\n",
       "      <td>1</td>\n",
       "      <td>0.0</td>\n",
       "      <td>0.0</td>\n",
       "      <td>0.0</td>\n",
       "      <td>1950.0</td>\n",
       "    </tr>\n",
       "    <tr>\n",
       "      <th>3</th>\n",
       "      <td>1000</td>\n",
       "      <td>52.0</td>\n",
       "      <td>408.0</td>\n",
       "      <td>81.0</td>\n",
       "      <td>14.0</td>\n",
       "      <td>Краснодар</td>\n",
       "      <td>ultra</td>\n",
       "      <td>1000</td>\n",
       "      <td>30720</td>\n",
       "      <td>3000</td>\n",
       "      <td>1950</td>\n",
       "      <td>150</td>\n",
       "      <td>1</td>\n",
       "      <td>1</td>\n",
       "      <td>0.0</td>\n",
       "      <td>0.0</td>\n",
       "      <td>0.0</td>\n",
       "      <td>1950.0</td>\n",
       "    </tr>\n",
       "    <tr>\n",
       "      <th>4</th>\n",
       "      <td>1000</td>\n",
       "      <td>58.0</td>\n",
       "      <td>466.0</td>\n",
       "      <td>57.0</td>\n",
       "      <td>15.0</td>\n",
       "      <td>Краснодар</td>\n",
       "      <td>ultra</td>\n",
       "      <td>1000</td>\n",
       "      <td>30720</td>\n",
       "      <td>3000</td>\n",
       "      <td>1950</td>\n",
       "      <td>150</td>\n",
       "      <td>1</td>\n",
       "      <td>1</td>\n",
       "      <td>0.0</td>\n",
       "      <td>0.0</td>\n",
       "      <td>0.0</td>\n",
       "      <td>1950.0</td>\n",
       "    </tr>\n",
       "    <tr>\n",
       "      <th>5</th>\n",
       "      <td>1000</td>\n",
       "      <td>57.0</td>\n",
       "      <td>350.0</td>\n",
       "      <td>73.0</td>\n",
       "      <td>15.0</td>\n",
       "      <td>Краснодар</td>\n",
       "      <td>ultra</td>\n",
       "      <td>1000</td>\n",
       "      <td>30720</td>\n",
       "      <td>3000</td>\n",
       "      <td>1950</td>\n",
       "      <td>150</td>\n",
       "      <td>1</td>\n",
       "      <td>1</td>\n",
       "      <td>0.0</td>\n",
       "      <td>0.0</td>\n",
       "      <td>0.0</td>\n",
       "      <td>1950.0</td>\n",
       "    </tr>\n",
       "    <tr>\n",
       "      <th>6</th>\n",
       "      <td>1000</td>\n",
       "      <td>43.0</td>\n",
       "      <td>338.0</td>\n",
       "      <td>58.0</td>\n",
       "      <td>15.0</td>\n",
       "      <td>Краснодар</td>\n",
       "      <td>ultra</td>\n",
       "      <td>1000</td>\n",
       "      <td>30720</td>\n",
       "      <td>3000</td>\n",
       "      <td>1950</td>\n",
       "      <td>150</td>\n",
       "      <td>1</td>\n",
       "      <td>1</td>\n",
       "      <td>0.0</td>\n",
       "      <td>0.0</td>\n",
       "      <td>0.0</td>\n",
       "      <td>1950.0</td>\n",
       "    </tr>\n",
       "    <tr>\n",
       "      <th>7</th>\n",
       "      <td>1000</td>\n",
       "      <td>46.0</td>\n",
       "      <td>333.0</td>\n",
       "      <td>70.0</td>\n",
       "      <td>10.0</td>\n",
       "      <td>Краснодар</td>\n",
       "      <td>ultra</td>\n",
       "      <td>1000</td>\n",
       "      <td>30720</td>\n",
       "      <td>3000</td>\n",
       "      <td>1950</td>\n",
       "      <td>150</td>\n",
       "      <td>1</td>\n",
       "      <td>1</td>\n",
       "      <td>0.0</td>\n",
       "      <td>0.0</td>\n",
       "      <td>0.0</td>\n",
       "      <td>1950.0</td>\n",
       "    </tr>\n",
       "    <tr>\n",
       "      <th>8</th>\n",
       "      <td>1003</td>\n",
       "      <td>55.0</td>\n",
       "      <td>380.0</td>\n",
       "      <td>37.0</td>\n",
       "      <td>9.0</td>\n",
       "      <td>Москва</td>\n",
       "      <td>ultra</td>\n",
       "      <td>1000</td>\n",
       "      <td>30720</td>\n",
       "      <td>3000</td>\n",
       "      <td>1950</td>\n",
       "      <td>150</td>\n",
       "      <td>1</td>\n",
       "      <td>1</td>\n",
       "      <td>0.0</td>\n",
       "      <td>0.0</td>\n",
       "      <td>0.0</td>\n",
       "      <td>1950.0</td>\n",
       "    </tr>\n",
       "    <tr>\n",
       "      <th>9</th>\n",
       "      <td>1003</td>\n",
       "      <td>134.0</td>\n",
       "      <td>961.0</td>\n",
       "      <td>91.0</td>\n",
       "      <td>13.0</td>\n",
       "      <td>Москва</td>\n",
       "      <td>ultra</td>\n",
       "      <td>1000</td>\n",
       "      <td>30720</td>\n",
       "      <td>3000</td>\n",
       "      <td>1950</td>\n",
       "      <td>150</td>\n",
       "      <td>1</td>\n",
       "      <td>1</td>\n",
       "      <td>0.0</td>\n",
       "      <td>0.0</td>\n",
       "      <td>0.0</td>\n",
       "      <td>1950.0</td>\n",
       "    </tr>\n",
       "  </tbody>\n",
       "</table>\n",
       "</div>"
      ],
      "text/plain": [
       "   user_id  calls_number  calls_duration  messages_count  gb_used       city  \\\n",
       "0     1000          22.0           159.0            22.0      3.0  Краснодар   \n",
       "1     1000          43.0           172.0            60.0     23.0  Краснодар   \n",
       "2     1000          47.0           340.0            75.0     14.0  Краснодар   \n",
       "3     1000          52.0           408.0            81.0     14.0  Краснодар   \n",
       "4     1000          58.0           466.0            57.0     15.0  Краснодар   \n",
       "5     1000          57.0           350.0            73.0     15.0  Краснодар   \n",
       "6     1000          43.0           338.0            58.0     15.0  Краснодар   \n",
       "7     1000          46.0           333.0            70.0     10.0  Краснодар   \n",
       "8     1003          55.0           380.0            37.0      9.0     Москва   \n",
       "9     1003         134.0           961.0            91.0     13.0     Москва   \n",
       "\n",
       "  tariff_name  messages_included  mb_per_month_included  minutes_included  \\\n",
       "0       ultra               1000                  30720              3000   \n",
       "1       ultra               1000                  30720              3000   \n",
       "2       ultra               1000                  30720              3000   \n",
       "3       ultra               1000                  30720              3000   \n",
       "4       ultra               1000                  30720              3000   \n",
       "5       ultra               1000                  30720              3000   \n",
       "6       ultra               1000                  30720              3000   \n",
       "7       ultra               1000                  30720              3000   \n",
       "8       ultra               1000                  30720              3000   \n",
       "9       ultra               1000                  30720              3000   \n",
       "\n",
       "   rub_monthly_fee  rub_per_gb  rub_per_message  rub_per_minute  \\\n",
       "0             1950         150                1               1   \n",
       "1             1950         150                1               1   \n",
       "2             1950         150                1               1   \n",
       "3             1950         150                1               1   \n",
       "4             1950         150                1               1   \n",
       "5             1950         150                1               1   \n",
       "6             1950         150                1               1   \n",
       "7             1950         150                1               1   \n",
       "8             1950         150                1               1   \n",
       "9             1950         150                1               1   \n",
       "\n",
       "   extra_paid_for_calls  extra_paid_for_messages  extra_paid_for_internet  \\\n",
       "0                   0.0                      0.0                      0.0   \n",
       "1                   0.0                      0.0                      0.0   \n",
       "2                   0.0                      0.0                      0.0   \n",
       "3                   0.0                      0.0                      0.0   \n",
       "4                   0.0                      0.0                      0.0   \n",
       "5                   0.0                      0.0                      0.0   \n",
       "6                   0.0                      0.0                      0.0   \n",
       "7                   0.0                      0.0                      0.0   \n",
       "8                   0.0                      0.0                      0.0   \n",
       "9                   0.0                      0.0                      0.0   \n",
       "\n",
       "   total_fee  \n",
       "0     1950.0  \n",
       "1     1950.0  \n",
       "2     1950.0  \n",
       "3     1950.0  \n",
       "4     1950.0  \n",
       "5     1950.0  \n",
       "6     1950.0  \n",
       "7     1950.0  \n",
       "8     1950.0  \n",
       "9     1950.0  "
      ]
     },
     "execution_count": 144,
     "metadata": {},
     "output_type": "execute_result"
    }
   ],
   "source": [
    "df['total_fee'] = df['rub_monthly_fee'] + df['extra_paid_for_calls'] + df['extra_paid_for_messages'] + df['extra_paid_for_internet']\n",
    "\n",
    "df.head(10)"
   ]
  },
  {
   "cell_type": "markdown",
   "metadata": {
    "id": "V-9rqWRp18sy"
   },
   "source": [
    "Посмотрим на распределение - кто и сколько платит:"
   ]
  },
  {
   "cell_type": "code",
   "execution_count": 81,
   "metadata": {
    "colab": {
     "base_uri": "https://localhost:8080/",
     "height": 265
    },
    "id": "36CvRtXp2Gg9",
    "outputId": "6c71d502-4490-4cbe-a5c7-69e6cd349b97"
   },
   "outputs": [
    {
     "data": {
      "image/png": "[encoded data removed]",
      "text/plain": [
       "<Figure size 432x288 with 1 Axes>"
      ]
     },
     "metadata": {
      "needs_background": "light"
     },
     "output_type": "display_data"
    }
   ],
   "source": [
    "plt.hist(\n",
    "    df[df['tariff_name'] == 'ultra']['total_fee'], \n",
    "    label='Ultra',\n",
    "    bins = 25, \n",
    "    alpha = 0.6)\n",
    "\n",
    "plt.hist(\n",
    "    df[df['tariff_name'] == 'smart']['total_fee'], \n",
    "    label='Smart',\n",
    "    bins = 25,\n",
    "    alpha = 0.4)\n",
    "\n",
    "plt.legend()\n",
    "plt.show()"
   ]
  },
  {
   "cell_type": "markdown",
   "metadata": {
    "id": "MhqnOP_B2eF1"
   },
   "source": [
    "Получается, что есть две грубых группы:\n",
    "- те, кто пользуются только тем, что включено в тариф,\n",
    "- все остальные - оплата от них, похоже, распределена  нормально,\n",
    "- при этом в тарифе Ульра лишь незначительное количество пользователей платит сверх тарифа, а в тарифе Смарт таких гораздо больше."
   ]
  },
  {
   "cell_type": "markdown",
   "metadata": {
    "id": "Qxh6PPfpWcSH"
   },
   "source": [
    "Посчитаем, сколько с сумме приносят денег пользователи обоих тарифов:"
   ]
  },
  {
   "cell_type": "code",
   "execution_count": 82,
   "metadata": {
    "colab": {
     "base_uri": "https://localhost:8080/"
    },
    "id": "9gwIE1MXXAsu",
    "outputId": "d443416e-c621-4453-eb6f-b8ef519373ba"
   },
   "outputs": [
    {
     "name": "stdout",
     "output_type": "stream",
     "text": [
      "Суммарная выручка от пользователей тарифа Ultra: 2039100.0\n",
      "Суммарная выручка от пользователей тарифа Smart: 2875351.0\n"
     ]
    }
   ],
   "source": [
    "print('Суммарная выручка от пользователей тарифа Ultra:', df.query('tariff_name == \"ultra\"')['total_fee'].sum())\n",
    "print('Суммарная выручка от пользователей тарифа Smart:', df.query('tariff_name == \"smart\"')['total_fee'].sum())"
   ]
  },
  {
   "cell_type": "code",
   "execution_count": 83,
   "metadata": {
    "colab": {
     "base_uri": "https://localhost:8080/"
    },
    "id": "-R3OhqrDZIac",
    "outputId": "334a5458-2305-46ce-93e7-b9fa195abed0"
   },
   "outputs": [
    {
     "name": "stdout",
     "output_type": "stream",
     "text": [
      "Количество пользователей тарифа Ultra: 985\n",
      "Количество  пользователей тарифа Smart: 2229\n"
     ]
    }
   ],
   "source": [
    "print('Количество пользователей тарифа Ultra:', df.query('tariff_name == \"ultra\"')['total_fee'].count())\n",
    "print('Количество  пользователей тарифа Smart:', df.query('tariff_name == \"smart\"')['total_fee'].count())"
   ]
  },
  {
   "cell_type": "markdown",
   "metadata": {
    "id": "KHfy0_IiZa3m"
   },
   "source": [
    "Таким образом пользователей тарифа Smart в 2.2 раза больше, чем Ultra но приносят они в 1.5 раза больше выручки."
   ]
  },
  {
   "cell_type": "markdown",
   "metadata": {
    "id": "nen7oR1aVVEG"
   },
   "source": [
    "<a id=\"step_3\"></a>\n",
    "## Анализ данных.\n",
    "[к оглавлению](#back)\n",
    "\n",
    "Опишите поведение клиентов оператора, исходя из выборки. Сколько минут разговора, сколько сообщений и какой объём интернет-трафика требуется пользователям каждого тарифа в месяц? Посчитайте среднее количество, дисперсию и стандартное отклонение. Постройте гистограммы. Опишите распределения."
   ]
  },
  {
   "cell_type": "markdown",
   "metadata": {
    "id": "h1qGcc7K31PX"
   },
   "source": [
    "Посчитаем значения для тарифа \"Ультра\".\n",
    "\n",
    "**Количество минут:**"
   ]
  },
  {
   "cell_type": "code",
   "execution_count": 84,
   "metadata": {
    "colab": {
     "base_uri": "https://localhost:8080/",
     "height": 265
    },
    "id": "W75x2xHe_Us5",
    "outputId": "100a76af-2889-4221-c311-30b6a2506f69"
   },
   "outputs": [
    {
     "data": {
      "image/png": "[encoded data removed]",
      "text/plain": [
       "<Figure size 720x576 with 1 Axes>"
      ]
     },
     "metadata": {},
     "output_type": "display_data"
    }
   ],
   "source": [
    "plt.style.use('ggplot') # Добавлю стиль. Запустить достаточно лишь 1 раз.\n",
    "\n",
    "df.groupby('tariff_name')['calls_duration'].plot.hist(alpha=0.5, legend=True, bins=25, figsize=(10,8))\n",
    "\n",
    "#plt.legend(['Смарт', 'Ультра'])\n",
    "plt.title('Количество истраченных минут в зависимости от тарифа.')\n",
    "plt.xlabel('Количество израсходованных минут.')\n",
    "plt.ylabel('Количество абонентов.')\n",
    "\n",
    "plt.legend()\n",
    "plt.show()"
   ]
  },
  {
   "cell_type": "markdown",
   "metadata": {
    "id": "lgXi8-ACfHEQ"
   },
   "source": [
    "Похоже, что часть пользователей в обоих тарифах явно берут их не для того, чтобы вообще звонить. \n",
    "\n",
    "Посчитаем, какая доля в каждом тарифе не пользуется звонками: "
   ]
  },
  {
   "cell_type": "code",
   "execution_count": 86,
   "metadata": {
    "colab": {
     "base_uri": "https://localhost:8080/"
    },
    "id": "D1rtiRR6fQQJ",
    "outputId": "ab3c656a-693d-46cf-d50c-9ae2fd4e7506"
   },
   "outputs": [
    {
     "name": "stdout",
     "output_type": "stream",
     "text": [
      "0.003589053387169134\n"
     ]
    }
   ],
   "source": [
    "print(\n",
    "    df.query('tariff_name == \"smart\" & calls_duration == 0')['calls_duration'].count() / \n",
    "    df.query('tariff_name == \"smart\"')['calls_duration'].count()\n",
    "    )"
   ]
  },
  {
   "cell_type": "code",
   "execution_count": 87,
   "metadata": {
    "colab": {
     "base_uri": "https://localhost:8080/"
    },
    "id": "wSo6MCjOhcHE",
    "outputId": "c2803e55-b768-4b8d-f23b-8ff43c1e483e"
   },
   "outputs": [
    {
     "name": "stdout",
     "output_type": "stream",
     "text": [
      "0.03857868020304569\n"
     ]
    }
   ],
   "source": [
    "print(\n",
    "    df.query('tariff_name == \"ultra\" & calls_duration == 0')['calls_duration'].count() / \n",
    "    df.query('tariff_name == \"ultra\"')['calls_duration'].count()\n",
    "    )"
   ]
  },
  {
   "cell_type": "markdown",
   "metadata": {
    "id": "hCTdTkJDhpq8"
   },
   "source": [
    "Оказывается, их не так много - для Смарта - 0.4%, для Ультра - около 4%."
   ]
  },
  {
   "cell_type": "markdown",
   "metadata": {
    "id": "JWODXie4oKp4"
   },
   "source": [
    "Также любопытный факт - судя по графику выше получается, что пользователи Смарта говорят гораздо больше сверх тарифа, чем пользователи Ультры. \n",
    "\n",
    "Посчитаем их доли:"
   ]
  },
  {
   "cell_type": "code",
   "execution_count": 88,
   "metadata": {
    "colab": {
     "base_uri": "https://localhost:8080/"
    },
    "id": "uN_Q9EbCoqvE",
    "outputId": "ac59cbc4-4afb-44f1-bb0c-49b5fd9f8b82"
   },
   "outputs": [
    {
     "name": "stdout",
     "output_type": "stream",
     "text": [
      "0.0\n"
     ]
    }
   ],
   "source": [
    "print(\n",
    "    df.query('tariff_name == \"ultra\" & calls_duration > minutes_included')['calls_duration'].count() / \n",
    "    df.query('tariff_name == \"ultra\"')['calls_duration'].count()\n",
    ")"
   ]
  },
  {
   "cell_type": "code",
   "execution_count": 89,
   "metadata": {
    "colab": {
     "base_uri": "https://localhost:8080/"
    },
    "id": "aU49atNuq6WK",
    "outputId": "bada38f7-b296-4f38-8df3-cd103428b403"
   },
   "outputs": [
    {
     "name": "stdout",
     "output_type": "stream",
     "text": [
      "0.3382682817406909\n"
     ]
    }
   ],
   "source": [
    "print(\n",
    "    df.query('tariff_name == \"smart\" & calls_duration > minutes_included')['calls_duration'].count() / \n",
    "    df.query('tariff_name == \"smart\"')['calls_duration'].count()\n",
    ")"
   ]
  },
  {
   "cell_type": "markdown",
   "metadata": {
    "id": "YwFgoa0irLeF"
   },
   "source": [
    "То есть в тарифе Ультра никто не \"выговаривает\" свои минуты, при этом в смарте - таких 34%!"
   ]
  },
  {
   "cell_type": "markdown",
   "metadata": {
    "id": "b5W1S4oior2q"
   },
   "source": [
    "Посчитаем основные статистические характеристики выборки в зависимости от тарифа:"
   ]
  },
  {
   "cell_type": "code",
   "execution_count": 90,
   "metadata": {
    "colab": {
     "base_uri": "https://localhost:8080/"
    },
    "id": "SvalTUy15H1M",
    "outputId": "fbdff04c-f8ab-4f1d-f23a-56fb4b901218"
   },
   "outputs": [
    {
     "name": "stdout",
     "output_type": "stream",
     "text": [
      "Среднее количество минут Ultra: 526.6233502538071\n",
      "Среднее количество минут Smart: 417.9349484073576\n",
      "Дисперсия по количеству минут Ultra: 100873.63339730098\n",
      "Дисперсия по количеству минут Smart: 36219.31578434428\n",
      "Стандартное отклонение по количеству минут Ultra: 317.6060978591264\n",
      "Стандартное отклонение по количеству минут Smart: 190.31372988921288\n"
     ]
    }
   ],
   "source": [
    "print('Среднее количество минут Ultra:', df.loc[df['tariff_name'] == 'ultra', 'calls_duration'].mean())\n",
    "print('Среднее количество минут Smart:', df.loc[df['tariff_name'] == 'smart', 'calls_duration'].mean())\n",
    "\n",
    "print('Дисперсия по количеству минут Ultra:', df.loc[df['tariff_name'] == 'ultra', 'calls_duration'].var())\n",
    "print('Дисперсия по количеству минут Smart:', df.loc[df['tariff_name'] == 'smart', 'calls_duration'].var())\n",
    "\n",
    "print('Стандартное отклонение по количеству минут Ultra:', df.loc[df['tariff_name'] == 'ultra', 'calls_duration'].std())\n",
    "print('Стандартное отклонение по количеству минут Smart:', df.loc[df['tariff_name'] == 'smart', 'calls_duration'].std())"
   ]
  },
  {
   "cell_type": "markdown",
   "metadata": {
    "id": "nI3nDW9X8Ofo"
   },
   "source": [
    "**Количество сообщений:**"
   ]
  },
  {
   "cell_type": "code",
   "execution_count": 129,
   "metadata": {
    "colab": {
     "base_uri": "https://localhost:8080/",
     "height": 265
    },
    "id": "VG7ZOP4B54xM",
    "outputId": "26ac52ea-3bc6-4cc5-a8d4-9074dfb2a5d5"
   },
   "outputs": [
    {
     "data": {
      "image/png": "[encoded data removed]",
      "text/plain": [
       "<Figure size 720x576 with 1 Axes>"
      ]
     },
     "metadata": {},
     "output_type": "display_data"
    }
   ],
   "source": [
    "plt.style.use('ggplot') # Добавлю стиль. Запустить достаточно лишь 1 раз.\n",
    "\n",
    "df.groupby('tariff_name')['messages_count'].plot.hist(alpha=0.5, legend=True, bins=25, figsize=(10,8))\n",
    "\n",
    "#plt.legend(['Смарт', 'Ультра'])\n",
    "plt.title('Количество истраченных сообщений в зависимости от тарифа.')\n",
    "plt.xlabel('Количество израсходованных сообщений.')\n",
    "plt.ylabel('Количество абонентов.')\n",
    "\n",
    "plt.legend()\n",
    "plt.show()"
   ]
  },
  {
   "cell_type": "markdown",
   "metadata": {
    "id": "J25LevGHiOZj"
   },
   "source": [
    "Опять же, для обоих тарифов получается, что часть людей их не использует для СМС. Посмотрим, какая доля?"
   ]
  },
  {
   "cell_type": "code",
   "execution_count": 92,
   "metadata": {
    "colab": {
     "base_uri": "https://localhost:8080/"
    },
    "id": "HnUcWzQuic-5",
    "outputId": "2efc386a-e038-4d79-9462-52cd3b647712"
   },
   "outputs": [
    {
     "name": "stdout",
     "output_type": "stream",
     "text": [
      "0.13772992373261553\n"
     ]
    }
   ],
   "source": [
    "print(\n",
    "    df.query('tariff_name == \"smart\" & messages_count == 0')['messages_count'].count() / \n",
    "    df.query('tariff_name == \"smart\"')['messages_count'].count()\n",
    "    )"
   ]
  },
  {
   "cell_type": "code",
   "execution_count": 93,
   "metadata": {
    "colab": {
     "base_uri": "https://localhost:8080/"
    },
    "id": "9thU6UEAiWia",
    "outputId": "8c46df02-8cbe-4cb2-df44-92233b6c4f77"
   },
   "outputs": [
    {
     "name": "stdout",
     "output_type": "stream",
     "text": [
      "0.19289340101522842\n"
     ]
    }
   ],
   "source": [
    "print(\n",
    "    df.query('tariff_name == \"ultra\" & messages_count == 0')['messages_count'].count() / \n",
    "    df.query('tariff_name == \"ultra\"')['messages_count'].count()\n",
    "    )"
   ]
  },
  {
   "cell_type": "markdown",
   "metadata": {
    "id": "5kJzZTtqikc7"
   },
   "source": [
    "Здесь доля тех, кто не пользуется СМС - для Смарта - 14%, для Ультра - 19%. "
   ]
  },
  {
   "cell_type": "markdown",
   "metadata": {
    "id": "31XFwefCjOLw"
   },
   "source": [
    "Интересно, насколько пересекаются множества тех, кто НЕ пользуется ни разговорами, ни СМС?"
   ]
  },
  {
   "cell_type": "code",
   "execution_count": 94,
   "metadata": {
    "colab": {
     "base_uri": "https://localhost:8080/"
    },
    "id": "4tINtXlAjdkQ",
    "outputId": "78e2ba35-408b-49b4-abe5-dd05304ad09e"
   },
   "outputs": [
    {
     "name": "stdout",
     "output_type": "stream",
     "text": [
      "0.0\n"
     ]
    }
   ],
   "source": [
    "print(\n",
    "    df.query('tariff_name == \"smart\" & messages_count == 0 & calls_duration ==0')['messages_count'].count() / \n",
    "    df.query('tariff_name == \"smart\"')['messages_count'].count()\n",
    "    )"
   ]
  },
  {
   "cell_type": "code",
   "execution_count": 95,
   "metadata": {
    "colab": {
     "base_uri": "https://localhost:8080/"
    },
    "id": "vmTnImZKjf1P",
    "outputId": "53bfbc17-0cb6-4230-f4e1-f500868ce6ee"
   },
   "outputs": [
    {
     "name": "stdout",
     "output_type": "stream",
     "text": [
      "0.0020304568527918783\n"
     ]
    }
   ],
   "source": [
    "print(\n",
    "    df.query('tariff_name == \"ultra\" & messages_count == 0  & calls_duration == 0')['messages_count'].count() / \n",
    "    df.query('tariff_name == \"ultra\"')['messages_count'].count()\n",
    "    )"
   ]
  },
  {
   "cell_type": "markdown",
   "metadata": {
    "id": "2DTgcL8OsI5h"
   },
   "source": [
    "Из графика выше видно также, что в тарифе Ультра никто не использует весь пакет СМС. При этом в Смарте - такая доля существенная.\n",
    "\n",
    "Посчитаем их долю:"
   ]
  },
  {
   "cell_type": "code",
   "execution_count": 96,
   "metadata": {
    "colab": {
     "base_uri": "https://localhost:8080/"
    },
    "id": "OYCbzCGmszLe",
    "outputId": "99e2151b-69ae-46de-d867-51ad4c5aa954"
   },
   "outputs": [
    {
     "name": "stdout",
     "output_type": "stream",
     "text": [
      "0.0\n"
     ]
    }
   ],
   "source": [
    "print(\n",
    "    df.query('tariff_name == \"ultra\" & messages_count > messages_included')['messages_count'].count() / \n",
    "    df.query('tariff_name == \"ultra\"')['messages_count'].count()\n",
    ")"
   ]
  },
  {
   "cell_type": "code",
   "execution_count": 97,
   "metadata": {
    "colab": {
     "base_uri": "https://localhost:8080/"
    },
    "id": "Ni2SgNiGstGY",
    "outputId": "01415f83-1c84-4373-85a9-5f9cd9ab065b"
   },
   "outputs": [
    {
     "name": "stdout",
     "output_type": "stream",
     "text": [
      "0.253028263795424\n"
     ]
    }
   ],
   "source": [
    "print(\n",
    "    df.query('tariff_name == \"smart\" & messages_count > messages_included')['messages_count'].count() / \n",
    "    df.query('tariff_name == \"smart\"')['messages_count'].count()\n",
    ")"
   ]
  },
  {
   "cell_type": "markdown",
   "metadata": {
    "id": "VAnMmbmftBcP"
   },
   "source": [
    "То есть 25% всех пользователей пишут СМС сверх включённого в тариф."
   ]
  },
  {
   "cell_type": "markdown",
   "metadata": {
    "id": "yTV8OxVFr7aw"
   },
   "source": [
    "Посчитаем основные статистические характеристики для количества сообщений:"
   ]
  },
  {
   "cell_type": "code",
   "execution_count": 98,
   "metadata": {
    "colab": {
     "base_uri": "https://localhost:8080/"
    },
    "id": "-ULMuqSp5FYY",
    "outputId": "cd319877-470e-4925-b29d-6e04b1e84df4"
   },
   "outputs": [
    {
     "name": "stdout",
     "output_type": "stream",
     "text": [
      "Среднее количество сообщений Ultra: 49.36345177664975\n",
      "Среднее количество сообщений Smart: 33.384028712427096\n",
      "Дисперсия по количеству сообщений Ultra: 2285.2661425446736\n",
      "Дисперсия по количеству сообщений Smart: 796.8129584480083\n",
      "Стандартное отклонение по количеству сообщений Ultra: 47.804457350174715\n",
      "Стандартное отклонение по количеству сообщений Smart: 28.22787555676141\n"
     ]
    }
   ],
   "source": [
    "print('Среднее количество сообщений Ultra:', df.loc[df['tariff_name'] == 'ultra', 'messages_count'].mean())\n",
    "print('Среднее количество сообщений Smart:', df.loc[df['tariff_name'] == 'smart', 'messages_count'].mean())\n",
    "\n",
    "print('Дисперсия по количеству сообщений Ultra:', df.loc[df['tariff_name'] == 'ultra', 'messages_count'].var())\n",
    "print('Дисперсия по количеству сообщений Smart:', df.loc[df['tariff_name'] == 'smart', 'messages_count'].var())\n",
    "\n",
    "print('Стандартное отклонение по количеству сообщений Ultra:', df.loc[df['tariff_name'] == 'ultra', 'messages_count'].std())\n",
    "print('Стандартное отклонение по количеству сообщений Smart:', df.loc[df['tariff_name'] == 'smart', 'messages_count'].std())"
   ]
  },
  {
   "cell_type": "markdown",
   "metadata": {
    "id": "4QmTv5YDjx4O"
   },
   "source": [
    "Их доля существенно меньше, чем тех, кто не поьзуется чем-то одним. Значит, они не берут только ради интернета.\n",
    "\n",
    "В остальном распределение выборки похоже на нормальное.\n",
    "\n",
    "При этом не видно ни в одном тарифе никто не использует до конца свой пакет СМС."
   ]
  },
  {
   "cell_type": "markdown",
   "metadata": {
    "id": "sknAAcIS-vaT"
   },
   "source": [
    "**Количество потребляемого трафика:**"
   ]
  },
  {
   "cell_type": "code",
   "execution_count": 130,
   "metadata": {
    "colab": {
     "base_uri": "https://localhost:8080/",
     "height": 265
    },
    "id": "ppJ-mAuK-yOR",
    "outputId": "ec63897b-e30f-445c-a7c4-9453f24edfc9"
   },
   "outputs": [
    {
     "data": {
      "image/png": "[encoded data removed]",
      "text/plain": [
       "<Figure size 720x576 with 1 Axes>"
      ]
     },
     "metadata": {},
     "output_type": "display_data"
    }
   ],
   "source": [
    "plt.style.use('ggplot') # Добавлю стиль. Запустить достаточно лишь 1 раз.\n",
    "\n",
    "df.groupby('tariff_name')['gb_used'].plot.hist(alpha=0.5, legend=True, bins=25, figsize=(10,8))\n",
    "\n",
    "#plt.legend(['Смарт', 'Ультра'])\n",
    "plt.title('Количество истраченных сообщений в зависимости от тарифа.')\n",
    "plt.xlabel('Количество израсходованных сообщений.')\n",
    "plt.ylabel('Количество абонентов.')\n",
    "\n",
    "plt.legend()\n",
    "plt.show()"
   ]
  },
  {
   "cell_type": "markdown",
   "metadata": {
    "id": "m_mRXq6Wm-wK"
   },
   "source": [
    "При этом похоже, что значительная часть пользователей обоих тарифов сильно перерасходует объём, включённый в тариф. \n",
    "\n",
    "Посчитаем их долю:"
   ]
  },
  {
   "cell_type": "code",
   "execution_count": 100,
   "metadata": {},
   "outputs": [
    {
     "data": {
      "text/plain": [
       "count    3214.000000\n",
       "mean       17.299004\n",
       "std         7.400584\n",
       "min         0.000000\n",
       "25%        13.000000\n",
       "50%        17.000000\n",
       "75%        21.000000\n",
       "max        49.000000\n",
       "Name: gb_used, dtype: float64"
      ]
     },
     "execution_count": 100,
     "metadata": {},
     "output_type": "execute_result"
    }
   ],
   "source": [
    "df['gb_used'].describe()"
   ]
  },
  {
   "cell_type": "code",
   "execution_count": 101,
   "metadata": {
    "colab": {
     "base_uri": "https://localhost:8080/"
    },
    "id": "Zh1QOcYhm_tS",
    "outputId": "532614c4-e074-4402-91aa-3f1dce297c56"
   },
   "outputs": [
    {
     "name": "stdout",
     "output_type": "stream",
     "text": [
      "0.13604060913705585\n"
     ]
    }
   ],
   "source": [
    "print(\n",
    "    df.query('tariff_name == \"ultra\" & (gb_used * 1024) > mb_per_month_included')['tariff_name'].count() / \n",
    "    df.query('tariff_name == \"ultra\"')['tariff_name'].count()\n",
    ")"
   ]
  },
  {
   "cell_type": "code",
   "execution_count": 102,
   "metadata": {
    "colab": {
     "base_uri": "https://localhost:8080/"
    },
    "id": "eArM6mo4nDkY",
    "outputId": "059e6898-1d28-46cf-fe34-837a5c7fc4f2"
   },
   "outputs": [
    {
     "name": "stdout",
     "output_type": "stream",
     "text": [
      "0.5850157021085689\n"
     ]
    }
   ],
   "source": [
    "print(\n",
    "    df.query('tariff_name == \"smart\" & (gb_used * 1024) > mb_per_month_included')['tariff_name'].count() / \n",
    "    df.query('tariff_name == \"smart\"')['tariff_name'].count()\n",
    ")"
   ]
  },
  {
   "cell_type": "markdown",
   "metadata": {
    "id": "_1uz7lXmnfQA"
   },
   "source": [
    "То есть аж 60% пользователей Smart-a используют больше включённого в тариф объёма! В то время, как у Ультры этот показатель в 4 раза меньше - около 15%. \n",
    "\n",
    "Отсюда гипотеза, что на пользователях Смарта заработать можно больше, чем на Ультры."
   ]
  },
  {
   "cell_type": "code",
   "execution_count": 105,
   "metadata": {
    "colab": {
     "base_uri": "https://localhost:8080/"
    },
    "id": "QNzEXAZgCGGt",
    "outputId": "d893a146-668e-4948-e8d2-f268efb52142"
   },
   "outputs": [
    {
     "name": "stdout",
     "output_type": "stream",
     "text": [
      "Среднее количество МБ Ultra: 19.494416243654822\n",
      "Среднее количество МБ Smart: 16.328847016599372\n",
      "Дисперсия по количеству МБ Ultra: 97.09168626965459\n",
      "Дисперсия по количеству МБ Smart: 33.02870517811161\n",
      "Стандартное отклонение по количеству МБ Ultra: 9.853511367510293\n",
      "Стандартное отклонение по количеству МБ Smart: 5.7470605685090534\n"
     ]
    }
   ],
   "source": [
    "print('Среднее количество МБ Ultra:', df.loc[df['tariff_name'] == 'ultra', 'gb_used'].mean())\n",
    "print('Среднее количество МБ Smart:', df.loc[df['tariff_name'] == 'smart', 'gb_used'].mean())\n",
    "\n",
    "print('Дисперсия по количеству МБ Ultra:', df.loc[df['tariff_name'] == 'ultra', 'gb_used'].var())\n",
    "print('Дисперсия по количеству МБ Smart:', df.loc[df['tariff_name'] == 'smart', 'gb_used'].var())\n",
    "\n",
    "print('Стандартное отклонение по количеству МБ Ultra:', df.loc[df['tariff_name'] == 'ultra', 'gb_used'].std())\n",
    "print('Стандартное отклонение по количеству МБ Smart:', df.loc[df['tariff_name'] == 'smart', 'gb_used'].std())"
   ]
  },
  {
   "cell_type": "markdown",
   "metadata": {
    "id": "2B59duO1i60o"
   },
   "source": [
    "Отметим, что в случае с обоими тарифами распределение выглядит близко к нормальному - здесь нет выбивающегося количества пользователей, которые бы не пользовались интернетом."
   ]
  },
  {
   "cell_type": "code",
   "execution_count": 118,
   "metadata": {
    "colab": {
     "base_uri": "https://localhost:8080/"
    },
    "id": "-MFsErBLFFxm",
    "outputId": "ebd39b08-4d19-4d0a-d096-73fea152c903"
   },
   "outputs": [
    {
     "name": "stdout",
     "output_type": "stream",
     "text": [
      "Количество пользователей тарифа \"Ультра\" 985\n",
      "Количество пользователей тарифа \"Смарт\" 2229\n"
     ]
    }
   ],
   "source": [
    "print('Количество пользователей тарифа \"Ультра\"', df[df['tariff_name'] == 'ultra']['tariff_name'].count())\n",
    "print('Количество пользователей тарифа \"Смарт\"', df[df['tariff_name'] == 'smart']['tariff_name'].count())"
   ]
  },
  {
   "cell_type": "markdown",
   "metadata": {
    "id": "YjE5__PoahIE"
   },
   "source": [
    "Также посчитаем, какая в общей выручке доля абонентской платы, а какая - у переплат."
   ]
  },
  {
   "cell_type": "code",
   "execution_count": 119,
   "metadata": {
    "id": "P_c2-QMOa1BT"
   },
   "outputs": [],
   "source": [
    "df['extra_paid_above_tarif'] = df['extra_paid_for_calls'] + df['extra_paid_for_internet'] + df['extra_paid_for_messages']"
   ]
  },
  {
   "cell_type": "code",
   "execution_count": 120,
   "metadata": {
    "colab": {
     "base_uri": "https://localhost:8080/",
     "height": 187
    },
    "id": "rZAYuLPca_Ya",
    "outputId": "dae37703-0dbf-4d7d-a258-7be39d60f8fa"
   },
   "outputs": [
    {
     "data": {
      "text/html": [
       "<div>\n",
       "<style scoped>\n",
       "    .dataframe tbody tr th:only-of-type {\n",
       "        vertical-align: middle;\n",
       "    }\n",
       "\n",
       "    .dataframe tbody tr th {\n",
       "        vertical-align: top;\n",
       "    }\n",
       "\n",
       "    .dataframe thead th {\n",
       "        text-align: right;\n",
       "    }\n",
       "</style>\n",
       "<table border=\"1\" class=\"dataframe\">\n",
       "  <thead>\n",
       "    <tr style=\"text-align: right;\">\n",
       "      <th></th>\n",
       "      <th>extra_paid_above_tarif</th>\n",
       "      <th>extra_paid_for_calls</th>\n",
       "      <th>extra_paid_for_internet</th>\n",
       "      <th>extra_paid_for_messages</th>\n",
       "    </tr>\n",
       "    <tr>\n",
       "      <th>tariff_name</th>\n",
       "      <th></th>\n",
       "      <th></th>\n",
       "      <th></th>\n",
       "      <th></th>\n",
       "    </tr>\n",
       "  </thead>\n",
       "  <tbody>\n",
       "    <tr>\n",
       "      <th>smart</th>\n",
       "      <td>1649401.0</td>\n",
       "      <td>278217.0</td>\n",
       "      <td>1332400.0</td>\n",
       "      <td>38784.0</td>\n",
       "    </tr>\n",
       "    <tr>\n",
       "      <th>ultra</th>\n",
       "      <td>118350.0</td>\n",
       "      <td>0.0</td>\n",
       "      <td>118350.0</td>\n",
       "      <td>0.0</td>\n",
       "    </tr>\n",
       "  </tbody>\n",
       "</table>\n",
       "</div>"
      ],
      "text/plain": [
       "             extra_paid_above_tarif  extra_paid_for_calls  \\\n",
       "tariff_name                                                 \n",
       "smart                     1649401.0              278217.0   \n",
       "ultra                      118350.0                   0.0   \n",
       "\n",
       "             extra_paid_for_internet  extra_paid_for_messages  \n",
       "tariff_name                                                    \n",
       "smart                      1332400.0                  38784.0  \n",
       "ultra                       118350.0                      0.0  "
      ]
     },
     "execution_count": 120,
     "metadata": {},
     "output_type": "execute_result"
    }
   ],
   "source": [
    "df.pivot_table(\n",
    "    index = 'tariff_name', \n",
    "    values = [\n",
    "              'extra_paid_for_calls', \n",
    "              'extra_paid_for_messages', \n",
    "              'extra_paid_for_internet', \n",
    "              'extra_paid_above_tarif'\n",
    "              ],\n",
    "    aggfunc = 'sum'\n",
    "    )"
   ]
  },
  {
   "cell_type": "markdown",
   "metadata": {
    "id": "Cv8Y5VXWdEXf"
   },
   "source": [
    "Посчитаем, сколько пла"
   ]
  },
  {
   "cell_type": "markdown",
   "metadata": {
    "id": "bx4rpW1tEFeI"
   },
   "source": [
    "#### Выводы: ####\n",
    "* 1 = количество пользователей тарифов - отличается примерно в 2 раза. Пользователей Смарта 2200+, Ультра - 1000. \n",
    "* 2 = есть группы пользователей, которые из 3х типов услуг пользуются лишь одной или двумя.\n",
    "* 3 = Среди пользователей  тарифа \"Смарт\" количество тех, кто выходит за пределы предоплаченного - существенно выше:\n",
    "\n",
    "|Тариф|Минуты|СМС|Мегабайты|\n",
    "|----|---|---|---|\n",
    "|Смарт|34%|25%|60%|\n",
    "|Ультра|0%|0%|15%|\n",
    "\n",
    "* Суммарная выручка от пользователей тарифа Ultra: 2_043_966. При этом вклад переплат = 1_677_217 (82%).  Суммарная выручка от пользователей тарифа Smart: 2_903_717. При этом вклад переплат = 121_266 (4%)\n",
    "* Отсюда можно сделать вывод, что существенно влиять на выручку можно, двигая границы включённых услуг в тариф, и меняя абонентскую плату. "
   ]
  },
  {
   "cell_type": "markdown",
   "metadata": {
    "id": "jkpZLLQQVVEH"
   },
   "source": [
    "<a id=\"step_4\"></a>\n",
    "## Проверка гипотез.\n",
    "[к оглавлению](#back)\n",
    "\n",
    "```* средняя выручка пользователей тарифов «Ультра» и «Смарт» различаются;\n",
    "* средняя выручка пользователей из Москвы отличается от выручки пользователей из других регионов.\n",
    "\n",
    "Пороговое значение alpha задайте самостоятельно.\n",
    "\n",
    "Поясните:\n",
    "* как вы формулировали нулевую и альтернативную гипотезы;\n",
    "* какой критерий использовали для проверки гипотез и почему.\n",
    "```"
   ]
  },
  {
   "cell_type": "markdown",
   "metadata": {
    "id": "Aq70SWbruntu"
   },
   "source": [
    "#### Гипотеза \"средняя выручка пользователей тарифов «Ультра» и «Смарт» различаются\"\n",
    "\n",
    "Согласно рекомендациям в методичке: \n",
    "`\"H₀ всегда формулируется так, чтобы использовать знак равенства. Другими словами, чтобы все данные лежали в районе изначально предполагаемого значения.`\n",
    "\n",
    "`Например, если вы исследуете, равна ли некоторая величина определённому числу, то нулевая гипотеза будет звучать: «да, равна». Если выясняете, есть ли разница между совокупностями, то нулевая гипотеза будет такая: «разницы нет, исследуемые параметры равны».\"`\n",
    "\n",
    "Переформулируем гипотезу H0:\n",
    "`\"Средняя выручка пользователей тарифов «Ультра» и  «Смарт» равны\"`.\n",
    "\n",
    "Сформулируем альтернтивную гипотезу H1:\n",
    "`\"Средняя выручка пользователей тарифов «Ультра» и  «Смарт» НЕ равны\"`\n",
    "\n",
    "Т.к. мы реально не знаем, куда может быть смещена средняя выручка одного датасета относительно другого, то будем проверять двустороннюю гипотезу. Критический уровень статистической значимости возьмём за `5%`. Т.к.  мы будем исследовать гипотезу о равенстве двух независимых генеральных совокупностей, то функцию для проверки будем использовать `ttest_ind`.\n",
    "\n",
    "Посчитаем, какое значение параметра `equal_var` использовать, т.к. по ряду параметров из этих выборок дисперсии действительно были разные."
   ]
  },
  {
   "cell_type": "code",
   "execution_count": 121,
   "metadata": {
    "colab": {
     "base_uri": "https://localhost:8080/"
    },
    "id": "9HOW-rAeIkUB",
    "outputId": "629c1bd6-d3c4-48ce-f1ed-46a50e9ccdc8"
   },
   "outputs": [
    {
     "name": "stdout",
     "output_type": "stream",
     "text": [
      "Дисперсия по сумме платежа от пользователей Ultra: 141516.7450786183\n",
      "Дисперсия по сумме платежа от пользователей Smart: 669785.7080064242\n"
     ]
    }
   ],
   "source": [
    "df_total_fee_ultra = df.query('tariff_name == \"ultra\"')\n",
    "df_total_fee_smart = df.query('tariff_name == \"smart\"')\n",
    "\n",
    "print('Дисперсия по сумме платежа от пользователей Ultra:', df_total_fee_ultra['total_fee'].var())\n",
    "print('Дисперсия по сумме платежа от пользователей Smart:', df_total_fee_smart['total_fee'].var())\n"
   ]
  },
  {
   "cell_type": "markdown",
   "metadata": {
    "id": "TjtTR-NGHSZo"
   },
   "source": [
    "Поскольку дисперсия выборок сильно отличается, то предположим, что это является достаточным основанием для того, чтобы посчитать, что дисперсия также отличается и для генеральной совокупности. Т.е. параметр будем учитывать как `equal_var = False`:"
   ]
  },
  {
   "cell_type": "code",
   "execution_count": 122,
   "metadata": {
    "colab": {
     "base_uri": "https://localhost:8080/"
    },
    "id": "bwLyBjVDujcu",
    "outputId": "17113170-e752-409b-88b1-2549969baebc"
   },
   "outputs": [
    {
     "name": "stdout",
     "output_type": "stream",
     "text": [
      "p-значение:  4.2606313931076085e-250\n",
      "Отвергаем нулевую гипотезу\n"
     ]
    }
   ],
   "source": [
    "results = st.ttest_ind(df_total_fee_ultra['total_fee'], df_total_fee_smart['total_fee'], equal_var = False)\n",
    "\n",
    "alpha = 0.01\n",
    "\n",
    "print('p-значение: ', results.pvalue)\n",
    "\n",
    "if results.pvalue < alpha:\n",
    "    print(\"Отвергаем нулевую гипотезу\")\n",
    "else:\n",
    "    print(\"Не получилось отвергнуть нулевую гипотезу\") "
   ]
  },
  {
   "cell_type": "markdown",
   "metadata": {
    "id": "uHqIPtGOMuKQ"
   },
   "source": [
    "Таким образом средняя выручка пользователей тарифов «Ультра» и «Смарт» НЕ равны.\n",
    "\n",
    "Проверм, что из них больше:"
   ]
  },
  {
   "cell_type": "code",
   "execution_count": 123,
   "metadata": {
    "colab": {
     "base_uri": "https://localhost:8080/"
    },
    "id": "TWJDnfxbM3Yq",
    "outputId": "6efeecdf-506e-4f4d-d6d7-dcdfe8ed5c45"
   },
   "outputs": [
    {
     "name": "stdout",
     "output_type": "stream",
     "text": [
      "Средняя выручка от пользователей Ultra: 2070.1522842639592\n",
      "Средняя выручка от пользователей Smart: 1289.9735307312696\n"
     ]
    }
   ],
   "source": [
    "print('Средняя выручка от пользователей Ultra:', df_total_fee_ultra['total_fee'].mean())\n",
    "print('Средняя выручка от пользователей Smart:', df_total_fee_smart['total_fee'].mean())"
   ]
  },
  {
   "cell_type": "markdown",
   "metadata": {
    "id": "KPnnVnubNKzg"
   },
   "source": [
    "Таким образом средняя выручка большое от пользователей тарифа Ultra.\n",
    "\n",
    "Данный вывод ожидаемы после полученя гистограмм на этапе анализа данных. Повторим её здесь:"
   ]
  },
  {
   "cell_type": "code",
   "execution_count": 131,
   "metadata": {
    "colab": {
     "base_uri": "https://localhost:8080/",
     "height": 265
    },
    "id": "YKQnA4EzRy-h",
    "outputId": "447407ed-90b6-4582-97ec-9fb9588c9572"
   },
   "outputs": [
    {
     "data": {
      "image/png": "[encoded data removed]",
      "text/plain": [
       "<Figure size 720x576 with 1 Axes>"
      ]
     },
     "metadata": {},
     "output_type": "display_data"
    }
   ],
   "source": [
    "plt.style.use('ggplot') # Добавлю стиль. Запустить достаточно лишь 1 раз.\n",
    "\n",
    "df.groupby('tariff_name')['total_fee'].plot.hist(alpha=0.5, legend=True, bins=25, figsize=(10,8))\n",
    "\n",
    "#plt.legend(['Смарт', 'Ультра'])\n",
    "plt.title('Количество истраченных сообщений в зависимости от тарифа.')\n",
    "plt.xlabel('Количество израсходованных сообщений.')\n",
    "plt.ylabel('Количество абонентов.')\n",
    "\n",
    "plt.legend()\n",
    "plt.show()"
   ]
  },
  {
   "cell_type": "markdown",
   "metadata": {
    "id": "ZZgjOAUpVVEI"
   },
   "source": [
    "#### Гипотеза \"средняя выручка пользователей из Москвы отличается от выручки пользователей из других регионов\"\n",
    "\n",
    "Переформулируем гипотезу H0: `\"средняя выручка пользователей из Москвы равна выручке пользователей из других регионов\"`.\n",
    "\n",
    "Сформулируем альтернтивную гипотезу H1: `\"средняя выручка пользователей из Москвы больше выручки пользователей из других регионов\"`."
   ]
  },
  {
   "cell_type": "markdown",
   "metadata": {
    "id": "ereAqhl2Nff_"
   },
   "source": [
    "Проверим, какая дисперсия по выручке в зависимости от региона:"
   ]
  },
  {
   "cell_type": "code",
   "execution_count": 125,
   "metadata": {
    "colab": {
     "base_uri": "https://localhost:8080/"
    },
    "id": "tWfs0pWmNnKt",
    "outputId": "a72a9302-962b-4d28-b647-6dc00cd437c6"
   },
   "outputs": [
    {
     "name": "stdout",
     "output_type": "stream",
     "text": [
      "Дисперсия по сумме платежа от жителей Москвы: 141516.7450786183\n",
      "Дисперсия по сумме платежа от жителей других городов: 669785.7080064242\n"
     ]
    }
   ],
   "source": [
    "df_total_fee_moscow = df.query('city == \"Москва\"')\n",
    "df_total_fee_not_moscow = df.query('city != \"Москва\"')\n",
    "\n",
    "print('Дисперсия по сумме платежа от жителей Москвы:', df_total_fee_ultra['total_fee'].var())\n",
    "print('Дисперсия по сумме платежа от жителей других городов:', df_total_fee_smart['total_fee'].var())"
   ]
  },
  {
   "cell_type": "markdown",
   "metadata": {
    "id": "W2QuK1mXNnkp"
   },
   "source": [
    "Поэтому будем использовать параметр `equal_var = False`:"
   ]
  },
  {
   "cell_type": "code",
   "execution_count": 126,
   "metadata": {
    "colab": {
     "base_uri": "https://localhost:8080/"
    },
    "id": "LspSv4naO_pH",
    "outputId": "a0d1efe2-3860-41fb-fa3c-162670d6c09f"
   },
   "outputs": [
    {
     "name": "stdout",
     "output_type": "stream",
     "text": [
      "p-значение:  0.5257376663729298\n",
      "Не получилось отвергнуть нулевую гипотезу\n"
     ]
    }
   ],
   "source": [
    "results = st.ttest_ind(df_total_fee_moscow['total_fee'], df_total_fee_not_moscow['total_fee'], equal_var = False)\n",
    "\n",
    "alpha = 0.01\n",
    "\n",
    "print('p-значение: ', results.pvalue)\n",
    "\n",
    "if results.pvalue < alpha:\n",
    "    print(\"Отвергаем нулевую гипотезу\")\n",
    "else:\n",
    "    print(\"Не получилось отвергнуть нулевую гипотезу\") "
   ]
  },
  {
   "cell_type": "markdown",
   "metadata": {
    "id": "Cy7Q1nGcPSe2"
   },
   "source": [
    "Таким образом мы не можем достоверно сказать, что выручка от москвичей и жителей другх городов существенно различается.\n",
    "\n",
    "Проверим это по выборке:"
   ]
  },
  {
   "cell_type": "code",
   "execution_count": 127,
   "metadata": {
    "colab": {
     "base_uri": "https://localhost:8080/"
    },
    "id": "5o8j_aBSPgtR",
    "outputId": "e4e2395e-a605-45b3-8064-63571375329d"
   },
   "outputs": [
    {
     "name": "stdout",
     "output_type": "stream",
     "text": [
      "Средняя выручка от жителей Москвы: 1546.7135842880523\n",
      "Средняя выручка от жителей других городов: 1524.9362274298885\n"
     ]
    }
   ],
   "source": [
    "print('Средняя выручка от жителей Москвы:', df_total_fee_moscow['total_fee'].mean())\n",
    "print('Средняя выручка от жителей других городов:', df_total_fee_not_moscow['total_fee'].mean())"
   ]
  },
  {
   "cell_type": "markdown",
   "metadata": {
    "id": "Z3WuR4VwPzD0"
   },
   "source": [
    "Действительно, они очень близки.\n",
    "\n",
    "Проверим это по гистограмме:"
   ]
  },
  {
   "cell_type": "code",
   "execution_count": 133,
   "metadata": {
    "colab": {
     "base_uri": "https://localhost:8080/",
     "height": 266
    },
    "id": "LVe_-coQQnnY",
    "outputId": "3ad840ac-cca5-408e-e78f-4e9b9bb4a22f"
   },
   "outputs": [
    {
     "data": {
      "image/png": "[encoded data removed]",
      "text/plain": [
       "<Figure size 432x288 with 1 Axes>"
      ]
     },
     "metadata": {},
     "output_type": "display_data"
    }
   ],
   "source": [
    "plt.hist(\n",
    "   df_total_fee_moscow['total_fee'], \n",
    "    label='Москва',\n",
    "    bins = 25, \n",
    "    alpha = 0.6\n",
    ")\n",
    "\n",
    "plt.hist(\n",
    "   df_total_fee_not_moscow['total_fee'], \n",
    "    label='Другие города',\n",
    "    bins = 25,\n",
    "    alpha = 0.4\n",
    ")\n",
    "\n",
    "plt.figsize=(10,8)\n",
    "plt.legend()\n",
    "plt.show()"
   ]
  },
  {
   "cell_type": "markdown",
   "metadata": {
    "id": "H5wLcSMeVVEI"
   },
   "source": [
    "<a id=\"step_5\"></a>\n",
    "## Общий вывод\n",
    "[к оглавлению](#back)"
   ]
  },
  {
   "cell_type": "markdown",
   "metadata": {
    "id": "FWTlh-5QVVEI"
   },
   "source": [
    "#### Предобработка данных (качество входных данных).\n",
    "\n",
    "На входе 5 таблиц с данными о тарифах, пользователях, совершённых звонках, отправленных сообщениях и израсходованном интернет-трафике. \n",
    "\n",
    "Критичных пропусков недостатков в таблицах не было, из некритичных: \n",
    "* Для полей даты необходимо было поменять тип на `timedata`.\n",
    "* Некоторые поля имеют строковый тип вместо целочисленного, но это опять же не влияет на результаты исследования и качество выводов.\n",
    "\n",
    "Количество данных\n",
    "* 500 пользователей,\n",
    "* 200+ тыс звонков,\n",
    "* 120+ тыс сообщений,\n",
    "* 140+ тыс сессий выхода в интернет.\n",
    "\n",
    "Итого это было свёрнуто до таблицы в 3200 записей для каждого пользователя с разбивкой по месяцам.\n",
    "\n",
    "Этого достаточно, чтобы считать выборки репрезентативными."
   ]
  },
  {
   "cell_type": "markdown",
   "metadata": {
    "id": "qPtgzKptQcAG"
   },
   "source": [
    "#### Предварительный анализ данных.\n",
    "\n",
    "Востребованность услуг:\n",
    "* Все пользователи не используют пакет СМС, который включён в тариф.\n",
    "* Для значительной доли пользователей видно, что они не укладываются в включённое количество минут и мегабайт. Но происходит это по-разному для двух тарифов. \n",
    "\n",
    "|Тариф|Минуты|СМС|Мегабайты|\n",
    "|----|---|---|---|\n",
    "|Смарт|34%|25%|60%|\n",
    "|Ультра|0%|0%|15%|\n",
    "\n",
    "* пользователей тарифа Smart в 2.2 раза больше (2200+), чем Ultra (980+) но приносят они в 1.5 раза больше выручки (~3_000_000 против ~2_000_000 руб. в год). Происходит это за счёт тех пользователей, кто выходит за пределы предоплаченного количества минут и мегабайт.\n"
   ]
  },
  {
   "cell_type": "markdown",
   "metadata": {
    "id": "_MqfzpdTQdnT"
   },
   "source": [
    "#### Анализ данных.\n",
    "* 1 = количество пользователей тарифов - отличается примерно в 2 раза. Пользователей Смарта 2200+, Ультра - 1000. \n",
    "* 2 = есть группы пользователей, которые из 3х типов услуг пользуются лишь одной или двумя.\n",
    "* 3 = Среди пользователей  тарифа \"Смарт\" количество тех, кто выходит за пределы предоплаченного - существенно выше:\n",
    "\n",
    "|Тариф|Минуты|СМС|Мегабайты|\n",
    "|----|---|---|---|\n",
    "|Смарт|34%|25%|60%|\n",
    "|Ультра|0%|0%|15%|\n",
    "\n",
    "* 4 = Суммарная выручка от пользователей тарифа Ultra: 2_043_966. При этом вклад переплат = 1_677_217 (82%).  Суммарная выручка от пользователей тарифа Smart: 2_903_717. При этом вклад переплат = 121_266 (4%)\n",
    "* Отсюда можно сделать вывод, что существенно влиять на выручку можно, двигая границы включённых услуг в тариф, и меняя абонентскую плату. \n",
    "\n",
    "* 5 = интересный практческий вопрос, которые не входил в задание, но которые было бы интересно изучить:\n",
    "`Как влияет профиль (возраст, пол и т.п.) клиента на выручку? ИЛИ: на кого нужно обращать больше внимания при планировании рекламных кампаний? При удержании клиента?`"
   ]
  },
  {
   "cell_type": "markdown",
   "metadata": {
    "id": "8J5DV5imQfS6"
   },
   "source": [
    "#### Проверка статистических гипотез о влиянии региона и тарифа на выручку.\n",
    "\n",
    "Гипотеза \"средние выручки пользователей тарифов «Ультра» и «Смарт» равны\" - была опровергнута статистическим способом для генеральной совокупности. \n",
    "\n",
    "То есть выручка от пользователей \"Ультры\" существенно выше, и одним из ходов оператора было бы перетащить пользователей \"Смарта\" на \"Ультру\", подобрав правильные аргументы.\n",
    "\n",
    "Гипотеза \"средняя выручка пользователей из Москвы отличается от выручки пользователей из других\n",
    "регионов\" была опровергнута статистическим расчётом для генеральной совокупности. \n",
    "\n",
    "Это значит, что внимание нужно уделять не только столичным пользователям, но и региональным. При том, что их существенно больше. "
   ]
  },
  {
   "cell_type": "markdown",
   "metadata": {},
   "source": [
    "Таким образом видно, что тариф \"Ультра\" - позволяет получить существенно бОльшую выручку (и, как я понимаю, это значит и прибыль).\n",
    "\n",
    "Возможными ходами со стороны Мегалайна могли бы быть:\n",
    "- \"отменить\" тариф Смарт, чтобы все перешли на \"Ультра\" - было бы неверным решением, если у Мегалайна есть конкуренты, т.к. у них будут более привлекательные тарифы.\n",
    "- поэтому более логичным решением со стороны увеличение предоплатных тарифов с бОльшей, чем у Смарта абонплатой и большими пакетами минут / сообщений / гигабайт + обеспечение маркетинговой поддержки этого решения."
   ]
  }
 ],
 "metadata": {
  "ExecuteTimeLog": [
   {
    "duration": 1476,
    "start_time": "2022-06-06T21:00:15.450Z"
   },
   {
    "duration": 6,
    "start_time": "2022-06-06T21:00:16.928Z"
   },
   {
    "duration": 1443,
    "start_time": "2022-06-06T21:00:16.935Z"
   },
   {
    "duration": 28,
    "start_time": "2022-06-06T21:00:18.380Z"
   },
   {
    "duration": 263,
    "start_time": "2022-06-06T21:00:18.410Z"
   },
   {
    "duration": 41,
    "start_time": "2022-06-06T21:00:18.675Z"
   },
   {
    "duration": 38,
    "start_time": "2022-06-06T21:00:18.718Z"
   },
   {
    "duration": 16,
    "start_time": "2022-06-06T21:00:18.759Z"
   },
   {
    "duration": 19,
    "start_time": "2022-06-06T21:00:18.776Z"
   },
   {
    "duration": 16,
    "start_time": "2022-06-06T21:00:18.798Z"
   },
   {
    "duration": 321,
    "start_time": "2022-06-06T21:00:18.816Z"
   },
   {
    "duration": 58,
    "start_time": "2022-06-06T21:00:19.139Z"
   },
   {
    "duration": 15,
    "start_time": "2022-06-06T21:00:19.199Z"
   },
   {
    "duration": 26,
    "start_time": "2022-06-06T21:00:19.216Z"
   },
   {
    "duration": 46,
    "start_time": "2022-06-06T21:00:19.246Z"
   },
   {
    "duration": 17,
    "start_time": "2022-06-06T21:00:19.294Z"
   },
   {
    "duration": 73,
    "start_time": "2022-06-06T21:00:19.313Z"
   },
   {
    "duration": 10,
    "start_time": "2022-06-06T21:00:19.388Z"
   },
   {
    "duration": 153,
    "start_time": "2022-06-06T21:00:19.400Z"
   },
   {
    "duration": 19,
    "start_time": "2022-06-06T21:00:19.559Z"
   },
   {
    "duration": 11,
    "start_time": "2022-06-06T21:00:19.580Z"
   },
   {
    "duration": 11,
    "start_time": "2022-06-06T21:00:19.592Z"
   },
   {
    "duration": 20,
    "start_time": "2022-06-06T21:00:19.604Z"
   },
   {
    "duration": 20,
    "start_time": "2022-06-06T21:00:19.644Z"
   },
   {
    "duration": 114,
    "start_time": "2022-06-06T21:00:19.667Z"
   },
   {
    "duration": 10,
    "start_time": "2022-06-06T21:00:19.783Z"
   },
   {
    "duration": 21,
    "start_time": "2022-06-06T21:00:19.794Z"
   },
   {
    "duration": 66,
    "start_time": "2022-06-06T21:00:19.819Z"
   },
   {
    "duration": 10,
    "start_time": "2022-06-06T21:00:19.886Z"
   },
   {
    "duration": 12,
    "start_time": "2022-06-06T21:00:19.898Z"
   },
   {
    "duration": 13,
    "start_time": "2022-06-06T21:00:19.911Z"
   },
   {
    "duration": 9,
    "start_time": "2022-06-06T21:00:19.954Z"
   },
   {
    "duration": 10,
    "start_time": "2022-06-06T21:00:19.968Z"
   },
   {
    "duration": 12,
    "start_time": "2022-06-06T21:00:19.980Z"
   },
   {
    "duration": 9,
    "start_time": "2022-06-06T21:00:19.994Z"
   },
   {
    "duration": 12,
    "start_time": "2022-06-06T21:00:20.005Z"
   },
   {
    "duration": 9,
    "start_time": "2022-06-06T21:00:20.019Z"
   },
   {
    "duration": 57,
    "start_time": "2022-06-06T21:00:20.030Z"
   },
   {
    "duration": 13,
    "start_time": "2022-06-06T21:00:20.089Z"
   },
   {
    "duration": 9,
    "start_time": "2022-06-06T21:00:20.103Z"
   },
   {
    "duration": 4,
    "start_time": "2022-06-06T21:00:20.114Z"
   },
   {
    "duration": 14,
    "start_time": "2022-06-06T21:00:20.120Z"
   },
   {
    "duration": 25,
    "start_time": "2022-06-06T21:00:20.135Z"
   },
   {
    "duration": 15,
    "start_time": "2022-06-06T21:00:20.171Z"
   },
   {
    "duration": 23,
    "start_time": "2022-06-06T21:00:20.188Z"
   },
   {
    "duration": 42,
    "start_time": "2022-06-06T21:00:20.213Z"
   },
   {
    "duration": 39,
    "start_time": "2022-06-06T21:00:20.264Z"
   },
   {
    "duration": 71,
    "start_time": "2022-06-06T21:00:20.305Z"
   },
   {
    "duration": 15,
    "start_time": "2022-06-06T21:00:20.378Z"
   },
   {
    "duration": 19,
    "start_time": "2022-06-06T21:00:20.394Z"
   },
   {
    "duration": 46,
    "start_time": "2022-06-06T21:00:20.415Z"
   },
   {
    "duration": 28,
    "start_time": "2022-06-06T21:00:20.463Z"
   },
   {
    "duration": 12,
    "start_time": "2022-06-06T21:00:20.493Z"
   },
   {
    "duration": 48,
    "start_time": "2022-06-06T21:00:20.507Z"
   },
   {
    "duration": 36,
    "start_time": "2022-06-06T21:00:20.562Z"
   },
   {
    "duration": 33,
    "start_time": "2022-06-06T21:00:20.600Z"
   },
   {
    "duration": 29,
    "start_time": "2022-06-06T21:00:20.635Z"
   },
   {
    "duration": 31,
    "start_time": "2022-06-06T21:00:20.668Z"
   },
   {
    "duration": 11,
    "start_time": "2022-06-06T21:00:20.701Z"
   },
   {
    "duration": 11,
    "start_time": "2022-06-06T21:00:20.713Z"
   },
   {
    "duration": 34,
    "start_time": "2022-06-06T21:00:20.726Z"
   },
   {
    "duration": 23,
    "start_time": "2022-06-06T21:00:20.762Z"
   },
   {
    "duration": 11,
    "start_time": "2022-06-06T21:00:20.786Z"
   },
   {
    "duration": 17,
    "start_time": "2022-06-06T21:00:20.799Z"
   },
   {
    "duration": 26,
    "start_time": "2022-06-06T21:00:20.818Z"
   },
   {
    "duration": 37,
    "start_time": "2022-06-06T21:00:20.848Z"
   },
   {
    "duration": 305,
    "start_time": "2022-06-06T21:00:20.886Z"
   },
   {
    "duration": 371,
    "start_time": "2022-06-06T21:00:21.192Z"
   },
   {
    "duration": 13,
    "start_time": "2022-06-06T21:00:21.571Z"
   },
   {
    "duration": 424,
    "start_time": "2022-06-06T21:00:21.587Z"
   },
   {
    "duration": 14,
    "start_time": "2022-06-06T21:00:22.013Z"
   },
   {
    "duration": 226,
    "start_time": "2022-06-06T21:00:22.041Z"
   },
   {
    "duration": 13,
    "start_time": "2022-06-06T21:00:22.269Z"
   },
   {
    "duration": 30,
    "start_time": "2022-06-06T21:00:22.284Z"
   },
   {
    "duration": 250,
    "start_time": "2022-06-06T21:00:22.315Z"
   },
   {
    "duration": 13,
    "start_time": "2022-06-06T21:00:22.566Z"
   },
   {
    "duration": 10,
    "start_time": "2022-06-06T21:00:22.581Z"
   },
   {
    "duration": 337,
    "start_time": "2022-06-06T21:00:22.592Z"
   },
   {
    "duration": 23,
    "start_time": "2022-06-06T21:00:22.931Z"
   },
   {
    "duration": 12,
    "start_time": "2022-06-06T21:00:22.968Z"
   },
   {
    "duration": 16,
    "start_time": "2022-06-06T21:00:22.981Z"
   },
   {
    "duration": 8,
    "start_time": "2022-06-06T21:00:23.004Z"
   },
   {
    "duration": 12,
    "start_time": "2022-06-06T21:00:23.014Z"
   },
   {
    "duration": 442,
    "start_time": "2022-06-06T21:00:23.028Z"
   },
   {
    "duration": 10,
    "start_time": "2022-06-06T21:00:23.473Z"
   },
   {
    "duration": 11,
    "start_time": "2022-06-06T21:00:23.485Z"
   },
   {
    "duration": 10,
    "start_time": "2022-06-06T21:00:23.498Z"
   },
   {
    "duration": 14,
    "start_time": "2022-06-06T21:00:23.509Z"
   },
   {
    "duration": 25,
    "start_time": "2022-06-06T21:00:23.525Z"
   },
   {
    "duration": 35,
    "start_time": "2022-06-06T21:00:23.552Z"
   },
   {
    "duration": 14,
    "start_time": "2022-06-06T21:00:23.589Z"
   },
   {
    "duration": 201,
    "start_time": "2022-06-06T21:00:23.605Z"
   },
   {
    "duration": 8,
    "start_time": "2022-06-06T21:00:23.808Z"
   },
   {
    "duration": 13,
    "start_time": "2022-06-06T21:00:23.818Z"
   },
   {
    "duration": 22,
    "start_time": "2022-06-06T21:00:23.842Z"
   },
   {
    "duration": 12,
    "start_time": "2022-06-06T21:00:23.866Z"
   },
   {
    "duration": 4,
    "start_time": "2022-06-06T21:00:23.879Z"
   },
   {
    "duration": 18,
    "start_time": "2022-06-06T21:00:23.885Z"
   },
   {
    "duration": 10,
    "start_time": "2022-06-06T21:00:23.904Z"
   },
   {
    "duration": 7,
    "start_time": "2022-06-06T21:00:23.915Z"
   },
   {
    "duration": 16,
    "start_time": "2022-06-06T21:00:23.943Z"
   },
   {
    "duration": 232,
    "start_time": "2022-06-06T21:00:23.969Z"
   },
   {
    "duration": 11,
    "start_time": "2022-06-06T21:00:24.203Z"
   },
   {
    "duration": 6,
    "start_time": "2022-06-06T21:00:24.215Z"
   },
   {
    "duration": 25,
    "start_time": "2022-06-06T21:00:24.223Z"
   },
   {
    "duration": 285,
    "start_time": "2022-06-06T21:00:24.255Z"
   },
   {
    "duration": 29,
    "start_time": "2022-06-06T21:02:51.009Z"
   },
   {
    "duration": 3,
    "start_time": "2022-06-06T21:02:59.776Z"
   },
   {
    "duration": 7,
    "start_time": "2022-06-06T21:02:59.781Z"
   },
   {
    "duration": 508,
    "start_time": "2022-06-06T21:02:59.790Z"
   },
   {
    "duration": 25,
    "start_time": "2022-06-06T21:03:00.300Z"
   },
   {
    "duration": 257,
    "start_time": "2022-06-06T21:03:00.327Z"
   },
   {
    "duration": 31,
    "start_time": "2022-06-06T21:03:00.586Z"
   },
   {
    "duration": 64,
    "start_time": "2022-06-06T21:03:00.619Z"
   },
   {
    "duration": 16,
    "start_time": "2022-06-06T21:03:00.685Z"
   },
   {
    "duration": 26,
    "start_time": "2022-06-06T21:03:00.703Z"
   },
   {
    "duration": 37,
    "start_time": "2022-06-06T21:03:00.730Z"
   },
   {
    "duration": 346,
    "start_time": "2022-06-06T21:03:00.771Z"
   },
   {
    "duration": 59,
    "start_time": "2022-06-06T21:03:01.120Z"
   },
   {
    "duration": 17,
    "start_time": "2022-06-06T21:03:01.181Z"
   },
   {
    "duration": 15,
    "start_time": "2022-06-06T21:03:01.200Z"
   },
   {
    "duration": 54,
    "start_time": "2022-06-06T21:03:01.217Z"
   },
   {
    "duration": 14,
    "start_time": "2022-06-06T21:03:01.273Z"
   },
   {
    "duration": 36,
    "start_time": "2022-06-06T21:03:01.289Z"
   },
   {
    "duration": 16,
    "start_time": "2022-06-06T21:03:01.355Z"
   },
   {
    "duration": 131,
    "start_time": "2022-06-06T21:03:01.373Z"
   },
   {
    "duration": 14,
    "start_time": "2022-06-06T21:03:01.505Z"
   },
   {
    "duration": 10,
    "start_time": "2022-06-06T21:03:01.521Z"
   },
   {
    "duration": 27,
    "start_time": "2022-06-06T21:03:01.533Z"
   },
   {
    "duration": 25,
    "start_time": "2022-06-06T21:03:01.563Z"
   },
   {
    "duration": 7,
    "start_time": "2022-06-06T21:03:01.590Z"
   },
   {
    "duration": 123,
    "start_time": "2022-06-06T21:03:01.599Z"
   },
   {
    "duration": 23,
    "start_time": "2022-06-06T21:03:01.724Z"
   },
   {
    "duration": 35,
    "start_time": "2022-06-06T21:03:01.749Z"
   },
   {
    "duration": 42,
    "start_time": "2022-06-06T21:03:01.787Z"
   },
   {
    "duration": 28,
    "start_time": "2022-06-06T21:03:01.831Z"
   },
   {
    "duration": 28,
    "start_time": "2022-06-06T21:03:01.866Z"
   },
   {
    "duration": 23,
    "start_time": "2022-06-06T21:03:01.896Z"
   },
   {
    "duration": 44,
    "start_time": "2022-06-06T21:03:01.921Z"
   },
   {
    "duration": 61,
    "start_time": "2022-06-06T21:03:01.969Z"
   },
   {
    "duration": 45,
    "start_time": "2022-06-06T21:03:02.032Z"
   },
   {
    "duration": 12,
    "start_time": "2022-06-06T21:03:02.079Z"
   },
   {
    "duration": 17,
    "start_time": "2022-06-06T21:03:02.093Z"
   },
   {
    "duration": 43,
    "start_time": "2022-06-06T21:03:02.112Z"
   },
   {
    "duration": 13,
    "start_time": "2022-06-06T21:03:02.163Z"
   },
   {
    "duration": 22,
    "start_time": "2022-06-06T21:03:02.178Z"
   },
   {
    "duration": 14,
    "start_time": "2022-06-06T21:03:02.202Z"
   },
   {
    "duration": 15,
    "start_time": "2022-06-06T21:03:02.218Z"
   },
   {
    "duration": 32,
    "start_time": "2022-06-06T21:03:02.234Z"
   },
   {
    "duration": 24,
    "start_time": "2022-06-06T21:03:02.268Z"
   },
   {
    "duration": 12,
    "start_time": "2022-06-06T21:03:02.294Z"
   },
   {
    "duration": 31,
    "start_time": "2022-06-06T21:03:02.308Z"
   },
   {
    "duration": 60,
    "start_time": "2022-06-06T21:03:02.340Z"
   },
   {
    "duration": 38,
    "start_time": "2022-06-06T21:03:02.402Z"
   },
   {
    "duration": 67,
    "start_time": "2022-06-06T21:03:02.456Z"
   },
   {
    "duration": 13,
    "start_time": "2022-06-06T21:03:02.525Z"
   },
   {
    "duration": 30,
    "start_time": "2022-06-06T21:03:02.560Z"
   },
   {
    "duration": 30,
    "start_time": "2022-06-06T21:03:02.593Z"
   },
   {
    "duration": 44,
    "start_time": "2022-06-06T21:03:02.625Z"
   },
   {
    "duration": 11,
    "start_time": "2022-06-06T21:03:02.671Z"
   },
   {
    "duration": 19,
    "start_time": "2022-06-06T21:03:02.685Z"
   },
   {
    "duration": 41,
    "start_time": "2022-06-06T21:03:02.706Z"
   },
   {
    "duration": 36,
    "start_time": "2022-06-06T21:03:02.749Z"
   },
   {
    "duration": 11,
    "start_time": "2022-06-06T21:03:02.787Z"
   },
   {
    "duration": 22,
    "start_time": "2022-06-06T21:03:02.799Z"
   },
   {
    "duration": 27,
    "start_time": "2022-06-06T21:03:02.841Z"
   },
   {
    "duration": 14,
    "start_time": "2022-06-06T21:03:02.870Z"
   },
   {
    "duration": 20,
    "start_time": "2022-06-06T21:03:02.885Z"
   },
   {
    "duration": 17,
    "start_time": "2022-06-06T21:03:02.907Z"
   },
   {
    "duration": 33,
    "start_time": "2022-06-06T21:03:02.926Z"
   },
   {
    "duration": 15,
    "start_time": "2022-06-06T21:03:02.961Z"
   },
   {
    "duration": 18,
    "start_time": "2022-06-06T21:03:02.978Z"
   },
   {
    "duration": 24,
    "start_time": "2022-06-06T21:03:02.998Z"
   },
   {
    "duration": 347,
    "start_time": "2022-06-06T21:03:03.024Z"
   },
   {
    "duration": 404,
    "start_time": "2022-06-06T21:03:03.373Z"
   },
   {
    "duration": 12,
    "start_time": "2022-06-06T21:03:03.779Z"
   },
   {
    "duration": 436,
    "start_time": "2022-06-06T21:03:03.793Z"
   },
   {
    "duration": 29,
    "start_time": "2022-06-06T21:03:04.231Z"
   },
   {
    "duration": 225,
    "start_time": "2022-06-06T21:03:04.262Z"
   },
   {
    "duration": 12,
    "start_time": "2022-06-06T21:03:04.489Z"
   },
   {
    "duration": 24,
    "start_time": "2022-06-06T21:03:04.502Z"
   },
   {
    "duration": 261,
    "start_time": "2022-06-06T21:03:04.528Z"
   },
   {
    "duration": 10,
    "start_time": "2022-06-06T21:03:04.791Z"
   },
   {
    "duration": 12,
    "start_time": "2022-06-06T21:03:04.803Z"
   },
   {
    "duration": 388,
    "start_time": "2022-06-06T21:03:04.816Z"
   },
   {
    "duration": 9,
    "start_time": "2022-06-06T21:03:05.206Z"
   },
   {
    "duration": 11,
    "start_time": "2022-06-06T21:03:05.217Z"
   },
   {
    "duration": 31,
    "start_time": "2022-06-06T21:03:05.229Z"
   },
   {
    "duration": 20,
    "start_time": "2022-06-06T21:03:05.261Z"
   },
   {
    "duration": 17,
    "start_time": "2022-06-06T21:03:05.283Z"
   },
   {
    "duration": 348,
    "start_time": "2022-06-06T21:03:05.307Z"
   },
   {
    "duration": 17,
    "start_time": "2022-06-06T21:03:05.657Z"
   },
   {
    "duration": 13,
    "start_time": "2022-06-06T21:03:05.676Z"
   },
   {
    "duration": 12,
    "start_time": "2022-06-06T21:03:05.691Z"
   },
   {
    "duration": 15,
    "start_time": "2022-06-06T21:03:05.704Z"
   },
   {
    "duration": 12,
    "start_time": "2022-06-06T21:03:05.720Z"
   },
   {
    "duration": 28,
    "start_time": "2022-06-06T21:03:05.734Z"
   },
   {
    "duration": 24,
    "start_time": "2022-06-06T21:03:05.763Z"
   },
   {
    "duration": 213,
    "start_time": "2022-06-06T21:03:05.789Z"
   },
   {
    "duration": 10,
    "start_time": "2022-06-06T21:03:06.003Z"
   },
   {
    "duration": 18,
    "start_time": "2022-06-06T21:03:06.014Z"
   },
   {
    "duration": 31,
    "start_time": "2022-06-06T21:03:06.033Z"
   },
   {
    "duration": 10,
    "start_time": "2022-06-06T21:03:06.067Z"
   },
   {
    "duration": 5,
    "start_time": "2022-06-06T21:03:06.078Z"
   },
   {
    "duration": 23,
    "start_time": "2022-06-06T21:03:06.084Z"
   },
   {
    "duration": 11,
    "start_time": "2022-06-06T21:03:06.109Z"
   },
   {
    "duration": 8,
    "start_time": "2022-06-06T21:03:06.121Z"
   },
   {
    "duration": 20,
    "start_time": "2022-06-06T21:03:06.131Z"
   },
   {
    "duration": 431,
    "start_time": "2022-06-06T21:03:06.153Z"
   },
   {
    "duration": 12,
    "start_time": "2022-06-06T21:03:06.586Z"
   },
   {
    "duration": 11,
    "start_time": "2022-06-06T21:03:06.600Z"
   },
   {
    "duration": 8,
    "start_time": "2022-06-06T21:03:06.613Z"
   },
   {
    "duration": 277,
    "start_time": "2022-06-06T21:03:06.622Z"
   },
   {
    "duration": 1179,
    "start_time": "2022-06-06T21:03:12.768Z"
   },
   {
    "duration": 13,
    "start_time": "2022-06-06T21:03:13.949Z"
   },
   {
    "duration": 467,
    "start_time": "2022-06-06T21:03:13.964Z"
   },
   {
    "duration": 38,
    "start_time": "2022-06-06T21:03:14.433Z"
   },
   {
    "duration": 231,
    "start_time": "2022-06-06T21:03:14.473Z"
   },
   {
    "duration": 45,
    "start_time": "2022-06-06T21:03:14.706Z"
   },
   {
    "duration": 20,
    "start_time": "2022-06-06T21:03:14.762Z"
   },
   {
    "duration": 13,
    "start_time": "2022-06-06T21:03:14.783Z"
   },
   {
    "duration": 12,
    "start_time": "2022-06-06T21:03:14.798Z"
   },
   {
    "duration": 10,
    "start_time": "2022-06-06T21:03:14.813Z"
   },
   {
    "duration": 288,
    "start_time": "2022-06-06T21:03:14.844Z"
   },
   {
    "duration": 62,
    "start_time": "2022-06-06T21:03:15.134Z"
   },
   {
    "duration": 19,
    "start_time": "2022-06-06T21:03:15.197Z"
   },
   {
    "duration": 44,
    "start_time": "2022-06-06T21:03:15.218Z"
   },
   {
    "duration": 23,
    "start_time": "2022-06-06T21:03:15.264Z"
   },
   {
    "duration": 13,
    "start_time": "2022-06-06T21:03:15.289Z"
   },
   {
    "duration": 55,
    "start_time": "2022-06-06T21:03:15.303Z"
   },
   {
    "duration": 12,
    "start_time": "2022-06-06T21:03:15.364Z"
   },
   {
    "duration": 125,
    "start_time": "2022-06-06T21:03:15.378Z"
   },
   {
    "duration": 13,
    "start_time": "2022-06-06T21:03:15.504Z"
   },
   {
    "duration": 26,
    "start_time": "2022-06-06T21:03:15.519Z"
   },
   {
    "duration": 13,
    "start_time": "2022-06-06T21:03:15.546Z"
   },
   {
    "duration": 30,
    "start_time": "2022-06-06T21:03:15.560Z"
   },
   {
    "duration": 7,
    "start_time": "2022-06-06T21:03:15.592Z"
   },
   {
    "duration": 97,
    "start_time": "2022-06-06T21:03:15.601Z"
   },
   {
    "duration": 10,
    "start_time": "2022-06-06T21:03:15.699Z"
   },
   {
    "duration": 38,
    "start_time": "2022-06-06T21:03:15.710Z"
   },
   {
    "duration": 42,
    "start_time": "2022-06-06T21:03:15.758Z"
   },
   {
    "duration": 10,
    "start_time": "2022-06-06T21:03:15.801Z"
   },
   {
    "duration": 10,
    "start_time": "2022-06-06T21:03:15.812Z"
   },
   {
    "duration": 12,
    "start_time": "2022-06-06T21:03:15.824Z"
   },
   {
    "duration": 35,
    "start_time": "2022-06-06T21:03:15.838Z"
   },
   {
    "duration": 10,
    "start_time": "2022-06-06T21:03:15.875Z"
   },
   {
    "duration": 10,
    "start_time": "2022-06-06T21:03:15.886Z"
   },
   {
    "duration": 8,
    "start_time": "2022-06-06T21:03:15.898Z"
   },
   {
    "duration": 9,
    "start_time": "2022-06-06T21:03:15.907Z"
   },
   {
    "duration": 8,
    "start_time": "2022-06-06T21:03:15.917Z"
   },
   {
    "duration": 11,
    "start_time": "2022-06-06T21:03:15.926Z"
   },
   {
    "duration": 36,
    "start_time": "2022-06-06T21:03:15.938Z"
   },
   {
    "duration": 8,
    "start_time": "2022-06-06T21:03:15.976Z"
   },
   {
    "duration": 7,
    "start_time": "2022-06-06T21:03:15.986Z"
   },
   {
    "duration": 10,
    "start_time": "2022-06-06T21:03:15.994Z"
   },
   {
    "duration": 14,
    "start_time": "2022-06-06T21:03:16.006Z"
   },
   {
    "duration": 9,
    "start_time": "2022-06-06T21:03:16.021Z"
   },
   {
    "duration": 19,
    "start_time": "2022-06-06T21:03:16.032Z"
   },
   {
    "duration": 38,
    "start_time": "2022-06-06T21:03:16.053Z"
   },
   {
    "duration": 41,
    "start_time": "2022-06-06T21:03:16.093Z"
   },
   {
    "duration": 70,
    "start_time": "2022-06-06T21:03:16.135Z"
   },
   {
    "duration": 13,
    "start_time": "2022-06-06T21:03:16.207Z"
   },
   {
    "duration": 42,
    "start_time": "2022-06-06T21:03:16.221Z"
   },
   {
    "duration": 29,
    "start_time": "2022-06-06T21:03:16.265Z"
   },
   {
    "duration": 23,
    "start_time": "2022-06-06T21:03:16.296Z"
   },
   {
    "duration": 10,
    "start_time": "2022-06-06T21:03:16.321Z"
   },
   {
    "duration": 37,
    "start_time": "2022-06-06T21:03:16.333Z"
   },
   {
    "duration": 30,
    "start_time": "2022-06-06T21:03:16.372Z"
   },
   {
    "duration": 47,
    "start_time": "2022-06-06T21:03:16.404Z"
   },
   {
    "duration": 19,
    "start_time": "2022-06-06T21:03:16.453Z"
   },
   {
    "duration": 27,
    "start_time": "2022-06-06T21:03:16.474Z"
   },
   {
    "duration": 10,
    "start_time": "2022-06-06T21:03:16.503Z"
   },
   {
    "duration": 27,
    "start_time": "2022-06-06T21:03:16.515Z"
   },
   {
    "duration": 22,
    "start_time": "2022-06-06T21:03:16.545Z"
   },
   {
    "duration": 25,
    "start_time": "2022-06-06T21:03:16.569Z"
   },
   {
    "duration": 13,
    "start_time": "2022-06-06T21:03:16.596Z"
   },
   {
    "duration": 43,
    "start_time": "2022-06-06T21:03:16.611Z"
   },
   {
    "duration": 17,
    "start_time": "2022-06-06T21:03:16.656Z"
   },
   {
    "duration": 26,
    "start_time": "2022-06-06T21:03:16.675Z"
   },
   {
    "duration": 311,
    "start_time": "2022-06-06T21:03:16.703Z"
   },
   {
    "duration": 354,
    "start_time": "2022-06-06T21:03:17.016Z"
   },
   {
    "duration": 14,
    "start_time": "2022-06-06T21:03:17.372Z"
   },
   {
    "duration": 429,
    "start_time": "2022-06-06T21:03:17.388Z"
   },
   {
    "duration": 25,
    "start_time": "2022-06-06T21:03:17.820Z"
   },
   {
    "duration": 248,
    "start_time": "2022-06-06T21:03:17.847Z"
   },
   {
    "duration": 13,
    "start_time": "2022-06-06T21:03:18.098Z"
   },
   {
    "duration": 49,
    "start_time": "2022-06-06T21:03:18.113Z"
   },
   {
    "duration": 266,
    "start_time": "2022-06-06T21:03:18.166Z"
   },
   {
    "duration": 17,
    "start_time": "2022-06-06T21:03:18.434Z"
   },
   {
    "duration": 25,
    "start_time": "2022-06-06T21:03:18.456Z"
   },
   {
    "duration": 326,
    "start_time": "2022-06-06T21:03:18.482Z"
   },
   {
    "duration": 9,
    "start_time": "2022-06-06T21:03:18.810Z"
   },
   {
    "duration": 11,
    "start_time": "2022-06-06T21:03:18.821Z"
   },
   {
    "duration": 30,
    "start_time": "2022-06-06T21:03:18.847Z"
   },
   {
    "duration": 10,
    "start_time": "2022-06-06T21:03:18.885Z"
   },
   {
    "duration": 12,
    "start_time": "2022-06-06T21:03:18.897Z"
   },
   {
    "duration": 407,
    "start_time": "2022-06-06T21:03:18.910Z"
   },
   {
    "duration": 9,
    "start_time": "2022-06-06T21:03:19.318Z"
   },
   {
    "duration": 25,
    "start_time": "2022-06-06T21:03:19.328Z"
   },
   {
    "duration": 15,
    "start_time": "2022-06-06T21:03:19.356Z"
   },
   {
    "duration": 12,
    "start_time": "2022-06-06T21:03:19.372Z"
   },
   {
    "duration": 8,
    "start_time": "2022-06-06T21:03:19.386Z"
   },
   {
    "duration": 9,
    "start_time": "2022-06-06T21:03:19.395Z"
   },
   {
    "duration": 12,
    "start_time": "2022-06-06T21:03:19.406Z"
   },
   {
    "duration": 216,
    "start_time": "2022-06-06T21:03:19.419Z"
   },
   {
    "duration": 25,
    "start_time": "2022-06-06T21:03:19.643Z"
   },
   {
    "duration": 14,
    "start_time": "2022-06-06T21:03:19.670Z"
   },
   {
    "duration": 14,
    "start_time": "2022-06-06T21:03:19.685Z"
   },
   {
    "duration": 9,
    "start_time": "2022-06-06T21:03:19.701Z"
   },
   {
    "duration": 12,
    "start_time": "2022-06-06T21:03:19.711Z"
   },
   {
    "duration": 45,
    "start_time": "2022-06-06T21:03:19.725Z"
   },
   {
    "duration": 11,
    "start_time": "2022-06-06T21:03:19.773Z"
   },
   {
    "duration": 11,
    "start_time": "2022-06-06T21:03:19.786Z"
   },
   {
    "duration": 6,
    "start_time": "2022-06-06T21:03:19.799Z"
   },
   {
    "duration": 296,
    "start_time": "2022-06-06T21:03:19.806Z"
   },
   {
    "duration": 10,
    "start_time": "2022-06-06T21:03:20.104Z"
   },
   {
    "duration": 7,
    "start_time": "2022-06-06T21:03:20.116Z"
   },
   {
    "duration": 34,
    "start_time": "2022-06-06T21:03:20.125Z"
   },
   {
    "duration": 252,
    "start_time": "2022-06-06T21:03:20.165Z"
   },
   {
    "duration": 1383,
    "start_time": "2022-06-07T19:52:44.248Z"
   },
   {
    "duration": 5,
    "start_time": "2022-06-07T19:52:45.633Z"
   },
   {
    "duration": 688,
    "start_time": "2022-06-07T19:52:45.640Z"
   },
   {
    "duration": 21,
    "start_time": "2022-06-07T19:52:46.330Z"
   },
   {
    "duration": 481,
    "start_time": "2022-06-07T19:52:46.352Z"
   },
   {
    "duration": 35,
    "start_time": "2022-06-07T19:52:46.835Z"
   },
   {
    "duration": 72,
    "start_time": "2022-06-07T19:52:46.872Z"
   },
   {
    "duration": 15,
    "start_time": "2022-06-07T19:52:46.946Z"
   },
   {
    "duration": 67,
    "start_time": "2022-06-07T19:52:46.962Z"
   },
   {
    "duration": 8,
    "start_time": "2022-06-07T19:52:47.031Z"
   },
   {
    "duration": 231,
    "start_time": "2022-06-07T19:52:47.041Z"
   },
   {
    "duration": 34,
    "start_time": "2022-06-07T19:52:47.274Z"
   },
   {
    "duration": 25,
    "start_time": "2022-06-07T19:52:47.310Z"
   },
   {
    "duration": 9,
    "start_time": "2022-06-07T19:52:47.337Z"
   },
   {
    "duration": 17,
    "start_time": "2022-06-07T19:52:47.347Z"
   },
   {
    "duration": 12,
    "start_time": "2022-06-07T19:52:47.365Z"
   },
   {
    "duration": 54,
    "start_time": "2022-06-07T19:52:47.378Z"
   },
   {
    "duration": 9,
    "start_time": "2022-06-07T19:52:47.433Z"
   },
   {
    "duration": 103,
    "start_time": "2022-06-07T19:52:47.443Z"
   },
   {
    "duration": 11,
    "start_time": "2022-06-07T19:52:47.547Z"
   },
   {
    "duration": 8,
    "start_time": "2022-06-07T19:52:47.560Z"
   },
   {
    "duration": 8,
    "start_time": "2022-06-07T19:52:47.570Z"
   },
   {
    "duration": 46,
    "start_time": "2022-06-07T19:52:47.579Z"
   },
   {
    "duration": 6,
    "start_time": "2022-06-07T19:52:47.627Z"
   },
   {
    "duration": 70,
    "start_time": "2022-06-07T19:52:47.634Z"
   },
   {
    "duration": 27,
    "start_time": "2022-06-07T19:52:47.705Z"
   },
   {
    "duration": 14,
    "start_time": "2022-06-07T19:52:47.733Z"
   },
   {
    "duration": 24,
    "start_time": "2022-06-07T19:52:47.751Z"
   },
   {
    "duration": 8,
    "start_time": "2022-06-07T19:52:47.777Z"
   },
   {
    "duration": 11,
    "start_time": "2022-06-07T19:52:47.787Z"
   },
   {
    "duration": 12,
    "start_time": "2022-06-07T19:52:47.826Z"
   },
   {
    "duration": 11,
    "start_time": "2022-06-07T19:52:47.840Z"
   },
   {
    "duration": 10,
    "start_time": "2022-06-07T19:52:47.853Z"
   },
   {
    "duration": 7,
    "start_time": "2022-06-07T19:52:47.865Z"
   },
   {
    "duration": 6,
    "start_time": "2022-06-07T19:52:47.873Z"
   },
   {
    "duration": 10,
    "start_time": "2022-06-07T19:52:47.880Z"
   },
   {
    "duration": 6,
    "start_time": "2022-06-07T19:52:47.891Z"
   },
   {
    "duration": 30,
    "start_time": "2022-06-07T19:52:47.899Z"
   },
   {
    "duration": 5,
    "start_time": "2022-06-07T19:52:47.930Z"
   },
   {
    "duration": 7,
    "start_time": "2022-06-07T19:52:47.936Z"
   },
   {
    "duration": 6,
    "start_time": "2022-06-07T19:52:47.945Z"
   },
   {
    "duration": 8,
    "start_time": "2022-06-07T19:52:47.952Z"
   },
   {
    "duration": 12,
    "start_time": "2022-06-07T19:52:47.962Z"
   },
   {
    "duration": 8,
    "start_time": "2022-06-07T19:52:47.975Z"
   },
   {
    "duration": 19,
    "start_time": "2022-06-07T19:52:47.984Z"
   },
   {
    "duration": 34,
    "start_time": "2022-06-07T19:52:48.005Z"
   },
   {
    "duration": 30,
    "start_time": "2022-06-07T19:52:48.041Z"
   },
   {
    "duration": 85,
    "start_time": "2022-06-07T19:52:48.072Z"
   },
   {
    "duration": 12,
    "start_time": "2022-06-07T19:52:48.159Z"
   },
   {
    "duration": 13,
    "start_time": "2022-06-07T19:52:48.172Z"
   },
   {
    "duration": 40,
    "start_time": "2022-06-07T19:52:48.186Z"
   },
   {
    "duration": 21,
    "start_time": "2022-06-07T19:52:48.228Z"
   },
   {
    "duration": 10,
    "start_time": "2022-06-07T19:52:48.250Z"
   },
   {
    "duration": 13,
    "start_time": "2022-06-07T19:52:48.261Z"
   },
   {
    "duration": 51,
    "start_time": "2022-06-07T19:52:48.275Z"
   },
   {
    "duration": 25,
    "start_time": "2022-06-07T19:52:48.328Z"
   },
   {
    "duration": 10,
    "start_time": "2022-06-07T19:52:48.355Z"
   },
   {
    "duration": 22,
    "start_time": "2022-06-07T19:52:48.367Z"
   },
   {
    "duration": 9,
    "start_time": "2022-06-07T19:52:48.391Z"
   },
   {
    "duration": 9,
    "start_time": "2022-06-07T19:52:48.426Z"
   },
   {
    "duration": 17,
    "start_time": "2022-06-07T19:52:48.436Z"
   },
   {
    "duration": 15,
    "start_time": "2022-06-07T19:52:48.454Z"
   },
   {
    "duration": 9,
    "start_time": "2022-06-07T19:52:48.470Z"
   },
   {
    "duration": 12,
    "start_time": "2022-06-07T19:52:48.480Z"
   },
   {
    "duration": 40,
    "start_time": "2022-06-07T19:52:48.493Z"
   },
   {
    "duration": 21,
    "start_time": "2022-06-07T19:52:48.534Z"
   },
   {
    "duration": 241,
    "start_time": "2022-06-07T19:52:48.557Z"
   },
   {
    "duration": 276,
    "start_time": "2022-06-07T19:52:48.800Z"
   },
   {
    "duration": 11,
    "start_time": "2022-06-07T19:52:49.078Z"
   },
   {
    "duration": 318,
    "start_time": "2022-06-07T19:52:49.090Z"
   },
   {
    "duration": 19,
    "start_time": "2022-06-07T19:52:49.410Z"
   },
   {
    "duration": 163,
    "start_time": "2022-06-07T19:52:49.430Z"
   },
   {
    "duration": 11,
    "start_time": "2022-06-07T19:52:49.594Z"
   },
   {
    "duration": 30,
    "start_time": "2022-06-07T19:52:49.606Z"
   },
   {
    "duration": 179,
    "start_time": "2022-06-07T19:52:49.638Z"
   },
   {
    "duration": 13,
    "start_time": "2022-06-07T19:52:49.818Z"
   },
   {
    "duration": 10,
    "start_time": "2022-06-07T19:52:49.832Z"
   },
   {
    "duration": 261,
    "start_time": "2022-06-07T19:52:49.843Z"
   },
   {
    "duration": 8,
    "start_time": "2022-06-07T19:52:50.105Z"
   },
   {
    "duration": 19,
    "start_time": "2022-06-07T19:52:50.114Z"
   },
   {
    "duration": 10,
    "start_time": "2022-06-07T19:52:50.135Z"
   },
   {
    "duration": 9,
    "start_time": "2022-06-07T19:52:50.150Z"
   },
   {
    "duration": 11,
    "start_time": "2022-06-07T19:52:50.160Z"
   },
   {
    "duration": 346,
    "start_time": "2022-06-07T19:52:50.172Z"
   },
   {
    "duration": 12,
    "start_time": "2022-06-07T19:52:50.519Z"
   },
   {
    "duration": 8,
    "start_time": "2022-06-07T19:52:50.532Z"
   },
   {
    "duration": 11,
    "start_time": "2022-06-07T19:52:50.541Z"
   },
   {
    "duration": 13,
    "start_time": "2022-06-07T19:52:50.554Z"
   },
   {
    "duration": 9,
    "start_time": "2022-06-07T19:52:50.568Z"
   },
   {
    "duration": 12,
    "start_time": "2022-06-07T19:52:50.578Z"
   },
   {
    "duration": 12,
    "start_time": "2022-06-07T19:52:50.591Z"
   },
   {
    "duration": 150,
    "start_time": "2022-06-07T19:52:50.626Z"
   },
   {
    "duration": 8,
    "start_time": "2022-06-07T19:52:50.778Z"
   },
   {
    "duration": 14,
    "start_time": "2022-06-07T19:52:50.787Z"
   },
   {
    "duration": 24,
    "start_time": "2022-06-07T19:52:50.802Z"
   },
   {
    "duration": 6,
    "start_time": "2022-06-07T19:52:50.828Z"
   },
   {
    "duration": 5,
    "start_time": "2022-06-07T19:52:50.836Z"
   },
   {
    "duration": 16,
    "start_time": "2022-06-07T19:52:50.842Z"
   },
   {
    "duration": 9,
    "start_time": "2022-06-07T19:52:50.860Z"
   },
   {
    "duration": 7,
    "start_time": "2022-06-07T19:52:50.870Z"
   },
   {
    "duration": 10,
    "start_time": "2022-06-07T19:52:50.878Z"
   },
   {
    "duration": 201,
    "start_time": "2022-06-07T19:52:50.890Z"
   },
   {
    "duration": 9,
    "start_time": "2022-06-07T19:52:51.092Z"
   },
   {
    "duration": 7,
    "start_time": "2022-06-07T19:52:51.102Z"
   },
   {
    "duration": 6,
    "start_time": "2022-06-07T19:52:51.110Z"
   },
   {
    "duration": 219,
    "start_time": "2022-06-07T19:52:51.117Z"
   },
   {
    "duration": 4,
    "start_time": "2022-06-07T19:58:41.928Z"
   },
   {
    "duration": 4,
    "start_time": "2022-06-07T19:59:28.455Z"
   },
   {
    "duration": 4,
    "start_time": "2022-06-07T19:59:39.626Z"
   },
   {
    "duration": 16,
    "start_time": "2022-06-07T20:03:29.521Z"
   },
   {
    "duration": 104,
    "start_time": "2022-06-07T20:08:15.097Z"
   },
   {
    "duration": 225,
    "start_time": "2022-06-07T20:08:21.791Z"
   },
   {
    "duration": 20,
    "start_time": "2022-06-07T20:10:08.844Z"
   },
   {
    "duration": 27,
    "start_time": "2022-06-07T20:10:12.557Z"
   },
   {
    "duration": 1252,
    "start_time": "2022-06-07T22:34:55.305Z"
   },
   {
    "duration": 5,
    "start_time": "2022-06-07T22:34:56.559Z"
   },
   {
    "duration": 887,
    "start_time": "2022-06-07T22:34:56.565Z"
   },
   {
    "duration": 21,
    "start_time": "2022-06-07T22:34:57.454Z"
   },
   {
    "duration": 190,
    "start_time": "2022-06-07T22:34:57.476Z"
   },
   {
    "duration": 22,
    "start_time": "2022-06-07T22:34:57.667Z"
   },
   {
    "duration": 16,
    "start_time": "2022-06-07T22:34:57.691Z"
   },
   {
    "duration": 12,
    "start_time": "2022-06-07T22:34:57.708Z"
   },
   {
    "duration": 36,
    "start_time": "2022-06-07T22:34:57.721Z"
   },
   {
    "duration": 9,
    "start_time": "2022-06-07T22:34:57.760Z"
   },
   {
    "duration": 224,
    "start_time": "2022-06-07T22:34:57.770Z"
   },
   {
    "duration": 39,
    "start_time": "2022-06-07T22:34:57.995Z"
   },
   {
    "duration": 28,
    "start_time": "2022-06-07T22:34:58.036Z"
   },
   {
    "duration": 12,
    "start_time": "2022-06-07T22:34:58.065Z"
   },
   {
    "duration": 17,
    "start_time": "2022-06-07T22:34:58.079Z"
   },
   {
    "duration": 13,
    "start_time": "2022-06-07T22:34:58.097Z"
   },
   {
    "duration": 58,
    "start_time": "2022-06-07T22:34:58.112Z"
   },
   {
    "duration": 9,
    "start_time": "2022-06-07T22:34:58.172Z"
   },
   {
    "duration": 116,
    "start_time": "2022-06-07T22:34:58.182Z"
   },
   {
    "duration": 12,
    "start_time": "2022-06-07T22:34:58.299Z"
   },
   {
    "duration": 8,
    "start_time": "2022-06-07T22:34:58.313Z"
   },
   {
    "duration": 34,
    "start_time": "2022-06-07T22:34:58.323Z"
   },
   {
    "duration": 15,
    "start_time": "2022-06-07T22:34:58.359Z"
   },
   {
    "duration": 8,
    "start_time": "2022-06-07T22:34:58.375Z"
   },
   {
    "duration": 83,
    "start_time": "2022-06-07T22:34:58.385Z"
   },
   {
    "duration": 8,
    "start_time": "2022-06-07T22:34:58.470Z"
   },
   {
    "duration": 15,
    "start_time": "2022-06-07T22:34:58.479Z"
   },
   {
    "duration": 37,
    "start_time": "2022-06-07T22:34:58.499Z"
   },
   {
    "duration": 22,
    "start_time": "2022-06-07T22:34:58.537Z"
   },
   {
    "duration": 16,
    "start_time": "2022-06-07T22:34:58.560Z"
   },
   {
    "duration": 16,
    "start_time": "2022-06-07T22:34:58.577Z"
   },
   {
    "duration": 8,
    "start_time": "2022-06-07T22:34:58.595Z"
   },
   {
    "duration": 8,
    "start_time": "2022-06-07T22:34:58.604Z"
   },
   {
    "duration": 8,
    "start_time": "2022-06-07T22:34:58.614Z"
   },
   {
    "duration": 10,
    "start_time": "2022-06-07T22:34:58.623Z"
   },
   {
    "duration": 17,
    "start_time": "2022-06-07T22:34:58.635Z"
   },
   {
    "duration": 4,
    "start_time": "2022-06-07T22:34:58.653Z"
   },
   {
    "duration": 7,
    "start_time": "2022-06-07T22:34:58.659Z"
   },
   {
    "duration": 6,
    "start_time": "2022-06-07T22:34:58.668Z"
   },
   {
    "duration": 9,
    "start_time": "2022-06-07T22:34:58.675Z"
   },
   {
    "duration": 6,
    "start_time": "2022-06-07T22:34:58.686Z"
   },
   {
    "duration": 8,
    "start_time": "2022-06-07T22:34:58.693Z"
   },
   {
    "duration": 11,
    "start_time": "2022-06-07T22:34:58.702Z"
   },
   {
    "duration": 9,
    "start_time": "2022-06-07T22:34:58.715Z"
   },
   {
    "duration": 35,
    "start_time": "2022-06-07T22:34:58.726Z"
   },
   {
    "duration": 21,
    "start_time": "2022-06-07T22:34:58.762Z"
   },
   {
    "duration": 31,
    "start_time": "2022-06-07T22:34:58.785Z"
   },
   {
    "duration": 67,
    "start_time": "2022-06-07T22:34:58.817Z"
   },
   {
    "duration": 11,
    "start_time": "2022-06-07T22:34:58.885Z"
   },
   {
    "duration": 11,
    "start_time": "2022-06-07T22:34:58.898Z"
   },
   {
    "duration": 42,
    "start_time": "2022-06-07T22:34:58.911Z"
   },
   {
    "duration": 22,
    "start_time": "2022-06-07T22:34:58.954Z"
   },
   {
    "duration": 10,
    "start_time": "2022-06-07T22:34:58.978Z"
   },
   {
    "duration": 14,
    "start_time": "2022-06-07T22:34:58.989Z"
   },
   {
    "duration": 50,
    "start_time": "2022-06-07T22:34:59.004Z"
   },
   {
    "duration": 30,
    "start_time": "2022-06-07T22:34:59.056Z"
   },
   {
    "duration": 10,
    "start_time": "2022-06-07T22:34:59.087Z"
   },
   {
    "duration": 4,
    "start_time": "2022-06-07T22:34:59.099Z"
   },
   {
    "duration": 6,
    "start_time": "2022-06-07T22:34:59.104Z"
   },
   {
    "duration": 46,
    "start_time": "2022-06-07T22:34:59.111Z"
   },
   {
    "duration": 11,
    "start_time": "2022-06-07T22:34:59.158Z"
   },
   {
    "duration": 26,
    "start_time": "2022-06-07T22:34:59.170Z"
   },
   {
    "duration": 20,
    "start_time": "2022-06-07T22:34:59.197Z"
   },
   {
    "duration": 15,
    "start_time": "2022-06-07T22:34:59.218Z"
   },
   {
    "duration": 24,
    "start_time": "2022-06-07T22:34:59.234Z"
   },
   {
    "duration": 12,
    "start_time": "2022-06-07T22:34:59.260Z"
   },
   {
    "duration": 16,
    "start_time": "2022-06-07T22:34:59.274Z"
   },
   {
    "duration": 21,
    "start_time": "2022-06-07T22:34:59.292Z"
   },
   {
    "duration": 250,
    "start_time": "2022-06-07T22:34:59.314Z"
   },
   {
    "duration": 278,
    "start_time": "2022-06-07T22:34:59.566Z"
   },
   {
    "duration": 10,
    "start_time": "2022-06-07T22:34:59.851Z"
   },
   {
    "duration": 334,
    "start_time": "2022-06-07T22:34:59.863Z"
   },
   {
    "duration": 11,
    "start_time": "2022-06-07T22:35:00.198Z"
   },
   {
    "duration": 171,
    "start_time": "2022-06-07T22:35:00.210Z"
   },
   {
    "duration": 11,
    "start_time": "2022-06-07T22:35:00.383Z"
   },
   {
    "duration": 54,
    "start_time": "2022-06-07T22:35:00.396Z"
   },
   {
    "duration": 181,
    "start_time": "2022-06-07T22:35:00.451Z"
   },
   {
    "duration": 19,
    "start_time": "2022-06-07T22:35:00.634Z"
   },
   {
    "duration": 17,
    "start_time": "2022-06-07T22:35:00.654Z"
   },
   {
    "duration": 265,
    "start_time": "2022-06-07T22:35:00.673Z"
   },
   {
    "duration": 330,
    "start_time": "2022-06-07T22:35:00.940Z"
   },
   {
    "duration": 8,
    "start_time": "2022-06-07T22:35:01.275Z"
   },
   {
    "duration": 15,
    "start_time": "2022-06-07T22:35:01.285Z"
   },
   {
    "duration": 29,
    "start_time": "2022-06-07T22:35:01.301Z"
   },
   {
    "duration": 18,
    "start_time": "2022-06-07T22:35:01.331Z"
   },
   {
    "duration": 20,
    "start_time": "2022-06-07T22:35:01.350Z"
   },
   {
    "duration": 257,
    "start_time": "2022-06-07T22:35:01.371Z"
   },
   {
    "duration": 8,
    "start_time": "2022-06-07T22:35:01.629Z"
   },
   {
    "duration": 22,
    "start_time": "2022-06-07T22:35:01.639Z"
   },
   {
    "duration": 13,
    "start_time": "2022-06-07T22:35:01.663Z"
   },
   {
    "duration": 16,
    "start_time": "2022-06-07T22:35:01.677Z"
   },
   {
    "duration": 16,
    "start_time": "2022-06-07T22:35:01.694Z"
   },
   {
    "duration": 15,
    "start_time": "2022-06-07T22:35:01.711Z"
   },
   {
    "duration": 12,
    "start_time": "2022-06-07T22:35:01.728Z"
   },
   {
    "duration": 172,
    "start_time": "2022-06-07T22:35:01.741Z"
   },
   {
    "duration": 9,
    "start_time": "2022-06-07T22:35:01.915Z"
   },
   {
    "duration": 19,
    "start_time": "2022-06-07T22:35:01.926Z"
   },
   {
    "duration": 15,
    "start_time": "2022-06-07T22:35:01.947Z"
   },
   {
    "duration": 46,
    "start_time": "2022-06-07T22:35:01.964Z"
   },
   {
    "duration": 5,
    "start_time": "2022-06-07T22:35:02.012Z"
   },
   {
    "duration": 15,
    "start_time": "2022-06-07T22:35:02.018Z"
   },
   {
    "duration": 34,
    "start_time": "2022-06-07T22:35:02.034Z"
   },
   {
    "duration": 37,
    "start_time": "2022-06-07T22:35:02.069Z"
   },
   {
    "duration": 12,
    "start_time": "2022-06-07T22:35:02.108Z"
   },
   {
    "duration": 59,
    "start_time": "2022-06-07T22:35:02.121Z"
   },
   {
    "duration": 197,
    "start_time": "2022-06-07T22:35:02.182Z"
   },
   {
    "duration": 8,
    "start_time": "2022-06-07T22:35:02.381Z"
   },
   {
    "duration": 20,
    "start_time": "2022-06-07T22:35:02.391Z"
   },
   {
    "duration": 9,
    "start_time": "2022-06-07T22:35:02.412Z"
   },
   {
    "duration": 214,
    "start_time": "2022-06-07T22:35:02.422Z"
   },
   {
    "duration": 8,
    "start_time": "2022-06-07T22:35:26.989Z"
   },
   {
    "duration": 6,
    "start_time": "2022-06-07T22:35:38.120Z"
   },
   {
    "duration": 6,
    "start_time": "2022-06-07T22:36:50.579Z"
   },
   {
    "duration": 94,
    "start_time": "2022-06-07T22:37:03.783Z"
   },
   {
    "duration": 8,
    "start_time": "2022-06-07T22:37:17.080Z"
   },
   {
    "duration": 5,
    "start_time": "2022-06-07T22:53:40.236Z"
   },
   {
    "duration": 18,
    "start_time": "2022-06-07T22:53:51.381Z"
   },
   {
    "duration": 17,
    "start_time": "2022-06-07T22:54:05.424Z"
   },
   {
    "duration": 1071,
    "start_time": "2022-06-07T23:08:26.842Z"
   },
   {
    "duration": 5,
    "start_time": "2022-06-07T23:08:27.914Z"
   },
   {
    "duration": 375,
    "start_time": "2022-06-07T23:08:27.921Z"
   },
   {
    "duration": 20,
    "start_time": "2022-06-07T23:08:28.298Z"
   },
   {
    "duration": 162,
    "start_time": "2022-06-07T23:08:28.320Z"
   },
   {
    "duration": 21,
    "start_time": "2022-06-07T23:08:28.483Z"
   },
   {
    "duration": 16,
    "start_time": "2022-06-07T23:08:28.505Z"
   },
   {
    "duration": 33,
    "start_time": "2022-06-07T23:08:28.522Z"
   },
   {
    "duration": 11,
    "start_time": "2022-06-07T23:08:28.556Z"
   },
   {
    "duration": 8,
    "start_time": "2022-06-07T23:08:28.569Z"
   },
   {
    "duration": 254,
    "start_time": "2022-06-07T23:08:28.578Z"
   },
   {
    "duration": 41,
    "start_time": "2022-06-07T23:08:28.833Z"
   },
   {
    "duration": 13,
    "start_time": "2022-06-07T23:08:28.875Z"
   },
   {
    "duration": 10,
    "start_time": "2022-06-07T23:08:28.890Z"
   },
   {
    "duration": 18,
    "start_time": "2022-06-07T23:08:28.901Z"
   },
   {
    "duration": 38,
    "start_time": "2022-06-07T23:08:28.920Z"
   },
   {
    "duration": 34,
    "start_time": "2022-06-07T23:08:28.960Z"
   },
   {
    "duration": 10,
    "start_time": "2022-06-07T23:08:28.995Z"
   },
   {
    "duration": 119,
    "start_time": "2022-06-07T23:08:29.006Z"
   },
   {
    "duration": 12,
    "start_time": "2022-06-07T23:08:29.126Z"
   },
   {
    "duration": 18,
    "start_time": "2022-06-07T23:08:29.140Z"
   },
   {
    "duration": 9,
    "start_time": "2022-06-07T23:08:29.160Z"
   },
   {
    "duration": 16,
    "start_time": "2022-06-07T23:08:29.170Z"
   },
   {
    "duration": 7,
    "start_time": "2022-06-07T23:08:29.187Z"
   },
   {
    "duration": 101,
    "start_time": "2022-06-07T23:08:29.195Z"
   },
   {
    "duration": 9,
    "start_time": "2022-06-07T23:08:29.298Z"
   },
   {
    "duration": 15,
    "start_time": "2022-06-07T23:08:29.308Z"
   },
   {
    "duration": 46,
    "start_time": "2022-06-07T23:08:29.326Z"
   },
   {
    "duration": 9,
    "start_time": "2022-06-07T23:08:29.374Z"
   },
   {
    "duration": 8,
    "start_time": "2022-06-07T23:08:29.385Z"
   },
   {
    "duration": 11,
    "start_time": "2022-06-07T23:08:29.395Z"
   },
   {
    "duration": 7,
    "start_time": "2022-06-07T23:08:29.407Z"
   },
   {
    "duration": 37,
    "start_time": "2022-06-07T23:08:29.415Z"
   },
   {
    "duration": 6,
    "start_time": "2022-06-07T23:08:29.453Z"
   },
   {
    "duration": 6,
    "start_time": "2022-06-07T23:08:29.460Z"
   },
   {
    "duration": 11,
    "start_time": "2022-06-07T23:08:29.467Z"
   },
   {
    "duration": 6,
    "start_time": "2022-06-07T23:08:29.479Z"
   },
   {
    "duration": 7,
    "start_time": "2022-06-07T23:08:29.487Z"
   },
   {
    "duration": 7,
    "start_time": "2022-06-07T23:08:29.496Z"
   },
   {
    "duration": 8,
    "start_time": "2022-06-07T23:08:29.504Z"
   },
   {
    "duration": 16,
    "start_time": "2022-06-07T23:08:29.513Z"
   },
   {
    "duration": 22,
    "start_time": "2022-06-07T23:08:29.531Z"
   },
   {
    "duration": 11,
    "start_time": "2022-06-07T23:08:29.554Z"
   },
   {
    "duration": 12,
    "start_time": "2022-06-07T23:08:29.566Z"
   },
   {
    "duration": 13,
    "start_time": "2022-06-07T23:08:29.579Z"
   },
   {
    "duration": 13,
    "start_time": "2022-06-07T23:08:29.593Z"
   },
   {
    "duration": 31,
    "start_time": "2022-06-07T23:08:29.607Z"
   },
   {
    "duration": 36,
    "start_time": "2022-06-07T23:08:29.640Z"
   },
   {
    "duration": 59,
    "start_time": "2022-06-07T23:08:29.677Z"
   },
   {
    "duration": 24,
    "start_time": "2022-06-07T23:08:29.738Z"
   },
   {
    "duration": 13,
    "start_time": "2022-06-07T23:08:29.763Z"
   },
   {
    "duration": 21,
    "start_time": "2022-06-07T23:08:29.778Z"
   },
   {
    "duration": 52,
    "start_time": "2022-06-07T23:08:29.801Z"
   },
   {
    "duration": 10,
    "start_time": "2022-06-07T23:08:29.855Z"
   },
   {
    "duration": 21,
    "start_time": "2022-06-07T23:08:29.867Z"
   },
   {
    "duration": 27,
    "start_time": "2022-06-07T23:08:29.890Z"
   },
   {
    "duration": 52,
    "start_time": "2022-06-07T23:08:29.919Z"
   },
   {
    "duration": 13,
    "start_time": "2022-06-07T23:08:29.972Z"
   },
   {
    "duration": 4,
    "start_time": "2022-06-07T23:08:29.987Z"
   },
   {
    "duration": 7,
    "start_time": "2022-06-07T23:08:29.993Z"
   },
   {
    "duration": 30,
    "start_time": "2022-06-07T23:08:30.002Z"
   },
   {
    "duration": 21,
    "start_time": "2022-06-07T23:08:30.051Z"
   },
   {
    "duration": 10,
    "start_time": "2022-06-07T23:08:30.073Z"
   },
   {
    "duration": 11,
    "start_time": "2022-06-07T23:08:30.084Z"
   },
   {
    "duration": 15,
    "start_time": "2022-06-07T23:08:34.224Z"
   },
   {
    "duration": 2,
    "start_time": "2022-06-07T23:09:14.420Z"
   },
   {
    "duration": 16,
    "start_time": "2022-06-07T23:09:14.425Z"
   },
   {
    "duration": 15,
    "start_time": "2022-06-07T23:09:14.443Z"
   },
   {
    "duration": 16,
    "start_time": "2022-06-07T23:09:14.459Z"
   },
   {
    "duration": 21,
    "start_time": "2022-06-07T23:09:14.477Z"
   },
   {
    "duration": 262,
    "start_time": "2022-06-07T23:09:14.500Z"
   },
   {
    "duration": 271,
    "start_time": "2022-06-07T23:09:14.763Z"
   },
   {
    "duration": 16,
    "start_time": "2022-06-07T23:09:15.036Z"
   },
   {
    "duration": 380,
    "start_time": "2022-06-07T23:09:15.053Z"
   },
   {
    "duration": 17,
    "start_time": "2022-06-07T23:09:15.435Z"
   },
   {
    "duration": 161,
    "start_time": "2022-06-07T23:09:15.454Z"
   },
   {
    "duration": 11,
    "start_time": "2022-06-07T23:09:15.616Z"
   },
   {
    "duration": 28,
    "start_time": "2022-06-07T23:09:15.629Z"
   },
   {
    "duration": 186,
    "start_time": "2022-06-07T23:09:15.658Z"
   },
   {
    "duration": 15,
    "start_time": "2022-06-07T23:09:15.845Z"
   },
   {
    "duration": 14,
    "start_time": "2022-06-07T23:09:15.862Z"
   },
   {
    "duration": 277,
    "start_time": "2022-06-07T23:09:15.878Z"
   },
   {
    "duration": 310,
    "start_time": "2022-06-07T23:09:16.157Z"
   },
   {
    "duration": 8,
    "start_time": "2022-06-07T23:09:16.469Z"
   },
   {
    "duration": 9,
    "start_time": "2022-06-07T23:09:16.478Z"
   },
   {
    "duration": 9,
    "start_time": "2022-06-07T23:09:16.488Z"
   },
   {
    "duration": 10,
    "start_time": "2022-06-07T23:09:16.499Z"
   },
   {
    "duration": 11,
    "start_time": "2022-06-07T23:09:16.510Z"
   },
   {
    "duration": 273,
    "start_time": "2022-06-07T23:09:16.522Z"
   },
   {
    "duration": 8,
    "start_time": "2022-06-07T23:09:16.797Z"
   },
   {
    "duration": 11,
    "start_time": "2022-06-07T23:09:16.807Z"
   },
   {
    "duration": 10,
    "start_time": "2022-06-07T23:09:16.819Z"
   },
   {
    "duration": 26,
    "start_time": "2022-06-07T23:09:16.831Z"
   },
   {
    "duration": 12,
    "start_time": "2022-06-07T23:09:16.858Z"
   },
   {
    "duration": 14,
    "start_time": "2022-06-07T23:09:16.871Z"
   },
   {
    "duration": 15,
    "start_time": "2022-06-07T23:09:16.886Z"
   },
   {
    "duration": 151,
    "start_time": "2022-06-07T23:09:16.903Z"
   },
   {
    "duration": 8,
    "start_time": "2022-06-07T23:09:17.055Z"
   },
   {
    "duration": 19,
    "start_time": "2022-06-07T23:09:17.065Z"
   },
   {
    "duration": 20,
    "start_time": "2022-06-07T23:09:17.085Z"
   },
   {
    "duration": 50,
    "start_time": "2022-06-07T23:09:17.107Z"
   },
   {
    "duration": 6,
    "start_time": "2022-06-07T23:09:17.159Z"
   },
   {
    "duration": 9,
    "start_time": "2022-06-07T23:09:17.167Z"
   },
   {
    "duration": 28,
    "start_time": "2022-06-07T23:09:17.177Z"
   },
   {
    "duration": 24,
    "start_time": "2022-06-07T23:09:17.207Z"
   },
   {
    "duration": 16,
    "start_time": "2022-06-07T23:09:17.233Z"
   },
   {
    "duration": 33,
    "start_time": "2022-06-07T23:09:17.250Z"
   },
   {
    "duration": 185,
    "start_time": "2022-06-07T23:09:17.284Z"
   },
   {
    "duration": 9,
    "start_time": "2022-06-07T23:09:17.470Z"
   },
   {
    "duration": 20,
    "start_time": "2022-06-07T23:09:17.481Z"
   },
   {
    "duration": 12,
    "start_time": "2022-06-07T23:09:17.502Z"
   },
   {
    "duration": 199,
    "start_time": "2022-06-07T23:09:17.516Z"
   },
   {
    "duration": 28,
    "start_time": "2022-06-07T23:11:19.467Z"
   },
   {
    "duration": 34,
    "start_time": "2022-06-07T23:14:34.570Z"
   },
   {
    "duration": 25,
    "start_time": "2022-06-07T23:14:43.926Z"
   },
   {
    "duration": 229,
    "start_time": "2022-06-07T23:14:51.236Z"
   },
   {
    "duration": 319,
    "start_time": "2022-06-07T23:16:42.650Z"
   },
   {
    "duration": 203,
    "start_time": "2022-06-07T23:16:47.345Z"
   },
   {
    "duration": 159,
    "start_time": "2022-06-07T23:18:31.840Z"
   },
   {
    "duration": 139,
    "start_time": "2022-06-07T23:18:34.630Z"
   },
   {
    "duration": 30,
    "start_time": "2022-06-07T23:22:02.671Z"
   },
   {
    "duration": 3,
    "start_time": "2022-06-07T23:24:04.311Z"
   },
   {
    "duration": 16,
    "start_time": "2022-06-07T23:24:23.305Z"
   },
   {
    "duration": 22,
    "start_time": "2022-06-07T23:24:32.664Z"
   },
   {
    "duration": 2,
    "start_time": "2022-06-07T23:25:29.111Z"
   },
   {
    "duration": 3,
    "start_time": "2022-06-07T23:25:36.975Z"
   },
   {
    "duration": 2,
    "start_time": "2022-06-07T23:26:14.355Z"
   },
   {
    "duration": 14,
    "start_time": "2022-06-07T23:26:18.384Z"
   },
   {
    "duration": 11,
    "start_time": "2022-06-07T23:26:36.038Z"
   },
   {
    "duration": 13,
    "start_time": "2022-06-07T23:26:41.748Z"
   },
   {
    "duration": 133,
    "start_time": "2022-06-07T23:27:42.884Z"
   },
   {
    "duration": 138,
    "start_time": "2022-06-07T23:28:34.420Z"
   },
   {
    "duration": 132,
    "start_time": "2022-06-07T23:28:51.888Z"
   },
   {
    "duration": 2,
    "start_time": "2022-06-07T23:29:04.078Z"
   },
   {
    "duration": 12,
    "start_time": "2022-06-07T23:32:01.789Z"
   },
   {
    "duration": 415,
    "start_time": "2022-06-07T23:33:07.430Z"
   },
   {
    "duration": 1008,
    "start_time": "2022-06-07T23:33:40.618Z"
   },
   {
    "duration": 5,
    "start_time": "2022-06-07T23:33:41.628Z"
   },
   {
    "duration": 375,
    "start_time": "2022-06-07T23:33:41.634Z"
   },
   {
    "duration": 21,
    "start_time": "2022-06-07T23:33:42.011Z"
   },
   {
    "duration": 186,
    "start_time": "2022-06-07T23:33:42.033Z"
   },
   {
    "duration": 24,
    "start_time": "2022-06-07T23:33:42.220Z"
   },
   {
    "duration": 18,
    "start_time": "2022-06-07T23:33:42.251Z"
   },
   {
    "duration": 12,
    "start_time": "2022-06-07T23:33:42.270Z"
   },
   {
    "duration": 14,
    "start_time": "2022-06-07T23:33:42.284Z"
   },
   {
    "duration": 14,
    "start_time": "2022-06-07T23:33:42.300Z"
   },
   {
    "duration": 243,
    "start_time": "2022-06-07T23:33:42.315Z"
   },
   {
    "duration": 38,
    "start_time": "2022-06-07T23:33:42.559Z"
   },
   {
    "duration": 14,
    "start_time": "2022-06-07T23:33:42.599Z"
   },
   {
    "duration": 10,
    "start_time": "2022-06-07T23:33:42.615Z"
   },
   {
    "duration": 43,
    "start_time": "2022-06-07T23:33:42.626Z"
   },
   {
    "duration": 13,
    "start_time": "2022-06-07T23:33:42.671Z"
   },
   {
    "duration": 33,
    "start_time": "2022-06-07T23:33:42.685Z"
   },
   {
    "duration": 8,
    "start_time": "2022-06-07T23:33:42.720Z"
   },
   {
    "duration": 86,
    "start_time": "2022-06-07T23:33:42.752Z"
   },
   {
    "duration": 21,
    "start_time": "2022-06-07T23:33:42.840Z"
   },
   {
    "duration": 9,
    "start_time": "2022-06-07T23:33:42.863Z"
   },
   {
    "duration": 9,
    "start_time": "2022-06-07T23:33:42.873Z"
   },
   {
    "duration": 16,
    "start_time": "2022-06-07T23:33:42.883Z"
   },
   {
    "duration": 6,
    "start_time": "2022-06-07T23:33:42.901Z"
   },
   {
    "duration": 100,
    "start_time": "2022-06-07T23:33:42.909Z"
   },
   {
    "duration": 9,
    "start_time": "2022-06-07T23:33:43.011Z"
   },
   {
    "duration": 15,
    "start_time": "2022-06-07T23:33:43.021Z"
   },
   {
    "duration": 26,
    "start_time": "2022-06-07T23:33:43.053Z"
   },
   {
    "duration": 9,
    "start_time": "2022-06-07T23:33:43.080Z"
   },
   {
    "duration": 9,
    "start_time": "2022-06-07T23:33:43.090Z"
   },
   {
    "duration": 10,
    "start_time": "2022-06-07T23:33:43.101Z"
   },
   {
    "duration": 11,
    "start_time": "2022-06-07T23:33:43.113Z"
   },
   {
    "duration": 30,
    "start_time": "2022-06-07T23:33:43.126Z"
   },
   {
    "duration": 6,
    "start_time": "2022-06-07T23:33:43.157Z"
   },
   {
    "duration": 6,
    "start_time": "2022-06-07T23:33:43.164Z"
   },
   {
    "duration": 9,
    "start_time": "2022-06-07T23:33:43.171Z"
   },
   {
    "duration": 6,
    "start_time": "2022-06-07T23:33:43.181Z"
   },
   {
    "duration": 7,
    "start_time": "2022-06-07T23:33:43.188Z"
   },
   {
    "duration": 7,
    "start_time": "2022-06-07T23:33:43.196Z"
   },
   {
    "duration": 11,
    "start_time": "2022-06-07T23:33:43.204Z"
   },
   {
    "duration": 7,
    "start_time": "2022-06-07T23:33:43.216Z"
   },
   {
    "duration": 32,
    "start_time": "2022-06-07T23:33:43.224Z"
   },
   {
    "duration": 13,
    "start_time": "2022-06-07T23:33:43.258Z"
   },
   {
    "duration": 7,
    "start_time": "2022-06-07T23:33:43.272Z"
   },
   {
    "duration": 12,
    "start_time": "2022-06-07T23:33:43.281Z"
   },
   {
    "duration": 6,
    "start_time": "2022-06-07T23:33:43.295Z"
   },
   {
    "duration": 16,
    "start_time": "2022-06-07T23:33:43.302Z"
   },
   {
    "duration": 55,
    "start_time": "2022-06-07T23:33:43.320Z"
   },
   {
    "duration": 60,
    "start_time": "2022-06-07T23:33:43.376Z"
   },
   {
    "duration": 22,
    "start_time": "2022-06-07T23:33:43.438Z"
   },
   {
    "duration": 11,
    "start_time": "2022-06-07T23:33:43.462Z"
   },
   {
    "duration": 19,
    "start_time": "2022-06-07T23:33:43.475Z"
   },
   {
    "duration": 22,
    "start_time": "2022-06-07T23:33:43.496Z"
   },
   {
    "duration": 34,
    "start_time": "2022-06-07T23:33:43.519Z"
   },
   {
    "duration": 13,
    "start_time": "2022-06-07T23:33:43.555Z"
   },
   {
    "duration": 26,
    "start_time": "2022-06-07T23:33:43.569Z"
   },
   {
    "duration": 126,
    "start_time": "2022-06-07T23:33:43.596Z"
   },
   {
    "duration": 0,
    "start_time": "2022-06-07T23:33:43.725Z"
   },
   {
    "duration": 0,
    "start_time": "2022-06-07T23:33:43.726Z"
   },
   {
    "duration": 0,
    "start_time": "2022-06-07T23:33:43.727Z"
   },
   {
    "duration": 0,
    "start_time": "2022-06-07T23:33:43.728Z"
   },
   {
    "duration": 0,
    "start_time": "2022-06-07T23:33:43.729Z"
   },
   {
    "duration": 0,
    "start_time": "2022-06-07T23:33:43.730Z"
   },
   {
    "duration": 0,
    "start_time": "2022-06-07T23:33:43.731Z"
   },
   {
    "duration": 0,
    "start_time": "2022-06-07T23:33:43.731Z"
   },
   {
    "duration": 0,
    "start_time": "2022-06-07T23:33:43.732Z"
   },
   {
    "duration": 0,
    "start_time": "2022-06-07T23:33:43.733Z"
   },
   {
    "duration": 0,
    "start_time": "2022-06-07T23:33:43.751Z"
   },
   {
    "duration": 0,
    "start_time": "2022-06-07T23:33:43.752Z"
   },
   {
    "duration": 0,
    "start_time": "2022-06-07T23:33:43.753Z"
   },
   {
    "duration": 0,
    "start_time": "2022-06-07T23:33:43.754Z"
   },
   {
    "duration": 0,
    "start_time": "2022-06-07T23:33:43.756Z"
   },
   {
    "duration": 0,
    "start_time": "2022-06-07T23:33:43.757Z"
   },
   {
    "duration": 0,
    "start_time": "2022-06-07T23:33:43.757Z"
   },
   {
    "duration": 0,
    "start_time": "2022-06-07T23:33:43.758Z"
   },
   {
    "duration": 0,
    "start_time": "2022-06-07T23:33:43.759Z"
   },
   {
    "duration": 0,
    "start_time": "2022-06-07T23:33:43.760Z"
   },
   {
    "duration": 0,
    "start_time": "2022-06-07T23:33:43.761Z"
   },
   {
    "duration": 0,
    "start_time": "2022-06-07T23:33:43.761Z"
   },
   {
    "duration": 0,
    "start_time": "2022-06-07T23:33:43.762Z"
   },
   {
    "duration": 0,
    "start_time": "2022-06-07T23:33:43.763Z"
   },
   {
    "duration": 0,
    "start_time": "2022-06-07T23:33:43.764Z"
   },
   {
    "duration": 0,
    "start_time": "2022-06-07T23:33:43.765Z"
   },
   {
    "duration": 0,
    "start_time": "2022-06-07T23:33:43.765Z"
   },
   {
    "duration": 0,
    "start_time": "2022-06-07T23:33:43.766Z"
   },
   {
    "duration": 0,
    "start_time": "2022-06-07T23:33:43.767Z"
   },
   {
    "duration": 0,
    "start_time": "2022-06-07T23:33:43.768Z"
   },
   {
    "duration": 0,
    "start_time": "2022-06-07T23:33:43.769Z"
   },
   {
    "duration": 0,
    "start_time": "2022-06-07T23:33:43.770Z"
   },
   {
    "duration": 0,
    "start_time": "2022-06-07T23:33:43.771Z"
   },
   {
    "duration": 0,
    "start_time": "2022-06-07T23:33:43.772Z"
   },
   {
    "duration": 0,
    "start_time": "2022-06-07T23:33:43.773Z"
   },
   {
    "duration": 0,
    "start_time": "2022-06-07T23:33:43.774Z"
   },
   {
    "duration": 0,
    "start_time": "2022-06-07T23:33:43.775Z"
   },
   {
    "duration": 0,
    "start_time": "2022-06-07T23:33:43.776Z"
   },
   {
    "duration": 0,
    "start_time": "2022-06-07T23:33:43.777Z"
   },
   {
    "duration": 0,
    "start_time": "2022-06-07T23:33:43.778Z"
   },
   {
    "duration": 0,
    "start_time": "2022-06-07T23:33:43.779Z"
   },
   {
    "duration": 0,
    "start_time": "2022-06-07T23:33:43.780Z"
   },
   {
    "duration": 0,
    "start_time": "2022-06-07T23:33:43.781Z"
   },
   {
    "duration": 0,
    "start_time": "2022-06-07T23:33:43.782Z"
   },
   {
    "duration": 0,
    "start_time": "2022-06-07T23:33:43.782Z"
   },
   {
    "duration": 0,
    "start_time": "2022-06-07T23:33:43.784Z"
   },
   {
    "duration": 0,
    "start_time": "2022-06-07T23:33:43.784Z"
   },
   {
    "duration": 0,
    "start_time": "2022-06-07T23:33:43.785Z"
   },
   {
    "duration": 0,
    "start_time": "2022-06-07T23:33:43.786Z"
   },
   {
    "duration": 0,
    "start_time": "2022-06-07T23:33:43.787Z"
   },
   {
    "duration": 0,
    "start_time": "2022-06-07T23:33:43.852Z"
   },
   {
    "duration": 0,
    "start_time": "2022-06-07T23:33:43.853Z"
   },
   {
    "duration": 0,
    "start_time": "2022-06-07T23:33:43.854Z"
   },
   {
    "duration": 0,
    "start_time": "2022-06-07T23:33:43.855Z"
   },
   {
    "duration": 0,
    "start_time": "2022-06-07T23:33:43.856Z"
   },
   {
    "duration": 0,
    "start_time": "2022-06-07T23:33:43.857Z"
   },
   {
    "duration": 0,
    "start_time": "2022-06-07T23:33:43.858Z"
   },
   {
    "duration": 36,
    "start_time": "2022-06-07T23:36:32.493Z"
   },
   {
    "duration": 1093,
    "start_time": "2022-06-07T23:36:42.485Z"
   },
   {
    "duration": 4,
    "start_time": "2022-06-07T23:36:43.580Z"
   },
   {
    "duration": 653,
    "start_time": "2022-06-07T23:36:43.586Z"
   },
   {
    "duration": 22,
    "start_time": "2022-06-07T23:36:44.241Z"
   },
   {
    "duration": 169,
    "start_time": "2022-06-07T23:36:44.265Z"
   },
   {
    "duration": 28,
    "start_time": "2022-06-07T23:36:44.436Z"
   },
   {
    "duration": 16,
    "start_time": "2022-06-07T23:36:44.465Z"
   },
   {
    "duration": 11,
    "start_time": "2022-06-07T23:36:44.483Z"
   },
   {
    "duration": 11,
    "start_time": "2022-06-07T23:36:44.495Z"
   },
   {
    "duration": 9,
    "start_time": "2022-06-07T23:36:44.508Z"
   },
   {
    "duration": 220,
    "start_time": "2022-06-07T23:36:44.552Z"
   },
   {
    "duration": 39,
    "start_time": "2022-06-07T23:36:44.774Z"
   },
   {
    "duration": 13,
    "start_time": "2022-06-07T23:36:44.815Z"
   },
   {
    "duration": 27,
    "start_time": "2022-06-07T23:36:44.829Z"
   },
   {
    "duration": 17,
    "start_time": "2022-06-07T23:36:44.858Z"
   },
   {
    "duration": 14,
    "start_time": "2022-06-07T23:36:44.876Z"
   },
   {
    "duration": 83,
    "start_time": "2022-06-07T23:36:44.891Z"
   },
   {
    "duration": 10,
    "start_time": "2022-06-07T23:36:44.975Z"
   },
   {
    "duration": 209,
    "start_time": "2022-06-07T23:36:44.986Z"
   },
   {
    "duration": 65,
    "start_time": "2022-06-07T23:36:45.197Z"
   },
   {
    "duration": 10,
    "start_time": "2022-06-07T23:36:45.264Z"
   },
   {
    "duration": 9,
    "start_time": "2022-06-07T23:36:45.275Z"
   },
   {
    "duration": 16,
    "start_time": "2022-06-07T23:36:45.285Z"
   },
   {
    "duration": 7,
    "start_time": "2022-06-07T23:36:45.303Z"
   },
   {
    "duration": 136,
    "start_time": "2022-06-07T23:36:45.353Z"
   },
   {
    "duration": 62,
    "start_time": "2022-06-07T23:36:45.491Z"
   },
   {
    "duration": 15,
    "start_time": "2022-06-07T23:36:45.554Z"
   },
   {
    "duration": 80,
    "start_time": "2022-06-07T23:36:45.572Z"
   },
   {
    "duration": 9,
    "start_time": "2022-06-07T23:36:45.654Z"
   },
   {
    "duration": 10,
    "start_time": "2022-06-07T23:36:45.664Z"
   },
   {
    "duration": 10,
    "start_time": "2022-06-07T23:36:45.675Z"
   },
   {
    "duration": 7,
    "start_time": "2022-06-07T23:36:45.686Z"
   },
   {
    "duration": 59,
    "start_time": "2022-06-07T23:36:45.694Z"
   },
   {
    "duration": 6,
    "start_time": "2022-06-07T23:36:45.754Z"
   },
   {
    "duration": 6,
    "start_time": "2022-06-07T23:36:45.762Z"
   },
   {
    "duration": 8,
    "start_time": "2022-06-07T23:36:45.769Z"
   },
   {
    "duration": 7,
    "start_time": "2022-06-07T23:36:45.778Z"
   },
   {
    "duration": 10,
    "start_time": "2022-06-07T23:36:45.787Z"
   },
   {
    "duration": 5,
    "start_time": "2022-06-07T23:36:45.799Z"
   },
   {
    "duration": 47,
    "start_time": "2022-06-07T23:36:45.806Z"
   },
   {
    "duration": 4,
    "start_time": "2022-06-07T23:36:45.854Z"
   },
   {
    "duration": 9,
    "start_time": "2022-06-07T23:36:45.859Z"
   },
   {
    "duration": 15,
    "start_time": "2022-06-07T23:36:45.869Z"
   },
   {
    "duration": 8,
    "start_time": "2022-06-07T23:36:45.885Z"
   },
   {
    "duration": 12,
    "start_time": "2022-06-07T23:36:45.894Z"
   },
   {
    "duration": 9,
    "start_time": "2022-06-07T23:36:45.907Z"
   },
   {
    "duration": 19,
    "start_time": "2022-06-07T23:36:45.918Z"
   },
   {
    "duration": 30,
    "start_time": "2022-06-07T23:36:45.952Z"
   },
   {
    "duration": 69,
    "start_time": "2022-06-07T23:36:45.984Z"
   },
   {
    "duration": 11,
    "start_time": "2022-06-07T23:36:46.055Z"
   },
   {
    "duration": 20,
    "start_time": "2022-06-07T23:36:46.068Z"
   },
   {
    "duration": 20,
    "start_time": "2022-06-07T23:36:46.090Z"
   },
   {
    "duration": 48,
    "start_time": "2022-06-07T23:36:46.111Z"
   },
   {
    "duration": 9,
    "start_time": "2022-06-07T23:36:46.161Z"
   },
   {
    "duration": 15,
    "start_time": "2022-06-07T23:36:46.172Z"
   },
   {
    "duration": 25,
    "start_time": "2022-06-07T23:36:46.188Z"
   },
   {
    "duration": 53,
    "start_time": "2022-06-07T23:36:46.214Z"
   },
   {
    "duration": 2,
    "start_time": "2022-06-07T23:36:46.269Z"
   },
   {
    "duration": 6,
    "start_time": "2022-06-07T23:36:46.272Z"
   },
   {
    "duration": 5,
    "start_time": "2022-06-07T23:36:46.280Z"
   },
   {
    "duration": 18,
    "start_time": "2022-06-07T23:36:46.287Z"
   },
   {
    "duration": 22,
    "start_time": "2022-06-07T23:36:46.306Z"
   },
   {
    "duration": 2,
    "start_time": "2022-06-07T23:36:46.330Z"
   },
   {
    "duration": 12,
    "start_time": "2022-06-07T23:36:46.352Z"
   },
   {
    "duration": 14,
    "start_time": "2022-06-07T23:36:46.366Z"
   },
   {
    "duration": 2,
    "start_time": "2022-06-07T23:36:46.382Z"
   },
   {
    "duration": 13,
    "start_time": "2022-06-07T23:36:46.386Z"
   },
   {
    "duration": 10,
    "start_time": "2022-06-07T23:36:46.401Z"
   },
   {
    "duration": 21,
    "start_time": "2022-06-07T23:36:46.412Z"
   },
   {
    "duration": 37,
    "start_time": "2022-06-07T23:36:46.434Z"
   },
   {
    "duration": 231,
    "start_time": "2022-06-07T23:36:46.472Z"
   },
   {
    "duration": 288,
    "start_time": "2022-06-07T23:36:46.705Z"
   },
   {
    "duration": 12,
    "start_time": "2022-06-07T23:36:46.994Z"
   },
   {
    "duration": 225,
    "start_time": "2022-06-07T23:36:47.008Z"
   },
   {
    "duration": 214,
    "start_time": "2022-06-07T23:36:47.234Z"
   },
   {
    "duration": 10,
    "start_time": "2022-06-07T23:36:47.452Z"
   },
   {
    "duration": 137,
    "start_time": "2022-06-07T23:36:47.464Z"
   },
   {
    "duration": 137,
    "start_time": "2022-06-07T23:36:47.602Z"
   },
   {
    "duration": 16,
    "start_time": "2022-06-07T23:36:47.741Z"
   },
   {
    "duration": 18,
    "start_time": "2022-06-07T23:36:47.758Z"
   },
   {
    "duration": 201,
    "start_time": "2022-06-07T23:36:47.777Z"
   },
   {
    "duration": 9,
    "start_time": "2022-06-07T23:36:47.983Z"
   },
   {
    "duration": 13,
    "start_time": "2022-06-07T23:36:47.993Z"
   },
   {
    "duration": 340,
    "start_time": "2022-06-07T23:36:48.008Z"
   },
   {
    "duration": 222,
    "start_time": "2022-06-07T23:36:48.351Z"
   },
   {
    "duration": 8,
    "start_time": "2022-06-07T23:36:48.575Z"
   },
   {
    "duration": 13,
    "start_time": "2022-06-07T23:36:48.589Z"
   },
   {
    "duration": 9,
    "start_time": "2022-06-07T23:36:48.604Z"
   },
   {
    "duration": 9,
    "start_time": "2022-06-07T23:36:48.614Z"
   },
   {
    "duration": 28,
    "start_time": "2022-06-07T23:36:48.624Z"
   },
   {
    "duration": 241,
    "start_time": "2022-06-07T23:36:48.653Z"
   },
   {
    "duration": 8,
    "start_time": "2022-06-07T23:36:48.895Z"
   },
   {
    "duration": 12,
    "start_time": "2022-06-07T23:36:48.905Z"
   },
   {
    "duration": 10,
    "start_time": "2022-06-07T23:36:48.918Z"
   },
   {
    "duration": 23,
    "start_time": "2022-06-07T23:36:48.929Z"
   },
   {
    "duration": 7,
    "start_time": "2022-06-07T23:36:48.953Z"
   },
   {
    "duration": 11,
    "start_time": "2022-06-07T23:36:48.961Z"
   },
   {
    "duration": 14,
    "start_time": "2022-06-07T23:36:48.973Z"
   },
   {
    "duration": 120,
    "start_time": "2022-06-07T23:36:48.988Z"
   },
   {
    "duration": 0,
    "start_time": "2022-06-07T23:36:49.109Z"
   },
   {
    "duration": 0,
    "start_time": "2022-06-07T23:36:49.110Z"
   },
   {
    "duration": 0,
    "start_time": "2022-06-07T23:36:49.111Z"
   },
   {
    "duration": 0,
    "start_time": "2022-06-07T23:36:49.112Z"
   },
   {
    "duration": 0,
    "start_time": "2022-06-07T23:36:49.113Z"
   },
   {
    "duration": 0,
    "start_time": "2022-06-07T23:36:49.113Z"
   },
   {
    "duration": 0,
    "start_time": "2022-06-07T23:36:49.114Z"
   },
   {
    "duration": 0,
    "start_time": "2022-06-07T23:36:49.115Z"
   },
   {
    "duration": 0,
    "start_time": "2022-06-07T23:36:49.116Z"
   },
   {
    "duration": 0,
    "start_time": "2022-06-07T23:36:49.117Z"
   },
   {
    "duration": 0,
    "start_time": "2022-06-07T23:36:49.118Z"
   },
   {
    "duration": 0,
    "start_time": "2022-06-07T23:36:49.119Z"
   },
   {
    "duration": 0,
    "start_time": "2022-06-07T23:36:49.120Z"
   },
   {
    "duration": 0,
    "start_time": "2022-06-07T23:36:49.121Z"
   },
   {
    "duration": 0,
    "start_time": "2022-06-07T23:36:49.122Z"
   },
   {
    "duration": 217,
    "start_time": "2022-06-07T23:43:06.662Z"
   },
   {
    "duration": 224,
    "start_time": "2022-06-07T23:45:02.617Z"
   },
   {
    "duration": 147,
    "start_time": "2022-06-07T23:47:27.666Z"
   },
   {
    "duration": 149,
    "start_time": "2022-06-07T23:47:41.286Z"
   },
   {
    "duration": 34,
    "start_time": "2022-06-07T23:47:41.436Z"
   },
   {
    "duration": 0,
    "start_time": "2022-06-07T23:47:41.471Z"
   },
   {
    "duration": 0,
    "start_time": "2022-06-07T23:47:41.472Z"
   },
   {
    "duration": 0,
    "start_time": "2022-06-07T23:47:41.473Z"
   },
   {
    "duration": 0,
    "start_time": "2022-06-07T23:47:41.474Z"
   },
   {
    "duration": 0,
    "start_time": "2022-06-07T23:47:41.475Z"
   },
   {
    "duration": 1,
    "start_time": "2022-06-07T23:47:41.475Z"
   },
   {
    "duration": 0,
    "start_time": "2022-06-07T23:47:41.476Z"
   },
   {
    "duration": 0,
    "start_time": "2022-06-07T23:47:41.477Z"
   },
   {
    "duration": 0,
    "start_time": "2022-06-07T23:47:41.478Z"
   },
   {
    "duration": 0,
    "start_time": "2022-06-07T23:47:41.479Z"
   },
   {
    "duration": 0,
    "start_time": "2022-06-07T23:47:41.606Z"
   },
   {
    "duration": 0,
    "start_time": "2022-06-07T23:47:41.607Z"
   },
   {
    "duration": 0,
    "start_time": "2022-06-07T23:47:41.608Z"
   },
   {
    "duration": 0,
    "start_time": "2022-06-07T23:47:41.609Z"
   },
   {
    "duration": 9,
    "start_time": "2022-06-07T23:48:15.050Z"
   },
   {
    "duration": 8,
    "start_time": "2022-06-07T23:48:29.506Z"
   },
   {
    "duration": 34,
    "start_time": "2022-06-07T23:48:29.516Z"
   },
   {
    "duration": 0,
    "start_time": "2022-06-07T23:48:29.552Z"
   },
   {
    "duration": 0,
    "start_time": "2022-06-07T23:48:29.553Z"
   },
   {
    "duration": 0,
    "start_time": "2022-06-07T23:48:29.554Z"
   },
   {
    "duration": 0,
    "start_time": "2022-06-07T23:48:29.555Z"
   },
   {
    "duration": 0,
    "start_time": "2022-06-07T23:48:29.556Z"
   },
   {
    "duration": 10,
    "start_time": "2022-06-07T23:48:29.561Z"
   },
   {
    "duration": 12,
    "start_time": "2022-06-07T23:48:29.573Z"
   },
   {
    "duration": 6,
    "start_time": "2022-06-07T23:48:29.587Z"
   },
   {
    "duration": 239,
    "start_time": "2022-06-07T23:48:29.595Z"
   },
   {
    "duration": 11,
    "start_time": "2022-06-07T23:48:29.835Z"
   },
   {
    "duration": 5,
    "start_time": "2022-06-07T23:48:29.853Z"
   },
   {
    "duration": 5,
    "start_time": "2022-06-07T23:48:29.860Z"
   },
   {
    "duration": 225,
    "start_time": "2022-06-07T23:48:29.867Z"
   },
   {
    "duration": 9,
    "start_time": "2022-06-07T23:49:33.722Z"
   },
   {
    "duration": 9,
    "start_time": "2022-06-07T23:49:35.771Z"
   },
   {
    "duration": 9,
    "start_time": "2022-06-07T23:50:17.242Z"
   },
   {
    "duration": 9,
    "start_time": "2022-06-07T23:50:28.504Z"
   },
   {
    "duration": 12,
    "start_time": "2022-06-07T23:55:31.232Z"
   },
   {
    "duration": 9,
    "start_time": "2022-06-07T23:55:46.773Z"
   },
   {
    "duration": 8,
    "start_time": "2022-06-07T23:55:54.234Z"
   },
   {
    "duration": 7,
    "start_time": "2022-06-07T23:56:09.480Z"
   },
   {
    "duration": 1083,
    "start_time": "2022-06-08T00:00:56.045Z"
   },
   {
    "duration": 5,
    "start_time": "2022-06-08T00:00:57.130Z"
   },
   {
    "duration": 389,
    "start_time": "2022-06-08T00:00:57.137Z"
   },
   {
    "duration": 21,
    "start_time": "2022-06-08T00:00:57.527Z"
   },
   {
    "duration": 177,
    "start_time": "2022-06-08T00:00:57.549Z"
   },
   {
    "duration": 26,
    "start_time": "2022-06-08T00:00:57.728Z"
   },
   {
    "duration": 15,
    "start_time": "2022-06-08T00:00:57.755Z"
   },
   {
    "duration": 10,
    "start_time": "2022-06-08T00:00:57.772Z"
   },
   {
    "duration": 11,
    "start_time": "2022-06-08T00:00:57.783Z"
   },
   {
    "duration": 9,
    "start_time": "2022-06-08T00:00:57.796Z"
   },
   {
    "duration": 249,
    "start_time": "2022-06-08T00:00:57.807Z"
   },
   {
    "duration": 35,
    "start_time": "2022-06-08T00:00:58.057Z"
   },
   {
    "duration": 13,
    "start_time": "2022-06-08T00:00:58.094Z"
   },
   {
    "duration": 10,
    "start_time": "2022-06-08T00:00:58.109Z"
   },
   {
    "duration": 44,
    "start_time": "2022-06-08T00:00:58.120Z"
   },
   {
    "duration": 13,
    "start_time": "2022-06-08T00:00:58.166Z"
   },
   {
    "duration": 33,
    "start_time": "2022-06-08T00:00:58.181Z"
   },
   {
    "duration": 9,
    "start_time": "2022-06-08T00:00:58.216Z"
   },
   {
    "duration": 126,
    "start_time": "2022-06-08T00:00:58.226Z"
   },
   {
    "duration": 12,
    "start_time": "2022-06-08T00:00:58.353Z"
   },
   {
    "duration": 8,
    "start_time": "2022-06-08T00:00:58.366Z"
   },
   {
    "duration": 8,
    "start_time": "2022-06-08T00:00:58.375Z"
   },
   {
    "duration": 15,
    "start_time": "2022-06-08T00:00:58.385Z"
   },
   {
    "duration": 6,
    "start_time": "2022-06-08T00:00:58.401Z"
   },
   {
    "duration": 100,
    "start_time": "2022-06-08T00:00:58.409Z"
   },
   {
    "duration": 9,
    "start_time": "2022-06-08T00:00:58.511Z"
   },
   {
    "duration": 32,
    "start_time": "2022-06-08T00:00:58.522Z"
   },
   {
    "duration": 29,
    "start_time": "2022-06-08T00:00:58.558Z"
   },
   {
    "duration": 9,
    "start_time": "2022-06-08T00:00:58.589Z"
   },
   {
    "duration": 17,
    "start_time": "2022-06-08T00:00:58.599Z"
   },
   {
    "duration": 12,
    "start_time": "2022-06-08T00:00:58.617Z"
   },
   {
    "duration": 9,
    "start_time": "2022-06-08T00:00:58.631Z"
   },
   {
    "duration": 15,
    "start_time": "2022-06-08T00:00:58.641Z"
   },
   {
    "duration": 12,
    "start_time": "2022-06-08T00:00:58.658Z"
   },
   {
    "duration": 7,
    "start_time": "2022-06-08T00:00:58.672Z"
   },
   {
    "duration": 7,
    "start_time": "2022-06-08T00:00:58.681Z"
   },
   {
    "duration": 7,
    "start_time": "2022-06-08T00:00:58.689Z"
   },
   {
    "duration": 11,
    "start_time": "2022-06-08T00:00:58.697Z"
   },
   {
    "duration": 12,
    "start_time": "2022-06-08T00:00:58.710Z"
   },
   {
    "duration": 11,
    "start_time": "2022-06-08T00:00:58.724Z"
   },
   {
    "duration": 16,
    "start_time": "2022-06-08T00:00:58.736Z"
   },
   {
    "duration": 6,
    "start_time": "2022-06-08T00:00:58.754Z"
   },
   {
    "duration": 17,
    "start_time": "2022-06-08T00:00:58.761Z"
   },
   {
    "duration": 7,
    "start_time": "2022-06-08T00:00:58.779Z"
   },
   {
    "duration": 15,
    "start_time": "2022-06-08T00:00:58.787Z"
   },
   {
    "duration": 11,
    "start_time": "2022-06-08T00:00:58.803Z"
   },
   {
    "duration": 23,
    "start_time": "2022-06-08T00:00:58.815Z"
   },
   {
    "duration": 32,
    "start_time": "2022-06-08T00:00:58.853Z"
   },
   {
    "duration": 70,
    "start_time": "2022-06-08T00:00:58.886Z"
   },
   {
    "duration": 11,
    "start_time": "2022-06-08T00:00:58.958Z"
   },
   {
    "duration": 14,
    "start_time": "2022-06-08T00:00:58.970Z"
   },
   {
    "duration": 20,
    "start_time": "2022-06-08T00:00:58.985Z"
   },
   {
    "duration": 48,
    "start_time": "2022-06-08T00:00:59.006Z"
   },
   {
    "duration": 11,
    "start_time": "2022-06-08T00:00:59.055Z"
   },
   {
    "duration": 16,
    "start_time": "2022-06-08T00:00:59.067Z"
   },
   {
    "duration": 26,
    "start_time": "2022-06-08T00:00:59.084Z"
   },
   {
    "duration": 53,
    "start_time": "2022-06-08T00:00:59.112Z"
   },
   {
    "duration": 9,
    "start_time": "2022-06-08T00:00:59.167Z"
   },
   {
    "duration": 3,
    "start_time": "2022-06-08T00:00:59.178Z"
   },
   {
    "duration": 8,
    "start_time": "2022-06-08T00:00:59.183Z"
   },
   {
    "duration": 16,
    "start_time": "2022-06-08T00:00:59.192Z"
   },
   {
    "duration": 43,
    "start_time": "2022-06-08T00:00:59.209Z"
   },
   {
    "duration": 2,
    "start_time": "2022-06-08T00:00:59.254Z"
   },
   {
    "duration": 7,
    "start_time": "2022-06-08T00:00:59.257Z"
   },
   {
    "duration": 19,
    "start_time": "2022-06-08T00:00:59.265Z"
   },
   {
    "duration": 2,
    "start_time": "2022-06-08T00:00:59.286Z"
   },
   {
    "duration": 16,
    "start_time": "2022-06-08T00:00:59.289Z"
   },
   {
    "duration": 10,
    "start_time": "2022-06-08T00:00:59.306Z"
   },
   {
    "duration": 15,
    "start_time": "2022-06-08T00:00:59.318Z"
   },
   {
    "duration": 37,
    "start_time": "2022-06-08T00:00:59.335Z"
   },
   {
    "duration": 222,
    "start_time": "2022-06-08T00:00:59.373Z"
   },
   {
    "duration": 292,
    "start_time": "2022-06-08T00:00:59.597Z"
   },
   {
    "duration": 11,
    "start_time": "2022-06-08T00:00:59.890Z"
   },
   {
    "duration": 225,
    "start_time": "2022-06-08T00:00:59.902Z"
   },
   {
    "duration": 216,
    "start_time": "2022-06-08T00:01:00.129Z"
   },
   {
    "duration": 12,
    "start_time": "2022-06-08T00:01:00.351Z"
   },
   {
    "duration": 144,
    "start_time": "2022-06-08T00:01:00.364Z"
   },
   {
    "duration": 131,
    "start_time": "2022-06-08T00:01:00.509Z"
   },
   {
    "duration": 18,
    "start_time": "2022-06-08T00:01:00.642Z"
   },
   {
    "duration": 50,
    "start_time": "2022-06-08T00:01:00.662Z"
   },
   {
    "duration": 196,
    "start_time": "2022-06-08T00:01:00.713Z"
   },
   {
    "duration": 10,
    "start_time": "2022-06-08T00:01:00.914Z"
   },
   {
    "duration": 24,
    "start_time": "2022-06-08T00:01:00.925Z"
   },
   {
    "duration": 350,
    "start_time": "2022-06-08T00:01:00.951Z"
   },
   {
    "duration": 239,
    "start_time": "2022-06-08T00:01:01.303Z"
   },
   {
    "duration": 9,
    "start_time": "2022-06-08T00:01:01.544Z"
   },
   {
    "duration": 15,
    "start_time": "2022-06-08T00:01:01.555Z"
   },
   {
    "duration": 29,
    "start_time": "2022-06-08T00:01:01.572Z"
   },
   {
    "duration": 39,
    "start_time": "2022-06-08T00:01:01.603Z"
   },
   {
    "duration": 21,
    "start_time": "2022-06-08T00:01:01.643Z"
   },
   {
    "duration": 274,
    "start_time": "2022-06-08T00:01:01.665Z"
   },
   {
    "duration": 12,
    "start_time": "2022-06-08T00:01:01.941Z"
   },
   {
    "duration": 31,
    "start_time": "2022-06-08T00:01:01.954Z"
   },
   {
    "duration": 26,
    "start_time": "2022-06-08T00:01:01.986Z"
   },
   {
    "duration": 20,
    "start_time": "2022-06-08T00:01:02.014Z"
   },
   {
    "duration": 28,
    "start_time": "2022-06-08T00:01:02.035Z"
   },
   {
    "duration": 17,
    "start_time": "2022-06-08T00:01:02.064Z"
   },
   {
    "duration": 30,
    "start_time": "2022-06-08T00:01:02.083Z"
   },
   {
    "duration": 155,
    "start_time": "2022-06-08T00:01:02.114Z"
   },
   {
    "duration": 8,
    "start_time": "2022-06-08T00:01:02.270Z"
   },
   {
    "duration": 14,
    "start_time": "2022-06-08T00:01:02.279Z"
   },
   {
    "duration": 8,
    "start_time": "2022-06-08T00:01:02.294Z"
   },
   {
    "duration": 135,
    "start_time": "2022-06-08T00:01:02.304Z"
   },
   {
    "duration": 0,
    "start_time": "2022-06-08T00:01:02.441Z"
   },
   {
    "duration": 0,
    "start_time": "2022-06-08T00:01:02.442Z"
   },
   {
    "duration": 0,
    "start_time": "2022-06-08T00:01:02.443Z"
   },
   {
    "duration": 0,
    "start_time": "2022-06-08T00:01:02.444Z"
   },
   {
    "duration": 0,
    "start_time": "2022-06-08T00:01:02.445Z"
   },
   {
    "duration": 0,
    "start_time": "2022-06-08T00:01:02.445Z"
   },
   {
    "duration": 0,
    "start_time": "2022-06-08T00:01:02.446Z"
   },
   {
    "duration": 0,
    "start_time": "2022-06-08T00:01:02.452Z"
   },
   {
    "duration": 0,
    "start_time": "2022-06-08T00:01:02.453Z"
   },
   {
    "duration": 0,
    "start_time": "2022-06-08T00:01:02.454Z"
   },
   {
    "duration": 0,
    "start_time": "2022-06-08T00:01:02.455Z"
   },
   {
    "duration": 0,
    "start_time": "2022-06-08T00:01:02.456Z"
   },
   {
    "duration": 12,
    "start_time": "2022-06-08T00:07:18.908Z"
   },
   {
    "duration": 12,
    "start_time": "2022-06-08T00:07:27.075Z"
   },
   {
    "duration": 14,
    "start_time": "2022-06-08T00:07:27.088Z"
   },
   {
    "duration": 0,
    "start_time": "2022-06-08T00:07:27.104Z"
   },
   {
    "duration": 0,
    "start_time": "2022-06-08T00:07:27.105Z"
   },
   {
    "duration": 9,
    "start_time": "2022-06-08T00:07:27.107Z"
   },
   {
    "duration": 10,
    "start_time": "2022-06-08T00:07:27.130Z"
   },
   {
    "duration": 11,
    "start_time": "2022-06-08T00:07:27.142Z"
   },
   {
    "duration": 6,
    "start_time": "2022-06-08T00:07:27.155Z"
   },
   {
    "duration": 194,
    "start_time": "2022-06-08T00:07:27.163Z"
   },
   {
    "duration": 9,
    "start_time": "2022-06-08T00:07:27.359Z"
   },
   {
    "duration": 7,
    "start_time": "2022-06-08T00:07:27.370Z"
   },
   {
    "duration": 8,
    "start_time": "2022-06-08T00:07:27.378Z"
   },
   {
    "duration": 212,
    "start_time": "2022-06-08T00:07:27.387Z"
   },
   {
    "duration": 30,
    "start_time": "2022-06-08T00:08:04.740Z"
   },
   {
    "duration": 33,
    "start_time": "2022-06-08T00:08:20.066Z"
   },
   {
    "duration": 6,
    "start_time": "2022-06-08T00:08:20.101Z"
   },
   {
    "duration": 20,
    "start_time": "2022-06-08T00:08:20.109Z"
   },
   {
    "duration": 30,
    "start_time": "2022-06-08T00:08:20.131Z"
   },
   {
    "duration": 11,
    "start_time": "2022-06-08T00:08:20.163Z"
   },
   {
    "duration": 5,
    "start_time": "2022-06-08T00:08:20.177Z"
   },
   {
    "duration": 7,
    "start_time": "2022-06-08T00:08:20.184Z"
   },
   {
    "duration": 210,
    "start_time": "2022-06-08T00:08:20.193Z"
   },
   {
    "duration": 12,
    "start_time": "2022-06-08T00:08:20.405Z"
   },
   {
    "duration": 7,
    "start_time": "2022-06-08T00:08:20.421Z"
   },
   {
    "duration": 23,
    "start_time": "2022-06-08T00:08:20.430Z"
   },
   {
    "duration": 324,
    "start_time": "2022-06-08T00:08:20.454Z"
   },
   {
    "duration": 210,
    "start_time": "2022-06-08T00:27:36.216Z"
   },
   {
    "duration": 216,
    "start_time": "2022-06-08T00:28:18.672Z"
   },
   {
    "duration": 219,
    "start_time": "2022-06-08T00:29:20.246Z"
   },
   {
    "duration": 142,
    "start_time": "2022-06-08T00:31:24.338Z"
   },
   {
    "duration": 190,
    "start_time": "2022-06-08T00:31:54.748Z"
   },
   {
    "duration": 13,
    "start_time": "2022-06-09T05:55:46.312Z"
   },
   {
    "duration": 1512,
    "start_time": "2022-06-09T05:58:38.763Z"
   },
   {
    "duration": 4,
    "start_time": "2022-06-09T05:58:40.277Z"
   },
   {
    "duration": 969,
    "start_time": "2022-06-09T05:58:40.282Z"
   },
   {
    "duration": 31,
    "start_time": "2022-06-09T05:58:41.254Z"
   },
   {
    "duration": 220,
    "start_time": "2022-06-09T05:58:41.287Z"
   },
   {
    "duration": 33,
    "start_time": "2022-06-09T05:58:41.509Z"
   },
   {
    "duration": 30,
    "start_time": "2022-06-09T05:58:41.544Z"
   },
   {
    "duration": 12,
    "start_time": "2022-06-09T05:58:41.576Z"
   },
   {
    "duration": 23,
    "start_time": "2022-06-09T05:58:41.589Z"
   },
   {
    "duration": 16,
    "start_time": "2022-06-09T05:58:41.615Z"
   },
   {
    "duration": 301,
    "start_time": "2022-06-09T05:58:41.633Z"
   },
   {
    "duration": 41,
    "start_time": "2022-06-09T05:58:41.936Z"
   },
   {
    "duration": 15,
    "start_time": "2022-06-09T05:58:41.979Z"
   },
   {
    "duration": 37,
    "start_time": "2022-06-09T05:58:41.996Z"
   },
   {
    "duration": 28,
    "start_time": "2022-06-09T05:58:42.035Z"
   },
   {
    "duration": 16,
    "start_time": "2022-06-09T05:58:42.064Z"
   },
   {
    "duration": 63,
    "start_time": "2022-06-09T05:58:42.082Z"
   },
   {
    "duration": 9,
    "start_time": "2022-06-09T05:58:42.147Z"
   },
   {
    "duration": 122,
    "start_time": "2022-06-09T05:58:42.157Z"
   },
   {
    "duration": 12,
    "start_time": "2022-06-09T05:58:42.280Z"
   },
   {
    "duration": 17,
    "start_time": "2022-06-09T05:58:42.293Z"
   },
   {
    "duration": 20,
    "start_time": "2022-06-09T05:58:42.311Z"
   },
   {
    "duration": 79,
    "start_time": "2022-06-09T05:58:42.332Z"
   },
   {
    "duration": 10,
    "start_time": "2022-06-09T05:58:42.413Z"
   },
   {
    "duration": 86,
    "start_time": "2022-06-09T05:58:42.425Z"
   },
   {
    "duration": 14,
    "start_time": "2022-06-09T05:58:42.513Z"
   },
   {
    "duration": 18,
    "start_time": "2022-06-09T05:58:42.529Z"
   },
   {
    "duration": 35,
    "start_time": "2022-06-09T05:58:42.551Z"
   },
   {
    "duration": 11,
    "start_time": "2022-06-09T05:58:42.588Z"
   },
   {
    "duration": 31,
    "start_time": "2022-06-09T05:58:42.600Z"
   },
   {
    "duration": 27,
    "start_time": "2022-06-09T05:58:42.632Z"
   },
   {
    "duration": 15,
    "start_time": "2022-06-09T05:58:42.661Z"
   },
   {
    "duration": 11,
    "start_time": "2022-06-09T05:58:42.678Z"
   },
   {
    "duration": 18,
    "start_time": "2022-06-09T05:58:42.690Z"
   },
   {
    "duration": 43,
    "start_time": "2022-06-09T05:58:42.709Z"
   },
   {
    "duration": 13,
    "start_time": "2022-06-09T05:58:42.754Z"
   },
   {
    "duration": 16,
    "start_time": "2022-06-09T05:58:42.769Z"
   },
   {
    "duration": 20,
    "start_time": "2022-06-09T05:58:42.786Z"
   },
   {
    "duration": 15,
    "start_time": "2022-06-09T05:58:42.807Z"
   },
   {
    "duration": 9,
    "start_time": "2022-06-09T05:58:42.824Z"
   },
   {
    "duration": 11,
    "start_time": "2022-06-09T05:58:42.834Z"
   },
   {
    "duration": 9,
    "start_time": "2022-06-09T05:58:42.847Z"
   },
   {
    "duration": 14,
    "start_time": "2022-06-09T05:58:42.858Z"
   },
   {
    "duration": 23,
    "start_time": "2022-06-09T05:58:42.874Z"
   },
   {
    "duration": 22,
    "start_time": "2022-06-09T05:58:42.899Z"
   },
   {
    "duration": 34,
    "start_time": "2022-06-09T05:58:42.922Z"
   },
   {
    "duration": 47,
    "start_time": "2022-06-09T05:58:42.958Z"
   },
   {
    "duration": 33,
    "start_time": "2022-06-09T05:58:43.007Z"
   },
   {
    "duration": 58,
    "start_time": "2022-06-09T05:58:43.042Z"
   },
   {
    "duration": 25,
    "start_time": "2022-06-09T05:58:43.102Z"
   },
   {
    "duration": 14,
    "start_time": "2022-06-09T05:58:43.128Z"
   },
   {
    "duration": 21,
    "start_time": "2022-06-09T05:58:43.144Z"
   },
   {
    "duration": 24,
    "start_time": "2022-06-09T05:58:43.167Z"
   },
   {
    "duration": 37,
    "start_time": "2022-06-09T05:58:43.193Z"
   },
   {
    "duration": 23,
    "start_time": "2022-06-09T05:58:43.231Z"
   },
   {
    "duration": 37,
    "start_time": "2022-06-09T05:58:43.256Z"
   },
   {
    "duration": 37,
    "start_time": "2022-06-09T05:58:43.295Z"
   },
   {
    "duration": 10,
    "start_time": "2022-06-09T05:58:43.334Z"
   },
   {
    "duration": 10,
    "start_time": "2022-06-09T05:58:43.345Z"
   },
   {
    "duration": 10,
    "start_time": "2022-06-09T05:58:43.357Z"
   },
   {
    "duration": 4,
    "start_time": "2022-06-09T05:59:43.523Z"
   },
   {
    "duration": 96,
    "start_time": "2022-06-09T06:04:08.987Z"
   },
   {
    "duration": 5,
    "start_time": "2022-06-09T06:04:13.311Z"
   },
   {
    "duration": 15,
    "start_time": "2022-06-09T06:04:13.318Z"
   },
   {
    "duration": 489,
    "start_time": "2022-06-09T06:04:13.336Z"
   },
   {
    "duration": 30,
    "start_time": "2022-06-09T06:04:13.826Z"
   },
   {
    "duration": 238,
    "start_time": "2022-06-09T06:04:13.859Z"
   },
   {
    "duration": 34,
    "start_time": "2022-06-09T06:04:14.099Z"
   },
   {
    "duration": 61,
    "start_time": "2022-06-09T06:04:14.135Z"
   },
   {
    "duration": 58,
    "start_time": "2022-06-09T06:04:14.198Z"
   },
   {
    "duration": 46,
    "start_time": "2022-06-09T06:04:14.258Z"
   },
   {
    "duration": 45,
    "start_time": "2022-06-09T06:04:14.306Z"
   },
   {
    "duration": 345,
    "start_time": "2022-06-09T06:04:14.354Z"
   },
   {
    "duration": 45,
    "start_time": "2022-06-09T06:04:14.701Z"
   },
   {
    "duration": 16,
    "start_time": "2022-06-09T06:04:14.747Z"
   },
   {
    "duration": 12,
    "start_time": "2022-06-09T06:04:14.765Z"
   },
   {
    "duration": 46,
    "start_time": "2022-06-09T06:04:14.780Z"
   },
   {
    "duration": 25,
    "start_time": "2022-06-09T06:04:14.828Z"
   },
   {
    "duration": 52,
    "start_time": "2022-06-09T06:04:14.855Z"
   },
   {
    "duration": 12,
    "start_time": "2022-06-09T06:04:14.926Z"
   },
   {
    "duration": 147,
    "start_time": "2022-06-09T06:04:14.940Z"
   },
   {
    "duration": 16,
    "start_time": "2022-06-09T06:04:15.089Z"
   },
   {
    "duration": 29,
    "start_time": "2022-06-09T06:04:15.108Z"
   },
   {
    "duration": 26,
    "start_time": "2022-06-09T06:04:15.139Z"
   },
   {
    "duration": 44,
    "start_time": "2022-06-09T06:04:15.167Z"
   },
   {
    "duration": 15,
    "start_time": "2022-06-09T06:04:15.213Z"
   },
   {
    "duration": 150,
    "start_time": "2022-06-09T06:04:15.230Z"
   },
   {
    "duration": 14,
    "start_time": "2022-06-09T06:04:15.382Z"
   },
   {
    "duration": 76,
    "start_time": "2022-06-09T06:04:15.397Z"
   },
   {
    "duration": 49,
    "start_time": "2022-06-09T06:04:15.475Z"
   },
   {
    "duration": 11,
    "start_time": "2022-06-09T06:04:15.530Z"
   },
   {
    "duration": 36,
    "start_time": "2022-06-09T06:04:15.543Z"
   },
   {
    "duration": 25,
    "start_time": "2022-06-09T06:04:15.581Z"
   },
   {
    "duration": 26,
    "start_time": "2022-06-09T06:04:15.608Z"
   },
   {
    "duration": 48,
    "start_time": "2022-06-09T06:04:15.636Z"
   },
   {
    "duration": 19,
    "start_time": "2022-06-09T06:04:15.686Z"
   },
   {
    "duration": 35,
    "start_time": "2022-06-09T06:04:15.707Z"
   },
   {
    "duration": 24,
    "start_time": "2022-06-09T06:04:15.744Z"
   },
   {
    "duration": 19,
    "start_time": "2022-06-09T06:04:15.769Z"
   },
   {
    "duration": 28,
    "start_time": "2022-06-09T06:04:15.789Z"
   },
   {
    "duration": 25,
    "start_time": "2022-06-09T06:04:15.819Z"
   },
   {
    "duration": 24,
    "start_time": "2022-06-09T06:04:15.846Z"
   },
   {
    "duration": 31,
    "start_time": "2022-06-09T06:04:15.871Z"
   },
   {
    "duration": 32,
    "start_time": "2022-06-09T06:04:15.904Z"
   },
   {
    "duration": 46,
    "start_time": "2022-06-09T06:04:15.938Z"
   },
   {
    "duration": 30,
    "start_time": "2022-06-09T06:04:15.986Z"
   },
   {
    "duration": 37,
    "start_time": "2022-06-09T06:04:16.017Z"
   },
   {
    "duration": 32,
    "start_time": "2022-06-09T06:04:16.056Z"
   },
   {
    "duration": 41,
    "start_time": "2022-06-09T06:04:16.090Z"
   },
   {
    "duration": 46,
    "start_time": "2022-06-09T06:04:16.132Z"
   },
   {
    "duration": 84,
    "start_time": "2022-06-09T06:04:16.179Z"
   },
   {
    "duration": 13,
    "start_time": "2022-06-09T06:04:16.264Z"
   },
   {
    "duration": 22,
    "start_time": "2022-06-09T06:04:16.278Z"
   },
   {
    "duration": 30,
    "start_time": "2022-06-09T06:04:16.301Z"
   },
   {
    "duration": 24,
    "start_time": "2022-06-09T06:04:16.333Z"
   },
   {
    "duration": 11,
    "start_time": "2022-06-09T06:04:16.358Z"
   },
   {
    "duration": 30,
    "start_time": "2022-06-09T06:04:16.372Z"
   },
   {
    "duration": 46,
    "start_time": "2022-06-09T06:04:16.404Z"
   },
   {
    "duration": 32,
    "start_time": "2022-06-09T06:04:16.452Z"
   },
   {
    "duration": 10,
    "start_time": "2022-06-09T06:04:16.486Z"
   },
   {
    "duration": 29,
    "start_time": "2022-06-09T06:04:16.498Z"
   },
   {
    "duration": 4,
    "start_time": "2022-06-09T06:04:16.529Z"
   },
   {
    "duration": 20,
    "start_time": "2022-06-09T06:04:16.535Z"
   },
   {
    "duration": 96,
    "start_time": "2022-06-09T06:04:16.557Z"
   },
   {
    "duration": 43,
    "start_time": "2022-06-09T06:04:16.654Z"
   },
   {
    "duration": 17,
    "start_time": "2022-06-09T06:04:16.699Z"
   },
   {
    "duration": 49,
    "start_time": "2022-06-09T06:04:16.718Z"
   },
   {
    "duration": 33,
    "start_time": "2022-06-09T06:04:16.768Z"
   },
   {
    "duration": 18,
    "start_time": "2022-06-09T06:04:16.803Z"
   },
   {
    "duration": 73,
    "start_time": "2022-06-09T06:04:16.823Z"
   },
   {
    "duration": 27,
    "start_time": "2022-06-09T06:04:16.898Z"
   },
   {
    "duration": 48,
    "start_time": "2022-06-09T06:04:16.927Z"
   },
   {
    "duration": 52,
    "start_time": "2022-06-09T06:04:16.977Z"
   },
   {
    "duration": 487,
    "start_time": "2022-06-09T06:04:17.031Z"
   },
   {
    "duration": 246,
    "start_time": "2022-06-09T06:04:17.520Z"
   },
   {
    "duration": 12,
    "start_time": "2022-06-09T06:04:17.767Z"
   },
   {
    "duration": 258,
    "start_time": "2022-06-09T06:04:17.781Z"
   },
   {
    "duration": 265,
    "start_time": "2022-06-09T06:04:18.041Z"
   },
   {
    "duration": 22,
    "start_time": "2022-06-09T06:04:18.308Z"
   },
   {
    "duration": 209,
    "start_time": "2022-06-09T06:04:18.332Z"
   },
   {
    "duration": 243,
    "start_time": "2022-06-09T06:04:18.543Z"
   },
   {
    "duration": 13,
    "start_time": "2022-06-09T06:04:18.789Z"
   },
   {
    "duration": 63,
    "start_time": "2022-06-09T06:04:18.804Z"
   },
   {
    "duration": 26,
    "start_time": "2022-06-09T06:04:22.942Z"
   }
  ],
  "colab": {
   "name": "6. Определение перспективного тарифа для телеком-компании (264b0e52-ee53-4b12-a9e0-a2024247e860).ipynb",
   "provenance": [],
   "toc_visible": true
  },
  "kernelspec": {
   "display_name": "Python 3 (ipykernel)",
   "language": "python",
   "name": "python3"
  },
  "language_info": {
   "codemirror_mode": {
    "name": "ipython",
    "version": 3
   },
   "file_extension": ".py",
   "mimetype": "text/x-python",
   "name": "python",
   "nbconvert_exporter": "python",
   "pygments_lexer": "ipython3",
   "version": "3.9.7"
  },
  "toc": {
   "base_numbering": 1,
   "nav_menu": {},
   "number_sections": true,
   "sideBar": true,
   "skip_h1_title": true,
   "title_cell": "Содержание",
   "title_sidebar": "Contents",
   "toc_cell": true,
   "toc_position": {
    "height": "calc(100% - 180px)",
    "left": "10px",
    "top": "150px",
    "width": "286px"
   },
   "toc_section_display": true,
   "toc_window_display": true
  }
 },
 "nbformat": 4,
 "nbformat_minor": 1
}
